{
 "cells": [
  {
   "cell_type": "code",
   "execution_count": 1,
   "metadata": {},
   "outputs": [],
   "source": [
    "import os\n",
    "# Local Imports\n",
    "from src.seg2map import map_interface\n",
    "from src.seg2map import log_maker #must be the first module loaded to create logs folder\n",
    "i\n",
    "# External Imports\n",
    "import ee\n",
    "from google.auth import exceptions as google_auth_exceptions\n",
    "\n",
    "# suppress tensorflow warnings\n",
    "os.environ['TF_CPP_MIN_LOG_LEVEL'] = '3'"
   ]
  },
  {
   "cell_type": "markdown",
   "metadata": {},
   "source": [
    "## Authenticate and Initialize with Google Earth Engine (GEE)\n",
    "\n",
    "- Run this cell to initialize with GEE which will allow you to download remote sensing data from GEE.\n",
    "\n",
    "### First Time Users\n",
    "\n",
    "- In order to use Google Earth Engine (GEE) you will need to sign up to request access to use Google Earth Engine.https://signup.earthengine.google.com. You will only need to do this once and it takes only a day to get your account verified.\n",
    "\n",
    "### How `ee.Authenticate()` works\n",
    "\n",
    "- In order to initialize with GEE you will need an authorization token with is obtained by running `ee.Authenticate()`.This token lasts 7 days and during those 7 days you will not need to authenticate with google earth engine with an access code. Once the 7 days are up you will need to reauthenticate to use GEE again.\n"
   ]
  },
  {
   "cell_type": "code",
   "execution_count": 2,
   "metadata": {},
   "outputs": [],
   "source": [
    "try:\n",
    "    ee.Initialize()\n",
    "except google_auth_exceptions.RefreshError as exception:\n",
    "    print(\"Please authenticate with Google:\\n\")\n",
    "    ee.Authenticate()\n",
    "    ee.Initialize()"
   ]
  },
  {
   "cell_type": "markdown",
   "metadata": {},
   "source": [
    "# How to Use The Map\n",
    "\n",
    "---\n",
    "1.  Click `Save Settings` Button\n",
    "1. Use the rectangle tool to draw a bounding box along the coastline.\n",
    "2. Click `Generate ROI` to create ROI rectangles along the coastline in the bounding box. This may take some time.\n",
    "- You should see a coastline appear in yellow and some rectangles along it.\n",
    "3. Load transects into your bounding box with the `Load Transects` button. If any exist for the bounding box you selected they should appear.\n",
    "4. Click the ROIs you want to download.\n",
    "5. Once you've selected all the ROIs you want to download click `Downlod Imagery`\n",
    " - If any of the ROIs succesfully download they will have their own folder with all their data in the `data` directory in the `CoastSeg` directory\n",
    "6. To extract a timeseries of shorelines for the ROIs you downloaded click `Extract Shorelines`\n",
    "7. If any shorelines were extracted you can compute the cross distances along the transects and shoreline by clicking `Compute Transects` and save the output to a json file in the roi directory\n",
    "8. If any shorelines were extracted you can compute the cross distances along the transects and shoreline by clicking `Save Transects CSV`  and save the output to a csv in the roi directory"
   ]
  },
  {
   "cell_type": "code",
   "execution_count": 2,
   "metadata": {},
   "outputs": [
    {
     "data": {
      "application/vnd.jupyter.widget-view+json": {
       "model_id": "73fdea69039d46eda288f1071e579458",
       "version_major": 2,
       "version_minor": 0
      },
      "text/plain": [
       "HBox(children=(Accordion(children=(VBox(children=(VBox(children=(HTML(value='<b>Pick a date:</b>', layout=Layo…"
      ]
     },
     "metadata": {},
     "output_type": "display_data"
    },
    {
     "data": {
      "application/vnd.jupyter.widget-view+json": {
       "model_id": "f64f3dac82a140428a6485dffe2b84f9",
       "version_major": 2,
       "version_minor": 0
      },
      "text/plain": [
       "HBox(children=(VBox(children=(VBox(children=(HTML(value='<h2>Save to file</h2>                Save feature on …"
      ]
     },
     "metadata": {},
     "output_type": "display_data"
    },
    {
     "data": {
      "application/vnd.jupyter.widget-view+json": {
       "model_id": "b913b16c1bb1475a9e88d495437a3342",
       "version_major": 2,
       "version_minor": 0
      },
      "text/plain": [
       "HBox(children=(Button(description='Clear TextBox', style=ButtonStyle(button_color='#a3adac')), Output(layout=L…"
      ]
     },
     "metadata": {},
     "output_type": "display_data"
    },
    {
     "data": {
      "application/vnd.jupyter.widget-view+json": {
       "model_id": "1958880dd54b44e69759bbdd7303f634",
       "version_major": 2,
       "version_minor": 0
      },
      "text/plain": [
       "HBox()"
      ]
     },
     "metadata": {},
     "output_type": "display_data"
    },
    {
     "data": {
      "application/vnd.jupyter.widget-view+json": {
       "model_id": "6fbe3b06414946aabe4fadfa802c3496",
       "version_major": 2,
       "version_minor": 0
      },
      "text/plain": [
       "HBox()"
      ]
     },
     "metadata": {},
     "output_type": "display_data"
    },
    {
     "data": {
      "application/vnd.jupyter.widget-view+json": {
       "model_id": "0d843e37de7c4bcb91a5c152d901f495",
       "version_major": 2,
       "version_minor": 0
      },
      "text/plain": [
       "HBox(children=(Map(center=[40.8630302395, -124.166267], controls=(AttributionControl(options=['position', 'pre…"
      ]
     },
     "metadata": {},
     "output_type": "display_data"
    },
    {
     "data": {
      "application/vnd.jupyter.widget-view+json": {
       "model_id": "f4a3d0487bab4c9ab91ba19fd4f8777d",
       "version_major": 2,
       "version_minor": 0
      },
      "text/plain": [
       "HBox(children=(Output(layout=Layout(border_bottom='1px solid black', border_left='1px solid black', border_rig…"
      ]
     },
     "metadata": {},
     "output_type": "display_data"
    }
   ],
   "source": [
    "# from coastseg.map_UI import UI\n",
    "from src.seg2map.map_UI import UI\n",
    "from src.seg2map.map_interface import CoastSeg_Map\n",
    "\n",
    "coastsegmap=CoastSeg_Map()\n",
    "coastseg_ui = UI(coastsegmap)\n",
    "coastseg_ui.create_dashboard()"
   ]
  },
  {
   "cell_type": "code",
   "execution_count": null,
   "metadata": {},
   "outputs": [],
   "source": [
    "from ipyleaflet import Map, basemaps, basemap_to_tiles, DrawControl\n",
    "\n",
    "watercolor = basemap_to_tiles(basemaps.Stamen.Watercolor)\n",
    "\n",
    "m = Map(layers=(watercolor, ), center=(50, 354), zoom=5)\n",
    "\n",
    "draw_control = DrawControl()\n",
    "draw_control.polyline =  {\n",
    "    \"shapeOptions\": {\n",
    "        \"color\": \"#6bc2e5\",\n",
    "        \"weight\": 8,\n",
    "        \"opacity\": 1.0\n",
    "    }\n",
    "}\n",
    "draw_control.polygon = {\n",
    "    \"shapeOptions\": {\n",
    "        \"fillColor\": \"#6be5c3\",\n",
    "        \"color\": \"#6be5c3\",\n",
    "        \"fillOpacity\": 1.0\n",
    "    },\n",
    "    \"drawError\": {\n",
    "        \"color\": \"#dd253b\",\n",
    "        \"message\": \"Oups!\"\n",
    "    },\n",
    "    \"allowIntersection\": False\n",
    "}\n",
    "draw_control.circle = {\n",
    "    \"shapeOptions\": {\n",
    "        \"fillColor\": \"#efed69\",\n",
    "        \"color\": \"#efed69\",\n",
    "        \"fillOpacity\": 1.0\n",
    "    }\n",
    "}\n",
    "draw_control.rectangle = {\n",
    "    \"shapeOptions\": {\n",
    "        \"fillColor\": \"#fca45d\",\n",
    "        \"color\": \"#fca45d\",\n",
    "        \"fillOpacity\": 1.0\n",
    "    }\n",
    "}\n",
    "\n",
    "m.add_control(draw_control)\n",
    "\n",
    "m"
   ]
  },
  {
   "cell_type": "code",
   "execution_count": 6,
   "metadata": {},
   "outputs": [
    {
     "name": "stdout",
     "output_type": "stream",
     "text": [
      "GeoJSON(data={'type': 'FeatureCollection', 'features': [{'id': '0', 'type': 'Feature', 'properties': {'id': '1', 'style': {'color': '#555555', 'fill_color': '#555555', 'fillOpacity': 0.1, 'weight': 1}}, 'geometry': {'type': 'Polygon', 'coordinates': [[[-124.166621, 40.871052], [-124.166621, 40.894933], [-124.142247, 40.894933], [-124.142247, 40.871052], [-124.166621, 40.871052]]]}}, {'id': '1', 'type': 'Feature', 'properties': {'id': '2', 'style': {'color': '#555555', 'fill_color': '#555555', 'fillOpacity': 0.1, 'weight': 1}}, 'geometry': {'type': 'Polygon', 'coordinates': [[[-124.164718, 40.951685], [-124.164718, 41.016997], [-124.028772, 41.016997], [-124.028772, 40.951685], [-124.164718, 40.951685]]]}}, {'id': '2', 'type': 'Feature', 'properties': {'id': '3', 'style': {'color': '#555555', 'fill_color': '#555555', 'fillOpacity': 0.1, 'weight': 1}}, 'geometry': {'type': 'Polygon', 'coordinates': [[[-124.286932, 40.667917], [-124.286932, 40.853075], [-124.057609, 40.853075], [-124.057609, 40.667917], [-124.286932, 40.667917]]]}}, {'id': '3', 'type': 'Feature', 'properties': {'id': '4', 'style': {'color': '#555555', 'fill_color': '#555555', 'fillOpacity': 0.1, 'weight': 1}}, 'geometry': {'type': 'Polygon', 'coordinates': [[[-124.477806, 40.53132], [-124.477806, 40.662709], [-124.263588, 40.662709], [-124.263588, 40.53132], [-124.477806, 40.53132]]]}}, {'id': '4', 'type': 'Feature', 'properties': {'id': '5', 'style': {'color': '#555555', 'fill_color': '#555555', 'fillOpacity': 0.1, 'weight': 1}}, 'geometry': {'type': 'Polygon', 'coordinates': [[[-124.282512, 41.020147], [-124.282512, 41.276609], [-123.919989, 41.276609], [-123.919989, 41.020147], [-124.282512, 41.020147]]]}}]}, hover_style={'color': 'yellow', 'fillOpacity': 0.1}, name='ROI', style={'color': '#555555', 'fill_color': '#555555', 'fillOpacity': 0.1, 'weight': 1})\n"
     ]
    }
   ],
   "source": [
    "print(coastsegmap.map.find_layer('ROI'))"
   ]
  },
  {
   "cell_type": "code",
   "execution_count": 13,
   "metadata": {},
   "outputs": [
    {
     "data": {
      "image/svg+xml": [
       "<svg xmlns=\"http://www.w3.org/2000/svg\" xmlns:xlink=\"http://www.w3.org/1999/xlink\" width=\"100.0\" height=\"100.0\" viewBox=\"-124.16759596 40.87007704 0.026323919999995837 0.0258309200000042\" preserveAspectRatio=\"xMinYMin meet\"><g transform=\"matrix(1,0,0,-1,0,81.765985)\"><path fill-rule=\"evenodd\" fill=\"#66cc99\" stroke=\"#555555\" stroke-width=\"0.0005264783999999168\" opacity=\"0.6\" d=\"M -124.166621,40.871052 L -124.166621,40.894933 L -124.142247,40.894933 L -124.142247,40.871052 L -124.166621,40.871052 z\" /></g></svg>"
      ],
      "text/plain": [
       "<POLYGON ((-124.167 40.871, -124.167 40.895, -124.142 40.895, -124.142 40.87...>"
      ]
     },
     "execution_count": 13,
     "metadata": {},
     "output_type": "execute_result"
    }
   ],
   "source": [
    "coastsegmap.rois.gdf[coastsegmap.rois.gdf[\"id\"]==\"1\"][\"geometry\"][0]"
   ]
  },
  {
   "cell_type": "code",
   "execution_count": 78,
   "metadata": {},
   "outputs": [],
   "source": [
    "df = coastsegmap.rois.gdf[coastsegmap.rois.gdf[\"id\"]==\"1\"].bounds.drop(index=0)\n"
   ]
  },
  {
   "cell_type": "code",
   "execution_count": 163,
   "metadata": {},
   "outputs": [
    {
     "data": {
      "text/html": [
       "<div>\n",
       "<style scoped>\n",
       "    .dataframe tbody tr th:only-of-type {\n",
       "        vertical-align: middle;\n",
       "    }\n",
       "\n",
       "    .dataframe tbody tr th {\n",
       "        vertical-align: top;\n",
       "    }\n",
       "\n",
       "    .dataframe thead th {\n",
       "        text-align: right;\n",
       "    }\n",
       "</style>\n",
       "<table border=\"1\" class=\"dataframe\">\n",
       "  <thead>\n",
       "    <tr style=\"text-align: right;\">\n",
       "      <th></th>\n",
       "      <th>minx</th>\n",
       "      <th>miny</th>\n",
       "      <th>maxx</th>\n",
       "      <th>maxy</th>\n",
       "    </tr>\n",
       "  </thead>\n",
       "  <tbody>\n",
       "    <tr>\n",
       "      <th>1</th>\n",
       "      <td>-124.164718</td>\n",
       "      <td>40.951685</td>\n",
       "      <td>-124.028772</td>\n",
       "      <td>41.016997</td>\n",
       "    </tr>\n",
       "  </tbody>\n",
       "</table>\n",
       "</div>"
      ],
      "text/plain": [
       "         minx       miny        maxx       maxy\n",
       "1 -124.164718  40.951685 -124.028772  41.016997"
      ]
     },
     "execution_count": 163,
     "metadata": {},
     "output_type": "execute_result"
    }
   ],
   "source": [
    "coastsegmap.rois.gdf[coastsegmap.rois.gdf[\"id\"]==\"2\"].bounds"
   ]
  },
  {
   "cell_type": "code",
   "execution_count": 162,
   "metadata": {},
   "outputs": [
    {
     "data": {
      "text/plain": [
       "<AxesSubplot: >"
      ]
     },
     "execution_count": 162,
     "metadata": {},
     "output_type": "execute_result"
    },
    {
     "data": {
      "image/png": "[encoded data removed]",
      "text/plain": [
       "<Figure size 432x288 with 1 Axes>"
      ]
     },
     "metadata": {
      "needs_background": "light"
     },
     "output_type": "display_data"
    }
   ],
   "source": [
    "coastsegmap.rois.gdf[coastsegmap.rois.gdf[\"id\"]==\"2\"].boundary.plot()\n"
   ]
  },
  {
   "cell_type": "code",
   "execution_count": 177,
   "metadata": {},
   "outputs": [
    {
     "data": {
      "text/plain": [
       "<AxesSubplot: >"
      ]
     },
     "execution_count": 177,
     "metadata": {},
     "output_type": "execute_result"
    },
    {
     "data": {
      "image/png": "[encoded data removed]",
      "text/plain": [
       "<Figure size 432x288 with 1 Axes>"
      ]
     },
     "metadata": {
      "needs_background": "light"
     },
     "output_type": "display_data"
    }
   ],
   "source": [
    "import matplotlib.pyplot as plt\n",
    "from shapely.geometry import LineString, MultiPolygon, Polygon\n",
    "from shapely.ops import split\n",
    "def splitPolygon(polygon, nx, ny):\n",
    "    minx, miny, maxx, maxy = polygon.bounds.iloc[0]\n",
    "    dx = (maxx - minx) / nx  # width of a small part\n",
    "    dy = (maxy - miny) / ny  # height of a small part\n",
    "    horizontal_splitters = [LineString([(minx, miny + i*dy), (maxx, miny + i*dy)]) for i in range(ny)]\n",
    "    vertical_splitters = [LineString([(minx + i*dx, miny), (minx + i*dx, maxy)]) for i in range(nx)]\n",
    "    splitters = horizontal_splitters + vertical_splitters\n",
    "    result = polygon[\"geometry\"].iloc[0]\n",
    "    for splitter in splitters:\n",
    "        result = MultiPolygon(split(result, splitter))\n",
    "    return result\n",
    "\n",
    "# polygon = coastsegmap.rois.gdf[coastsegmap.rois.gdf[\"id\"]==\"2\"][\"geometry\"].iloc[0]\n",
    "polygon = coastsegmap.rois.gdf[coastsegmap.rois.gdf[\"id\"]==\"2\"]\n",
    "myPolygons = splitPolygon(polygon, 5, 5)\n",
    "import geopandas as gpd\n",
    "gdfR   = gpd.GeoDataFrame(columns=['geometry'], data=myPolygons.geoms)\n",
    "f,ax=plt.subplots()\n",
    "gdfR.boundary.plot(ax=ax, color='red')\n",
    "polygon.boundary.plot(ax=ax)"
   ]
  },
  {
   "cell_type": "code",
   "execution_count": 182,
   "metadata": {},
   "outputs": [
    {
     "data": {
      "text/html": [
       "<div>\n",
       "<style scoped>\n",
       "    .dataframe tbody tr th:only-of-type {\n",
       "        vertical-align: middle;\n",
       "    }\n",
       "\n",
       "    .dataframe tbody tr th {\n",
       "        vertical-align: top;\n",
       "    }\n",
       "\n",
       "    .dataframe thead th {\n",
       "        text-align: right;\n",
       "    }\n",
       "</style>\n",
       "<table border=\"1\" class=\"dataframe\">\n",
       "  <thead>\n",
       "    <tr style=\"text-align: right;\">\n",
       "      <th></th>\n",
       "      <th>minx</th>\n",
       "      <th>miny</th>\n",
       "      <th>maxx</th>\n",
       "      <th>maxy</th>\n",
       "    </tr>\n",
       "  </thead>\n",
       "  <tbody>\n",
       "    <tr>\n",
       "      <th>0</th>\n",
       "      <td>-124.166621</td>\n",
       "      <td>40.871052</td>\n",
       "      <td>-124.142247</td>\n",
       "      <td>40.894933</td>\n",
       "    </tr>\n",
       "    <tr>\n",
       "      <th>1</th>\n",
       "      <td>-124.164718</td>\n",
       "      <td>40.951685</td>\n",
       "      <td>-124.028772</td>\n",
       "      <td>41.016997</td>\n",
       "    </tr>\n",
       "    <tr>\n",
       "      <th>2</th>\n",
       "      <td>-124.286932</td>\n",
       "      <td>40.667917</td>\n",
       "      <td>-124.057609</td>\n",
       "      <td>40.853075</td>\n",
       "    </tr>\n",
       "    <tr>\n",
       "      <th>3</th>\n",
       "      <td>-124.477806</td>\n",
       "      <td>40.531320</td>\n",
       "      <td>-124.263588</td>\n",
       "      <td>40.662709</td>\n",
       "    </tr>\n",
       "    <tr>\n",
       "      <th>4</th>\n",
       "      <td>-124.282512</td>\n",
       "      <td>41.020147</td>\n",
       "      <td>-123.919989</td>\n",
       "      <td>41.276609</td>\n",
       "    </tr>\n",
       "  </tbody>\n",
       "</table>\n",
       "</div>"
      ],
      "text/plain": [
       "         minx       miny        maxx       maxy\n",
       "0 -124.166621  40.871052 -124.142247  40.894933\n",
       "1 -124.164718  40.951685 -124.028772  41.016997\n",
       "2 -124.286932  40.667917 -124.057609  40.853075\n",
       "3 -124.477806  40.531320 -124.263588  40.662709\n",
       "4 -124.282512  41.020147 -123.919989  41.276609"
      ]
     },
     "execution_count": 182,
     "metadata": {},
     "output_type": "execute_result"
    }
   ],
   "source": [
    "coastsegmap.rois.gdf['geometry'].bounds"
   ]
  },
  {
   "cell_type": "code",
   "execution_count": 175,
   "metadata": {},
   "outputs": [
    {
     "data": {
      "text/plain": [
       "(-124.164718, 40.951685, -124.028772, 41.016997)"
      ]
     },
     "execution_count": 175,
     "metadata": {},
     "output_type": "execute_result"
    }
   ],
   "source": [
    "polygon = coastsegmap.rois.gdf[coastsegmap.rois.gdf[\"id\"]==\"2\"]\n",
    "minx, miny, maxx, maxy = polygon.bounds.iloc[0]\n",
    "minx, miny, maxx, maxy"
   ]
  },
  {
   "cell_type": "code",
   "execution_count": 173,
   "metadata": {},
   "outputs": [
    {
     "data": {
      "text/plain": [
       "minx   -124.164718\n",
       "miny     40.951685\n",
       "maxx   -124.028772\n",
       "maxy     41.016997\n",
       "Name: 1, dtype: float64"
      ]
     },
     "execution_count": 173,
     "metadata": {},
     "output_type": "execute_result"
    }
   ],
   "source": [
    "polygon.bounds.iloc[0]"
   ]
  },
  {
   "cell_type": "code",
   "execution_count": 174,
   "metadata": {},
   "outputs": [
    {
     "data": {
      "text/plain": [
       "-124.164718"
      ]
     },
     "execution_count": 174,
     "metadata": {},
     "output_type": "execute_result"
    }
   ],
   "source": [
    "polygon.bounds.iloc[0][0]"
   ]
  },
  {
   "cell_type": "code",
   "execution_count": 124,
   "metadata": {},
   "outputs": [
    {
     "data": {
      "text/plain": [
       "{'minx': {1: -124.164718},\n",
       " 'miny': {1: 40.951685},\n",
       " 'maxx': {1: -124.028772},\n",
       " 'maxy': {1: 41.016997}}"
      ]
     },
     "execution_count": 124,
     "metadata": {},
     "output_type": "execute_result"
    }
   ],
   "source": [
    "d=coastsegmap.rois.gdf[coastsegmap.rois.gdf[\"id\"]==\"2\"].bounds.to_dict()\n",
    "d"
   ]
  },
  {
   "cell_type": "code",
   "execution_count": 97,
   "metadata": {},
   "outputs": [
    {
     "name": "stdout",
     "output_type": "stream",
     "text": [
      "-124.164718\n",
      "40.951685\n",
      "-124.028772\n",
      "41.016997\n"
     ]
    }
   ],
   "source": [
    "for k,v in d.items():\n",
    "    # keyz=v.keys()\n",
    "    print(list(v.values())[0])\n",
    "    # print((list(keyz))[0])\n",
    "    # print(v[(list(keyz))[0]])"
   ]
  },
  {
   "cell_type": "code",
   "execution_count": 106,
   "metadata": {},
   "outputs": [
    {
     "data": {
      "text/plain": [
       "(-124.164718, 40.951685, -124.028772, 41.016997)"
      ]
     },
     "execution_count": 106,
     "metadata": {},
     "output_type": "execute_result"
    }
   ],
   "source": [
    "minx=list(d['minx'].values())[0]\n",
    "miny=list(d['miny'].values())[0]\n",
    "maxx=list(d['maxx'].values())[0]\n",
    "maxy=list(d['maxy'].values())[0]\n",
    "minx, miny, maxx, maxy"
   ]
  },
  {
   "cell_type": "code",
   "execution_count": 116,
   "metadata": {},
   "outputs": [],
   "source": [
    "from shapely.geometry import LineString, MultiPolygon, Polygon\n",
    "\n",
    "dx = (maxx - minx) / num_splitters  # width of a small part\n",
    "dy = (maxy - miny) / num_splitters  # height of a small part\n",
    "horizontal_splitters = [\n",
    "    LineString([(minx, miny + i * dy), (maxx, miny + i * dy)])\n",
    "    for i in range(num_splitters)\n",
    "]\n",
    "vertical_splitters = [\n",
    "    LineString([(minx + i * dx, miny), (minx + i * dx, maxy)])\n",
    "    for i in range(num_splitters)\n",
    "]"
   ]
  },
  {
   "cell_type": "code",
   "execution_count": 117,
   "metadata": {},
   "outputs": [
    {
     "data": {
      "text/plain": [
       "[<LINESTRING (-124.165 40.952, -124.029 40.952)>,\n",
       " <LINESTRING (-124.165 40.973, -124.029 40.973)>,\n",
       " <LINESTRING (-124.165 40.995, -124.029 40.995)>]"
      ]
     },
     "execution_count": 117,
     "metadata": {},
     "output_type": "execute_result"
    }
   ],
   "source": [
    "horizontal_splitters"
   ]
  },
  {
   "cell_type": "code",
   "execution_count": 120,
   "metadata": {},
   "outputs": [
    {
     "data": {
      "text/plain": [
       "[<LINESTRING (-124.165 40.952, -124.165 41.017)>,\n",
       " <LINESTRING (-124.119 40.952, -124.119 41.017)>,\n",
       " <LINESTRING (-124.074 40.952, -124.074 41.017)>]"
      ]
     },
     "execution_count": 120,
     "metadata": {},
     "output_type": "execute_result"
    }
   ],
   "source": [
    "vertical_splitters"
   ]
  },
  {
   "cell_type": "code",
   "execution_count": 135,
   "metadata": {},
   "outputs": [
    {
     "data": {
      "text/plain": [
       "[<LINESTRING (-124.165 40.952, -124.029 40.952)>,\n",
       " <LINESTRING (-124.165 40.973, -124.029 40.973)>,\n",
       " <LINESTRING (-124.165 40.995, -124.029 40.995)>,\n",
       " <LINESTRING (-124.165 40.952, -124.165 41.017)>,\n",
       " <LINESTRING (-124.119 40.952, -124.119 41.017)>,\n",
       " <LINESTRING (-124.074 40.952, -124.074 41.017)>]"
      ]
     },
     "execution_count": 135,
     "metadata": {},
     "output_type": "execute_result"
    }
   ],
   "source": [
    "splitters = horizontal_splitters + vertical_splitters\n",
    "splitters"
   ]
  },
  {
   "cell_type": "code",
   "execution_count": 190,
   "metadata": {},
   "outputs": [
    {
     "data": {
      "text/plain": [
       "0    0.000582\n",
       "1    0.008879\n",
       "2    0.042461\n",
       "3    0.028146\n",
       "4    0.092973\n",
       "dtype: float64"
      ]
     },
     "execution_count": 190,
     "metadata": {},
     "output_type": "execute_result"
    }
   ],
   "source": [
    "coastsegmap.rois.gdf.area"
   ]
  },
  {
   "cell_type": "code",
   "execution_count": 202,
   "metadata": {},
   "outputs": [
    {
     "data": {
      "text/plain": [
       "83058642.38999565"
      ]
     },
     "execution_count": 202,
     "metadata": {},
     "output_type": "execute_result"
    }
   ],
   "source": [
    "area(json.loads(coastsegmap.rois.gdf.to_json())['features'][1]['geometry'])"
   ]
  },
  {
   "cell_type": "code",
   "execution_count": 191,
   "metadata": {},
   "outputs": [
    {
     "data": {
      "text/plain": [
       "<Geographic 2D CRS: EPSG:4326>\n",
       "Name: WGS 84\n",
       "Axis Info [ellipsoidal]:\n",
       "- Lat[north]: Geodetic latitude (degree)\n",
       "- Lon[east]: Geodetic longitude (degree)\n",
       "Area of Use:\n",
       "- name: World.\n",
       "- bounds: (-180.0, -90.0, 180.0, 90.0)\n",
       "Datum: World Geodetic System 1984 ensemble\n",
       "- Ellipsoid: WGS 84\n",
       "- Prime Meridian: Greenwich"
      ]
     },
     "execution_count": 191,
     "metadata": {},
     "output_type": "execute_result"
    }
   ],
   "source": [
    "coastsegmap.rois.gdf.crs"
   ]
  },
  {
   "cell_type": "code",
   "execution_count": 187,
   "metadata": {},
   "outputs": [
    {
     "data": {
      "text/plain": [
       "0.00887890515200013"
      ]
     },
     "execution_count": 187,
     "metadata": {},
     "output_type": "execute_result"
    }
   ],
   "source": [
    "coastsegmap.rois.gdf[coastsegmap.rois.gdf[\"id\"]==\"2\"][\"geometry\"].iloc[0].area"
   ]
  },
  {
   "cell_type": "code",
   "execution_count": 129,
   "metadata": {},
   "outputs": [
    {
     "data": {
      "image/svg+xml": [
       "<svg xmlns=\"http://www.w3.org/2000/svg\" xmlns:xlink=\"http://www.w3.org/1999/xlink\" width=\"100.0\" height=\"100.0\" viewBox=\"-124.17015583999999 40.94624716 0.14682167999998796 0.07618768000000387\" preserveAspectRatio=\"xMinYMin meet\"><g transform=\"matrix(1,0,0,-1,0,81.968682)\"><path fill-rule=\"evenodd\" fill=\"#66cc99\" stroke=\"#555555\" stroke-width=\"0.002936433599999759\" opacity=\"0.6\" d=\"M -124.164718,40.951685 L -124.164718,41.016997 L -124.028772,41.016997 L -124.028772,40.951685 L -124.164718,40.951685 z\" /></g></svg>"
      ],
      "text/plain": [
       "<POLYGON ((-124.165 40.952, -124.165 41.017, -124.029 41.017, -124.029 40.95...>"
      ]
     },
     "execution_count": 129,
     "metadata": {},
     "output_type": "execute_result"
    }
   ],
   "source": [
    "coastsegmap.rois.gdf[coastsegmap.rois.gdf[\"id\"]==\"2\"][\"geometry\"].iloc[0]"
   ]
  },
  {
   "cell_type": "code",
   "execution_count": 157,
   "metadata": {},
   "outputs": [
    {
     "data": {
      "image/svg+xml": [
       "<svg xmlns=\"http://www.w3.org/2000/svg\" xmlns:xlink=\"http://www.w3.org/1999/xlink\" width=\"100.0\" height=\"100.0\" viewBox=\"-124.17015583999999 40.94624716 0.14682167999998796 0.07618768000000387\" preserveAspectRatio=\"xMinYMin meet\"><g transform=\"matrix(1,0,0,-1,0,81.968682)\"><path fill-rule=\"evenodd\" fill=\"#66cc99\" stroke=\"#555555\" stroke-width=\"0.002936433599999759\" opacity=\"0.6\" d=\"M -124.164718,40.951685 L -124.164718,41.016997 L -124.028772,41.016997 L -124.028772,40.951685 L -124.164718,40.951685 z\" /></g></svg>"
      ],
      "text/plain": [
       "<POLYGON ((-124.165 40.952, -124.165 41.017, -124.029 41.017, -124.029 40.95...>"
      ]
     },
     "execution_count": 157,
     "metadata": {},
     "output_type": "execute_result"
    }
   ],
   "source": [
    "polygon = coastsegmap.rois.gdf[coastsegmap.rois.gdf[\"id\"]==\"2\"][\"geometry\"].iloc[0]\n",
    "polygon"
   ]
  },
  {
   "cell_type": "code",
   "execution_count": 134,
   "metadata": {},
   "outputs": [
    {
     "name": "stdout",
     "output_type": "stream",
     "text": [
      "Number of individual tiles: 9\n"
     ]
    }
   ],
   "source": [
    "from shapely.ops import split\n",
    "result = polygon\n",
    "for splitter in splitters:\n",
    "    result = MultiPolygon(split(result, splitter))\n",
    "parts = [list(part.exterior.coords) for part in result.geoms]\n",
    "\n",
    "print(\"Number of individual tiles: {}\".format(len(parts)))"
   ]
  },
  {
   "cell_type": "code",
   "execution_count": 136,
   "metadata": {},
   "outputs": [
    {
     "name": "stdout",
     "output_type": "stream",
     "text": [
      "[(-124.164718, 40.951685), (-124.164718, 40.973455666666666), (-124.11940266666666, 40.973455666666666), (-124.11940266666666, 40.951685), (-124.164718, 40.951685)]\n",
      "[(-124.11940266666666, 40.973455666666666), (-124.07408733333334, 40.973455666666666), (-124.07408733333334, 40.951685), (-124.11940266666666, 40.951685), (-124.11940266666666, 40.973455666666666)]\n",
      "[(-124.07408733333334, 40.973455666666666), (-124.028772, 40.973455666666666), (-124.028772, 40.951685), (-124.07408733333334, 40.951685), (-124.07408733333334, 40.973455666666666)]\n",
      "[(-124.164718, 40.973455666666666), (-124.164718, 40.995226333333335), (-124.11940266666666, 40.995226333333335), (-124.11940266666666, 40.973455666666666), (-124.164718, 40.973455666666666)]\n",
      "[(-124.11940266666666, 40.995226333333335), (-124.07408733333334, 40.995226333333335), (-124.07408733333334, 40.973455666666666), (-124.11940266666666, 40.973455666666666), (-124.11940266666666, 40.995226333333335)]\n",
      "[(-124.07408733333334, 40.995226333333335), (-124.028772, 40.995226333333335), (-124.028772, 40.973455666666666), (-124.07408733333334, 40.973455666666666), (-124.07408733333334, 40.995226333333335)]\n",
      "[(-124.164718, 40.995226333333335), (-124.164718, 41.016997), (-124.11940266666666, 41.016997), (-124.11940266666666, 40.995226333333335), (-124.164718, 40.995226333333335)]\n",
      "[(-124.11940266666666, 41.016997), (-124.07408733333334, 41.016997), (-124.07408733333334, 40.995226333333335), (-124.11940266666666, 40.995226333333335), (-124.11940266666666, 41.016997)]\n",
      "[(-124.07408733333334, 41.016997), (-124.028772, 41.016997), (-124.028772, 40.995226333333335), (-124.07408733333334, 40.995226333333335), (-124.07408733333334, 41.016997)]\n"
     ]
    }
   ],
   "source": [
    "for part in parts:\n",
    "    print(part)"
   ]
  },
  {
   "cell_type": "code",
   "execution_count": 145,
   "metadata": {},
   "outputs": [
    {
     "data": {
      "text/plain": [
       "<ee.imagecollection.ImageCollection at 0x196d4b4b130>"
      ]
     },
     "execution_count": 145,
     "metadata": {},
     "output_type": "execute_result"
    }
   ],
   "source": [
    "gee_collection = \"USDA/NAIP/DOQQ\"\n",
    "collection = ee.ImageCollection(gee_collection)\n",
    "collection"
   ]
  },
  {
   "cell_type": "code",
   "execution_count": 146,
   "metadata": {},
   "outputs": [
    {
     "data": {
      "text/plain": [
       "ee.Geometry({\n",
       "  \"functionInvocationValue\": {\n",
       "    \"functionName\": \"GeometryConstructors.Polygon\",\n",
       "    \"arguments\": {\n",
       "      \"coordinates\": {\n",
       "        \"constantValue\": [\n",
       "          [\n",
       "            [\n",
       "              -124.164718,\n",
       "              40.951685\n",
       "            ],\n",
       "            [\n",
       "              -124.164718,\n",
       "              40.973455666666666\n",
       "            ],\n",
       "            [\n",
       "              -124.11940266666666,\n",
       "              40.973455666666666\n",
       "            ],\n",
       "            [\n",
       "              -124.11940266666666,\n",
       "              40.951685\n",
       "            ],\n",
       "            [\n",
       "              -124.164718,\n",
       "              40.951685\n",
       "            ]\n",
       "          ]\n",
       "        ]\n",
       "      },\n",
       "      \"evenOdd\": {\n",
       "        \"constantValue\": true\n",
       "      }\n",
       "    }\n",
       "  }\n",
       "})"
      ]
     },
     "execution_count": 146,
     "metadata": {},
     "output_type": "execute_result"
    }
   ],
   "source": [
    "polys = ee.Geometry.Polygon(parts[0])\n",
    "polys"
   ]
  },
  {
   "cell_type": "code",
   "execution_count": 141,
   "metadata": {},
   "outputs": [
    {
     "data": {
      "text/plain": [
       "ee.Geometry({\n",
       "  \"functionInvocationValue\": {\n",
       "    \"functionName\": \"Geometry.centroid\",\n",
       "    \"arguments\": {\n",
       "      \"geometry\": {\n",
       "        \"functionInvocationValue\": {\n",
       "          \"functionName\": \"GeometryConstructors.Polygon\",\n",
       "          \"arguments\": {\n",
       "            \"coordinates\": {\n",
       "              \"constantValue\": [\n",
       "                [\n",
       "                  [\n",
       "                    -124.164718,\n",
       "                    40.951685\n",
       "                  ],\n",
       "                  [\n",
       "                    -124.164718,\n",
       "                    40.973455666666666\n",
       "                  ],\n",
       "                  [\n",
       "                    -124.11940266666666,\n",
       "                    40.973455666666666\n",
       "                  ],\n",
       "                  [\n",
       "                    -124.11940266666666,\n",
       "                    40.951685\n",
       "                  ],\n",
       "                  [\n",
       "                    -124.164718,\n",
       "                    40.951685\n",
       "                  ]\n",
       "                ]\n",
       "              ]\n",
       "            },\n",
       "            \"evenOdd\": {\n",
       "              \"constantValue\": true\n",
       "            }\n",
       "          }\n",
       "        }\n",
       "      }\n",
       "    }\n",
       "  }\n",
       "})"
      ]
     },
     "execution_count": 141,
     "metadata": {},
     "output_type": "execute_result"
    }
   ],
   "source": [
    "centroid = polys.centroid()\n",
    "centroid"
   ]
  },
  {
   "cell_type": "code",
   "execution_count": 143,
   "metadata": {},
   "outputs": [
    {
     "data": {
      "text/plain": [
       "(-124.14206033334014, 40.96257195266582)"
      ]
     },
     "execution_count": 143,
     "metadata": {},
     "output_type": "execute_result"
    }
   ],
   "source": [
    "lng, lat = centroid.getInfo()[\"coordinates\"]\n",
    "lng, lat"
   ]
  },
  {
   "cell_type": "code",
   "execution_count": 149,
   "metadata": {},
   "outputs": [
    {
     "data": {
      "text/plain": [
       "2"
      ]
     },
     "execution_count": 149,
     "metadata": {},
     "output_type": "execute_result"
    }
   ],
   "source": [
    "year=\"2009\"\n",
    "start_date = year + \"-01-01\"\n",
    "end_date = year + \"-12-31\"\n",
    "collection = collection.filterBounds(polys)\n",
    "collection = collection.filterDate(start_date, end_date).sort(\n",
    "            \"system:time_start\", True\n",
    ")\n",
    "count = collection.size().getInfo()\n",
    "count"
   ]
  },
  {
   "cell_type": "code",
   "execution_count": 152,
   "metadata": {},
   "outputs": [],
   "source": [
    "img_lst = collection.toList(1000)\n",
    "# print(img_lst)"
   ]
  },
  {
   "cell_type": "code",
   "execution_count": 155,
   "metadata": {},
   "outputs": [
    {
     "name": "stdout",
     "output_type": "stream",
     "text": [
      "m_4012407_ne_10_1_20090622\n",
      "m_4012408_nw_10_1_20090622\n"
     ]
    }
   ],
   "source": [
    "N = []\n",
    "for i in range(0, count):\n",
    "    image = ee.Image(img_lst.get(i))\n",
    "    name = image.get(\"system:index\").getInfo()\n",
    "    N.append(name)\n",
    "    print(name)"
   ]
  },
  {
   "cell_type": "code",
   "execution_count": 156,
   "metadata": {},
   "outputs": [
    {
     "ename": "NameError",
     "evalue": "name 'geemap' is not defined",
     "output_type": "error",
     "traceback": [
      "\u001b[1;31m---------------------------------------------------------------------------\u001b[0m",
      "\u001b[1;31mNameError\u001b[0m                                 Traceback (most recent call last)",
      "\u001b[1;32m~\\AppData\\Local\\Temp/ipykernel_24456/1491728620.py\u001b[0m in \u001b[0;36m<module>\u001b[1;34m\u001b[0m\n\u001b[0;32m      1\u001b[0m \u001b[1;32mfor\u001b[0m \u001b[0mn\u001b[0m \u001b[1;32min\u001b[0m \u001b[0mN\u001b[0m\u001b[1;33m:\u001b[0m\u001b[1;33m\u001b[0m\u001b[1;33m\u001b[0m\u001b[0m\n\u001b[0;32m      2\u001b[0m     \u001b[0mimage\u001b[0m \u001b[1;33m=\u001b[0m \u001b[0mee\u001b[0m\u001b[1;33m.\u001b[0m\u001b[0mImage\u001b[0m\u001b[1;33m(\u001b[0m\u001b[1;34m\"USDA/NAIP/DOQQ/\"\u001b[0m \u001b[1;33m+\u001b[0m \u001b[0mn\u001b[0m\u001b[1;33m)\u001b[0m\u001b[1;33m\u001b[0m\u001b[1;33m\u001b[0m\u001b[0m\n\u001b[1;32m----> 3\u001b[1;33m     geemap.ee_export_image(\n\u001b[0m\u001b[0;32m      4\u001b[0m                     \u001b[0mimage\u001b[0m\u001b[1;33m,\u001b[0m\u001b[1;33m\u001b[0m\u001b[1;33m\u001b[0m\u001b[0m\n\u001b[0;32m      5\u001b[0m                     \u001b[0mos\u001b[0m\u001b[1;33m.\u001b[0m\u001b[0mgetcwd\u001b[0m\u001b[1;33m(\u001b[0m\u001b[1;33m)\u001b[0m\u001b[1;33m\u001b[0m\u001b[1;33m\u001b[0m\u001b[0m\n",
      "\u001b[1;31mNameError\u001b[0m: name 'geemap' is not defined"
     ]
    }
   ],
   "source": [
    "for n in N:\n",
    "    image = ee.Image(\"USDA/NAIP/DOQQ/\" + n)\n",
    "    geemap.ee_export_image(\n",
    "                    image,\n",
    "                    os.getcwd()\n",
    "                    + os.sep\n",
    "                    + site\n",
    "                    + os.sep\n",
    "                    + \"feature\"\n",
    "                    + str(featurenumber)\n",
    "                    + os.sep\n",
    "                    + year\n",
    "                    + os.sep\n",
    "                    + \"chunk\"\n",
    "                    + str(counter)\n",
    "                    + os.sep\n",
    "                    + \"chunk\"\n",
    "                    + str(counter)\n",
    "                    + \"_\"\n",
    "                    + n\n",
    "                    + \".tif\",\n",
    "                    scale=OUT_RES_M,\n",
    "                    region=polys,\n",
    "                    file_per_band=True,\n",
    "                    crs=\"EPSG:4326\",\n",
    "    )"
   ]
  },
  {
   "cell_type": "code",
   "execution_count": 115,
   "metadata": {},
   "outputs": [
    {
     "ename": "NameError",
     "evalue": "name 'ny' is not defined",
     "output_type": "error",
     "traceback": [
      "\u001b[1;31m---------------------------------------------------------------------------\u001b[0m",
      "\u001b[1;31mNameError\u001b[0m                                 Traceback (most recent call last)",
      "\u001b[1;32m~\\AppData\\Local\\Temp/ipykernel_24456/319346959.py\u001b[0m in \u001b[0;36m<module>\u001b[1;34m\u001b[0m\n\u001b[0;32m      2\u001b[0m horizontal_splitters = [\n\u001b[0;32m      3\u001b[0m             \u001b[0mLineString\u001b[0m\u001b[1;33m(\u001b[0m\u001b[1;33m[\u001b[0m\u001b[1;33m(\u001b[0m\u001b[0mminx\u001b[0m\u001b[1;33m,\u001b[0m \u001b[0mminy\u001b[0m \u001b[1;33m+\u001b[0m \u001b[0mi\u001b[0m \u001b[1;33m*\u001b[0m \u001b[0mdy\u001b[0m\u001b[1;33m)\u001b[0m\u001b[1;33m,\u001b[0m \u001b[1;33m(\u001b[0m\u001b[0mmaxx\u001b[0m\u001b[1;33m,\u001b[0m \u001b[0mminy\u001b[0m \u001b[1;33m+\u001b[0m \u001b[0mi\u001b[0m \u001b[1;33m*\u001b[0m \u001b[0mdy\u001b[0m\u001b[1;33m)\u001b[0m\u001b[1;33m]\u001b[0m\u001b[1;33m)\u001b[0m\u001b[1;33m\u001b[0m\u001b[1;33m\u001b[0m\u001b[0m\n\u001b[1;32m----> 4\u001b[1;33m             \u001b[1;32mfor\u001b[0m \u001b[0mi\u001b[0m \u001b[1;32min\u001b[0m \u001b[0mrange\u001b[0m\u001b[1;33m(\u001b[0m\u001b[0mny\u001b[0m\u001b[1;33m)\u001b[0m\u001b[1;33m\u001b[0m\u001b[1;33m\u001b[0m\u001b[0m\n\u001b[0m\u001b[0;32m      5\u001b[0m         ]\n",
      "\u001b[1;31mNameError\u001b[0m: name 'ny' is not defined"
     ]
    }
   ],
   "source": [
    "from shapely.geometry import LineString, MultiPolygon, Polygon\n",
    "horizontal_splitters = [\n",
    "            LineString([(minx, miny + i * dy), (maxx, miny + i * dy)])\n",
    "            for i in range(ny)\n",
    "        ]"
   ]
  },
  {
   "cell_type": "code",
   "execution_count": 98,
   "metadata": {},
   "outputs": [
    {
     "data": {
      "text/plain": [
       "[-124.164718, 40.951685, -124.028772, 41.016997]"
      ]
     },
     "execution_count": 98,
     "metadata": {},
     "output_type": "execute_result"
    }
   ],
   "source": [
    "# minx miny maxx maxy\n",
    "bounds = [list(v.values())[0] for v in d.values()]\n",
    "bounds "
   ]
  },
  {
   "cell_type": "code",
   "execution_count": null,
   "metadata": {},
   "outputs": [],
   "source": []
  },
  {
   "cell_type": "code",
   "execution_count": 108,
   "metadata": {},
   "outputs": [],
   "source": [
    "# dir(coastsegmap.rois.gdf[coastsegmap.rois.gdf[\"id\"]==\"2\"].bounds"
   ]
  },
  {
   "cell_type": "code",
   "execution_count": 55,
   "metadata": {},
   "outputs": [
    {
     "data": {
      "text/plain": [
       "'{\"type\": \"FeatureCollection\", \"features\": [{\"id\": \"1\", \"type\": \"Feature\", \"properties\": {\"id\": \"2\"}, \"geometry\": {\"type\": \"Polygon\", \"coordinates\": [[[-124.164718, 40.951685], [-124.164718, 41.016997], [-124.028772, 41.016997], [-124.028772, 40.951685], [-124.164718, 40.951685]]]}}]}'"
      ]
     },
     "execution_count": 55,
     "metadata": {},
     "output_type": "execute_result"
    }
   ],
   "source": [
    "geodata = coastsegmap.rois.gdf[coastsegmap.rois.gdf[\"id\"]==\"2\"].to_json()\n",
    "geodata"
   ]
  },
  {
   "cell_type": "code",
   "execution_count": 56,
   "metadata": {},
   "outputs": [
    {
     "data": {
      "text/plain": [
       "{'type': 'FeatureCollection',\n",
       " 'features': [{'id': '1',\n",
       "   'type': 'Feature',\n",
       "   'properties': {'id': '2'},\n",
       "   'geometry': {'type': 'Polygon',\n",
       "    'coordinates': [[[-124.164718, 40.951685],\n",
       "      [-124.164718, 41.016997],\n",
       "      [-124.028772, 41.016997],\n",
       "      [-124.028772, 40.951685],\n",
       "      [-124.164718, 40.951685]]]}}]}"
      ]
     },
     "execution_count": 56,
     "metadata": {},
     "output_type": "execute_result"
    }
   ],
   "source": [
    "rect = json.loads(geodata)\n",
    "rect"
   ]
  },
  {
   "cell_type": "code",
   "execution_count": 49,
   "metadata": {},
   "outputs": [
    {
     "data": {
      "text/plain": [
       "{'type': 'Polygon',\n",
       " 'coordinates': [[[-124.166621, 40.871052],\n",
       "   [-124.166621, 40.894933],\n",
       "   [-124.142247, 40.894933],\n",
       "   [-124.142247, 40.871052],\n",
       "   [-124.166621, 40.871052]]]}"
      ]
     },
     "execution_count": 49,
     "metadata": {},
     "output_type": "execute_result"
    }
   ],
   "source": [
    "rect['features'][0]['geometry']"
   ]
  },
  {
   "cell_type": "code",
   "execution_count": null,
   "metadata": {},
   "outputs": [],
   "source": []
  },
  {
   "cell_type": "code",
   "execution_count": 16,
   "metadata": {},
   "outputs": [
    {
     "name": "stdout",
     "output_type": "stream",
     "text": [
      "<class 'shapely.geometry.polygon.Polygon'>\n"
     ]
    }
   ],
   "source": [
    "print(type(coastsegmap.rois.gdf[coastsegmap.rois.gdf[\"id\"]==\"1\"][\"geometry\"][0]))"
   ]
  },
  {
   "cell_type": "code",
   "execution_count": 207,
   "metadata": {},
   "outputs": [
    {
     "data": {
      "text/html": [
       "<div>\n",
       "<style scoped>\n",
       "    .dataframe tbody tr th:only-of-type {\n",
       "        vertical-align: middle;\n",
       "    }\n",
       "\n",
       "    .dataframe tbody tr th {\n",
       "        vertical-align: top;\n",
       "    }\n",
       "\n",
       "    .dataframe thead th {\n",
       "        text-align: right;\n",
       "    }\n",
       "</style>\n",
       "<table border=\"1\" class=\"dataframe\">\n",
       "  <thead>\n",
       "    <tr style=\"text-align: right;\">\n",
       "      <th></th>\n",
       "      <th>geometry</th>\n",
       "      <th>id</th>\n",
       "    </tr>\n",
       "  </thead>\n",
       "  <tbody>\n",
       "    <tr>\n",
       "      <th>0</th>\n",
       "      <td>POLYGON ((-124.16662 40.87105, -124.16662 40.8...</td>\n",
       "      <td>1</td>\n",
       "    </tr>\n",
       "    <tr>\n",
       "      <th>1</th>\n",
       "      <td>POLYGON ((-124.16472 40.95168, -124.16472 41.0...</td>\n",
       "      <td>2</td>\n",
       "    </tr>\n",
       "    <tr>\n",
       "      <th>2</th>\n",
       "      <td>POLYGON ((-124.28693 40.66792, -124.28693 40.8...</td>\n",
       "      <td>3</td>\n",
       "    </tr>\n",
       "    <tr>\n",
       "      <th>3</th>\n",
       "      <td>POLYGON ((-124.47781 40.53132, -124.47781 40.6...</td>\n",
       "      <td>4</td>\n",
       "    </tr>\n",
       "    <tr>\n",
       "      <th>4</th>\n",
       "      <td>POLYGON ((-124.28251 41.02015, -124.28251 41.2...</td>\n",
       "      <td>5</td>\n",
       "    </tr>\n",
       "  </tbody>\n",
       "</table>\n",
       "</div>"
      ],
      "text/plain": [
       "                                            geometry id\n",
       "0  POLYGON ((-124.16662 40.87105, -124.16662 40.8...  1\n",
       "1  POLYGON ((-124.16472 40.95168, -124.16472 41.0...  2\n",
       "2  POLYGON ((-124.28693 40.66792, -124.28693 40.8...  3\n",
       "3  POLYGON ((-124.47781 40.53132, -124.47781 40.6...  4\n",
       "4  POLYGON ((-124.28251 41.02015, -124.28251 41.2...  5"
      ]
     },
     "execution_count": 207,
     "metadata": {},
     "output_type": "execute_result"
    }
   ],
   "source": [
    "coastsegmap.rois.gdf"
   ]
  },
  {
   "cell_type": "code",
   "execution_count": 209,
   "metadata": {},
   "outputs": [],
   "source": [
    "def get_num_splitters(gdf:gpd.GeoDataFrame)->int:\n",
    "    # convert to geojson dictionary\n",
    "    roi_json = json.loads(gdf.to_json())\n",
    "    # only one feature is present select 1st feature's geometry\n",
    "    roi_geometry = roi_json['features'][0]['geometry']\n",
    "    # get area of entire shape as squared kilometers \n",
    "    area_km2=area(roi_geometry)/ 1e6\n",
    "    print(f\"Area(km^2): {area_km2}\")\n",
    "    # get minimum number of horizontal and vertical splitters to split area equally\n",
    "    num_splitters = math.ceil(math.sqrt(area_km2/10))\n",
    "    return num_splitters"
   ]
  },
  {
   "cell_type": "code",
   "execution_count": 213,
   "metadata": {},
   "outputs": [],
   "source": [
    "def splitPolygon(polygon:gpd.GeoDataFrame, num_splitters:int):\n",
    "    minx, miny, maxx, maxy = polygon.bounds.iloc[0]\n",
    "    dx = (maxx - minx) / num_splitters  # width of a small part\n",
    "    dy = (maxy - miny) / num_splitters  # height of a small part\n",
    "    horizontal_splitters = [LineString([(minx, miny + i*dy), (maxx, miny + i*dy)]) for i in range(num_splitters)]\n",
    "    vertical_splitters = [LineString([(minx + i*dx, miny), (minx + i*dx, maxy)]) for i in range(num_splitters)]\n",
    "    splitters = horizontal_splitters + vertical_splitters\n",
    "    result = polygon[\"geometry\"].iloc[0]\n",
    "    for splitter in splitters:\n",
    "        result = MultiPolygon(split(result, splitter))\n",
    "    return result"
   ]
  },
  {
   "cell_type": "code",
   "execution_count": 212,
   "metadata": {},
   "outputs": [
    {
     "name": "stdout",
     "output_type": "stream",
     "text": [
      "Area(km^2): 398.5507742216511\n"
     ]
    },
    {
     "data": {
      "text/plain": [
       "7"
      ]
     },
     "execution_count": 212,
     "metadata": {},
     "output_type": "execute_result"
    }
   ],
   "source": [
    "# select an roi out of geodataframe \n",
    "roi_gdf=coastsegmap.rois.gdf[coastsegmap.rois.gdf[\"id\"]==\"3\"]\n",
    "#number of horizontal & vertical splitters needed to split ROI into equally sized tiles whose area <=10km^2\n",
    "num_splitters = get_num_splitters(roi_gdf)\n",
    "num_splitters"
   ]
  },
  {
   "cell_type": "code",
   "execution_count": 214,
   "metadata": {},
   "outputs": [
    {
     "data": {
      "image/svg+xml": [
       "<svg xmlns=\"http://www.w3.org/2000/svg\" xmlns:xlink=\"http://www.w3.org/1999/xlink\" width=\"100.0\" height=\"100.0\" viewBox=\"-124.29610491999999 40.658744080000005 0.24766883999998868 0.2035038399999891\" preserveAspectRatio=\"xMinYMin meet\"><g transform=\"matrix(1,0,0,-1,0,81.520992)\"><g><path fill-rule=\"evenodd\" fill=\"#ff3333\" stroke=\"#555555\" stroke-width=\"0.004953376799999774\" opacity=\"0.6\" d=\"M -124.286932,40.667917 L -124.286932,40.694368142857144 L -124.25417157142857,40.694368142857144 L -124.25417157142857,40.667917 L -124.286932,40.667917 z\" /><path fill-rule=\"evenodd\" fill=\"#ff3333\" stroke=\"#555555\" stroke-width=\"0.004953376799999774\" opacity=\"0.6\" d=\"M -124.25417157142857,40.694368142857144 L -124.22141114285714,40.694368142857144 L -124.22141114285714,40.667917 L -124.25417157142857,40.667917 L -124.25417157142857,40.694368142857144 z\" /><path fill-rule=\"evenodd\" fill=\"#ff3333\" stroke=\"#555555\" stroke-width=\"0.004953376799999774\" opacity=\"0.6\" d=\"M -124.22141114285714,40.694368142857144 L -124.18865071428571,40.694368142857144 L -124.18865071428571,40.667917 L -124.22141114285714,40.667917 L -124.22141114285714,40.694368142857144 z\" /><path fill-rule=\"evenodd\" fill=\"#ff3333\" stroke=\"#555555\" stroke-width=\"0.004953376799999774\" opacity=\"0.6\" d=\"M -124.18865071428571,40.694368142857144 L -124.15589028571428,40.694368142857144 L -124.15589028571428,40.667917 L -124.18865071428571,40.667917 L -124.18865071428571,40.694368142857144 z\" /><path fill-rule=\"evenodd\" fill=\"#ff3333\" stroke=\"#555555\" stroke-width=\"0.004953376799999774\" opacity=\"0.6\" d=\"M -124.15589028571428,40.694368142857144 L -124.12312985714286,40.694368142857144 L -124.12312985714286,40.667917 L -124.15589028571428,40.667917 L -124.15589028571428,40.694368142857144 z\" /><path fill-rule=\"evenodd\" fill=\"#ff3333\" stroke=\"#555555\" stroke-width=\"0.004953376799999774\" opacity=\"0.6\" d=\"M -124.12312985714286,40.694368142857144 L -124.09036942857142,40.694368142857144 L -124.09036942857142,40.667917 L -124.12312985714286,40.667917 L -124.12312985714286,40.694368142857144 z\" /><path fill-rule=\"evenodd\" fill=\"#ff3333\" stroke=\"#555555\" stroke-width=\"0.004953376799999774\" opacity=\"0.6\" d=\"M -124.09036942857142,40.694368142857144 L -124.057609,40.694368142857144 L -124.057609,40.667917 L -124.09036942857142,40.667917 L -124.09036942857142,40.694368142857144 z\" /><path fill-rule=\"evenodd\" fill=\"#ff3333\" stroke=\"#555555\" stroke-width=\"0.004953376799999774\" opacity=\"0.6\" d=\"M -124.286932,40.694368142857144 L -124.286932,40.720819285714285 L -124.25417157142857,40.720819285714285 L -124.25417157142857,40.694368142857144 L -124.286932,40.694368142857144 z\" /><path fill-rule=\"evenodd\" fill=\"#ff3333\" stroke=\"#555555\" stroke-width=\"0.004953376799999774\" opacity=\"0.6\" d=\"M -124.25417157142857,40.720819285714285 L -124.22141114285714,40.720819285714285 L -124.22141114285714,40.694368142857144 L -124.25417157142857,40.694368142857144 L -124.25417157142857,40.720819285714285 z\" /><path fill-rule=\"evenodd\" fill=\"#ff3333\" stroke=\"#555555\" stroke-width=\"0.004953376799999774\" opacity=\"0.6\" d=\"M -124.22141114285714,40.720819285714285 L -124.18865071428571,40.720819285714285 L -124.18865071428571,40.694368142857144 L -124.22141114285714,40.694368142857144 L -124.22141114285714,40.720819285714285 z\" /><path fill-rule=\"evenodd\" fill=\"#ff3333\" stroke=\"#555555\" stroke-width=\"0.004953376799999774\" opacity=\"0.6\" d=\"M -124.18865071428571,40.720819285714285 L -124.15589028571428,40.720819285714285 L -124.15589028571428,40.694368142857144 L -124.18865071428571,40.694368142857144 L -124.18865071428571,40.720819285714285 z\" /><path fill-rule=\"evenodd\" fill=\"#ff3333\" stroke=\"#555555\" stroke-width=\"0.004953376799999774\" opacity=\"0.6\" d=\"M -124.15589028571428,40.720819285714285 L -124.12312985714286,40.720819285714285 L -124.12312985714286,40.694368142857144 L -124.15589028571428,40.694368142857144 L -124.15589028571428,40.720819285714285 z\" /><path fill-rule=\"evenodd\" fill=\"#ff3333\" stroke=\"#555555\" stroke-width=\"0.004953376799999774\" opacity=\"0.6\" d=\"M -124.12312985714286,40.720819285714285 L -124.09036942857142,40.720819285714285 L -124.09036942857142,40.694368142857144 L -124.12312985714286,40.694368142857144 L -124.12312985714286,40.720819285714285 z\" /><path fill-rule=\"evenodd\" fill=\"#ff3333\" stroke=\"#555555\" stroke-width=\"0.004953376799999774\" opacity=\"0.6\" d=\"M -124.09036942857142,40.720819285714285 L -124.057609,40.720819285714285 L -124.057609,40.694368142857144 L -124.09036942857142,40.694368142857144 L -124.09036942857142,40.720819285714285 z\" /><path fill-rule=\"evenodd\" fill=\"#ff3333\" stroke=\"#555555\" stroke-width=\"0.004953376799999774\" opacity=\"0.6\" d=\"M -124.286932,40.720819285714285 L -124.286932,40.747270428571426 L -124.25417157142857,40.747270428571426 L -124.25417157142857,40.720819285714285 L -124.286932,40.720819285714285 z\" /><path fill-rule=\"evenodd\" fill=\"#ff3333\" stroke=\"#555555\" stroke-width=\"0.004953376799999774\" opacity=\"0.6\" d=\"M -124.25417157142857,40.747270428571426 L -124.22141114285714,40.747270428571426 L -124.22141114285714,40.720819285714285 L -124.25417157142857,40.720819285714285 L -124.25417157142857,40.747270428571426 z\" /><path fill-rule=\"evenodd\" fill=\"#ff3333\" stroke=\"#555555\" stroke-width=\"0.004953376799999774\" opacity=\"0.6\" d=\"M -124.22141114285714,40.747270428571426 L -124.18865071428571,40.747270428571426 L -124.18865071428571,40.720819285714285 L -124.22141114285714,40.720819285714285 L -124.22141114285714,40.747270428571426 z\" /><path fill-rule=\"evenodd\" fill=\"#ff3333\" stroke=\"#555555\" stroke-width=\"0.004953376799999774\" opacity=\"0.6\" d=\"M -124.18865071428571,40.747270428571426 L -124.15589028571428,40.747270428571426 L -124.15589028571428,40.720819285714285 L -124.18865071428571,40.720819285714285 L -124.18865071428571,40.747270428571426 z\" /><path fill-rule=\"evenodd\" fill=\"#ff3333\" stroke=\"#555555\" stroke-width=\"0.004953376799999774\" opacity=\"0.6\" d=\"M -124.15589028571428,40.747270428571426 L -124.12312985714286,40.747270428571426 L -124.12312985714286,40.720819285714285 L -124.15589028571428,40.720819285714285 L -124.15589028571428,40.747270428571426 z\" /><path fill-rule=\"evenodd\" fill=\"#ff3333\" stroke=\"#555555\" stroke-width=\"0.004953376799999774\" opacity=\"0.6\" d=\"M -124.12312985714286,40.747270428571426 L -124.09036942857142,40.747270428571426 L -124.09036942857142,40.720819285714285 L -124.12312985714286,40.720819285714285 L -124.12312985714286,40.747270428571426 z\" /><path fill-rule=\"evenodd\" fill=\"#ff3333\" stroke=\"#555555\" stroke-width=\"0.004953376799999774\" opacity=\"0.6\" d=\"M -124.09036942857142,40.747270428571426 L -124.057609,40.747270428571426 L -124.057609,40.720819285714285 L -124.09036942857142,40.720819285714285 L -124.09036942857142,40.747270428571426 z\" /><path fill-rule=\"evenodd\" fill=\"#ff3333\" stroke=\"#555555\" stroke-width=\"0.004953376799999774\" opacity=\"0.6\" d=\"M -124.286932,40.747270428571426 L -124.286932,40.773721571428574 L -124.25417157142857,40.773721571428574 L -124.25417157142857,40.747270428571426 L -124.286932,40.747270428571426 z\" /><path fill-rule=\"evenodd\" fill=\"#ff3333\" stroke=\"#555555\" stroke-width=\"0.004953376799999774\" opacity=\"0.6\" d=\"M -124.25417157142857,40.773721571428574 L -124.22141114285714,40.773721571428574 L -124.22141114285714,40.747270428571426 L -124.25417157142857,40.747270428571426 L -124.25417157142857,40.773721571428574 z\" /><path fill-rule=\"evenodd\" fill=\"#ff3333\" stroke=\"#555555\" stroke-width=\"0.004953376799999774\" opacity=\"0.6\" d=\"M -124.22141114285714,40.773721571428574 L -124.18865071428571,40.773721571428574 L -124.18865071428571,40.747270428571426 L -124.22141114285714,40.747270428571426 L -124.22141114285714,40.773721571428574 z\" /><path fill-rule=\"evenodd\" fill=\"#ff3333\" stroke=\"#555555\" stroke-width=\"0.004953376799999774\" opacity=\"0.6\" d=\"M -124.18865071428571,40.773721571428574 L -124.15589028571428,40.773721571428574 L -124.15589028571428,40.747270428571426 L -124.18865071428571,40.747270428571426 L -124.18865071428571,40.773721571428574 z\" /><path fill-rule=\"evenodd\" fill=\"#ff3333\" stroke=\"#555555\" stroke-width=\"0.004953376799999774\" opacity=\"0.6\" d=\"M -124.15589028571428,40.773721571428574 L -124.12312985714286,40.773721571428574 L -124.12312985714286,40.747270428571426 L -124.15589028571428,40.747270428571426 L -124.15589028571428,40.773721571428574 z\" /><path fill-rule=\"evenodd\" fill=\"#ff3333\" stroke=\"#555555\" stroke-width=\"0.004953376799999774\" opacity=\"0.6\" d=\"M -124.12312985714286,40.773721571428574 L -124.09036942857142,40.773721571428574 L -124.09036942857142,40.747270428571426 L -124.12312985714286,40.747270428571426 L -124.12312985714286,40.773721571428574 z\" /><path fill-rule=\"evenodd\" fill=\"#ff3333\" stroke=\"#555555\" stroke-width=\"0.004953376799999774\" opacity=\"0.6\" d=\"M -124.09036942857142,40.773721571428574 L -124.057609,40.773721571428574 L -124.057609,40.747270428571426 L -124.09036942857142,40.747270428571426 L -124.09036942857142,40.773721571428574 z\" /><path fill-rule=\"evenodd\" fill=\"#ff3333\" stroke=\"#555555\" stroke-width=\"0.004953376799999774\" opacity=\"0.6\" d=\"M -124.286932,40.773721571428574 L -124.286932,40.800172714285715 L -124.25417157142857,40.800172714285715 L -124.25417157142857,40.773721571428574 L -124.286932,40.773721571428574 z\" /><path fill-rule=\"evenodd\" fill=\"#ff3333\" stroke=\"#555555\" stroke-width=\"0.004953376799999774\" opacity=\"0.6\" d=\"M -124.25417157142857,40.800172714285715 L -124.22141114285714,40.800172714285715 L -124.22141114285714,40.773721571428574 L -124.25417157142857,40.773721571428574 L -124.25417157142857,40.800172714285715 z\" /><path fill-rule=\"evenodd\" fill=\"#ff3333\" stroke=\"#555555\" stroke-width=\"0.004953376799999774\" opacity=\"0.6\" d=\"M -124.22141114285714,40.800172714285715 L -124.18865071428571,40.800172714285715 L -124.18865071428571,40.773721571428574 L -124.22141114285714,40.773721571428574 L -124.22141114285714,40.800172714285715 z\" /><path fill-rule=\"evenodd\" fill=\"#ff3333\" stroke=\"#555555\" stroke-width=\"0.004953376799999774\" opacity=\"0.6\" d=\"M -124.18865071428571,40.800172714285715 L -124.15589028571428,40.800172714285715 L -124.15589028571428,40.773721571428574 L -124.18865071428571,40.773721571428574 L -124.18865071428571,40.800172714285715 z\" /><path fill-rule=\"evenodd\" fill=\"#ff3333\" stroke=\"#555555\" stroke-width=\"0.004953376799999774\" opacity=\"0.6\" d=\"M -124.15589028571428,40.800172714285715 L -124.12312985714286,40.800172714285715 L -124.12312985714286,40.773721571428574 L -124.15589028571428,40.773721571428574 L -124.15589028571428,40.800172714285715 z\" /><path fill-rule=\"evenodd\" fill=\"#ff3333\" stroke=\"#555555\" stroke-width=\"0.004953376799999774\" opacity=\"0.6\" d=\"M -124.12312985714286,40.800172714285715 L -124.09036942857142,40.800172714285715 L -124.09036942857142,40.773721571428574 L -124.12312985714286,40.773721571428574 L -124.12312985714286,40.800172714285715 z\" /><path fill-rule=\"evenodd\" fill=\"#ff3333\" stroke=\"#555555\" stroke-width=\"0.004953376799999774\" opacity=\"0.6\" d=\"M -124.09036942857142,40.800172714285715 L -124.057609,40.800172714285715 L -124.057609,40.773721571428574 L -124.09036942857142,40.773721571428574 L -124.09036942857142,40.800172714285715 z\" /><path fill-rule=\"evenodd\" fill=\"#ff3333\" stroke=\"#555555\" stroke-width=\"0.004953376799999774\" opacity=\"0.6\" d=\"M -124.286932,40.800172714285715 L -124.286932,40.826623857142856 L -124.25417157142857,40.826623857142856 L -124.25417157142857,40.800172714285715 L -124.286932,40.800172714285715 z\" /><path fill-rule=\"evenodd\" fill=\"#ff3333\" stroke=\"#555555\" stroke-width=\"0.004953376799999774\" opacity=\"0.6\" d=\"M -124.25417157142857,40.826623857142856 L -124.22141114285714,40.826623857142856 L -124.22141114285714,40.800172714285715 L -124.25417157142857,40.800172714285715 L -124.25417157142857,40.826623857142856 z\" /><path fill-rule=\"evenodd\" fill=\"#ff3333\" stroke=\"#555555\" stroke-width=\"0.004953376799999774\" opacity=\"0.6\" d=\"M -124.22141114285714,40.826623857142856 L -124.18865071428571,40.826623857142856 L -124.18865071428571,40.800172714285715 L -124.22141114285714,40.800172714285715 L -124.22141114285714,40.826623857142856 z\" /><path fill-rule=\"evenodd\" fill=\"#ff3333\" stroke=\"#555555\" stroke-width=\"0.004953376799999774\" opacity=\"0.6\" d=\"M -124.18865071428571,40.826623857142856 L -124.15589028571428,40.826623857142856 L -124.15589028571428,40.800172714285715 L -124.18865071428571,40.800172714285715 L -124.18865071428571,40.826623857142856 z\" /><path fill-rule=\"evenodd\" fill=\"#ff3333\" stroke=\"#555555\" stroke-width=\"0.004953376799999774\" opacity=\"0.6\" d=\"M -124.15589028571428,40.826623857142856 L -124.12312985714286,40.826623857142856 L -124.12312985714286,40.800172714285715 L -124.15589028571428,40.800172714285715 L -124.15589028571428,40.826623857142856 z\" /><path fill-rule=\"evenodd\" fill=\"#ff3333\" stroke=\"#555555\" stroke-width=\"0.004953376799999774\" opacity=\"0.6\" d=\"M -124.12312985714286,40.826623857142856 L -124.09036942857142,40.826623857142856 L -124.09036942857142,40.800172714285715 L -124.12312985714286,40.800172714285715 L -124.12312985714286,40.826623857142856 z\" /><path fill-rule=\"evenodd\" fill=\"#ff3333\" stroke=\"#555555\" stroke-width=\"0.004953376799999774\" opacity=\"0.6\" d=\"M -124.09036942857142,40.826623857142856 L -124.057609,40.826623857142856 L -124.057609,40.800172714285715 L -124.09036942857142,40.800172714285715 L -124.09036942857142,40.826623857142856 z\" /><path fill-rule=\"evenodd\" fill=\"#ff3333\" stroke=\"#555555\" stroke-width=\"0.004953376799999774\" opacity=\"0.6\" d=\"M -124.286932,40.826623857142856 L -124.286932,40.853075 L -124.25417157142857,40.853075 L -124.25417157142857,40.826623857142856 L -124.286932,40.826623857142856 z\" /><path fill-rule=\"evenodd\" fill=\"#ff3333\" stroke=\"#555555\" stroke-width=\"0.004953376799999774\" opacity=\"0.6\" d=\"M -124.25417157142857,40.853075 L -124.22141114285714,40.853075 L -124.22141114285714,40.826623857142856 L -124.25417157142857,40.826623857142856 L -124.25417157142857,40.853075 z\" /><path fill-rule=\"evenodd\" fill=\"#ff3333\" stroke=\"#555555\" stroke-width=\"0.004953376799999774\" opacity=\"0.6\" d=\"M -124.22141114285714,40.853075 L -124.18865071428571,40.853075 L -124.18865071428571,40.826623857142856 L -124.22141114285714,40.826623857142856 L -124.22141114285714,40.853075 z\" /><path fill-rule=\"evenodd\" fill=\"#ff3333\" stroke=\"#555555\" stroke-width=\"0.004953376799999774\" opacity=\"0.6\" d=\"M -124.18865071428571,40.853075 L -124.15589028571428,40.853075 L -124.15589028571428,40.826623857142856 L -124.18865071428571,40.826623857142856 L -124.18865071428571,40.853075 z\" /><path fill-rule=\"evenodd\" fill=\"#ff3333\" stroke=\"#555555\" stroke-width=\"0.004953376799999774\" opacity=\"0.6\" d=\"M -124.15589028571428,40.853075 L -124.12312985714286,40.853075 L -124.12312985714286,40.826623857142856 L -124.15589028571428,40.826623857142856 L -124.15589028571428,40.853075 z\" /><path fill-rule=\"evenodd\" fill=\"#ff3333\" stroke=\"#555555\" stroke-width=\"0.004953376799999774\" opacity=\"0.6\" d=\"M -124.12312985714286,40.853075 L -124.09036942857142,40.853075 L -124.09036942857142,40.826623857142856 L -124.12312985714286,40.826623857142856 L -124.12312985714286,40.853075 z\" /><path fill-rule=\"evenodd\" fill=\"#ff3333\" stroke=\"#555555\" stroke-width=\"0.004953376799999774\" opacity=\"0.6\" d=\"M -124.09036942857142,40.853075 L -124.057609,40.853075 L -124.057609,40.826623857142856 L -124.09036942857142,40.826623857142856 L -124.09036942857142,40.853075 z\" /></g></g></svg>"
      ],
      "text/plain": [
       "<MULTIPOLYGON (((-124.287 40.668, -124.287 40.694, -124.254 40.694, -124.254...>"
      ]
     },
     "execution_count": 214,
     "metadata": {},
     "output_type": "execute_result"
    }
   ],
   "source": [
    "split_polygon = splitPolygon(roi_gdf,num_splitters)\n",
    "split_polygon"
   ]
  },
  {
   "cell_type": "code",
   "execution_count": 236,
   "metadata": {},
   "outputs": [],
   "source": [
    "# get iteractive access to polygons that makeup multipart geometry\n",
    "# help(split_polygon.geoms)\n"
   ]
  },
  {
   "cell_type": "code",
   "execution_count": 243,
   "metadata": {},
   "outputs": [
    {
     "data": {
      "text/plain": [
       "tuple"
      ]
     },
     "execution_count": 243,
     "metadata": {},
     "output_type": "execute_result"
    }
   ],
   "source": [
    "type(list(part.exterior.coords)[0])"
   ]
  },
  {
   "cell_type": "code",
   "execution_count": 241,
   "metadata": {},
   "outputs": [
    {
     "data": {
      "text/plain": [
       "shapely.coords.CoordinateSequence"
      ]
     },
     "execution_count": 241,
     "metadata": {},
     "output_type": "execute_result"
    }
   ],
   "source": [
    "type(part.exterior.coords)"
   ]
  },
  {
   "cell_type": "code",
   "execution_count": 239,
   "metadata": {},
   "outputs": [
    {
     "name": "stdout",
     "output_type": "stream",
     "text": [
      "[(-124.286932, 40.667917), (-124.286932, 40.694368142857144), (-124.25417157142857, 40.694368142857144), (-124.25417157142857, 40.667917), (-124.286932, 40.667917)]\n",
      "[(-124.25417157142857, 40.694368142857144), (-124.22141114285714, 40.694368142857144), (-124.22141114285714, 40.667917), (-124.25417157142857, 40.667917), (-124.25417157142857, 40.694368142857144)]\n",
      "[(-124.22141114285714, 40.694368142857144), (-124.18865071428571, 40.694368142857144), (-124.18865071428571, 40.667917), (-124.22141114285714, 40.667917), (-124.22141114285714, 40.694368142857144)]\n",
      "[(-124.18865071428571, 40.694368142857144), (-124.15589028571428, 40.694368142857144), (-124.15589028571428, 40.667917), (-124.18865071428571, 40.667917), (-124.18865071428571, 40.694368142857144)]\n",
      "[(-124.15589028571428, 40.694368142857144), (-124.12312985714286, 40.694368142857144), (-124.12312985714286, 40.667917), (-124.15589028571428, 40.667917), (-124.15589028571428, 40.694368142857144)]\n",
      "[(-124.12312985714286, 40.694368142857144), (-124.09036942857142, 40.694368142857144), (-124.09036942857142, 40.667917), (-124.12312985714286, 40.667917), (-124.12312985714286, 40.694368142857144)]\n",
      "[(-124.09036942857142, 40.694368142857144), (-124.057609, 40.694368142857144), (-124.057609, 40.667917), (-124.09036942857142, 40.667917), (-124.09036942857142, 40.694368142857144)]\n",
      "[(-124.286932, 40.694368142857144), (-124.286932, 40.720819285714285), (-124.25417157142857, 40.720819285714285), (-124.25417157142857, 40.694368142857144), (-124.286932, 40.694368142857144)]\n",
      "[(-124.25417157142857, 40.720819285714285), (-124.22141114285714, 40.720819285714285), (-124.22141114285714, 40.694368142857144), (-124.25417157142857, 40.694368142857144), (-124.25417157142857, 40.720819285714285)]\n",
      "[(-124.22141114285714, 40.720819285714285), (-124.18865071428571, 40.720819285714285), (-124.18865071428571, 40.694368142857144), (-124.22141114285714, 40.694368142857144), (-124.22141114285714, 40.720819285714285)]\n",
      "[(-124.18865071428571, 40.720819285714285), (-124.15589028571428, 40.720819285714285), (-124.15589028571428, 40.694368142857144), (-124.18865071428571, 40.694368142857144), (-124.18865071428571, 40.720819285714285)]\n",
      "[(-124.15589028571428, 40.720819285714285), (-124.12312985714286, 40.720819285714285), (-124.12312985714286, 40.694368142857144), (-124.15589028571428, 40.694368142857144), (-124.15589028571428, 40.720819285714285)]\n",
      "[(-124.12312985714286, 40.720819285714285), (-124.09036942857142, 40.720819285714285), (-124.09036942857142, 40.694368142857144), (-124.12312985714286, 40.694368142857144), (-124.12312985714286, 40.720819285714285)]\n",
      "[(-124.09036942857142, 40.720819285714285), (-124.057609, 40.720819285714285), (-124.057609, 40.694368142857144), (-124.09036942857142, 40.694368142857144), (-124.09036942857142, 40.720819285714285)]\n",
      "[(-124.286932, 40.720819285714285), (-124.286932, 40.747270428571426), (-124.25417157142857, 40.747270428571426), (-124.25417157142857, 40.720819285714285), (-124.286932, 40.720819285714285)]\n",
      "[(-124.25417157142857, 40.747270428571426), (-124.22141114285714, 40.747270428571426), (-124.22141114285714, 40.720819285714285), (-124.25417157142857, 40.720819285714285), (-124.25417157142857, 40.747270428571426)]\n",
      "[(-124.22141114285714, 40.747270428571426), (-124.18865071428571, 40.747270428571426), (-124.18865071428571, 40.720819285714285), (-124.22141114285714, 40.720819285714285), (-124.22141114285714, 40.747270428571426)]\n",
      "[(-124.18865071428571, 40.747270428571426), (-124.15589028571428, 40.747270428571426), (-124.15589028571428, 40.720819285714285), (-124.18865071428571, 40.720819285714285), (-124.18865071428571, 40.747270428571426)]\n",
      "[(-124.15589028571428, 40.747270428571426), (-124.12312985714286, 40.747270428571426), (-124.12312985714286, 40.720819285714285), (-124.15589028571428, 40.720819285714285), (-124.15589028571428, 40.747270428571426)]\n",
      "[(-124.12312985714286, 40.747270428571426), (-124.09036942857142, 40.747270428571426), (-124.09036942857142, 40.720819285714285), (-124.12312985714286, 40.720819285714285), (-124.12312985714286, 40.747270428571426)]\n",
      "[(-124.09036942857142, 40.747270428571426), (-124.057609, 40.747270428571426), (-124.057609, 40.720819285714285), (-124.09036942857142, 40.720819285714285), (-124.09036942857142, 40.747270428571426)]\n",
      "[(-124.286932, 40.747270428571426), (-124.286932, 40.773721571428574), (-124.25417157142857, 40.773721571428574), (-124.25417157142857, 40.747270428571426), (-124.286932, 40.747270428571426)]\n",
      "[(-124.25417157142857, 40.773721571428574), (-124.22141114285714, 40.773721571428574), (-124.22141114285714, 40.747270428571426), (-124.25417157142857, 40.747270428571426), (-124.25417157142857, 40.773721571428574)]\n",
      "[(-124.22141114285714, 40.773721571428574), (-124.18865071428571, 40.773721571428574), (-124.18865071428571, 40.747270428571426), (-124.22141114285714, 40.747270428571426), (-124.22141114285714, 40.773721571428574)]\n",
      "[(-124.18865071428571, 40.773721571428574), (-124.15589028571428, 40.773721571428574), (-124.15589028571428, 40.747270428571426), (-124.18865071428571, 40.747270428571426), (-124.18865071428571, 40.773721571428574)]\n",
      "[(-124.15589028571428, 40.773721571428574), (-124.12312985714286, 40.773721571428574), (-124.12312985714286, 40.747270428571426), (-124.15589028571428, 40.747270428571426), (-124.15589028571428, 40.773721571428574)]\n",
      "[(-124.12312985714286, 40.773721571428574), (-124.09036942857142, 40.773721571428574), (-124.09036942857142, 40.747270428571426), (-124.12312985714286, 40.747270428571426), (-124.12312985714286, 40.773721571428574)]\n",
      "[(-124.09036942857142, 40.773721571428574), (-124.057609, 40.773721571428574), (-124.057609, 40.747270428571426), (-124.09036942857142, 40.747270428571426), (-124.09036942857142, 40.773721571428574)]\n",
      "[(-124.286932, 40.773721571428574), (-124.286932, 40.800172714285715), (-124.25417157142857, 40.800172714285715), (-124.25417157142857, 40.773721571428574), (-124.286932, 40.773721571428574)]\n",
      "[(-124.25417157142857, 40.800172714285715), (-124.22141114285714, 40.800172714285715), (-124.22141114285714, 40.773721571428574), (-124.25417157142857, 40.773721571428574), (-124.25417157142857, 40.800172714285715)]\n",
      "[(-124.22141114285714, 40.800172714285715), (-124.18865071428571, 40.800172714285715), (-124.18865071428571, 40.773721571428574), (-124.22141114285714, 40.773721571428574), (-124.22141114285714, 40.800172714285715)]\n",
      "[(-124.18865071428571, 40.800172714285715), (-124.15589028571428, 40.800172714285715), (-124.15589028571428, 40.773721571428574), (-124.18865071428571, 40.773721571428574), (-124.18865071428571, 40.800172714285715)]\n",
      "[(-124.15589028571428, 40.800172714285715), (-124.12312985714286, 40.800172714285715), (-124.12312985714286, 40.773721571428574), (-124.15589028571428, 40.773721571428574), (-124.15589028571428, 40.800172714285715)]\n",
      "[(-124.12312985714286, 40.800172714285715), (-124.09036942857142, 40.800172714285715), (-124.09036942857142, 40.773721571428574), (-124.12312985714286, 40.773721571428574), (-124.12312985714286, 40.800172714285715)]\n",
      "[(-124.09036942857142, 40.800172714285715), (-124.057609, 40.800172714285715), (-124.057609, 40.773721571428574), (-124.09036942857142, 40.773721571428574), (-124.09036942857142, 40.800172714285715)]\n",
      "[(-124.286932, 40.800172714285715), (-124.286932, 40.826623857142856), (-124.25417157142857, 40.826623857142856), (-124.25417157142857, 40.800172714285715), (-124.286932, 40.800172714285715)]\n",
      "[(-124.25417157142857, 40.826623857142856), (-124.22141114285714, 40.826623857142856), (-124.22141114285714, 40.800172714285715), (-124.25417157142857, 40.800172714285715), (-124.25417157142857, 40.826623857142856)]\n",
      "[(-124.22141114285714, 40.826623857142856), (-124.18865071428571, 40.826623857142856), (-124.18865071428571, 40.800172714285715), (-124.22141114285714, 40.800172714285715), (-124.22141114285714, 40.826623857142856)]\n",
      "[(-124.18865071428571, 40.826623857142856), (-124.15589028571428, 40.826623857142856), (-124.15589028571428, 40.800172714285715), (-124.18865071428571, 40.800172714285715), (-124.18865071428571, 40.826623857142856)]\n",
      "[(-124.15589028571428, 40.826623857142856), (-124.12312985714286, 40.826623857142856), (-124.12312985714286, 40.800172714285715), (-124.15589028571428, 40.800172714285715), (-124.15589028571428, 40.826623857142856)]\n",
      "[(-124.12312985714286, 40.826623857142856), (-124.09036942857142, 40.826623857142856), (-124.09036942857142, 40.800172714285715), (-124.12312985714286, 40.800172714285715), (-124.12312985714286, 40.826623857142856)]\n",
      "[(-124.09036942857142, 40.826623857142856), (-124.057609, 40.826623857142856), (-124.057609, 40.800172714285715), (-124.09036942857142, 40.800172714285715), (-124.09036942857142, 40.826623857142856)]\n",
      "[(-124.286932, 40.826623857142856), (-124.286932, 40.853075), (-124.25417157142857, 40.853075), (-124.25417157142857, 40.826623857142856), (-124.286932, 40.826623857142856)]\n",
      "[(-124.25417157142857, 40.853075), (-124.22141114285714, 40.853075), (-124.22141114285714, 40.826623857142856), (-124.25417157142857, 40.826623857142856), (-124.25417157142857, 40.853075)]\n",
      "[(-124.22141114285714, 40.853075), (-124.18865071428571, 40.853075), (-124.18865071428571, 40.826623857142856), (-124.22141114285714, 40.826623857142856), (-124.22141114285714, 40.853075)]\n",
      "[(-124.18865071428571, 40.853075), (-124.15589028571428, 40.853075), (-124.15589028571428, 40.826623857142856), (-124.18865071428571, 40.826623857142856), (-124.18865071428571, 40.853075)]\n",
      "[(-124.15589028571428, 40.853075), (-124.12312985714286, 40.853075), (-124.12312985714286, 40.826623857142856), (-124.15589028571428, 40.826623857142856), (-124.15589028571428, 40.853075)]\n",
      "[(-124.12312985714286, 40.853075), (-124.09036942857142, 40.853075), (-124.09036942857142, 40.826623857142856), (-124.12312985714286, 40.826623857142856), (-124.12312985714286, 40.853075)]\n",
      "[(-124.09036942857142, 40.853075), (-124.057609, 40.853075), (-124.057609, 40.826623857142856), (-124.09036942857142, 40.826623857142856), (-124.09036942857142, 40.853075)]\n"
     ]
    }
   ],
   "source": [
    "for part in split_polygon.geoms:\n",
    "    print(list(part.exterior.coords))\n",
    "    # print(part.exterior.coords)\n",
    "    # print(part)"
   ]
  },
  {
   "cell_type": "code",
   "execution_count": 218,
   "metadata": {},
   "outputs": [
    {
     "data": {
      "text/plain": [
       "'C:\\\\1_USGS\\\\5_Doodleverse\\\\1_Seg2Map_fork\\\\seg2map\\\\doge_palace\\\\feature1'"
      ]
     },
     "execution_count": 218,
     "metadata": {},
     "output_type": "execute_result"
    }
   ],
   "source": [
    "sitename=\"doge_palace\"\n",
    "dir_path = os.path.abspath(sitename + os.sep + \"feature\" + str(1))\n",
    "dir_path"
   ]
  },
  {
   "cell_type": "code",
   "execution_count": 226,
   "metadata": {},
   "outputs": [],
   "source": [
    "from typing import List\n",
    "def create_time_series_dirs(sitename:str,years:List[int],num_features:int):\n",
    "    for featurenumber in range(num_features):\n",
    "        for year in years:\n",
    "            dir_path = os.path.abspath(sitename + os.sep + \"feature\" + str(featurenumber))\n",
    "            if not os.path.exists(dir_path):\n",
    "                os.makedirs(dir_path)\n",
    "            sub_dir=os.path.join(dir_path,str(year))\n",
    "            if not os.path.exists(sub_dir):\n",
    "                os.makedirs(sub_dir)"
   ]
  },
  {
   "cell_type": "code",
   "execution_count": 228,
   "metadata": {},
   "outputs": [],
   "source": [
    "sitename=\"doge_palace\"\n",
    "years = [\"2006\", \"2009\",]\n",
    "num_features=2\n",
    "create_time_series_dirs(sitename,years,num_features)"
   ]
  },
  {
   "cell_type": "code",
   "execution_count": 223,
   "metadata": {},
   "outputs": [
    {
     "name": "stdout",
     "output_type": "stream",
     "text": [
      "0\n",
      "1\n"
     ]
    }
   ],
   "source": [
    "for i in range(num_features):\n",
    "    print(i)"
   ]
  },
  {
   "cell_type": "code",
   "execution_count": 216,
   "metadata": {},
   "outputs": [
    {
     "data": {
      "image/svg+xml": [
       "<svg xmlns=\"http://www.w3.org/2000/svg\" xmlns:xlink=\"http://www.w3.org/1999/xlink\" width=\"100.0\" height=\"100.0\" viewBox=\"-0.4 -0.4 10.8 10.8\" preserveAspectRatio=\"xMinYMin meet\"><g transform=\"matrix(1,0,0,-1,0,10.0)\"><g><path fill-rule=\"evenodd\" fill=\"#ff3333\" stroke=\"#555555\" stroke-width=\"0.21600000000000003\" opacity=\"0.6\" d=\"M 0.0,0.0 L 0.0,5.0 L 5.0,5.0 L 5.0,0.0 L 0.0,0.0 z\" /><path fill-rule=\"evenodd\" fill=\"#ff3333\" stroke=\"#555555\" stroke-width=\"0.21600000000000003\" opacity=\"0.6\" d=\"M 5.0,5.0 L 10.0,5.0 L 10.0,0.0 L 5.0,0.0 L 5.0,5.0 z\" /><path fill-rule=\"evenodd\" fill=\"#ff3333\" stroke=\"#555555\" stroke-width=\"0.21600000000000003\" opacity=\"0.6\" d=\"M 0.0,5.0 L 0.0,10.0 L 5.0,10.0 L 5.0,5.0 L 0.0,5.0 z\" /><path fill-rule=\"evenodd\" fill=\"#ff3333\" stroke=\"#555555\" stroke-width=\"0.21600000000000003\" opacity=\"0.6\" d=\"M 5.0,10.0 L 10.0,10.0 L 10.0,5.0 L 5.0,5.0 L 5.0,10.0 z\" /></g></g></svg>"
      ],
      "text/plain": [
       "<MULTIPOLYGON (((0 0, 0 5, 5 5, 5 0, 0 0)), ((5 5, 10 5, 10 0, 5 0, 5 5)), (...>"
      ]
     },
     "execution_count": 216,
     "metadata": {},
     "output_type": "execute_result"
    }
   ],
   "source": [
    "import geopandas as gpd\n",
    "from shapely.geometry import Polygon, MultiPolygon\n",
    "poly = Polygon([(0, 0), (0, 10), (10, 10), (10, 0)])\n",
    "df = gpd.GeoDataFrame(geometry=[poly])\n",
    "result = splitPolygon(df, 2)\n",
    "result # polygon split into 4 equally sized tiles"
   ]
  },
  {
   "cell_type": "code",
   "execution_count": 19,
   "metadata": {},
   "outputs": [
    {
     "data": {
      "text/plain": [
       "[(-124.166621, 40.871052),\n",
       " (-124.166621, 40.894933),\n",
       " (-124.142247, 40.894933),\n",
       " (-124.142247, 40.871052),\n",
       " (-124.166621, 40.871052)]"
      ]
     },
     "execution_count": 19,
     "metadata": {},
     "output_type": "execute_result"
    }
   ],
   "source": [
    "list(coastsegmap.rois.gdf[coastsegmap.rois.gdf[\"id\"]==\"1\"][\"geometry\"][0].exterior.coords)"
   ]
  },
  {
   "cell_type": "code",
   "execution_count": 21,
   "metadata": {},
   "outputs": [
    {
     "data": {
      "text/plain": [
       "[(-124.166621, 40.871052),\n",
       " (-124.166621, 40.894933),\n",
       " (-124.142247, 40.894933),\n",
       " (-124.142247, 40.871052),\n",
       " (-124.166621, 40.871052)]"
      ]
     },
     "execution_count": 21,
     "metadata": {},
     "output_type": "execute_result"
    }
   ],
   "source": [
    "coordinates=list(coastsegmap.rois.gdf[coastsegmap.rois.gdf[\"id\"]==\"1\"][\"geometry\"][0].exterior.coords)\n",
    "coordinates"
   ]
  },
  {
   "cell_type": "code",
   "execution_count": 24,
   "metadata": {},
   "outputs": [],
   "source": [
    "coordinates=[list(x)for x in coordinates]"
   ]
  },
  {
   "cell_type": "code",
   "execution_count": 25,
   "metadata": {},
   "outputs": [
    {
     "data": {
      "text/plain": [
       "[[-124.166621, 40.871052],\n",
       " [-124.166621, 40.894933],\n",
       " [-124.142247, 40.894933],\n",
       " [-124.142247, 40.871052],\n",
       " [-124.166621, 40.871052]]"
      ]
     },
     "execution_count": 25,
     "metadata": {},
     "output_type": "execute_result"
    }
   ],
   "source": [
    "coordinates"
   ]
  },
  {
   "cell_type": "code",
   "execution_count": null,
   "metadata": {},
   "outputs": [],
   "source": [
    "roi_geometry ="
   ]
  },
  {
   "cell_type": "code",
   "execution_count": 57,
   "metadata": {},
   "outputs": [
    {
     "data": {
      "text/plain": [
       "83.05864238999565"
      ]
     },
     "execution_count": 57,
     "metadata": {},
     "output_type": "execute_result"
    }
   ],
   "source": [
    "from area import area\n",
    "area_km2=area(rect['features'][0]['geometry'])/ 1e6\n",
    "area_km2\n",
    "# 0.00887890515200013"
   ]
  },
  {
   "cell_type": "code",
   "execution_count": 112,
   "metadata": {},
   "outputs": [
    {
     "data": {
      "text/plain": [
       "3"
      ]
     },
     "execution_count": 112,
     "metadata": {},
     "output_type": "execute_result"
    }
   ],
   "source": [
    "import math\n",
    "# get minimum number of horizontal and vertical splitters\n",
    "num_splitters = math.ceil(math.sqrt(area_km2/10))\n",
    "num_splitters"
   ]
  },
  {
   "cell_type": "code",
   "execution_count": null,
   "metadata": {},
   "outputs": [],
   "source": [
    "\n",
    "minx, miny, maxx, maxy = polygon.bounds\n",
    "minx, miny, maxx, maxy"
   ]
  },
  {
   "cell_type": "code",
   "execution_count": null,
   "metadata": {},
   "outputs": [],
   "source": []
  },
  {
   "cell_type": "code",
   "execution_count": null,
   "metadata": {},
   "outputs": [],
   "source": []
  },
  {
   "cell_type": "code",
   "execution_count": null,
   "metadata": {},
   "outputs": [],
   "source": [
    "y=[1,2,3,4]\n",
    "y"
   ]
  },
  {
   "cell_type": "code",
   "execution_count": null,
   "metadata": {},
   "outputs": [],
   "source": [
    "y.remove(2)"
   ]
  },
  {
   "cell_type": "code",
   "execution_count": null,
   "metadata": {},
   "outputs": [],
   "source": [
    "y"
   ]
  },
  {
   "cell_type": "code",
   "execution_count": null,
   "metadata": {},
   "outputs": [],
   "source": [
    "x=set([1,2,3,4])\n",
    "x"
   ]
  },
  {
   "cell_type": "code",
   "execution_count": null,
   "metadata": {},
   "outputs": [],
   "source": [
    "len(x)"
   ]
  },
  {
   "cell_type": "code",
   "execution_count": null,
   "metadata": {},
   "outputs": [],
   "source": [
    "x.remove(3)"
   ]
  },
  {
   "cell_type": "code",
   "execution_count": null,
   "metadata": {},
   "outputs": [],
   "source": [
    "x"
   ]
  },
  {
   "cell_type": "code",
   "execution_count": 5,
   "metadata": {},
   "outputs": [
    {
     "name": "stdout",
     "output_type": "stream",
     "text": [
      "GeoJSON(data={'type': 'FeatureCollection', 'features': [{'id': '0', 'type': 'Feature', 'properties': {'id': '1', 'style': {'color': '#555555', 'fill_color': '#555555', 'fillOpacity': 0.1, 'weight': 1}}, 'geometry': {'type': 'Polygon', 'coordinates': [[[-124.166621, 40.871052], [-124.166621, 40.894933], [-124.142247, 40.894933], [-124.142247, 40.871052], [-124.166621, 40.871052]]]}}, {'id': '1', 'type': 'Feature', 'properties': {'id': '2', 'style': {'color': '#555555', 'fill_color': '#555555', 'fillOpacity': 0.1, 'weight': 1}}, 'geometry': {'type': 'Polygon', 'coordinates': [[[-124.164718, 40.951685], [-124.164718, 41.016997], [-124.028772, 41.016997], [-124.028772, 40.951685], [-124.164718, 40.951685]]]}}, {'id': '2', 'type': 'Feature', 'properties': {'id': '3', 'style': {'color': '#555555', 'fill_color': '#555555', 'fillOpacity': 0.1, 'weight': 1}}, 'geometry': {'type': 'Polygon', 'coordinates': [[[-124.286932, 40.667917], [-124.286932, 40.853075], [-124.057609, 40.853075], [-124.057609, 40.667917], [-124.286932, 40.667917]]]}}, {'id': '3', 'type': 'Feature', 'properties': {'id': '4', 'style': {'color': '#555555', 'fill_color': '#555555', 'fillOpacity': 0.1, 'weight': 1}}, 'geometry': {'type': 'Polygon', 'coordinates': [[[-124.477806, 40.53132], [-124.477806, 40.662709], [-124.263588, 40.662709], [-124.263588, 40.53132], [-124.477806, 40.53132]]]}}, {'id': '4', 'type': 'Feature', 'properties': {'id': '5', 'style': {'color': '#555555', 'fill_color': '#555555', 'fillOpacity': 0.1, 'weight': 1}}, 'geometry': {'type': 'Polygon', 'coordinates': [[[-124.282512, 41.020147], [-124.282512, 41.276609], [-123.919989, 41.276609], [-123.919989, 41.020147], [-124.282512, 41.020147]]]}}]}, hover_style={'color': 'yellow', 'fillOpacity': 0.1}, name='ROI', style={'color': '#555555', 'fill_color': '#555555', 'fillOpacity': 0.1, 'weight': 1})\n"
     ]
    }
   ],
   "source": [
    "print(coastsegmap.map.find_layer('ROI'))"
   ]
  },
  {
   "cell_type": "code",
   "execution_count": null,
   "metadata": {},
   "outputs": [],
   "source": [
    "def get_callback(marker, html):\n",
    "    def callback(*args, **kwargs):\n",
    "        html.value = '''\n",
    "            <b>Glider Mission:</b><br>\n",
    "            {}\n",
    "        '''.format(marker.name)\n",
    "\n",
    "    return callback\n",
    "\n",
    "marker.on_mouseover(get_callback(marker, html))"
   ]
  },
  {
   "cell_type": "code",
   "execution_count": null,
   "metadata": {},
   "outputs": [],
   "source": [
    "def delete_callback(layer,coastseg_map):\n",
    "    def callback(*args, **kwargs):\n",
    "        print(\"yesss\")\n",
    "        coastseg_map.accordion.children[0].value=\"\"\" \n",
    "        <p>Layer: {}</p>\n",
    "        \"\"\".format(\n",
    "            layer\n",
    "        )\n",
    "        layer.style=delete_style\n",
    "\n",
    "    return callback\n",
    "\n",
    " # 'on_mouseout',\n",
    " # 'on_mouseover',\n",
    "# marker.on_mouseover(get_callback(layer))"
   ]
  },
  {
   "cell_type": "code",
   "execution_count": null,
   "metadata": {},
   "outputs": [],
   "source": [
    "def normal_callback(layer,coastseg_map):\n",
    "    def callback(*args, **kwargs):\n",
    "        print(\"yesss\")\n",
    "        coastseg_map.accordion.children[0].value=\"\"\" \n",
    "        <p>Layer: {}</p>\n",
    "        \"\"\".format(\n",
    "            layer\n",
    "        )\n",
    "        layer.style=normal_style\n",
    "\n",
    "    return callback"
   ]
  },
  {
   "cell_type": "code",
   "execution_count": null,
   "metadata": {},
   "outputs": [],
   "source": [
    "# dir(coastsegmap.map.find_layer('ROI'))"
   ]
  },
  {
   "cell_type": "code",
   "execution_count": null,
   "metadata": {},
   "outputs": [],
   "source": [
    "layer = coastsegmap.map.find_layer('ROI')\n",
    "# layer.on_hover(delete_callback(layer,coastsegmap))\n",
    "layer.on_mouseover(delete_callback(layer,coastsegmap))\n",
    "# layer.on_mouseout(normal_callback(layer,coastsegmap))\n",
    "existing_layer = coastsegmap.map.find_layer('ROI')\n",
    "if existing_layer is not None:\n",
    "    coastsegmap.map.remove_layer(existing_layer)\n",
    "coastsegmap.map.add_layer(layer)"
   ]
  },
  {
   "cell_type": "code",
   "execution_count": null,
   "metadata": {},
   "outputs": [],
   "source": [
    "existing_layer = coastsegmap.map.find_layer('ROI')\n",
    "if existing_layer is not None:\n",
    "    coastsegmap.map.remove_layer(existing_layer)"
   ]
  },
  {
   "cell_type": "code",
   "execution_count": null,
   "metadata": {},
   "outputs": [],
   "source": [
    "coastsegmap.map"
   ]
  },
  {
   "cell_type": "code",
   "execution_count": null,
   "metadata": {},
   "outputs": [],
   "source": [
    "layer.on_hover"
   ]
  },
  {
   "cell_type": "code",
   "execution_count": null,
   "metadata": {},
   "outputs": [],
   "source": [
    "delete_style = {'color': '#f73c02', 'fill_color': '#f73c02', 'fillOpacity': 0.1, 'weight': 1}\n",
    "unselect_style = {'color': '#555555', 'fill_color': '#555555', 'fillOpacity': 0.1, 'weight': 1}\n",
    "selected_style = {'color': '#ed2805', 'fill_color': '#ed2805', 'fillOpacity': 0.1, 'weight': 1}"
   ]
  },
  {
   "cell_type": "code",
   "execution_count": null,
   "metadata": {},
   "outputs": [],
   "source": [
    "coastsegmap.map.find_layer('ROI').style=unselect_style"
   ]
  },
  {
   "cell_type": "code",
   "execution_count": null,
   "metadata": {},
   "outputs": [],
   "source": [
    "# change layer to selected for deletion\n",
    "layer = coastsegmap.map.find_layer('ROI')\n",
    "layer.style=style={'color': '#ed2805', 'fill_color': '#ed2805', 'fillOpacity': 0.1, 'weight': 1}\n",
    "coastsegmap.map.add_layer(layer)"
   ]
  },
  {
   "cell_type": "code",
   "execution_count": null,
   "metadata": {},
   "outputs": [],
   "source": [
    "# deselect layer for deletion\n",
    "layer = coastsegmap.map.find_layer('ROI')\n",
    "layer.style=style={'color': '#555555', 'fill_color': '#555555', 'fillOpacity': 0.1, 'weight': 1}\n",
    "coastsegmap.map.add_layer(layer)"
   ]
  },
  {
   "cell_type": "code",
   "execution_count": null,
   "metadata": {},
   "outputs": [],
   "source": [
    "print(coastsegmap.rois)\n",
    "print(coastsegmap.ids)"
   ]
  },
  {
   "cell_type": "code",
   "execution_count": null,
   "metadata": {},
   "outputs": [],
   "source": [
    "new_id = \"1\" if coastsegmap.ids == [] else  str(int(max(coastsegmap.ids))+1)\n",
    "new_id"
   ]
  },
  {
   "cell_type": "code",
   "execution_count": null,
   "metadata": {},
   "outputs": [],
   "source": [
    "print(coastsegmap.rois.gdf)"
   ]
  },
  {
   "cell_type": "code",
   "execution_count": null,
   "metadata": {},
   "outputs": [],
   "source": [
    "import geopandas as gpd"
   ]
  },
  {
   "cell_type": "code",
   "execution_count": null,
   "metadata": {},
   "outputs": [],
   "source": [
    "filename = r\"C:\\1_USGS\\CoastSeg\\repos\\2_CoastSeg\\CoastSeg_fork\\Seg2Map\\rois.geojson\"\n",
    "with open(filename, \"r\") as f:\n",
    "    gpd_data = gpd.read_file(f)"
   ]
  },
  {
   "cell_type": "code",
   "execution_count": null,
   "metadata": {},
   "outputs": [],
   "source": [
    "gpd_data"
   ]
  },
  {
   "cell_type": "code",
   "execution_count": null,
   "metadata": {},
   "outputs": [],
   "source": [
    "main = gpd_data[gpd_data[\"id\"]!=id]\n",
    "main"
   ]
  },
  {
   "cell_type": "code",
   "execution_count": null,
   "metadata": {},
   "outputs": [],
   "source": [
    "id=\"13\"\n",
    "new_gdf = gpd_data[gpd_data[\"id\"]==id]\n",
    "new_gdf"
   ]
  },
  {
   "cell_type": "code",
   "execution_count": null,
   "metadata": {},
   "outputs": [],
   "source": [
    "import pandas as pd\n",
    "new_gdf = gpd.GeoDataFrame(\n",
    "        pd.concat([main, new_gdf], ignore_index=True)\n",
    "    )\n"
   ]
  },
  {
   "cell_type": "code",
   "execution_count": null,
   "metadata": {},
   "outputs": [],
   "source": [
    "new_gdf"
   ]
  },
  {
   "cell_type": "code",
   "execution_count": null,
   "metadata": {},
   "outputs": [],
   "source": [
    "class Feature:\n",
    "    def __init__(self):\n",
    "        self.gdf=\"\""
   ]
  },
  {
   "cell_type": "code",
   "execution_count": null,
   "metadata": {},
   "outputs": [],
   "source": [
    "feature =  Feature()"
   ]
  },
  {
   "cell_type": "code",
   "execution_count": null,
   "metadata": {},
   "outputs": [],
   "source": [
    "hasattr(feature,\"gdf\")"
   ]
  },
  {
   "cell_type": "code",
   "execution_count": null,
   "metadata": {},
   "outputs": [],
   "source": [
    "type(gpd_data) == gpd.GeoDataFrame"
   ]
  },
  {
   "cell_type": "code",
   "execution_count": null,
   "metadata": {},
   "outputs": [],
   "source": []
  }
 ],
 "metadata": {
  "kernelspec": {
   "display_name": "Python 3 (ipykernel)",
   "language": "python",
   "name": "python3"
  },
  "language_info": {
   "codemirror_mode": {
    "name": "ipython",
    "version": 3
   },
   "file_extension": ".py",
   "mimetype": "text/x-python",
   "name": "python",
   "nbconvert_exporter": "python",
   "pygments_lexer": "ipython3",
   "version": "3.10.8"
  },
  "vscode": {
   "interpreter": {
    "hash": "44f62ae1464d1bd94d46095295cce32bb1c15ab9a6effc0c50f8e5f2c4f28382"
   }
  }
 },
 "nbformat": 4,
 "nbformat_minor": 4
}
