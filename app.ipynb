{
 "cells": [
  {
   "cell_type": "code",
   "execution_count": 1,
   "metadata": {},
   "outputs": [],
   "source": [
    "import os\n",
    "# Local Imports\n",
    "from src.seg2map import map_interface\n",
    "from src.seg2map import log_maker #must be the first module loaded to create logs folder\n",
    "\n",
    "# External Imports\n",
    "import ee\n",
    "from google.auth import exceptions as google_auth_exceptions\n",
    "\n",
    "# suppress tensorflow warnings\n",
    "os.environ['TF_CPP_MIN_LOG_LEVEL'] = '3'"
   ]
  },
  {
   "cell_type": "markdown",
   "metadata": {},
   "source": [
    "## Authenticate and Initialize with Google Earth Engine (GEE)\n",
    "\n",
    "- Run this cell to initialize with GEE which will allow you to download remote sensing data from GEE.\n",
    "\n",
    "### First Time Users\n",
    "\n",
    "- In order to use Google Earth Engine (GEE) you will need to sign up to request access to use Google Earth Engine.https://signup.earthengine.google.com. You will only need to do this once and it takes only a day to get your account verified.\n",
    "\n",
    "### How `ee.Authenticate()` works\n",
    "\n",
    "- In order to initialize with GEE you will need an authorization token with is obtained by running `ee.Authenticate()`.This token lasts 7 days and during those 7 days you will not need to authenticate with google earth engine with an access code. Once the 7 days are up you will need to reauthenticate to use GEE again.\n"
   ]
  },
  {
   "cell_type": "code",
   "execution_count": 14,
   "metadata": {},
   "outputs": [],
   "source": [
    "try:\n",
    "    ee.Initialize()\n",
    "except google_auth_exceptions.RefreshError as exception:\n",
    "    print(\"Please authenticate with Google:\\n\")\n",
    "    ee.Authenticate()\n",
    "    ee.Initialize()"
   ]
  },
  {
   "cell_type": "markdown",
   "metadata": {},
   "source": [
    "# How to Use The Map\n",
    "\n",
    "---\n",
    "1.  Click `Save Settings` Button\n",
    "1. Use the rectangle tool to draw a bounding box along the coastline.\n",
    "2. Click `Generate ROI` to create ROI rectangles along the coastline in the bounding box. This may take some time.\n",
    "- You should see a coastline appear in yellow and some rectangles along it.\n",
    "3. Load transects into your bounding box with the `Load Transects` button. If any exist for the bounding box you selected they should appear.\n",
    "4. Click the ROIs you want to download.\n",
    "5. Once you've selected all the ROIs you want to download click `Downlod Imagery`\n",
    " - If any of the ROIs succesfully download they will have their own folder with all their data in the `data` directory in the `CoastSeg` directory\n",
    "6. To extract a timeseries of shorelines for the ROIs you downloaded click `Extract Shorelines`\n",
    "7. If any shorelines were extracted you can compute the cross distances along the transects and shoreline by clicking `Compute Transects` and save the output to a json file in the roi directory\n",
    "8. If any shorelines were extracted you can compute the cross distances along the transects and shoreline by clicking `Save Transects CSV`  and save the output to a csv in the roi directory"
   ]
  },
  {
   "cell_type": "code",
   "execution_count": 2,
   "metadata": {},
   "outputs": [
    {
     "data": {
      "application/vnd.jupyter.widget-view+json": {
       "model_id": "698a51d7ce724bcd85a48481e3a79fb2",
       "version_major": 2,
       "version_minor": 0
      },
      "text/plain": [
       "HBox(children=(Accordion(children=(VBox(children=(VBox(children=(HTML(value='<b>Pick a date:</b>', layout=Layo…"
      ]
     },
     "metadata": {},
     "output_type": "display_data"
    },
    {
     "data": {
      "application/vnd.jupyter.widget-view+json": {
       "model_id": "d54c731cdcd14ed9ae43434c574f353b",
       "version_major": 2,
       "version_minor": 0
      },
      "text/plain": [
       "HBox(children=(VBox(children=(VBox(children=(HTML(value='<h2>Save to file</h2>                Save feature on …"
      ]
     },
     "metadata": {},
     "output_type": "display_data"
    },
    {
     "data": {
      "application/vnd.jupyter.widget-view+json": {
       "model_id": "d318fdfbdef745a89ee26012a482dc86",
       "version_major": 2,
       "version_minor": 0
      },
      "text/plain": [
       "HBox(children=(Button(description='Clear TextBox', style=ButtonStyle(button_color='#a3adac')), Output(layout=L…"
      ]
     },
     "metadata": {},
     "output_type": "display_data"
    },
    {
     "data": {
      "application/vnd.jupyter.widget-view+json": {
       "model_id": "db7abecd6e354193a49a30e0f93971e2",
       "version_major": 2,
       "version_minor": 0
      },
      "text/plain": [
       "HBox()"
      ]
     },
     "metadata": {},
     "output_type": "display_data"
    },
    {
     "data": {
      "application/vnd.jupyter.widget-view+json": {
       "model_id": "b8204e5ee6134d0ea8ac83eedb6f8042",
       "version_major": 2,
       "version_minor": 0
      },
      "text/plain": [
       "HBox()"
      ]
     },
     "metadata": {},
     "output_type": "display_data"
    },
    {
     "data": {
      "application/vnd.jupyter.widget-view+json": {
       "model_id": "2be527c0b41b4725a64e37801e797ccb",
       "version_major": 2,
       "version_minor": 0
      },
      "text/plain": [
       "HBox(children=(Map(center=[40.8630302395, -124.166267], controls=(AttributionControl(options=['position', 'pre…"
      ]
     },
     "metadata": {},
     "output_type": "display_data"
    },
    {
     "data": {
      "application/vnd.jupyter.widget-view+json": {
       "model_id": "4e2de550827342489a76af61b26dccd5",
       "version_major": 2,
       "version_minor": 0
      },
      "text/plain": [
       "HBox(children=(Output(layout=Layout(border='1px solid black')),))"
      ]
     },
     "metadata": {},
     "output_type": "display_data"
    }
   ],
   "source": [
    "# from coastseg.map_UI import UI\n",
    "from src.seg2map.map_UI import UI\n",
    "from src.seg2map.map_interface import CoastSeg_Map\n",
    "\n",
    "coastsegmap=CoastSeg_Map()\n",
    "coastseg_ui = UI(coastsegmap)\n",
    "coastseg_ui.create_dashboard()"
   ]
  },
  {
   "cell_type": "code",
   "execution_count": 6,
   "metadata": {},
   "outputs": [],
   "source": [
    "from final_download__jupyter import *"
   ]
  },
  {
   "cell_type": "code",
   "execution_count": 10,
   "metadata": {},
   "outputs": [
    {
     "data": {
      "text/plain": [
       "('2010-01-01', '2010-12-31')"
      ]
     },
     "execution_count": 10,
     "metadata": {},
     "output_type": "execute_result"
    }
   ],
   "source": [
    "dates = coastsegmap.settings.get('dates')\n",
    "dates"
   ]
  },
  {
   "cell_type": "code",
   "execution_count": 12,
   "metadata": {},
   "outputs": [
    {
     "data": {
      "text/plain": [
       "['1', '2']"
      ]
     },
     "execution_count": 12,
     "metadata": {},
     "output_type": "execute_result"
    }
   ],
   "source": [
    "ids=list(coastsegmap.selected_set)\n",
    "ids"
   ]
  },
  {
   "cell_type": "code",
   "execution_count": null,
   "metadata": {},
   "outputs": [],
   "source": [
    "coastsegmap.rois.gdf[coastsegmap.rois.gdf[\"id\"]==\"1\"][\"geometry\"][0]"
   ]
  },
  {
   "cell_type": "code",
   "execution_count": 5,
   "metadata": {},
   "outputs": [
    {
     "data": {
      "text/html": [
       "<div>\n",
       "<style scoped>\n",
       "    .dataframe tbody tr th:only-of-type {\n",
       "        vertical-align: middle;\n",
       "    }\n",
       "\n",
       "    .dataframe tbody tr th {\n",
       "        vertical-align: top;\n",
       "    }\n",
       "\n",
       "    .dataframe thead th {\n",
       "        text-align: right;\n",
       "    }\n",
       "</style>\n",
       "<table border=\"1\" class=\"dataframe\">\n",
       "  <thead>\n",
       "    <tr style=\"text-align: right;\">\n",
       "      <th></th>\n",
       "      <th>geometry</th>\n",
       "      <th>id</th>\n",
       "    </tr>\n",
       "  </thead>\n",
       "  <tbody>\n",
       "    <tr>\n",
       "      <th>0</th>\n",
       "      <td>POLYGON ((-124.18084 40.85219, -124.18084 40.8...</td>\n",
       "      <td>1</td>\n",
       "    </tr>\n",
       "    <tr>\n",
       "      <th>1</th>\n",
       "      <td>POLYGON ((-124.19218 40.83216, -124.19218 40.8...</td>\n",
       "      <td>2</td>\n",
       "    </tr>\n",
       "  </tbody>\n",
       "</table>\n",
       "</div>"
      ],
      "text/plain": [
       "                                            geometry id\n",
       "0  POLYGON ((-124.18084 40.85219, -124.18084 40.8...  1\n",
       "1  POLYGON ((-124.19218 40.83216, -124.19218 40.8...  2"
      ]
     },
     "execution_count": 5,
     "metadata": {},
     "output_type": "execute_result"
    }
   ],
   "source": [
    "coastsegmap.rois.gdf"
   ]
  },
  {
   "cell_type": "code",
   "execution_count": 15,
   "metadata": {},
   "outputs": [
    {
     "name": "stdout",
     "output_type": "stream",
     "text": [
      "Area: 2.802515199480775\n",
      "Splitting ROI into {num_splitters}x{num_splitters} tiles\n",
      "tile_coords: [[(-124.180835, 40.852194), (-124.180835, 40.858740499999996), (-124.169416, 40.858740499999996), (-124.169416, 40.852194), (-124.180835, 40.852194)], [(-124.169416, 40.858740499999996), (-124.157997, 40.858740499999996), (-124.157997, 40.852194), (-124.169416, 40.852194), (-124.169416, 40.858740499999996)], [(-124.180835, 40.858740499999996), (-124.180835, 40.865287), (-124.169416, 40.865287), (-124.169416, 40.858740499999996), (-124.180835, 40.858740499999996)], [(-124.169416, 40.865287), (-124.157997, 40.865287), (-124.157997, 40.858740499999996), (-124.169416, 40.858740499999996), (-124.169416, 40.865287)]]\n",
      "\n",
      " Images available for tile 0 : 1\n",
      "\n",
      " Images available for tile 1 : 1\n",
      "\n",
      " Images available for tile 2 : 1\n",
      "\n",
      " Images available for tile 3 : 1\n",
      "\n",
      "Total Images available across all tiles 4\n",
      "Total Images to Download: 8\n",
      "filename: tile0_USDA_NAIP_DOQQ_m_4012415_ne_10_1_20100629\n",
      "multi_filename: multiband0_USDA_NAIP_DOQQ_m_4012415_ne_10_1_20100629\n",
      "filename: tile1_USDA_NAIP_DOQQ_m_4012415_ne_10_1_20100629\n",
      "multi_filename: multiband1_USDA_NAIP_DOQQ_m_4012415_ne_10_1_20100629\n",
      "filename: tile2_USDA_NAIP_DOQQ_m_4012415_ne_10_1_20100629\n",
      "multi_filename: multiband2_USDA_NAIP_DOQQ_m_4012415_ne_10_1_20100629\n",
      "filename: tile3_USDA_NAIP_DOQQ_m_4012415_ne_10_1_20100629\n",
      "multi_filename: multiband3_USDA_NAIP_DOQQ_m_4012415_ne_10_1_20100629\n"
     ]
    },
    {
     "name": "stderr",
     "output_type": "stream",
     "text": [
      "All Downloads:   0%|                                                                             | 0/8 [00:00<?, ?it/s]"
     ]
    },
    {
     "name": "stdout",
     "output_type": "stream",
     "text": [
      "limit: <asyncio.locks.Semaphore object at 0x0000011AB0617DC0 [unlocked, value:10]>\n",
      "filename to download: multiband0_USDA_NAIP_DOQQ_m_4012415_ne_10_1_20100629\n",
      "limit: <asyncio.locks.Semaphore object at 0x0000011AB0617DC0 [unlocked, value:9]>\n",
      "filename to download: tile0_USDA_NAIP_DOQQ_m_4012415_ne_10_1_20100629\n",
      "limit: <asyncio.locks.Semaphore object at 0x0000011AB0617DC0 [unlocked, value:8]>\n",
      "filename to download: multiband1_USDA_NAIP_DOQQ_m_4012415_ne_10_1_20100629\n",
      "limit: <asyncio.locks.Semaphore object at 0x0000011AB0617DC0 [unlocked, value:7]>\n",
      "filename to download: tile1_USDA_NAIP_DOQQ_m_4012415_ne_10_1_20100629\n",
      "limit: <asyncio.locks.Semaphore object at 0x0000011AB0617DC0 [unlocked, value:6]>\n",
      "filename to download: multiband2_USDA_NAIP_DOQQ_m_4012415_ne_10_1_20100629\n",
      "limit: <asyncio.locks.Semaphore object at 0x0000011AB0617DC0 [unlocked, value:5]>\n",
      "filename to download: tile2_USDA_NAIP_DOQQ_m_4012415_ne_10_1_20100629\n",
      "limit: <asyncio.locks.Semaphore object at 0x0000011AB0617DC0 [unlocked, value:4]>\n",
      "filename to download: multiband3_USDA_NAIP_DOQQ_m_4012415_ne_10_1_20100629\n",
      "limit: <asyncio.locks.Semaphore object at 0x0000011AB0617DC0 [unlocked, value:3]>\n",
      "filename to download: tile3_USDA_NAIP_DOQQ_m_4012415_ne_10_1_20100629\n"
     ]
    },
    {
     "name": "stderr",
     "output_type": "stream",
     "text": [
      "All Downloads: 100%|█████████████████████████████████████████████████████████████████████| 8/8 [02:03<00:00, 15.50s/it]\n"
     ]
    },
    {
     "name": "stdout",
     "output_type": "stream",
     "text": [
      "outfile for vrt: C:\\1_USGS\\5_Doodleverse\\1_Seg2Map_fork\\seg2map\\two_rois\\ID_1_dates_2010-01-01_to_2010-12-31\\merged_multispectral.vrt\n",
      "Area: 3.3739676724389414\n",
      "Splitting ROI into {num_splitters}x{num_splitters} tiles\n",
      "tile_coords: [[(-124.192181, 40.832163), (-124.192181, 40.8394825), (-124.179889, 40.8394825), (-124.179889, 40.832163), (-124.192181, 40.832163)], [(-124.179889, 40.8394825), (-124.167597, 40.8394825), (-124.167597, 40.832163), (-124.179889, 40.832163), (-124.179889, 40.8394825)], [(-124.192181, 40.8394825), (-124.192181, 40.846802), (-124.179889, 40.846802), (-124.179889, 40.8394825), (-124.192181, 40.8394825)], [(-124.179889, 40.846802), (-124.167597, 40.846802), (-124.167597, 40.8394825), (-124.179889, 40.8394825), (-124.179889, 40.846802)]]\n",
      "\n",
      " Images available for tile 0 : 2\n",
      "\n",
      " Images available for tile 1 : 1\n",
      "\n",
      " Images available for tile 2 : 2\n",
      "\n",
      " Images available for tile 3 : 1\n",
      "\n",
      "Total Images available across all tiles 6\n",
      "Total Images to Download: 12\n",
      "filename: tile0_USDA_NAIP_DOQQ_m_4012415_ne_10_1_20100629\n",
      "multi_filename: multiband0_USDA_NAIP_DOQQ_m_4012415_ne_10_1_20100629\n",
      "filename: tile0_USDA_NAIP_DOQQ_m_4012415_nw_10_1_20100629\n",
      "multi_filename: multiband0_USDA_NAIP_DOQQ_m_4012415_nw_10_1_20100629\n",
      "filename: tile1_USDA_NAIP_DOQQ_m_4012415_ne_10_1_20100629\n",
      "multi_filename: multiband1_USDA_NAIP_DOQQ_m_4012415_ne_10_1_20100629\n",
      "filename: tile2_USDA_NAIP_DOQQ_m_4012415_ne_10_1_20100629\n",
      "multi_filename: multiband2_USDA_NAIP_DOQQ_m_4012415_ne_10_1_20100629\n",
      "filename: tile2_USDA_NAIP_DOQQ_m_4012415_nw_10_1_20100629\n",
      "multi_filename: multiband2_USDA_NAIP_DOQQ_m_4012415_nw_10_1_20100629\n",
      "filename: tile3_USDA_NAIP_DOQQ_m_4012415_ne_10_1_20100629\n",
      "multi_filename: multiband3_USDA_NAIP_DOQQ_m_4012415_ne_10_1_20100629\n"
     ]
    },
    {
     "name": "stderr",
     "output_type": "stream",
     "text": [
      "All Downloads:   0%|                                                                            | 0/12 [00:00<?, ?it/s]"
     ]
    },
    {
     "name": "stdout",
     "output_type": "stream",
     "text": [
      "limit: <asyncio.locks.Semaphore object at 0x0000011AB0617DC0 [unlocked, value:10]>\n",
      "filename to download: multiband0_USDA_NAIP_DOQQ_m_4012415_ne_10_1_20100629\n",
      "limit: <asyncio.locks.Semaphore object at 0x0000011AB0617DC0 [unlocked, value:9]>\n",
      "filename to download: tile0_USDA_NAIP_DOQQ_m_4012415_ne_10_1_20100629\n",
      "limit: <asyncio.locks.Semaphore object at 0x0000011AB0617DC0 [unlocked, value:8]>\n",
      "filename to download: multiband0_USDA_NAIP_DOQQ_m_4012415_nw_10_1_20100629\n",
      "limit: <asyncio.locks.Semaphore object at 0x0000011AB0617DC0 [unlocked, value:7]>\n",
      "filename to download: tile0_USDA_NAIP_DOQQ_m_4012415_nw_10_1_20100629\n",
      "limit: <asyncio.locks.Semaphore object at 0x0000011AB0617DC0 [unlocked, value:6]>\n",
      "filename to download: multiband1_USDA_NAIP_DOQQ_m_4012415_ne_10_1_20100629\n",
      "limit: <asyncio.locks.Semaphore object at 0x0000011AB0617DC0 [unlocked, value:5]>\n",
      "filename to download: tile1_USDA_NAIP_DOQQ_m_4012415_ne_10_1_20100629\n",
      "limit: <asyncio.locks.Semaphore object at 0x0000011AB0617DC0 [unlocked, value:4]>\n",
      "filename to download: multiband2_USDA_NAIP_DOQQ_m_4012415_ne_10_1_20100629\n",
      "limit: <asyncio.locks.Semaphore object at 0x0000011AB0617DC0 [unlocked, value:3]>\n",
      "filename to download: tile2_USDA_NAIP_DOQQ_m_4012415_ne_10_1_20100629\n",
      "limit: <asyncio.locks.Semaphore object at 0x0000011AB0617DC0 [unlocked, value:2]>\n",
      "filename to download: multiband2_USDA_NAIP_DOQQ_m_4012415_nw_10_1_20100629\n",
      "limit: <asyncio.locks.Semaphore object at 0x0000011AB0617DC0 [unlocked, value:1]>\n",
      "filename to download: tile2_USDA_NAIP_DOQQ_m_4012415_nw_10_1_20100629\n",
      "limit: <asyncio.locks.Semaphore object at 0x0000011AB0617DC0 [locked]>\n",
      "filename to download: multiband3_USDA_NAIP_DOQQ_m_4012415_ne_10_1_20100629\n",
      "Concurrency limit reached, waiting ...\n",
      "limit: <asyncio.locks.Semaphore object at 0x0000011AB0617DC0 [locked]>\n",
      "filename to download: tile3_USDA_NAIP_DOQQ_m_4012415_ne_10_1_20100629\n"
     ]
    },
    {
     "name": "stderr",
     "output_type": "stream",
     "text": [
      "All Downloads:   8%|█████▌                                                             | 1/12 [01:47<19:46, 107.89s/it]"
     ]
    },
    {
     "name": "stdout",
     "output_type": "stream",
     "text": [
      "Concurrency limit reached, waiting ...\n"
     ]
    },
    {
     "name": "stderr",
     "output_type": "stream",
     "text": [
      "All Downloads: 100%|███████████████████████████████████████████████████████████████████| 12/12 [03:23<00:00, 16.99s/it]\n"
     ]
    },
    {
     "name": "stdout",
     "output_type": "stream",
     "text": [
      "outfile for vrt: C:\\1_USGS\\5_Doodleverse\\1_Seg2Map_fork\\seg2map\\two_rois\\ID_2_dates_2010-01-01_to_2010-12-31\\merged_multispectral.vrt\n"
     ]
    }
   ],
   "source": [
    "roi_path=r'C:\\1_USGS\\5_Doodleverse\\1_Seg2Map_fork\\seg2map\\two_rois'\n",
    "run_async_download(roi_path,\n",
    "                   coastsegmap.rois.gdf,\n",
    "                   ids,\n",
    "                   dates)"
   ]
  },
  {
   "cell_type": "code",
   "execution_count": null,
   "metadata": {},
   "outputs": [],
   "source": [
    "coastsegmap.rois.gdf[coastsegmap.rois.gdf[\"id\"]==\"1\"].to_json()"
   ]
  },
  {
   "cell_type": "code",
   "execution_count": null,
   "metadata": {},
   "outputs": [],
   "source": []
  },
  {
   "cell_type": "code",
   "execution_count": null,
   "metadata": {},
   "outputs": [],
   "source": [
    "type(coastsegmap.rois.gdf[coastsegmap.rois.gdf[\"id\"]==\"1\"][\"geometry\"][0])"
   ]
  },
  {
   "cell_type": "code",
   "execution_count": null,
   "metadata": {},
   "outputs": [],
   "source": [
    "df = coastsegmap.rois.gdf[coastsegmap.rois.gdf[\"id\"]==\"1\"].bounds.drop(index=0)\n"
   ]
  },
  {
   "cell_type": "code",
   "execution_count": null,
   "metadata": {},
   "outputs": [],
   "source": [
    "coastsegmap.rois.gdf[coastsegmap.rois.gdf[\"id\"]==\"2\"].bounds"
   ]
  },
  {
   "cell_type": "code",
   "execution_count": null,
   "metadata": {},
   "outputs": [],
   "source": [
    "coastsegmap.rois.gdf[coastsegmap.rois.gdf[\"id\"]==\"2\"].boundary.plot()\n"
   ]
  },
  {
   "cell_type": "code",
   "execution_count": null,
   "metadata": {},
   "outputs": [],
   "source": [
    "import matplotlib.pyplot as plt\n",
    "from shapely.geometry import LineString, MultiPolygon, Polygon\n",
    "from shapely.ops import split\n",
    "def splitPolygon(polygon, nx, ny):\n",
    "    minx, miny, maxx, maxy = polygon.bounds.iloc[0]\n",
    "    dx = (maxx - minx) / nx  # width of a small part\n",
    "    dy = (maxy - miny) / ny  # height of a small part\n",
    "    horizontal_splitters = [LineString([(minx, miny + i*dy), (maxx, miny + i*dy)]) for i in range(ny)]\n",
    "    vertical_splitters = [LineString([(minx + i*dx, miny), (minx + i*dx, maxy)]) for i in range(nx)]\n",
    "    splitters = horizontal_splitters + vertical_splitters\n",
    "    result = polygon[\"geometry\"].iloc[0]\n",
    "    for splitter in splitters:\n",
    "        result = MultiPolygon(split(result, splitter))\n",
    "    return result\n",
    "\n",
    "# polygon = coastsegmap.rois.gdf[coastsegmap.rois.gdf[\"id\"]==\"2\"][\"geometry\"].iloc[0]\n",
    "polygon = coastsegmap.rois.gdf[coastsegmap.rois.gdf[\"id\"]==\"1\"]\n",
    "myPolygons = splitPolygon(polygon, 5, 5)\n",
    "import geopandas as gpd\n",
    "gdfR   = gpd.GeoDataFrame(columns=['geometry'], data=myPolygons.geoms)\n",
    "f,ax=plt.subplots()\n",
    "gdfR.boundary.plot(ax=ax, color='red')\n",
    "polygon.boundary.plot(ax=ax)"
   ]
  },
  {
   "cell_type": "code",
   "execution_count": null,
   "metadata": {},
   "outputs": [],
   "source": [
    "polygon = coastsegmap.rois.gdf[coastsegmap.rois.gdf[\"id\"]==\"1\"]\n",
    "minx, miny, maxx, maxy = polygon.bounds.iloc[0]\n",
    "minx, miny, maxx, maxy"
   ]
  },
  {
   "cell_type": "code",
   "execution_count": null,
   "metadata": {},
   "outputs": [],
   "source": [
    "polygon.bounds.iloc[0]"
   ]
  },
  {
   "cell_type": "code",
   "execution_count": null,
   "metadata": {},
   "outputs": [],
   "source": [
    "import os\n",
    "import geopandas as gpd\n",
    "import json\n",
    "from area import area\n",
    "import math\n",
    "import requests\n",
    "import zipfile"
   ]
  },
  {
   "cell_type": "code",
   "execution_count": null,
   "metadata": {},
   "outputs": [],
   "source": [
    "import json\n",
    "import math\n",
    "import os, json, shutil\n",
    "from glob import glob\n",
    "from typing import List, Tuple\n",
    "import platform\n",
    "\n",
    "import zipfile\n",
    "from area import area\n",
    "import numpy as np\n",
    "import geopandas as gpd\n",
    "import asyncio\n",
    "import aiohttp\n",
    "import tqdm.asyncio\n",
    "import nest_asyncio\n",
    "import matplotlib.pyplot as plt\n",
    "from shapely.geometry import LineString, MultiPolygon, Polygon\n",
    "from shapely.ops import split\n",
    "import geemap, ee\n",
    "from osgeo import gdal\n"
   ]
  },
  {
   "cell_type": "code",
   "execution_count": null,
   "metadata": {},
   "outputs": [],
   "source": [
    "def get_num_splitters(gdf:gpd.GeoDataFrame)->int:\n",
    "    # convert to geojson dictionary\n",
    "    roi_json = json.loads(gdf.to_json())\n",
    "    # only one feature is present select 1st feature's geometry\n",
    "    roi_geometry = roi_json['features'][0]['geometry']\n",
    "    # get area of entire shape as squared kilometers \n",
    "    area_km2=area(roi_geometry)/ 1e6\n",
    "    print(f\"Area(km^2): {area_km2}\")\n",
    "    # get minimum number of horizontal and vertical splitters to split area equally\n",
    "    num_splitters = math.ceil(math.sqrt(area_km2))\n",
    "    return num_splitters"
   ]
  },
  {
   "cell_type": "code",
   "execution_count": null,
   "metadata": {},
   "outputs": [],
   "source": [
    "def splitPolygon(polygon:gpd.GeoDataFrame, num_splitters:int):\n",
    "    minx, miny, maxx, maxy = polygon.bounds.iloc[0]\n",
    "    dx = (maxx - minx) / num_splitters  # width of a small part\n",
    "    dy = (maxy - miny) / num_splitters  # height of a small part\n",
    "    horizontal_splitters = [LineString([(minx, miny + i*dy), (maxx, miny + i*dy)]) for i in range(num_splitters)]\n",
    "    vertical_splitters = [LineString([(minx + i*dx, miny), (minx + i*dx, maxy)]) for i in range(num_splitters)]\n",
    "    splitters = horizontal_splitters + vertical_splitters\n",
    "    result = polygon[\"geometry\"].iloc[0]\n",
    "    for splitter in splitters:\n",
    "        result = MultiPolygon(split(result, splitter))\n",
    "    return result"
   ]
  },
  {
   "cell_type": "code",
   "execution_count": null,
   "metadata": {},
   "outputs": [],
   "source": [
    "filename=r'C:\\1_USGS\\5_Doodleverse\\1_Seg2Map_fork\\seg2map\\src\\seg2map\\NAIP\\hidden_beach.geojson'\n",
    "with open(filename, \"r\") as f:\n",
    "        gpd_data = gpd.read_file(f)\n",
    "gpd_data  "
   ]
  },
  {
   "cell_type": "code",
   "execution_count": null,
   "metadata": {},
   "outputs": [],
   "source": [
    "type(os.path.abspath(filename))"
   ]
  },
  {
   "cell_type": "code",
   "execution_count": null,
   "metadata": {},
   "outputs": [],
   "source": [
    "type(gpd_data)"
   ]
  },
  {
   "cell_type": "code",
   "execution_count": null,
   "metadata": {},
   "outputs": [],
   "source": [
    "gpd_data = coastsegmap.rois.gdf[coastsegmap.rois.gdf[\"id\"]==\"1\"]\n",
    "gpd_data"
   ]
  },
  {
   "cell_type": "code",
   "execution_count": null,
   "metadata": {},
   "outputs": [],
   "source": [
    "num_splitters = get_num_splitters(gpd_data)\n",
    "print(num_splitters)\n",
    "split_polygon = splitPolygon(gpd_data,num_splitters)\n",
    "split_polygon"
   ]
  },
  {
   "cell_type": "code",
   "execution_count": null,
   "metadata": {},
   "outputs": [],
   "source": [
    "print(split_polygon)"
   ]
  },
  {
   "cell_type": "code",
   "execution_count": null,
   "metadata": {},
   "outputs": [],
   "source": [
    "# gpd.GeoDataFrame(geometry=split_polygon)\n",
    "gpd.GeoSeries(split_polygon).to_json()"
   ]
  },
  {
   "cell_type": "code",
   "execution_count": null,
   "metadata": {},
   "outputs": [],
   "source": []
  },
  {
   "cell_type": "code",
   "execution_count": null,
   "metadata": {},
   "outputs": [],
   "source": [
    "# select an roi out of geodataframe \n",
    "roi_gdf=coastsegmap.rois.gdf[coastsegmap.rois.gdf[\"id\"]==\"1\"]\n",
    "#number of horizontal & vertical splitters needed to split ROI into equally sized tiles whose area <=10km^2\n",
    "num_splitters = get_num_splitters(roi_gdf)\n",
    "num_splitters"
   ]
  },
  {
   "cell_type": "code",
   "execution_count": null,
   "metadata": {},
   "outputs": [],
   "source": [
    "split_polygon = splitPolygon(roi_gdf,2)\n",
    "split_polygon"
   ]
  },
  {
   "cell_type": "code",
   "execution_count": null,
   "metadata": {},
   "outputs": [],
   "source": [
    "from typing import List\n",
    "def create_time_series_dirs(sitename:str,years:List[int],num_features:int):\n",
    "    for featurenumber in range(num_features):\n",
    "        for year in years:\n",
    "            dir_path = os.path.abspath(sitename + os.sep + \"feature\" + str(featurenumber))\n",
    "            if not os.path.exists(dir_path):\n",
    "                os.makedirs(dir_path)\n",
    "            sub_dir=os.path.join(dir_path,str(year))\n",
    "            if not os.path.exists(sub_dir):\n",
    "                os.makedirs(sub_dir)"
   ]
  },
  {
   "cell_type": "code",
   "execution_count": null,
   "metadata": {},
   "outputs": [],
   "source": [
    "sitename=\"doge_palace\"\n",
    "years = [\"2006\", \"2009\",]\n",
    "num_features=1\n",
    "create_time_series_dirs(sitename,years,num_features)\n",
    "site_path=os.path.abspath(sitename + os.sep + \"feature\" + str(0)+ os.sep+years[0])\n",
    "site_path"
   ]
  },
  {
   "cell_type": "code",
   "execution_count": null,
   "metadata": {},
   "outputs": [],
   "source": [
    "async def async_ee_export_image(\n",
    "    session,\n",
    "    ee_object,\n",
    "    filename,\n",
    "    scale=None,\n",
    "    crs=None,\n",
    "    crs_transform=None,\n",
    "    region=None,\n",
    "    dimensions=None,\n",
    "    file_per_band=False,\n",
    "    format=\"ZIPPED_GEO_TIFF\",\n",
    "    unmask_value=None,\n",
    "    timeout=300,\n",
    "    proxies=None,\n",
    "):\n",
    "    \"\"\"Exports an ee.Image as a GeoTIFF.\n",
    "    Args:\n",
    "        ee_object (object): The ee.Image to download.\n",
    "        filename (str): Output filename for the exported image.\n",
    "        scale (float, optional): A default scale to use for any bands that do not specify one; ignored if crs and crs_transform is specified. Defaults to None.\n",
    "        crs (str, optional): A default CRS string to use for any bands that do not explicitly specify one. Defaults to None.\n",
    "        crs_transform (list, optional): a default affine transform to use for any bands that do not specify one, of the same format as the crs_transform of bands. Defaults to None.\n",
    "        region (object, optional): A polygon specifying a region to download; ignored if crs and crs_transform is specified. Defaults to None.\n",
    "        dimensions (list, optional): An optional array of two integers defining the width and height to which the band is cropped. Defaults to None.\n",
    "        file_per_band (bool, optional): Whether to produce a different GeoTIFF per band. Defaults to False.\n",
    "        format (str, optional):  One of: \"ZIPPED_GEO_TIFF\" (GeoTIFF file(s) wrapped in a zip file, default), \"GEO_TIFF\" (GeoTIFF file), \"NPY\" (NumPy binary format). If \"GEO_TIFF\" or \"NPY\",\n",
    "            filePerBand and all band-level transformations will be ignored. Loading a NumPy output results in a structured array.\n",
    "        unmask_value (float, optional): The value to use for pixels that are masked in the input image.\n",
    "            If the exported image contains zero values, you should set the unmask value to a  non-zero value so that the zero values are not treated as missing data. Defaults to None.\n",
    "        timeout (int, optional): The timeout in seconds for the request. Defaults to 300.\n",
    "        proxies (dict, optional): A dictionary of proxy servers to use. Defaults to None.\n",
    "    \"\"\"\n",
    "\n",
    "    if not isinstance(ee_object, ee.Image):\n",
    "        print(\"The ee_object must be an ee.Image.\")\n",
    "        return\n",
    "\n",
    "    if unmask_value is not None:\n",
    "        ee_object = ee_object.selfMask().unmask(unmask_value)\n",
    "        if isinstance(region, ee.Geometry):\n",
    "            ee_object = ee_object.clip(region)\n",
    "        elif isinstance(region, ee.FeatureCollection):\n",
    "            ee_object = ee_object.clipToCollection(region)\n",
    "\n",
    "    filename = os.path.abspath(filename)\n",
    "    basename = os.path.basename(filename)\n",
    "    name = os.path.splitext(basename)[0]\n",
    "    filetype = os.path.splitext(basename)[1][1:].lower()\n",
    "    filename_zip = filename.replace(\".tif\", \".zip\")\n",
    "\n",
    "    if filetype != \"tif\":\n",
    "        print(\"The filename must end with .tif\")\n",
    "        return\n",
    "\n",
    "    try:\n",
    "        print(\"Generating URL ...\")\n",
    "        params = {\"name\": name, \"filePerBand\": file_per_band}\n",
    "\n",
    "        params[\"scale\"] = scale\n",
    "        if region is None:\n",
    "            region = ee_object.geometry()\n",
    "        if dimensions is not None:\n",
    "            params[\"dimensions\"] = dimensions\n",
    "        if region is not None:\n",
    "            params[\"region\"] = region\n",
    "        if crs is not None:\n",
    "            params[\"crs\"] = crs\n",
    "        if crs_transform is not None:\n",
    "            params[\"crs_transform\"] = crs_transform\n",
    "        params[\"format\"] = format\n",
    "\n",
    "        try:\n",
    "            url = ee_object.getDownloadURL(params)\n",
    "        except Exception as e:\n",
    "            print(\"An error occurred while downloading.\")\n",
    "            print(e)\n",
    "            raise e\n",
    "            print(e)\n",
    "            return\n",
    "        print(f\"Downloading data from {url}\\nPlease wait ...\")\n",
    "        chunk_size: int = 2048\n",
    "        async with session.get(url,stream=True, timeout=timeout, proxies=proxies, raise_for_status=True) as r:\n",
    "            if r.status_code != 200:\n",
    "                print(\"An error occurred while downloading.\")\n",
    "                return\n",
    "            content_length = r.headers.get(\"Content-Length\")\n",
    "            if content_length is not None:\n",
    "                content_length = int(content_length)\n",
    "                with open(filename_zip, \"wb\") as fd:\n",
    "                    with tqdm.auto.tqdm(\n",
    "                        total=content_length,\n",
    "                        unit=\"B\",\n",
    "                        unit_scale=True,\n",
    "                        unit_divisor=1024,\n",
    "                        desc=f\"Downloading...\",\n",
    "                        initial=0,\n",
    "                        ascii=False,\n",
    "                        position=0,\n",
    "                    ) as pbar:\n",
    "                        async for chunk in r.content.iter_chunked(chunk_size):\n",
    "                            fd.write(chunk)\n",
    "                            pbar.update(len(chunk))\n",
    "            else:\n",
    "                with open(filename_zip, \"wb\") as fd:\n",
    "                    async for chunk in r.content.iter_chunked(chunk_size):\n",
    "                        fd.write(chunk)           \n",
    "\n",
    "\n",
    "    except Exception as e:\n",
    "        print(e)\n",
    "        print(\"An error occurred while downloading.\")\n",
    "        print(r.json()[\"error\"][\"message\"])\n",
    "        return\n",
    "\n",
    "    try:\n",
    "        with zipfile.ZipFile(filename_zip) as z:\n",
    "            z.extractall(os.path.dirname(filename))\n",
    "        os.remove(filename_zip)\n",
    "\n",
    "        if file_per_band:\n",
    "            print(f\"Data downloaded to {os.path.dirname(filename)}\")\n",
    "        else:\n",
    "            print(f\"Data downloaded to {filename}\")\n",
    "    except Exception as e:\n",
    "        print(e)\n",
    "   \n"
   ]
  },
  {
   "cell_type": "code",
   "execution_count": null,
   "metadata": {},
   "outputs": [],
   "source": [
    "        \n",
    "async def async_download_tile(\n",
    "    session,\n",
    "    tile:List[Tuple],\n",
    "                  site_path:str,\n",
    "                  counter:int,\n",
    "                  gee_collection:str,\n",
    "                  dates:Tuple[str]):\n",
    "    # full path where downloaded image will be saved\n",
    "    OUT_RES_M = 0.5  # output raster spatial footprint in metres\n",
    "    \n",
    "    tile_path=os.path.join(site_path,\"chunk\"+ str(counter))\n",
    "    if os.path.exists(tile_path):\n",
    "        os.makedirs(tile_path)\n",
    "        \n",
    "    collection = ee.ImageCollection(gee_collection)\n",
    "    polys = ee.Geometry.Polygon(tile)\n",
    "    # get center of polygon as longitude and latitude\n",
    "    centroid = polys.centroid()\n",
    "    lng, lat = centroid.getInfo()[\"coordinates\"]\n",
    "    # get portion of collection within tile\n",
    "    collection = collection.filterBounds(polys)\n",
    "    # only get images within the start and end date range\n",
    "    collection = collection.filterDate(dates[0], dates[1]).sort(\n",
    "                \"system:time_start\", True\n",
    "            )\n",
    "    count = collection.size().getInfo()\n",
    "    img_lst = collection.toList(1000)\n",
    "    img_names = []\n",
    "    for i in range(0, count):\n",
    "        image = ee.Image(img_lst.get(i))\n",
    "        name = image.get(\"system:index\").getInfo()\n",
    "        img_names.append(name)\n",
    "        print(name)\n",
    "    # download each of the images from the collection    \n",
    "    for name in img_names:\n",
    "        image = ee.Image(gee_collection+\"/\" + name)\n",
    "        # full path where tif file will be saved\n",
    "        tile_path=os.path.join(site_path,\"chunk\"+ str(counter))\n",
    "        # make the folder to hold the chunks\n",
    "        if not os.path.exists(tile_path):\n",
    "            os.makedirs(tile_path)\n",
    "        tif_path = os.path.join(tile_path,\"chunk\"+ str(counter)+ \"_\"+ name+ \".tif\")\n",
    "        multiband_path= os.path.join(tile_path,\"chunk\"+ str(counter)+ \"_\"+ name+ \"_multiband.tif\")\n",
    "        # Export each band as one image\n",
    "        async_ee_export_image(\n",
    "            session,\n",
    "            image,\n",
    "            tif_path,\n",
    "            scale=OUT_RES_M,\n",
    "            region=polys,\n",
    "            file_per_band=True,\n",
    "            crs=\"EPSG:4326\",)\n",
    "        # export single image with all bands\n",
    "        async_ee_export_image(\n",
    "            session,\n",
    "            image,\n",
    "            multiband_path,\n",
    "            scale=OUT_RES_M,\n",
    "            region=polys,\n",
    "            file_per_band=False,\n",
    "            crs=\"EPSG:4326\",\n",
    "        )"
   ]
  },
  {
   "cell_type": "code",
   "execution_count": null,
   "metadata": {},
   "outputs": [],
   "source": [
    "def run_async_download(tiles:MultiPolygon,site_path:str,gee_collection:str,dates:Tuple[str]):\n",
    "    if platform.system() == \"Windows\":\n",
    "        asyncio.set_event_loop_policy(asyncio.WindowsSelectorEventLoopPolicy())\n",
    "    # apply a nested loop to jupyter's event loop for async downloading\n",
    "    nest_asyncio.apply()\n",
    "    # get nested running loop and wait for async downloads to complete\n",
    "    loop = asyncio.get_running_loop()\n",
    "    result = loop.run_until_complete(async_download_tiles(tiles,site_path,gee_collection,dates))\n",
    " "
   ]
  },
  {
   "cell_type": "code",
   "execution_count": null,
   "metadata": {},
   "outputs": [],
   "source": [
    "async def async_download_tiles(tiles:MultiPolygon,site_path:str,gee_collection:str,dates:Tuple[str]):\n",
    "    tile_coords= [list(part.exterior.coords) for part in tiles.geoms]\n",
    "    print(\"Number of individual tiles: {}\".format(len(tile_coords)))\n",
    "    async with aiohttp.ClientSession() as session:\n",
    "        await fetch_all(session, tile_coords,site_path,gee_collection,dates)"
   ]
  },
  {
   "cell_type": "code",
   "execution_count": null,
   "metadata": {},
   "outputs": [],
   "source": [
    "async def fetch_all(session, tile_coords,site_path:str,gee_collection:str,dates:Tuple[str]):\n",
    "    # creates task for each tile to be downloaded and waits for tasks to complete\n",
    "    tasks = []\n",
    "    for counter,tile in enumerate(tile_coords):\n",
    "        task = asyncio.create_task(async_download_tile(session,tile,site_path,counter,gee_collection,dates))\n",
    "        tasks.append(task)\n",
    "    await tqdm.asyncio.tqdm.gather(*tasks)"
   ]
  },
  {
   "cell_type": "code",
   "execution_count": null,
   "metadata": {},
   "outputs": [],
   "source": [
    "year=years[1]\n",
    "start_date = year + \"-01-01\"\n",
    "end_date = year + \"-12-31\"\n",
    "dates=(start_date,end_date)\n",
    "gee_collection = \"USDA/NAIP/DOQQ\"\n",
    "run_async_download(split_polygon,site_path,gee_collection,dates)"
   ]
  },
  {
   "cell_type": "code",
   "execution_count": null,
   "metadata": {},
   "outputs": [],
   "source": []
  },
  {
   "cell_type": "code",
   "execution_count": null,
   "metadata": {},
   "outputs": [],
   "source": []
  },
  {
   "cell_type": "code",
   "execution_count": null,
   "metadata": {},
   "outputs": [],
   "source": [
    "from typing import List, Tuple\n",
    "def download_tiles(tiles:MultiPolygon,site_path:str,gee_collection:str,dates:Tuple[str]):\n",
    "    tile_coords= [list(part.exterior.coords) for part in tiles.geoms]\n",
    "    print(\"Number of individual tiles: {}\".format(len(tile_coords)))\n",
    "    for counter,tile in enumerate(tile_coords):\n",
    "        download_tile(tile,site_path,counter,gee_collection,dates)"
   ]
  },
  {
   "cell_type": "code",
   "execution_count": null,
   "metadata": {},
   "outputs": [],
   "source": [
    "import geemap"
   ]
  },
  {
   "cell_type": "code",
   "execution_count": null,
   "metadata": {},
   "outputs": [],
   "source": [
    "def download_tile(tile:List[Tuple],\n",
    "                  site_path:str,\n",
    "                  counter:int,\n",
    "                  gee_collection:str,\n",
    "                  dates:Tuple[str]):\n",
    "    # full path where downloaded image will be saved\n",
    "    OUT_RES_M = 0.5  # output raster spatial footprint in metres\n",
    "    \n",
    "    tile_path=os.path.join(site_path,\"chunk\"+ str(counter))\n",
    "    if os.path.exists(tile_path):\n",
    "        os.makedirs(tile_path)\n",
    "        \n",
    "    collection = ee.ImageCollection(gee_collection)\n",
    "    # print(f\"Collection : {collection}\")\n",
    "    polys = ee.Geometry.Polygon(tile)\n",
    "    # get center of polygon as longitude and latitude\n",
    "    centroid = polys.centroid()\n",
    "    lng, lat = centroid.getInfo()[\"coordinates\"]\n",
    "    # get portion of collection within tile\n",
    "    collection = collection.filterBounds(polys)\n",
    "    # only get images within the start and end date range\n",
    "    collection = collection.filterDate(dates[0], dates[1]).sort(\n",
    "                \"system:time_start\", True\n",
    "            )\n",
    "    count = collection.size().getInfo()\n",
    "    print(f\"Collection Size: {count}\")\n",
    "    if count == 0:\n",
    "        return\n",
    "    img_lst = collection.toList(1000)\n",
    "    img_names = []\n",
    "    for i in range(0, count):\n",
    "        image = ee.Image(img_lst.get(i))\n",
    "        name = image.get(\"system:index\").getInfo()\n",
    "        img_names.append(name)\n",
    "    \n",
    "    print(f\"img_names: {img_names}\")\n",
    "    # download each of the images from the collection    \n",
    "    for name in img_names:\n",
    "        image = ee.Image(gee_collection+\"/\" + name)\n",
    "        # full path where tif file will be saved\n",
    "        tile_path=os.path.join(site_path,\"chunk\"+ str(counter))\n",
    "        if not os.path.exists(tile_path):\n",
    "            os.makedirs(tile_path)\n",
    "        tif_path = os.path.join(tile_path,\"chunk\"+ str(counter)+ \"_\"+ name+ \".tif\")\n",
    "        multiband_path= os.path.join(tile_path,\"chunk\"+ str(counter)+ \"_\"+ name+ \"_multiband.tif\")\n",
    "        print(f\"tile_path: {tile_path}\")\n",
    "        print(f\"tif_path: {tif_path}\")\n",
    "        print(f\"multiband_path: {multiband_path}\")\n",
    "        # Export each band as one image\n",
    "        ee_export_image(\n",
    "            image,\n",
    "            tif_path,\n",
    "            scale=OUT_RES_M,\n",
    "            region=polys,\n",
    "            file_per_band=True,\n",
    "            crs=\"EPSG:4326\",)\n",
    "        # export single image with all bands\n",
    "        ee_export_image(\n",
    "            image,\n",
    "            multiband_path,\n",
    "            scale=OUT_RES_M,\n",
    "            region=polys,\n",
    "            file_per_band=False,\n",
    "            crs=\"EPSG:4326\",\n",
    "        )"
   ]
  },
  {
   "cell_type": "code",
   "execution_count": null,
   "metadata": {},
   "outputs": [],
   "source": [
    "import requests\n",
    "def ee_export_image(\n",
    "    ee_object,\n",
    "    filename,\n",
    "    scale=None,\n",
    "    crs=None,\n",
    "    crs_transform=None,\n",
    "    region=None,\n",
    "    dimensions=None,\n",
    "    file_per_band=False,\n",
    "    format=\"ZIPPED_GEO_TIFF\",\n",
    "    unmask_value=None,\n",
    "    timeout=300,\n",
    "    proxies=None,\n",
    "):\n",
    "    \"\"\"Exports an ee.Image as a GeoTIFF.\n",
    "    Args:\n",
    "        ee_object (object): The ee.Image to download.\n",
    "        filename (str): Output filename for the exported image.\n",
    "        scale (float, optional): A default scale to use for any bands that do not specify one; ignored if crs and crs_transform is specified. Defaults to None.\n",
    "        crs (str, optional): A default CRS string to use for any bands that do not explicitly specify one. Defaults to None.\n",
    "        crs_transform (list, optional): a default affine transform to use for any bands that do not specify one, of the same format as the crs_transform of bands. Defaults to None.\n",
    "        region (object, optional): A polygon specifying a region to download; ignored if crs and crs_transform is specified. Defaults to None.\n",
    "        dimensions (list, optional): An optional array of two integers defining the width and height to which the band is cropped. Defaults to None.\n",
    "        file_per_band (bool, optional): Whether to produce a different GeoTIFF per band. Defaults to False.\n",
    "        format (str, optional):  One of: \"ZIPPED_GEO_TIFF\" (GeoTIFF file(s) wrapped in a zip file, default), \"GEO_TIFF\" (GeoTIFF file), \"NPY\" (NumPy binary format). If \"GEO_TIFF\" or \"NPY\",\n",
    "            filePerBand and all band-level transformations will be ignored. Loading a NumPy output results in a structured array.\n",
    "        unmask_value (float, optional): The value to use for pixels that are masked in the input image.\n",
    "            If the exported image contains zero values, you should set the unmask value to a  non-zero value so that the zero values are not treated as missing data. Defaults to None.\n",
    "        timeout (int, optional): The timeout in seconds for the request. Defaults to 300.\n",
    "        proxies (dict, optional): A dictionary of proxy servers to use. Defaults to None.\n",
    "    \"\"\"\n",
    "\n",
    "    if not isinstance(ee_object, ee.Image):\n",
    "        print(\"The ee_object must be an ee.Image.\")\n",
    "        return\n",
    "\n",
    "    if unmask_value is not None:\n",
    "        ee_object = ee_object.selfMask().unmask(unmask_value)\n",
    "        if isinstance(region, ee.Geometry):\n",
    "            ee_object = ee_object.clip(region)\n",
    "        elif isinstance(region, ee.FeatureCollection):\n",
    "            ee_object = ee_object.clipToCollection(region)\n",
    "\n",
    "    filename = os.path.abspath(filename)\n",
    "    basename = os.path.basename(filename)\n",
    "    name = os.path.splitext(basename)[0]\n",
    "    filetype = os.path.splitext(basename)[1][1:].lower()\n",
    "    filename_zip = filename.replace(\".tif\", \".zip\")\n",
    "\n",
    "    if filetype != \"tif\":\n",
    "        print(\"The filename must end with .tif\")\n",
    "        return\n",
    "\n",
    "    try:\n",
    "        print(\"Generating URL ...\")\n",
    "        params = {\"name\": name, \"filePerBand\": file_per_band}\n",
    "\n",
    "        params[\"scale\"] = scale\n",
    "        if region is None:\n",
    "            region = ee_object.geometry()\n",
    "        if dimensions is not None:\n",
    "            params[\"dimensions\"] = dimensions\n",
    "        if region is not None:\n",
    "            params[\"region\"] = region\n",
    "        if crs is not None:\n",
    "            params[\"crs\"] = crs\n",
    "        if crs_transform is not None:\n",
    "            params[\"crs_transform\"] = crs_transform\n",
    "        params[\"format\"] = format\n",
    "\n",
    "        try:\n",
    "            url = ee_object.getDownloadURL(params)\n",
    "        except Exception as e:\n",
    "            print(\"An error occurred while downloading.\")\n",
    "            print(e)\n",
    "            raise e\n",
    "            print(e)\n",
    "            return\n",
    "        print(f\"Downloading data from {url}\\nPlease wait ...\")\n",
    "        r = requests.get(url, stream=True, timeout=timeout, proxies=proxies)\n",
    "\n",
    "        if r.status_code != 200:\n",
    "            print(\"An error occurred while downloading.\")\n",
    "            return\n",
    "\n",
    "        with open(filename_zip, \"wb\") as fd:\n",
    "            for chunk in r.iter_content(chunk_size=1024):\n",
    "                fd.write(chunk)\n",
    "\n",
    "    except Exception as e:\n",
    "        print(e)\n",
    "        print(\"An error occurred while downloading.\")\n",
    "        print(r.json()[\"error\"][\"message\"])\n",
    "        return\n",
    "\n",
    "    try:\n",
    "        with zipfile.ZipFile(filename_zip) as z:\n",
    "            z.extractall(os.path.dirname(filename))\n",
    "        os.remove(filename_zip)\n",
    "\n",
    "        if file_per_band:\n",
    "            print(f\"Data downloaded to {os.path.dirname(filename)}\")\n",
    "        else:\n",
    "            print(f\"Data downloaded to {filename}\")\n",
    "    except Exception as e:\n",
    "        print(e)"
   ]
  },
  {
   "cell_type": "code",
   "execution_count": null,
   "metadata": {},
   "outputs": [],
   "source": [
    "year=years[1]\n",
    "start_date = year + \"-01-01\"\n",
    "end_date = year + \"-12-31\"\n",
    "dates=(start_date,end_date)\n",
    "gee_collection = \"USDA/NAIP/DOQQ\"\n",
    "download_tiles(split_polygon,site_path,gee_collection,dates)"
   ]
  },
  {
   "cell_type": "code",
   "execution_count": null,
   "metadata": {},
   "outputs": [],
   "source": [
    "coordinates=list(coastsegmap.rois.gdf[coastsegmap.rois.gdf[\"id\"]==\"1\"][\"geometry\"][0].exterior.coords)\n",
    "coordinates"
   ]
  },
  {
   "cell_type": "code",
   "execution_count": null,
   "metadata": {},
   "outputs": [],
   "source": [
    "coordinates=[list(x)for x in coordinates]"
   ]
  },
  {
   "cell_type": "code",
   "execution_count": null,
   "metadata": {},
   "outputs": [],
   "source": [
    "coordinates"
   ]
  },
  {
   "cell_type": "code",
   "execution_count": null,
   "metadata": {},
   "outputs": [],
   "source": [
    "from area import area\n",
    "area_km2=area(rect['features'][0]['geometry'])/ 1e6\n",
    "area_km2\n",
    "# 0.00887890515200013"
   ]
  },
  {
   "cell_type": "code",
   "execution_count": null,
   "metadata": {},
   "outputs": [],
   "source": [
    "import math\n",
    "# get minimum number of horizontal and vertical splitters\n",
    "num_splitters = math.ceil(math.sqrt(area_km2/10))\n",
    "num_splitters"
   ]
  },
  {
   "cell_type": "code",
   "execution_count": null,
   "metadata": {},
   "outputs": [],
   "source": [
    "\n",
    "minx, miny, maxx, maxy = polygon.bounds\n",
    "minx, miny, maxx, maxy"
   ]
  },
  {
   "cell_type": "code",
   "execution_count": null,
   "metadata": {},
   "outputs": [],
   "source": []
  },
  {
   "cell_type": "code",
   "execution_count": null,
   "metadata": {},
   "outputs": [],
   "source": []
  },
  {
   "cell_type": "code",
   "execution_count": null,
   "metadata": {},
   "outputs": [],
   "source": [
    "y=[1,2,3,4]\n",
    "y"
   ]
  },
  {
   "cell_type": "code",
   "execution_count": null,
   "metadata": {},
   "outputs": [],
   "source": [
    "y.remove(2)"
   ]
  },
  {
   "cell_type": "code",
   "execution_count": null,
   "metadata": {},
   "outputs": [],
   "source": [
    "y"
   ]
  },
  {
   "cell_type": "code",
   "execution_count": null,
   "metadata": {},
   "outputs": [],
   "source": [
    "x=set([1,2,3,4])\n",
    "x"
   ]
  },
  {
   "cell_type": "code",
   "execution_count": null,
   "metadata": {},
   "outputs": [],
   "source": [
    "len(x)"
   ]
  },
  {
   "cell_type": "code",
   "execution_count": null,
   "metadata": {},
   "outputs": [],
   "source": [
    "x.remove(3)"
   ]
  },
  {
   "cell_type": "code",
   "execution_count": null,
   "metadata": {},
   "outputs": [],
   "source": [
    "x"
   ]
  },
  {
   "cell_type": "code",
   "execution_count": null,
   "metadata": {},
   "outputs": [],
   "source": [
    "print(coastsegmap.map.find_layer('ROI'))"
   ]
  },
  {
   "cell_type": "code",
   "execution_count": null,
   "metadata": {},
   "outputs": [],
   "source": [
    "def get_callback(marker, html):\n",
    "    def callback(*args, **kwargs):\n",
    "        html.value = '''\n",
    "            <b>Glider Mission:</b><br>\n",
    "            {}\n",
    "        '''.format(marker.name)\n",
    "\n",
    "    return callback\n",
    "\n",
    "marker.on_mouseover(get_callback(marker, html))"
   ]
  },
  {
   "cell_type": "code",
   "execution_count": null,
   "metadata": {},
   "outputs": [],
   "source": [
    "def delete_callback(layer,coastseg_map):\n",
    "    def callback(*args, **kwargs):\n",
    "        print(\"yesss\")\n",
    "        coastseg_map.accordion.children[0].value=\"\"\" \n",
    "        <p>Layer: {}</p>\n",
    "        \"\"\".format(\n",
    "            layer\n",
    "        )\n",
    "        layer.style=delete_style\n",
    "\n",
    "    return callback\n",
    "\n",
    " # 'on_mouseout',\n",
    " # 'on_mouseover',\n",
    "# marker.on_mouseover(get_callback(layer))"
   ]
  },
  {
   "cell_type": "code",
   "execution_count": null,
   "metadata": {},
   "outputs": [],
   "source": [
    "def normal_callback(layer,coastseg_map):\n",
    "    def callback(*args, **kwargs):\n",
    "        print(\"yesss\")\n",
    "        coastseg_map.accordion.children[0].value=\"\"\" \n",
    "        <p>Layer: {}</p>\n",
    "        \"\"\".format(\n",
    "            layer\n",
    "        )\n",
    "        layer.style=normal_style\n",
    "\n",
    "    return callback"
   ]
  },
  {
   "cell_type": "code",
   "execution_count": null,
   "metadata": {},
   "outputs": [],
   "source": [
    "# dir(coastsegmap.map.find_layer('ROI'))"
   ]
  },
  {
   "cell_type": "code",
   "execution_count": null,
   "metadata": {},
   "outputs": [],
   "source": [
    "layer = coastsegmap.map.find_layer('ROI')\n",
    "# layer.on_hover(delete_callback(layer,coastsegmap))\n",
    "layer.on_mouseover(delete_callback(layer,coastsegmap))\n",
    "# layer.on_mouseout(normal_callback(layer,coastsegmap))\n",
    "existing_layer = coastsegmap.map.find_layer('ROI')\n",
    "if existing_layer is not None:\n",
    "    coastsegmap.map.remove_layer(existing_layer)\n",
    "coastsegmap.map.add_layer(layer)"
   ]
  },
  {
   "cell_type": "code",
   "execution_count": null,
   "metadata": {},
   "outputs": [],
   "source": [
    "existing_layer = coastsegmap.map.find_layer('ROI')\n",
    "if existing_layer is not None:\n",
    "    coastsegmap.map.remove_layer(existing_layer)"
   ]
  },
  {
   "cell_type": "code",
   "execution_count": null,
   "metadata": {},
   "outputs": [],
   "source": [
    "coastsegmap.map"
   ]
  },
  {
   "cell_type": "code",
   "execution_count": null,
   "metadata": {},
   "outputs": [],
   "source": [
    "layer.on_hover"
   ]
  },
  {
   "cell_type": "code",
   "execution_count": null,
   "metadata": {},
   "outputs": [],
   "source": [
    "delete_style = {'color': '#f73c02', 'fill_color': '#f73c02', 'fillOpacity': 0.1, 'weight': 1}\n",
    "unselect_style = {'color': '#555555', 'fill_color': '#555555', 'fillOpacity': 0.1, 'weight': 1}\n",
    "selected_style = {'color': '#ed2805', 'fill_color': '#ed2805', 'fillOpacity': 0.1, 'weight': 1}"
   ]
  },
  {
   "cell_type": "code",
   "execution_count": null,
   "metadata": {},
   "outputs": [],
   "source": [
    "coastsegmap.map.find_layer('ROI').style=unselect_style"
   ]
  },
  {
   "cell_type": "code",
   "execution_count": null,
   "metadata": {},
   "outputs": [],
   "source": [
    "# change layer to selected for deletion\n",
    "layer = coastsegmap.map.find_layer('ROI')\n",
    "layer.style=style={'color': '#ed2805', 'fill_color': '#ed2805', 'fillOpacity': 0.1, 'weight': 1}\n",
    "coastsegmap.map.add_layer(layer)"
   ]
  },
  {
   "cell_type": "code",
   "execution_count": null,
   "metadata": {},
   "outputs": [],
   "source": [
    "# deselect layer for deletion\n",
    "layer = coastsegmap.map.find_layer('ROI')\n",
    "layer.style=style={'color': '#555555', 'fill_color': '#555555', 'fillOpacity': 0.1, 'weight': 1}\n",
    "coastsegmap.map.add_layer(layer)"
   ]
  },
  {
   "cell_type": "code",
   "execution_count": null,
   "metadata": {},
   "outputs": [],
   "source": [
    "print(coastsegmap.rois)\n",
    "print(coastsegmap.ids)"
   ]
  },
  {
   "cell_type": "code",
   "execution_count": null,
   "metadata": {},
   "outputs": [],
   "source": [
    "new_id = \"1\" if coastsegmap.ids == [] else  str(int(max(coastsegmap.ids))+1)\n",
    "new_id"
   ]
  },
  {
   "cell_type": "code",
   "execution_count": null,
   "metadata": {},
   "outputs": [],
   "source": [
    "print(coastsegmap.rois.gdf)"
   ]
  },
  {
   "cell_type": "code",
   "execution_count": null,
   "metadata": {},
   "outputs": [],
   "source": [
    "import geopandas as gpd"
   ]
  },
  {
   "cell_type": "code",
   "execution_count": null,
   "metadata": {},
   "outputs": [],
   "source": [
    "filename = r\"C:\\1_USGS\\CoastSeg\\repos\\2_CoastSeg\\CoastSeg_fork\\Seg2Map\\rois.geojson\"\n",
    "with open(filename, \"r\") as f:\n",
    "    gpd_data = gpd.read_file(f)"
   ]
  },
  {
   "cell_type": "code",
   "execution_count": null,
   "metadata": {},
   "outputs": [],
   "source": [
    "gpd_data"
   ]
  },
  {
   "cell_type": "code",
   "execution_count": null,
   "metadata": {},
   "outputs": [],
   "source": [
    "main = gpd_data[gpd_data[\"id\"]!=id]\n",
    "main"
   ]
  },
  {
   "cell_type": "code",
   "execution_count": null,
   "metadata": {},
   "outputs": [],
   "source": [
    "id=\"13\"\n",
    "new_gdf = gpd_data[gpd_data[\"id\"]==id]\n",
    "new_gdf"
   ]
  },
  {
   "cell_type": "code",
   "execution_count": null,
   "metadata": {},
   "outputs": [],
   "source": [
    "import pandas as pd\n",
    "new_gdf = gpd.GeoDataFrame(\n",
    "        pd.concat([main, new_gdf], ignore_index=True)\n",
    "    )\n"
   ]
  },
  {
   "cell_type": "code",
   "execution_count": null,
   "metadata": {},
   "outputs": [],
   "source": [
    "new_gdf"
   ]
  },
  {
   "cell_type": "code",
   "execution_count": null,
   "metadata": {},
   "outputs": [],
   "source": [
    "class Feature:\n",
    "    def __init__(self):\n",
    "        self.gdf=\"\""
   ]
  },
  {
   "cell_type": "code",
   "execution_count": null,
   "metadata": {},
   "outputs": [],
   "source": [
    "feature =  Feature()"
   ]
  },
  {
   "cell_type": "code",
   "execution_count": null,
   "metadata": {},
   "outputs": [],
   "source": [
    "hasattr(feature,\"gdf\")"
   ]
  },
  {
   "cell_type": "code",
   "execution_count": null,
   "metadata": {},
   "outputs": [],
   "source": [
    "type(gpd_data) == gpd.GeoDataFrame"
   ]
  },
  {
   "cell_type": "code",
   "execution_count": null,
   "metadata": {},
   "outputs": [],
   "source": []
  }
 ],
 "metadata": {
  "kernelspec": {
   "display_name": "Python 3 (ipykernel)",
   "language": "python",
   "name": "python3"
  },
  "language_info": {
   "codemirror_mode": {
    "name": "ipython",
    "version": 3
   },
   "file_extension": ".py",
   "mimetype": "text/x-python",
   "name": "python",
   "nbconvert_exporter": "python",
   "pygments_lexer": "ipython3",
   "version": "3.10.8 | packaged by conda-forge | (main, Nov 24 2022, 14:07:00) [MSC v.1916 64 bit (AMD64)]"
  },
  "vscode": {
   "interpreter": {
    "hash": "44f62ae1464d1bd94d46095295cce32bb1c15ab9a6effc0c50f8e5f2c4f28382"
   }
  },
  "widgets": {
   "application/vnd.jupyter.widget-state+json": {
    "state": {
     "00c9856c5f3a4fbea0e835f3eaa5f66a": {
      "model_module": "jupyter-leaflet",
      "model_module_version": "^0.17",
      "model_name": "LeafletTileLayerModel",
      "state": {
       "_model_module_version": "^0.17",
       "_view_module_version": "^0.17",
       "attribution": "Geoportail France",
       "max_zoom": 16,
       "name": "GeoportailFrance.Protectedareas_Pnm",
       "options": [
        "attribution",
        "bounds",
        "detect_retina",
        "max_native_zoom",
        "max_zoom",
        "min_native_zoom",
        "min_zoom",
        "no_wrap",
        "tile_size",
        "tms",
        "zoom_offset"
       ],
       "url": "https://wxs.ign.fr/environnement/geoportail/wmts?REQUEST=GetTile&SERVICE=WMTS&VERSION=1.0.0&STYLE=normal&TILEMATRIXSET=PM&FORMAT=image/png&LAYER=PROTECTEDAREAS.PNM&TILEMATRIX={z}&TILEROW={y}&TILECOL={x}"
      }
     },
     "00e0a6e7ddff4be296f286fcea09f522": {
      "model_module": "@jupyter-widgets/controls",
      "model_module_version": "1.5.0",
      "model_name": "ToggleButtonModel",
      "state": {
       "button_style": "primary",
       "icon": "gears",
       "layout": "IPY_MODEL_b86160f2421c440f8a01c0a805a8939e",
       "style": "IPY_MODEL_d37c6ea8b3db4210bdb70f710fd43de7",
       "tooltip": "WhiteboxTools for local geoprocessing"
      }
     },
     "01bcdb63a9db4061b240e70eb341aea4": {
      "model_module": "@jupyter-widgets/controls",
      "model_module_version": "1.5.0",
      "model_name": "ToggleButtonModel",
      "state": {
       "button_style": "primary",
       "icon": "table",
       "layout": "IPY_MODEL_27f9969846fd4f73b530804e7ed3ce5c",
       "style": "IPY_MODEL_5653b893b6554388ab8f4c191da39c7c",
       "tooltip": "Open attribute table"
      }
     },
     "01e759da747e42afa1f29750a06fee38": {
      "model_module": "jupyter-leaflet",
      "model_module_version": "^0.17",
      "model_name": "LeafletTileLayerModel",
      "state": {
       "_model_module_version": "^0.17",
       "_view_module_version": "^0.17",
       "attribution": "Geoportail France",
       "max_zoom": 17,
       "name": "GeoportailFrance.Protectedareas_Prsf",
       "options": [
        "attribution",
        "bounds",
        "detect_retina",
        "max_native_zoom",
        "max_zoom",
        "min_native_zoom",
        "min_zoom",
        "no_wrap",
        "tile_size",
        "tms",
        "zoom_offset"
       ],
       "url": "https://wxs.ign.fr/environnement/geoportail/wmts?REQUEST=GetTile&SERVICE=WMTS&VERSION=1.0.0&STYLE=POINT RENCONTRE SECOURS FORET&TILEMATRIXSET=PM&FORMAT=image/png&LAYER=PROTECTEDAREAS.PRSF&TILEMATRIX={z}&TILEROW={y}&TILECOL={x}"
      }
     },
     "02a24795110a4e469cfa5f3827e8890b": {
      "model_module": "@jupyter-widgets/controls",
      "model_module_version": "1.5.0",
      "model_name": "ButtonModel",
      "state": {
       "description": "Download Imagery",
       "layout": "IPY_MODEL_bdd229f226004d999b24cbec78d7ab10",
       "style": "IPY_MODEL_a737dba0e16144d5a7b07cfa66f8ec26"
      }
     },
     "040152c43b6e4f0b8425f2fcd6eb67f8": {
      "model_module": "@jupyter-widgets/base",
      "model_module_version": "1.2.0",
      "model_name": "LayoutModel",
      "state": {}
     },
     "04091bf87cc143b29a784624df3596d2": {
      "model_module": "jupyter-leaflet",
      "model_module_version": "^0.17",
      "model_name": "LeafletTileLayerModel",
      "state": {
       "_model_module_version": "^0.17",
       "_view_module_version": "^0.17",
       "attribution": "Tiles (C) Esri -- Source: Esri, i-cubed, USDA, USGS, AEX, GeoEye, Getmapping, Aerogrid, IGN, IGP, UPR-EGP, and the GIS User Community",
       "max_zoom": 22,
       "name": "Esri.WorldImagery",
       "options": [
        "attribution",
        "bounds",
        "detect_retina",
        "max_native_zoom",
        "max_zoom",
        "min_native_zoom",
        "min_zoom",
        "no_wrap",
        "tile_size",
        "tms",
        "zoom_offset"
       ],
       "url": "https://server.arcgisonline.com/ArcGIS/rest/services/World_Imagery/MapServer/tile/{z}/{y}/{x}"
      }
     },
     "043241ac0e8940b5baf1b30e3dae27f0": {
      "model_module": "jupyter-leaflet",
      "model_module_version": "^0.17",
      "model_name": "LeafletTileLayerModel",
      "state": {
       "_model_module_version": "^0.17",
       "_view_module_version": "^0.17",
       "attribution": "Geoportail France",
       "max_zoom": 17,
       "name": "GeoportailFrance.Geographicalgridsystems_Slopes_Mountain",
       "options": [
        "attribution",
        "bounds",
        "detect_retina",
        "max_native_zoom",
        "max_zoom",
        "min_native_zoom",
        "min_zoom",
        "no_wrap",
        "tile_size",
        "tms",
        "zoom_offset"
       ],
       "url": "https://wxs.ign.fr/altimetrie/geoportail/wmts?REQUEST=GetTile&SERVICE=WMTS&VERSION=1.0.0&STYLE=normal&TILEMATRIXSET=PM&FORMAT=image/png&LAYER=GEOGRAPHICALGRIDSYSTEMS.SLOPES.MOUNTAIN&TILEMATRIX={z}&TILEROW={y}&TILECOL={x}"
      }
     },
     "04a22e069b894c94bb28f3259efb34af": {
      "model_module": "@jupyter-widgets/controls",
      "model_module_version": "1.5.0",
      "model_name": "VBoxModel",
      "state": {
       "children": [
        "IPY_MODEL_ee06903ab4e44a9684a5ece799a8b49b"
       ],
       "layout": "IPY_MODEL_39bac7e7cf8b40cd86456ced4cf7fc36"
      }
     },
     "04b8756512ef49dcbcd09236b883ad9c": {
      "model_module": "jupyter-leaflet",
      "model_module_version": "^0.17",
      "model_name": "LeafletTileLayerModel",
      "state": {
       "_model_module_version": "^0.17",
       "_view_module_version": "^0.17",
       "attribution": "Geoportail France",
       "max_zoom": 16,
       "name": "GeoportailFrance.Protectedareas_Bios",
       "options": [
        "attribution",
        "bounds",
        "detect_retina",
        "max_native_zoom",
        "max_zoom",
        "min_native_zoom",
        "min_zoom",
        "no_wrap",
        "tile_size",
        "tms",
        "zoom_offset"
       ],
       "url": "https://wxs.ign.fr/environnement/geoportail/wmts?REQUEST=GetTile&SERVICE=WMTS&VERSION=1.0.0&STYLE=normal&TILEMATRIXSET=PM&FORMAT=image/png&LAYER=PROTECTEDAREAS.BIOS&TILEMATRIX={z}&TILEROW={y}&TILECOL={x}"
      }
     },
     "061815f3fa13425bab8f05fc1ed080d0": {
      "model_module": "jupyter-leaflet",
      "model_module_version": "^0.17",
      "model_name": "LeafletTileLayerModel",
      "state": {
       "_model_module_version": "^0.17",
       "_view_module_version": "^0.17",
       "attribution": "Geoportail France",
       "max_zoom": 12,
       "name": "GeoportailFrance.Landcover_Grid_Clc06r_fr",
       "options": [
        "attribution",
        "bounds",
        "detect_retina",
        "max_native_zoom",
        "max_zoom",
        "min_native_zoom",
        "min_zoom",
        "no_wrap",
        "tile_size",
        "tms",
        "zoom_offset"
       ],
       "url": "https://wxs.ign.fr/clc/geoportail/wmts?REQUEST=GetTile&SERVICE=WMTS&VERSION=1.0.0&STYLE=CORINE Land Cover - France métropolitaine&TILEMATRIXSET=PM&FORMAT=image/png&LAYER=LANDCOVER.GRID.CLC06R_FR&TILEMATRIX={z}&TILEROW={y}&TILECOL={x}"
      }
     },
     "0618c1faa053440f92da698092f21855": {
      "model_module": "jupyter-leaflet",
      "model_module_version": "^0.17",
      "model_name": "LeafletTileLayerModel",
      "state": {
       "_model_module_version": "^0.17",
       "_view_module_version": "^0.17",
       "attribution": "Geoportail France",
       "max_zoom": 16,
       "name": "GeoportailFrance.Landcover_Cha18_fr",
       "options": [
        "attribution",
        "bounds",
        "detect_retina",
        "max_native_zoom",
        "max_zoom",
        "min_native_zoom",
        "min_zoom",
        "no_wrap",
        "tile_size",
        "tms",
        "zoom_offset"
       ],
       "url": "https://wxs.ign.fr/clc/geoportail/wmts?REQUEST=GetTile&SERVICE=WMTS&VERSION=1.0.0&STYLE=CORINE Land Cover - France métropolitaine&TILEMATRIXSET=PM&FORMAT=image/png&LAYER=LANDCOVER.CHA18_FR&TILEMATRIX={z}&TILEROW={y}&TILECOL={x}"
      }
     },
     "06448e9e1f99474ab357879f14eafa42": {
      "model_module": "jupyter-leaflet",
      "model_module_version": "^0.17",
      "model_name": "LeafletWMSLayerModel",
      "state": {
       "_model_module_version": "^0.17",
       "_view_module_version": "^0.17",
       "attribution": "USGS",
       "crs": {
        "custom": false,
        "name": "EPSG3857"
       },
       "format": "image/png",
       "layers": "USGSNAIPImagery:NaturalColor",
       "name": "USGS NAIP Imagery",
       "options": [
        "attribution",
        "bounds",
        "detect_retina",
        "format",
        "layers",
        "max_native_zoom",
        "max_zoom",
        "min_native_zoom",
        "min_zoom",
        "no_wrap",
        "styles",
        "tile_size",
        "tms",
        "transparent",
        "uppercase",
        "zoom_offset"
       ],
       "transparent": true,
       "url": "https://imagery.nationalmap.gov/arcgis/services/USGSNAIPImagery/ImageServer/WMSServer?"
      }
     },
     "06b9745cb7fc4a5cbff030ea5d829144": {
      "model_module": "jupyter-leaflet",
      "model_module_version": "^0.17",
      "model_name": "LeafletTileLayerModel",
      "state": {
       "_model_module_version": "^0.17",
       "_view_module_version": "^0.17",
       "attribution": "Geoportail France",
       "max_zoom": 16,
       "name": "GeoportailFrance.Insee_Filosofi_Part_Logements_Construits_1945_1970_Secret",
       "options": [
        "attribution",
        "bounds",
        "detect_retina",
        "max_native_zoom",
        "max_zoom",
        "min_native_zoom",
        "min_zoom",
        "no_wrap",
        "tile_size",
        "tms",
        "zoom_offset"
       ],
       "url": "https://wxs.ign.fr/economie/geoportail/wmts?REQUEST=GetTile&SERVICE=WMTS&VERSION=1.0.0&STYLE=INSEE&TILEMATRIXSET=PM&FORMAT=image/png&LAYER=INSEE.FILOSOFI.PART.LOGEMENTS.CONSTRUITS.1945.1970.SECRET&TILEMATRIX={z}&TILEROW={y}&TILECOL={x}"
      }
     },
     "06ec547fcd35491da5b30f16e18c0abc": {
      "model_module": "jupyter-leaflet",
      "model_module_version": "^0.17",
      "model_name": "LeafletTileLayerModel",
      "state": {
       "_model_module_version": "^0.17",
       "_view_module_version": "^0.17",
       "attribution": "Geoportail France",
       "max_zoom": 16,
       "name": "GeoportailFrance.Landcover_Clc06r_fr",
       "options": [
        "attribution",
        "bounds",
        "detect_retina",
        "max_native_zoom",
        "max_zoom",
        "min_native_zoom",
        "min_zoom",
        "no_wrap",
        "tile_size",
        "tms",
        "zoom_offset"
       ],
       "url": "https://wxs.ign.fr/clc/geoportail/wmts?REQUEST=GetTile&SERVICE=WMTS&VERSION=1.0.0&STYLE=CORINE Land Cover - France métropolitaine&TILEMATRIXSET=PM&FORMAT=image/png&LAYER=LANDCOVER.CLC06R_FR&TILEMATRIX={z}&TILEROW={y}&TILECOL={x}"
      }
     },
     "070f44ea76774bfbb0732eeb9239b793": {
      "model_module": "jupyter-leaflet",
      "model_module_version": "^0.17",
      "model_name": "LeafletTileLayerModel",
      "state": {
       "_model_module_version": "^0.17",
       "_view_module_version": "^0.17",
       "attribution": "Geoportail France",
       "max_zoom": 16,
       "name": "GeoportailFrance.Insee_Filosofi_Part_Plus_65_Ans_Secret",
       "options": [
        "attribution",
        "bounds",
        "detect_retina",
        "max_native_zoom",
        "max_zoom",
        "min_native_zoom",
        "min_zoom",
        "no_wrap",
        "tile_size",
        "tms",
        "zoom_offset"
       ],
       "url": "https://wxs.ign.fr/economie/geoportail/wmts?REQUEST=GetTile&SERVICE=WMTS&VERSION=1.0.0&STYLE=INSEE&TILEMATRIXSET=PM&FORMAT=image/png&LAYER=INSEE.FILOSOFI.PART.PLUS.65.ANS.SECRET&TILEMATRIX={z}&TILEROW={y}&TILECOL={x}"
      }
     },
     "0737a973eb134ee492f606a54296ee30": {
      "model_module": "jupyter-leaflet",
      "model_module_version": "^0.17",
      "model_name": "LeafletTileLayerModel",
      "state": {
       "_model_module_version": "^0.17",
       "_view_module_version": "^0.17",
       "attribution": "Geoportail France",
       "max_zoom": 16,
       "name": "GeoportailFrance.Landcover_Clc00_dom",
       "options": [
        "attribution",
        "bounds",
        "detect_retina",
        "max_native_zoom",
        "max_zoom",
        "min_native_zoom",
        "min_zoom",
        "no_wrap",
        "tile_size",
        "tms",
        "zoom_offset"
       ],
       "url": "https://wxs.ign.fr/clc/geoportail/wmts?REQUEST=GetTile&SERVICE=WMTS&VERSION=1.0.0&STYLE=CORINE Land Cover - DOM&TILEMATRIXSET=PM&FORMAT=image/png&LAYER=LANDCOVER.CLC00_DOM&TILEMATRIX={z}&TILEROW={y}&TILECOL={x}"
      }
     },
     "07642306e4464b41a16c4df3a27a573c": {
      "model_module": "@jupyter-widgets/base",
      "model_module_version": "1.2.0",
      "model_name": "LayoutModel",
      "state": {
       "width": "500px"
      }
     },
     "07b38bef684a4c53ae43937d7228f086": {
      "model_module": "jupyter-leaflet",
      "model_module_version": "^0.17",
      "model_name": "LeafletTileLayerModel",
      "state": {
       "_model_module_version": "^0.17",
       "_view_module_version": "^0.17",
       "attribution": "Geoportail France",
       "max_zoom": 16,
       "name": "GeoportailFrance.Geographicalgridsystems_Etatmajor10",
       "options": [
        "attribution",
        "bounds",
        "detect_retina",
        "max_native_zoom",
        "max_zoom",
        "min_native_zoom",
        "min_zoom",
        "no_wrap",
        "tile_size",
        "tms",
        "zoom_offset"
       ],
       "url": "https://wxs.ign.fr/cartes/geoportail/wmts?REQUEST=GetTile&SERVICE=WMTS&VERSION=1.0.0&STYLE=normal&TILEMATRIXSET=PM&FORMAT=image/jpeg&LAYER=GEOGRAPHICALGRIDSYSTEMS.ETATMAJOR10&TILEMATRIX={z}&TILEROW={y}&TILECOL={x}"
      }
     },
     "07c90399441a46a7aa06e3cdcb9fdc79": {
      "model_module": "jupyter-leaflet",
      "model_module_version": "^0.17",
      "model_name": "LeafletTileLayerModel",
      "state": {
       "_model_module_version": "^0.17",
       "_view_module_version": "^0.17",
       "attribution": "Geoportail France",
       "max_zoom": 17,
       "name": "GeoportailFrance.Securoute_Te_Te120",
       "options": [
        "attribution",
        "bounds",
        "detect_retina",
        "max_native_zoom",
        "max_zoom",
        "min_native_zoom",
        "min_zoom",
        "no_wrap",
        "tile_size",
        "tms",
        "zoom_offset"
       ],
       "url": "https://wxs.ign.fr/transports/geoportail/wmts?REQUEST=GetTile&SERVICE=WMTS&VERSION=1.0.0&STYLE=RESEAU ROUTIER TE120&TILEMATRIXSET=PM&FORMAT=image/png&LAYER=SECUROUTE.TE.TE120&TILEMATRIX={z}&TILEROW={y}&TILECOL={x}"
      }
     },
     "07cda5fad72c493daed5bb8f0616459f": {
      "model_module": "jupyter-leaflet",
      "model_module_version": "^0.17",
      "model_name": "LeafletTileLayerModel",
      "state": {
       "_model_module_version": "^0.17",
       "_view_module_version": "^0.17",
       "attribution": "Geoportail France",
       "max_zoom": 16,
       "name": "GeoportailFrance.Landcover_Clc12r_fr",
       "options": [
        "attribution",
        "bounds",
        "detect_retina",
        "max_native_zoom",
        "max_zoom",
        "min_native_zoom",
        "min_zoom",
        "no_wrap",
        "tile_size",
        "tms",
        "zoom_offset"
       ],
       "url": "https://wxs.ign.fr/clc/geoportail/wmts?REQUEST=GetTile&SERVICE=WMTS&VERSION=1.0.0&STYLE=CORINE Land Cover - France métropolitaine&TILEMATRIXSET=PM&FORMAT=image/png&LAYER=LANDCOVER.CLC12R_FR&TILEMATRIX={z}&TILEROW={y}&TILECOL={x}"
      }
     },
     "07d1d67dae4a435288f758602006a1a7": {
      "model_module": "jupyter-leaflet",
      "model_module_version": "^0.17",
      "model_name": "LeafletTileLayerModel",
      "state": {
       "_model_module_version": "^0.17",
       "_view_module_version": "^0.17",
       "attribution": "Geoportail France",
       "max_zoom": 19,
       "name": "GeoportailFrance.Orthoimagery_Orthophotos_Ortho_express_2019",
       "options": [
        "attribution",
        "bounds",
        "detect_retina",
        "max_native_zoom",
        "max_zoom",
        "min_native_zoom",
        "min_zoom",
        "no_wrap",
        "tile_size",
        "tms",
        "zoom_offset"
       ],
       "url": "https://wxs.ign.fr/orthohisto/geoportail/wmts?REQUEST=GetTile&SERVICE=WMTS&VERSION=1.0.0&STYLE=normal&TILEMATRIXSET=PM&FORMAT=image/jpeg&LAYER=ORTHOIMAGERY.ORTHOPHOTOS.ORTHO-EXPRESS.2019&TILEMATRIX={z}&TILEROW={y}&TILECOL={x}"
      }
     },
     "07d59874458b44f4ac4a1be1f7ccb441": {
      "model_module": "jupyter-leaflet",
      "model_module_version": "^0.17",
      "model_name": "LeafletTileLayerModel",
      "state": {
       "_model_module_version": "^0.17",
       "_view_module_version": "^0.17",
       "attribution": "Geoportail France",
       "name": "GeoportailFrance.Orthoimagery_Ortho_sat_Pleiades_2019",
       "options": [
        "attribution",
        "bounds",
        "detect_retina",
        "max_native_zoom",
        "max_zoom",
        "min_native_zoom",
        "min_zoom",
        "no_wrap",
        "tile_size",
        "tms",
        "zoom_offset"
       ],
       "url": "https://wxs.ign.fr/satellite/geoportail/wmts?REQUEST=GetTile&SERVICE=WMTS&VERSION=1.0.0&STYLE=normal&TILEMATRIXSET=PM&FORMAT=image/png&LAYER=ORTHOIMAGERY.ORTHO-SAT.PLEIADES.2019&TILEMATRIX={z}&TILEROW={y}&TILECOL={x}"
      }
     },
     "0855901f1c5f44e3bc79093af0c796aa": {
      "model_module": "jupyter-leaflet",
      "model_module_version": "^0.17",
      "model_name": "LeafletTileLayerModel",
      "state": {
       "_model_module_version": "^0.17",
       "_view_module_version": "^0.17",
       "attribution": "Geoportail France",
       "max_zoom": 16,
       "name": "GeoportailFrance.Protectedsites_Mnhn_Reserves_regionales",
       "options": [
        "attribution",
        "bounds",
        "detect_retina",
        "max_native_zoom",
        "max_zoom",
        "min_native_zoom",
        "min_zoom",
        "no_wrap",
        "tile_size",
        "tms",
        "zoom_offset"
       ],
       "url": "https://wxs.ign.fr/environnement/geoportail/wmts?REQUEST=GetTile&SERVICE=WMTS&VERSION=1.0.0&STYLE=normal&TILEMATRIXSET=PM&FORMAT=image/png&LAYER=PROTECTEDSITES.MNHN.RESERVES-REGIONALES&TILEMATRIX={z}&TILEROW={y}&TILECOL={x}"
      }
     },
     "089ba6a6f4a14dc38c3870e22c08ca7c": {
      "model_module": "jupyter-leaflet",
      "model_module_version": "^0.17",
      "model_name": "LeafletTileLayerModel",
      "state": {
       "_model_module_version": "^0.17",
       "_view_module_version": "^0.17",
       "attribution": "Geoportail France",
       "max_zoom": 16,
       "name": "GeoportailFrance.Ocsge_Couverture",
       "options": [
        "attribution",
        "bounds",
        "detect_retina",
        "max_native_zoom",
        "max_zoom",
        "min_native_zoom",
        "min_zoom",
        "no_wrap",
        "tile_size",
        "tms",
        "zoom_offset"
       ],
       "url": "https://wxs.ign.fr/ocsge/geoportail/wmts?REQUEST=GetTile&SERVICE=WMTS&VERSION=1.0.0&STYLE=normal&TILEMATRIXSET=PM&FORMAT=image/png&LAYER=OCSGE.COUVERTURE&TILEMATRIX={z}&TILEROW={y}&TILECOL={x}"
      }
     },
     "08d54d2fba9f4d628d69eeb2fac9bcc9": {
      "model_module": "jupyter-leaflet",
      "model_module_version": "^0.17",
      "model_name": "LeafletTileLayerModel",
      "state": {
       "_model_module_version": "^0.17",
       "_view_module_version": "^0.17",
       "attribution": "Geoportail France",
       "max_zoom": 19,
       "name": "GeoportailFrance.Orthoimagery_Orthophotos_Irc_express_2021",
       "options": [
        "attribution",
        "bounds",
        "detect_retina",
        "max_native_zoom",
        "max_zoom",
        "min_native_zoom",
        "min_zoom",
        "no_wrap",
        "tile_size",
        "tms",
        "zoom_offset"
       ],
       "url": "https://wxs.ign.fr/ortho/geoportail/wmts?REQUEST=GetTile&SERVICE=WMTS&VERSION=1.0.0&STYLE=normal&TILEMATRIXSET=PM&FORMAT=image/jpeg&LAYER=ORTHOIMAGERY.ORTHOPHOTOS.IRC-EXPRESS.2021&TILEMATRIX={z}&TILEROW={y}&TILECOL={x}"
      }
     },
     "08e740ef6d724902ae92405df97b4bdc": {
      "model_module": "@jupyter-widgets/base",
      "model_module_version": "1.2.0",
      "model_name": "LayoutModel",
      "state": {
       "height": "auto",
       "padding": "0px 0px 0px 4px",
       "width": "auto"
      }
     },
     "09219770aae04ab69fd9fc7e3b73c361": {
      "model_module": "@jupyter-widgets/base",
      "model_module_version": "1.2.0",
      "model_name": "LayoutModel",
      "state": {
       "border": "1px solid black"
      }
     },
     "0a668568d7064802a5c112c195ea3a20": {
      "model_module": "jupyter-leaflet",
      "model_module_version": "^0.17",
      "model_name": "LeafletTileLayerModel",
      "state": {
       "_model_module_version": "^0.17",
       "_view_module_version": "^0.17",
       "attribution": "Geoportail France",
       "max_zoom": 13,
       "name": "GeoportailFrance.Landcover_Grid_Clc12",
       "options": [
        "attribution",
        "bounds",
        "detect_retina",
        "max_native_zoom",
        "max_zoom",
        "min_native_zoom",
        "min_zoom",
        "no_wrap",
        "tile_size",
        "tms",
        "zoom_offset"
       ],
       "url": "https://wxs.ign.fr/clc/geoportail/wmts?REQUEST=GetTile&SERVICE=WMTS&VERSION=1.0.0&STYLE=CORINE Land Cover&TILEMATRIXSET=PM&FORMAT=image/png&LAYER=LANDCOVER.GRID.CLC12&TILEMATRIX={z}&TILEROW={y}&TILECOL={x}"
      }
     },
     "0b7159d0f9e741f2931a1f22117a7d8d": {
      "model_module": "jupyter-leaflet",
      "model_module_version": "^0.17",
      "model_name": "LeafletTileLayerModel",
      "state": {
       "_model_module_version": "^0.17",
       "_view_module_version": "^0.17",
       "attribution": "Geoportail France",
       "max_zoom": 16,
       "name": "GeoportailFrance.Protectedareas_Rnc",
       "options": [
        "attribution",
        "bounds",
        "detect_retina",
        "max_native_zoom",
        "max_zoom",
        "min_native_zoom",
        "min_zoom",
        "no_wrap",
        "tile_size",
        "tms",
        "zoom_offset"
       ],
       "url": "https://wxs.ign.fr/environnement/geoportail/wmts?REQUEST=GetTile&SERVICE=WMTS&VERSION=1.0.0&STYLE=normal&TILEMATRIXSET=PM&FORMAT=image/png&LAYER=PROTECTEDAREAS.RNC&TILEMATRIX={z}&TILEROW={y}&TILECOL={x}"
      }
     },
     "0b8f9c2d852241958bcf7e193eed035c": {
      "model_module": "jupyter-leaflet",
      "model_module_version": "^0.17",
      "model_name": "LeafletTileLayerModel",
      "state": {
       "_model_module_version": "^0.17",
       "_view_module_version": "^0.17",
       "attribution": "(C) OpenStreetMap contributors (C) CARTO",
       "max_zoom": 20,
       "name": "CartoDB.PositronOnlyLabels",
       "options": [
        "attribution",
        "bounds",
        "detect_retina",
        "max_native_zoom",
        "max_zoom",
        "min_native_zoom",
        "min_zoom",
        "no_wrap",
        "tile_size",
        "tms",
        "zoom_offset"
       ],
       "url": "https://a.basemaps.cartocdn.com/light_only_labels/{z}/{x}/{y}.png"
      }
     },
     "0c02827b5a6242a789f29c265cc787ce": {
      "model_module": "@jupyter-widgets/controls",
      "model_module_version": "1.5.0",
      "model_name": "DescriptionStyleModel",
      "state": {
       "description_width": ""
      }
     },
     "0d1921b33904452f9b4a9a826a14232e": {
      "model_module": "@jupyter-widgets/base",
      "model_module_version": "1.2.0",
      "model_name": "LayoutModel",
      "state": {
       "height": "auto",
       "padding": "0px 0px 0px 4px",
       "width": "auto"
      }
     },
     "0d5bee46e7644a249922275037ad513f": {
      "model_module": "jupyter-leaflet",
      "model_module_version": "^0.17",
      "model_name": "LeafletTileLayerModel",
      "state": {
       "_model_module_version": "^0.17",
       "_view_module_version": "^0.17",
       "attribution": "Geoportail France",
       "name": "GeoportailFrance.Orthoimagery_Orthophotos2014",
       "options": [
        "attribution",
        "bounds",
        "detect_retina",
        "max_native_zoom",
        "max_zoom",
        "min_native_zoom",
        "min_zoom",
        "no_wrap",
        "tile_size",
        "tms",
        "zoom_offset"
       ],
       "url": "https://wxs.ign.fr/orthohisto/geoportail/wmts?REQUEST=GetTile&SERVICE=WMTS&VERSION=1.0.0&STYLE=normal&TILEMATRIXSET=PM&FORMAT=image/jpeg&LAYER=ORTHOIMAGERY.ORTHOPHOTOS2014&TILEMATRIX={z}&TILEROW={y}&TILECOL={x}"
      }
     },
     "0d9bce34b4b94f0a93084b640aa55ab4": {
      "model_module": "jupyter-leaflet",
      "model_module_version": "^0.17",
      "model_name": "LeafletAttributionControlModel",
      "state": {
       "_model_module_version": "^0.17",
       "_view_module_version": "^0.17",
       "options": [
        "position",
        "prefix"
       ],
       "position": "bottomright",
       "prefix": "ipyleaflet"
      }
     },
     "0da3e946e53e4059a22402ed2ecc1ea1": {
      "model_module": "@jupyter-widgets/controls",
      "model_module_version": "1.5.0",
      "model_name": "DescriptionStyleModel",
      "state": {
       "description_width": ""
      }
     },
     "0e746998d0354858a6cb0e0ceec37b77": {
      "model_module": "jupyter-leaflet",
      "model_module_version": "^0.17",
      "model_name": "LeafletTileLayerModel",
      "state": {
       "_model_module_version": "^0.17",
       "_view_module_version": "^0.17",
       "attribution": "Geoportail France",
       "name": "GeoportailFrance.Orthoimagery_Ortho_sat_Pleiades_2013",
       "options": [
        "attribution",
        "bounds",
        "detect_retina",
        "max_native_zoom",
        "max_zoom",
        "min_native_zoom",
        "min_zoom",
        "no_wrap",
        "tile_size",
        "tms",
        "zoom_offset"
       ],
       "url": "https://wxs.ign.fr/satellite/geoportail/wmts?REQUEST=GetTile&SERVICE=WMTS&VERSION=1.0.0&STYLE=normal&TILEMATRIXSET=PM&FORMAT=image/png&LAYER=ORTHOIMAGERY.ORTHO-SAT.PLEIADES.2013&TILEMATRIX={z}&TILEROW={y}&TILECOL={x}"
      }
     },
     "0fb81875b93a428cba734188e5305ab6": {
      "model_module": "jupyter-leaflet",
      "model_module_version": "^0.17",
      "model_name": "LeafletTileLayerModel",
      "state": {
       "_model_module_version": "^0.17",
       "_view_module_version": "^0.17",
       "attribution": "Datenquelle: basemap.at",
       "max_zoom": 19,
       "name": "BasemapAT.overlay",
       "options": [
        "attribution",
        "bounds",
        "detect_retina",
        "max_native_zoom",
        "max_zoom",
        "min_native_zoom",
        "min_zoom",
        "no_wrap",
        "tile_size",
        "tms",
        "zoom_offset"
       ],
       "url": "https://maps.wien.gv.at/basemap/bmapoverlay/normal/google3857/{z}/{y}/{x}.png"
      }
     },
     "1008a39a18fd4aa789d8a6650620a83c": {
      "model_module": "jupyter-leaflet",
      "model_module_version": "^0.17",
      "model_name": "LeafletGeoJSONModel",
      "state": {
       "_model_module_version": "^0.17",
       "_view_module_version": "^0.17",
       "data": {
        "features": [
         {
          "geometry": {
           "coordinates": [
            [
             [
              -124.187964,
              40.842013
             ],
             [
              -124.187964,
              40.880183
             ],
             [
              -124.134928,
              40.880183
             ],
             [
              -124.134928,
              40.842013
             ],
             [
              -124.187964,
              40.842013
             ]
            ]
           ],
           "type": "Polygon"
          },
          "id": "0",
          "properties": {
           "id": "1",
           "style": {
            "color": "#555555",
            "fillOpacity": 0.1,
            "fill_color": "#555555",
            "weight": 1
           }
          },
          "type": "Feature"
         },
         {
          "geometry": {
           "coordinates": [
            [
             [
              -124.195516,
              40.819283
             ],
             [
              -124.195516,
              40.836429
             ],
             [
              -124.173375,
              40.836429
             ],
             [
              -124.173375,
              40.819283
             ],
             [
              -124.195516,
              40.819283
             ]
            ]
           ],
           "type": "Polygon"
          },
          "id": "1",
          "properties": {
           "id": "2",
           "style": {
            "color": "#555555",
            "fillOpacity": 0.1,
            "fill_color": "#555555",
            "weight": 1
           }
          },
          "type": "Feature"
         }
        ],
        "type": "FeatureCollection"
       },
       "hover_style": {
        "color": "yellow",
        "fillOpacity": 0.1
       },
       "name": "ROI",
       "style": {
        "color": "#555555",
        "fillOpacity": 0.1,
        "fill_color": "#555555",
        "weight": 1
       }
      }
     },
     "1086dd0985f04836b04bc7fce06d025f": {
      "model_module": "@jupyter-widgets/controls",
      "model_module_version": "1.5.0",
      "model_name": "HBoxModel",
      "state": {
       "layout": "IPY_MODEL_b642e0525b454114a33c61a74c98a4eb"
      }
     },
     "10c790005fb44af298c485be07f75813": {
      "model_module": "jupyter-leaflet",
      "model_module_version": "^0.17",
      "model_name": "LeafletTileLayerModel",
      "state": {
       "_model_module_version": "^0.17",
       "_view_module_version": "^0.17",
       "attribution": "Geoportail France",
       "max_zoom": 13,
       "name": "GeoportailFrance.Landcover_Grid_Clc06",
       "options": [
        "attribution",
        "bounds",
        "detect_retina",
        "max_native_zoom",
        "max_zoom",
        "min_native_zoom",
        "min_zoom",
        "no_wrap",
        "tile_size",
        "tms",
        "zoom_offset"
       ],
       "url": "https://wxs.ign.fr/clc/geoportail/wmts?REQUEST=GetTile&SERVICE=WMTS&VERSION=1.0.0&STYLE=CORINE Land Cover&TILEMATRIXSET=PM&FORMAT=image/png&LAYER=LANDCOVER.GRID.CLC06&TILEMATRIX={z}&TILEROW={y}&TILECOL={x}"
      }
     },
     "10f760db0036461297c9fdb361f59202": {
      "model_module": "jupyter-leaflet",
      "model_module_version": "^0.17",
      "model_name": "LeafletTileLayerModel",
      "state": {
       "_model_module_version": "^0.17",
       "_view_module_version": "^0.17",
       "attribution": "Geoportail France",
       "max_zoom": 13,
       "name": "GeoportailFrance.Landcover_Hr_Waw_Clc15",
       "options": [
        "attribution",
        "bounds",
        "detect_retina",
        "max_native_zoom",
        "max_zoom",
        "min_native_zoom",
        "min_zoom",
        "no_wrap",
        "tile_size",
        "tms",
        "zoom_offset"
       ],
       "url": "https://wxs.ign.fr/clc/geoportail/wmts?REQUEST=GetTile&SERVICE=WMTS&VERSION=1.0.0&STYLE=CORINE Land Cover - HR - zones humides et surfaces en eaux permanentes&TILEMATRIXSET=PM&FORMAT=image/png&LAYER=LANDCOVER.HR.WAW.CLC15&TILEMATRIX={z}&TILEROW={y}&TILECOL={x}"
      }
     },
     "120a7b2106684299bdb1cb02e11ea875": {
      "model_module": "jupyter-leaflet",
      "model_module_version": "^0.17",
      "model_name": "LeafletTileLayerModel",
      "state": {
       "_model_module_version": "^0.17",
       "_view_module_version": "^0.17",
       "attribution": "Geoportail France",
       "max_zoom": 20,
       "name": "GeoportailFrance.Orthoimagery_Orthophotos_Urgence_Alex",
       "options": [
        "attribution",
        "bounds",
        "detect_retina",
        "max_native_zoom",
        "max_zoom",
        "min_native_zoom",
        "min_zoom",
        "no_wrap",
        "tile_size",
        "tms",
        "zoom_offset"
       ],
       "url": "https://wxs.ign.fr/orthohisto/geoportail/wmts?REQUEST=GetTile&SERVICE=WMTS&VERSION=1.0.0&STYLE=normal&TILEMATRIXSET=PM&FORMAT=image/jpeg&LAYER=ORTHOIMAGERY.ORTHOPHOTOS.URGENCE.ALEX&TILEMATRIX={z}&TILEROW={y}&TILECOL={x}"
      }
     },
     "12232ff2d7cc4099add95c2f21df738d": {
      "model_module": "jupyter-leaflet",
      "model_module_version": "^0.17",
      "model_name": "LeafletTileLayerModel",
      "state": {
       "_model_module_version": "^0.17",
       "_view_module_version": "^0.17",
       "attribution": "Geoportail France",
       "max_zoom": 17,
       "name": "GeoportailFrance.Orthoimagery_Ortho_sat_Spot_2017",
       "options": [
        "attribution",
        "bounds",
        "detect_retina",
        "max_native_zoom",
        "max_zoom",
        "min_native_zoom",
        "min_zoom",
        "no_wrap",
        "tile_size",
        "tms",
        "zoom_offset"
       ],
       "url": "https://wxs.ign.fr/satellite/geoportail/wmts?REQUEST=GetTile&SERVICE=WMTS&VERSION=1.0.0&STYLE=normal&TILEMATRIXSET=PM&FORMAT=image/jpeg&LAYER=ORTHOIMAGERY.ORTHO-SAT.SPOT.2017&TILEMATRIX={z}&TILEROW={y}&TILECOL={x}"
      }
     },
     "128410ac6b734bf59e77b41dad05c35a": {
      "model_module": "jupyter-leaflet",
      "model_module_version": "^0.17",
      "model_name": "LeafletTileLayerModel",
      "state": {
       "_model_module_version": "^0.17",
       "_view_module_version": "^0.17",
       "attribution": "Geoportail France",
       "max_zoom": 16,
       "name": "GeoportailFrance.Landcover_Clc12r_dom",
       "options": [
        "attribution",
        "bounds",
        "detect_retina",
        "max_native_zoom",
        "max_zoom",
        "min_native_zoom",
        "min_zoom",
        "no_wrap",
        "tile_size",
        "tms",
        "zoom_offset"
       ],
       "url": "https://wxs.ign.fr/clc/geoportail/wmts?REQUEST=GetTile&SERVICE=WMTS&VERSION=1.0.0&STYLE=CORINE Land Cover - DOM&TILEMATRIXSET=PM&FORMAT=image/png&LAYER=LANDCOVER.CLC12R_DOM&TILEMATRIX={z}&TILEROW={y}&TILECOL={x}"
      }
     },
     "12b041197a3747d0849812f3fd6adf8d": {
      "model_module": "@jupyter-widgets/controls",
      "model_module_version": "1.5.0",
      "model_name": "ButtonStyleModel",
      "state": {
       "button_color": "red"
      }
     },
     "135c00e1eb6645e3809c94f5a916fefc": {
      "model_module": "jupyter-leaflet",
      "model_module_version": "^0.17",
      "model_name": "LeafletTileLayerModel",
      "state": {
       "_model_module_version": "^0.17",
       "_view_module_version": "^0.17",
       "attribution": "Geoportail France",
       "max_zoom": 16,
       "name": "GeoportailFrance.Adminexpress_cog_Latest",
       "options": [
        "attribution",
        "bounds",
        "detect_retina",
        "max_native_zoom",
        "max_zoom",
        "min_native_zoom",
        "min_zoom",
        "no_wrap",
        "tile_size",
        "tms",
        "zoom_offset"
       ],
       "url": "https://wxs.ign.fr/administratif/geoportail/wmts?REQUEST=GetTile&SERVICE=WMTS&VERSION=1.0.0&STYLE=normal&TILEMATRIXSET=PM&FORMAT=image/png&LAYER=ADMINEXPRESS-COG.LATEST&TILEMATRIX={z}&TILEROW={y}&TILECOL={x}"
      }
     },
     "142a8c4297074e7797077a8059b3f84d": {
      "model_module": "jupyter-leaflet",
      "model_module_version": "^0.17",
      "model_name": "LeafletTileLayerModel",
      "state": {
       "_model_module_version": "^0.17",
       "_view_module_version": "^0.17",
       "attribution": "Geoportail France",
       "max_zoom": 16,
       "name": "GeoportailFrance.Insee_Filosofi_Part_Logements_Apres_1990_Secret",
       "options": [
        "attribution",
        "bounds",
        "detect_retina",
        "max_native_zoom",
        "max_zoom",
        "min_native_zoom",
        "min_zoom",
        "no_wrap",
        "tile_size",
        "tms",
        "zoom_offset"
       ],
       "url": "https://wxs.ign.fr/economie/geoportail/wmts?REQUEST=GetTile&SERVICE=WMTS&VERSION=1.0.0&STYLE=INSEE&TILEMATRIXSET=PM&FORMAT=image/png&LAYER=INSEE.FILOSOFI.PART.LOGEMENTS.APRES.1990.SECRET&TILEMATRIX={z}&TILEROW={y}&TILECOL={x}"
      }
     },
     "14d9ed5bdf864e4cbb8daa7d0f7d4612": {
      "model_module": "jupyter-leaflet",
      "model_module_version": "^0.17",
      "model_name": "LeafletTileLayerModel",
      "state": {
       "_model_module_version": "^0.17",
       "_view_module_version": "^0.17",
       "attribution": "Geoportail France",
       "max_zoom": 19,
       "name": "GeoportailFrance.Orthoimagery_Orthophotos_Ortho_express_2022",
       "options": [
        "attribution",
        "bounds",
        "detect_retina",
        "max_native_zoom",
        "max_zoom",
        "min_native_zoom",
        "min_zoom",
        "no_wrap",
        "tile_size",
        "tms",
        "zoom_offset"
       ],
       "url": "https://wxs.ign.fr/ortho/geoportail/wmts?REQUEST=GetTile&SERVICE=WMTS&VERSION=1.0.0&STYLE=normal&TILEMATRIXSET=PM&FORMAT=image/jpeg&LAYER=ORTHOIMAGERY.ORTHOPHOTOS.ORTHO-EXPRESS.2022&TILEMATRIX={z}&TILEROW={y}&TILECOL={x}"
      }
     },
     "154a1aebedb44dd3a15fa3a62bfa0f86": {
      "model_module": "@jupyter-widgets/controls",
      "model_module_version": "1.5.0",
      "model_name": "ButtonModel",
      "state": {
       "description": "Save Settings",
       "layout": "IPY_MODEL_2ed72a329add4f2fb7d296ca84fa33ca",
       "style": "IPY_MODEL_9a07cb0a56184d8cbaff37c59d303ee3"
      }
     },
     "1565504df5874eb7ab55740668188349": {
      "model_module": "jupyter-leaflet",
      "model_module_version": "^0.17",
      "model_name": "LeafletLayersControlModel",
      "state": {
       "_model_module_version": "^0.17",
       "_view_module_version": "^0.17",
       "options": [
        "position"
       ],
       "position": "topright"
      }
     },
     "157522872bb9488799db24111b270fbd": {
      "model_module": "jupyter-leaflet",
      "model_module_version": "^0.17",
      "model_name": "LeafletTileLayerModel",
      "state": {
       "_model_module_version": "^0.17",
       "_view_module_version": "^0.17",
       "attribution": "Map data: (C) OpenStreetMap contributors & ODbL, (C) www.opensnowmap.org CC-BY-SA",
       "name": "OpenSnowMap.pistes",
       "options": [
        "attribution",
        "bounds",
        "detect_retina",
        "max_native_zoom",
        "max_zoom",
        "min_native_zoom",
        "min_zoom",
        "no_wrap",
        "tile_size",
        "tms",
        "zoom_offset"
       ],
       "url": "https://tiles.opensnowmap.org/pistes/{z}/{x}/{y}.png"
      }
     },
     "16a5bd96bc164465b61440eed156fc3e": {
      "model_module": "@jupyter-widgets/base",
      "model_module_version": "1.2.0",
      "model_name": "LayoutModel",
      "state": {}
     },
     "16b5bf71900f4835832c39ac23e22436": {
      "model_module": "jupyter-leaflet",
      "model_module_version": "^0.17",
      "model_name": "LeafletTileLayerModel",
      "state": {
       "_model_module_version": "^0.17",
       "_view_module_version": "^0.17",
       "attribution": "Geoportail France",
       "name": "GeoportailFrance.Hydrography_Hydrography",
       "options": [
        "attribution",
        "bounds",
        "detect_retina",
        "max_native_zoom",
        "max_zoom",
        "min_native_zoom",
        "min_zoom",
        "no_wrap",
        "tile_size",
        "tms",
        "zoom_offset"
       ],
       "url": "https://wxs.ign.fr/topographie/geoportail/wmts?REQUEST=GetTile&SERVICE=WMTS&VERSION=1.0.0&STYLE=normal&TILEMATRIXSET=PM&FORMAT=image/png&LAYER=HYDROGRAPHY.HYDROGRAPHY&TILEMATRIX={z}&TILEROW={y}&TILECOL={x}"
      }
     },
     "176c9510762b460297daa81e042b3c23": {
      "model_module": "jupyter-leaflet",
      "model_module_version": "^0.17",
      "model_name": "LeafletTileLayerModel",
      "state": {
       "_model_module_version": "^0.17",
       "_view_module_version": "^0.17",
       "attribution": "Map tiles by Stamen Design, CC BY 3.0 -- Map data (C) OpenStreetMap contributors",
       "name": "Stamen.Terrain",
       "options": [
        "attribution",
        "bounds",
        "detect_retina",
        "max_native_zoom",
        "max_zoom",
        "min_native_zoom",
        "min_zoom",
        "no_wrap",
        "tile_size",
        "tms",
        "zoom_offset"
       ],
       "url": "https://stamen-tiles-a.a.ssl.fastly.net/terrain/{z}/{x}/{y}.png"
      }
     },
     "1837bef0cae747888e3b941ec9e0b843": {
      "model_module": "jupyter-leaflet",
      "model_module_version": "^0.17",
      "model_name": "LeafletTileLayerModel",
      "state": {
       "_model_module_version": "^0.17",
       "_view_module_version": "^0.17",
       "attribution": "Geoportail France",
       "max_zoom": 13,
       "name": "GeoportailFrance.Landcover_Hr_Dlt_Clc15",
       "options": [
        "attribution",
        "bounds",
        "detect_retina",
        "max_native_zoom",
        "max_zoom",
        "min_native_zoom",
        "min_zoom",
        "no_wrap",
        "tile_size",
        "tms",
        "zoom_offset"
       ],
       "url": "https://wxs.ign.fr/clc/geoportail/wmts?REQUEST=GetTile&SERVICE=WMTS&VERSION=1.0.0&STYLE=CORINE Land Cover - HR - type de forêts&TILEMATRIXSET=PM&FORMAT=image/png&LAYER=LANDCOVER.HR.DLT.CLC15&TILEMATRIX={z}&TILEROW={y}&TILECOL={x}"
      }
     },
     "1876bc67612a41cd810cdb61efc93c68": {
      "model_module": "jupyter-leaflet",
      "model_module_version": "^0.17",
      "model_name": "LeafletTileLayerModel",
      "state": {
       "_model_module_version": "^0.17",
       "_view_module_version": "^0.17",
       "attribution": "Map tiles by Stamen Design, CC BY 3.0 -- Map data (C) OpenStreetMap contributors",
       "max_zoom": 20,
       "name": "Stamen.Toner",
       "options": [
        "attribution",
        "bounds",
        "detect_retina",
        "max_native_zoom",
        "max_zoom",
        "min_native_zoom",
        "min_zoom",
        "no_wrap",
        "tile_size",
        "tms",
        "zoom_offset"
       ],
       "url": "https://stamen-tiles-a.a.ssl.fastly.net/toner/{z}/{x}/{y}.png"
      }
     },
     "189d67deec614f84818161d1db6bce21": {
      "model_module": "jupyter-leaflet",
      "model_module_version": "^0.17",
      "model_name": "LeafletTileLayerModel",
      "state": {
       "_model_module_version": "^0.17",
       "_view_module_version": "^0.17",
       "attribution": "Geoportail France",
       "max_zoom": 15,
       "name": "GeoportailFrance.Elevation_Elevationgridcoverage_Shadow",
       "options": [
        "attribution",
        "bounds",
        "detect_retina",
        "max_native_zoom",
        "max_zoom",
        "min_native_zoom",
        "min_zoom",
        "no_wrap",
        "tile_size",
        "tms",
        "zoom_offset"
       ],
       "url": "https://wxs.ign.fr/altimetrie/geoportail/wmts?REQUEST=GetTile&SERVICE=WMTS&VERSION=1.0.0&STYLE=estompage_grayscale&TILEMATRIXSET=PM&FORMAT=image/png&LAYER=ELEVATION.ELEVATIONGRIDCOVERAGE.SHADOW&TILEMATRIX={z}&TILEROW={y}&TILECOL={x}"
      }
     },
     "19bbf2d89fca4e6990522430a231d6f0": {
      "model_module": "jupyter-leaflet",
      "model_module_version": "^0.17",
      "model_name": "LeafletTileLayerModel",
      "state": {
       "_model_module_version": "^0.17",
       "_view_module_version": "^0.17",
       "attribution": "Justice Map",
       "max_zoom": 22,
       "name": "JusticeMap.asian",
       "options": [
        "attribution",
        "bounds",
        "detect_retina",
        "max_native_zoom",
        "max_zoom",
        "min_native_zoom",
        "min_zoom",
        "no_wrap",
        "tile_size",
        "tms",
        "zoom_offset"
       ],
       "url": "https://www.justicemap.org/tile/county/asian/{z}/{x}/{y}.png"
      }
     },
     "19bcd7ca1253414196fc2d6d1df304d7": {
      "model_module": "@jupyter-widgets/base",
      "model_module_version": "1.2.0",
      "model_name": "LayoutModel",
      "state": {}
     },
     "1a07602696054ad39e4f0204e36b2a43": {
      "model_module": "jupyter-leaflet",
      "model_module_version": "^0.17",
      "model_name": "LeafletMapStyleModel",
      "state": {
       "_model_module_version": "^0.17"
      }
     },
     "1a6fe899b2dd4c658af51970e335d5e2": {
      "model_module": "@jupyter-widgets/controls",
      "model_module_version": "1.5.0",
      "model_name": "DescriptionStyleModel",
      "state": {
       "description_width": ""
      }
     },
     "1a843db12b124372a0737387842d8c48": {
      "model_module": "jupyter-leaflet",
      "model_module_version": "^0.17",
      "model_name": "LeafletTileLayerModel",
      "state": {
       "_model_module_version": "^0.17",
       "_view_module_version": "^0.17",
       "attribution": "Geoportail France",
       "max_zoom": 13,
       "name": "GeoportailFrance.Landcover_Hr_Tcd_Clc12",
       "options": [
        "attribution",
        "bounds",
        "detect_retina",
        "max_native_zoom",
        "max_zoom",
        "min_native_zoom",
        "min_zoom",
        "no_wrap",
        "tile_size",
        "tms",
        "zoom_offset"
       ],
       "url": "https://wxs.ign.fr/clc/geoportail/wmts?REQUEST=GetTile&SERVICE=WMTS&VERSION=1.0.0&STYLE=CORINE Land Cover - HR - taux de couvert arboré&TILEMATRIXSET=PM&FORMAT=image/png&LAYER=LANDCOVER.HR.TCD.CLC12&TILEMATRIX={z}&TILEROW={y}&TILECOL={x}"
      }
     },
     "1adb7a203ecd411f963e563811c92d52": {
      "model_module": "@jupyter-widgets/controls",
      "model_module_version": "1.5.0",
      "model_name": "DescriptionStyleModel",
      "state": {
       "description_width": ""
      }
     },
     "1b2735aa9b07409296211ce5fdf01ef6": {
      "model_module": "jupyter-leaflet",
      "model_module_version": "^0.17",
      "model_name": "LeafletTileLayerModel",
      "state": {
       "_model_module_version": "^0.17",
       "_view_module_version": "^0.17",
       "attribution": "![](https://docs.onemap.sg/maps/images/oneMap64-01.png) New OneMap | Map data (C) contributors, Singapore Land Authority",
       "name": "OneMapSG.Default",
       "options": [
        "attribution",
        "bounds",
        "detect_retina",
        "max_native_zoom",
        "max_zoom",
        "min_native_zoom",
        "min_zoom",
        "no_wrap",
        "tile_size",
        "tms",
        "zoom_offset"
       ],
       "url": "https://maps-a.onemap.sg/v3/Default/{z}/{x}/{y}.png"
      }
     },
     "1bc13a94da794c728501974837231480": {
      "model_module": "@jupyter-widgets/base",
      "model_module_version": "1.2.0",
      "model_name": "LayoutModel",
      "state": {}
     },
     "1c26711d81c24bebae1e43d2f6ca1a46": {
      "model_module": "jupyter-leaflet",
      "model_module_version": "^0.17",
      "model_name": "LeafletTileLayerModel",
      "state": {
       "_model_module_version": "^0.17",
       "_view_module_version": "^0.17",
       "attribution": "Geoportail France",
       "max_zoom": 16,
       "name": "GeoportailFrance.Landuse_Agriculture2008",
       "options": [
        "attribution",
        "bounds",
        "detect_retina",
        "max_native_zoom",
        "max_zoom",
        "min_native_zoom",
        "min_zoom",
        "no_wrap",
        "tile_size",
        "tms",
        "zoom_offset"
       ],
       "url": "https://wxs.ign.fr/agriculture/geoportail/wmts?REQUEST=GetTile&SERVICE=WMTS&VERSION=1.0.0&STYLE=normal&TILEMATRIXSET=PM&FORMAT=image/png&LAYER=LANDUSE.AGRICULTURE2008&TILEMATRIX={z}&TILEROW={y}&TILECOL={x}"
      }
     },
     "1c2e4842f1b249f79ecd3714526db146": {
      "model_module": "jupyter-leaflet",
      "model_module_version": "^0.17",
      "model_name": "LeafletTileLayerModel",
      "state": {
       "_model_module_version": "^0.17",
       "_view_module_version": "^0.17",
       "attribution": "Geoportail France",
       "max_zoom": 16,
       "name": "GeoportailFrance.Landcover_Sylvoecoregions",
       "options": [
        "attribution",
        "bounds",
        "detect_retina",
        "max_native_zoom",
        "max_zoom",
        "min_native_zoom",
        "min_zoom",
        "no_wrap",
        "tile_size",
        "tms",
        "zoom_offset"
       ],
       "url": "https://wxs.ign.fr/environnement/geoportail/wmts?REQUEST=GetTile&SERVICE=WMTS&VERSION=1.0.0&STYLE=normal&TILEMATRIXSET=PM&FORMAT=image/png&LAYER=LANDCOVER.SYLVOECOREGIONS&TILEMATRIX={z}&TILEROW={y}&TILECOL={x}"
      }
     },
     "1daec8df3251469eb9a13e1a10628afc": {
      "model_module": "jupyter-leaflet",
      "model_module_version": "^0.17",
      "model_name": "LeafletTileLayerModel",
      "state": {
       "_model_module_version": "^0.17",
       "_view_module_version": "^0.17",
       "attribution": "Geoportail France",
       "name": "GeoportailFrance.Orthoimagery_Orthophotos2010",
       "options": [
        "attribution",
        "bounds",
        "detect_retina",
        "max_native_zoom",
        "max_zoom",
        "min_native_zoom",
        "min_zoom",
        "no_wrap",
        "tile_size",
        "tms",
        "zoom_offset"
       ],
       "url": "https://wxs.ign.fr/orthohisto/geoportail/wmts?REQUEST=GetTile&SERVICE=WMTS&VERSION=1.0.0&STYLE=normal&TILEMATRIXSET=PM&FORMAT=image/jpeg&LAYER=ORTHOIMAGERY.ORTHOPHOTOS2010&TILEMATRIX={z}&TILEROW={y}&TILECOL={x}"
      }
     },
     "1dbf42ed101148a2a6d9e752d2220da6": {
      "model_module": "jupyter-leaflet",
      "model_module_version": "^0.17",
      "model_name": "LeafletTileLayerModel",
      "state": {
       "_model_module_version": "^0.17",
       "_view_module_version": "^0.17",
       "attribution": "Geoportail France",
       "max_zoom": 16,
       "name": "GeoportailFrance.Protectedareas_Pn",
       "options": [
        "attribution",
        "bounds",
        "detect_retina",
        "max_native_zoom",
        "max_zoom",
        "min_native_zoom",
        "min_zoom",
        "no_wrap",
        "tile_size",
        "tms",
        "zoom_offset"
       ],
       "url": "https://wxs.ign.fr/environnement/geoportail/wmts?REQUEST=GetTile&SERVICE=WMTS&VERSION=1.0.0&STYLE=normal&TILEMATRIXSET=PM&FORMAT=image/png&LAYER=PROTECTEDAREAS.PN&TILEMATRIX={z}&TILEROW={y}&TILECOL={x}"
      }
     },
     "1e4a17db75cc44d9b5e6f8a5f1809be4": {
      "model_module": "@jupyter-widgets/controls",
      "model_module_version": "1.5.0",
      "model_name": "DescriptionStyleModel",
      "state": {
       "description_width": ""
      }
     },
     "1e8dbb7f36f540318ed84cbb70747c0e": {
      "model_module": "@jupyter-widgets/base",
      "model_module_version": "1.2.0",
      "model_name": "LayoutModel",
      "state": {}
     },
     "1fcaf611757b46c791ee407cbeeaef92": {
      "model_module": "jupyter-leaflet",
      "model_module_version": "^0.17",
      "model_name": "LeafletTileLayerModel",
      "state": {
       "_model_module_version": "^0.17",
       "_view_module_version": "^0.17",
       "attribution": "Geoportail France",
       "name": "GeoportailFrance.Buildings_Buildings",
       "options": [
        "attribution",
        "bounds",
        "detect_retina",
        "max_native_zoom",
        "max_zoom",
        "min_native_zoom",
        "min_zoom",
        "no_wrap",
        "tile_size",
        "tms",
        "zoom_offset"
       ],
       "url": "https://wxs.ign.fr/topographie/geoportail/wmts?REQUEST=GetTile&SERVICE=WMTS&VERSION=1.0.0&STYLE=normal&TILEMATRIXSET=PM&FORMAT=image/png&LAYER=BUILDINGS.BUILDINGS&TILEMATRIX={z}&TILEROW={y}&TILECOL={x}"
      }
     },
     "20d7012084d045f1baafa3e4d2a8f3c2": {
      "model_module": "jupyter-leaflet",
      "model_module_version": "^0.17",
      "model_name": "LeafletTileLayerModel",
      "state": {
       "_model_module_version": "^0.17",
       "_view_module_version": "^0.17",
       "attribution": "![](https://docs.onemap.sg/maps/images/oneMap64-01.png) New OneMap | Map data (C) contributors, Singapore Land Authority",
       "name": "OneMapSG.Night",
       "options": [
        "attribution",
        "bounds",
        "detect_retina",
        "max_native_zoom",
        "max_zoom",
        "min_native_zoom",
        "min_zoom",
        "no_wrap",
        "tile_size",
        "tms",
        "zoom_offset"
       ],
       "url": "https://maps-a.onemap.sg/v3/Night/{z}/{x}/{y}.png"
      }
     },
     "2114000a966745acae94a4649435ccf1": {
      "model_module": "jupyter-leaflet",
      "model_module_version": "^0.17",
      "model_name": "LeafletTileLayerModel",
      "state": {
       "_model_module_version": "^0.17",
       "_view_module_version": "^0.17",
       "attribution": "Map data: (C) OpenStreetMap contributors, SRTM | Map style: (C) OpenTopoMap (CC-BY-SA)",
       "max_zoom": 17,
       "name": "OpenTopoMap",
       "options": [
        "attribution",
        "bounds",
        "detect_retina",
        "max_native_zoom",
        "max_zoom",
        "min_native_zoom",
        "min_zoom",
        "no_wrap",
        "tile_size",
        "tms",
        "zoom_offset"
       ],
       "url": "https://a.tile.opentopomap.org/{z}/{x}/{y}.png"
      }
     },
     "21f4750d1e5941fca4888d5ceabe6715": {
      "model_module": "@jupyter-widgets/base",
      "model_module_version": "1.2.0",
      "model_name": "LayoutModel",
      "state": {
       "height": "auto",
       "padding": "0px 0px 0px 4px",
       "width": "auto"
      }
     },
     "222edd3f41af42c8ada676eba52b6cad": {
      "model_module": "jupyter-leaflet",
      "model_module_version": "^0.17",
      "model_name": "LeafletTileLayerModel",
      "state": {
       "_model_module_version": "^0.17",
       "_view_module_version": "^0.17",
       "attribution": "Geoportail France",
       "name": "GeoportailFrance.Orthoimagery_Ortho_sat_Pleiades_2018",
       "options": [
        "attribution",
        "bounds",
        "detect_retina",
        "max_native_zoom",
        "max_zoom",
        "min_native_zoom",
        "min_zoom",
        "no_wrap",
        "tile_size",
        "tms",
        "zoom_offset"
       ],
       "url": "https://wxs.ign.fr/satellite/geoportail/wmts?REQUEST=GetTile&SERVICE=WMTS&VERSION=1.0.0&STYLE=normal&TILEMATRIXSET=PM&FORMAT=image/png&LAYER=ORTHOIMAGERY.ORTHO-SAT.PLEIADES.2018&TILEMATRIX={z}&TILEROW={y}&TILECOL={x}"
      }
     },
     "227c19e830614fb4a72eee20369b7d4e": {
      "model_module": "jupyter-leaflet",
      "model_module_version": "^0.17",
      "model_name": "LeafletTileLayerModel",
      "state": {
       "_model_module_version": "^0.17",
       "_view_module_version": "^0.17",
       "attribution": "Geoportail France",
       "max_zoom": 19,
       "name": "GeoportailFrance.Orthoimagery_Orthophotos_Irc_2016",
       "options": [
        "attribution",
        "bounds",
        "detect_retina",
        "max_native_zoom",
        "max_zoom",
        "min_native_zoom",
        "min_zoom",
        "no_wrap",
        "tile_size",
        "tms",
        "zoom_offset"
       ],
       "url": "https://wxs.ign.fr/orthohisto/geoportail/wmts?REQUEST=GetTile&SERVICE=WMTS&VERSION=1.0.0&STYLE=normal&TILEMATRIXSET=PM&FORMAT=image/jpeg&LAYER=ORTHOIMAGERY.ORTHOPHOTOS.IRC.2016&TILEMATRIX={z}&TILEROW={y}&TILECOL={x}"
      }
     },
     "22a8a16e3e7f48268404f4672317fc66": {
      "model_module": "@jupyter-widgets/base",
      "model_module_version": "1.2.0",
      "model_name": "LayoutModel",
      "state": {}
     },
     "22d45dc1e349457ba9394f0cfcd7a8d9": {
      "model_module": "jupyter-leaflet",
      "model_module_version": "^0.17",
      "model_name": "LeafletTileLayerModel",
      "state": {
       "_model_module_version": "^0.17",
       "_view_module_version": "^0.17",
       "attribution": "Geoportail France",
       "max_zoom": 13,
       "name": "GeoportailFrance.Landcover_Hr_Imd_Clc12",
       "options": [
        "attribution",
        "bounds",
        "detect_retina",
        "max_native_zoom",
        "max_zoom",
        "min_native_zoom",
        "min_zoom",
        "no_wrap",
        "tile_size",
        "tms",
        "zoom_offset"
       ],
       "url": "https://wxs.ign.fr/clc/geoportail/wmts?REQUEST=GetTile&SERVICE=WMTS&VERSION=1.0.0&STYLE=CORINE Land Cover - HR - taux d'imperméabilisation des sols&TILEMATRIXSET=PM&FORMAT=image/png&LAYER=LANDCOVER.HR.IMD.CLC12&TILEMATRIX={z}&TILEROW={y}&TILECOL={x}"
      }
     },
     "2362de9c0b4f4e16b1cd2ae0ceefebd1": {
      "model_module": "jupyter-leaflet",
      "model_module_version": "^0.17",
      "model_name": "LeafletTileLayerModel",
      "state": {
       "_model_module_version": "^0.17",
       "_view_module_version": "^0.17",
       "attribution": "Geoportail France",
       "max_zoom": 17,
       "name": "GeoportailFrance.Communes_Prioritydisctrict",
       "options": [
        "attribution",
        "bounds",
        "detect_retina",
        "max_native_zoom",
        "max_zoom",
        "min_native_zoom",
        "min_zoom",
        "no_wrap",
        "tile_size",
        "tms",
        "zoom_offset"
       ],
       "url": "https://wxs.ign.fr/economie/geoportail/wmts?REQUEST=GetTile&SERVICE=WMTS&VERSION=1.0.0&STYLE=normal&TILEMATRIXSET=PM&FORMAT=image/png&LAYER=COMMUNES.PRIORITYDISCTRICT&TILEMATRIX={z}&TILEROW={y}&TILECOL={x}"
      }
     },
     "2444f9c5c9574899b0e33f7ae826ef69": {
      "model_module": "@jupyter-widgets/base",
      "model_module_version": "1.2.0",
      "model_name": "LayoutModel",
      "state": {}
     },
     "24454242d1be4688aa32f254b1d1c729": {
      "model_module": "jupyter-leaflet",
      "model_module_version": "^0.17",
      "model_name": "LeafletMapStyleModel",
      "state": {
       "_model_module_version": "^0.17",
       "cursor": "move"
      }
     },
     "24594e342c04412199c1c903a0090978": {
      "model_module": "jupyter-leaflet",
      "model_module_version": "^0.17",
      "model_name": "LeafletTileLayerModel",
      "state": {
       "_model_module_version": "^0.17",
       "_view_module_version": "^0.17",
       "attribution": "Geoportail France",
       "max_zoom": 17,
       "name": "GeoportailFrance.Securoute_Te_Pn",
       "options": [
        "attribution",
        "bounds",
        "detect_retina",
        "max_native_zoom",
        "max_zoom",
        "min_native_zoom",
        "min_zoom",
        "no_wrap",
        "tile_size",
        "tms",
        "zoom_offset"
       ],
       "url": "https://wxs.ign.fr/transports/geoportail/wmts?REQUEST=GetTile&SERVICE=WMTS&VERSION=1.0.0&STYLE=FRANCHISSEMENTS PASSAGE A NIVEAU&TILEMATRIXSET=PM&FORMAT=image/png&LAYER=SECUROUTE.TE.PN&TILEMATRIX={z}&TILEROW={y}&TILECOL={x}"
      }
     },
     "24c8745b8f0e4f6fa8381bdc60eb8cba": {
      "model_module": "jupyter-leaflet",
      "model_module_version": "^0.17",
      "model_name": "LeafletTileLayerModel",
      "state": {
       "_model_module_version": "^0.17",
       "_view_module_version": "^0.17",
       "attribution": "(C) OpenStreetMap contributors",
       "name": "OpenStreetMap.DE",
       "options": [
        "attribution",
        "bounds",
        "detect_retina",
        "max_native_zoom",
        "max_zoom",
        "min_native_zoom",
        "min_zoom",
        "no_wrap",
        "tile_size",
        "tms",
        "zoom_offset"
       ],
       "url": "https://a.tile.openstreetmap.de/{z}/{x}/{y}.png"
      }
     },
     "24d37e9f546a4dabae81e2f37cd4d45b": {
      "model_module": "jupyter-leaflet",
      "model_module_version": "^0.17",
      "model_name": "LeafletTileLayerModel",
      "state": {
       "_model_module_version": "^0.17",
       "_view_module_version": "^0.17",
       "attribution": "Geoportail France",
       "max_zoom": 16,
       "name": "GeoportailFrance.Landcover_Cha00_fr",
       "options": [
        "attribution",
        "bounds",
        "detect_retina",
        "max_native_zoom",
        "max_zoom",
        "min_native_zoom",
        "min_zoom",
        "no_wrap",
        "tile_size",
        "tms",
        "zoom_offset"
       ],
       "url": "https://wxs.ign.fr/clc/geoportail/wmts?REQUEST=GetTile&SERVICE=WMTS&VERSION=1.0.0&STYLE=CORINE Land Cover - France métropolitaine&TILEMATRIXSET=PM&FORMAT=image/png&LAYER=LANDCOVER.CHA00_FR&TILEMATRIX={z}&TILEROW={y}&TILECOL={x}"
      }
     },
     "25509513bf7a45729324bd210eb4283c": {
      "model_module": "jupyter-leaflet",
      "model_module_version": "^0.17",
      "model_name": "LeafletTileLayerModel",
      "state": {
       "_model_module_version": "^0.17",
       "_view_module_version": "^0.17",
       "attribution": "Geoportail France",
       "max_zoom": 16,
       "name": "GeoportailFrance.Landcover_Clc18_dom",
       "options": [
        "attribution",
        "bounds",
        "detect_retina",
        "max_native_zoom",
        "max_zoom",
        "min_native_zoom",
        "min_zoom",
        "no_wrap",
        "tile_size",
        "tms",
        "zoom_offset"
       ],
       "url": "https://wxs.ign.fr/clc/geoportail/wmts?REQUEST=GetTile&SERVICE=WMTS&VERSION=1.0.0&STYLE=CORINE Land Cover - DOM&TILEMATRIXSET=PM&FORMAT=image/png&LAYER=LANDCOVER.CLC18_DOM&TILEMATRIX={z}&TILEROW={y}&TILECOL={x}"
      }
     },
     "255ee20a5ed7498db5cab04ccfac2d37": {
      "model_module": "jupyter-leaflet",
      "model_module_version": "^0.17",
      "model_name": "LeafletTileLayerModel",
      "state": {
       "_model_module_version": "^0.17",
       "_view_module_version": "^0.17",
       "attribution": "Imagery provided by services from the Global Imagery Browse Services (GIBS), operated by the NASA/GSFC/Earth Science Data and Information System (ESDIS) with funding provided by NASA/HQ.",
       "max_zoom": 9,
       "name": "NASAGIBS.ViirsTrueColorCR",
       "options": [
        "attribution",
        "bounds",
        "detect_retina",
        "max_native_zoom",
        "max_zoom",
        "min_native_zoom",
        "min_zoom",
        "no_wrap",
        "tile_size",
        "tms",
        "zoom_offset"
       ],
       "url": "https://gibs.earthdata.nasa.gov/wmts/epsg3857/best/VIIRS_SNPP_CorrectedReflectance_TrueColor/default//GoogleMapsCompatible_Level9/{z}/{y}/{x}.jpg"
      }
     },
     "25b91c9ad31c475795630cd135cf55fb": {
      "model_module": "jupyter-leaflet",
      "model_module_version": "^0.17",
      "model_name": "LeafletTileLayerModel",
      "state": {
       "_model_module_version": "^0.17",
       "_view_module_version": "^0.17",
       "attribution": "CyclOSM | Map data: (C) OpenStreetMap contributors",
       "max_zoom": 20,
       "name": "CyclOSM",
       "options": [
        "attribution",
        "bounds",
        "detect_retina",
        "max_native_zoom",
        "max_zoom",
        "min_native_zoom",
        "min_zoom",
        "no_wrap",
        "tile_size",
        "tms",
        "zoom_offset"
       ],
       "url": "https://a.tile-cyclosm.openstreetmap.fr/cyclosm/{z}/{x}/{y}.png"
      }
     },
     "25f1e785d2264d1ebb1ad8a8c835406f": {
      "model_module": "jupyter-leaflet",
      "model_module_version": "^0.17",
      "model_name": "LeafletTileLayerModel",
      "state": {
       "_model_module_version": "^0.17",
       "_view_module_version": "^0.17",
       "attribution": "Geoportail France",
       "max_zoom": 16,
       "name": "GeoportailFrance.Landuse_Agriculture2012",
       "options": [
        "attribution",
        "bounds",
        "detect_retina",
        "max_native_zoom",
        "max_zoom",
        "min_native_zoom",
        "min_zoom",
        "no_wrap",
        "tile_size",
        "tms",
        "zoom_offset"
       ],
       "url": "https://wxs.ign.fr/agriculture/geoportail/wmts?REQUEST=GetTile&SERVICE=WMTS&VERSION=1.0.0&STYLE=normal&TILEMATRIXSET=PM&FORMAT=image/png&LAYER=LANDUSE.AGRICULTURE2012&TILEMATRIX={z}&TILEROW={y}&TILECOL={x}"
      }
     },
     "273b708e9020478ba8d3883f998f13df": {
      "model_module": "jupyter-leaflet",
      "model_module_version": "^0.17",
      "model_name": "LeafletTileLayerModel",
      "state": {
       "_model_module_version": "^0.17",
       "_view_module_version": "^0.17",
       "attribution": "Geoportail France",
       "max_zoom": 16,
       "name": "GeoportailFrance.Protectedareas_Pnr",
       "options": [
        "attribution",
        "bounds",
        "detect_retina",
        "max_native_zoom",
        "max_zoom",
        "min_native_zoom",
        "min_zoom",
        "no_wrap",
        "tile_size",
        "tms",
        "zoom_offset"
       ],
       "url": "https://wxs.ign.fr/environnement/geoportail/wmts?REQUEST=GetTile&SERVICE=WMTS&VERSION=1.0.0&STYLE=normal&TILEMATRIXSET=PM&FORMAT=image/png&LAYER=PROTECTEDAREAS.PNR&TILEMATRIX={z}&TILEROW={y}&TILECOL={x}"
      }
     },
     "27d5b056034f48598a23711cd18f559c": {
      "model_module": "jupyter-leaflet",
      "model_module_version": "^0.17",
      "model_name": "LeafletTileLayerModel",
      "state": {
       "_model_module_version": "^0.17",
       "_view_module_version": "^0.17",
       "attribution": "(C) OpenStreetMap contributors, Tiles courtesy of Breton OpenStreetMap Team",
       "max_zoom": 19,
       "name": "OpenStreetMap.BZH",
       "options": [
        "attribution",
        "bounds",
        "detect_retina",
        "max_native_zoom",
        "max_zoom",
        "min_native_zoom",
        "min_zoom",
        "no_wrap",
        "tile_size",
        "tms",
        "zoom_offset"
       ],
       "url": "https://tile.openstreetmap.bzh/br/{z}/{x}/{y}.png"
      }
     },
     "27f9969846fd4f73b530804e7ed3ce5c": {
      "model_module": "@jupyter-widgets/base",
      "model_module_version": "1.2.0",
      "model_name": "LayoutModel",
      "state": {
       "height": "auto",
       "padding": "0px 0px 0px 4px",
       "width": "auto"
      }
     },
     "282ab78f6d724416ab5366f41130dd92": {
      "model_module": "jupyter-leaflet",
      "model_module_version": "^0.17",
      "model_name": "LeafletTileLayerModel",
      "state": {
       "_model_module_version": "^0.17",
       "_view_module_version": "^0.17",
       "attribution": "Kaartgegevens (C) Kadaster",
       "max_zoom": 19,
       "name": "nlmaps.luchtfoto",
       "options": [
        "attribution",
        "bounds",
        "detect_retina",
        "max_native_zoom",
        "max_zoom",
        "min_native_zoom",
        "min_zoom",
        "no_wrap",
        "tile_size",
        "tms",
        "zoom_offset"
       ],
       "url": "https://service.pdok.nl/hwh/luchtfotorgb/wmts/v1_0/Actueel_ortho25/EPSG:3857/{z}/{x}/{y}.jpeg"
      }
     },
     "28d0f30f487a4278a473abee97665e34": {
      "model_module": "jupyter-leaflet",
      "model_module_version": "^0.17",
      "model_name": "LeafletTileLayerModel",
      "state": {
       "_model_module_version": "^0.17",
       "_view_module_version": "^0.17",
       "attribution": "Geoportail France",
       "name": "GeoportailFrance.Geographicalgridsystems_Terrier_v1",
       "options": [
        "attribution",
        "bounds",
        "detect_retina",
        "max_native_zoom",
        "max_zoom",
        "min_native_zoom",
        "min_zoom",
        "no_wrap",
        "tile_size",
        "tms",
        "zoom_offset"
       ],
       "url": "https://wxs.ign.fr/cartes/geoportail/wmts?REQUEST=GetTile&SERVICE=WMTS&VERSION=1.0.0&STYLE=nolegend&TILEMATRIXSET=PM&FORMAT=image/png&LAYER=GEOGRAPHICALGRIDSYSTEMS.TERRIER_V1&TILEMATRIX={z}&TILEROW={y}&TILECOL={x}"
      }
     },
     "2904929659f840dfba32d57230d76f17": {
      "model_module": "jupyter-leaflet",
      "model_module_version": "^0.17",
      "model_name": "LeafletTileLayerModel",
      "state": {
       "_model_module_version": "^0.17",
       "_view_module_version": "^0.17",
       "attribution": "Geoportail France",
       "max_zoom": 19,
       "name": "GeoportailFrance.Orthoimagery_Orthophotos2020",
       "options": [
        "attribution",
        "bounds",
        "detect_retina",
        "max_native_zoom",
        "max_zoom",
        "min_native_zoom",
        "min_zoom",
        "no_wrap",
        "tile_size",
        "tms",
        "zoom_offset"
       ],
       "url": "https://wxs.ign.fr/ortho/geoportail/wmts?REQUEST=GetTile&SERVICE=WMTS&VERSION=1.0.0&STYLE=normal&TILEMATRIXSET=PM&FORMAT=image/jpeg&LAYER=ORTHOIMAGERY.ORTHOPHOTOS2020&TILEMATRIX={z}&TILEROW={y}&TILECOL={x}"
      }
     },
     "299877c81072433a8c769dbdfc49ead9": {
      "model_module": "jupyter-leaflet",
      "model_module_version": "^0.17",
      "model_name": "LeafletTileLayerModel",
      "state": {
       "_model_module_version": "^0.17",
       "_view_module_version": "^0.17",
       "attribution": "(C) OpenStreetMap contributors (C) CARTO",
       "max_zoom": 20,
       "name": "CartoDB.DarkMatterNoLabels",
       "options": [
        "attribution",
        "bounds",
        "detect_retina",
        "max_native_zoom",
        "max_zoom",
        "min_native_zoom",
        "min_zoom",
        "no_wrap",
        "tile_size",
        "tms",
        "zoom_offset"
       ],
       "url": "https://a.basemaps.cartocdn.com/dark_nolabels/{z}/{x}/{y}.png"
      }
     },
     "2a7bf8eba8894eb4ae8ab08a1653804c": {
      "model_module": "jupyter-leaflet",
      "model_module_version": "^0.17",
      "model_name": "LeafletTileLayerModel",
      "state": {
       "_model_module_version": "^0.17",
       "_view_module_version": "^0.17",
       "attribution": "Geoportail France",
       "max_zoom": 16,
       "name": "GeoportailFrance.Insee_Filosofi_Part_Menages_Proprietaires_Secret",
       "options": [
        "attribution",
        "bounds",
        "detect_retina",
        "max_native_zoom",
        "max_zoom",
        "min_native_zoom",
        "min_zoom",
        "no_wrap",
        "tile_size",
        "tms",
        "zoom_offset"
       ],
       "url": "https://wxs.ign.fr/economie/geoportail/wmts?REQUEST=GetTile&SERVICE=WMTS&VERSION=1.0.0&STYLE=INSEE&TILEMATRIXSET=PM&FORMAT=image/png&LAYER=INSEE.FILOSOFI.PART.MENAGES.PROPRIETAIRES.SECRET&TILEMATRIX={z}&TILEROW={y}&TILECOL={x}"
      }
     },
     "2b4b5ce62bad439c9fbd1b938e0f4ceb": {
      "model_module": "@jupyter-widgets/base",
      "model_module_version": "1.2.0",
      "model_name": "LayoutModel",
      "state": {
       "padding": "0px"
      }
     },
     "2b4c899296d64d41bbd28a46f39552c2": {
      "model_module": "@jupyter-widgets/base",
      "model_module_version": "1.2.0",
      "model_name": "LayoutModel",
      "state": {
       "border": "1px solid black"
      }
     },
     "2b63fb9c6c144a2b8708c8ba1b7051b3": {
      "model_module": "@jupyter-widgets/controls",
      "model_module_version": "1.5.0",
      "model_name": "ToggleButtonModel",
      "state": {
       "button_style": "primary",
       "icon": "pencil-square-o",
       "layout": "IPY_MODEL_9dabbca992954b078b622f4e48d5f0bf",
       "style": "IPY_MODEL_96fb63d5726f4dbc9555d13fcef0f27c",
       "tooltip": "Create vector data"
      }
     },
     "2b708abc029340ee9fa40d2ddd0cb148": {
      "model_module": "@jupyter-widgets/controls",
      "model_module_version": "1.5.0",
      "model_name": "DescriptionStyleModel",
      "state": {
       "description_width": ""
      }
     },
     "2ba51431c640457090352ee4635cf4a0": {
      "model_module": "jupyter-leaflet",
      "model_module_version": "^0.17",
      "model_name": "LeafletTileLayerModel",
      "state": {
       "_model_module_version": "^0.17",
       "_view_module_version": "^0.17",
       "attribution": "Geoportail France",
       "max_zoom": 16,
       "name": "GeoportailFrance.Insee_Filosofi_Part_Individus_40_54_Ans_Secret",
       "options": [
        "attribution",
        "bounds",
        "detect_retina",
        "max_native_zoom",
        "max_zoom",
        "min_native_zoom",
        "min_zoom",
        "no_wrap",
        "tile_size",
        "tms",
        "zoom_offset"
       ],
       "url": "https://wxs.ign.fr/economie/geoportail/wmts?REQUEST=GetTile&SERVICE=WMTS&VERSION=1.0.0&STYLE=INSEE&TILEMATRIXSET=PM&FORMAT=image/png&LAYER=INSEE.FILOSOFI.PART.INDIVIDUS.40.54.ANS.SECRET&TILEMATRIX={z}&TILEROW={y}&TILECOL={x}"
      }
     },
     "2be527c0b41b4725a64e37801e797ccb": {
      "model_module": "@jupyter-widgets/controls",
      "model_module_version": "1.5.0",
      "model_name": "HBoxModel",
      "state": {
       "children": [
        "IPY_MODEL_ef004589770b49ea8bd3d0a480b155b0"
       ],
       "layout": "IPY_MODEL_c2a9a6c0dde24338b49dbb3e85fb0088"
      }
     },
     "2bf44a60c6d049e6a3acbc5b5c0ba3c4": {
      "model_module": "jupyter-leaflet",
      "model_module_version": "^0.17",
      "model_name": "LeafletTileLayerModel",
      "state": {
       "_model_module_version": "^0.17",
       "_view_module_version": "^0.17",
       "attribution": "Map data: (C) OpenStreetMap contributors | Map style: (C) OpenFireMap (CC-BY-SA)",
       "max_zoom": 19,
       "name": "OpenFireMap",
       "options": [
        "attribution",
        "bounds",
        "detect_retina",
        "max_native_zoom",
        "max_zoom",
        "min_native_zoom",
        "min_zoom",
        "no_wrap",
        "tile_size",
        "tms",
        "zoom_offset"
       ],
       "url": "http://openfiremap.org/hytiles/{z}/{x}/{y}.png"
      }
     },
     "2c0be2e07e8043248b2f9baebdb9528d": {
      "model_module": "jupyter-leaflet",
      "model_module_version": "^0.17",
      "model_name": "LeafletTileLayerModel",
      "state": {
       "_model_module_version": "^0.17",
       "_view_module_version": "^0.17",
       "attribution": "Geoportail France",
       "max_zoom": 14,
       "name": "GeoportailFrance.Elevation_Slopes",
       "options": [
        "attribution",
        "bounds",
        "detect_retina",
        "max_native_zoom",
        "max_zoom",
        "min_native_zoom",
        "min_zoom",
        "no_wrap",
        "tile_size",
        "tms",
        "zoom_offset"
       ],
       "url": "https://wxs.ign.fr/altimetrie/geoportail/wmts?REQUEST=GetTile&SERVICE=WMTS&VERSION=1.0.0&STYLE=normal&TILEMATRIXSET=PM&FORMAT=image/jpeg&LAYER=ELEVATION.SLOPES&TILEMATRIX={z}&TILEROW={y}&TILECOL={x}"
      }
     },
     "2c1bf0b8336a4becbe5b820f95010d47": {
      "model_module": "@jupyter-widgets/base",
      "model_module_version": "1.2.0",
      "model_name": "LayoutModel",
      "state": {}
     },
     "2cb5578fe9f945af9b197246ce4219c4": {
      "model_module": "jupyter-leaflet",
      "model_module_version": "^0.17",
      "model_name": "LeafletTileLayerModel",
      "state": {
       "_model_module_version": "^0.17",
       "_view_module_version": "^0.17",
       "attribution": "Geoportail France",
       "max_zoom": 13,
       "name": "GeoportailFrance.Landcover_Grid_Clc06r",
       "options": [
        "attribution",
        "bounds",
        "detect_retina",
        "max_native_zoom",
        "max_zoom",
        "min_native_zoom",
        "min_zoom",
        "no_wrap",
        "tile_size",
        "tms",
        "zoom_offset"
       ],
       "url": "https://wxs.ign.fr/clc/geoportail/wmts?REQUEST=GetTile&SERVICE=WMTS&VERSION=1.0.0&STYLE=CORINE Land Cover&TILEMATRIXSET=PM&FORMAT=image/png&LAYER=LANDCOVER.GRID.CLC06R&TILEMATRIX={z}&TILEROW={y}&TILECOL={x}"
      }
     },
     "2cf98cd6108341cbb87c330394396afa": {
      "model_module": "jupyter-leaflet",
      "model_module_version": "^0.17",
      "model_name": "LeafletTileLayerModel",
      "state": {
       "_model_module_version": "^0.17",
       "_view_module_version": "^0.17",
       "attribution": "Geoportail France",
       "max_zoom": 16,
       "name": "GeoportailFrance.Protectedareas_Inpg",
       "options": [
        "attribution",
        "bounds",
        "detect_retina",
        "max_native_zoom",
        "max_zoom",
        "min_native_zoom",
        "min_zoom",
        "no_wrap",
        "tile_size",
        "tms",
        "zoom_offset"
       ],
       "url": "https://wxs.ign.fr/environnement/geoportail/wmts?REQUEST=GetTile&SERVICE=WMTS&VERSION=1.0.0&STYLE=normal&TILEMATRIXSET=PM&FORMAT=image/png&LAYER=PROTECTEDAREAS.INPG&TILEMATRIX={z}&TILEROW={y}&TILECOL={x}"
      }
     },
     "2e14b2231e3d4c13bbd6db8180780f91": {
      "model_module": "@jupyter-widgets/controls",
      "model_module_version": "1.5.0",
      "model_name": "DescriptionStyleModel",
      "state": {
       "description_width": ""
      }
     },
     "2ed72a329add4f2fb7d296ca84fa33ca": {
      "model_module": "@jupyter-widgets/base",
      "model_module_version": "1.2.0",
      "model_name": "LayoutModel",
      "state": {}
     },
     "2ef5f0ccc1674588ac908b847812d2be": {
      "model_module": "@jupyter-widgets/base",
      "model_module_version": "1.2.0",
      "model_name": "LayoutModel",
      "state": {}
     },
     "306081b78d164341b37bc84a27b48b42": {
      "model_module": "jupyter-leaflet",
      "model_module_version": "^0.17",
      "model_name": "LeafletTileLayerModel",
      "state": {
       "_model_module_version": "^0.17",
       "_view_module_version": "^0.17",
       "attribution": "Geoportail France",
       "max_zoom": 16,
       "name": "GeoportailFrance.Landuse_Agriculture2020",
       "options": [
        "attribution",
        "bounds",
        "detect_retina",
        "max_native_zoom",
        "max_zoom",
        "min_native_zoom",
        "min_zoom",
        "no_wrap",
        "tile_size",
        "tms",
        "zoom_offset"
       ],
       "url": "https://wxs.ign.fr/agriculture/geoportail/wmts?REQUEST=GetTile&SERVICE=WMTS&VERSION=1.0.0&STYLE=normal&TILEMATRIXSET=PM&FORMAT=image/png&LAYER=LANDUSE.AGRICULTURE2020&TILEMATRIX={z}&TILEROW={y}&TILECOL={x}"
      }
     },
     "31b24b6784364a2bbec8fd7e619fa872": {
      "model_module": "@jupyter-widgets/base",
      "model_module_version": "1.2.0",
      "model_name": "LayoutModel",
      "state": {
       "height": "auto",
       "padding": "0px 0px 0px 4px",
       "width": "auto"
      }
     },
     "32202f13f13a4f9b8d41cfc27bbf1cd4": {
      "model_module": "jupyter-leaflet",
      "model_module_version": "^0.17",
      "model_name": "LeafletTileLayerModel",
      "state": {
       "_model_module_version": "^0.17",
       "_view_module_version": "^0.17",
       "attribution": "Map data: (C) OpenStreetMap contributors | Map style: (C) waymarkedtrails.org (CC-BY-SA)",
       "name": "WaymarkedTrails.slopes",
       "options": [
        "attribution",
        "bounds",
        "detect_retina",
        "max_native_zoom",
        "max_zoom",
        "min_native_zoom",
        "min_zoom",
        "no_wrap",
        "tile_size",
        "tms",
        "zoom_offset"
       ],
       "url": "https://tile.waymarkedtrails.org/slopes/{z}/{x}/{y}.png"
      }
     },
     "328f59fcff4a4e779978b047278a7f25": {
      "model_module": "@jupyter-widgets/controls",
      "model_module_version": "1.5.0",
      "model_name": "DatePickerModel",
      "state": {
       "description": "Start Date",
       "disabled": false,
       "layout": "IPY_MODEL_80156c80e2b647f7bf48281b5aa05f2f",
       "style": "IPY_MODEL_96ee56e470834fb2bc3df69f9cb63dfb",
       "value": {
        "date": 1,
        "month": 0,
        "year": 2010
       }
      }
     },
     "33f5cf3bc62b473792507ff73a826633": {
      "model_module": "jupyter-leaflet",
      "model_module_version": "^0.17",
      "model_name": "LeafletTileLayerModel",
      "state": {
       "_model_module_version": "^0.17",
       "_view_module_version": "^0.17",
       "attribution": "Map tiles by Stamen Design, CC BY 3.0 -- Map data (C) OpenStreetMap contributors",
       "max_zoom": 16,
       "name": "Stamen.Watercolor",
       "options": [
        "attribution",
        "bounds",
        "detect_retina",
        "max_native_zoom",
        "max_zoom",
        "min_native_zoom",
        "min_zoom",
        "no_wrap",
        "tile_size",
        "tms",
        "zoom_offset"
       ],
       "url": "https://stamen-tiles-a.a.ssl.fastly.net/watercolor/{z}/{x}/{y}.jpg"
      }
     },
     "349d4c5b1f724029b02185d7438dd28a": {
      "model_module": "jupyter-leaflet",
      "model_module_version": "^0.17",
      "model_name": "LeafletTileLayerModel",
      "state": {
       "_model_module_version": "^0.17",
       "_view_module_version": "^0.17",
       "attribution": "Imagery provided by NOAA National Centers for Environmental Information (NCEI); International Bathymetric Chart of the Southern Ocean (IBCSO); General Bathymetric Chart of the Oceans (GEBCO).",
       "max_zoom": 9,
       "name": "Esri.AntarcticBasemap",
       "options": [
        "attribution",
        "bounds",
        "detect_retina",
        "max_native_zoom",
        "max_zoom",
        "min_native_zoom",
        "min_zoom",
        "no_wrap",
        "tile_size",
        "tms",
        "zoom_offset"
       ],
       "url": "https://tiles.arcgis.com/tiles/C8EMgrsFcRFL6LrL/arcgis/rest/services/Antarctic_Basemap/MapServer/tile/{z}/{y}/{x}"
      }
     },
     "3583352e86f4443bbb89bd98f9cc6b39": {
      "model_module": "jupyter-leaflet",
      "model_module_version": "^0.17",
      "model_name": "LeafletTileLayerModel",
      "state": {
       "_model_module_version": "^0.17",
       "_view_module_version": "^0.17",
       "attribution": "Geoportail France",
       "name": "GeoportailFrance.Orthoimagery_Orthophotos2005",
       "options": [
        "attribution",
        "bounds",
        "detect_retina",
        "max_native_zoom",
        "max_zoom",
        "min_native_zoom",
        "min_zoom",
        "no_wrap",
        "tile_size",
        "tms",
        "zoom_offset"
       ],
       "url": "https://wxs.ign.fr/orthohisto/geoportail/wmts?REQUEST=GetTile&SERVICE=WMTS&VERSION=1.0.0&STYLE=normal&TILEMATRIXSET=PM&FORMAT=image/jpeg&LAYER=ORTHOIMAGERY.ORTHOPHOTOS2005&TILEMATRIX={z}&TILEROW={y}&TILECOL={x}"
      }
     },
     "358c2e00cfd34e92a9cd02accb7be11d": {
      "model_module": "jupyter-leaflet",
      "model_module_version": "^0.17",
      "model_name": "LeafletGeoJSONModel",
      "state": {
       "_model_module_version": "^0.17",
       "_view_module_version": "^0.17",
       "data": {
        "features": [],
        "type": "FeatureCollection"
       },
       "hover_style": {
        "color": "aqua",
        "fillColor": "blue",
        "fillOpacity": 0.1
       },
       "name": "selected ROIs"
      }
     },
     "36763102323b494f8fc9d5c2c7d4ac51": {
      "model_module": "jupyter-leaflet",
      "model_module_version": "^0.17",
      "model_name": "LeafletWMSLayerModel",
      "state": {
       "_model_module_version": "^0.17",
       "_view_module_version": "^0.17",
       "attribution": "MRLC",
       "crs": {
        "custom": false,
        "name": "EPSG3857"
       },
       "format": "image/png",
       "layers": "NLCD_2006_Land_Cover_L48",
       "name": "NLCD 2006 CONUS Land Cover",
       "options": [
        "attribution",
        "bounds",
        "detect_retina",
        "format",
        "layers",
        "max_native_zoom",
        "max_zoom",
        "min_native_zoom",
        "min_zoom",
        "no_wrap",
        "styles",
        "tile_size",
        "tms",
        "transparent",
        "uppercase",
        "zoom_offset"
       ],
       "transparent": true,
       "url": "https://www.mrlc.gov/geoserver/mrlc_display/NLCD_2006_Land_Cover_L48/wms?"
      }
     },
     "373ee80ecbd24cc29eb2429fc8af7b46": {
      "model_module": "jupyter-leaflet",
      "model_module_version": "^0.17",
      "model_name": "LeafletTileLayerModel",
      "state": {
       "_model_module_version": "^0.17",
       "_view_module_version": "^0.17",
       "attribution": "Geoportail France",
       "max_zoom": 17,
       "name": "GeoportailFrance.Orthoimagery_Ortho_sat_Spot_2016",
       "options": [
        "attribution",
        "bounds",
        "detect_retina",
        "max_native_zoom",
        "max_zoom",
        "min_native_zoom",
        "min_zoom",
        "no_wrap",
        "tile_size",
        "tms",
        "zoom_offset"
       ],
       "url": "https://wxs.ign.fr/satellite/geoportail/wmts?REQUEST=GetTile&SERVICE=WMTS&VERSION=1.0.0&STYLE=normal&TILEMATRIXSET=PM&FORMAT=image/jpeg&LAYER=ORTHOIMAGERY.ORTHO-SAT.SPOT.2016&TILEMATRIX={z}&TILEROW={y}&TILECOL={x}"
      }
     },
     "387b5d05ec594c3d85d93a9d123d6e12": {
      "model_module": "jupyter-leaflet",
      "model_module_version": "^0.17",
      "model_name": "LeafletTileLayerModel",
      "state": {
       "_model_module_version": "^0.17",
       "_view_module_version": "^0.17",
       "attribution": "Justice Map",
       "max_zoom": 22,
       "name": "JusticeMap.white",
       "options": [
        "attribution",
        "bounds",
        "detect_retina",
        "max_native_zoom",
        "max_zoom",
        "min_native_zoom",
        "min_zoom",
        "no_wrap",
        "tile_size",
        "tms",
        "zoom_offset"
       ],
       "url": "https://www.justicemap.org/tile/county/white/{z}/{x}/{y}.png"
      }
     },
     "388a0cf252da4c6e9e90e2e0610c5de4": {
      "model_module": "jupyter-leaflet",
      "model_module_version": "^0.17",
      "model_name": "LeafletTileLayerModel",
      "state": {
       "_model_module_version": "^0.17",
       "_view_module_version": "^0.17",
       "attribution": "Tiles courtesy of the U.S. Geological Survey",
       "max_zoom": 20,
       "name": "USGS.USImagery",
       "options": [
        "attribution",
        "bounds",
        "detect_retina",
        "max_native_zoom",
        "max_zoom",
        "min_native_zoom",
        "min_zoom",
        "no_wrap",
        "tile_size",
        "tms",
        "zoom_offset"
       ],
       "url": "https://basemap.nationalmap.gov/arcgis/rest/services/USGSImageryOnly/MapServer/tile/{z}/{y}/{x}"
      }
     },
     "39644469dfdd4d52989de9c2c6266184": {
      "model_module": "jupyter-leaflet",
      "model_module_version": "^0.17",
      "model_name": "LeafletTileLayerModel",
      "state": {
       "_model_module_version": "^0.17",
       "_view_module_version": "^0.17",
       "attribution": "Map tiles by Stamen Design, CC BY 3.0 -- Map data (C) OpenStreetMap contributors",
       "max_zoom": 20,
       "name": "Stamen.TonerBackground",
       "options": [
        "attribution",
        "bounds",
        "detect_retina",
        "max_native_zoom",
        "max_zoom",
        "min_native_zoom",
        "min_zoom",
        "no_wrap",
        "tile_size",
        "tms",
        "zoom_offset"
       ],
       "url": "https://stamen-tiles-a.a.ssl.fastly.net/toner-background/{z}/{x}/{y}.png"
      }
     },
     "39bac7e7cf8b40cd86456ced4cf7fc36": {
      "model_module": "@jupyter-widgets/base",
      "model_module_version": "1.2.0",
      "model_name": "LayoutModel",
      "state": {}
     },
     "39f687d22ee144f0a6c3110b2d0a611a": {
      "model_module": "jupyter-leaflet",
      "model_module_version": "^0.17",
      "model_name": "LeafletTileLayerModel",
      "state": {
       "_model_module_version": "^0.17",
       "_view_module_version": "^0.17",
       "attribution": "Geoportail France",
       "max_zoom": 15,
       "name": "GeoportailFrance.Geographicalgridsystems_Slopes_Pac",
       "options": [
        "attribution",
        "bounds",
        "detect_retina",
        "max_native_zoom",
        "max_zoom",
        "min_native_zoom",
        "min_zoom",
        "no_wrap",
        "tile_size",
        "tms",
        "zoom_offset"
       ],
       "url": "https://wxs.ign.fr/agriculture/geoportail/wmts?REQUEST=GetTile&SERVICE=WMTS&VERSION=1.0.0&STYLE=normal&TILEMATRIXSET=PM&FORMAT=image/png&LAYER=GEOGRAPHICALGRIDSYSTEMS.SLOPES.PAC&TILEMATRIX={z}&TILEROW={y}&TILECOL={x}"
      }
     },
     "3b36f4fefcad41928cfbdf07b51ab948": {
      "model_module": "jupyter-leaflet",
      "model_module_version": "^0.17",
      "model_name": "LeafletTileLayerModel",
      "state": {
       "_model_module_version": "^0.17",
       "_view_module_version": "^0.17",
       "attribution": "Geoportail France",
       "max_zoom": 16,
       "name": "GeoportailFrance.Landuse_Agriculture2014",
       "options": [
        "attribution",
        "bounds",
        "detect_retina",
        "max_native_zoom",
        "max_zoom",
        "min_native_zoom",
        "min_zoom",
        "no_wrap",
        "tile_size",
        "tms",
        "zoom_offset"
       ],
       "url": "https://wxs.ign.fr/agriculture/geoportail/wmts?REQUEST=GetTile&SERVICE=WMTS&VERSION=1.0.0&STYLE=normal&TILEMATRIXSET=PM&FORMAT=image/png&LAYER=LANDUSE.AGRICULTURE2014&TILEMATRIX={z}&TILEROW={y}&TILECOL={x}"
      }
     },
     "3bae014e134841009e42a4a42a296b65": {
      "model_module": "@jupyter-widgets/controls",
      "model_module_version": "1.5.0",
      "model_name": "ToggleButtonModel",
      "state": {
       "button_style": "primary",
       "icon": "map",
       "layout": "IPY_MODEL_9e42d7e744e8417da096083044ec879a",
       "style": "IPY_MODEL_b683b4074b744629801f5372bfc457f6",
       "tooltip": "Change basemap"
      }
     },
     "3c42127384884427844cb4e2de8b5d2c": {
      "model_module": "@jupyter-widgets/base",
      "model_module_version": "1.2.0",
      "model_name": "LayoutModel",
      "state": {}
     },
     "3c4d1d2bece34ddab1e97830370f012c": {
      "model_module": "jupyter-leaflet",
      "model_module_version": "^0.17",
      "model_name": "LeafletTileLayerModel",
      "state": {
       "_model_module_version": "^0.17",
       "_view_module_version": "^0.17",
       "attribution": "Geoportail France",
       "max_zoom": 16,
       "name": "GeoportailFrance.Areamanagement_Zfu",
       "options": [
        "attribution",
        "bounds",
        "detect_retina",
        "max_native_zoom",
        "max_zoom",
        "min_native_zoom",
        "min_zoom",
        "no_wrap",
        "tile_size",
        "tms",
        "zoom_offset"
       ],
       "url": "https://wxs.ign.fr/economie/geoportail/wmts?REQUEST=GetTile&SERVICE=WMTS&VERSION=1.0.0&STYLE=normal&TILEMATRIXSET=PM&FORMAT=image/png&LAYER=AREAMANAGEMENT.ZFU&TILEMATRIX={z}&TILEROW={y}&TILECOL={x}"
      }
     },
     "3d2d40621bdd49288435f9ec651dbe63": {
      "model_module": "jupyter-leaflet",
      "model_module_version": "^0.17",
      "model_name": "LeafletTileLayerModel",
      "state": {
       "_model_module_version": "^0.17",
       "_view_module_version": "^0.17",
       "attribution": "Geoportail France",
       "name": "GeoportailFrance.Orthoimagery_Orthophotos2011",
       "options": [
        "attribution",
        "bounds",
        "detect_retina",
        "max_native_zoom",
        "max_zoom",
        "min_native_zoom",
        "min_zoom",
        "no_wrap",
        "tile_size",
        "tms",
        "zoom_offset"
       ],
       "url": "https://wxs.ign.fr/orthohisto/geoportail/wmts?REQUEST=GetTile&SERVICE=WMTS&VERSION=1.0.0&STYLE=normal&TILEMATRIXSET=PM&FORMAT=image/jpeg&LAYER=ORTHOIMAGERY.ORTHOPHOTOS2011&TILEMATRIX={z}&TILEROW={y}&TILECOL={x}"
      }
     },
     "3d3128d6b2d84a8d8ed2bc4de3d43a9b": {
      "model_module": "jupyter-leaflet",
      "model_module_version": "^0.17",
      "model_name": "LeafletTileLayerModel",
      "state": {
       "_model_module_version": "^0.17",
       "_view_module_version": "^0.17",
       "attribution": "Geoportail France",
       "max_zoom": 16,
       "name": "GeoportailFrance.Landuse_Agriculture2018",
       "options": [
        "attribution",
        "bounds",
        "detect_retina",
        "max_native_zoom",
        "max_zoom",
        "min_native_zoom",
        "min_zoom",
        "no_wrap",
        "tile_size",
        "tms",
        "zoom_offset"
       ],
       "url": "https://wxs.ign.fr/agriculture/geoportail/wmts?REQUEST=GetTile&SERVICE=WMTS&VERSION=1.0.0&STYLE=normal&TILEMATRIXSET=PM&FORMAT=image/png&LAYER=LANDUSE.AGRICULTURE2018&TILEMATRIX={z}&TILEROW={y}&TILECOL={x}"
      }
     },
     "3e8e7cd33b484314a9e1ae37b7327114": {
      "model_module": "jupyter-leaflet",
      "model_module_version": "^0.17",
      "model_name": "LeafletWMSLayerModel",
      "state": {
       "_model_module_version": "^0.17",
       "_view_module_version": "^0.17",
       "attribution": "MRLC",
       "crs": {
        "custom": false,
        "name": "EPSG3857"
       },
       "format": "image/png",
       "layers": "NLCD_2004_Land_Cover_L48",
       "name": "NLCD 2004 CONUS Land Cover",
       "options": [
        "attribution",
        "bounds",
        "detect_retina",
        "format",
        "layers",
        "max_native_zoom",
        "max_zoom",
        "min_native_zoom",
        "min_zoom",
        "no_wrap",
        "styles",
        "tile_size",
        "tms",
        "transparent",
        "uppercase",
        "zoom_offset"
       ],
       "transparent": true,
       "url": "https://www.mrlc.gov/geoserver/mrlc_display/NLCD_2004_Land_Cover_L48/wms?"
      }
     },
     "40f651e491674095babae473087bdc24": {
      "model_module": "jupyter-leaflet",
      "model_module_version": "^0.17",
      "model_name": "LeafletTileLayerModel",
      "state": {
       "_model_module_version": "^0.17",
       "_view_module_version": "^0.17",
       "attribution": "Imagery provided by services from the Global Imagery Browse Services (GIBS), operated by the NASA/GSFC/Earth Science Data and Information System (ESDIS) with funding provided by NASA/HQ.",
       "max_zoom": 8,
       "name": "NASAGIBS.ViirsEarthAtNight2012",
       "options": [
        "attribution",
        "bounds",
        "detect_retina",
        "max_native_zoom",
        "max_zoom",
        "min_native_zoom",
        "min_zoom",
        "no_wrap",
        "tile_size",
        "tms",
        "zoom_offset"
       ],
       "url": "https://map1.vis.earthdata.nasa.gov/wmts-webmerc/VIIRS_CityLights_2012/default//GoogleMapsCompatible_Level8/{z}/{y}/{x}.jpg"
      }
     },
     "4171606aac8a4657b601e4b98809efa2": {
      "model_module": "@jupyter-widgets/controls",
      "model_module_version": "1.5.0",
      "model_name": "DescriptionStyleModel",
      "state": {
       "description_width": ""
      }
     },
     "420203e0be1543aeb740c297c00dac5e": {
      "model_module": "jupyter-leaflet",
      "model_module_version": "^0.17",
      "model_name": "LeafletTileLayerModel",
      "state": {
       "_model_module_version": "^0.17",
       "_view_module_version": "^0.17",
       "attribution": "Geoportail France",
       "name": "GeoportailFrance.Transportnetwork_Commontransportelements_Markerpost",
       "options": [
        "attribution",
        "bounds",
        "detect_retina",
        "max_native_zoom",
        "max_zoom",
        "min_native_zoom",
        "min_zoom",
        "no_wrap",
        "tile_size",
        "tms",
        "zoom_offset"
       ],
       "url": "https://wxs.ign.fr/topographie/geoportail/wmts?REQUEST=GetTile&SERVICE=WMTS&VERSION=1.0.0&STYLE=normal&TILEMATRIXSET=PM&FORMAT=image/png&LAYER=TRANSPORTNETWORK.COMMONTRANSPORTELEMENTS.MARKERPOST&TILEMATRIX={z}&TILEROW={y}&TILECOL={x}"
      }
     },
     "422b4763cf314379a932f286273d0dc2": {
      "model_module": "jupyter-leaflet",
      "model_module_version": "^0.17",
      "model_name": "LeafletTileLayerModel",
      "state": {
       "_model_module_version": "^0.17",
       "_view_module_version": "^0.17",
       "attribution": "Map memomaps.de CC-BY-SA, map data (C) OpenStreetMap contributors",
       "name": "OPNVKarte",
       "options": [
        "attribution",
        "bounds",
        "detect_retina",
        "max_native_zoom",
        "max_zoom",
        "min_native_zoom",
        "min_zoom",
        "no_wrap",
        "tile_size",
        "tms",
        "zoom_offset"
       ],
       "url": "https://tileserver.memomaps.de/tilegen/{z}/{x}/{y}.png"
      }
     },
     "42411f4a46aa42ca807c4c0b6de99493": {
      "model_module": "jupyter-leaflet",
      "model_module_version": "^0.17",
      "model_name": "LeafletTileLayerModel",
      "state": {
       "_model_module_version": "^0.17",
       "_view_module_version": "^0.17",
       "attribution": "Geoportail France",
       "max_zoom": 16,
       "name": "GeoportailFrance.Insee_Filosofi_Part_Logements_Sociaux_Secret",
       "options": [
        "attribution",
        "bounds",
        "detect_retina",
        "max_native_zoom",
        "max_zoom",
        "min_native_zoom",
        "min_zoom",
        "no_wrap",
        "tile_size",
        "tms",
        "zoom_offset"
       ],
       "url": "https://wxs.ign.fr/economie/geoportail/wmts?REQUEST=GetTile&SERVICE=WMTS&VERSION=1.0.0&STYLE=INSEE&TILEMATRIXSET=PM&FORMAT=image/png&LAYER=INSEE.FILOSOFI.PART.LOGEMENTS.SOCIAUX.SECRET&TILEMATRIX={z}&TILEROW={y}&TILECOL={x}"
      }
     },
     "428f9ba280034375b2a6bb7546376ef3": {
      "model_module": "jupyter-leaflet",
      "model_module_version": "^0.17",
      "model_name": "LeafletTileLayerModel",
      "state": {
       "_model_module_version": "^0.17",
       "_view_module_version": "^0.17",
       "attribution": "Map tiles by Stamen Design, CC BY 3.0 -- Map data (C) OpenStreetMap contributors",
       "max_zoom": 20,
       "name": "Stamen.TopOSMFeatures",
       "options": [
        "attribution",
        "bounds",
        "detect_retina",
        "max_native_zoom",
        "max_zoom",
        "min_native_zoom",
        "min_zoom",
        "no_wrap",
        "tile_size",
        "tms",
        "zoom_offset"
       ],
       "url": "https://stamen-tiles-a.a.ssl.fastly.net/toposm-features/{z}/{x}/{y}.png"
      }
     },
     "42a72c746ab24d6c8d71c9d133dbb2ad": {
      "model_module": "jupyter-leaflet",
      "model_module_version": "^0.17",
      "model_name": "LeafletTileLayerModel",
      "state": {
       "_model_module_version": "^0.17",
       "_view_module_version": "^0.17",
       "attribution": "Geoportail France",
       "max_zoom": 10,
       "name": "GeoportailFrance.Geographicalgridsystems_Bonne",
       "options": [
        "attribution",
        "bounds",
        "detect_retina",
        "max_native_zoom",
        "max_zoom",
        "min_native_zoom",
        "min_zoom",
        "no_wrap",
        "tile_size",
        "tms",
        "zoom_offset"
       ],
       "url": "https://wxs.ign.fr/cartes/geoportail/wmts?REQUEST=GetTile&SERVICE=WMTS&VERSION=1.0.0&STYLE=normal&TILEMATRIXSET=PM&FORMAT=image/jpeg&LAYER=GEOGRAPHICALGRIDSYSTEMS.BONNE&TILEMATRIX={z}&TILEROW={y}&TILECOL={x}"
      }
     },
     "43bfc1448400443eacd7f429a4b24dba": {
      "model_module": "@jupyter-widgets/controls",
      "model_module_version": "1.5.0",
      "model_name": "DescriptionStyleModel",
      "state": {
       "description_width": ""
      }
     },
     "43de32eb42a84dd89679107e9befb880": {
      "model_module": "@jupyter-widgets/base",
      "model_module_version": "1.2.0",
      "model_name": "LayoutModel",
      "state": {
       "height": "auto",
       "padding": "0px 0px 0px 4px",
       "width": "auto"
      }
     },
     "44bc020227894ce2b35a4f4e71d6e58a": {
      "model_module": "jupyter-leaflet",
      "model_module_version": "^0.17",
      "model_name": "LeafletTileLayerModel",
      "state": {
       "_model_module_version": "^0.17",
       "_view_module_version": "^0.17",
       "attribution": "Geoportail France",
       "max_zoom": 19,
       "name": "GeoportailFrance.Orthoimagery_Orthophotos_Ortho_express_2017",
       "options": [
        "attribution",
        "bounds",
        "detect_retina",
        "max_native_zoom",
        "max_zoom",
        "min_native_zoom",
        "min_zoom",
        "no_wrap",
        "tile_size",
        "tms",
        "zoom_offset"
       ],
       "url": "https://wxs.ign.fr/orthohisto/geoportail/wmts?REQUEST=GetTile&SERVICE=WMTS&VERSION=1.0.0&STYLE=normal&TILEMATRIXSET=PM&FORMAT=image/jpeg&LAYER=ORTHOIMAGERY.ORTHOPHOTOS.ORTHO-EXPRESS.2017&TILEMATRIX={z}&TILEROW={y}&TILECOL={x}"
      }
     },
     "45107662fc1a4428bd9aa14bbcb5f885": {
      "model_module": "jupyter-leaflet",
      "model_module_version": "^0.17",
      "model_name": "LeafletTileLayerModel",
      "state": {
       "_model_module_version": "^0.17",
       "_view_module_version": "^0.17",
       "attribution": "Imagery provided by services from the Global Imagery Browse Services (GIBS), operated by the NASA/GSFC/Earth Science Data and Information System (ESDIS) with funding provided by NASA/HQ.",
       "max_zoom": 9,
       "name": "NASAGIBS.ModisTerraBands721CR",
       "options": [
        "attribution",
        "bounds",
        "detect_retina",
        "max_native_zoom",
        "max_zoom",
        "min_native_zoom",
        "min_zoom",
        "no_wrap",
        "tile_size",
        "tms",
        "zoom_offset"
       ],
       "url": "https://gibs.earthdata.nasa.gov/wmts/epsg3857/best/MODIS_Terra_CorrectedReflectance_Bands721/default//GoogleMapsCompatible_Level9/{z}/{y}/{x}.jpg"
      }
     },
     "453b9068312145008394aac58a076493": {
      "model_module": "jupyter-leaflet",
      "model_module_version": "^0.17",
      "model_name": "LeafletTileLayerModel",
      "state": {
       "_model_module_version": "^0.17",
       "_view_module_version": "^0.17",
       "attribution": "Geoportail France",
       "max_zoom": 16,
       "name": "GeoportailFrance.Landuse_Agriculture2013",
       "options": [
        "attribution",
        "bounds",
        "detect_retina",
        "max_native_zoom",
        "max_zoom",
        "min_native_zoom",
        "min_zoom",
        "no_wrap",
        "tile_size",
        "tms",
        "zoom_offset"
       ],
       "url": "https://wxs.ign.fr/agriculture/geoportail/wmts?REQUEST=GetTile&SERVICE=WMTS&VERSION=1.0.0&STYLE=normal&TILEMATRIXSET=PM&FORMAT=image/png&LAYER=LANDUSE.AGRICULTURE2013&TILEMATRIX={z}&TILEROW={y}&TILECOL={x}"
      }
     },
     "455624b6a559473bad714b8f07b40d9a": {
      "model_module": "jupyter-leaflet",
      "model_module_version": "^0.17",
      "model_name": "LeafletTileLayerModel",
      "state": {
       "_model_module_version": "^0.17",
       "_view_module_version": "^0.17",
       "attribution": "Geoportail France",
       "max_zoom": 17,
       "name": "GeoportailFrance.Orthoimagery_Ortho_sat_Spot_2020",
       "options": [
        "attribution",
        "bounds",
        "detect_retina",
        "max_native_zoom",
        "max_zoom",
        "min_native_zoom",
        "min_zoom",
        "no_wrap",
        "tile_size",
        "tms",
        "zoom_offset"
       ],
       "url": "https://wxs.ign.fr/satellite/geoportail/wmts?REQUEST=GetTile&SERVICE=WMTS&VERSION=1.0.0&STYLE=normal&TILEMATRIXSET=PM&FORMAT=image/jpeg&LAYER=ORTHOIMAGERY.ORTHO-SAT.SPOT.2020&TILEMATRIX={z}&TILEROW={y}&TILECOL={x}"
      }
     },
     "45aea0b68cd04867a946632a7c6ef9f9": {
      "model_module": "jupyter-leaflet",
      "model_module_version": "^0.17",
      "model_name": "LeafletTileLayerModel",
      "state": {
       "_model_module_version": "^0.17",
       "_view_module_version": "^0.17",
       "attribution": "Geoportail France",
       "max_zoom": 16,
       "name": "GeoportailFrance.Protectedareas_Apb",
       "options": [
        "attribution",
        "bounds",
        "detect_retina",
        "max_native_zoom",
        "max_zoom",
        "min_native_zoom",
        "min_zoom",
        "no_wrap",
        "tile_size",
        "tms",
        "zoom_offset"
       ],
       "url": "https://wxs.ign.fr/environnement/geoportail/wmts?REQUEST=GetTile&SERVICE=WMTS&VERSION=1.0.0&STYLE=normal&TILEMATRIXSET=PM&FORMAT=image/png&LAYER=PROTECTEDAREAS.APB&TILEMATRIX={z}&TILEROW={y}&TILECOL={x}"
      }
     },
     "45f6e47a511b4b1e95099bbb9a7ca7fc": {
      "model_module": "@jupyter-widgets/controls",
      "model_module_version": "1.5.0",
      "model_name": "VBoxModel",
      "state": {
       "children": [
        "IPY_MODEL_fe6aca37b4e147e1b2bc36462ec3213a",
        "IPY_MODEL_727fb87453824eb4887b04c05f7add6f"
       ],
       "layout": "IPY_MODEL_dd4ea88f79f142a79162579c02b18f94"
      }
     },
     "46206b3883ef45afbb4a7524161e5b4a": {
      "model_module": "jupyter-leaflet",
      "model_module_version": "^0.17",
      "model_name": "LeafletWMSLayerModel",
      "state": {
       "_model_module_version": "^0.17",
       "_view_module_version": "^0.17",
       "attribution": "ESA",
       "crs": {
        "custom": false,
        "name": "EPSG3857"
       },
       "format": "image/png",
       "layers": "WORLDCOVER_2020_S2_TCC",
       "name": "ESA Worldcover 2020 S2 TCC",
       "options": [
        "attribution",
        "bounds",
        "detect_retina",
        "format",
        "layers",
        "max_native_zoom",
        "max_zoom",
        "min_native_zoom",
        "min_zoom",
        "no_wrap",
        "styles",
        "tile_size",
        "tms",
        "transparent",
        "uppercase",
        "zoom_offset"
       ],
       "transparent": true,
       "url": "https://services.terrascope.be/wms/v2"
      }
     },
     "46445c6d5d604b52af3ae2b96c571ac8": {
      "model_module": "jupyter-leaflet",
      "model_module_version": "^0.17",
      "model_name": "LeafletTileLayerModel",
      "state": {
       "_model_module_version": "^0.17",
       "_view_module_version": "^0.17",
       "attribution": "Imagery provided by services from the Global Imagery Browse Services (GIBS), operated by the NASA/GSFC/Earth Science Data and Information System (ESDIS) with funding provided by NASA/HQ.",
       "max_zoom": 7,
       "name": "NASAGIBS.ModisTerraChlorophyll",
       "options": [
        "attribution",
        "bounds",
        "detect_retina",
        "max_native_zoom",
        "max_zoom",
        "min_native_zoom",
        "min_zoom",
        "no_wrap",
        "tile_size",
        "tms",
        "zoom_offset"
       ],
       "url": "https://map1.vis.earthdata.nasa.gov/wmts-webmerc/MODIS_Terra_Chlorophyll_A/default//GoogleMapsCompatible_Level7/{z}/{y}/{x}.png"
      }
     },
     "4699f65860e248ec96fba0601e489fcf": {
      "model_module": "jupyter-leaflet",
      "model_module_version": "^0.17",
      "model_name": "LeafletTileLayerModel",
      "state": {
       "_model_module_version": "^0.17",
       "_view_module_version": "^0.17",
       "attribution": "Geoportail France",
       "name": "GeoportailFrance.Orthoimagery_Orthophotos_1980_1995",
       "options": [
        "attribution",
        "bounds",
        "detect_retina",
        "max_native_zoom",
        "max_zoom",
        "min_native_zoom",
        "min_zoom",
        "no_wrap",
        "tile_size",
        "tms",
        "zoom_offset"
       ],
       "url": "https://wxs.ign.fr/orthohisto/geoportail/wmts?REQUEST=GetTile&SERVICE=WMTS&VERSION=1.0.0&STYLE=normal&TILEMATRIXSET=PM&FORMAT=image/png&LAYER=ORTHOIMAGERY.ORTHOPHOTOS.1980-1995&TILEMATRIX={z}&TILEROW={y}&TILECOL={x}"
      }
     },
     "46b3c956b7c54defbabecb15a3414524": {
      "model_module": "@jupyter-widgets/controls",
      "model_module_version": "1.5.0",
      "model_name": "HBoxModel",
      "state": {
       "layout": "IPY_MODEL_2c1bf0b8336a4becbe5b820f95010d47"
      }
     },
     "46fb6c1708304db1bbda066b6af3810b": {
      "model_module": "jupyter-leaflet",
      "model_module_version": "^0.17",
      "model_name": "LeafletTileLayerModel",
      "state": {
       "_model_module_version": "^0.17",
       "_view_module_version": "^0.17",
       "attribution": "Google",
       "max_zoom": 22,
       "name": "Google Satellite",
       "options": [
        "attribution",
        "bounds",
        "detect_retina",
        "max_native_zoom",
        "max_zoom",
        "min_native_zoom",
        "min_zoom",
        "no_wrap",
        "tile_size",
        "tms",
        "zoom_offset"
       ],
       "url": "https://mt1.google.com/vt/lyrs=s&x={x}&y={y}&z={z}"
      }
     },
     "4741fa5458f84e0abf972608e898926a": {
      "model_module": "jupyter-leaflet",
      "model_module_version": "^0.17",
      "model_name": "LeafletTileLayerModel",
      "state": {
       "_model_module_version": "^0.17",
       "_view_module_version": "^0.17",
       "attribution": "Geoportail France",
       "max_zoom": 19,
       "name": "GeoportailFrance.Orthoimagery_Orthophotos_Irc_2014",
       "options": [
        "attribution",
        "bounds",
        "detect_retina",
        "max_native_zoom",
        "max_zoom",
        "min_native_zoom",
        "min_zoom",
        "no_wrap",
        "tile_size",
        "tms",
        "zoom_offset"
       ],
       "url": "https://wxs.ign.fr/orthohisto/geoportail/wmts?REQUEST=GetTile&SERVICE=WMTS&VERSION=1.0.0&STYLE=normal&TILEMATRIXSET=PM&FORMAT=image/jpeg&LAYER=ORTHOIMAGERY.ORTHOPHOTOS.IRC.2014&TILEMATRIX={z}&TILEROW={y}&TILECOL={x}"
      }
     },
     "474c30bb2b3740fca0e8600d63fd11b7": {
      "model_module": "@jupyter-widgets/controls",
      "model_module_version": "1.5.0",
      "model_name": "DescriptionStyleModel",
      "state": {
       "description_width": ""
      }
     },
     "47f914d64b744c6cb6b86c5c550d81f4": {
      "model_module": "jupyter-leaflet",
      "model_module_version": "^0.17",
      "model_name": "LeafletWMSLayerModel",
      "state": {
       "_model_module_version": "^0.17",
       "_view_module_version": "^0.17",
       "attribution": "FWS",
       "crs": {
        "custom": false,
        "name": "EPSG3857"
       },
       "format": "image/png",
       "layers": "0",
       "name": "FWS NWI Wetlands Raster",
       "options": [
        "attribution",
        "bounds",
        "detect_retina",
        "format",
        "layers",
        "max_native_zoom",
        "max_zoom",
        "min_native_zoom",
        "min_zoom",
        "no_wrap",
        "styles",
        "tile_size",
        "tms",
        "transparent",
        "uppercase",
        "zoom_offset"
       ],
       "transparent": true,
       "url": "https://www.fws.gov/wetlands/arcgis/services/Wetlands_Raster/ImageServer/WMSServer?"
      }
     },
     "4892d0c52e70419ab99b30a7a76700fe": {
      "model_module": "jupyter-leaflet",
      "model_module_version": "^0.17",
      "model_name": "LeafletTileLayerModel",
      "state": {
       "_model_module_version": "^0.17",
       "_view_module_version": "^0.17",
       "attribution": "Geoportail France",
       "max_zoom": 16,
       "name": "GeoportailFrance.Landcover_Cha06_fr",
       "options": [
        "attribution",
        "bounds",
        "detect_retina",
        "max_native_zoom",
        "max_zoom",
        "min_native_zoom",
        "min_zoom",
        "no_wrap",
        "tile_size",
        "tms",
        "zoom_offset"
       ],
       "url": "https://wxs.ign.fr/clc/geoportail/wmts?REQUEST=GetTile&SERVICE=WMTS&VERSION=1.0.0&STYLE=CORINE Land Cover - France métropolitaine&TILEMATRIXSET=PM&FORMAT=image/png&LAYER=LANDCOVER.CHA06_FR&TILEMATRIX={z}&TILEROW={y}&TILECOL={x}"
      }
     },
     "4899c5ce5e74494bbf6d64b557b7b6f5": {
      "model_module": "jupyter-leaflet",
      "model_module_version": "^0.17",
      "model_name": "LeafletTileLayerModel",
      "state": {
       "_model_module_version": "^0.17",
       "_view_module_version": "^0.17",
       "attribution": "Geoportail France",
       "max_zoom": 16,
       "name": "GeoportailFrance.Protectedareas_Mnhn_Conservatoires",
       "options": [
        "attribution",
        "bounds",
        "detect_retina",
        "max_native_zoom",
        "max_zoom",
        "min_native_zoom",
        "min_zoom",
        "no_wrap",
        "tile_size",
        "tms",
        "zoom_offset"
       ],
       "url": "https://wxs.ign.fr/environnement/geoportail/wmts?REQUEST=GetTile&SERVICE=WMTS&VERSION=1.0.0&STYLE=normal&TILEMATRIXSET=PM&FORMAT=image/png&LAYER=PROTECTEDAREAS.MNHN.CONSERVATOIRES&TILEMATRIX={z}&TILEROW={y}&TILECOL={x}"
      }
     },
     "494c899fe8ca4cd3ade03f33a4307a79": {
      "model_module": "jupyter-leaflet",
      "model_module_version": "^0.17",
      "model_name": "LeafletTileLayerModel",
      "state": {
       "_model_module_version": "^0.17",
       "_view_module_version": "^0.17",
       "attribution": "Geoportail France",
       "name": "GeoportailFrance.Utilityandgovernmentalservices_All",
       "options": [
        "attribution",
        "bounds",
        "detect_retina",
        "max_native_zoom",
        "max_zoom",
        "min_native_zoom",
        "min_zoom",
        "no_wrap",
        "tile_size",
        "tms",
        "zoom_offset"
       ],
       "url": "https://wxs.ign.fr/topographie/geoportail/wmts?REQUEST=GetTile&SERVICE=WMTS&VERSION=1.0.0&STYLE=normal&TILEMATRIXSET=PM&FORMAT=image/png&LAYER=UTILITYANDGOVERNMENTALSERVICES.ALL&TILEMATRIX={z}&TILEROW={y}&TILECOL={x}"
      }
     },
     "4a871178148241358f13d51792c594ab": {
      "model_module": "jupyter-leaflet",
      "model_module_version": "^0.17",
      "model_name": "LeafletTileLayerModel",
      "state": {
       "_model_module_version": "^0.17",
       "_view_module_version": "^0.17",
       "attribution": "National Library of Scotland Historic Maps",
       "name": "NLS",
       "options": [
        "attribution",
        "bounds",
        "detect_retina",
        "max_native_zoom",
        "max_zoom",
        "min_native_zoom",
        "min_zoom",
        "no_wrap",
        "tile_size",
        "tms",
        "zoom_offset"
       ],
       "url": "https://nls-0.tileserver.com/nls/{z}/{x}/{y}.jpg"
      }
     },
     "4ae041f08aa449c4a9623fa97abff8cf": {
      "model_module": "jupyter-leaflet",
      "model_module_version": "^0.17",
      "model_name": "LeafletTileLayerModel",
      "state": {
       "_model_module_version": "^0.17",
       "_view_module_version": "^0.17",
       "attribution": "Imagery provided by services from the Global Imagery Browse Services (GIBS), operated by the NASA/GSFC/Earth Science Data and Information System (ESDIS) with funding provided by NASA/HQ.",
       "max_zoom": 9,
       "name": "NASAGIBS.ModisAquaTrueColorCR",
       "options": [
        "attribution",
        "bounds",
        "detect_retina",
        "max_native_zoom",
        "max_zoom",
        "min_native_zoom",
        "min_zoom",
        "no_wrap",
        "tile_size",
        "tms",
        "zoom_offset"
       ],
       "url": "https://gibs.earthdata.nasa.gov/wmts/epsg3857/best/MODIS_Aqua_CorrectedReflectance_TrueColor/default//GoogleMapsCompatible_Level9/{z}/{y}/{x}.jpg"
      }
     },
     "4b66d391abab44029bc7fb55ac54617b": {
      "model_module": "jupyter-leaflet",
      "model_module_version": "^0.17",
      "model_name": "LeafletTileLayerModel",
      "state": {
       "_model_module_version": "^0.17",
       "_view_module_version": "^0.17",
       "attribution": "Geoportail France",
       "max_zoom": 13,
       "name": "GeoportailFrance.Landcover_Hr_Gra_Clc15",
       "options": [
        "attribution",
        "bounds",
        "detect_retina",
        "max_native_zoom",
        "max_zoom",
        "min_native_zoom",
        "min_zoom",
        "no_wrap",
        "tile_size",
        "tms",
        "zoom_offset"
       ],
       "url": "https://wxs.ign.fr/clc/geoportail/wmts?REQUEST=GetTile&SERVICE=WMTS&VERSION=1.0.0&STYLE=CORINE Land Cover - HR - prairies&TILEMATRIXSET=PM&FORMAT=image/png&LAYER=LANDCOVER.HR.GRA.CLC15&TILEMATRIX={z}&TILEROW={y}&TILECOL={x}"
      }
     },
     "4bdf725ee5e0483f90e6f23c099285aa": {
      "model_module": "jupyter-leaflet",
      "model_module_version": "^0.17",
      "model_name": "LeafletTileLayerModel",
      "state": {
       "_model_module_version": "^0.17",
       "_view_module_version": "^0.17",
       "attribution": "![](https://docs.onemap.sg/maps/images/oneMap64-01.png) New OneMap | Map data (C) contributors, Singapore Land Authority",
       "name": "OneMapSG.Grey",
       "options": [
        "attribution",
        "bounds",
        "detect_retina",
        "max_native_zoom",
        "max_zoom",
        "min_native_zoom",
        "min_zoom",
        "no_wrap",
        "tile_size",
        "tms",
        "zoom_offset"
       ],
       "url": "https://maps-a.onemap.sg/v3/Grey/{z}/{x}/{y}.png"
      }
     },
     "4c1d614bbd794ae487a4e03f60253d13": {
      "model_module": "jupyter-leaflet",
      "model_module_version": "^0.17",
      "model_name": "LeafletTileLayerModel",
      "state": {
       "_model_module_version": "^0.17",
       "_view_module_version": "^0.17",
       "attribution": "Geoportail France",
       "max_zoom": 16,
       "name": "GeoportailFrance.Insee_Filosofi_Part_Logements_Collectifs_Secret",
       "options": [
        "attribution",
        "bounds",
        "detect_retina",
        "max_native_zoom",
        "max_zoom",
        "min_native_zoom",
        "min_zoom",
        "no_wrap",
        "tile_size",
        "tms",
        "zoom_offset"
       ],
       "url": "https://wxs.ign.fr/economie/geoportail/wmts?REQUEST=GetTile&SERVICE=WMTS&VERSION=1.0.0&STYLE=INSEE&TILEMATRIXSET=PM&FORMAT=image/png&LAYER=INSEE.FILOSOFI.PART.LOGEMENTS.COLLECTIFS.SECRET&TILEMATRIX={z}&TILEROW={y}&TILECOL={x}"
      }
     },
     "4ccc4c0cdbc249cda8202862cda10683": {
      "model_module": "@jupyter-widgets/controls",
      "model_module_version": "1.5.0",
      "model_name": "ToggleButtonModel",
      "state": {
       "button_style": "primary",
       "icon": "search-plus",
       "layout": "IPY_MODEL_bbbd990b1b7b4d608cb93834455c67ee",
       "style": "IPY_MODEL_e7759447f3f042df8f94f6e136ba95a2",
       "tooltip": "Search features in GeoJSON layer"
      }
     },
     "4d0ecf4d2cb148639696b20d07a67446": {
      "model_module": "jupyter-leaflet",
      "model_module_version": "^0.17",
      "model_name": "LeafletTileLayerModel",
      "state": {
       "_model_module_version": "^0.17",
       "_view_module_version": "^0.17",
       "attribution": "Geoportail France",
       "max_zoom": 16,
       "name": "GeoportailFrance.Ocsge_Couverture_2002",
       "options": [
        "attribution",
        "bounds",
        "detect_retina",
        "max_native_zoom",
        "max_zoom",
        "min_native_zoom",
        "min_zoom",
        "no_wrap",
        "tile_size",
        "tms",
        "zoom_offset"
       ],
       "url": "https://wxs.ign.fr/ocsge/geoportail/wmts?REQUEST=GetTile&SERVICE=WMTS&VERSION=1.0.0&STYLE=normal&TILEMATRIXSET=PM&FORMAT=image/png&LAYER=OCSGE.COUVERTURE.2002&TILEMATRIX={z}&TILEROW={y}&TILECOL={x}"
      }
     },
     "4d7c44c06bd74e88a34cc8bed0e2d2a9": {
      "model_module": "@jupyter-widgets/controls",
      "model_module_version": "1.5.0",
      "model_name": "ToggleButtonModel",
      "state": {
       "button_style": "primary",
       "icon": "search",
       "layout": "IPY_MODEL_43de32eb42a84dd89679107e9befb880",
       "style": "IPY_MODEL_2e14b2231e3d4c13bbd6db8180780f91",
       "tooltip": "Search XYZ tile services"
      }
     },
     "4da4d88f19e943269f235ac772b9c1aa": {
      "model_module": "jupyter-leaflet",
      "model_module_version": "^0.17",
      "model_name": "LeafletTileLayerModel",
      "state": {
       "_model_module_version": "^0.17",
       "_view_module_version": "^0.17",
       "attribution": "Datenquelle: basemap.at",
       "max_zoom": 19,
       "name": "BasemapAT.terrain",
       "options": [
        "attribution",
        "bounds",
        "detect_retina",
        "max_native_zoom",
        "max_zoom",
        "min_native_zoom",
        "min_zoom",
        "no_wrap",
        "tile_size",
        "tms",
        "zoom_offset"
       ],
       "url": "https://maps.wien.gv.at/basemap/bmapgelaende/grau/google3857/{z}/{y}/{x}.jpeg"
      }
     },
     "4db892af7959452180e51f7f84a21171": {
      "model_module": "jupyter-leaflet",
      "model_module_version": "^0.17",
      "model_name": "LeafletWMSLayerModel",
      "state": {
       "_model_module_version": "^0.17",
       "_view_module_version": "^0.17",
       "attribution": "USGS",
       "crs": {
        "custom": false,
        "name": "EPSG3857"
       },
       "format": "image/png",
       "layers": "0",
       "name": "USGS Hydrography",
       "options": [
        "attribution",
        "bounds",
        "detect_retina",
        "format",
        "layers",
        "max_native_zoom",
        "max_zoom",
        "min_native_zoom",
        "min_zoom",
        "no_wrap",
        "styles",
        "tile_size",
        "tms",
        "transparent",
        "uppercase",
        "zoom_offset"
       ],
       "transparent": true,
       "url": "https://basemap.nationalmap.gov/arcgis/services/USGSHydroCached/MapServer/WMSServer?"
      }
     },
     "4de0997ee8d746b8a742edba50ba8bef": {
      "model_module": "jupyter-leaflet",
      "model_module_version": "^0.17",
      "model_name": "LeafletTileLayerModel",
      "state": {
       "_model_module_version": "^0.17",
       "_view_module_version": "^0.17",
       "attribution": "Geoportail France",
       "max_zoom": 16,
       "name": "GeoportailFrance.Insee_Filosofi_Logements_Surface_Moyenne_Secret",
       "options": [
        "attribution",
        "bounds",
        "detect_retina",
        "max_native_zoom",
        "max_zoom",
        "min_native_zoom",
        "min_zoom",
        "no_wrap",
        "tile_size",
        "tms",
        "zoom_offset"
       ],
       "url": "https://wxs.ign.fr/economie/geoportail/wmts?REQUEST=GetTile&SERVICE=WMTS&VERSION=1.0.0&STYLE=INSEE&TILEMATRIXSET=PM&FORMAT=image/png&LAYER=INSEE.FILOSOFI.LOGEMENTS.SURFACE.MOYENNE.SECRET&TILEMATRIX={z}&TILEROW={y}&TILECOL={x}"
      }
     },
     "4e2de550827342489a76af61b26dccd5": {
      "model_module": "@jupyter-widgets/controls",
      "model_module_version": "1.5.0",
      "model_name": "HBoxModel",
      "state": {
       "children": [
        "IPY_MODEL_5dece2c61e934ae68a375778e5bde4f2"
       ],
       "layout": "IPY_MODEL_eb620602021646509b13c619e685407a"
      }
     },
     "4ed3bc8b506d406bb5da576c84d0e2ae": {
      "model_module": "jupyter-leaflet",
      "model_module_version": "^0.17",
      "model_name": "LeafletTileLayerModel",
      "state": {
       "_model_module_version": "^0.17",
       "_view_module_version": "^0.17",
       "attribution": "Geoportail France",
       "max_zoom": 15,
       "name": "GeoportailFrance.Geographicalgridsystems_Maps_Scan50_1950",
       "options": [
        "attribution",
        "bounds",
        "detect_retina",
        "max_native_zoom",
        "max_zoom",
        "min_native_zoom",
        "min_zoom",
        "no_wrap",
        "tile_size",
        "tms",
        "zoom_offset"
       ],
       "url": "https://wxs.ign.fr/cartes/geoportail/wmts?REQUEST=GetTile&SERVICE=WMTS&VERSION=1.0.0&STYLE=SCAN50_1950&TILEMATRIXSET=PM&FORMAT=image/jpeg&LAYER=GEOGRAPHICALGRIDSYSTEMS.MAPS.SCAN50.1950&TILEMATRIX={z}&TILEROW={y}&TILECOL={x}"
      }
     },
     "4f2062b554ac4a79af8cbe83d9903720": {
      "model_module": "jupyter-leaflet",
      "model_module_version": "^0.17",
      "model_name": "LeafletTileLayerModel",
      "state": {
       "_model_module_version": "^0.17",
       "_view_module_version": "^0.17",
       "attribution": "Map tiles by Stamen Design, CC BY 3.0 -- Map data (C) OpenStreetMap contributors",
       "max_zoom": 20,
       "name": "Stamen.TonerLines",
       "options": [
        "attribution",
        "bounds",
        "detect_retina",
        "max_native_zoom",
        "max_zoom",
        "min_native_zoom",
        "min_zoom",
        "no_wrap",
        "tile_size",
        "tms",
        "zoom_offset"
       ],
       "url": "https://stamen-tiles-a.a.ssl.fastly.net/toner-lines/{z}/{x}/{y}.png"
      }
     },
     "5031ef4a6ee34ea988b2c62921e5d0e1": {
      "model_module": "ipyevents",
      "model_module_version": "2.0.1",
      "model_name": "EventModel",
      "state": {
       "_supported_key_events": [
        "keydown",
        "keyup"
       ],
       "_supported_mouse_events": [
        "click",
        "auxclick",
        "dblclick",
        "mouseenter",
        "mouseleave",
        "mousedown",
        "mouseup",
        "mousemove",
        "wheel",
        "contextmenu",
        "dragstart",
        "drag",
        "dragend",
        "dragenter",
        "dragover",
        "dragleave",
        "drop"
       ],
       "_supported_touch_events": [
        "touchstart",
        "touchend",
        "touchmove",
        "touchcancel"
       ],
       "_view_module": "@jupyter-widgets/controls",
       "_view_module_version": "1.5.0",
       "source": "IPY_MODEL_c30788b2c0004d7b8380fd74f054d851",
       "throttle_or_debounce": "",
       "watched_events": [
        "mouseenter",
        "mouseleave"
       ],
       "xy_coordinate_system": ""
      }
     },
     "507eb134016d402b94f98b2929f4286c": {
      "model_module": "jupyter-leaflet",
      "model_module_version": "^0.17",
      "model_name": "LeafletTileLayerModel",
      "state": {
       "_model_module_version": "^0.17",
       "_view_module_version": "^0.17",
       "attribution": "(C) OpenStreetMap contributors (C) CARTO",
       "max_zoom": 20,
       "name": "CartoDB.VoyagerOnlyLabels",
       "options": [
        "attribution",
        "bounds",
        "detect_retina",
        "max_native_zoom",
        "max_zoom",
        "min_native_zoom",
        "min_zoom",
        "no_wrap",
        "tile_size",
        "tms",
        "zoom_offset"
       ],
       "url": "https://a.basemaps.cartocdn.com/rastertiles/voyager_only_labels/{z}/{x}/{y}.png"
      }
     },
     "509f0cf1205f446fa0284bc222cdd312": {
      "model_module": "jupyter-leaflet",
      "model_module_version": "^0.17",
      "model_name": "LeafletTileLayerModel",
      "state": {
       "_model_module_version": "^0.17",
       "_view_module_version": "^0.17",
       "attribution": "Geoportail France",
       "max_zoom": 16,
       "name": "GeoportailFrance.Bdcarto_etat_major_Niveau4",
       "options": [
        "attribution",
        "bounds",
        "detect_retina",
        "max_native_zoom",
        "max_zoom",
        "min_native_zoom",
        "min_zoom",
        "no_wrap",
        "tile_size",
        "tms",
        "zoom_offset"
       ],
       "url": "https://wxs.ign.fr/sol/geoportail/wmts?REQUEST=GetTile&SERVICE=WMTS&VERSION=1.0.0&STYLE=normal&TILEMATRIXSET=PM&FORMAT=image/png&LAYER=BDCARTO_ETAT-MAJOR.NIVEAU4&TILEMATRIX={z}&TILEROW={y}&TILECOL={x}"
      }
     },
     "50babe96d8d848049533ddda5e591fa5": {
      "model_module": "jupyter-leaflet",
      "model_module_version": "^0.17",
      "model_name": "LeafletTileLayerModel",
      "state": {
       "_model_module_version": "^0.17",
       "_view_module_version": "^0.17",
       "attribution": "Geoportail France",
       "name": "GeoportailFrance.Orthoimagery_Orthophotos2001",
       "options": [
        "attribution",
        "bounds",
        "detect_retina",
        "max_native_zoom",
        "max_zoom",
        "min_native_zoom",
        "min_zoom",
        "no_wrap",
        "tile_size",
        "tms",
        "zoom_offset"
       ],
       "url": "https://wxs.ign.fr/orthohisto/geoportail/wmts?REQUEST=GetTile&SERVICE=WMTS&VERSION=1.0.0&STYLE=normal&TILEMATRIXSET=PM&FORMAT=image/jpeg&LAYER=ORTHOIMAGERY.ORTHOPHOTOS2001&TILEMATRIX={z}&TILEROW={y}&TILECOL={x}"
      }
     },
     "50eac6ab8b434a7fb06fec7d0cc93c3b": {
      "model_module": "jupyter-leaflet",
      "model_module_version": "^0.17",
      "model_name": "LeafletTileLayerModel",
      "state": {
       "_model_module_version": "^0.17",
       "_view_module_version": "^0.17",
       "attribution": "Tiles &copy; Esri &mdash; Esri, DeLorme, NAVTEQ, TomTom, Intermap, iPC, USGS, FAO, NPS, NRCAN, GeoBase, Kadaster NL, Ordnance Survey, Esri Japan, METI, Esri China (Hong Kong), and the GIS User Community",
       "max_zoom": 24,
       "name": "Esri.ArcticOceanBase",
       "options": [
        "attribution",
        "bounds",
        "detect_retina",
        "max_native_zoom",
        "max_zoom",
        "min_native_zoom",
        "min_zoom",
        "no_wrap",
        "tile_size",
        "tms",
        "zoom_offset"
       ],
       "url": "http://server.arcgisonline.com/ArcGIS/rest/services/Polar/Arctic_Ocean_Base/MapServer/tile/{z}/{y}/{x}"
      }
     },
     "5127031f65634d31a447d47164287b77": {
      "model_module": "jupyter-leaflet",
      "model_module_version": "^0.17",
      "model_name": "LeafletAttributionControlModel",
      "state": {
       "_model_module_version": "^0.17",
       "_view_module_version": "^0.17",
       "options": [
        "position",
        "prefix"
       ],
       "position": "bottomright",
       "prefix": "ipyleaflet"
      }
     },
     "513f7da9cd0d452ba02d6e59a4f454b9": {
      "model_module": "jupyter-leaflet",
      "model_module_version": "^0.17",
      "model_name": "LeafletTileLayerModel",
      "state": {
       "_model_module_version": "^0.17",
       "_view_module_version": "^0.17",
       "attribution": "Geoportail France",
       "max_zoom": 19,
       "name": "GeoportailFrance.Orthoimagery_Orthophotos_Socle_asp_2018",
       "options": [
        "attribution",
        "bounds",
        "detect_retina",
        "max_native_zoom",
        "max_zoom",
        "min_native_zoom",
        "min_zoom",
        "no_wrap",
        "tile_size",
        "tms",
        "zoom_offset"
       ],
       "url": "https://wxs.ign.fr/orthohisto/geoportail/wmts?REQUEST=GetTile&SERVICE=WMTS&VERSION=1.0.0&STYLE=normal&TILEMATRIXSET=PM&FORMAT=image/jpeg&LAYER=ORTHOIMAGERY.ORTHOPHOTOS.SOCLE-ASP.2018&TILEMATRIX={z}&TILEROW={y}&TILECOL={x}"
      }
     },
     "516b8bccf1f947faae2679787d19b03e": {
      "model_module": "@jupyter-widgets/base",
      "model_module_version": "1.2.0",
      "model_name": "LayoutModel",
      "state": {}
     },
     "51856c257ae0462ea1fc031deab72102": {
      "model_module": "jupyter-leaflet",
      "model_module_version": "^0.17",
      "model_name": "LeafletTileLayerModel",
      "state": {
       "_model_module_version": "^0.17",
       "_view_module_version": "^0.17",
       "attribution": "Justice Map",
       "max_zoom": 22,
       "name": "JusticeMap.nonWhite",
       "options": [
        "attribution",
        "bounds",
        "detect_retina",
        "max_native_zoom",
        "max_zoom",
        "min_native_zoom",
        "min_zoom",
        "no_wrap",
        "tile_size",
        "tms",
        "zoom_offset"
       ],
       "url": "https://www.justicemap.org/tile/county/nonwhite/{z}/{x}/{y}.png"
      }
     },
     "51cf4746969e4d7a9a7f768a15e13105": {
      "model_module": "jupyter-leaflet",
      "model_module_version": "^0.17",
      "model_name": "LeafletTileLayerModel",
      "state": {
       "_model_module_version": "^0.17",
       "_view_module_version": "^0.17",
       "attribution": "Geoportail France",
       "max_zoom": 16,
       "name": "GeoportailFrance.Insee_Filosofi_Part_Menages_5_Personnes_Ouplus_Secret",
       "options": [
        "attribution",
        "bounds",
        "detect_retina",
        "max_native_zoom",
        "max_zoom",
        "min_native_zoom",
        "min_zoom",
        "no_wrap",
        "tile_size",
        "tms",
        "zoom_offset"
       ],
       "url": "https://wxs.ign.fr/economie/geoportail/wmts?REQUEST=GetTile&SERVICE=WMTS&VERSION=1.0.0&STYLE=INSEE&TILEMATRIXSET=PM&FORMAT=image/png&LAYER=INSEE.FILOSOFI.PART.MENAGES.5.PERSONNES.OUPLUS.SECRET&TILEMATRIX={z}&TILEROW={y}&TILECOL={x}"
      }
     },
     "52802e7357ee4ab1b2cf0295bd8872ca": {
      "model_module": "jupyter-leaflet",
      "model_module_version": "^0.17",
      "model_name": "LeafletTileLayerModel",
      "state": {
       "_model_module_version": "^0.17",
       "_view_module_version": "^0.17",
       "attribution": "Map data: (C) OpenStreetMap contributors | Map style: (C) waymarkedtrails.org (CC-BY-SA)",
       "name": "WaymarkedTrails.skating",
       "options": [
        "attribution",
        "bounds",
        "detect_retina",
        "max_native_zoom",
        "max_zoom",
        "min_native_zoom",
        "min_zoom",
        "no_wrap",
        "tile_size",
        "tms",
        "zoom_offset"
       ],
       "url": "https://tile.waymarkedtrails.org/skating/{z}/{x}/{y}.png"
      }
     },
     "529ab7d918874b13b3c30d8d959e16b1": {
      "model_module": "jupyter-leaflet",
      "model_module_version": "^0.17",
      "model_name": "LeafletTileLayerModel",
      "state": {
       "_model_module_version": "^0.17",
       "_view_module_version": "^0.17",
       "attribution": "Tiles (C) Esri -- National Geographic, Esri, DeLorme, NAVTEQ, UNEP-WCMC, USGS, NASA, ESA, METI, NRCAN, GEBCO, NOAA, iPC",
       "max_zoom": 16,
       "name": "Esri.NatGeoWorldMap",
       "options": [
        "attribution",
        "bounds",
        "detect_retina",
        "max_native_zoom",
        "max_zoom",
        "min_native_zoom",
        "min_zoom",
        "no_wrap",
        "tile_size",
        "tms",
        "zoom_offset"
       ],
       "url": "https://server.arcgisonline.com/ArcGIS/rest/services/NatGeo_World_Map/MapServer/tile/{z}/{y}/{x}"
      }
     },
     "530fd40a55574dda86a83194e7c7e79b": {
      "model_module": "jupyter-leaflet",
      "model_module_version": "^0.17",
      "model_name": "LeafletTileLayerModel",
      "state": {
       "_model_module_version": "^0.17",
       "_view_module_version": "^0.17",
       "attribution": "Geoportail France",
       "max_zoom": 16,
       "name": "GeoportailFrance.Insee_Filosofi_Population",
       "options": [
        "attribution",
        "bounds",
        "detect_retina",
        "max_native_zoom",
        "max_zoom",
        "min_native_zoom",
        "min_zoom",
        "no_wrap",
        "tile_size",
        "tms",
        "zoom_offset"
       ],
       "url": "https://wxs.ign.fr/economie/geoportail/wmts?REQUEST=GetTile&SERVICE=WMTS&VERSION=1.0.0&STYLE=INSEE&TILEMATRIXSET=PM&FORMAT=image/png&LAYER=INSEE.FILOSOFI.POPULATION&TILEMATRIX={z}&TILEROW={y}&TILECOL={x}"
      }
     },
     "5360fdd966404983ae0e90821fa7f822": {
      "model_module": "jupyter-leaflet",
      "model_module_version": "^0.17",
      "model_name": "LeafletTileLayerModel",
      "state": {
       "_model_module_version": "^0.17",
       "_view_module_version": "^0.17",
       "attribution": "(C) Stadia Maps, (C) OpenMapTiles (C) OpenStreetMap contributors",
       "max_zoom": 20,
       "name": "Stadia.AlidadeSmoothDark",
       "options": [
        "attribution",
        "bounds",
        "detect_retina",
        "max_native_zoom",
        "max_zoom",
        "min_native_zoom",
        "min_zoom",
        "no_wrap",
        "tile_size",
        "tms",
        "zoom_offset"
       ],
       "url": "https://tiles.stadiamaps.com/tiles/alidade_smooth_dark/{z}/{x}/{y}.png"
      }
     },
     "537ff914bded420ab78322eefec2f2e9": {
      "model_module": "jupyter-leaflet",
      "model_module_version": "^0.17",
      "model_name": "LeafletTileLayerModel",
      "state": {
       "_model_module_version": "^0.17",
       "_view_module_version": "^0.17",
       "attribution": "Geoportail France",
       "max_zoom": 21,
       "name": "GeoportailFrance.Thr_Orthoimagery_Orthophotos",
       "options": [
        "attribution",
        "bounds",
        "detect_retina",
        "max_native_zoom",
        "max_zoom",
        "min_native_zoom",
        "min_zoom",
        "no_wrap",
        "tile_size",
        "tms",
        "zoom_offset"
       ],
       "url": "https://wxs.ign.fr/ortho/geoportail/wmts?REQUEST=GetTile&SERVICE=WMTS&VERSION=1.0.0&STYLE=normal&TILEMATRIXSET=PM&FORMAT=image/jpeg&LAYER=THR.ORTHOIMAGERY.ORTHOPHOTOS&TILEMATRIX={z}&TILEROW={y}&TILECOL={x}"
      }
     },
     "54d9fde91acc4852a38438f39542b024": {
      "model_module": "jupyter-leaflet",
      "model_module_version": "^0.17",
      "model_name": "LeafletTileLayerModel",
      "state": {
       "_model_module_version": "^0.17",
       "_view_module_version": "^0.17",
       "attribution": "Tiles (C) Esri -- Source: US National Park Service",
       "max_zoom": 8,
       "name": "Esri.WorldPhysical",
       "options": [
        "attribution",
        "bounds",
        "detect_retina",
        "max_native_zoom",
        "max_zoom",
        "min_native_zoom",
        "min_zoom",
        "no_wrap",
        "tile_size",
        "tms",
        "zoom_offset"
       ],
       "url": "https://server.arcgisonline.com/ArcGIS/rest/services/World_Physical_Map/MapServer/tile/{z}/{y}/{x}"
      }
     },
     "553b7486783843d393cbf6371ab1d72b": {
      "model_module": "jupyter-leaflet",
      "model_module_version": "^0.17",
      "model_name": "LeafletTileLayerModel",
      "state": {
       "_model_module_version": "^0.17",
       "_view_module_version": "^0.17",
       "attribution": "Geoportail France",
       "max_zoom": 16,
       "name": "GeoportailFrance.Insee_Filosofi_Part_Menages_Pauvres_Secret",
       "options": [
        "attribution",
        "bounds",
        "detect_retina",
        "max_native_zoom",
        "max_zoom",
        "min_native_zoom",
        "min_zoom",
        "no_wrap",
        "tile_size",
        "tms",
        "zoom_offset"
       ],
       "url": "https://wxs.ign.fr/economie/geoportail/wmts?REQUEST=GetTile&SERVICE=WMTS&VERSION=1.0.0&STYLE=INSEE&TILEMATRIXSET=PM&FORMAT=image/png&LAYER=INSEE.FILOSOFI.PART.MENAGES.PAUVRES.SECRET&TILEMATRIX={z}&TILEROW={y}&TILECOL={x}"
      }
     },
     "55640d57427145e28c1423efd53b917f": {
      "model_module": "jupyter-leaflet",
      "model_module_version": "^0.17",
      "model_name": "LeafletTileLayerModel",
      "state": {
       "_model_module_version": "^0.17",
       "_view_module_version": "^0.17",
       "attribution": "(C) OpenStreetMap contributors (C) CARTO",
       "max_zoom": 20,
       "name": "CartoDB.VoyagerNoLabels",
       "options": [
        "attribution",
        "bounds",
        "detect_retina",
        "max_native_zoom",
        "max_zoom",
        "min_native_zoom",
        "min_zoom",
        "no_wrap",
        "tile_size",
        "tms",
        "zoom_offset"
       ],
       "url": "https://a.basemaps.cartocdn.com/rastertiles/voyager_nolabels/{z}/{x}/{y}.png"
      }
     },
     "55d420fe38b24e43b176bf11d8b4ab05": {
      "model_module": "jupyter-leaflet",
      "model_module_version": "^0.17",
      "model_name": "LeafletTileLayerModel",
      "state": {
       "_model_module_version": "^0.17",
       "_view_module_version": "^0.17",
       "attribution": "Geoportail France",
       "max_zoom": 16,
       "name": "GeoportailFrance.Landuse_Agriculture2009",
       "options": [
        "attribution",
        "bounds",
        "detect_retina",
        "max_native_zoom",
        "max_zoom",
        "min_native_zoom",
        "min_zoom",
        "no_wrap",
        "tile_size",
        "tms",
        "zoom_offset"
       ],
       "url": "https://wxs.ign.fr/agriculture/geoportail/wmts?REQUEST=GetTile&SERVICE=WMTS&VERSION=1.0.0&STYLE=normal&TILEMATRIXSET=PM&FORMAT=image/png&LAYER=LANDUSE.AGRICULTURE2009&TILEMATRIX={z}&TILEROW={y}&TILECOL={x}"
      }
     },
     "5653b893b6554388ab8f4c191da39c7c": {
      "model_module": "@jupyter-widgets/controls",
      "model_module_version": "1.5.0",
      "model_name": "DescriptionStyleModel",
      "state": {
       "description_width": ""
      }
     },
     "570eef1e54d7417c8135b5052c680ffb": {
      "model_module": "@jupyter-widgets/controls",
      "model_module_version": "1.5.0",
      "model_name": "ToggleButtonModel",
      "state": {
       "button_style": "primary",
       "icon": "folder-open",
       "layout": "IPY_MODEL_cb69fe85192c4a7fbf6dd5989bb54304",
       "style": "IPY_MODEL_714b461b401b4e35b34ccc36ddcf49d8",
       "tooltip": "Open local vector/raster data"
      }
     },
     "57352a02c60a4b91ab9ce8d687c2a916": {
      "model_module": "@jupyter-widgets/base",
      "model_module_version": "1.2.0",
      "model_name": "LayoutModel",
      "state": {
       "padding": "10px"
      }
     },
     "57ae019aad054cdd9b89e58fd9b926ab": {
      "model_module": "jupyter-leaflet",
      "model_module_version": "^0.17",
      "model_name": "LeafletTileLayerModel",
      "state": {
       "_model_module_version": "^0.17",
       "_view_module_version": "^0.17",
       "attribution": "Geoportail France",
       "max_zoom": 19,
       "name": "GeoportailFrance.plan",
       "options": [
        "attribution",
        "bounds",
        "detect_retina",
        "max_native_zoom",
        "max_zoom",
        "min_native_zoom",
        "min_zoom",
        "no_wrap",
        "tile_size",
        "tms",
        "zoom_offset"
       ],
       "url": "https://wxs.ign.fr/essentiels/geoportail/wmts?REQUEST=GetTile&SERVICE=WMTS&VERSION=1.0.0&STYLE=normal&TILEMATRIXSET=PM&FORMAT=image/png&LAYER=GEOGRAPHICALGRIDSYSTEMS.PLANIGNV2&TILEMATRIX={z}&TILEROW={y}&TILECOL={x}"
      }
     },
     "57b257958b7f484b8f1a71725ea0fe1c": {
      "model_module": "jupyter-leaflet",
      "model_module_version": "^0.17",
      "model_name": "LeafletTileLayerModel",
      "state": {
       "_model_module_version": "^0.17",
       "_view_module_version": "^0.17",
       "attribution": "Geoportail France",
       "max_zoom": 16,
       "name": "GeoportailFrance.Protectedareas_Znieff2_Sea",
       "options": [
        "attribution",
        "bounds",
        "detect_retina",
        "max_native_zoom",
        "max_zoom",
        "min_native_zoom",
        "min_zoom",
        "no_wrap",
        "tile_size",
        "tms",
        "zoom_offset"
       ],
       "url": "https://wxs.ign.fr/environnement/geoportail/wmts?REQUEST=GetTile&SERVICE=WMTS&VERSION=1.0.0&STYLE=normal&TILEMATRIXSET=PM&FORMAT=image/png&LAYER=PROTECTEDAREAS.ZNIEFF2.SEA&TILEMATRIX={z}&TILEROW={y}&TILECOL={x}"
      }
     },
     "581837440118469d9af815103c102cb8": {
      "model_module": "jupyter-leaflet",
      "model_module_version": "^0.17",
      "model_name": "LeafletTileLayerModel",
      "state": {
       "_model_module_version": "^0.17",
       "_view_module_version": "^0.17",
       "attribution": "Geoportail France",
       "max_zoom": 17,
       "name": "GeoportailFrance.Securoute_Te_2te48",
       "options": [
        "attribution",
        "bounds",
        "detect_retina",
        "max_native_zoom",
        "max_zoom",
        "min_native_zoom",
        "min_zoom",
        "no_wrap",
        "tile_size",
        "tms",
        "zoom_offset"
       ],
       "url": "https://wxs.ign.fr/transports/geoportail/wmts?REQUEST=GetTile&SERVICE=WMTS&VERSION=1.0.0&STYLE=RESEAU ROUTIER 2TE48&TILEMATRIXSET=PM&FORMAT=image/png&LAYER=SECUROUTE.TE.2TE48&TILEMATRIX={z}&TILEROW={y}&TILECOL={x}"
      }
     },
     "584ecb4cf90841f09bcce5f08bb1d3cb": {
      "model_module": "jupyter-leaflet",
      "model_module_version": "^0.17",
      "model_name": "LeafletTileLayerModel",
      "state": {
       "_model_module_version": "^0.17",
       "_view_module_version": "^0.17",
       "attribution": "Geoportail France",
       "max_zoom": 16,
       "name": "GeoportailFrance.Adminexpress_cog_carto_Latest",
       "options": [
        "attribution",
        "bounds",
        "detect_retina",
        "max_native_zoom",
        "max_zoom",
        "min_native_zoom",
        "min_zoom",
        "no_wrap",
        "tile_size",
        "tms",
        "zoom_offset"
       ],
       "url": "https://wxs.ign.fr/administratif/geoportail/wmts?REQUEST=GetTile&SERVICE=WMTS&VERSION=1.0.0&STYLE=normal&TILEMATRIXSET=PM&FORMAT=image/png&LAYER=ADMINEXPRESS-COG-CARTO.LATEST&TILEMATRIX={z}&TILEROW={y}&TILECOL={x}"
      }
     },
     "587735b1c30f4376971f2fb2ce5bd134": {
      "model_module": "jupyter-leaflet",
      "model_module_version": "^0.17",
      "model_name": "LeafletTileLayerModel",
      "state": {
       "_model_module_version": "^0.17",
       "_view_module_version": "^0.17",
       "attribution": "Geoportail France",
       "max_zoom": 16,
       "name": "GeoportailFrance.Landuse_Agriculture2019",
       "options": [
        "attribution",
        "bounds",
        "detect_retina",
        "max_native_zoom",
        "max_zoom",
        "min_native_zoom",
        "min_zoom",
        "no_wrap",
        "tile_size",
        "tms",
        "zoom_offset"
       ],
       "url": "https://wxs.ign.fr/agriculture/geoportail/wmts?REQUEST=GetTile&SERVICE=WMTS&VERSION=1.0.0&STYLE=normal&TILEMATRIXSET=PM&FORMAT=image/png&LAYER=LANDUSE.AGRICULTURE2019&TILEMATRIX={z}&TILEROW={y}&TILECOL={x}"
      }
     },
     "589cf3133484401a81c43fa6b7cbc82d": {
      "model_module": "jupyter-leaflet",
      "model_module_version": "^0.17",
      "model_name": "LeafletTileLayerModel",
      "state": {
       "_model_module_version": "^0.17",
       "_view_module_version": "^0.17",
       "attribution": "Geoportail France",
       "max_zoom": 16,
       "name": "GeoportailFrance.Ocsge_Constructions_2014",
       "options": [
        "attribution",
        "bounds",
        "detect_retina",
        "max_native_zoom",
        "max_zoom",
        "min_native_zoom",
        "min_zoom",
        "no_wrap",
        "tile_size",
        "tms",
        "zoom_offset"
       ],
       "url": "https://wxs.ign.fr/ocsge/geoportail/wmts?REQUEST=GetTile&SERVICE=WMTS&VERSION=1.0.0&STYLE=nolegend&TILEMATRIXSET=PM&FORMAT=image/png&LAYER=OCSGE.CONSTRUCTIONS.2014&TILEMATRIX={z}&TILEROW={y}&TILECOL={x}"
      }
     },
     "58a58da5270d4fd7a7aa12eefba6b1d3": {
      "model_module": "jupyter-leaflet",
      "model_module_version": "^0.17",
      "model_name": "LeafletTileLayerModel",
      "state": {
       "_model_module_version": "^0.17",
       "_view_module_version": "^0.17",
       "attribution": "Geoportail France",
       "name": "GeoportailFrance.Orthoimagery_Orthophotos2007",
       "options": [
        "attribution",
        "bounds",
        "detect_retina",
        "max_native_zoom",
        "max_zoom",
        "min_native_zoom",
        "min_zoom",
        "no_wrap",
        "tile_size",
        "tms",
        "zoom_offset"
       ],
       "url": "https://wxs.ign.fr/orthohisto/geoportail/wmts?REQUEST=GetTile&SERVICE=WMTS&VERSION=1.0.0&STYLE=normal&TILEMATRIXSET=PM&FORMAT=image/jpeg&LAYER=ORTHOIMAGERY.ORTHOPHOTOS2007&TILEMATRIX={z}&TILEROW={y}&TILECOL={x}"
      }
     },
     "58b55e412fd34dd28ba44f9f2856299f": {
      "model_module": "jupyter-leaflet",
      "model_module_version": "^0.17",
      "model_name": "LeafletTileLayerModel",
      "state": {
       "_model_module_version": "^0.17",
       "_view_module_version": "^0.17",
       "attribution": "Geoportail France",
       "name": "GeoportailFrance.Orthoimagery_Orthophotos_Ortho_asp_pac2021",
       "options": [
        "attribution",
        "bounds",
        "detect_retina",
        "max_native_zoom",
        "max_zoom",
        "min_native_zoom",
        "min_zoom",
        "no_wrap",
        "tile_size",
        "tms",
        "zoom_offset"
       ],
       "url": "https://wxs.ign.fr/orthohisto/geoportail/wmts?REQUEST=GetTile&SERVICE=WMTS&VERSION=1.0.0&STYLE=normal&TILEMATRIXSET=PM&FORMAT=image/jpeg&LAYER=ORTHOIMAGERY.ORTHOPHOTOS.ORTHO-ASP_PAC2021&TILEMATRIX={z}&TILEROW={y}&TILECOL={x}"
      }
     },
     "58d087170faf40d796d0976a778400e4": {
      "model_module": "jupyter-leaflet",
      "model_module_version": "^0.17",
      "model_name": "LeafletTileLayerModel",
      "state": {
       "_model_module_version": "^0.17",
       "_view_module_version": "^0.17",
       "attribution": "Geoportail France",
       "max_zoom": 16,
       "name": "GeoportailFrance.Insee_Filosofi_Part_Individus_25_39_Ans_Secret",
       "options": [
        "attribution",
        "bounds",
        "detect_retina",
        "max_native_zoom",
        "max_zoom",
        "min_native_zoom",
        "min_zoom",
        "no_wrap",
        "tile_size",
        "tms",
        "zoom_offset"
       ],
       "url": "https://wxs.ign.fr/economie/geoportail/wmts?REQUEST=GetTile&SERVICE=WMTS&VERSION=1.0.0&STYLE=INSEE&TILEMATRIXSET=PM&FORMAT=image/png&LAYER=INSEE.FILOSOFI.PART.INDIVIDUS.25.39.ANS.SECRET&TILEMATRIX={z}&TILEROW={y}&TILECOL={x}"
      }
     },
     "590da677022841bc81da74ef863791db": {
      "model_module": "jupyter-leaflet",
      "model_module_version": "^0.17",
      "model_name": "LeafletTileLayerModel",
      "state": {
       "_model_module_version": "^0.17",
       "_view_module_version": "^0.17",
       "attribution": "(C) OpenStreetMap France | (C) OpenStreetMap contributors",
       "max_zoom": 20,
       "name": "OpenStreetMap.France",
       "options": [
        "attribution",
        "bounds",
        "detect_retina",
        "max_native_zoom",
        "max_zoom",
        "min_native_zoom",
        "min_zoom",
        "no_wrap",
        "tile_size",
        "tms",
        "zoom_offset"
       ],
       "url": "https://a.tile.openstreetmap.fr/osmfr/{z}/{x}/{y}.png"
      }
     },
     "59e5c1cdf45d4087829a38ed0b0702e8": {
      "model_module": "@jupyter-widgets/base",
      "model_module_version": "1.2.0",
      "model_name": "LayoutModel",
      "state": {}
     },
     "59e64ce28cc94edca273a9906e1bfb20": {
      "model_module": "@jupyter-widgets/controls",
      "model_module_version": "1.5.0",
      "model_name": "RadioButtonsModel",
      "state": {
       "_options_labels": [
        "ROI"
       ],
       "index": 0,
       "layout": "IPY_MODEL_ff1a887d7d814515a66b8142f35077a5",
       "style": "IPY_MODEL_43bfc1448400443eacd7f429a4b24dba"
      }
     },
     "5a0db44116d8448da29ac1220780b4da": {
      "model_module": "jupyter-leaflet",
      "model_module_version": "^0.17",
      "model_name": "LeafletGeoJSONModel",
      "state": {
       "_model_module_version": "^0.17",
       "_view_module_version": "^0.17",
       "data": {
        "features": [
         {
          "geometry": {
           "coordinates": [
            [
             [
              -124.14163,
              40.960269
             ],
             [
              -124.14163,
              40.991374
             ],
             [
              -124.105242,
              40.991374
             ],
             [
              -124.105242,
              40.960269
             ],
             [
              -124.14163,
              40.960269
             ]
            ]
           ],
           "type": "Polygon"
          },
          "id": "3",
          "properties": {
           "id": "4",
           "style": {
            "color": "blue",
            "fillColor": "blue",
            "fillOpacity": 0.1,
            "weight": 2
           }
          },
          "type": "Feature"
         }
        ],
        "type": "FeatureCollection"
       },
       "hover_style": {
        "color": "aqua",
        "fillColor": "blue",
        "fillOpacity": 0.1
       },
       "name": "selected ROIs"
      }
     },
     "5a1132ee0253401c8be0c2796cf3b079": {
      "model_module": "jupyter-leaflet",
      "model_module_version": "^0.17",
      "model_name": "LeafletTileLayerModel",
      "state": {
       "_model_module_version": "^0.17",
       "_view_module_version": "^0.17",
       "attribution": "Geoportail France",
       "max_zoom": 16,
       "name": "GeoportailFrance.Ocsge_Usage_2002",
       "options": [
        "attribution",
        "bounds",
        "detect_retina",
        "max_native_zoom",
        "max_zoom",
        "min_native_zoom",
        "min_zoom",
        "no_wrap",
        "tile_size",
        "tms",
        "zoom_offset"
       ],
       "url": "https://wxs.ign.fr/ocsge/geoportail/wmts?REQUEST=GetTile&SERVICE=WMTS&VERSION=1.0.0&STYLE=normal&TILEMATRIXSET=PM&FORMAT=image/png&LAYER=OCSGE.USAGE.2002&TILEMATRIX={z}&TILEROW={y}&TILECOL={x}"
      }
     },
     "5a70bd28855d41aaac625efcdeafb622": {
      "model_module": "jupyter-leaflet",
      "model_module_version": "^0.17",
      "model_name": "LeafletGeoJSONModel",
      "state": {
       "_model_module_version": "^0.17",
       "_view_module_version": "^0.17",
       "data": {
        "features": [
         {
          "geometry": {
           "coordinates": [
            [
             [
              -124.158794,
              40.91514
             ],
             [
              -124.158794,
              40.942117
             ],
             [
              -124.114854,
              40.942117
             ],
             [
              -124.114854,
              40.91514
             ],
             [
              -124.158794,
              40.91514
             ]
            ]
           ],
           "type": "Polygon"
          },
          "id": "2",
          "properties": {
           "id": "3",
           "style": {
            "color": "blue",
            "fillColor": "blue",
            "fillOpacity": 0.1,
            "weight": 2
           }
          },
          "type": "Feature"
         },
         {
          "geometry": {
           "coordinates": [
            [
             [
              -124.14163,
              40.960269
             ],
             [
              -124.14163,
              40.991374
             ],
             [
              -124.105242,
              40.991374
             ],
             [
              -124.105242,
              40.960269
             ],
             [
              -124.14163,
              40.960269
             ]
            ]
           ],
           "type": "Polygon"
          },
          "id": "3",
          "properties": {
           "id": "4",
           "style": {
            "color": "blue",
            "fillColor": "blue",
            "fillOpacity": 0.1,
            "weight": 2
           }
          },
          "type": "Feature"
         }
        ],
        "type": "FeatureCollection"
       },
       "hover_style": {
        "color": "aqua",
        "fillColor": "blue",
        "fillOpacity": 0.1
       },
       "name": "selected ROIs"
      }
     },
     "5b5793c99a2f4eb9b36914fa74d43fec": {
      "model_module": "jupyter-leaflet",
      "model_module_version": "^0.17",
      "model_name": "LeafletTileLayerModel",
      "state": {
       "_model_module_version": "^0.17",
       "_view_module_version": "^0.17",
       "attribution": "Geoportail France",
       "name": "GeoportailFrance.Orthoimagery_Ortho_sat_Pleiades_2012",
       "options": [
        "attribution",
        "bounds",
        "detect_retina",
        "max_native_zoom",
        "max_zoom",
        "min_native_zoom",
        "min_zoom",
        "no_wrap",
        "tile_size",
        "tms",
        "zoom_offset"
       ],
       "url": "https://wxs.ign.fr/satellite/geoportail/wmts?REQUEST=GetTile&SERVICE=WMTS&VERSION=1.0.0&STYLE=normal&TILEMATRIXSET=PM&FORMAT=image/png&LAYER=ORTHOIMAGERY.ORTHO-SAT.PLEIADES.2012&TILEMATRIX={z}&TILEROW={y}&TILECOL={x}"
      }
     },
     "5b788853aaaa4d03b61a12514edc0e3a": {
      "model_module": "jupyter-leaflet",
      "model_module_version": "^0.17",
      "model_name": "LeafletTileLayerModel",
      "state": {
       "_model_module_version": "^0.17",
       "_view_module_version": "^0.17",
       "attribution": "Map tiles by <a href=\"https://labs.strava.com/heatmap\">Strava 2021</a>",
       "max_zoom": 15,
       "name": "Strava.Winter",
       "options": [
        "attribution",
        "bounds",
        "detect_retina",
        "max_native_zoom",
        "max_zoom",
        "min_native_zoom",
        "min_zoom",
        "no_wrap",
        "tile_size",
        "tms",
        "zoom_offset"
       ],
       "url": "https://heatmap-external-a.strava.com/tiles/winter/hot/{z}/{x}/{y}.png"
      }
     },
     "5c31ad54357744f6aaaffa7b574822c0": {
      "model_module": "@jupyter-widgets/base",
      "model_module_version": "1.2.0",
      "model_name": "LayoutModel",
      "state": {}
     },
     "5c5271aab294410ba7862a803eac2dec": {
      "model_module": "@jupyter-widgets/base",
      "model_module_version": "1.2.0",
      "model_name": "LayoutModel",
      "state": {}
     },
     "5c9d242b265d4c0ab576659f3f8a4eca": {
      "model_module": "jupyter-leaflet",
      "model_module_version": "^0.17",
      "model_name": "LeafletTileLayerModel",
      "state": {
       "_model_module_version": "^0.17",
       "_view_module_version": "^0.17",
       "attribution": "(C) OpenStreetMap contributors & USGS",
       "max_zoom": 22,
       "name": "MtbMap",
       "options": [
        "attribution",
        "bounds",
        "detect_retina",
        "max_native_zoom",
        "max_zoom",
        "min_native_zoom",
        "min_zoom",
        "no_wrap",
        "tile_size",
        "tms",
        "zoom_offset"
       ],
       "url": "http://tile.mtbmap.cz/mtbmap_tiles/{z}/{x}/{y}.png"
      }
     },
     "5d01f9b1c0dd4e558afae08bc29e7ac8": {
      "model_module": "jupyter-leaflet",
      "model_module_version": "^0.17",
      "model_name": "LeafletTileLayerModel",
      "state": {
       "_model_module_version": "^0.17",
       "_view_module_version": "^0.17",
       "attribution": "(C) OpenStreetMap contributors",
       "max_zoom": 19,
       "name": "HikeBike.HikeBike",
       "options": [
        "attribution",
        "bounds",
        "detect_retina",
        "max_native_zoom",
        "max_zoom",
        "min_native_zoom",
        "min_zoom",
        "no_wrap",
        "tile_size",
        "tms",
        "zoom_offset"
       ],
       "url": "https://tiles.wmflabs.org/hikebike/{z}/{x}/{y}.png"
      }
     },
     "5d1431c5ac7c4abfad3fd8e16e0ba8f5": {
      "model_module": "jupyter-leaflet",
      "model_module_version": "^0.17",
      "model_name": "LeafletTileLayerModel",
      "state": {
       "_model_module_version": "^0.17",
       "_view_module_version": "^0.17",
       "attribution": "Geoportail France",
       "max_zoom": 16,
       "name": "GeoportailFrance.Landcover_Forestinventory_V1",
       "options": [
        "attribution",
        "bounds",
        "detect_retina",
        "max_native_zoom",
        "max_zoom",
        "min_native_zoom",
        "min_zoom",
        "no_wrap",
        "tile_size",
        "tms",
        "zoom_offset"
       ],
       "url": "https://wxs.ign.fr/environnement/geoportail/wmts?REQUEST=GetTile&SERVICE=WMTS&VERSION=1.0.0&STYLE=normal&TILEMATRIXSET=PM&FORMAT=image/png&LAYER=LANDCOVER.FORESTINVENTORY.V1&TILEMATRIX={z}&TILEROW={y}&TILECOL={x}"
      }
     },
     "5dece2c61e934ae68a375778e5bde4f2": {
      "model_module": "@jupyter-widgets/output",
      "model_module_version": "1.0.0",
      "model_name": "OutputModel",
      "state": {
       "layout": "IPY_MODEL_09219770aae04ab69fd9fc7e3b73c361"
      }
     },
     "5df437dbf0024abd84adbb78c41b46dd": {
      "model_module": "jupyter-leaflet",
      "model_module_version": "^0.17",
      "model_name": "LeafletTileLayerModel",
      "state": {
       "_model_module_version": "^0.17",
       "_view_module_version": "^0.17",
       "attribution": "Datenquelle: basemap.at",
       "max_zoom": 19,
       "name": "BasemapAT.grau",
       "options": [
        "attribution",
        "bounds",
        "detect_retina",
        "max_native_zoom",
        "max_zoom",
        "min_native_zoom",
        "min_zoom",
        "no_wrap",
        "tile_size",
        "tms",
        "zoom_offset"
       ],
       "url": "https://maps.wien.gv.at/basemap/bmapgrau/normal/google3857/{z}/{y}/{x}.png"
      }
     },
     "5e2927e94d7a4f0bb2e60afed1cb8fab": {
      "model_module": "jupyter-leaflet",
      "model_module_version": "^0.17",
      "model_name": "LeafletTileLayerModel",
      "state": {
       "_model_module_version": "^0.17",
       "_view_module_version": "^0.17",
       "attribution": "Geoportail France",
       "max_zoom": 16,
       "name": "GeoportailFrance.Protectedareas_Zps",
       "options": [
        "attribution",
        "bounds",
        "detect_retina",
        "max_native_zoom",
        "max_zoom",
        "min_native_zoom",
        "min_zoom",
        "no_wrap",
        "tile_size",
        "tms",
        "zoom_offset"
       ],
       "url": "https://wxs.ign.fr/environnement/geoportail/wmts?REQUEST=GetTile&SERVICE=WMTS&VERSION=1.0.0&STYLE=normal&TILEMATRIXSET=PM&FORMAT=image/png&LAYER=PROTECTEDAREAS.ZPS&TILEMATRIX={z}&TILEROW={y}&TILECOL={x}"
      }
     },
     "5e4d42dc0af2498d8e992931a2ac53ff": {
      "model_module": "jupyter-leaflet",
      "model_module_version": "^0.17",
      "model_name": "LeafletGeoJSONModel",
      "state": {
       "_model_module_version": "^0.17",
       "_view_module_version": "^0.17",
       "data": {
        "features": [
         {
          "geometry": {
           "coordinates": [
            [
             [
              -124.187964,
              40.842013
             ],
             [
              -124.187964,
              40.880183
             ],
             [
              -124.134928,
              40.880183
             ],
             [
              -124.134928,
              40.842013
             ],
             [
              -124.187964,
              40.842013
             ]
            ]
           ],
           "type": "Polygon"
          },
          "id": "0",
          "properties": {
           "id": "1",
           "style": {
            "color": "#555555",
            "fillOpacity": 0.1,
            "fill_color": "#555555",
            "weight": 1
           }
          },
          "type": "Feature"
         }
        ],
        "type": "FeatureCollection"
       },
       "hover_style": {
        "color": "yellow",
        "fillOpacity": 0.1
       },
       "name": "ROI",
       "style": {
        "color": "#555555",
        "fillOpacity": 0.1,
        "fill_color": "#555555",
        "weight": 1
       }
      }
     },
     "5f4b943eab214c4ca1051bffe63228fc": {
      "model_module": "jupyter-leaflet",
      "model_module_version": "^0.17",
      "model_name": "LeafletTileLayerModel",
      "state": {
       "_model_module_version": "^0.17",
       "_view_module_version": "^0.17",
       "attribution": "(C) OpenStreetMap contributors, visualization CC-By-SA 2.0 Freemap.sk",
       "max_zoom": 16,
       "name": "FreeMapSK",
       "options": [
        "attribution",
        "bounds",
        "detect_retina",
        "max_native_zoom",
        "max_zoom",
        "min_native_zoom",
        "min_zoom",
        "no_wrap",
        "tile_size",
        "tms",
        "zoom_offset"
       ],
       "url": "https://a.freemap.sk/T/{z}/{x}/{y}.jpeg"
      }
     },
     "5f596053ac1248bb9af3bd445a9c0ab3": {
      "model_module": "@jupyter-widgets/base",
      "model_module_version": "1.2.0",
      "model_name": "LayoutModel",
      "state": {
       "height": "28px",
       "padding": "0px 0px 0px 4px",
       "width": "28px"
      }
     },
     "5fc6a8fd2fa84e1f82704783b6a6e984": {
      "model_module": "jupyter-leaflet",
      "model_module_version": "^0.17",
      "model_name": "LeafletTileLayerModel",
      "state": {
       "_model_module_version": "^0.17",
       "_view_module_version": "^0.17",
       "attribution": "Map data: (C) OpenStreetMap contributors | Map style: (C) waymarkedtrails.org (CC-BY-SA)",
       "name": "WaymarkedTrails.cycling",
       "options": [
        "attribution",
        "bounds",
        "detect_retina",
        "max_native_zoom",
        "max_zoom",
        "min_native_zoom",
        "min_zoom",
        "no_wrap",
        "tile_size",
        "tms",
        "zoom_offset"
       ],
       "url": "https://tile.waymarkedtrails.org/cycling/{z}/{x}/{y}.png"
      }
     },
     "5fd2933e9dc54023b7b6972cd66b7f83": {
      "model_module": "@jupyter-widgets/base",
      "model_module_version": "1.2.0",
      "model_name": "LayoutModel",
      "state": {
       "height": "auto",
       "padding": "0px 0px 0px 4px",
       "width": "auto"
      }
     },
     "605b2def51b048b0a7facb86ec9246c2": {
      "model_module": "jupyter-leaflet",
      "model_module_version": "^0.17",
      "model_name": "LeafletTileLayerModel",
      "state": {
       "_model_module_version": "^0.17",
       "_view_module_version": "^0.17",
       "attribution": "Geoportail France",
       "max_zoom": 16,
       "name": "GeoportailFrance.Insee_Filosofi_Part_Familles_Monoparentales_Secret",
       "options": [
        "attribution",
        "bounds",
        "detect_retina",
        "max_native_zoom",
        "max_zoom",
        "min_native_zoom",
        "min_zoom",
        "no_wrap",
        "tile_size",
        "tms",
        "zoom_offset"
       ],
       "url": "https://wxs.ign.fr/economie/geoportail/wmts?REQUEST=GetTile&SERVICE=WMTS&VERSION=1.0.0&STYLE=INSEE&TILEMATRIXSET=PM&FORMAT=image/png&LAYER=INSEE.FILOSOFI.PART.FAMILLES.MONOPARENTALES.SECRET&TILEMATRIX={z}&TILEROW={y}&TILECOL={x}"
      }
     },
     "60e0762d3e6c406abd880a075f1d78b1": {
      "model_module": "jupyter-leaflet",
      "model_module_version": "^0.17",
      "model_name": "LeafletTileLayerModel",
      "state": {
       "_model_module_version": "^0.17",
       "_view_module_version": "^0.17",
       "attribution": "Geoportail France",
       "max_zoom": 19,
       "name": "GeoportailFrance.Orthoimagery_Orthophotos_Irc_express_2020",
       "options": [
        "attribution",
        "bounds",
        "detect_retina",
        "max_native_zoom",
        "max_zoom",
        "min_native_zoom",
        "min_zoom",
        "no_wrap",
        "tile_size",
        "tms",
        "zoom_offset"
       ],
       "url": "https://wxs.ign.fr/orthohisto/geoportail/wmts?REQUEST=GetTile&SERVICE=WMTS&VERSION=1.0.0&STYLE=normal&TILEMATRIXSET=PM&FORMAT=image/jpeg&LAYER=ORTHOIMAGERY.ORTHOPHOTOS.IRC-EXPRESS.2020&TILEMATRIX={z}&TILEROW={y}&TILECOL={x}"
      }
     },
     "60f207da72724dd2b6e50160153f4031": {
      "model_module": "jupyter-leaflet",
      "model_module_version": "^0.17",
      "model_name": "LeafletTileLayerModel",
      "state": {
       "_model_module_version": "^0.17",
       "_view_module_version": "^0.17",
       "attribution": "Geoportail France",
       "max_zoom": 19,
       "name": "GeoportailFrance.Orthoimagery_Orthophotos_Irc_2019",
       "options": [
        "attribution",
        "bounds",
        "detect_retina",
        "max_native_zoom",
        "max_zoom",
        "min_native_zoom",
        "min_zoom",
        "no_wrap",
        "tile_size",
        "tms",
        "zoom_offset"
       ],
       "url": "https://wxs.ign.fr/orthohisto/geoportail/wmts?REQUEST=GetTile&SERVICE=WMTS&VERSION=1.0.0&STYLE=normal&TILEMATRIXSET=PM&FORMAT=image/jpeg&LAYER=ORTHOIMAGERY.ORTHOPHOTOS.IRC.2019&TILEMATRIX={z}&TILEROW={y}&TILECOL={x}"
      }
     },
     "616bbb3f6f074f8a94ef0edb6c8162fc": {
      "model_module": "jupyter-leaflet",
      "model_module_version": "^0.17",
      "model_name": "LeafletTileLayerModel",
      "state": {
       "_model_module_version": "^0.17",
       "_view_module_version": "^0.17",
       "attribution": "Geoportail France",
       "max_zoom": 13,
       "name": "GeoportailFrance.Landcover_Grid_Clc00",
       "options": [
        "attribution",
        "bounds",
        "detect_retina",
        "max_native_zoom",
        "max_zoom",
        "min_native_zoom",
        "min_zoom",
        "no_wrap",
        "tile_size",
        "tms",
        "zoom_offset"
       ],
       "url": "https://wxs.ign.fr/clc/geoportail/wmts?REQUEST=GetTile&SERVICE=WMTS&VERSION=1.0.0&STYLE=CORINE Land Cover&TILEMATRIXSET=PM&FORMAT=image/png&LAYER=LANDCOVER.GRID.CLC00&TILEMATRIX={z}&TILEROW={y}&TILECOL={x}"
      }
     },
     "616da1ed6cd349cc900b3b40ef897c54": {
      "model_module": "jupyter-leaflet",
      "model_module_version": "^0.17",
      "model_name": "LeafletTileLayerModel",
      "state": {
       "_model_module_version": "^0.17",
       "_view_module_version": "^0.17",
       "attribution": "Geoportail France",
       "name": "GeoportailFrance.Ocsge_Visu_2016",
       "options": [
        "attribution",
        "bounds",
        "detect_retina",
        "max_native_zoom",
        "max_zoom",
        "min_native_zoom",
        "min_zoom",
        "no_wrap",
        "tile_size",
        "tms",
        "zoom_offset"
       ],
       "url": "https://wxs.ign.fr/ocsge/geoportail/wmts?REQUEST=GetTile&SERVICE=WMTS&VERSION=1.0.0&STYLE=nolegend&TILEMATRIXSET=PM&FORMAT=image/png&LAYER=OCSGE.VISU.2016&TILEMATRIX={z}&TILEROW={y}&TILECOL={x}"
      }
     },
     "6220cd526ab14768b7c0186faf783892": {
      "model_module": "@jupyter-widgets/controls",
      "model_module_version": "1.5.0",
      "model_name": "ToggleButtonModel",
      "state": {
       "icon": "wrench",
       "layout": "IPY_MODEL_5f596053ac1248bb9af3bd445a9c0ab3",
       "style": "IPY_MODEL_a41a3e570dd1441fa47a59ec598736e1",
       "tooltip": "Toolbar"
      }
     },
     "6228bfb471004ec3b4fb199f853c909c": {
      "model_module": "jupyter-leaflet",
      "model_module_version": "^0.17",
      "model_name": "LeafletTileLayerModel",
      "state": {
       "_model_module_version": "^0.17",
       "_view_module_version": "^0.17",
       "attribution": "Geoportail France",
       "max_zoom": 17,
       "name": "GeoportailFrance.Elevation_Elevationgridcoverage_Threshold",
       "options": [
        "attribution",
        "bounds",
        "detect_retina",
        "max_native_zoom",
        "max_zoom",
        "min_native_zoom",
        "min_zoom",
        "no_wrap",
        "tile_size",
        "tms",
        "zoom_offset"
       ],
       "url": "https://wxs.ign.fr/altimetrie/geoportail/wmts?REQUEST=GetTile&SERVICE=WMTS&VERSION=1.0.0&STYLE=ELEVATION.ELEVATIONGRIDCOVERAGE.THRESHOLD&TILEMATRIXSET=PM&FORMAT=image/png&LAYER=ELEVATION.ELEVATIONGRIDCOVERAGE.THRESHOLD&TILEMATRIX={z}&TILEROW={y}&TILECOL={x}"
      }
     },
     "623d0ec6aebb4a86a7ffe5858deb20a6": {
      "model_module": "jupyter-leaflet",
      "model_module_version": "^0.17",
      "model_name": "LeafletTileLayerModel",
      "state": {
       "_model_module_version": "^0.17",
       "_view_module_version": "^0.17",
       "attribution": "Geoportail France",
       "max_zoom": 19,
       "name": "GeoportailFrance.Orthoimagery_Orthophotos_Ilesdunord",
       "options": [
        "attribution",
        "bounds",
        "detect_retina",
        "max_native_zoom",
        "max_zoom",
        "min_native_zoom",
        "min_zoom",
        "no_wrap",
        "tile_size",
        "tms",
        "zoom_offset"
       ],
       "url": "https://wxs.ign.fr/ortho/geoportail/wmts?REQUEST=GetTile&SERVICE=WMTS&VERSION=1.0.0&STYLE=normal&TILEMATRIXSET=PM&FORMAT=image/png&LAYER=ORTHOIMAGERY.ORTHOPHOTOS.ILESDUNORD&TILEMATRIX={z}&TILEROW={y}&TILECOL={x}"
      }
     },
     "626a71a8e37d4225a88616b10ed7ff17": {
      "model_module": "jupyter-leaflet",
      "model_module_version": "^0.17",
      "model_name": "LeafletWMSLayerModel",
      "state": {
       "_model_module_version": "^0.17",
       "_view_module_version": "^0.17",
       "attribution": "FWS",
       "crs": {
        "custom": false,
        "name": "EPSG3857"
       },
       "format": "image/png",
       "layers": "1",
       "name": "FWS NWI Wetlands",
       "options": [
        "attribution",
        "bounds",
        "detect_retina",
        "format",
        "layers",
        "max_native_zoom",
        "max_zoom",
        "min_native_zoom",
        "min_zoom",
        "no_wrap",
        "styles",
        "tile_size",
        "tms",
        "transparent",
        "uppercase",
        "zoom_offset"
       ],
       "transparent": true,
       "url": "https://www.fws.gov/wetlands/arcgis/services/Wetlands/MapServer/WMSServer?"
      }
     },
     "62c783501168412a9514446870c51ae0": {
      "model_module": "@jupyter-widgets/controls",
      "model_module_version": "1.5.0",
      "model_name": "ToggleButtonModel",
      "state": {
       "button_style": "primary",
       "icon": "question",
       "layout": "IPY_MODEL_31b24b6784364a2bbec8fd7e619fa872",
       "style": "IPY_MODEL_0c02827b5a6242a789f29c265cc787ce",
       "tooltip": "Get help"
      }
     },
     "63c4daeacb9040cca067c6641b2ade45": {
      "model_module": "jupyter-leaflet",
      "model_module_version": "^0.17",
      "model_name": "LeafletTileLayerModel",
      "state": {
       "_model_module_version": "^0.17",
       "_view_module_version": "^0.17",
       "attribution": "Geoportail France",
       "name": "GeoportailFrance.Orthoimagery_Orthophotos2000",
       "options": [
        "attribution",
        "bounds",
        "detect_retina",
        "max_native_zoom",
        "max_zoom",
        "min_native_zoom",
        "min_zoom",
        "no_wrap",
        "tile_size",
        "tms",
        "zoom_offset"
       ],
       "url": "https://wxs.ign.fr/orthohisto/geoportail/wmts?REQUEST=GetTile&SERVICE=WMTS&VERSION=1.0.0&STYLE=normal&TILEMATRIXSET=PM&FORMAT=image/jpeg&LAYER=ORTHOIMAGERY.ORTHOPHOTOS2000&TILEMATRIX={z}&TILEROW={y}&TILECOL={x}"
      }
     },
     "6453fce52662430ca49bbbc4c58c1007": {
      "model_module": "@jupyter-widgets/controls",
      "model_module_version": "1.5.0",
      "model_name": "ToggleButtonModel",
      "state": {
       "icon": "server",
       "layout": "IPY_MODEL_88c892c2f2f94adf914e0f089808849a",
       "style": "IPY_MODEL_a002f90625b44ef3ad20ee443722c464",
       "tooltip": "Layers"
      }
     },
     "64f28d4ad975434ea1e4b0f9b35b0054": {
      "model_module": "@jupyter-widgets/controls",
      "model_module_version": "1.5.0",
      "model_name": "VBoxModel",
      "state": {
       "children": [
        "IPY_MODEL_45f6e47a511b4b1e95099bbb9a7ca7fc",
        "IPY_MODEL_92e3d00f9bfe4e4e98a385ef5bfde294",
        "IPY_MODEL_154a1aebedb44dd3a15fa3a62bfa0f86"
       ],
       "layout": "IPY_MODEL_8d4ba289ccf44f4388fe14674cd44600"
      }
     },
     "65268c87e73f4e2486324fa0b7d4ce01": {
      "model_module": "jupyter-leaflet",
      "model_module_version": "^0.17",
      "model_name": "LeafletTileLayerModel",
      "state": {
       "_model_module_version": "^0.17",
       "_view_module_version": "^0.17",
       "attribution": "Imagery provided by services from the Global Imagery Browse Services (GIBS), operated by the NASA/GSFC/Earth Science Data and Information System (ESDIS) with funding provided by NASA/HQ.",
       "max_zoom": 12,
       "name": "NASAGIBS.ASTER_GDEM_Greyscale_Shaded_Relief",
       "options": [
        "attribution",
        "bounds",
        "detect_retina",
        "max_native_zoom",
        "max_zoom",
        "min_native_zoom",
        "min_zoom",
        "no_wrap",
        "tile_size",
        "tms",
        "zoom_offset"
       ],
       "url": "https://gibs.earthdata.nasa.gov/wmts/epsg3857/best/ASTER_GDEM_Greyscale_Shaded_Relief/default/GoogleMapsCompatible_Level12/{z}/{y}/{x}.jpg"
      }
     },
     "655b1e0cf7f64b5195427ac17cf85351": {
      "model_module": "jupyter-leaflet",
      "model_module_version": "^0.17",
      "model_name": "LeafletTileLayerModel",
      "state": {
       "_model_module_version": "^0.17",
       "_view_module_version": "^0.17",
       "attribution": "Tiles &copy; Esri &mdash; Esri, DeLorme, NAVTEQ, TomTom, Intermap, iPC, USGS, FAO, NPS, NRCAN, GeoBase, Kadaster NL, Ordnance Survey, Esri Japan, METI, Esri China (Hong Kong), and the GIS User Community",
       "max_zoom": 24,
       "name": "Esri.ArcticOceanReference",
       "options": [
        "attribution",
        "bounds",
        "detect_retina",
        "max_native_zoom",
        "max_zoom",
        "min_native_zoom",
        "min_zoom",
        "no_wrap",
        "tile_size",
        "tms",
        "zoom_offset"
       ],
       "url": "http://server.arcgisonline.com/ArcGIS/rest/services/Polar/Arctic_Ocean_Reference/MapServer/tile/{z}/{y}/{x}"
      }
     },
     "65aa710d8cf8449cbc67081b4ad7c9df": {
      "model_module": "jupyter-leaflet",
      "model_module_version": "^0.17",
      "model_name": "LeafletTileLayerModel",
      "state": {
       "_model_module_version": "^0.17",
       "_view_module_version": "^0.17",
       "attribution": "Geoportail France",
       "max_zoom": 13,
       "name": "GeoportailFrance.Landcover_Hr_Tcd_Clc15",
       "options": [
        "attribution",
        "bounds",
        "detect_retina",
        "max_native_zoom",
        "max_zoom",
        "min_native_zoom",
        "min_zoom",
        "no_wrap",
        "tile_size",
        "tms",
        "zoom_offset"
       ],
       "url": "https://wxs.ign.fr/clc/geoportail/wmts?REQUEST=GetTile&SERVICE=WMTS&VERSION=1.0.0&STYLE=CORINE Land Cover - HR - taux de couvert arboré&TILEMATRIXSET=PM&FORMAT=image/png&LAYER=LANDCOVER.HR.TCD.CLC15&TILEMATRIX={z}&TILEROW={y}&TILECOL={x}"
      }
     },
     "65aa82a8736b4f6186520ceed07be3e3": {
      "model_module": "jupyter-leaflet",
      "model_module_version": "^0.17",
      "model_name": "LeafletTileLayerModel",
      "state": {
       "_model_module_version": "^0.17",
       "_view_module_version": "^0.17",
       "attribution": "Geoportail France",
       "max_zoom": 8,
       "name": "GeoportailFrance.Geographicalgridsystems_Maps_Overview",
       "options": [
        "attribution",
        "bounds",
        "detect_retina",
        "max_native_zoom",
        "max_zoom",
        "min_native_zoom",
        "min_zoom",
        "no_wrap",
        "tile_size",
        "tms",
        "zoom_offset"
       ],
       "url": "https://wxs.ign.fr/cartes/geoportail/wmts?REQUEST=GetTile&SERVICE=WMTS&VERSION=1.0.0&STYLE=normal&TILEMATRIXSET=PM&FORMAT=image/jpeg&LAYER=GEOGRAPHICALGRIDSYSTEMS.MAPS.OVERVIEW&TILEMATRIX={z}&TILEROW={y}&TILECOL={x}"
      }
     },
     "669c8fec06104eae94ea44d9dbc3bbf1": {
      "model_module": "jupyter-leaflet",
      "model_module_version": "^0.17",
      "model_name": "LeafletTileLayerModel",
      "state": {
       "_model_module_version": "^0.17",
       "_view_module_version": "^0.17",
       "attribution": "Geoportail France",
       "max_zoom": 17,
       "name": "GeoportailFrance.Securoute_Te_All",
       "options": [
        "attribution",
        "bounds",
        "detect_retina",
        "max_native_zoom",
        "max_zoom",
        "min_native_zoom",
        "min_zoom",
        "no_wrap",
        "tile_size",
        "tms",
        "zoom_offset"
       ],
       "url": "https://wxs.ign.fr/transports/geoportail/wmts?REQUEST=GetTile&SERVICE=WMTS&VERSION=1.0.0&STYLE=TOUS LES FRANCHISSEMENTS&TILEMATRIXSET=PM&FORMAT=image/png&LAYER=SECUROUTE.TE.ALL&TILEMATRIX={z}&TILEROW={y}&TILECOL={x}"
      }
     },
     "66c20ceb20aa4f5994c9728d62d22fd8": {
      "model_module": "jupyter-leaflet",
      "model_module_version": "^0.17",
      "model_name": "LeafletTileLayerModel",
      "state": {
       "_model_module_version": "^0.17",
       "_view_module_version": "^0.17",
       "attribution": "Geoportail France",
       "max_zoom": 16,
       "name": "GeoportailFrance.Protectedareas_Mnhn_Rn_Perimeter",
       "options": [
        "attribution",
        "bounds",
        "detect_retina",
        "max_native_zoom",
        "max_zoom",
        "min_native_zoom",
        "min_zoom",
        "no_wrap",
        "tile_size",
        "tms",
        "zoom_offset"
       ],
       "url": "https://wxs.ign.fr/environnement/geoportail/wmts?REQUEST=GetTile&SERVICE=WMTS&VERSION=1.0.0&STYLE=normal&TILEMATRIXSET=PM&FORMAT=image/png&LAYER=PROTECTEDAREAS.MNHN.RN.PERIMETER&TILEMATRIX={z}&TILEROW={y}&TILECOL={x}"
      }
     },
     "66eab1da55f840d18351cfc193c46ea9": {
      "model_module": "jupyter-leaflet",
      "model_module_version": "^0.17",
      "model_name": "LeafletTileLayerModel",
      "state": {
       "_model_module_version": "^0.17",
       "_view_module_version": "^0.17",
       "attribution": "(C) Stadia Maps, (C) OpenMapTiles (C) OpenStreetMap contributors",
       "max_zoom": 20,
       "name": "Stadia.Outdoors",
       "options": [
        "attribution",
        "bounds",
        "detect_retina",
        "max_native_zoom",
        "max_zoom",
        "min_native_zoom",
        "min_zoom",
        "no_wrap",
        "tile_size",
        "tms",
        "zoom_offset"
       ],
       "url": "https://tiles.stadiamaps.com/tiles/outdoors/{z}/{x}/{y}.png"
      }
     },
     "6726b79d475b4a73979e4602afd57bf6": {
      "model_module": "@jupyter-widgets/base",
      "model_module_version": "1.2.0",
      "model_name": "LayoutModel",
      "state": {
       "height": "600px",
       "width": "100%"
      }
     },
     "67a1850678b64f7ea2b751ae4c3beb3f": {
      "model_module": "jupyter-leaflet",
      "model_module_version": "^0.17",
      "model_name": "LeafletGeoJSONModel",
      "state": {
       "_model_module_version": "^0.17",
       "_view_module_version": "^0.17",
       "data": {
        "features": [
         {
          "geometry": {
           "coordinates": [
            [
             [
              -124.158794,
              40.91514
             ],
             [
              -124.158794,
              40.942117
             ],
             [
              -124.114854,
              40.942117
             ],
             [
              -124.114854,
              40.91514
             ],
             [
              -124.158794,
              40.91514
             ]
            ]
           ],
           "type": "Polygon"
          },
          "id": "2",
          "properties": {
           "id": "3",
           "style": {
            "color": "blue",
            "fillColor": "blue",
            "fillOpacity": 0.1,
            "weight": 2
           }
          },
          "type": "Feature"
         }
        ],
        "type": "FeatureCollection"
       },
       "hover_style": {
        "color": "aqua",
        "fillColor": "blue",
        "fillOpacity": 0.1
       },
       "name": "selected ROIs"
      }
     },
     "686d8625879e4bc68e89e7db5f453d98": {
      "model_module": "jupyter-leaflet",
      "model_module_version": "^0.17",
      "model_name": "LeafletTileLayerModel",
      "state": {
       "_model_module_version": "^0.17",
       "_view_module_version": "^0.17",
       "attribution": "Geoportail France",
       "max_zoom": 12,
       "name": "GeoportailFrance.Landcover_Grid_Clc00_dom",
       "options": [
        "attribution",
        "bounds",
        "detect_retina",
        "max_native_zoom",
        "max_zoom",
        "min_native_zoom",
        "min_zoom",
        "no_wrap",
        "tile_size",
        "tms",
        "zoom_offset"
       ],
       "url": "https://wxs.ign.fr/clc/geoportail/wmts?REQUEST=GetTile&SERVICE=WMTS&VERSION=1.0.0&STYLE=CORINE Land Cover - DOM&TILEMATRIXSET=PM&FORMAT=image/png&LAYER=LANDCOVER.GRID.CLC00_DOM&TILEMATRIX={z}&TILEROW={y}&TILECOL={x}"
      }
     },
     "6889bdb809cb4fa995d3b6452d800441": {
      "model_module": "jupyter-leaflet",
      "model_module_version": "^0.17",
      "model_name": "LeafletWidgetControlModel",
      "state": {
       "_model_module": "jupyter-leaflet",
       "_model_module_version": "^0.17",
       "_view_count": null,
       "_view_module": "jupyter-leaflet",
       "_view_module_version": "^0.17",
       "options": [
        "position",
        "transparent_bg"
       ],
       "position": "topright",
       "widget": "IPY_MODEL_c30788b2c0004d7b8380fd74f054d851"
      }
     },
     "698a51d7ce724bcd85a48481e3a79fb2": {
      "model_module": "@jupyter-widgets/controls",
      "model_module_version": "1.5.0",
      "model_name": "HBoxModel",
      "state": {
       "children": [
        "IPY_MODEL_f66eea5ef59b4d7c898c23edbcbc8557",
        "IPY_MODEL_a4d004f1a58a4c599cc802be7215f87e"
       ],
       "layout": "IPY_MODEL_7e972e37c725419aa03cbe9639601f4c"
      }
     },
     "69f4cbe891fc407f83b62a87dfd22915": {
      "model_module": "jupyter-leaflet",
      "model_module_version": "^0.17",
      "model_name": "LeafletTileLayerModel",
      "state": {
       "_model_module_version": "^0.17",
       "_view_module_version": "^0.17",
       "attribution": "Geoportail France",
       "name": "GeoportailFrance.Orthoimagery_Orthophotos2016",
       "options": [
        "attribution",
        "bounds",
        "detect_retina",
        "max_native_zoom",
        "max_zoom",
        "min_native_zoom",
        "min_zoom",
        "no_wrap",
        "tile_size",
        "tms",
        "zoom_offset"
       ],
       "url": "https://wxs.ign.fr/orthohisto/geoportail/wmts?REQUEST=GetTile&SERVICE=WMTS&VERSION=1.0.0&STYLE=normal&TILEMATRIXSET=PM&FORMAT=image/jpeg&LAYER=ORTHOIMAGERY.ORTHOPHOTOS2016&TILEMATRIX={z}&TILEROW={y}&TILECOL={x}"
      }
     },
     "6abb5ab796fc4876810a02072ca4a3b9": {
      "model_module": "jupyter-leaflet",
      "model_module_version": "^0.17",
      "model_name": "LeafletMapStyleModel",
      "state": {
       "_model_module_version": "^0.17"
      }
     },
     "6b10b819f4184d688da5e9f00ca25f66": {
      "model_module": "jupyter-leaflet",
      "model_module_version": "^0.17",
      "model_name": "LeafletGeoJSONModel",
      "state": {
       "_model_module_version": "^0.17",
       "_view_module_version": "^0.17",
       "data": {
        "features": [
         {
          "geometry": {
           "coordinates": [
            [
             [
              -124.158794,
              40.91514
             ],
             [
              -124.158794,
              40.942117
             ],
             [
              -124.114854,
              40.942117
             ],
             [
              -124.114854,
              40.91514
             ],
             [
              -124.158794,
              40.91514
             ]
            ]
           ],
           "type": "Polygon"
          },
          "id": "2",
          "properties": {
           "id": "3",
           "style": {
            "color": "blue",
            "fillColor": "blue",
            "fillOpacity": 0.1,
            "weight": 2
           }
          },
          "type": "Feature"
         },
         {
          "geometry": {
           "coordinates": [
            [
             [
              -124.14163,
              40.960269
             ],
             [
              -124.14163,
              40.991374
             ],
             [
              -124.105242,
              40.991374
             ],
             [
              -124.105242,
              40.960269
             ],
             [
              -124.14163,
              40.960269
             ]
            ]
           ],
           "type": "Polygon"
          },
          "id": "3",
          "properties": {
           "id": "4",
           "style": {
            "color": "blue",
            "fillColor": "blue",
            "fillOpacity": 0.1,
            "weight": 2
           }
          },
          "type": "Feature"
         }
        ],
        "type": "FeatureCollection"
       },
       "hover_style": {
        "color": "aqua",
        "fillColor": "blue",
        "fillOpacity": 0.1
       },
       "name": "selected ROIs"
      }
     },
     "6b111786e47947ac8b3b41ad2f172afe": {
      "model_module": "jupyter-leaflet",
      "model_module_version": "^0.17",
      "model_name": "LeafletWMSLayerModel",
      "state": {
       "_model_module_version": "^0.17",
       "_view_module_version": "^0.17",
       "attribution": "ESA",
       "crs": {
        "custom": false,
        "name": "EPSG3857"
       },
       "format": "image/png",
       "layers": "WORLDCOVER_2020_MAP",
       "name": "ESA Worldcover 2020",
       "options": [
        "attribution",
        "bounds",
        "detect_retina",
        "format",
        "layers",
        "max_native_zoom",
        "max_zoom",
        "min_native_zoom",
        "min_zoom",
        "no_wrap",
        "styles",
        "tile_size",
        "tms",
        "transparent",
        "uppercase",
        "zoom_offset"
       ],
       "transparent": true,
       "url": "https://services.terrascope.be/wms/v2"
      }
     },
     "6b6d5f1c87134d0b990cddc9e6c6b721": {
      "model_module": "jupyter-leaflet",
      "model_module_version": "^0.17",
      "model_name": "LeafletTileLayerModel",
      "state": {
       "_model_module_version": "^0.17",
       "_view_module_version": "^0.17",
       "attribution": "Geoportail France",
       "max_zoom": 13,
       "name": "GeoportailFrance.Landcover_Grid_Clc00r_fr",
       "options": [
        "attribution",
        "bounds",
        "detect_retina",
        "max_native_zoom",
        "max_zoom",
        "min_native_zoom",
        "min_zoom",
        "no_wrap",
        "tile_size",
        "tms",
        "zoom_offset"
       ],
       "url": "https://wxs.ign.fr/clc/geoportail/wmts?REQUEST=GetTile&SERVICE=WMTS&VERSION=1.0.0&STYLE=CORINE Land Cover - France métropolitaine&TILEMATRIXSET=PM&FORMAT=image/png&LAYER=LANDCOVER.GRID.CLC00R_FR&TILEMATRIX={z}&TILEROW={y}&TILECOL={x}"
      }
     },
     "6c4fe5d8b464449aa950994613697fc7": {
      "model_module": "jupyter-leaflet",
      "model_module_version": "^0.17",
      "model_name": "LeafletTileLayerModel",
      "state": {
       "_model_module_version": "^0.17",
       "_view_module_version": "^0.17",
       "attribution": "© swisstopo",
       "name": "SwissFederalGeoportal.NationalMapGrey",
       "options": [
        "attribution",
        "bounds",
        "detect_retina",
        "max_native_zoom",
        "max_zoom",
        "min_native_zoom",
        "min_zoom",
        "no_wrap",
        "tile_size",
        "tms",
        "zoom_offset"
       ],
       "url": "https://wmts.geo.admin.ch/1.0.0/ch.swisstopo.pixelkarte-grau/default/current/3857/{z}/{x}/{y}.jpeg"
      }
     },
     "6c6eab2dd9124d25875fff8f76754c7e": {
      "model_module": "jupyter-leaflet",
      "model_module_version": "^0.17",
      "model_name": "LeafletGeoJSONModel",
      "state": {
       "_model_module_version": "^0.17",
       "_view_module_version": "^0.17",
       "data": {
        "features": [
         {
          "geometry": {
           "coordinates": [
            [
             [
              -124.187964,
              40.842013
             ],
             [
              -124.187964,
              40.880183
             ],
             [
              -124.134928,
              40.880183
             ],
             [
              -124.134928,
              40.842013
             ],
             [
              -124.187964,
              40.842013
             ]
            ]
           ],
           "type": "Polygon"
          },
          "id": "0",
          "properties": {
           "id": "1",
           "style": {
            "color": "#555555",
            "fillOpacity": 0.1,
            "fill_color": "#555555",
            "weight": 1
           }
          },
          "type": "Feature"
         },
         {
          "geometry": {
           "coordinates": [
            [
             [
              -124.195516,
              40.819283
             ],
             [
              -124.195516,
              40.836429
             ],
             [
              -124.173375,
              40.836429
             ],
             [
              -124.173375,
              40.819283
             ],
             [
              -124.195516,
              40.819283
             ]
            ]
           ],
           "type": "Polygon"
          },
          "id": "1",
          "properties": {
           "id": "2",
           "style": {
            "color": "#555555",
            "fillOpacity": 0.1,
            "fill_color": "#555555",
            "weight": 1
           }
          },
          "type": "Feature"
         },
         {
          "geometry": {
           "coordinates": [
            [
             [
              -124.158794,
              40.91514
             ],
             [
              -124.158794,
              40.942117
             ],
             [
              -124.114854,
              40.942117
             ],
             [
              -124.114854,
              40.91514
             ],
             [
              -124.158794,
              40.91514
             ]
            ]
           ],
           "type": "Polygon"
          },
          "id": "2",
          "properties": {
           "id": "3",
           "style": {
            "color": "#555555",
            "fillOpacity": 0.1,
            "fill_color": "#555555",
            "weight": 1
           }
          },
          "type": "Feature"
         },
         {
          "geometry": {
           "coordinates": [
            [
             [
              -124.14163,
              40.960269
             ],
             [
              -124.14163,
              40.991374
             ],
             [
              -124.105242,
              40.991374
             ],
             [
              -124.105242,
              40.960269
             ],
             [
              -124.14163,
              40.960269
             ]
            ]
           ],
           "type": "Polygon"
          },
          "id": "3",
          "properties": {
           "id": "4",
           "style": {
            "color": "#555555",
            "fillOpacity": 0.1,
            "fill_color": "#555555",
            "weight": 1
           }
          },
          "type": "Feature"
         }
        ],
        "type": "FeatureCollection"
       },
       "hover_style": {
        "color": "yellow",
        "fillOpacity": 0.1
       },
       "name": "ROI",
       "style": {
        "color": "#555555",
        "fillOpacity": 0.1,
        "fill_color": "#555555",
        "weight": 1
       }
      }
     },
     "6c8145fefa8741c5ae2e6d6cf5a66279": {
      "model_module": "jupyter-leaflet",
      "model_module_version": "^0.17",
      "model_name": "LeafletTileLayerModel",
      "state": {
       "_model_module_version": "^0.17",
       "_view_module_version": "^0.17",
       "attribution": "Geoportail France",
       "max_zoom": 19,
       "name": "GeoportailFrance.Orthoimagery_Orthophotos_Irc_express_2019",
       "options": [
        "attribution",
        "bounds",
        "detect_retina",
        "max_native_zoom",
        "max_zoom",
        "min_native_zoom",
        "min_zoom",
        "no_wrap",
        "tile_size",
        "tms",
        "zoom_offset"
       ],
       "url": "https://wxs.ign.fr/orthohisto/geoportail/wmts?REQUEST=GetTile&SERVICE=WMTS&VERSION=1.0.0&STYLE=normal&TILEMATRIXSET=PM&FORMAT=image/jpeg&LAYER=ORTHOIMAGERY.ORTHOPHOTOS.IRC-EXPRESS.2019&TILEMATRIX={z}&TILEROW={y}&TILECOL={x}"
      }
     },
     "6d861192887443389d4c2de126605845": {
      "model_module": "jupyter-leaflet",
      "model_module_version": "^0.17",
      "model_name": "LeafletTileLayerModel",
      "state": {
       "_model_module_version": "^0.17",
       "_view_module_version": "^0.17",
       "attribution": "Geoportail France",
       "name": "GeoportailFrance.Orthoimagery_Ortho_sat_Pleiades_2020",
       "options": [
        "attribution",
        "bounds",
        "detect_retina",
        "max_native_zoom",
        "max_zoom",
        "min_native_zoom",
        "min_zoom",
        "no_wrap",
        "tile_size",
        "tms",
        "zoom_offset"
       ],
       "url": "https://wxs.ign.fr/satellite/geoportail/wmts?REQUEST=GetTile&SERVICE=WMTS&VERSION=1.0.0&STYLE=normal&TILEMATRIXSET=PM&FORMAT=image/png&LAYER=ORTHOIMAGERY.ORTHO-SAT.PLEIADES.2020&TILEMATRIX={z}&TILEROW={y}&TILECOL={x}"
      }
     },
     "6db0c29da36f45cdb131a40c1cda863e": {
      "model_module": "jupyter-leaflet",
      "model_module_version": "^0.17",
      "model_name": "LeafletTileLayerModel",
      "state": {
       "_model_module_version": "^0.17",
       "_view_module_version": "^0.17",
       "attribution": "Justice Map",
       "max_zoom": 22,
       "name": "JusticeMap.hispanic",
       "options": [
        "attribution",
        "bounds",
        "detect_retina",
        "max_native_zoom",
        "max_zoom",
        "min_native_zoom",
        "min_zoom",
        "no_wrap",
        "tile_size",
        "tms",
        "zoom_offset"
       ],
       "url": "https://www.justicemap.org/tile/county/hispanic/{z}/{x}/{y}.png"
      }
     },
     "6e2d2e57cb5b4614afa7a8c87f80adf4": {
      "model_module": "jupyter-leaflet",
      "model_module_version": "^0.17",
      "model_name": "LeafletTileLayerModel",
      "state": {
       "_model_module_version": "^0.17",
       "_view_module_version": "^0.17",
       "attribution": "Kaartgegevens (C) Kadaster",
       "max_zoom": 19,
       "name": "nlmaps.standaard",
       "options": [
        "attribution",
        "bounds",
        "detect_retina",
        "max_native_zoom",
        "max_zoom",
        "min_native_zoom",
        "min_zoom",
        "no_wrap",
        "tile_size",
        "tms",
        "zoom_offset"
       ],
       "url": "https://service.pdok.nl/brt/achtergrondkaart/wmts/v2_0/standaard/EPSG:3857/{z}/{x}/{y}.png"
      }
     },
     "6f031c07593f48a7af6bb95078a9a1f5": {
      "model_module": "jupyter-leaflet",
      "model_module_version": "^0.17",
      "model_name": "LeafletTileLayerModel",
      "state": {
       "_model_module_version": "^0.17",
       "_view_module_version": "^0.17",
       "attribution": "Geoportail France",
       "name": "GeoportailFrance.Orthoimagery_Orthophotos2015",
       "options": [
        "attribution",
        "bounds",
        "detect_retina",
        "max_native_zoom",
        "max_zoom",
        "min_native_zoom",
        "min_zoom",
        "no_wrap",
        "tile_size",
        "tms",
        "zoom_offset"
       ],
       "url": "https://wxs.ign.fr/orthohisto/geoportail/wmts?REQUEST=GetTile&SERVICE=WMTS&VERSION=1.0.0&STYLE=normal&TILEMATRIXSET=PM&FORMAT=image/jpeg&LAYER=ORTHOIMAGERY.ORTHOPHOTOS2015&TILEMATRIX={z}&TILEROW={y}&TILECOL={x}"
      }
     },
     "6f58425fd4314a2bb66c1e32b42157a5": {
      "model_module": "jupyter-leaflet",
      "model_module_version": "^0.17",
      "model_name": "LeafletTileLayerModel",
      "state": {
       "_model_module_version": "^0.17",
       "_view_module_version": "^0.17",
       "attribution": "Geoportail France",
       "max_zoom": 16,
       "name": "GeoportailFrance.Insee_Filosofi_Part_Menages_Maison_Secret",
       "options": [
        "attribution",
        "bounds",
        "detect_retina",
        "max_native_zoom",
        "max_zoom",
        "min_native_zoom",
        "min_zoom",
        "no_wrap",
        "tile_size",
        "tms",
        "zoom_offset"
       ],
       "url": "https://wxs.ign.fr/economie/geoportail/wmts?REQUEST=GetTile&SERVICE=WMTS&VERSION=1.0.0&STYLE=INSEE&TILEMATRIXSET=PM&FORMAT=image/png&LAYER=INSEE.FILOSOFI.PART.MENAGES.MAISON.SECRET&TILEMATRIX={z}&TILEROW={y}&TILECOL={x}"
      }
     },
     "705e6f205c854d25abfabc2e36b12ba9": {
      "model_module": "@jupyter-widgets/base",
      "model_module_version": "1.2.0",
      "model_name": "LayoutModel",
      "state": {
       "padding": "0px"
      }
     },
     "70d81b8423074934849da402ea867615": {
      "model_module": "jupyter-leaflet",
      "model_module_version": "^0.17",
      "model_name": "LeafletTileLayerModel",
      "state": {
       "_model_module_version": "^0.17",
       "_view_module_version": "^0.17",
       "attribution": "(C) OpenStreetMap contributors (C) CARTO",
       "max_zoom": 20,
       "name": "CartoDB.DarkMatterOnlyLabels",
       "options": [
        "attribution",
        "bounds",
        "detect_retina",
        "max_native_zoom",
        "max_zoom",
        "min_native_zoom",
        "min_zoom",
        "no_wrap",
        "tile_size",
        "tms",
        "zoom_offset"
       ],
       "url": "https://a.basemaps.cartocdn.com/dark_only_labels/{z}/{x}/{y}.png"
      }
     },
     "70ef3e105b9d4c7685c659b301236443": {
      "model_module": "jupyter-leaflet",
      "model_module_version": "^0.17",
      "model_name": "LeafletWidgetControlModel",
      "state": {
       "_model_module": "jupyter-leaflet",
       "_model_module_version": "^0.17",
       "_view_count": null,
       "_view_module": "jupyter-leaflet",
       "_view_module_version": "^0.17",
       "options": [
        "position",
        "transparent_bg"
       ],
       "position": "topright",
       "widget": "IPY_MODEL_7a00dd6803534ebf9ca6ee554b7e5865"
      }
     },
     "70fddc5a5b6444fb894da3fe762cdc3e": {
      "model_module": "jupyter-leaflet",
      "model_module_version": "^0.17",
      "model_name": "LeafletTileLayerModel",
      "state": {
       "_model_module_version": "^0.17",
       "_view_module_version": "^0.17",
       "attribution": "Justice Map",
       "max_zoom": 22,
       "name": "JusticeMap.black",
       "options": [
        "attribution",
        "bounds",
        "detect_retina",
        "max_native_zoom",
        "max_zoom",
        "min_native_zoom",
        "min_zoom",
        "no_wrap",
        "tile_size",
        "tms",
        "zoom_offset"
       ],
       "url": "https://www.justicemap.org/tile/county/black/{z}/{x}/{y}.png"
      }
     },
     "710013d0903a4e8a8958052a11e12e1f": {
      "model_module": "jupyter-leaflet",
      "model_module_version": "^0.17",
      "model_name": "LeafletTileLayerModel",
      "state": {
       "_model_module_version": "^0.17",
       "_view_module_version": "^0.17",
       "attribution": "Map tiles by <a href=\"https://labs.strava.com/heatmap\">Strava 2021</a>",
       "max_zoom": 15,
       "name": "Strava.All",
       "options": [
        "attribution",
        "bounds",
        "detect_retina",
        "max_native_zoom",
        "max_zoom",
        "min_native_zoom",
        "min_zoom",
        "no_wrap",
        "tile_size",
        "tms",
        "zoom_offset"
       ],
       "url": "https://heatmap-external-a.strava.com/tiles/all/hot/{z}/{x}/{y}.png"
      }
     },
     "714b461b401b4e35b34ccc36ddcf49d8": {
      "model_module": "@jupyter-widgets/controls",
      "model_module_version": "1.5.0",
      "model_name": "DescriptionStyleModel",
      "state": {
       "description_width": ""
      }
     },
     "71b3435f6b68430988cf631dd1184897": {
      "model_module": "jupyter-leaflet",
      "model_module_version": "^0.17",
      "model_name": "LeafletTileLayerModel",
      "state": {
       "_model_module_version": "^0.17",
       "_view_module_version": "^0.17",
       "attribution": "© swisstopo",
       "name": "SwissFederalGeoportal.NationalMapColor",
       "options": [
        "attribution",
        "bounds",
        "detect_retina",
        "max_native_zoom",
        "max_zoom",
        "min_native_zoom",
        "min_zoom",
        "no_wrap",
        "tile_size",
        "tms",
        "zoom_offset"
       ],
       "url": "https://wmts.geo.admin.ch/1.0.0/ch.swisstopo.pixelkarte-farbe/default/current/3857/{z}/{x}/{y}.jpeg"
      }
     },
     "727fb87453824eb4887b04c05f7add6f": {
      "model_module": "@jupyter-widgets/controls",
      "model_module_version": "1.5.0",
      "model_name": "HBoxModel",
      "state": {
       "children": [
        "IPY_MODEL_328f59fcff4a4e779978b047278a7f25",
        "IPY_MODEL_e61e10a18240450184f4f437e4c93a43"
       ],
       "layout": "IPY_MODEL_516b8bccf1f947faae2679787d19b03e"
      }
     },
     "733eb0e65af24a7b88f203da5b598d96": {
      "model_module": "@jupyter-widgets/base",
      "model_module_version": "1.2.0",
      "model_name": "LayoutModel",
      "state": {
       "height": "auto",
       "padding": "0px 0px 0px 4px",
       "width": "auto"
      }
     },
     "7373e873a5854a93af3c4de45cf75843": {
      "model_module": "jupyter-leaflet",
      "model_module_version": "^0.17",
      "model_name": "LeafletGeoJSONModel",
      "state": {
       "_model_module_version": "^0.17",
       "_view_module_version": "^0.17",
       "data": {
        "features": [
         {
          "geometry": {
           "coordinates": [
            [
             [
              -124.158794,
              40.91514
             ],
             [
              -124.158794,
              40.942117
             ],
             [
              -124.114854,
              40.942117
             ],
             [
              -124.114854,
              40.91514
             ],
             [
              -124.158794,
              40.91514
             ]
            ]
           ],
           "type": "Polygon"
          },
          "id": "2",
          "properties": {
           "id": "3",
           "style": {
            "color": "blue",
            "fillColor": "blue",
            "fillOpacity": 0.1,
            "weight": 2
           }
          },
          "type": "Feature"
         },
         {
          "geometry": {
           "coordinates": [
            [
             [
              -124.14163,
              40.960269
             ],
             [
              -124.14163,
              40.991374
             ],
             [
              -124.105242,
              40.991374
             ],
             [
              -124.105242,
              40.960269
             ],
             [
              -124.14163,
              40.960269
             ]
            ]
           ],
           "type": "Polygon"
          },
          "id": "3",
          "properties": {
           "id": "4",
           "style": {
            "color": "blue",
            "fillColor": "blue",
            "fillOpacity": 0.1,
            "weight": 2
           }
          },
          "type": "Feature"
         }
        ],
        "type": "FeatureCollection"
       },
       "hover_style": {
        "color": "aqua",
        "fillColor": "blue",
        "fillOpacity": 0.1
       },
       "name": "selected ROIs"
      }
     },
     "73afc3cb9c2f46fc905420a91ba51ebb": {
      "model_module": "@jupyter-widgets/controls",
      "model_module_version": "1.5.0",
      "model_name": "ButtonStyleModel",
      "state": {
       "button_color": "red"
      }
     },
     "746f9827cff64501ac70f76a11e71ded": {
      "model_module": "@jupyter-widgets/controls",
      "model_module_version": "1.5.0",
      "model_name": "ToggleButtonModel",
      "state": {
       "button_style": "primary",
       "icon": "camera",
       "layout": "IPY_MODEL_5fd2933e9dc54023b7b6972cd66b7f83",
       "style": "IPY_MODEL_1e4a17db75cc44d9b5e6f8a5f1809be4",
       "tooltip": "Save map as HTML or image"
      }
     },
     "74fff82caf914c3592583296eea61c5d": {
      "model_module": "@jupyter-widgets/controls",
      "model_module_version": "1.5.0",
      "model_name": "DescriptionStyleModel",
      "state": {
       "description_width": ""
      }
     },
     "75739fa65f4745c88f694316ca18bb4c": {
      "model_module": "jupyter-leaflet",
      "model_module_version": "^0.17",
      "model_name": "LeafletTileLayerModel",
      "state": {
       "_model_module_version": "^0.17",
       "_view_module_version": "^0.17",
       "attribution": "Geoportail France",
       "max_zoom": 13,
       "name": "GeoportailFrance.Landcover_Grid_Clc90_fr",
       "options": [
        "attribution",
        "bounds",
        "detect_retina",
        "max_native_zoom",
        "max_zoom",
        "min_native_zoom",
        "min_zoom",
        "no_wrap",
        "tile_size",
        "tms",
        "zoom_offset"
       ],
       "url": "https://wxs.ign.fr/clc/geoportail/wmts?REQUEST=GetTile&SERVICE=WMTS&VERSION=1.0.0&STYLE=CORINE Land Cover - France métropolitaine&TILEMATRIXSET=PM&FORMAT=image/png&LAYER=LANDCOVER.GRID.CLC90_FR&TILEMATRIX={z}&TILEROW={y}&TILECOL={x}"
      }
     },
     "75c7e61bb4854acf8ce09b8e73f5052d": {
      "model_module": "jupyter-leaflet",
      "model_module_version": "^0.17",
      "model_name": "LeafletTileLayerModel",
      "state": {
       "_model_module_version": "^0.17",
       "_view_module_version": "^0.17",
       "attribution": "(C) OpenStreetMap contributors (C) CARTO",
       "max_zoom": 20,
       "name": "CartoDB.Voyager",
       "options": [
        "attribution",
        "bounds",
        "detect_retina",
        "max_native_zoom",
        "max_zoom",
        "min_native_zoom",
        "min_zoom",
        "no_wrap",
        "tile_size",
        "tms",
        "zoom_offset"
       ],
       "url": "https://a.basemaps.cartocdn.com/rastertiles/voyager/{z}/{x}/{y}.png"
      }
     },
     "767568bdd0f442d4904738eb593bdc00": {
      "model_module": "jupyter-leaflet",
      "model_module_version": "^0.17",
      "model_name": "LeafletTileLayerModel",
      "state": {
       "_model_module_version": "^0.17",
       "_view_module_version": "^0.17",
       "attribution": "Geoportail France",
       "name": "GeoportailFrance.Orthoimagery_Orthophotos_Ortho_asp_pac2020",
       "options": [
        "attribution",
        "bounds",
        "detect_retina",
        "max_native_zoom",
        "max_zoom",
        "min_native_zoom",
        "min_zoom",
        "no_wrap",
        "tile_size",
        "tms",
        "zoom_offset"
       ],
       "url": "https://wxs.ign.fr/orthohisto/geoportail/wmts?REQUEST=GetTile&SERVICE=WMTS&VERSION=1.0.0&STYLE=normal&TILEMATRIXSET=PM&FORMAT=image/jpeg&LAYER=ORTHOIMAGERY.ORTHOPHOTOS.ORTHO-ASP_PAC2020&TILEMATRIX={z}&TILEROW={y}&TILECOL={x}"
      }
     },
     "76dec1dcd27a4bdfb3f5f4509a54a0ea": {
      "model_module": "jupyter-leaflet",
      "model_module_version": "^0.17",
      "model_name": "LeafletTileLayerModel",
      "state": {
       "_model_module_version": "^0.17",
       "_view_module_version": "^0.17",
       "attribution": "Geoportail France",
       "max_zoom": 16,
       "name": "GeoportailFrance.Protectedareas_Ripn",
       "options": [
        "attribution",
        "bounds",
        "detect_retina",
        "max_native_zoom",
        "max_zoom",
        "min_native_zoom",
        "min_zoom",
        "no_wrap",
        "tile_size",
        "tms",
        "zoom_offset"
       ],
       "url": "https://wxs.ign.fr/environnement/geoportail/wmts?REQUEST=GetTile&SERVICE=WMTS&VERSION=1.0.0&STYLE=normal&TILEMATRIXSET=PM&FORMAT=image/png&LAYER=PROTECTEDAREAS.RIPN&TILEMATRIX={z}&TILEROW={y}&TILECOL={x}"
      }
     },
     "77b2c216d3fb41249658982f514701b0": {
      "model_module": "jupyter-leaflet",
      "model_module_version": "^0.17",
      "model_name": "LeafletTileLayerModel",
      "state": {
       "_model_module_version": "^0.17",
       "_view_module_version": "^0.17",
       "attribution": "Justice Map",
       "max_zoom": 22,
       "name": "JusticeMap.multi",
       "options": [
        "attribution",
        "bounds",
        "detect_retina",
        "max_native_zoom",
        "max_zoom",
        "min_native_zoom",
        "min_zoom",
        "no_wrap",
        "tile_size",
        "tms",
        "zoom_offset"
       ],
       "url": "https://www.justicemap.org/tile/county/multi/{z}/{x}/{y}.png"
      }
     },
     "788b855730e94a35b1c27073a26e7be6": {
      "model_module": "jupyter-leaflet",
      "model_module_version": "^0.17",
      "model_name": "LeafletTileLayerModel",
      "state": {
       "_model_module_version": "^0.17",
       "_view_module_version": "^0.17",
       "attribution": "![](https://docs.onemap.sg/maps/images/oneMap64-01.png) New OneMap | Map data (C) contributors, Singapore Land Authority",
       "name": "OneMapSG.Original",
       "options": [
        "attribution",
        "bounds",
        "detect_retina",
        "max_native_zoom",
        "max_zoom",
        "min_native_zoom",
        "min_zoom",
        "no_wrap",
        "tile_size",
        "tms",
        "zoom_offset"
       ],
       "url": "https://maps-a.onemap.sg/v3/Original/{z}/{x}/{y}.png"
      }
     },
     "7927da565b684579ae2fa8cd106d0271": {
      "model_module": "jupyter-leaflet",
      "model_module_version": "^0.17",
      "model_name": "LeafletTileLayerModel",
      "state": {
       "_model_module_version": "^0.17",
       "_view_module_version": "^0.17",
       "attribution": "Geoportail France",
       "max_zoom": 16,
       "name": "GeoportailFrance.Orthoimagery_Orthophos_Restrictedareas",
       "options": [
        "attribution",
        "bounds",
        "detect_retina",
        "max_native_zoom",
        "max_zoom",
        "min_native_zoom",
        "min_zoom",
        "no_wrap",
        "tile_size",
        "tms",
        "zoom_offset"
       ],
       "url": "https://wxs.ign.fr/ortho/geoportail/wmts?REQUEST=GetTile&SERVICE=WMTS&VERSION=1.0.0&STYLE=normal&TILEMATRIXSET=PM&FORMAT=image/png&LAYER=ORTHOIMAGERY.ORTHOPHOS.RESTRICTEDAREAS&TILEMATRIX={z}&TILEROW={y}&TILECOL={x}"
      }
     },
     "792d6072b26340b88f6eb3d038b7eb06": {
      "model_module": "@jupyter-widgets/controls",
      "model_module_version": "1.5.0",
      "model_name": "ButtonModel",
      "state": {
       "description": "Save Config",
       "layout": "IPY_MODEL_2444f9c5c9574899b0e33f7ae826ef69",
       "style": "IPY_MODEL_ff19c58c81b94c5ba3369c7815fec945"
      }
     },
     "7948313c6f8a41238970508b5f510c02": {
      "model_module": "jupyter-leaflet",
      "model_module_version": "^0.17",
      "model_name": "LeafletTileLayerModel",
      "state": {
       "_model_module_version": "^0.17",
       "_view_module_version": "^0.17",
       "attribution": "Geoportail France",
       "max_zoom": 16,
       "name": "GeoportailFrance.Ocsge_Constructions_2019",
       "options": [
        "attribution",
        "bounds",
        "detect_retina",
        "max_native_zoom",
        "max_zoom",
        "min_native_zoom",
        "min_zoom",
        "no_wrap",
        "tile_size",
        "tms",
        "zoom_offset"
       ],
       "url": "https://wxs.ign.fr/ocsge/geoportail/wmts?REQUEST=GetTile&SERVICE=WMTS&VERSION=1.0.0&STYLE=nolegend&TILEMATRIXSET=PM&FORMAT=image/png&LAYER=OCSGE.CONSTRUCTIONS.2019&TILEMATRIX={z}&TILEROW={y}&TILECOL={x}"
      }
     },
     "798bd0ad63db4f8ea06685b32cf7cf7c": {
      "model_module": "@jupyter-widgets/controls",
      "model_module_version": "1.5.0",
      "model_name": "ButtonStyleModel",
      "state": {
       "button_color": "#69add1"
      }
     },
     "79d109ff72474cc39a445135357e9098": {
      "model_module": "@jupyter-widgets/controls",
      "model_module_version": "1.5.0",
      "model_name": "ButtonModel",
      "state": {
       "description": "Remove ROIs",
       "layout": "IPY_MODEL_1e8dbb7f36f540318ed84cbb70747c0e",
       "style": "IPY_MODEL_73afc3cb9c2f46fc905420a91ba51ebb"
      }
     },
     "79fc07c1d3f94298843eb6fe901155e8": {
      "model_module": "jupyter-leaflet",
      "model_module_version": "^0.17",
      "model_name": "LeafletTileLayerModel",
      "state": {
       "_model_module_version": "^0.17",
       "_view_module_version": "^0.17",
       "attribution": "Tiles courtesy of the U.S. Geological Survey",
       "max_zoom": 20,
       "name": "USGS.USTopo",
       "options": [
        "attribution",
        "bounds",
        "detect_retina",
        "max_native_zoom",
        "max_zoom",
        "min_native_zoom",
        "min_zoom",
        "no_wrap",
        "tile_size",
        "tms",
        "zoom_offset"
       ],
       "url": "https://basemap.nationalmap.gov/arcgis/rest/services/USGSTopo/MapServer/tile/{z}/{y}/{x}"
      }
     },
     "7a00dd6803534ebf9ca6ee554b7e5865": {
      "model_module": "@jupyter-widgets/controls",
      "model_module_version": "1.5.0",
      "model_name": "AccordionModel",
      "state": {
       "_titles": {
        "0": "ROI Data"
       },
       "children": [
        "IPY_MODEL_fc5a6b3b8ad44689aa5b21be998b2623"
       ],
       "layout": "IPY_MODEL_8989e01f9b2943c7a9fc40dc3497e01d"
      }
     },
     "7ab3287b11c842e396a492f924dc50b5": {
      "model_module": "jupyter-leaflet",
      "model_module_version": "^0.17",
      "model_name": "LeafletTileLayerModel",
      "state": {
       "_model_module_version": "^0.17",
       "_view_module_version": "^0.17",
       "attribution": "openAIP Data (CC-BY-NC-SA)",
       "max_zoom": 14,
       "name": "OpenAIP",
       "options": [
        "attribution",
        "bounds",
        "detect_retina",
        "max_native_zoom",
        "max_zoom",
        "min_native_zoom",
        "min_zoom",
        "no_wrap",
        "tile_size",
        "tms",
        "zoom_offset"
       ],
       "url": "https://1.tile.maps.openaip.net/geowebcache/service/tms/1.0.0/openaip_basemap@EPSG%3A900913@png/{z}/{x}/{y}.png"
      }
     },
     "7ac6a64709064cf3944aaf00daa839fd": {
      "model_module": "@jupyter-widgets/controls",
      "model_module_version": "1.5.0",
      "model_name": "VBoxModel",
      "state": {
       "children": [
        "IPY_MODEL_ce06f9f95bec43259daddddaa9f0e9f4",
        "IPY_MODEL_02a24795110a4e469cfa5f3827e8890b",
        "IPY_MODEL_ea0b984fb3ac4e95ad67025be306349e"
       ],
       "layout": "IPY_MODEL_59e5c1cdf45d4087829a38ed0b0702e8"
      }
     },
     "7af3261a32bd486e9ab70e050723a4bd": {
      "model_module": "jupyter-leaflet",
      "model_module_version": "^0.17",
      "model_name": "LeafletTileLayerModel",
      "state": {
       "_model_module_version": "^0.17",
       "_view_module_version": "^0.17",
       "attribution": "(C) OpenStreetMap contributors",
       "max_zoom": 15,
       "name": "HikeBike.HillShading",
       "options": [
        "attribution",
        "bounds",
        "detect_retina",
        "max_native_zoom",
        "max_zoom",
        "min_native_zoom",
        "min_zoom",
        "no_wrap",
        "tile_size",
        "tms",
        "zoom_offset"
       ],
       "url": "https://tiles.wmflabs.org/hillshading/{z}/{x}/{y}.png"
      }
     },
     "7b592eb3979e4583a1aa73ee005fdcdd": {
      "model_module": "jupyter-leaflet",
      "model_module_version": "^0.17",
      "model_name": "LeafletTileLayerModel",
      "state": {
       "_model_module_version": "^0.17",
       "_view_module_version": "^0.17",
       "attribution": "Datenquelle: basemap.at",
       "max_zoom": 20,
       "name": "BasemapAT.orthofoto",
       "options": [
        "attribution",
        "bounds",
        "detect_retina",
        "max_native_zoom",
        "max_zoom",
        "min_native_zoom",
        "min_zoom",
        "no_wrap",
        "tile_size",
        "tms",
        "zoom_offset"
       ],
       "url": "https://maps.wien.gv.at/basemap/bmaporthofoto30cm/normal/google3857/{z}/{y}/{x}.jpeg"
      }
     },
     "7b7d88520ebc4cf288d735ca14d5aa4b": {
      "model_module": "@jupyter-widgets/base",
      "model_module_version": "1.2.0",
      "model_name": "LayoutModel",
      "state": {}
     },
     "7c9ec3a9f1014914a8c7567aabfb2b0c": {
      "model_module": "jupyter-leaflet",
      "model_module_version": "^0.17",
      "model_name": "LeafletTileLayerModel",
      "state": {
       "_model_module_version": "^0.17",
       "_view_module_version": "^0.17",
       "attribution": "Geoportail France",
       "max_zoom": 16,
       "name": "GeoportailFrance.Ocsge_Couverture_2019",
       "options": [
        "attribution",
        "bounds",
        "detect_retina",
        "max_native_zoom",
        "max_zoom",
        "min_native_zoom",
        "min_zoom",
        "no_wrap",
        "tile_size",
        "tms",
        "zoom_offset"
       ],
       "url": "https://wxs.ign.fr/ocsge/geoportail/wmts?REQUEST=GetTile&SERVICE=WMTS&VERSION=1.0.0&STYLE=nolegend&TILEMATRIXSET=PM&FORMAT=image/png&LAYER=OCSGE.COUVERTURE.2019&TILEMATRIX={z}&TILEROW={y}&TILECOL={x}"
      }
     },
     "7cd6f1f595864f3eb6db01972be0ac0a": {
      "model_module": "jupyter-leaflet",
      "model_module_version": "^0.17",
      "model_name": "LeafletTileLayerModel",
      "state": {
       "_model_module_version": "^0.17",
       "_view_module_version": "^0.17",
       "attribution": "Geoportail France",
       "name": "GeoportailFrance.Transportnetworks_Roads",
       "options": [
        "attribution",
        "bounds",
        "detect_retina",
        "max_native_zoom",
        "max_zoom",
        "min_native_zoom",
        "min_zoom",
        "no_wrap",
        "tile_size",
        "tms",
        "zoom_offset"
       ],
       "url": "https://wxs.ign.fr/topographie/geoportail/wmts?REQUEST=GetTile&SERVICE=WMTS&VERSION=1.0.0&STYLE=normal&TILEMATRIXSET=PM&FORMAT=image/png&LAYER=TRANSPORTNETWORKS.ROADS&TILEMATRIX={z}&TILEROW={y}&TILECOL={x}"
      }
     },
     "7ce1054d4e9a4ad599edef7ea01251af": {
      "model_module": "jupyter-leaflet",
      "model_module_version": "^0.17",
      "model_name": "LeafletTileLayerModel",
      "state": {
       "_model_module_version": "^0.17",
       "_view_module_version": "^0.17",
       "attribution": "Geoportail France",
       "max_zoom": 16,
       "name": "GeoportailFrance.Landcover_Clc06_fr",
       "options": [
        "attribution",
        "bounds",
        "detect_retina",
        "max_native_zoom",
        "max_zoom",
        "min_native_zoom",
        "min_zoom",
        "no_wrap",
        "tile_size",
        "tms",
        "zoom_offset"
       ],
       "url": "https://wxs.ign.fr/clc/geoportail/wmts?REQUEST=GetTile&SERVICE=WMTS&VERSION=1.0.0&STYLE=CORINE Land Cover - France métropolitaine&TILEMATRIXSET=PM&FORMAT=image/png&LAYER=LANDCOVER.CLC06_FR&TILEMATRIX={z}&TILEROW={y}&TILECOL={x}"
      }
     },
     "7da1ce701b034d32b2b5921a56937079": {
      "model_module": "jupyter-leaflet",
      "model_module_version": "^0.17",
      "model_name": "LeafletTileLayerModel",
      "state": {
       "_model_module_version": "^0.17",
       "_view_module_version": "^0.17",
       "attribution": "Geoportail France",
       "max_zoom": 16,
       "name": "GeoportailFrance.Protectedareas_Rncf",
       "options": [
        "attribution",
        "bounds",
        "detect_retina",
        "max_native_zoom",
        "max_zoom",
        "min_native_zoom",
        "min_zoom",
        "no_wrap",
        "tile_size",
        "tms",
        "zoom_offset"
       ],
       "url": "https://wxs.ign.fr/environnement/geoportail/wmts?REQUEST=GetTile&SERVICE=WMTS&VERSION=1.0.0&STYLE=normal&TILEMATRIXSET=PM&FORMAT=image/png&LAYER=PROTECTEDAREAS.RNCF&TILEMATRIX={z}&TILEROW={y}&TILECOL={x}"
      }
     },
     "7dd77e231d9f4e979d767057ef67daa3": {
      "model_module": "@jupyter-widgets/controls",
      "model_module_version": "1.5.0",
      "model_name": "ButtonModel",
      "state": {
       "description": "Update Settings",
       "layout": "IPY_MODEL_c73011081d244463921f8d8002f8e4fc",
       "style": "IPY_MODEL_e223a4caccdb48f9853f8294eac06dfd"
      }
     },
     "7e972e37c725419aa03cbe9639601f4c": {
      "model_module": "@jupyter-widgets/base",
      "model_module_version": "1.2.0",
      "model_name": "LayoutModel",
      "state": {}
     },
     "7ec1a86c7fce407893637b4a3e59cc14": {
      "model_module": "jupyter-leaflet",
      "model_module_version": "^0.17",
      "model_name": "LeafletTileLayerModel",
      "state": {
       "_model_module_version": "^0.17",
       "_view_module_version": "^0.17",
       "attribution": "Geoportail France",
       "max_zoom": 19,
       "name": "GeoportailFrance.Orthoimagery_Orthophotos_Irc_2020",
       "options": [
        "attribution",
        "bounds",
        "detect_retina",
        "max_native_zoom",
        "max_zoom",
        "min_native_zoom",
        "min_zoom",
        "no_wrap",
        "tile_size",
        "tms",
        "zoom_offset"
       ],
       "url": "https://wxs.ign.fr/ortho/geoportail/wmts?REQUEST=GetTile&SERVICE=WMTS&VERSION=1.0.0&STYLE=normal&TILEMATRIXSET=PM&FORMAT=image/jpeg&LAYER=ORTHOIMAGERY.ORTHOPHOTOS.IRC.2020&TILEMATRIX={z}&TILEROW={y}&TILECOL={x}"
      }
     },
     "7eea7b361bb947bfa8df480503d24643": {
      "model_module": "jupyter-leaflet",
      "model_module_version": "^0.17",
      "model_name": "LeafletTileLayerModel",
      "state": {
       "_model_module_version": "^0.17",
       "_view_module_version": "^0.17",
       "attribution": "Map tiles by Stamen Design, CC BY 3.0 -- Map data (C) OpenStreetMap contributors",
       "max_zoom": 20,
       "name": "Stamen.TonerHybrid",
       "options": [
        "attribution",
        "bounds",
        "detect_retina",
        "max_native_zoom",
        "max_zoom",
        "min_native_zoom",
        "min_zoom",
        "no_wrap",
        "tile_size",
        "tms",
        "zoom_offset"
       ],
       "url": "https://stamen-tiles-a.a.ssl.fastly.net/toner-hybrid/{z}/{x}/{y}.png"
      }
     },
     "7ef0d61dc587460180eb94b777f33d0c": {
      "model_module": "jupyter-leaflet",
      "model_module_version": "^0.17",
      "model_name": "LeafletTileLayerModel",
      "state": {
       "_model_module_version": "^0.17",
       "_view_module_version": "^0.17",
       "attribution": "Geoportail France",
       "max_zoom": 13,
       "name": "GeoportailFrance.Landcover_Hr_Dlt_Clc12",
       "options": [
        "attribution",
        "bounds",
        "detect_retina",
        "max_native_zoom",
        "max_zoom",
        "min_native_zoom",
        "min_zoom",
        "no_wrap",
        "tile_size",
        "tms",
        "zoom_offset"
       ],
       "url": "https://wxs.ign.fr/clc/geoportail/wmts?REQUEST=GetTile&SERVICE=WMTS&VERSION=1.0.0&STYLE=CORINE Land Cover - HR - type de forêts&TILEMATRIXSET=PM&FORMAT=image/png&LAYER=LANDCOVER.HR.DLT.CLC12&TILEMATRIX={z}&TILEROW={y}&TILECOL={x}"
      }
     },
     "7f8aabeb46d14e2fa2838a73bc396a68": {
      "model_module": "jupyter-leaflet",
      "model_module_version": "^0.17",
      "model_name": "LeafletTileLayerModel",
      "state": {
       "_model_module_version": "^0.17",
       "_view_module_version": "^0.17",
       "attribution": "Geoportail France",
       "max_zoom": 15,
       "name": "GeoportailFrance.Orthoimagery_Ortho_sat_Rapideye_2010",
       "options": [
        "attribution",
        "bounds",
        "detect_retina",
        "max_native_zoom",
        "max_zoom",
        "min_native_zoom",
        "min_zoom",
        "no_wrap",
        "tile_size",
        "tms",
        "zoom_offset"
       ],
       "url": "https://wxs.ign.fr/satellite/geoportail/wmts?REQUEST=GetTile&SERVICE=WMTS&VERSION=1.0.0&STYLE=normal&TILEMATRIXSET=PM&FORMAT=image/jpeg&LAYER=ORTHOIMAGERY.ORTHO-SAT.RAPIDEYE.2010&TILEMATRIX={z}&TILEROW={y}&TILECOL={x}"
      }
     },
     "80156c80e2b647f7bf48281b5aa05f2f": {
      "model_module": "@jupyter-widgets/base",
      "model_module_version": "1.2.0",
      "model_name": "LayoutModel",
      "state": {}
     },
     "81015596155741e6aac44fce0978980f": {
      "model_module": "jupyter-leaflet",
      "model_module_version": "^0.17",
      "model_name": "LeafletTileLayerModel",
      "state": {
       "_model_module_version": "^0.17",
       "_view_module_version": "^0.17",
       "attribution": "Geoportail France",
       "max_zoom": 17,
       "name": "GeoportailFrance.Securoute_Te_Pnd",
       "options": [
        "attribution",
        "bounds",
        "detect_retina",
        "max_native_zoom",
        "max_zoom",
        "min_native_zoom",
        "min_zoom",
        "no_wrap",
        "tile_size",
        "tms",
        "zoom_offset"
       ],
       "url": "https://wxs.ign.fr/transports/geoportail/wmts?REQUEST=GetTile&SERVICE=WMTS&VERSION=1.0.0&STYLE=FRANCHISSEMENTS PASSAGE A NIVEAU DIFFICILE&TILEMATRIXSET=PM&FORMAT=image/png&LAYER=SECUROUTE.TE.PND&TILEMATRIX={z}&TILEROW={y}&TILECOL={x}"
      }
     },
     "81199573adb7465dacc1e1b4fd3c4499": {
      "model_module": "jupyter-leaflet",
      "model_module_version": "^0.17",
      "model_name": "LeafletTileLayerModel",
      "state": {
       "_model_module_version": "^0.17",
       "_view_module_version": "^0.17",
       "attribution": "Geoportail France",
       "max_zoom": 21,
       "name": "GeoportailFrance.orthos",
       "options": [
        "attribution",
        "bounds",
        "detect_retina",
        "max_native_zoom",
        "max_zoom",
        "min_native_zoom",
        "min_zoom",
        "no_wrap",
        "tile_size",
        "tms",
        "zoom_offset"
       ],
       "url": "https://wxs.ign.fr/ortho/geoportail/wmts?REQUEST=GetTile&SERVICE=WMTS&VERSION=1.0.0&STYLE=normal&TILEMATRIXSET=PM&FORMAT=image/jpeg&LAYER=ORTHOIMAGERY.ORTHOPHOTOS&TILEMATRIX={z}&TILEROW={y}&TILECOL={x}"
      }
     },
     "81c04e85d7e548fbacf9b9d0da77b58a": {
      "model_module": "jupyter-leaflet",
      "model_module_version": "^0.17",
      "model_name": "LeafletTileLayerModel",
      "state": {
       "_model_module_version": "^0.17",
       "_view_module_version": "^0.17",
       "attribution": "Geoportail France",
       "max_zoom": 17,
       "name": "GeoportailFrance.Hydrography_Bcae_Latest",
       "options": [
        "attribution",
        "bounds",
        "detect_retina",
        "max_native_zoom",
        "max_zoom",
        "min_native_zoom",
        "min_zoom",
        "no_wrap",
        "tile_size",
        "tms",
        "zoom_offset"
       ],
       "url": "https://wxs.ign.fr/agriculture/geoportail/wmts?REQUEST=GetTile&SERVICE=WMTS&VERSION=1.0.0&STYLE=normal&TILEMATRIXSET=PM&FORMAT=image/png&LAYER=HYDROGRAPHY.BCAE.LATEST&TILEMATRIX={z}&TILEROW={y}&TILECOL={x}"
      }
     },
     "81ccbbe41784498f9affcc57d3019b19": {
      "model_module": "jupyter-leaflet",
      "model_module_version": "^0.17",
      "model_name": "LeafletTileLayerModel",
      "state": {
       "_model_module_version": "^0.17",
       "_view_module_version": "^0.17",
       "attribution": "Geoportail France",
       "max_zoom": 16,
       "name": "GeoportailFrance.Forets_Publiques",
       "options": [
        "attribution",
        "bounds",
        "detect_retina",
        "max_native_zoom",
        "max_zoom",
        "min_native_zoom",
        "min_zoom",
        "no_wrap",
        "tile_size",
        "tms",
        "zoom_offset"
       ],
       "url": "https://wxs.ign.fr/environnement/geoportail/wmts?REQUEST=GetTile&SERVICE=WMTS&VERSION=1.0.0&STYLE=FORETS PUBLIQUES ONF&TILEMATRIXSET=PM&FORMAT=image/png&LAYER=FORETS.PUBLIQUES&TILEMATRIX={z}&TILEROW={y}&TILECOL={x}"
      }
     },
     "82a81edde1b84dcdba97b07764aec739": {
      "model_module": "jupyter-leaflet",
      "model_module_version": "^0.17",
      "model_name": "LeafletTileLayerModel",
      "state": {
       "_model_module_version": "^0.17",
       "_view_module_version": "^0.17",
       "attribution": "Geoportail France",
       "name": "GeoportailFrance.Orthoimagery_Ortho_sat_Pleiades_2017",
       "options": [
        "attribution",
        "bounds",
        "detect_retina",
        "max_native_zoom",
        "max_zoom",
        "min_native_zoom",
        "min_zoom",
        "no_wrap",
        "tile_size",
        "tms",
        "zoom_offset"
       ],
       "url": "https://wxs.ign.fr/satellite/geoportail/wmts?REQUEST=GetTile&SERVICE=WMTS&VERSION=1.0.0&STYLE=normal&TILEMATRIXSET=PM&FORMAT=image/png&LAYER=ORTHOIMAGERY.ORTHO-SAT.PLEIADES.2017&TILEMATRIX={z}&TILEROW={y}&TILECOL={x}"
      }
     },
     "82ae56bdb50b44129678d9c83db46227": {
      "model_module": "@jupyter-widgets/base",
      "model_module_version": "1.2.0",
      "model_name": "LayoutModel",
      "state": {}
     },
     "82ede058172049169e13b507044d100b": {
      "model_module": "jupyter-leaflet",
      "model_module_version": "^0.17",
      "model_name": "LeafletTileLayerModel",
      "state": {
       "_model_module_version": "^0.17",
       "_view_module_version": "^0.17",
       "attribution": "Datenquelle: basemap.at",
       "max_zoom": 19,
       "name": "BasemapAT.highdpi",
       "options": [
        "attribution",
        "bounds",
        "detect_retina",
        "max_native_zoom",
        "max_zoom",
        "min_native_zoom",
        "min_zoom",
        "no_wrap",
        "tile_size",
        "tms",
        "zoom_offset"
       ],
       "url": "https://maps.wien.gv.at/basemap/bmaphidpi/normal/google3857/{z}/{y}/{x}.jpeg"
      }
     },
     "83b552832a634af1ab66a17432ff1d99": {
      "model_module": "jupyter-leaflet",
      "model_module_version": "^0.17",
      "model_name": "LeafletTileLayerModel",
      "state": {
       "_model_module_version": "^0.17",
       "_view_module_version": "^0.17",
       "attribution": "Geoportail France",
       "max_zoom": 16,
       "name": "GeoportailFrance.Insee_Filosofi_Part_Logements_Avant_1945_Secret",
       "options": [
        "attribution",
        "bounds",
        "detect_retina",
        "max_native_zoom",
        "max_zoom",
        "min_native_zoom",
        "min_zoom",
        "no_wrap",
        "tile_size",
        "tms",
        "zoom_offset"
       ],
       "url": "https://wxs.ign.fr/economie/geoportail/wmts?REQUEST=GetTile&SERVICE=WMTS&VERSION=1.0.0&STYLE=INSEE&TILEMATRIXSET=PM&FORMAT=image/png&LAYER=INSEE.FILOSOFI.PART.LOGEMENTS.AVANT.1945.SECRET&TILEMATRIX={z}&TILEROW={y}&TILECOL={x}"
      }
     },
     "83f490fd8074498797a79fde300dabf7": {
      "model_module": "jupyter-leaflet",
      "model_module_version": "^0.17",
      "model_name": "LeafletTileLayerModel",
      "state": {
       "_model_module_version": "^0.17",
       "_view_module_version": "^0.17",
       "attribution": "&copy; <a href=\"https://www.openstreetmap.org/copyright\">OpenStreetMap</a> contributors",
       "base": true,
       "max_zoom": 19,
       "min_zoom": 1,
       "name": "OpenStreetMap",
       "options": [
        "attribution",
        "bounds",
        "detect_retina",
        "max_native_zoom",
        "max_zoom",
        "min_native_zoom",
        "min_zoom",
        "no_wrap",
        "tile_size",
        "tms",
        "zoom_offset"
       ],
       "url": "https://tile.openstreetmap.org/{z}/{x}/{y}.png"
      }
     },
     "84d8a37bf21a4e62bea9e81e105ac8f2": {
      "model_module": "jupyter-leaflet",
      "model_module_version": "^0.17",
      "model_name": "LeafletTileLayerModel",
      "state": {
       "_model_module_version": "^0.17",
       "_view_module_version": "^0.17",
       "attribution": "Imagery provided by services from the Global Imagery Browse Services (GIBS), operated by the NASA/GSFC/Earth Science Data and Information System (ESDIS) with funding provided by NASA/HQ.",
       "max_zoom": 7,
       "name": "NASAGIBS.ModisTerraLSTDay",
       "options": [
        "attribution",
        "bounds",
        "detect_retina",
        "max_native_zoom",
        "max_zoom",
        "min_native_zoom",
        "min_zoom",
        "no_wrap",
        "tile_size",
        "tms",
        "zoom_offset"
       ],
       "url": "https://map1.vis.earthdata.nasa.gov/wmts-webmerc/MODIS_Terra_Land_Surface_Temp_Day/default//GoogleMapsCompatible_Level7/{z}/{y}/{x}.png"
      }
     },
     "84e97eb88ab94a28a98d65305e8249f5": {
      "model_module": "@jupyter-widgets/controls",
      "model_module_version": "1.5.0",
      "model_name": "VBoxModel",
      "state": {
       "children": [
        "IPY_MODEL_aa6b8b446f9d4cc182649a043eaa8ed9",
        "IPY_MODEL_59e64ce28cc94edca273a9906e1bfb20",
        "IPY_MODEL_f19d5bb5f3fe466a8267a8a29d2633d4"
       ],
       "layout": "IPY_MODEL_f53843cc7ad9469ea5b108b9158b9d10"
      }
     },
     "85a2a8a522ea47bea71e827f23e3c887": {
      "model_module": "jupyter-leaflet",
      "model_module_version": "^0.17",
      "model_name": "LeafletTileLayerModel",
      "state": {
       "_model_module_version": "^0.17",
       "_view_module_version": "^0.17",
       "attribution": "Geoportail France",
       "max_zoom": 17,
       "name": "GeoportailFrance.Securoute_Te_Oa",
       "options": [
        "attribution",
        "bounds",
        "detect_retina",
        "max_native_zoom",
        "max_zoom",
        "min_native_zoom",
        "min_zoom",
        "no_wrap",
        "tile_size",
        "tms",
        "zoom_offset"
       ],
       "url": "https://wxs.ign.fr/transports/geoportail/wmts?REQUEST=GetTile&SERVICE=WMTS&VERSION=1.0.0&STYLE=AUTRES FRANCHISSEMENTS&TILEMATRIXSET=PM&FORMAT=image/png&LAYER=SECUROUTE.TE.OA&TILEMATRIX={z}&TILEROW={y}&TILECOL={x}"
      }
     },
     "85bf2ba408644385a3f1b5dede7c246c": {
      "model_module": "jupyter-leaflet",
      "model_module_version": "^0.17",
      "model_name": "LeafletTileLayerModel",
      "state": {
       "_model_module_version": "^0.17",
       "_view_module_version": "^0.17",
       "attribution": "Geoportail France",
       "max_zoom": 16,
       "name": "GeoportailFrance.Landcover_Cha18_dom",
       "options": [
        "attribution",
        "bounds",
        "detect_retina",
        "max_native_zoom",
        "max_zoom",
        "min_native_zoom",
        "min_zoom",
        "no_wrap",
        "tile_size",
        "tms",
        "zoom_offset"
       ],
       "url": "https://wxs.ign.fr/clc/geoportail/wmts?REQUEST=GetTile&SERVICE=WMTS&VERSION=1.0.0&STYLE=CORINE Land Cover - DOM&TILEMATRIXSET=PM&FORMAT=image/png&LAYER=LANDCOVER.CHA18_DOM&TILEMATRIX={z}&TILEROW={y}&TILECOL={x}"
      }
     },
     "8605ac718049459585b44dc182c34063": {
      "model_module": "@jupyter-widgets/output",
      "model_module_version": "1.0.0",
      "model_name": "OutputModel",
      "state": {
       "layout": "IPY_MODEL_2b4c899296d64d41bbd28a46f39552c2"
      }
     },
     "869a461676d244c79fb8022faada06cc": {
      "model_module": "jupyter-leaflet",
      "model_module_version": "^0.17",
      "model_name": "LeafletTileLayerModel",
      "state": {
       "_model_module_version": "^0.17",
       "_view_module_version": "^0.17",
       "attribution": "Geoportail France",
       "max_zoom": 16,
       "name": "GeoportailFrance.Landuse_Agriculture2016",
       "options": [
        "attribution",
        "bounds",
        "detect_retina",
        "max_native_zoom",
        "max_zoom",
        "min_native_zoom",
        "min_zoom",
        "no_wrap",
        "tile_size",
        "tms",
        "zoom_offset"
       ],
       "url": "https://wxs.ign.fr/agriculture/geoportail/wmts?REQUEST=GetTile&SERVICE=WMTS&VERSION=1.0.0&STYLE=normal&TILEMATRIXSET=PM&FORMAT=image/png&LAYER=LANDUSE.AGRICULTURE2016&TILEMATRIX={z}&TILEROW={y}&TILECOL={x}"
      }
     },
     "86fc4ad91cb94a9886dbb5e3636e404c": {
      "model_module": "jupyter-leaflet",
      "model_module_version": "^0.17",
      "model_name": "LeafletTileLayerModel",
      "state": {
       "_model_module_version": "^0.17",
       "_view_module_version": "^0.17",
       "attribution": "Geoportail France",
       "max_zoom": 17,
       "name": "GeoportailFrance.Securoute_Te_Te94",
       "options": [
        "attribution",
        "bounds",
        "detect_retina",
        "max_native_zoom",
        "max_zoom",
        "min_native_zoom",
        "min_zoom",
        "no_wrap",
        "tile_size",
        "tms",
        "zoom_offset"
       ],
       "url": "https://wxs.ign.fr/transports/geoportail/wmts?REQUEST=GetTile&SERVICE=WMTS&VERSION=1.0.0&STYLE=RESEAU ROUTIER TE94&TILEMATRIXSET=PM&FORMAT=image/png&LAYER=SECUROUTE.TE.TE94&TILEMATRIX={z}&TILEROW={y}&TILECOL={x}"
      }
     },
     "870ff4b1e9064959b54057148ce60776": {
      "model_module": "@jupyter-widgets/controls",
      "model_module_version": "1.5.0",
      "model_name": "ToggleButtonModel",
      "state": {
       "button_style": "primary",
       "icon": "eraser",
       "layout": "IPY_MODEL_21f4750d1e5941fca4888d5ceabe6715",
       "style": "IPY_MODEL_8e37015dad41471f991ae5ea0a3418ba",
       "tooltip": "Remove all drawn features"
      }
     },
     "88c892c2f2f94adf914e0f089808849a": {
      "model_module": "@jupyter-widgets/base",
      "model_module_version": "1.2.0",
      "model_name": "LayoutModel",
      "state": {
       "height": "28px",
       "width": "72px"
      }
     },
     "88d16e9b4f6247c886a58e91a2f68b1c": {
      "model_module": "@jupyter-widgets/base",
      "model_module_version": "1.2.0",
      "model_name": "LayoutModel",
      "state": {}
     },
     "8989e01f9b2943c7a9fc40dc3497e01d": {
      "model_module": "@jupyter-widgets/base",
      "model_module_version": "1.2.0",
      "model_name": "LayoutModel",
      "state": {}
     },
     "89c5230f37714090af1bd64e0c6c5804": {
      "model_module": "jupyter-leaflet",
      "model_module_version": "^0.17",
      "model_name": "LeafletWMSLayerModel",
      "state": {
       "_model_module_version": "^0.17",
       "_view_module_version": "^0.17",
       "attribution": "MRLC",
       "crs": {
        "custom": false,
        "name": "EPSG3857"
       },
       "format": "image/png",
       "layers": "NLCD_2001_Land_Cover_L48",
       "name": "NLCD 2001 CONUS Land Cover",
       "options": [
        "attribution",
        "bounds",
        "detect_retina",
        "format",
        "layers",
        "max_native_zoom",
        "max_zoom",
        "min_native_zoom",
        "min_zoom",
        "no_wrap",
        "styles",
        "tile_size",
        "tms",
        "transparent",
        "uppercase",
        "zoom_offset"
       ],
       "transparent": true,
       "url": "https://www.mrlc.gov/geoserver/mrlc_display/NLCD_2001_Land_Cover_L48/wms?"
      }
     },
     "89d41c9c136f43158d3c398d2af265ab": {
      "model_module": "jupyter-leaflet",
      "model_module_version": "^0.17",
      "model_name": "LeafletTileLayerModel",
      "state": {
       "_model_module_version": "^0.17",
       "_view_module_version": "^0.17",
       "attribution": "Map tiles by <a href=\"https://labs.strava.com/heatmap\">Strava 2021</a>",
       "max_zoom": 15,
       "name": "Strava.Water",
       "options": [
        "attribution",
        "bounds",
        "detect_retina",
        "max_native_zoom",
        "max_zoom",
        "min_native_zoom",
        "min_zoom",
        "no_wrap",
        "tile_size",
        "tms",
        "zoom_offset"
       ],
       "url": "https://heatmap-external-a.strava.com/tiles/water/blue/{z}/{x}/{y}.png"
      }
     },
     "8a264371dbe04982bf9ecfd2f0e4f0a9": {
      "model_module": "@jupyter-widgets/base",
      "model_module_version": "1.2.0",
      "model_name": "LayoutModel",
      "state": {
       "height": "auto",
       "padding": "0px 0px 0px 4px",
       "width": "auto"
      }
     },
     "8a48046d25f148ecac458d7146889d87": {
      "model_module": "jupyter-leaflet",
      "model_module_version": "^0.17",
      "model_name": "LeafletTileLayerModel",
      "state": {
       "_model_module_version": "^0.17",
       "_view_module_version": "^0.17",
       "attribution": "Geoportail France",
       "max_zoom": 17,
       "name": "GeoportailFrance.Hydrography_Bcae_2022",
       "options": [
        "attribution",
        "bounds",
        "detect_retina",
        "max_native_zoom",
        "max_zoom",
        "min_native_zoom",
        "min_zoom",
        "no_wrap",
        "tile_size",
        "tms",
        "zoom_offset"
       ],
       "url": "https://wxs.ign.fr/agriculture/geoportail/wmts?REQUEST=GetTile&SERVICE=WMTS&VERSION=1.0.0&STYLE=normal&TILEMATRIXSET=PM&FORMAT=image/png&LAYER=HYDROGRAPHY.BCAE.2022&TILEMATRIX={z}&TILEROW={y}&TILECOL={x}"
      }
     },
     "8b53af8f41eb4f1a964f75ee90b9a1bc": {
      "model_module": "jupyter-leaflet",
      "model_module_version": "^0.17",
      "model_name": "LeafletTileLayerModel",
      "state": {
       "_model_module_version": "^0.17",
       "_view_module_version": "^0.17",
       "attribution": "![](https://docs.onemap.sg/maps/images/oneMap64-01.png) New OneMap | Map data (C) contributors, Singapore Land Authority",
       "name": "OneMapSG.LandLot",
       "options": [
        "attribution",
        "bounds",
        "detect_retina",
        "max_native_zoom",
        "max_zoom",
        "min_native_zoom",
        "min_zoom",
        "no_wrap",
        "tile_size",
        "tms",
        "zoom_offset"
       ],
       "url": "https://maps-a.onemap.sg/v3/LandLot/{z}/{x}/{y}.png"
      }
     },
     "8d19152d98ab49faa1f42dc181cea1e8": {
      "model_module": "jupyter-leaflet",
      "model_module_version": "^0.17",
      "model_name": "LeafletTileLayerModel",
      "state": {
       "_model_module_version": "^0.17",
       "_view_module_version": "^0.17",
       "attribution": "Geoportail France",
       "name": "GeoportailFrance.Geographicalgridsystems_Maps_Bduni_J1",
       "options": [
        "attribution",
        "bounds",
        "detect_retina",
        "max_native_zoom",
        "max_zoom",
        "min_native_zoom",
        "min_zoom",
        "no_wrap",
        "tile_size",
        "tms",
        "zoom_offset"
       ],
       "url": "https://wxs.ign.fr/cartes/geoportail/wmts?REQUEST=GetTile&SERVICE=WMTS&VERSION=1.0.0&STYLE=normal&TILEMATRIXSET=PM&FORMAT=image/png&LAYER=GEOGRAPHICALGRIDSYSTEMS.MAPS.BDUNI.J1&TILEMATRIX={z}&TILEROW={y}&TILECOL={x}"
      }
     },
     "8d4ba289ccf44f4388fe14674cd44600": {
      "model_module": "@jupyter-widgets/base",
      "model_module_version": "1.2.0",
      "model_name": "LayoutModel",
      "state": {}
     },
     "8d96bb6d56374fdbaf9c4a087bec4526": {
      "model_module": "jupyter-leaflet",
      "model_module_version": "^0.17",
      "model_name": "LeafletTileLayerModel",
      "state": {
       "_model_module_version": "^0.17",
       "_view_module_version": "^0.17",
       "attribution": "Geoportail France",
       "max_zoom": 16,
       "name": "GeoportailFrance.Landuse_Agriculture2010",
       "options": [
        "attribution",
        "bounds",
        "detect_retina",
        "max_native_zoom",
        "max_zoom",
        "min_native_zoom",
        "min_zoom",
        "no_wrap",
        "tile_size",
        "tms",
        "zoom_offset"
       ],
       "url": "https://wxs.ign.fr/agriculture/geoportail/wmts?REQUEST=GetTile&SERVICE=WMTS&VERSION=1.0.0&STYLE=normal&TILEMATRIXSET=PM&FORMAT=image/png&LAYER=LANDUSE.AGRICULTURE2010&TILEMATRIX={z}&TILEROW={y}&TILECOL={x}"
      }
     },
     "8da2249ba1f245a68370862852bac0a4": {
      "model_module": "@jupyter-widgets/controls",
      "model_module_version": "1.5.0",
      "model_name": "ButtonModel",
      "state": {
       "description": "Clear TextBox",
       "layout": "IPY_MODEL_88d16e9b4f6247c886a58e91a2f68b1c",
       "style": "IPY_MODEL_ca43be6ec2e84e62bbf8d3b4f0277ab4"
      }
     },
     "8e37015dad41471f991ae5ea0a3418ba": {
      "model_module": "@jupyter-widgets/controls",
      "model_module_version": "1.5.0",
      "model_name": "DescriptionStyleModel",
      "state": {
       "description_width": ""
      }
     },
     "8f0190309d184947b11264cf364537b8": {
      "model_module": "jupyter-leaflet",
      "model_module_version": "^0.17",
      "model_name": "LeafletTileLayerModel",
      "state": {
       "_model_module_version": "^0.17",
       "_view_module_version": "^0.17",
       "attribution": "Geoportail France",
       "name": "GeoportailFrance.Transportnetworks_Runways",
       "options": [
        "attribution",
        "bounds",
        "detect_retina",
        "max_native_zoom",
        "max_zoom",
        "min_native_zoom",
        "min_zoom",
        "no_wrap",
        "tile_size",
        "tms",
        "zoom_offset"
       ],
       "url": "https://wxs.ign.fr/topographie/geoportail/wmts?REQUEST=GetTile&SERVICE=WMTS&VERSION=1.0.0&STYLE=normal&TILEMATRIXSET=PM&FORMAT=image/png&LAYER=TRANSPORTNETWORKS.RUNWAYS&TILEMATRIX={z}&TILEROW={y}&TILECOL={x}"
      }
     },
     "8fa216c606484e1db3884507db011c96": {
      "model_module": "@jupyter-widgets/controls",
      "model_module_version": "1.5.0",
      "model_name": "HBoxModel",
      "state": {
       "children": [
        "IPY_MODEL_6453fce52662430ca49bbbc4c58c1007",
        "IPY_MODEL_6220cd526ab14768b7c0186faf783892"
       ],
       "layout": "IPY_MODEL_040152c43b6e4f0b8425f2fcd6eb67f8"
      }
     },
     "9083f8cb861a4b8d8232bba14e5d3524": {
      "model_module": "jupyter-leaflet",
      "model_module_version": "^0.17",
      "model_name": "LeafletScaleControlModel",
      "state": {
       "_model_module_version": "^0.17",
       "_view_module_version": "^0.17",
       "imperial": true,
       "max_width": 100,
       "metric": true,
       "options": [
        "imperial",
        "max_width",
        "metric",
        "position",
        "update_when_idle"
       ],
       "position": "bottomleft",
       "update_when_idle": false
      }
     },
     "9191674ac0184eb18c8224395b08fc04": {
      "model_module": "jupyter-leaflet",
      "model_module_version": "^0.17",
      "model_name": "LeafletTileLayerModel",
      "state": {
       "_model_module_version": "^0.17",
       "_view_module_version": "^0.17",
       "attribution": "Geoportail France",
       "max_zoom": 16,
       "name": "GeoportailFrance.Landcover_Clc12",
       "options": [
        "attribution",
        "bounds",
        "detect_retina",
        "max_native_zoom",
        "max_zoom",
        "min_native_zoom",
        "min_zoom",
        "no_wrap",
        "tile_size",
        "tms",
        "zoom_offset"
       ],
       "url": "https://wxs.ign.fr/clc/geoportail/wmts?REQUEST=GetTile&SERVICE=WMTS&VERSION=1.0.0&STYLE=CORINE Land Cover - DOM&TILEMATRIXSET=PM&FORMAT=image/png&LAYER=LANDCOVER.CLC12&TILEMATRIX={z}&TILEROW={y}&TILECOL={x}"
      }
     },
     "919f80b003c4401c95fc6bfd25e48eb4": {
      "model_module": "jupyter-leaflet",
      "model_module_version": "^0.17",
      "model_name": "LeafletTileLayerModel",
      "state": {
       "_model_module_version": "^0.17",
       "_view_module_version": "^0.17",
       "attribution": "Geoportail France",
       "name": "GeoportailFrance.Orthoimagery_Orthophotos2011_2015",
       "options": [
        "attribution",
        "bounds",
        "detect_retina",
        "max_native_zoom",
        "max_zoom",
        "min_native_zoom",
        "min_zoom",
        "no_wrap",
        "tile_size",
        "tms",
        "zoom_offset"
       ],
       "url": "https://wxs.ign.fr/orthohisto/geoportail/wmts?REQUEST=GetTile&SERVICE=WMTS&VERSION=1.0.0&STYLE=normal&TILEMATRIXSET=PM&FORMAT=image/jpeg&LAYER=ORTHOIMAGERY.ORTHOPHOTOS2011-2015&TILEMATRIX={z}&TILEROW={y}&TILECOL={x}"
      }
     },
     "91a6549514df4cba82c49a411e9008a7": {
      "model_module": "jupyter-leaflet",
      "model_module_version": "^0.17",
      "model_name": "LeafletTileLayerModel",
      "state": {
       "_model_module_version": "^0.17",
       "_view_module_version": "^0.17",
       "attribution": "Geoportail France",
       "max_zoom": 16,
       "name": "GeoportailFrance.Protectedareas_Apg",
       "options": [
        "attribution",
        "bounds",
        "detect_retina",
        "max_native_zoom",
        "max_zoom",
        "min_native_zoom",
        "min_zoom",
        "no_wrap",
        "tile_size",
        "tms",
        "zoom_offset"
       ],
       "url": "https://wxs.ign.fr/environnement/geoportail/wmts?REQUEST=GetTile&SERVICE=WMTS&VERSION=1.0.0&STYLE=normal&TILEMATRIXSET=PM&FORMAT=image/png&LAYER=PROTECTEDAREAS.APG&TILEMATRIX={z}&TILEROW={y}&TILECOL={x}"
      }
     },
     "91ed8ba8e911415d928e43275bea77c8": {
      "model_module": "@jupyter-widgets/controls",
      "model_module_version": "1.5.0",
      "model_name": "HTMLModel",
      "state": {
       "layout": "IPY_MODEL_b36c4b92fcf749078f15c7b19ef167b6",
       "style": "IPY_MODEL_1a6fe899b2dd4c658af51970e335d5e2",
       "value": "<h2><b>Load and Save Config Files</b></h2>                <b>Load Config</b>: Load ROIs from file: 'config_gdf.geojson'                <li>'config.json' must be in the same directory as 'config_gdf.geojson'.</li>                <b>Save Config</b>: Saves rois, shorelines, transects and bounding box to file: 'config_gdf.geojson'                "
      }
     },
     "921fe33e81564a2fa48269f489f202f4": {
      "model_module": "jupyter-leaflet",
      "model_module_version": "^0.17",
      "model_name": "LeafletTileLayerModel",
      "state": {
       "_model_module_version": "^0.17",
       "_view_module_version": "^0.17",
       "attribution": "Geoportail France",
       "max_zoom": 19,
       "name": "GeoportailFrance.Orthoimagery_Ortho_sat_Pleiades_2022",
       "options": [
        "attribution",
        "bounds",
        "detect_retina",
        "max_native_zoom",
        "max_zoom",
        "min_native_zoom",
        "min_zoom",
        "no_wrap",
        "tile_size",
        "tms",
        "zoom_offset"
       ],
       "url": "https://wxs.ign.fr/satellite/geoportail/wmts?REQUEST=GetTile&SERVICE=WMTS&VERSION=1.0.0&STYLE=normal&TILEMATRIXSET=PM&FORMAT=image/png&LAYER=ORTHOIMAGERY.ORTHO-SAT.PLEIADES.2022&TILEMATRIX={z}&TILEROW={y}&TILECOL={x}"
      }
     },
     "92e3d00f9bfe4e4e98a385ef5bfde294": {
      "model_module": "@jupyter-widgets/controls",
      "model_module_version": "1.5.0",
      "model_name": "TextModel",
      "state": {
       "description": "Sitename:",
       "layout": "IPY_MODEL_19bcd7ca1253414196fc2d6d1df304d7",
       "placeholder": "Type sitename",
       "style": "IPY_MODEL_ad22a2c377c549e1ae224b9579e40ce4",
       "value": "sitename"
      }
     },
     "937d3d40a86e40b0bbafa8aef3d6b781": {
      "model_module": "jupyter-leaflet",
      "model_module_version": "^0.17",
      "model_name": "LeafletTileLayerModel",
      "state": {
       "_model_module_version": "^0.17",
       "_view_module_version": "^0.17",
       "attribution": "Geoportail France",
       "max_zoom": 16,
       "name": "GeoportailFrance.Landcover_Clc00r_fr",
       "options": [
        "attribution",
        "bounds",
        "detect_retina",
        "max_native_zoom",
        "max_zoom",
        "min_native_zoom",
        "min_zoom",
        "no_wrap",
        "tile_size",
        "tms",
        "zoom_offset"
       ],
       "url": "https://wxs.ign.fr/clc/geoportail/wmts?REQUEST=GetTile&SERVICE=WMTS&VERSION=1.0.0&STYLE=CORINE Land Cover - France métropolitaine&TILEMATRIXSET=PM&FORMAT=image/png&LAYER=LANDCOVER.CLC00R_FR&TILEMATRIX={z}&TILEROW={y}&TILECOL={x}"
      }
     },
     "93ce0d80af474d378a1ef1cf0bca9413": {
      "model_module": "@jupyter-widgets/controls",
      "model_module_version": "1.5.0",
      "model_name": "ToggleButtonModel",
      "state": {
       "button_style": "primary",
       "icon": "address-book",
       "layout": "IPY_MODEL_ab27e2c84a6b4c188cb48b7b0525ce2a",
       "style": "IPY_MODEL_74fff82caf914c3592583296eea61c5d",
       "tooltip": "Get US Census data"
      }
     },
     "95feb0a91b8749b69f85ea0b7de2282f": {
      "model_module": "jupyter-leaflet",
      "model_module_version": "^0.17",
      "model_name": "LeafletTileLayerModel",
      "state": {
       "_model_module_version": "^0.17",
       "_view_module_version": "^0.17",
       "attribution": "Geoportail France",
       "max_zoom": 15,
       "name": "GeoportailFrance.Geographicalgridsystems_1900typemaps",
       "options": [
        "attribution",
        "bounds",
        "detect_retina",
        "max_native_zoom",
        "max_zoom",
        "min_native_zoom",
        "min_zoom",
        "no_wrap",
        "tile_size",
        "tms",
        "zoom_offset"
       ],
       "url": "https://wxs.ign.fr/cartes/geoportail/wmts?REQUEST=GetTile&SERVICE=WMTS&VERSION=1.0.0&STYLE=normal&TILEMATRIXSET=PM&FORMAT=image/jpeg&LAYER=GEOGRAPHICALGRIDSYSTEMS.1900TYPEMAPS&TILEMATRIX={z}&TILEROW={y}&TILECOL={x}"
      }
     },
     "967c94398ec54d16ada68dbc9fc3ca7d": {
      "model_module": "jupyter-leaflet",
      "model_module_version": "^0.17",
      "model_name": "LeafletTileLayerModel",
      "state": {
       "_model_module_version": "^0.17",
       "_view_module_version": "^0.17",
       "attribution": "Geoportail France",
       "max_zoom": 16,
       "name": "GeoportailFrance.Landcover_Clc18_fr",
       "options": [
        "attribution",
        "bounds",
        "detect_retina",
        "max_native_zoom",
        "max_zoom",
        "min_native_zoom",
        "min_zoom",
        "no_wrap",
        "tile_size",
        "tms",
        "zoom_offset"
       ],
       "url": "https://wxs.ign.fr/clc/geoportail/wmts?REQUEST=GetTile&SERVICE=WMTS&VERSION=1.0.0&STYLE=CORINE Land Cover - France métropolitaine&TILEMATRIXSET=PM&FORMAT=image/png&LAYER=LANDCOVER.CLC18_FR&TILEMATRIX={z}&TILEROW={y}&TILECOL={x}"
      }
     },
     "96ee56e470834fb2bc3df69f9cb63dfb": {
      "model_module": "@jupyter-widgets/controls",
      "model_module_version": "1.5.0",
      "model_name": "DescriptionStyleModel",
      "state": {
       "description_width": ""
      }
     },
     "96fb63d5726f4dbc9555d13fcef0f27c": {
      "model_module": "@jupyter-widgets/controls",
      "model_module_version": "1.5.0",
      "model_name": "DescriptionStyleModel",
      "state": {
       "description_width": ""
      }
     },
     "974084d86ff14b3da7ad9d1e52ee8e58": {
      "model_module": "jupyter-leaflet",
      "model_module_version": "^0.17",
      "model_name": "LeafletTileLayerModel",
      "state": {
       "_model_module_version": "^0.17",
       "_view_module_version": "^0.17",
       "attribution": "Justice Map",
       "max_zoom": 22,
       "name": "JusticeMap.plurality",
       "options": [
        "attribution",
        "bounds",
        "detect_retina",
        "max_native_zoom",
        "max_zoom",
        "min_native_zoom",
        "min_zoom",
        "no_wrap",
        "tile_size",
        "tms",
        "zoom_offset"
       ],
       "url": "https://www.justicemap.org/tile/county/plural/{z}/{x}/{y}.png"
      }
     },
     "975c2e8f5d4f4df3813f24513d0b3d31": {
      "model_module": "jupyter-leaflet",
      "model_module_version": "^0.17",
      "model_name": "LeafletTileLayerModel",
      "state": {
       "_model_module_version": "^0.17",
       "_view_module_version": "^0.17",
       "attribution": "Geoportail France",
       "name": "GeoportailFrance.Orthoimagery_Orthophotos2000_2005",
       "options": [
        "attribution",
        "bounds",
        "detect_retina",
        "max_native_zoom",
        "max_zoom",
        "min_native_zoom",
        "min_zoom",
        "no_wrap",
        "tile_size",
        "tms",
        "zoom_offset"
       ],
       "url": "https://wxs.ign.fr/orthohisto/geoportail/wmts?REQUEST=GetTile&SERVICE=WMTS&VERSION=1.0.0&STYLE=normal&TILEMATRIXSET=PM&FORMAT=image/jpeg&LAYER=ORTHOIMAGERY.ORTHOPHOTOS2000-2005&TILEMATRIX={z}&TILEROW={y}&TILECOL={x}"
      }
     },
     "987bcf16e1894390b64773407216b9de": {
      "model_module": "jupyter-leaflet",
      "model_module_version": "^0.17",
      "model_name": "LeafletTileLayerModel",
      "state": {
       "_model_module_version": "^0.17",
       "_view_module_version": "^0.17",
       "attribution": "Geoportail France",
       "max_zoom": 16,
       "name": "GeoportailFrance.Insee_Filosofi_Part_Individus_55_64_Ans_Secret",
       "options": [
        "attribution",
        "bounds",
        "detect_retina",
        "max_native_zoom",
        "max_zoom",
        "min_native_zoom",
        "min_zoom",
        "no_wrap",
        "tile_size",
        "tms",
        "zoom_offset"
       ],
       "url": "https://wxs.ign.fr/economie/geoportail/wmts?REQUEST=GetTile&SERVICE=WMTS&VERSION=1.0.0&STYLE=INSEE&TILEMATRIXSET=PM&FORMAT=image/png&LAYER=INSEE.FILOSOFI.PART.INDIVIDUS.55.64.ANS.SECRET&TILEMATRIX={z}&TILEROW={y}&TILECOL={x}"
      }
     },
     "98839b2a7a184c44a4dced86ceaa70b7": {
      "model_module": "jupyter-leaflet",
      "model_module_version": "^0.17",
      "model_name": "LeafletTileLayerModel",
      "state": {
       "_model_module_version": "^0.17",
       "_view_module_version": "^0.17",
       "attribution": "Geoportail France",
       "name": "GeoportailFrance.Transportnetworks_Roads_Direction",
       "options": [
        "attribution",
        "bounds",
        "detect_retina",
        "max_native_zoom",
        "max_zoom",
        "min_native_zoom",
        "min_zoom",
        "no_wrap",
        "tile_size",
        "tms",
        "zoom_offset"
       ],
       "url": "https://wxs.ign.fr/transports/geoportail/wmts?REQUEST=GetTile&SERVICE=WMTS&VERSION=1.0.0&STYLE=normal&TILEMATRIXSET=PM&FORMAT=image/png&LAYER=TRANSPORTNETWORKS.ROADS.DIRECTION&TILEMATRIX={z}&TILEROW={y}&TILECOL={x}"
      }
     },
     "998182579a8e450cae90276e6fbb0ede": {
      "model_module": "jupyter-leaflet",
      "model_module_version": "^0.17",
      "model_name": "LeafletTileLayerModel",
      "state": {
       "_model_module_version": "^0.17",
       "_view_module_version": "^0.17",
       "attribution": "(C) OpenStreetMap contributors",
       "max_zoom": 19,
       "name": "OpenStreetMap.Mapnik",
       "options": [
        "attribution",
        "bounds",
        "detect_retina",
        "max_native_zoom",
        "max_zoom",
        "min_native_zoom",
        "min_zoom",
        "no_wrap",
        "tile_size",
        "tms",
        "zoom_offset"
       ],
       "url": "https://tile.openstreetmap.org/{z}/{x}/{y}.png"
      }
     },
     "99e84711ea4642dfbb21ce8b46c8334b": {
      "model_module": "jupyter-leaflet",
      "model_module_version": "^0.17",
      "model_name": "LeafletTileLayerModel",
      "state": {
       "_model_module_version": "^0.17",
       "_view_module_version": "^0.17",
       "attribution": "Map data: (C) OpenStreetMap contributors | Map style: (C) waymarkedtrails.org (CC-BY-SA)",
       "name": "WaymarkedTrails.mtb",
       "options": [
        "attribution",
        "bounds",
        "detect_retina",
        "max_native_zoom",
        "max_zoom",
        "min_native_zoom",
        "min_zoom",
        "no_wrap",
        "tile_size",
        "tms",
        "zoom_offset"
       ],
       "url": "https://tile.waymarkedtrails.org/mtb/{z}/{x}/{y}.png"
      }
     },
     "9a07cb0a56184d8cbaff37c59d303ee3": {
      "model_module": "@jupyter-widgets/controls",
      "model_module_version": "1.5.0",
      "model_name": "ButtonStyleModel",
      "state": {
       "button_color": "#ae3cf0"
      }
     },
     "9aa59f2b29394fce911f44bb8a78708d": {
      "model_module": "jupyter-leaflet",
      "model_module_version": "^0.17",
      "model_name": "LeafletTileLayerModel",
      "state": {
       "_model_module_version": "^0.17",
       "_view_module_version": "^0.17",
       "attribution": "Geoportail France",
       "max_zoom": 16,
       "name": "GeoportailFrance.Landcover_Clc90_fr",
       "options": [
        "attribution",
        "bounds",
        "detect_retina",
        "max_native_zoom",
        "max_zoom",
        "min_native_zoom",
        "min_zoom",
        "no_wrap",
        "tile_size",
        "tms",
        "zoom_offset"
       ],
       "url": "https://wxs.ign.fr/clc/geoportail/wmts?REQUEST=GetTile&SERVICE=WMTS&VERSION=1.0.0&STYLE=CORINE Land Cover - France métropolitaine&TILEMATRIXSET=PM&FORMAT=image/png&LAYER=LANDCOVER.CLC90_FR&TILEMATRIX={z}&TILEROW={y}&TILECOL={x}"
      }
     },
     "9abe21e9e5f64746bffebe09c031315e": {
      "model_module": "jupyter-leaflet",
      "model_module_version": "^0.17",
      "model_name": "LeafletTileLayerModel",
      "state": {
       "_model_module_version": "^0.17",
       "_view_module_version": "^0.17",
       "attribution": "Geoportail France",
       "max_zoom": 16,
       "name": "GeoportailFrance.Insee_Filosofi_Part_Menages_1_Personne_Secret",
       "options": [
        "attribution",
        "bounds",
        "detect_retina",
        "max_native_zoom",
        "max_zoom",
        "min_native_zoom",
        "min_zoom",
        "no_wrap",
        "tile_size",
        "tms",
        "zoom_offset"
       ],
       "url": "https://wxs.ign.fr/economie/geoportail/wmts?REQUEST=GetTile&SERVICE=WMTS&VERSION=1.0.0&STYLE=INSEE&TILEMATRIXSET=PM&FORMAT=image/png&LAYER=INSEE.FILOSOFI.PART.MENAGES.1.PERSONNE.SECRET&TILEMATRIX={z}&TILEROW={y}&TILECOL={x}"
      }
     },
     "9acc49ddb0164b37aae791e5dc41f5aa": {
      "model_module": "jupyter-leaflet",
      "model_module_version": "^0.17",
      "model_name": "LeafletZoomControlModel",
      "state": {
       "_model_module_version": "^0.17",
       "_view_module_version": "^0.17",
       "options": [
        "position",
        "zoom_in_text",
        "zoom_in_title",
        "zoom_out_text",
        "zoom_out_title"
       ]
      }
     },
     "9ad915c5c20a40fca3b29462f4bf3f3c": {
      "model_module": "jupyter-leaflet",
      "model_module_version": "^0.17",
      "model_name": "LeafletTileLayerModel",
      "state": {
       "_model_module_version": "^0.17",
       "_view_module_version": "^0.17",
       "attribution": "Geoportail France",
       "max_zoom": 16,
       "name": "GeoportailFrance.Landcover_Forestinventory_V2",
       "options": [
        "attribution",
        "bounds",
        "detect_retina",
        "max_native_zoom",
        "max_zoom",
        "min_native_zoom",
        "min_zoom",
        "no_wrap",
        "tile_size",
        "tms",
        "zoom_offset"
       ],
       "url": "https://wxs.ign.fr/environnement/geoportail/wmts?REQUEST=GetTile&SERVICE=WMTS&VERSION=1.0.0&STYLE=normal&TILEMATRIXSET=PM&FORMAT=image/png&LAYER=LANDCOVER.FORESTINVENTORY.V2&TILEMATRIX={z}&TILEROW={y}&TILECOL={x}"
      }
     },
     "9b6e4ef102ac45dfb8213bad949f50fe": {
      "model_module": "jupyter-leaflet",
      "model_module_version": "^0.17",
      "model_name": "LeafletTileLayerModel",
      "state": {
       "_model_module_version": "^0.17",
       "_view_module_version": "^0.17",
       "attribution": "Tiles (C) Esri -- Sources: GEBCO, NOAA, CHS, OSU, UNH, CSUMB, National Geographic, DeLorme, NAVTEQ, and Esri",
       "max_zoom": 13,
       "name": "Esri.OceanBasemap",
       "options": [
        "attribution",
        "bounds",
        "detect_retina",
        "max_native_zoom",
        "max_zoom",
        "min_native_zoom",
        "min_zoom",
        "no_wrap",
        "tile_size",
        "tms",
        "zoom_offset"
       ],
       "url": "https://server.arcgisonline.com/ArcGIS/rest/services/Ocean_Basemap/MapServer/tile/{z}/{y}/{x}"
      }
     },
     "9be3df47d7f148eeabc8e42a74480ec1": {
      "model_module": "jupyter-leaflet",
      "model_module_version": "^0.17",
      "model_name": "LeafletTileLayerModel",
      "state": {
       "_model_module_version": "^0.17",
       "_view_module_version": "^0.17",
       "attribution": "Geoportail France",
       "max_zoom": 17,
       "name": "GeoportailFrance.Orthoimagery_Ortho_sat_Spot_2014",
       "options": [
        "attribution",
        "bounds",
        "detect_retina",
        "max_native_zoom",
        "max_zoom",
        "min_native_zoom",
        "min_zoom",
        "no_wrap",
        "tile_size",
        "tms",
        "zoom_offset"
       ],
       "url": "https://wxs.ign.fr/satellite/geoportail/wmts?REQUEST=GetTile&SERVICE=WMTS&VERSION=1.0.0&STYLE=normal&TILEMATRIXSET=PM&FORMAT=image/jpeg&LAYER=ORTHOIMAGERY.ORTHO-SAT.SPOT.2014&TILEMATRIX={z}&TILEROW={y}&TILECOL={x}"
      }
     },
     "9c9e9b5b883e420ca50505dcd1e41644": {
      "model_module": "@jupyter-widgets/controls",
      "model_module_version": "1.5.0",
      "model_name": "ToggleButtonModel",
      "state": {
       "button_style": "primary",
       "icon": "fast-forward",
       "layout": "IPY_MODEL_b3ffbb63677440d9a87c4eddcb820439",
       "style": "IPY_MODEL_f9f8e8b2613943bbae5f0321d1dab351",
       "tooltip": "Activate the time slider"
      }
     },
     "9d31c68c74814203a1edb78533e5cd2b": {
      "model_module": "@jupyter-widgets/controls",
      "model_module_version": "1.5.0",
      "model_name": "ToggleButtonModel",
      "state": {
       "button_style": "primary",
       "icon": "picture-o",
       "layout": "IPY_MODEL_733eb0e65af24a7b88f203da5b598d96",
       "style": "IPY_MODEL_bbd50e6bcc614a4ba1cae87bba76dbb0",
       "tooltip": "Open COG/STAC dataset"
      }
     },
     "9d606ef876254fbb83f598c7eacd2a9f": {
      "model_module": "jupyter-leaflet",
      "model_module_version": "^0.17",
      "model_name": "LeafletTileLayerModel",
      "state": {
       "_model_module_version": "^0.17",
       "_view_module_version": "^0.17",
       "attribution": "Map data: (C) OpenStreetMap contributors | Map style: (C) SafeCast (CC-BY-SA)",
       "max_zoom": 16,
       "name": "SafeCast",
       "options": [
        "attribution",
        "bounds",
        "detect_retina",
        "max_native_zoom",
        "max_zoom",
        "min_native_zoom",
        "min_zoom",
        "no_wrap",
        "tile_size",
        "tms",
        "zoom_offset"
       ],
       "url": "https://s3.amazonaws.com/te512.safecast.org/{z}/{x}/{y}.png"
      }
     },
     "9dabbca992954b078b622f4e48d5f0bf": {
      "model_module": "@jupyter-widgets/base",
      "model_module_version": "1.2.0",
      "model_name": "LayoutModel",
      "state": {
       "height": "auto",
       "padding": "0px 0px 0px 4px",
       "width": "auto"
      }
     },
     "9e348e37ede54b0a90d3fac35ad60585": {
      "model_module": "jupyter-leaflet",
      "model_module_version": "^0.17",
      "model_name": "LeafletTileLayerModel",
      "state": {
       "_model_module_version": "^0.17",
       "_view_module_version": "^0.17",
       "attribution": "Geoportail France",
       "max_zoom": 19,
       "name": "GeoportailFrance.Orthoimagery_Orthophotos_Irc",
       "options": [
        "attribution",
        "bounds",
        "detect_retina",
        "max_native_zoom",
        "max_zoom",
        "min_native_zoom",
        "min_zoom",
        "no_wrap",
        "tile_size",
        "tms",
        "zoom_offset"
       ],
       "url": "https://wxs.ign.fr/ortho/geoportail/wmts?REQUEST=GetTile&SERVICE=WMTS&VERSION=1.0.0&STYLE=normal&TILEMATRIXSET=PM&FORMAT=image/jpeg&LAYER=ORTHOIMAGERY.ORTHOPHOTOS.IRC&TILEMATRIX={z}&TILEROW={y}&TILECOL={x}"
      }
     },
     "9e42d7e744e8417da096083044ec879a": {
      "model_module": "@jupyter-widgets/base",
      "model_module_version": "1.2.0",
      "model_name": "LayoutModel",
      "state": {
       "height": "auto",
       "padding": "0px 0px 0px 4px",
       "width": "auto"
      }
     },
     "9ea74527c0484e6e8272cf6be216bcbc": {
      "model_module": "jupyter-leaflet",
      "model_module_version": "^0.17",
      "model_name": "LeafletTileLayerModel",
      "state": {
       "_model_module_version": "^0.17",
       "_view_module_version": "^0.17",
       "attribution": "Map tiles by Stamen Design, CC BY 3.0 -- Map data (C) OpenStreetMap contributors",
       "max_zoom": 20,
       "name": "Stamen.TopOSMRelief",
       "options": [
        "attribution",
        "bounds",
        "detect_retina",
        "max_native_zoom",
        "max_zoom",
        "min_native_zoom",
        "min_zoom",
        "no_wrap",
        "tile_size",
        "tms",
        "zoom_offset"
       ],
       "url": "https://stamen-tiles-a.a.ssl.fastly.net/toposm-color-relief/{z}/{x}/{y}.jpg"
      }
     },
     "9ee5fb4a30464e6da8e7f9f787a1bc8a": {
      "model_module": "jupyter-leaflet",
      "model_module_version": "^0.17",
      "model_name": "LeafletTileLayerModel",
      "state": {
       "_model_module_version": "^0.17",
       "_view_module_version": "^0.17",
       "attribution": "Geoportail France",
       "max_zoom": 16,
       "name": "GeoportailFrance.Protectedareas_Rb",
       "options": [
        "attribution",
        "bounds",
        "detect_retina",
        "max_native_zoom",
        "max_zoom",
        "min_native_zoom",
        "min_zoom",
        "no_wrap",
        "tile_size",
        "tms",
        "zoom_offset"
       ],
       "url": "https://wxs.ign.fr/environnement/geoportail/wmts?REQUEST=GetTile&SERVICE=WMTS&VERSION=1.0.0&STYLE=normal&TILEMATRIXSET=PM&FORMAT=image/png&LAYER=PROTECTEDAREAS.RB&TILEMATRIX={z}&TILEROW={y}&TILECOL={x}"
      }
     },
     "9f3f60b55bad49a69243a4110ff63bf5": {
      "model_module": "@jupyter-widgets/base",
      "model_module_version": "1.2.0",
      "model_name": "LayoutModel",
      "state": {}
     },
     "9facc10a106247b28b3a20ba5f3048b6": {
      "model_module": "jupyter-leaflet",
      "model_module_version": "^0.17",
      "model_name": "LeafletTileLayerModel",
      "state": {
       "_model_module_version": "^0.17",
       "_view_module_version": "^0.17",
       "attribution": "Geoportail France",
       "name": "GeoportailFrance.Orthoimagery_Orthophotos2004",
       "options": [
        "attribution",
        "bounds",
        "detect_retina",
        "max_native_zoom",
        "max_zoom",
        "min_native_zoom",
        "min_zoom",
        "no_wrap",
        "tile_size",
        "tms",
        "zoom_offset"
       ],
       "url": "https://wxs.ign.fr/orthohisto/geoportail/wmts?REQUEST=GetTile&SERVICE=WMTS&VERSION=1.0.0&STYLE=normal&TILEMATRIXSET=PM&FORMAT=image/jpeg&LAYER=ORTHOIMAGERY.ORTHOPHOTOS2004&TILEMATRIX={z}&TILEROW={y}&TILECOL={x}"
      }
     },
     "a002f90625b44ef3ad20ee443722c464": {
      "model_module": "@jupyter-widgets/controls",
      "model_module_version": "1.5.0",
      "model_name": "DescriptionStyleModel",
      "state": {
       "description_width": ""
      }
     },
     "a03fbd0ad24945c2bbcb2b8159990ac0": {
      "model_module": "jupyter-leaflet",
      "model_module_version": "^0.17",
      "model_name": "LeafletTileLayerModel",
      "state": {
       "_model_module_version": "^0.17",
       "_view_module_version": "^0.17",
       "attribution": "Tiles courtesy of the U.S. Geological Survey",
       "max_zoom": 20,
       "name": "USGS.USImageryTopo",
       "options": [
        "attribution",
        "bounds",
        "detect_retina",
        "max_native_zoom",
        "max_zoom",
        "min_native_zoom",
        "min_zoom",
        "no_wrap",
        "tile_size",
        "tms",
        "zoom_offset"
       ],
       "url": "https://basemap.nationalmap.gov/arcgis/rest/services/USGSImageryTopo/MapServer/tile/{z}/{y}/{x}"
      }
     },
     "a186523da21b475f953348fca22080c0": {
      "model_module": "jupyter-leaflet",
      "model_module_version": "^0.17",
      "model_name": "LeafletTileLayerModel",
      "state": {
       "_model_module_version": "^0.17",
       "_view_module_version": "^0.17",
       "attribution": "Geoportail France",
       "max_zoom": 16,
       "name": "GeoportailFrance.Landcover_Cha12_dom",
       "options": [
        "attribution",
        "bounds",
        "detect_retina",
        "max_native_zoom",
        "max_zoom",
        "min_native_zoom",
        "min_zoom",
        "no_wrap",
        "tile_size",
        "tms",
        "zoom_offset"
       ],
       "url": "https://wxs.ign.fr/clc/geoportail/wmts?REQUEST=GetTile&SERVICE=WMTS&VERSION=1.0.0&STYLE=CORINE Land Cover - DOM&TILEMATRIXSET=PM&FORMAT=image/png&LAYER=LANDCOVER.CHA12_DOM&TILEMATRIX={z}&TILEROW={y}&TILECOL={x}"
      }
     },
     "a2e001e5de2b43f0848d99ebf1d7369c": {
      "model_module": "jupyter-leaflet",
      "model_module_version": "^0.17",
      "model_name": "LeafletTileLayerModel",
      "state": {
       "_model_module_version": "^0.17",
       "_view_module_version": "^0.17",
       "attribution": "Geoportail France",
       "name": "GeoportailFrance.Orthoimagery_Orthophotos2006_2010",
       "options": [
        "attribution",
        "bounds",
        "detect_retina",
        "max_native_zoom",
        "max_zoom",
        "min_native_zoom",
        "min_zoom",
        "no_wrap",
        "tile_size",
        "tms",
        "zoom_offset"
       ],
       "url": "https://wxs.ign.fr/orthohisto/geoportail/wmts?REQUEST=GetTile&SERVICE=WMTS&VERSION=1.0.0&STYLE=normal&TILEMATRIXSET=PM&FORMAT=image/jpeg&LAYER=ORTHOIMAGERY.ORTHOPHOTOS2006-2010&TILEMATRIX={z}&TILEROW={y}&TILECOL={x}"
      }
     },
     "a2f37b0d635247cbb6a93ce044b415e4": {
      "model_module": "jupyter-leaflet",
      "model_module_version": "^0.17",
      "model_name": "LeafletTileLayerModel",
      "state": {
       "_model_module_version": "^0.17",
       "_view_module_version": "^0.17",
       "attribution": "Geoportail France",
       "max_zoom": 16,
       "name": "GeoportailFrance.Geographicalgridsystem_Dfci",
       "options": [
        "attribution",
        "bounds",
        "detect_retina",
        "max_native_zoom",
        "max_zoom",
        "min_native_zoom",
        "min_zoom",
        "no_wrap",
        "tile_size",
        "tms",
        "zoom_offset"
       ],
       "url": "https://wxs.ign.fr/environnement/geoportail/wmts?REQUEST=GetTile&SERVICE=WMTS&VERSION=1.0.0&STYLE=normal&TILEMATRIXSET=PM&FORMAT=image/png&LAYER=GEOGRAPHICALGRIDSYSTEM.DFCI&TILEMATRIX={z}&TILEROW={y}&TILECOL={x}"
      }
     },
     "a36552c99e0a4906b49f01973a36470e": {
      "model_module": "jupyter-leaflet",
      "model_module_version": "^0.17",
      "model_name": "LeafletTileLayerModel",
      "state": {
       "_model_module_version": "^0.17",
       "_view_module_version": "^0.17",
       "attribution": "Geoportail France",
       "max_zoom": 16,
       "name": "GeoportailFrance.Ocsge_Couverture_2016",
       "options": [
        "attribution",
        "bounds",
        "detect_retina",
        "max_native_zoom",
        "max_zoom",
        "min_native_zoom",
        "min_zoom",
        "no_wrap",
        "tile_size",
        "tms",
        "zoom_offset"
       ],
       "url": "https://wxs.ign.fr/ocsge/geoportail/wmts?REQUEST=GetTile&SERVICE=WMTS&VERSION=1.0.0&STYLE=nolegend&TILEMATRIXSET=PM&FORMAT=image/png&LAYER=OCSGE.COUVERTURE.2016&TILEMATRIX={z}&TILEROW={y}&TILECOL={x}"
      }
     },
     "a39e6c442d334493818d9a9a3716cf28": {
      "model_module": "jupyter-leaflet",
      "model_module_version": "^0.17",
      "model_name": "LeafletTileLayerModel",
      "state": {
       "_model_module_version": "^0.17",
       "_view_module_version": "^0.17",
       "attribution": "Geoportail France",
       "max_zoom": 16,
       "name": "GeoportailFrance.Protectedareas_Znieff1",
       "options": [
        "attribution",
        "bounds",
        "detect_retina",
        "max_native_zoom",
        "max_zoom",
        "min_native_zoom",
        "min_zoom",
        "no_wrap",
        "tile_size",
        "tms",
        "zoom_offset"
       ],
       "url": "https://wxs.ign.fr/environnement/geoportail/wmts?REQUEST=GetTile&SERVICE=WMTS&VERSION=1.0.0&STYLE=normal&TILEMATRIXSET=PM&FORMAT=image/png&LAYER=PROTECTEDAREAS.ZNIEFF1&TILEMATRIX={z}&TILEROW={y}&TILECOL={x}"
      }
     },
     "a41a3e570dd1441fa47a59ec598736e1": {
      "model_module": "@jupyter-widgets/controls",
      "model_module_version": "1.5.0",
      "model_name": "DescriptionStyleModel",
      "state": {
       "description_width": ""
      }
     },
     "a47b50d80ee3456eaadef24ddab8a9e9": {
      "model_module": "jupyter-leaflet",
      "model_module_version": "^0.17",
      "model_name": "LeafletTileLayerModel",
      "state": {
       "_model_module_version": "^0.17",
       "_view_module_version": "^0.17",
       "attribution": "Geoportail France",
       "name": "GeoportailFrance.Geographicalgridsystems_Terrier_v2",
       "options": [
        "attribution",
        "bounds",
        "detect_retina",
        "max_native_zoom",
        "max_zoom",
        "min_native_zoom",
        "min_zoom",
        "no_wrap",
        "tile_size",
        "tms",
        "zoom_offset"
       ],
       "url": "https://wxs.ign.fr/cartes/geoportail/wmts?REQUEST=GetTile&SERVICE=WMTS&VERSION=1.0.0&STYLE=nolegend&TILEMATRIXSET=PM&FORMAT=image/png&LAYER=GEOGRAPHICALGRIDSYSTEMS.TERRIER_V2&TILEMATRIX={z}&TILEROW={y}&TILECOL={x}"
      }
     },
     "a4b4a4cf1e5f4663bff6952147fe4448": {
      "model_module": "jupyter-leaflet",
      "model_module_version": "^0.17",
      "model_name": "LeafletWMSLayerModel",
      "state": {
       "_model_module_version": "^0.17",
       "_view_module_version": "^0.17",
       "attribution": "MRLC",
       "crs": {
        "custom": false,
        "name": "EPSG3857"
       },
       "format": "image/png",
       "layers": "NLCD_2008_Land_Cover_L48",
       "name": "NLCD 2008 CONUS Land Cover",
       "options": [
        "attribution",
        "bounds",
        "detect_retina",
        "format",
        "layers",
        "max_native_zoom",
        "max_zoom",
        "min_native_zoom",
        "min_zoom",
        "no_wrap",
        "styles",
        "tile_size",
        "tms",
        "transparent",
        "uppercase",
        "zoom_offset"
       ],
       "transparent": true,
       "url": "https://www.mrlc.gov/geoserver/mrlc_display/NLCD_2008_Land_Cover_L48/wms?"
      }
     },
     "a4d004f1a58a4c599cc802be7215f87e": {
      "model_module": "@jupyter-widgets/controls",
      "model_module_version": "1.5.0",
      "model_name": "AccordionModel",
      "state": {
       "_titles": {
        "0": "View Settings"
       },
       "children": [
        "IPY_MODEL_b90c55dfb99545fdbe81fdb3cbc1245c"
       ],
       "layout": "IPY_MODEL_22a8a16e3e7f48268404f4672317fc66"
      }
     },
     "a6bb3b69dcb44cd7b2f9a4d251978795": {
      "model_module": "jupyter-leaflet",
      "model_module_version": "^0.17",
      "model_name": "LeafletTileLayerModel",
      "state": {
       "_model_module_version": "^0.17",
       "_view_module_version": "^0.17",
       "attribution": "&copy; <a href=\"http://www.gaode.com/\">Gaode.com</a>",
       "max_zoom": 19,
       "name": "Gaode.Normal",
       "options": [
        "attribution",
        "bounds",
        "detect_retina",
        "max_native_zoom",
        "max_zoom",
        "min_native_zoom",
        "min_zoom",
        "no_wrap",
        "tile_size",
        "tms",
        "zoom_offset"
       ],
       "url": "http://webrd01.is.autonavi.com/appmaptile?lang=zh_cn&size=1&scale=1&style=7&x={x}&y={y}&z={z}"
      }
     },
     "a737dba0e16144d5a7b07cfa66f8ec26": {
      "model_module": "@jupyter-widgets/controls",
      "model_module_version": "1.5.0",
      "model_name": "ButtonStyleModel",
      "state": {
       "button_color": "#ae3cf0"
      }
     },
     "a8087a6fab8846c79fe584e6530e926a": {
      "model_module": "@jupyter-widgets/controls",
      "model_module_version": "1.5.0",
      "model_name": "DescriptionStyleModel",
      "state": {
       "description_width": ""
      }
     },
     "a83484f2934646f5a69327f6c8d53dc2": {
      "model_module": "jupyter-leaflet",
      "model_module_version": "^0.17",
      "model_name": "LeafletTileLayerModel",
      "state": {
       "_model_module_version": "^0.17",
       "_view_module_version": "^0.17",
       "attribution": "Geoportail France",
       "max_zoom": 17,
       "name": "GeoportailFrance.Orthoimagery_Ortho_sat_Spot_2013",
       "options": [
        "attribution",
        "bounds",
        "detect_retina",
        "max_native_zoom",
        "max_zoom",
        "min_native_zoom",
        "min_zoom",
        "no_wrap",
        "tile_size",
        "tms",
        "zoom_offset"
       ],
       "url": "https://wxs.ign.fr/satellite/geoportail/wmts?REQUEST=GetTile&SERVICE=WMTS&VERSION=1.0.0&STYLE=normal&TILEMATRIXSET=PM&FORMAT=image/jpeg&LAYER=ORTHOIMAGERY.ORTHO-SAT.SPOT.2013&TILEMATRIX={z}&TILEROW={y}&TILECOL={x}"
      }
     },
     "a84282b583dc4989b08700bab2907fb9": {
      "model_module": "jupyter-leaflet",
      "model_module_version": "^0.17",
      "model_name": "LeafletTileLayerModel",
      "state": {
       "_model_module_version": "^0.17",
       "_view_module_version": "^0.17",
       "attribution": "Geoportail France",
       "max_zoom": 16,
       "name": "GeoportailFrance.Landuse_Agriculture2007",
       "options": [
        "attribution",
        "bounds",
        "detect_retina",
        "max_native_zoom",
        "max_zoom",
        "min_native_zoom",
        "min_zoom",
        "no_wrap",
        "tile_size",
        "tms",
        "zoom_offset"
       ],
       "url": "https://wxs.ign.fr/agriculture/geoportail/wmts?REQUEST=GetTile&SERVICE=WMTS&VERSION=1.0.0&STYLE=normal&TILEMATRIXSET=PM&FORMAT=image/png&LAYER=LANDUSE.AGRICULTURE2007&TILEMATRIX={z}&TILEROW={y}&TILECOL={x}"
      }
     },
     "a85932d34ee644088f3114f39d50e8ac": {
      "model_module": "jupyter-leaflet",
      "model_module_version": "^0.17",
      "model_name": "LeafletTileLayerModel",
      "state": {
       "_model_module_version": "^0.17",
       "_view_module_version": "^0.17",
       "attribution": "Geoportail France",
       "max_zoom": 19,
       "name": "GeoportailFrance.Orthoimagery_Orthophotos_Irc_2015",
       "options": [
        "attribution",
        "bounds",
        "detect_retina",
        "max_native_zoom",
        "max_zoom",
        "min_native_zoom",
        "min_zoom",
        "no_wrap",
        "tile_size",
        "tms",
        "zoom_offset"
       ],
       "url": "https://wxs.ign.fr/orthohisto/geoportail/wmts?REQUEST=GetTile&SERVICE=WMTS&VERSION=1.0.0&STYLE=normal&TILEMATRIXSET=PM&FORMAT=image/jpeg&LAYER=ORTHOIMAGERY.ORTHOPHOTOS.IRC.2015&TILEMATRIX={z}&TILEROW={y}&TILECOL={x}"
      }
     },
     "a945cd55602b40008c4e492f5b2a1fce": {
      "model_module": "jupyter-leaflet",
      "model_module_version": "^0.17",
      "model_name": "LeafletTileLayerModel",
      "state": {
       "_model_module_version": "^0.17",
       "_view_module_version": "^0.17",
       "attribution": "Imagery provided by services from the Global Imagery Browse Services (GIBS), operated by the NASA/GSFC/Earth Science Data and Information System (ESDIS) with funding provided by NASA/HQ.",
       "max_zoom": 5,
       "name": "NASAGIBS.BlueMarble3413",
       "options": [
        "attribution",
        "bounds",
        "detect_retina",
        "max_native_zoom",
        "max_zoom",
        "min_native_zoom",
        "min_zoom",
        "no_wrap",
        "tile_size",
        "tms",
        "zoom_offset"
       ],
       "url": "https://gibs.earthdata.nasa.gov/wmts/epsg3413/best/BlueMarble_NextGeneration/default/EPSG3413_500m/{z}/{y}/{x}.jpeg"
      }
     },
     "a94dcb7f2c734d1897d988cd08eb2cee": {
      "model_module": "@jupyter-widgets/controls",
      "model_module_version": "1.5.0",
      "model_name": "ToggleButtonModel",
      "state": {
       "button_style": "primary",
       "icon": "stack-exchange",
       "layout": "IPY_MODEL_b2fff6bec27245a481a7d49e833bf40e",
       "style": "IPY_MODEL_4171606aac8a4657b601e4b98809efa2",
       "tooltip": "Discover STAC Catalog"
      }
     },
     "a98473c8faca49ab8c6e9ff5e7044f3e": {
      "model_module": "jupyter-leaflet",
      "model_module_version": "^0.17",
      "model_name": "LeafletTileLayerModel",
      "state": {
       "_model_module_version": "^0.17",
       "_view_module_version": "^0.17",
       "attribution": "Geoportail France",
       "max_zoom": 16,
       "name": "GeoportailFrance.Insee_Filosofi_Part_Logements_Construits_1970_1990_Secret",
       "options": [
        "attribution",
        "bounds",
        "detect_retina",
        "max_native_zoom",
        "max_zoom",
        "min_native_zoom",
        "min_zoom",
        "no_wrap",
        "tile_size",
        "tms",
        "zoom_offset"
       ],
       "url": "https://wxs.ign.fr/economie/geoportail/wmts?REQUEST=GetTile&SERVICE=WMTS&VERSION=1.0.0&STYLE=INSEE&TILEMATRIXSET=PM&FORMAT=image/png&LAYER=INSEE.FILOSOFI.PART.LOGEMENTS.CONSTRUITS.1970.1990.SECRET&TILEMATRIX={z}&TILEROW={y}&TILECOL={x}"
      }
     },
     "aa3bc2c1e63047dabcc5690c9554b5b1": {
      "model_module": "jupyter-leaflet",
      "model_module_version": "^0.17",
      "model_name": "LeafletTileLayerModel",
      "state": {
       "_model_module_version": "^0.17",
       "_view_module_version": "^0.17",
       "attribution": "Google",
       "max_zoom": 22,
       "name": "Google Maps",
       "options": [
        "attribution",
        "bounds",
        "detect_retina",
        "max_native_zoom",
        "max_zoom",
        "min_native_zoom",
        "min_zoom",
        "no_wrap",
        "tile_size",
        "tms",
        "zoom_offset"
       ],
       "url": "https://mt1.google.com/vt/lyrs=m&x={x}&y={y}&z={z}"
      }
     },
     "aa6b8b446f9d4cc182649a043eaa8ed9": {
      "model_module": "@jupyter-widgets/controls",
      "model_module_version": "1.5.0",
      "model_name": "HTMLModel",
      "state": {
       "layout": "IPY_MODEL_2b4b5ce62bad439c9fbd1b938e0f4ceb",
       "style": "IPY_MODEL_c2c70cf615e74eb3a66dcb53309a1e8b",
       "value": "<h2>Save to file</h2>                Save feature on the map to a geojson file.                <br>Geojson file will be saved to Seg2Map directory.            "
      }
     },
     "aacbc43ca9cc4acf86bced51a5bc44b7": {
      "model_module": "jupyter-leaflet",
      "model_module_version": "^0.17",
      "model_name": "LeafletGeoJSONModel",
      "state": {
       "_model_module_version": "^0.17",
       "_view_module_version": "^0.17",
       "data": {
        "features": [
         {
          "geometry": {
           "coordinates": [
            [
             [
              -124.187964,
              40.842013
             ],
             [
              -124.187964,
              40.880183
             ],
             [
              -124.134928,
              40.880183
             ],
             [
              -124.134928,
              40.842013
             ],
             [
              -124.187964,
              40.842013
             ]
            ]
           ],
           "type": "Polygon"
          },
          "id": "0",
          "properties": {
           "id": "1",
           "style": {
            "color": "#555555",
            "fillOpacity": 0.1,
            "fill_color": "#555555",
            "weight": 1
           }
          },
          "type": "Feature"
         },
         {
          "geometry": {
           "coordinates": [
            [
             [
              -124.195516,
              40.819283
             ],
             [
              -124.195516,
              40.836429
             ],
             [
              -124.173375,
              40.836429
             ],
             [
              -124.173375,
              40.819283
             ],
             [
              -124.195516,
              40.819283
             ]
            ]
           ],
           "type": "Polygon"
          },
          "id": "1",
          "properties": {
           "id": "2",
           "style": {
            "color": "#555555",
            "fillOpacity": 0.1,
            "fill_color": "#555555",
            "weight": 1
           }
          },
          "type": "Feature"
         },
         {
          "geometry": {
           "coordinates": [
            [
             [
              -124.158794,
              40.91514
             ],
             [
              -124.158794,
              40.942117
             ],
             [
              -124.114854,
              40.942117
             ],
             [
              -124.114854,
              40.91514
             ],
             [
              -124.158794,
              40.91514
             ]
            ]
           ],
           "type": "Polygon"
          },
          "id": "2",
          "properties": {
           "id": "3",
           "style": {
            "color": "#555555",
            "fillOpacity": 0.1,
            "fill_color": "#555555",
            "weight": 1
           }
          },
          "type": "Feature"
         }
        ],
        "type": "FeatureCollection"
       },
       "hover_style": {
        "color": "yellow",
        "fillOpacity": 0.1
       },
       "name": "ROI",
       "style": {
        "color": "#555555",
        "fillOpacity": 0.1,
        "fill_color": "#555555",
        "weight": 1
       }
      }
     },
     "aad4cbe84aa94360b5c0867b4016a341": {
      "model_module": "jupyter-leaflet",
      "model_module_version": "^0.17",
      "model_name": "LeafletTileLayerModel",
      "state": {
       "_model_module_version": "^0.17",
       "_view_module_version": "^0.17",
       "attribution": "Geoportail France",
       "max_zoom": 16,
       "name": "GeoportailFrance.Landcover_Sylvoecoregions_Alluvium",
       "options": [
        "attribution",
        "bounds",
        "detect_retina",
        "max_native_zoom",
        "max_zoom",
        "min_native_zoom",
        "min_zoom",
        "no_wrap",
        "tile_size",
        "tms",
        "zoom_offset"
       ],
       "url": "https://wxs.ign.fr/environnement/geoportail/wmts?REQUEST=GetTile&SERVICE=WMTS&VERSION=1.0.0&STYLE=normal&TILEMATRIXSET=PM&FORMAT=image/png&LAYER=LANDCOVER.SYLVOECOREGIONS.ALLUVIUM&TILEMATRIX={z}&TILEROW={y}&TILECOL={x}"
      }
     },
     "aada571088a742a8aa7f7168e264f720": {
      "model_module": "jupyter-leaflet",
      "model_module_version": "^0.17",
      "model_name": "LeafletTileLayerModel",
      "state": {
       "_model_module_version": "^0.17",
       "_view_module_version": "^0.17",
       "attribution": "Geoportail France",
       "max_zoom": 17,
       "name": "GeoportailFrance.Securoute_Te_1te",
       "options": [
        "attribution",
        "bounds",
        "detect_retina",
        "max_native_zoom",
        "max_zoom",
        "min_native_zoom",
        "min_zoom",
        "no_wrap",
        "tile_size",
        "tms",
        "zoom_offset"
       ],
       "url": "https://wxs.ign.fr/transports/geoportail/wmts?REQUEST=GetTile&SERVICE=WMTS&VERSION=1.0.0&STYLE=RESEAU ROUTIER 1TE&TILEMATRIXSET=PM&FORMAT=image/png&LAYER=SECUROUTE.TE.1TE&TILEMATRIX={z}&TILEROW={y}&TILECOL={x}"
      }
     },
     "ab27e2c84a6b4c188cb48b7b0525ce2a": {
      "model_module": "@jupyter-widgets/base",
      "model_module_version": "1.2.0",
      "model_name": "LayoutModel",
      "state": {
       "height": "auto",
       "padding": "0px 0px 0px 4px",
       "width": "auto"
      }
     },
     "ab4c2eaabf2b4aa4badfc90324d44b5d": {
      "model_module": "jupyter-leaflet",
      "model_module_version": "^0.17",
      "model_name": "LeafletTileLayerModel",
      "state": {
       "_model_module_version": "^0.17",
       "_view_module_version": "^0.17",
       "attribution": "Imagery provided by services from the Global Imagery Browse Services (GIBS), operated by the NASA/GSFC/Earth Science Data and Information System (ESDIS) with funding provided by NASA/HQ.",
       "max_zoom": 9,
       "name": "NASAGIBS.ModisTerraBands367CR",
       "options": [
        "attribution",
        "bounds",
        "detect_retina",
        "max_native_zoom",
        "max_zoom",
        "min_native_zoom",
        "min_zoom",
        "no_wrap",
        "tile_size",
        "tms",
        "zoom_offset"
       ],
       "url": "https://map1.vis.earthdata.nasa.gov/wmts-webmerc/MODIS_Terra_CorrectedReflectance_Bands367/default//GoogleMapsCompatible_Level9/{z}/{y}/{x}.jpg"
      }
     },
     "ab99fe5e69864dc8865bc5fdc250cfa5": {
      "model_module": "jupyter-leaflet",
      "model_module_version": "^0.17",
      "model_name": "LeafletTileLayerModel",
      "state": {
       "_model_module_version": "^0.17",
       "_view_module_version": "^0.17",
       "attribution": "Map tiles by Stamen Design, CC BY 3.0 -- Map data (C) OpenStreetMap contributors",
       "name": "Stamen.TerrainBackground",
       "options": [
        "attribution",
        "bounds",
        "detect_retina",
        "max_native_zoom",
        "max_zoom",
        "min_native_zoom",
        "min_zoom",
        "no_wrap",
        "tile_size",
        "tms",
        "zoom_offset"
       ],
       "url": "https://stamen-tiles-a.a.ssl.fastly.net/terrain-background/{z}/{x}/{y}.png"
      }
     },
     "abdd03556c9e4df19a9296045186f6cc": {
      "model_module": "jupyter-leaflet",
      "model_module_version": "^0.17",
      "model_name": "LeafletTileLayerModel",
      "state": {
       "_model_module_version": "^0.17",
       "_view_module_version": "^0.17",
       "attribution": "Map tiles by <a href=\"https://labs.strava.com/heatmap\">Strava 2021</a>",
       "max_zoom": 15,
       "name": "Strava.Run",
       "options": [
        "attribution",
        "bounds",
        "detect_retina",
        "max_native_zoom",
        "max_zoom",
        "min_native_zoom",
        "min_zoom",
        "no_wrap",
        "tile_size",
        "tms",
        "zoom_offset"
       ],
       "url": "https://heatmap-external-a.strava.com/tiles/run/bluered/{z}/{x}/{y}.png"
      }
     },
     "ac079096018a4722aef3c9a0e7fb5bdd": {
      "model_module": "jupyter-leaflet",
      "model_module_version": "^0.17",
      "model_name": "LeafletTileLayerModel",
      "state": {
       "_model_module_version": "^0.17",
       "_view_module_version": "^0.17",
       "attribution": "Geoportail France",
       "max_zoom": 16,
       "name": "GeoportailFrance.Landcover_Clc12_fr",
       "options": [
        "attribution",
        "bounds",
        "detect_retina",
        "max_native_zoom",
        "max_zoom",
        "min_native_zoom",
        "min_zoom",
        "no_wrap",
        "tile_size",
        "tms",
        "zoom_offset"
       ],
       "url": "https://wxs.ign.fr/clc/geoportail/wmts?REQUEST=GetTile&SERVICE=WMTS&VERSION=1.0.0&STYLE=CORINE Land Cover - France métropolitaine&TILEMATRIXSET=PM&FORMAT=image/png&LAYER=LANDCOVER.CLC12_FR&TILEMATRIX={z}&TILEROW={y}&TILECOL={x}"
      }
     },
     "ad22a2c377c549e1ae224b9579e40ce4": {
      "model_module": "@jupyter-widgets/controls",
      "model_module_version": "1.5.0",
      "model_name": "DescriptionStyleModel",
      "state": {
       "description_width": ""
      }
     },
     "ad3c847034904813ab149debc50b3bdc": {
      "model_module": "jupyter-leaflet",
      "model_module_version": "^0.17",
      "model_name": "LeafletTileLayerModel",
      "state": {
       "_model_module_version": "^0.17",
       "_view_module_version": "^0.17",
       "attribution": "Earthstar Geographics",
       "max_zoom": 24,
       "name": "Esri.AntarcticImagery",
       "options": [
        "attribution",
        "bounds",
        "detect_retina",
        "max_native_zoom",
        "max_zoom",
        "min_native_zoom",
        "min_zoom",
        "no_wrap",
        "tile_size",
        "tms",
        "zoom_offset"
       ],
       "url": "http://server.arcgisonline.com/ArcGIS/rest/services/Polar/Antarctic_Imagery/MapServer/tile/{z}/{y}/{x}"
      }
     },
     "ad66368130324974851cee39599dfd73": {
      "model_module": "jupyter-leaflet",
      "model_module_version": "^0.17",
      "model_name": "LeafletTileLayerModel",
      "state": {
       "_model_module_version": "^0.17",
       "_view_module_version": "^0.17",
       "attribution": "Kaartgegevens (C) Kadaster",
       "max_zoom": 19,
       "name": "nlmaps.water",
       "options": [
        "attribution",
        "bounds",
        "detect_retina",
        "max_native_zoom",
        "max_zoom",
        "min_native_zoom",
        "min_zoom",
        "no_wrap",
        "tile_size",
        "tms",
        "zoom_offset"
       ],
       "url": "https://service.pdok.nl/brt/achtergrondkaart/wmts/v2_0/water/EPSG:3857/{z}/{x}/{y}.png"
      }
     },
     "ad6c8985f28343259aa9bf56b2cdef5e": {
      "model_module": "jupyter-leaflet",
      "model_module_version": "^0.17",
      "model_name": "LeafletTileLayerModel",
      "state": {
       "_model_module_version": "^0.17",
       "_view_module_version": "^0.17",
       "attribution": "Geoportail France",
       "max_zoom": 21,
       "name": "GeoportailFrance.Pcrs_Lamb93",
       "options": [
        "attribution",
        "bounds",
        "detect_retina",
        "max_native_zoom",
        "max_zoom",
        "min_native_zoom",
        "min_zoom",
        "no_wrap",
        "tile_size",
        "tms",
        "zoom_offset"
       ],
       "url": "https://wxs.ign.fr/ortho/geoportail/wmts?REQUEST=GetTile&SERVICE=WMTS&VERSION=1.0.0&STYLE=normal&TILEMATRIXSET=LAMB93_5cm&FORMAT=image/jpeg&LAYER=PCRS.LAMB93&TILEMATRIX={z}&TILEROW={y}&TILECOL={x}"
      }
     },
     "ae9ee0b3140249ef95dd60ff9d85e954": {
      "model_module": "jupyter-leaflet",
      "model_module_version": "^0.17",
      "model_name": "LeafletTileLayerModel",
      "state": {
       "_model_module_version": "^0.17",
       "_view_module_version": "^0.17",
       "attribution": "Geoportail France",
       "max_zoom": 16,
       "name": "GeoportailFrance.Protectedareas_Aphn",
       "options": [
        "attribution",
        "bounds",
        "detect_retina",
        "max_native_zoom",
        "max_zoom",
        "min_native_zoom",
        "min_zoom",
        "no_wrap",
        "tile_size",
        "tms",
        "zoom_offset"
       ],
       "url": "https://wxs.ign.fr/environnement/geoportail/wmts?REQUEST=GetTile&SERVICE=WMTS&VERSION=1.0.0&STYLE=normal&TILEMATRIXSET=PM&FORMAT=image/png&LAYER=PROTECTEDAREAS.APHN&TILEMATRIX={z}&TILEROW={y}&TILECOL={x}"
      }
     },
     "aed059c4f07f4486ae7959cc8f26b356": {
      "model_module": "jupyter-leaflet",
      "model_module_version": "^0.17",
      "model_name": "LeafletTileLayerModel",
      "state": {
       "_model_module_version": "^0.17",
       "_view_module_version": "^0.17",
       "attribution": "Geoportail France",
       "max_zoom": 17,
       "name": "GeoportailFrance.Securoute_Te_Te72",
       "options": [
        "attribution",
        "bounds",
        "detect_retina",
        "max_native_zoom",
        "max_zoom",
        "min_native_zoom",
        "min_zoom",
        "no_wrap",
        "tile_size",
        "tms",
        "zoom_offset"
       ],
       "url": "https://wxs.ign.fr/transports/geoportail/wmts?REQUEST=GetTile&SERVICE=WMTS&VERSION=1.0.0&STYLE=RESEAU ROUTIER TE72&TILEMATRIXSET=PM&FORMAT=image/png&LAYER=SECUROUTE.TE.TE72&TILEMATRIX={z}&TILEROW={y}&TILECOL={x}"
      }
     },
     "aee68b79c58d4dfeb4c1c1f83a003625": {
      "model_module": "jupyter-leaflet",
      "model_module_version": "^0.17",
      "model_name": "LeafletTileLayerModel",
      "state": {
       "_model_module_version": "^0.17",
       "_view_module_version": "^0.17",
       "attribution": "© swisstopo",
       "name": "SwissFederalGeoportal.JourneyThroughTime",
       "options": [
        "attribution",
        "bounds",
        "detect_retina",
        "max_native_zoom",
        "max_zoom",
        "min_native_zoom",
        "min_zoom",
        "no_wrap",
        "tile_size",
        "tms",
        "zoom_offset"
       ],
       "url": "https://wmts.geo.admin.ch/1.0.0/ch.swisstopo.zeitreihen/default/18641231/3857/{z}/{x}/{y}.png"
      }
     },
     "af054aafde374b2a88c1ba953ac07f54": {
      "model_module": "jupyter-leaflet",
      "model_module_version": "^0.17",
      "model_name": "LeafletTileLayerModel",
      "state": {
       "_model_module_version": "^0.17",
       "_view_module_version": "^0.17",
       "attribution": "Geoportail France",
       "name": "GeoportailFrance.Orthoimagery_Orthophotos2017",
       "options": [
        "attribution",
        "bounds",
        "detect_retina",
        "max_native_zoom",
        "max_zoom",
        "min_native_zoom",
        "min_zoom",
        "no_wrap",
        "tile_size",
        "tms",
        "zoom_offset"
       ],
       "url": "https://wxs.ign.fr/orthohisto/geoportail/wmts?REQUEST=GetTile&SERVICE=WMTS&VERSION=1.0.0&STYLE=normal&TILEMATRIXSET=PM&FORMAT=image/jpeg&LAYER=ORTHOIMAGERY.ORTHOPHOTOS2017&TILEMATRIX={z}&TILEROW={y}&TILECOL={x}"
      }
     },
     "af20a2487a754d42bb7e434b8e306555": {
      "model_module": "jupyter-leaflet",
      "model_module_version": "^0.17",
      "model_name": "LeafletTileLayerModel",
      "state": {
       "_model_module_version": "^0.17",
       "_view_module_version": "^0.17",
       "attribution": "Geoportail France",
       "name": "GeoportailFrance.Orthoimagery_Orthophotos2012",
       "options": [
        "attribution",
        "bounds",
        "detect_retina",
        "max_native_zoom",
        "max_zoom",
        "min_native_zoom",
        "min_zoom",
        "no_wrap",
        "tile_size",
        "tms",
        "zoom_offset"
       ],
       "url": "https://wxs.ign.fr/orthohisto/geoportail/wmts?REQUEST=GetTile&SERVICE=WMTS&VERSION=1.0.0&STYLE=normal&TILEMATRIXSET=PM&FORMAT=image/jpeg&LAYER=ORTHOIMAGERY.ORTHOPHOTOS2012&TILEMATRIX={z}&TILEROW={y}&TILECOL={x}"
      }
     },
     "af52c2cf63a34f678556dd1eee404f89": {
      "model_module": "jupyter-leaflet",
      "model_module_version": "^0.17",
      "model_name": "LeafletTileLayerModel",
      "state": {
       "_model_module_version": "^0.17",
       "_view_module_version": "^0.17",
       "attribution": "Geoportail France",
       "max_zoom": 16,
       "name": "GeoportailFrance.Protectedareas_Mnhn_Cdl_Perimeter",
       "options": [
        "attribution",
        "bounds",
        "detect_retina",
        "max_native_zoom",
        "max_zoom",
        "min_native_zoom",
        "min_zoom",
        "no_wrap",
        "tile_size",
        "tms",
        "zoom_offset"
       ],
       "url": "https://wxs.ign.fr/environnement/geoportail/wmts?REQUEST=GetTile&SERVICE=WMTS&VERSION=1.0.0&STYLE=normal&TILEMATRIXSET=PM&FORMAT=image/png&LAYER=PROTECTEDAREAS.MNHN.CDL.PERIMETER&TILEMATRIX={z}&TILEROW={y}&TILECOL={x}"
      }
     },
     "af6a394b266a44e382a2e7a49b3e54da": {
      "model_module": "jupyter-leaflet",
      "model_module_version": "^0.17",
      "model_name": "LeafletDrawControlModel",
      "state": {
       "_model_module_version": "^0.17",
       "_view_module_version": "^0.17",
       "data": [
        {
         "geometry": {
          "coordinates": [
           [
            [
             -124.221514,
             41.106407
            ],
            [
             -124.221514,
             41.250085
            ],
            [
             -124.036143,
             41.250085
            ],
            [
             -124.036143,
             41.106407
            ],
            [
             -124.221514,
             41.106407
            ]
           ]
          ],
          "type": "Polygon"
         },
         "properties": {
          "style": {
           "Opacity": 0.1,
           "clickable": true,
           "color": "green",
           "fill": true,
           "fillColor": "green",
           "fillOpacity": 0.1,
           "opacity": 0.5,
           "stroke": true,
           "weight": 4
          }
         },
         "type": "Feature"
        }
       ],
       "options": [
        "position"
       ],
       "polygon": {},
       "polyline": {},
       "rectangle": {
        "allowIntersection": false,
        "drawError": {
         "color": "#dd253b",
         "message": "Ops!"
        },
        "shapeOptions": {
         "Opacity": 0.1,
         "clickable": true,
         "color": "green",
         "fill": true,
         "fillColor": "green",
         "fillOpacity": 0.1,
         "opacity": 0.5,
         "stroke": true,
         "weight": 4
        },
        "transform": true
       }
      }
     },
     "affd7dec18a7431abe7e5707c7119306": {
      "model_module": "jupyter-leaflet",
      "model_module_version": "^0.17",
      "model_name": "LeafletTileLayerModel",
      "state": {
       "_model_module_version": "^0.17",
       "_view_module_version": "^0.17",
       "attribution": "Geoportail France",
       "max_zoom": 19,
       "name": "GeoportailFrance.Orthoimagery_Ortho_sat_Pleiades_2021",
       "options": [
        "attribution",
        "bounds",
        "detect_retina",
        "max_native_zoom",
        "max_zoom",
        "min_native_zoom",
        "min_zoom",
        "no_wrap",
        "tile_size",
        "tms",
        "zoom_offset"
       ],
       "url": "https://wxs.ign.fr/satellite/geoportail/wmts?REQUEST=GetTile&SERVICE=WMTS&VERSION=1.0.0&STYLE=normal&TILEMATRIXSET=PM&FORMAT=image/png&LAYER=ORTHOIMAGERY.ORTHO-SAT.PLEIADES.2021&TILEMATRIX={z}&TILEROW={y}&TILECOL={x}"
      }
     },
     "b0c5a66df6d64a72b1e1fe7822ead5b6": {
      "model_module": "jupyter-leaflet",
      "model_module_version": "^0.17",
      "model_name": "LeafletWMSLayerModel",
      "state": {
       "_model_module_version": "^0.17",
       "_view_module_version": "^0.17",
       "attribution": "MRLC",
       "crs": {
        "custom": false,
        "name": "EPSG3857"
       },
       "format": "image/png",
       "layers": "NLCD_2016_Land_Cover_L48",
       "name": "NLCD 2016 CONUS Land Cover",
       "options": [
        "attribution",
        "bounds",
        "detect_retina",
        "format",
        "layers",
        "max_native_zoom",
        "max_zoom",
        "min_native_zoom",
        "min_zoom",
        "no_wrap",
        "styles",
        "tile_size",
        "tms",
        "transparent",
        "uppercase",
        "zoom_offset"
       ],
       "transparent": true,
       "url": "https://www.mrlc.gov/geoserver/mrlc_display/NLCD_2016_Land_Cover_L48/wms?"
      }
     },
     "b0dd030d9dd74ff08a4e0520ec510c2f": {
      "model_module": "jupyter-leaflet",
      "model_module_version": "^0.17",
      "model_name": "LeafletTileLayerModel",
      "state": {
       "_model_module_version": "^0.17",
       "_view_module_version": "^0.17",
       "attribution": "Geoportail France",
       "max_zoom": 15,
       "name": "GeoportailFrance.Geographicalgridsystems_Etatmajor40",
       "options": [
        "attribution",
        "bounds",
        "detect_retina",
        "max_native_zoom",
        "max_zoom",
        "min_native_zoom",
        "min_zoom",
        "no_wrap",
        "tile_size",
        "tms",
        "zoom_offset"
       ],
       "url": "https://wxs.ign.fr/cartes/geoportail/wmts?REQUEST=GetTile&SERVICE=WMTS&VERSION=1.0.0&STYLE=normal&TILEMATRIXSET=PM&FORMAT=image/jpeg&LAYER=GEOGRAPHICALGRIDSYSTEMS.ETATMAJOR40&TILEMATRIX={z}&TILEROW={y}&TILECOL={x}"
      }
     },
     "b1a82617568d4098a9977a98bcac92fc": {
      "model_module": "jupyter-leaflet",
      "model_module_version": "^0.17",
      "model_name": "LeafletTileLayerModel",
      "state": {
       "_model_module_version": "^0.17",
       "_view_module_version": "^0.17",
       "attribution": "Kaartgegevens (C) Kadaster",
       "max_zoom": 19,
       "name": "nlmaps.pastel",
       "options": [
        "attribution",
        "bounds",
        "detect_retina",
        "max_native_zoom",
        "max_zoom",
        "min_native_zoom",
        "min_zoom",
        "no_wrap",
        "tile_size",
        "tms",
        "zoom_offset"
       ],
       "url": "https://service.pdok.nl/brt/achtergrondkaart/wmts/v2_0/pastel/EPSG:3857/{z}/{x}/{y}.png"
      }
     },
     "b21e656db08148d384e468f1a82b3a40": {
      "model_module": "@jupyter-widgets/controls",
      "model_module_version": "1.5.0",
      "model_name": "HTMLModel",
      "state": {
       "layout": "IPY_MODEL_2ef5f0ccc1674588ac908b847812d2be",
       "style": "IPY_MODEL_0da3e946e53e4059a22402ed2ecc1ea1",
       "value": " \n        <h2>Settings</h2>\n        <p>dates: unknown</p>\n        <p>sitename: unknown</p>\n        "
      }
     },
     "b2bd412e2ad04e7fb05b3cd1d5c1c4e9": {
      "model_module": "jupyter-leaflet",
      "model_module_version": "^0.17",
      "model_name": "LeafletTileLayerModel",
      "state": {
       "_model_module_version": "^0.17",
       "_view_module_version": "^0.17",
       "attribution": "Map data: (C) OpenStreetMap contributors | Map style: (C) waymarkedtrails.org (CC-BY-SA)",
       "name": "WaymarkedTrails.riding",
       "options": [
        "attribution",
        "bounds",
        "detect_retina",
        "max_native_zoom",
        "max_zoom",
        "min_native_zoom",
        "min_zoom",
        "no_wrap",
        "tile_size",
        "tms",
        "zoom_offset"
       ],
       "url": "https://tile.waymarkedtrails.org/riding/{z}/{x}/{y}.png"
      }
     },
     "b2fff6bec27245a481a7d49e833bf40e": {
      "model_module": "@jupyter-widgets/base",
      "model_module_version": "1.2.0",
      "model_name": "LayoutModel",
      "state": {
       "height": "auto",
       "padding": "0px 0px 0px 4px",
       "width": "auto"
      }
     },
     "b3397341fc49497a93b466a1d377c76f": {
      "model_module": "jupyter-leaflet",
      "model_module_version": "^0.17",
      "model_name": "LeafletWMSLayerModel",
      "state": {
       "_model_module_version": "^0.17",
       "_view_module_version": "^0.17",
       "attribution": "ESA",
       "crs": {
        "custom": false,
        "name": "EPSG3857"
       },
       "format": "image/png",
       "layers": "WORLDCOVER_2020_S2_FCC",
       "name": "ESA Worldcover 2020 S2 FCC",
       "options": [
        "attribution",
        "bounds",
        "detect_retina",
        "format",
        "layers",
        "max_native_zoom",
        "max_zoom",
        "min_native_zoom",
        "min_zoom",
        "no_wrap",
        "styles",
        "tile_size",
        "tms",
        "transparent",
        "uppercase",
        "zoom_offset"
       ],
       "transparent": true,
       "url": "https://services.terrascope.be/wms/v2"
      }
     },
     "b36c4b92fcf749078f15c7b19ef167b6": {
      "model_module": "@jupyter-widgets/base",
      "model_module_version": "1.2.0",
      "model_name": "LayoutModel",
      "state": {
       "margin": "0px 5px 0px 5px"
      }
     },
     "b3f1c82df76e451a9e56793f7240cf68": {
      "model_module": "jupyter-leaflet",
      "model_module_version": "^0.17",
      "model_name": "LeafletTileLayerModel",
      "state": {
       "_model_module_version": "^0.17",
       "_view_module_version": "^0.17",
       "attribution": "Kaartgegevens (C) Kadaster",
       "max_zoom": 19,
       "name": "nlmaps.grijs",
       "options": [
        "attribution",
        "bounds",
        "detect_retina",
        "max_native_zoom",
        "max_zoom",
        "min_native_zoom",
        "min_zoom",
        "no_wrap",
        "tile_size",
        "tms",
        "zoom_offset"
       ],
       "url": "https://service.pdok.nl/brt/achtergrondkaart/wmts/v2_0/grijs/EPSG:3857/{z}/{x}/{y}.png"
      }
     },
     "b3ffbb63677440d9a87c4eddcb820439": {
      "model_module": "@jupyter-widgets/base",
      "model_module_version": "1.2.0",
      "model_name": "LayoutModel",
      "state": {
       "height": "auto",
       "padding": "0px 0px 0px 4px",
       "width": "auto"
      }
     },
     "b41007b5cbbe41079acc0fd19715035b": {
      "model_module": "jupyter-leaflet",
      "model_module_version": "^0.17",
      "model_name": "LeafletTileLayerModel",
      "state": {
       "_model_module_version": "^0.17",
       "_view_module_version": "^0.17",
       "attribution": "Geoportail France",
       "max_zoom": 16,
       "name": "GeoportailFrance.Protectedareas_Sic",
       "options": [
        "attribution",
        "bounds",
        "detect_retina",
        "max_native_zoom",
        "max_zoom",
        "min_native_zoom",
        "min_zoom",
        "no_wrap",
        "tile_size",
        "tms",
        "zoom_offset"
       ],
       "url": "https://wxs.ign.fr/environnement/geoportail/wmts?REQUEST=GetTile&SERVICE=WMTS&VERSION=1.0.0&STYLE=normal&TILEMATRIXSET=PM&FORMAT=image/png&LAYER=PROTECTEDAREAS.SIC&TILEMATRIX={z}&TILEROW={y}&TILECOL={x}"
      }
     },
     "b533b55c3936480db3e6b8fb0f89652c": {
      "model_module": "jupyter-leaflet",
      "model_module_version": "^0.17",
      "model_name": "LeafletTileLayerModel",
      "state": {
       "_model_module_version": "^0.17",
       "_view_module_version": "^0.17",
       "attribution": "Geoportail France",
       "max_zoom": 12,
       "name": "GeoportailFrance.Landcover_Grid_Clc06_dom",
       "options": [
        "attribution",
        "bounds",
        "detect_retina",
        "max_native_zoom",
        "max_zoom",
        "min_native_zoom",
        "min_zoom",
        "no_wrap",
        "tile_size",
        "tms",
        "zoom_offset"
       ],
       "url": "https://wxs.ign.fr/clc/geoportail/wmts?REQUEST=GetTile&SERVICE=WMTS&VERSION=1.0.0&STYLE=CORINE Land Cover - DOM&TILEMATRIXSET=PM&FORMAT=image/png&LAYER=LANDCOVER.GRID.CLC06_DOM&TILEMATRIX={z}&TILEROW={y}&TILECOL={x}"
      }
     },
     "b55d05d7aad042988aa9841ff94be963": {
      "model_module": "jupyter-leaflet",
      "model_module_version": "^0.17",
      "model_name": "LeafletTileLayerModel",
      "state": {
       "_model_module_version": "^0.17",
       "_view_module_version": "^0.17",
       "attribution": "Geoportail France",
       "name": "GeoportailFrance.Geographicalnames_Names",
       "options": [
        "attribution",
        "bounds",
        "detect_retina",
        "max_native_zoom",
        "max_zoom",
        "min_native_zoom",
        "min_zoom",
        "no_wrap",
        "tile_size",
        "tms",
        "zoom_offset"
       ],
       "url": "https://wxs.ign.fr/topographie/geoportail/wmts?REQUEST=GetTile&SERVICE=WMTS&VERSION=1.0.0&STYLE=normal&TILEMATRIXSET=PM&FORMAT=image/png&LAYER=GEOGRAPHICALNAMES.NAMES&TILEMATRIX={z}&TILEROW={y}&TILECOL={x}"
      }
     },
     "b642e0525b454114a33c61a74c98a4eb": {
      "model_module": "@jupyter-widgets/base",
      "model_module_version": "1.2.0",
      "model_name": "LayoutModel",
      "state": {}
     },
     "b669e0cf483d440e90654df608241e76": {
      "model_module": "jupyter-leaflet",
      "model_module_version": "^0.17",
      "model_name": "LeafletTileLayerModel",
      "state": {
       "_model_module_version": "^0.17",
       "_view_module_version": "^0.17",
       "attribution": "Tiles (C) Esri -- Esri, DeLorme, NAVTEQ",
       "max_zoom": 16,
       "name": "Esri.WorldGrayCanvas",
       "options": [
        "attribution",
        "bounds",
        "detect_retina",
        "max_native_zoom",
        "max_zoom",
        "min_native_zoom",
        "min_zoom",
        "no_wrap",
        "tile_size",
        "tms",
        "zoom_offset"
       ],
       "url": "https://server.arcgisonline.com/ArcGIS/rest/services/Canvas/World_Light_Gray_Base/MapServer/tile/{z}/{y}/{x}"
      }
     },
     "b683b4074b744629801f5372bfc457f6": {
      "model_module": "@jupyter-widgets/controls",
      "model_module_version": "1.5.0",
      "model_name": "DescriptionStyleModel",
      "state": {
       "description_width": ""
      }
     },
     "b7d7018d5c8b4604868eea4d30763e12": {
      "model_module": "@jupyter-widgets/controls",
      "model_module_version": "1.5.0",
      "model_name": "ToggleButtonModel",
      "state": {
       "button_style": "primary",
       "icon": "download",
       "layout": "IPY_MODEL_08e740ef6d724902ae92405df97b4bdc",
       "style": "IPY_MODEL_c4a7535e3e344372afd3c02b3fe9b747",
       "tooltip": "Download OSM data"
      }
     },
     "b7d8afce7d36477b8811723a00409550": {
      "model_module": "jupyter-leaflet",
      "model_module_version": "^0.17",
      "model_name": "LeafletTileLayerModel",
      "state": {
       "_model_module_version": "^0.17",
       "_view_module_version": "^0.17",
       "attribution": "Geoportail France",
       "max_zoom": 16,
       "name": "GeoportailFrance.Ocsge_Constructions_2016",
       "options": [
        "attribution",
        "bounds",
        "detect_retina",
        "max_native_zoom",
        "max_zoom",
        "min_native_zoom",
        "min_zoom",
        "no_wrap",
        "tile_size",
        "tms",
        "zoom_offset"
       ],
       "url": "https://wxs.ign.fr/ocsge/geoportail/wmts?REQUEST=GetTile&SERVICE=WMTS&VERSION=1.0.0&STYLE=nolegend&TILEMATRIXSET=PM&FORMAT=image/png&LAYER=OCSGE.CONSTRUCTIONS.2016&TILEMATRIX={z}&TILEROW={y}&TILECOL={x}"
      }
     },
     "b7ee8f8ad8754058920e7a7fa70c8ea7": {
      "model_module": "jupyter-leaflet",
      "model_module_version": "^0.17",
      "model_name": "LeafletTileLayerModel",
      "state": {
       "_model_module_version": "^0.17",
       "_view_module_version": "^0.17",
       "attribution": "Geoportail France",
       "name": "GeoportailFrance.Orthoimagery_Orthophotos2006",
       "options": [
        "attribution",
        "bounds",
        "detect_retina",
        "max_native_zoom",
        "max_zoom",
        "min_native_zoom",
        "min_zoom",
        "no_wrap",
        "tile_size",
        "tms",
        "zoom_offset"
       ],
       "url": "https://wxs.ign.fr/orthohisto/geoportail/wmts?REQUEST=GetTile&SERVICE=WMTS&VERSION=1.0.0&STYLE=normal&TILEMATRIXSET=PM&FORMAT=image/jpeg&LAYER=ORTHOIMAGERY.ORTHOPHOTOS2006&TILEMATRIX={z}&TILEROW={y}&TILECOL={x}"
      }
     },
     "b8204e5ee6134d0ea8ac83eedb6f8042": {
      "model_module": "@jupyter-widgets/controls",
      "model_module_version": "1.5.0",
      "model_name": "HBoxModel",
      "state": {
       "layout": "IPY_MODEL_3c42127384884427844cb4e2de8b5d2c"
      }
     },
     "b86160f2421c440f8a01c0a805a8939e": {
      "model_module": "@jupyter-widgets/base",
      "model_module_version": "1.2.0",
      "model_name": "LayoutModel",
      "state": {
       "height": "auto",
       "padding": "0px 0px 0px 4px",
       "width": "auto"
      }
     },
     "b866c500dcf14032974c2749b1883e08": {
      "model_module": "jupyter-leaflet",
      "model_module_version": "^0.17",
      "model_name": "LeafletTileLayerModel",
      "state": {
       "_model_module_version": "^0.17",
       "_view_module_version": "^0.17",
       "attribution": "Imagery provided by services from the Global Imagery Browse Services (GIBS), operated by the NASA/GSFC/Earth Science Data and Information System (ESDIS) with funding provided by NASA/HQ.",
       "max_zoom": 8,
       "name": "NASAGIBS.ModisTerraSnowCover",
       "options": [
        "attribution",
        "bounds",
        "detect_retina",
        "max_native_zoom",
        "max_zoom",
        "min_native_zoom",
        "min_zoom",
        "no_wrap",
        "tile_size",
        "tms",
        "zoom_offset"
       ],
       "url": "https://map1.vis.earthdata.nasa.gov/wmts-webmerc/MODIS_Terra_NDSI_Snow_Cover/default//GoogleMapsCompatible_Level8/{z}/{y}/{x}.png"
      }
     },
     "b90c55dfb99545fdbe81fdb3cbc1245c": {
      "model_module": "@jupyter-widgets/controls",
      "model_module_version": "1.5.0",
      "model_name": "VBoxModel",
      "state": {
       "children": [
        "IPY_MODEL_b21e656db08148d384e468f1a82b3a40",
        "IPY_MODEL_7dd77e231d9f4e979d767057ef67daa3"
       ],
       "layout": "IPY_MODEL_9f3f60b55bad49a69243a4110ff63bf5"
      }
     },
     "ba21362097a94a5ab7522e205e672a41": {
      "model_module": "jupyter-leaflet",
      "model_module_version": "^0.17",
      "model_name": "LeafletTileLayerModel",
      "state": {
       "_model_module_version": "^0.17",
       "_view_module_version": "^0.17",
       "attribution": "Geoportail France",
       "max_zoom": 16,
       "name": "GeoportailFrance.Landcover_Clc12r",
       "options": [
        "attribution",
        "bounds",
        "detect_retina",
        "max_native_zoom",
        "max_zoom",
        "min_native_zoom",
        "min_zoom",
        "no_wrap",
        "tile_size",
        "tms",
        "zoom_offset"
       ],
       "url": "https://wxs.ign.fr/clc/geoportail/wmts?REQUEST=GetTile&SERVICE=WMTS&VERSION=1.0.0&STYLE=CORINE Land Cover&TILEMATRIXSET=PM&FORMAT=image/png&LAYER=LANDCOVER.CLC12R&TILEMATRIX={z}&TILEROW={y}&TILECOL={x}"
      }
     },
     "ba56a6b7f2904f8a9ce1ba012ed1d97a": {
      "model_module": "jupyter-leaflet",
      "model_module_version": "^0.17",
      "model_name": "LeafletTileLayerModel",
      "state": {
       "_model_module_version": "^0.17",
       "_view_module_version": "^0.17",
       "attribution": "Geoportail France",
       "max_zoom": 19,
       "name": "GeoportailFrance.parcels",
       "options": [
        "attribution",
        "bounds",
        "detect_retina",
        "max_native_zoom",
        "max_zoom",
        "min_native_zoom",
        "min_zoom",
        "no_wrap",
        "tile_size",
        "tms",
        "zoom_offset"
       ],
       "url": "https://wxs.ign.fr/essentiels/geoportail/wmts?REQUEST=GetTile&SERVICE=WMTS&VERSION=1.0.0&STYLE=normal&TILEMATRIXSET=PM&FORMAT=image/png&LAYER=CADASTRALPARCELS.PARCELLAIRE_EXPRESS&TILEMATRIX={z}&TILEROW={y}&TILECOL={x}"
      }
     },
     "ba948a2872ca448e86b10ff19c61ba36": {
      "model_module": "jupyter-leaflet",
      "model_module_version": "^0.17",
      "model_name": "LeafletTileLayerModel",
      "state": {
       "_model_module_version": "^0.17",
       "_view_module_version": "^0.17",
       "attribution": "(C) Stadia Maps, (C) OpenMapTiles (C) OpenStreetMap contributors",
       "max_zoom": 20,
       "name": "Stadia.AlidadeSmooth",
       "options": [
        "attribution",
        "bounds",
        "detect_retina",
        "max_native_zoom",
        "max_zoom",
        "min_native_zoom",
        "min_zoom",
        "no_wrap",
        "tile_size",
        "tms",
        "zoom_offset"
       ],
       "url": "https://tiles.stadiamaps.com/tiles/alidade_smooth/{z}/{x}/{y}.png"
      }
     },
     "bacef29b682b459eb9b6f81c713bd98c": {
      "model_module": "jupyter-leaflet",
      "model_module_version": "^0.17",
      "model_name": "LeafletTileLayerModel",
      "state": {
       "_model_module_version": "^0.17",
       "_view_module_version": "^0.17",
       "attribution": "Geoportail France",
       "max_zoom": 16,
       "name": "GeoportailFrance.Protectedareas_Znieff2",
       "options": [
        "attribution",
        "bounds",
        "detect_retina",
        "max_native_zoom",
        "max_zoom",
        "min_native_zoom",
        "min_zoom",
        "no_wrap",
        "tile_size",
        "tms",
        "zoom_offset"
       ],
       "url": "https://wxs.ign.fr/environnement/geoportail/wmts?REQUEST=GetTile&SERVICE=WMTS&VERSION=1.0.0&STYLE=normal&TILEMATRIXSET=PM&FORMAT=image/png&LAYER=PROTECTEDAREAS.ZNIEFF2&TILEMATRIX={z}&TILEROW={y}&TILECOL={x}"
      }
     },
     "bbbd990b1b7b4d608cb93834455c67ee": {
      "model_module": "@jupyter-widgets/base",
      "model_module_version": "1.2.0",
      "model_name": "LayoutModel",
      "state": {
       "height": "auto",
       "padding": "0px 0px 0px 4px",
       "width": "auto"
      }
     },
     "bbd50e6bcc614a4ba1cae87bba76dbb0": {
      "model_module": "@jupyter-widgets/controls",
      "model_module_version": "1.5.0",
      "model_name": "DescriptionStyleModel",
      "state": {
       "description_width": ""
      }
     },
     "bcce2a4e867544ff914f674019bb4513": {
      "model_module": "jupyter-leaflet",
      "model_module_version": "^0.17",
      "model_name": "LeafletTileLayerModel",
      "state": {
       "_model_module_version": "^0.17",
       "_view_module_version": "^0.17",
       "attribution": "(C) OpenStreetMap contributors, Tiles style by Humanitarian OpenStreetMap Team hosted by OpenStreetMap France",
       "max_zoom": 19,
       "name": "OpenStreetMap.HOT",
       "options": [
        "attribution",
        "bounds",
        "detect_retina",
        "max_native_zoom",
        "max_zoom",
        "min_native_zoom",
        "min_zoom",
        "no_wrap",
        "tile_size",
        "tms",
        "zoom_offset"
       ],
       "url": "https://a.tile.openstreetmap.fr/hot/{z}/{x}/{y}.png"
      }
     },
     "bd0ec643b4d24503b086a03dd3e7fb0d": {
      "model_module": "jupyter-leaflet",
      "model_module_version": "^0.17",
      "model_name": "LeafletGeoJSONModel",
      "state": {
       "_model_module_version": "^0.17",
       "_view_module_version": "^0.17",
       "data": {
        "features": [
         {
          "geometry": {
           "coordinates": [
            [
             [
              -124.187964,
              40.842013
             ],
             [
              -124.187964,
              40.880183
             ],
             [
              -124.134928,
              40.880183
             ],
             [
              -124.134928,
              40.842013
             ],
             [
              -124.187964,
              40.842013
             ]
            ]
           ],
           "type": "Polygon"
          },
          "id": "0",
          "properties": {
           "id": "1",
           "style": {
            "color": "#555555",
            "fillOpacity": 0.1,
            "fill_color": "#555555",
            "weight": 1
           }
          },
          "type": "Feature"
         },
         {
          "geometry": {
           "coordinates": [
            [
             [
              -124.195516,
              40.819283
             ],
             [
              -124.195516,
              40.836429
             ],
             [
              -124.173375,
              40.836429
             ],
             [
              -124.173375,
              40.819283
             ],
             [
              -124.195516,
              40.819283
             ]
            ]
           ],
           "type": "Polygon"
          },
          "id": "1",
          "properties": {
           "id": "2",
           "style": {
            "color": "#555555",
            "fillOpacity": 0.1,
            "fill_color": "#555555",
            "weight": 1
           }
          },
          "type": "Feature"
         },
         {
          "geometry": {
           "coordinates": [
            [
             [
              -124.158794,
              40.91514
             ],
             [
              -124.158794,
              40.942117
             ],
             [
              -124.114854,
              40.942117
             ],
             [
              -124.114854,
              40.91514
             ],
             [
              -124.158794,
              40.91514
             ]
            ]
           ],
           "type": "Polygon"
          },
          "id": "2",
          "properties": {
           "id": "3",
           "style": {
            "color": "#555555",
            "fillOpacity": 0.1,
            "fill_color": "#555555",
            "weight": 1
           }
          },
          "type": "Feature"
         },
         {
          "geometry": {
           "coordinates": [
            [
             [
              -124.14163,
              40.960269
             ],
             [
              -124.14163,
              40.991374
             ],
             [
              -124.105242,
              40.991374
             ],
             [
              -124.105242,
              40.960269
             ],
             [
              -124.14163,
              40.960269
             ]
            ]
           ],
           "type": "Polygon"
          },
          "id": "3",
          "properties": {
           "id": "4",
           "style": {
            "color": "#555555",
            "fillOpacity": 0.1,
            "fill_color": "#555555",
            "weight": 1
           }
          },
          "type": "Feature"
         },
         {
          "geometry": {
           "coordinates": [
            [
             [
              -124.189003,
              40.999148
             ],
             [
              -124.189003,
              41.083049
             ],
             [
              -124.09975,
              41.083049
             ],
             [
              -124.09975,
              40.999148
             ],
             [
              -124.189003,
              40.999148
             ]
            ]
           ],
           "type": "Polygon"
          },
          "id": "4",
          "properties": {
           "id": "5",
           "style": {
            "color": "#555555",
            "fillOpacity": 0.1,
            "fill_color": "#555555",
            "weight": 1
           }
          },
          "type": "Feature"
         }
        ],
        "type": "FeatureCollection"
       },
       "hover_style": {
        "color": "yellow",
        "fillOpacity": 0.1
       },
       "name": "ROI",
       "style": {
        "color": "#555555",
        "fillOpacity": 0.1,
        "fill_color": "#555555",
        "weight": 1
       }
      }
     },
     "bdd229f226004d999b24cbec78d7ab10": {
      "model_module": "@jupyter-widgets/base",
      "model_module_version": "1.2.0",
      "model_name": "LayoutModel",
      "state": {}
     },
     "bde9ce8c0ecf4542835d108a4d938fe7": {
      "model_module": "jupyter-leaflet",
      "model_module_version": "^0.17",
      "model_name": "LeafletTileLayerModel",
      "state": {
       "_model_module_version": "^0.17",
       "_view_module_version": "^0.17",
       "attribution": "Geoportail France",
       "max_zoom": 16,
       "name": "GeoportailFrance.Insee_Filosofi_Enfants_0_17_Ans_Secret",
       "options": [
        "attribution",
        "bounds",
        "detect_retina",
        "max_native_zoom",
        "max_zoom",
        "min_native_zoom",
        "min_zoom",
        "no_wrap",
        "tile_size",
        "tms",
        "zoom_offset"
       ],
       "url": "https://wxs.ign.fr/economie/geoportail/wmts?REQUEST=GetTile&SERVICE=WMTS&VERSION=1.0.0&STYLE=INSEE&TILEMATRIXSET=PM&FORMAT=image/png&LAYER=INSEE.FILOSOFI.ENFANTS.0.17.ANS.SECRET&TILEMATRIX={z}&TILEROW={y}&TILECOL={x}"
      }
     },
     "be06f61813354c94b0fd7d23290049e7": {
      "model_module": "jupyter-leaflet",
      "model_module_version": "^0.17",
      "model_name": "LeafletTileLayerModel",
      "state": {
       "_model_module_version": "^0.17",
       "_view_module_version": "^0.17",
       "attribution": "Geoportail France",
       "max_zoom": 16,
       "name": "GeoportailFrance.Ocsge_Usage",
       "options": [
        "attribution",
        "bounds",
        "detect_retina",
        "max_native_zoom",
        "max_zoom",
        "min_native_zoom",
        "min_zoom",
        "no_wrap",
        "tile_size",
        "tms",
        "zoom_offset"
       ],
       "url": "https://wxs.ign.fr/ocsge/geoportail/wmts?REQUEST=GetTile&SERVICE=WMTS&VERSION=1.0.0&STYLE=normal&TILEMATRIXSET=PM&FORMAT=image/png&LAYER=OCSGE.USAGE&TILEMATRIX={z}&TILEROW={y}&TILECOL={x}"
      }
     },
     "be126e05e475404795647695c8bfc7db": {
      "model_module": "jupyter-leaflet",
      "model_module_version": "^0.17",
      "model_name": "LeafletTileLayerModel",
      "state": {
       "_model_module_version": "^0.17",
       "_view_module_version": "^0.17",
       "attribution": "Geoportail France",
       "max_zoom": 16,
       "name": "GeoportailFrance.Protectedareas_Znieff1_Sea",
       "options": [
        "attribution",
        "bounds",
        "detect_retina",
        "max_native_zoom",
        "max_zoom",
        "min_native_zoom",
        "min_zoom",
        "no_wrap",
        "tile_size",
        "tms",
        "zoom_offset"
       ],
       "url": "https://wxs.ign.fr/environnement/geoportail/wmts?REQUEST=GetTile&SERVICE=WMTS&VERSION=1.0.0&STYLE=normal&TILEMATRIXSET=PM&FORMAT=image/png&LAYER=PROTECTEDAREAS.ZNIEFF1.SEA&TILEMATRIX={z}&TILEROW={y}&TILECOL={x}"
      }
     },
     "be3f9ed585ed45b88de66db3cc55cdc4": {
      "model_module": "@jupyter-widgets/base",
      "model_module_version": "1.2.0",
      "model_name": "LayoutModel",
      "state": {}
     },
     "be918388b0d7440eab8eb1ca4a74ab79": {
      "model_module": "jupyter-leaflet",
      "model_module_version": "^0.17",
      "model_name": "LeafletTileLayerModel",
      "state": {
       "_model_module_version": "^0.17",
       "_view_module_version": "^0.17",
       "attribution": "Geoportail France",
       "max_zoom": 19,
       "name": "GeoportailFrance.Orthoimagery_Orthophotos_Irc_express_2022",
       "options": [
        "attribution",
        "bounds",
        "detect_retina",
        "max_native_zoom",
        "max_zoom",
        "min_native_zoom",
        "min_zoom",
        "no_wrap",
        "tile_size",
        "tms",
        "zoom_offset"
       ],
       "url": "https://wxs.ign.fr/ortho/geoportail/wmts?REQUEST=GetTile&SERVICE=WMTS&VERSION=1.0.0&STYLE=normal&TILEMATRIXSET=PM&FORMAT=image/jpeg&LAYER=ORTHOIMAGERY.ORTHOPHOTOS.IRC-EXPRESS.2022&TILEMATRIX={z}&TILEROW={y}&TILECOL={x}"
      }
     },
     "befc5557653347909d882992ca16a2ac": {
      "model_module": "@jupyter-widgets/base",
      "model_module_version": "1.2.0",
      "model_name": "LayoutModel",
      "state": {}
     },
     "bf04b90821854bba9c3a500a0946bcb3": {
      "model_module": "@jupyter-widgets/base",
      "model_module_version": "1.2.0",
      "model_name": "LayoutModel",
      "state": {
       "margin": "0px 20px 20px 20px"
      }
     },
     "bf29158d64584e84a7e22f73a7252bfd": {
      "model_module": "jupyter-leaflet",
      "model_module_version": "^0.17",
      "model_name": "LeafletTileLayerModel",
      "state": {
       "_model_module_version": "^0.17",
       "_view_module_version": "^0.17",
       "attribution": "Geoportail France",
       "max_zoom": 13,
       "name": "GeoportailFrance.Landcover_Hr_Imd_Clc15",
       "options": [
        "attribution",
        "bounds",
        "detect_retina",
        "max_native_zoom",
        "max_zoom",
        "min_native_zoom",
        "min_zoom",
        "no_wrap",
        "tile_size",
        "tms",
        "zoom_offset"
       ],
       "url": "https://wxs.ign.fr/clc/geoportail/wmts?REQUEST=GetTile&SERVICE=WMTS&VERSION=1.0.0&STYLE=CORINE Land Cover - HR - taux d'imperméabilisation des sols&TILEMATRIXSET=PM&FORMAT=image/png&LAYER=LANDCOVER.HR.IMD.CLC15&TILEMATRIX={z}&TILEROW={y}&TILECOL={x}"
      }
     },
     "bff985dffb1142b797153a572b2bf768": {
      "model_module": "jupyter-leaflet",
      "model_module_version": "^0.17",
      "model_name": "LeafletTileLayerModel",
      "state": {
       "_model_module_version": "^0.17",
       "_view_module_version": "^0.17",
       "attribution": "Tiles (C) Esri -- Copyright: (C)2012 DeLorme",
       "max_zoom": 11,
       "name": "Esri.DeLorme",
       "options": [
        "attribution",
        "bounds",
        "detect_retina",
        "max_native_zoom",
        "max_zoom",
        "min_native_zoom",
        "min_zoom",
        "no_wrap",
        "tile_size",
        "tms",
        "zoom_offset"
       ],
       "url": "https://server.arcgisonline.com/ArcGIS/rest/services/Specialty/DeLorme_World_Base_Map/MapServer/tile/{z}/{y}/{x}"
      }
     },
     "c09edcbf0c784b8f9e2bfe60966baa73": {
      "model_module": "jupyter-leaflet",
      "model_module_version": "^0.17",
      "model_name": "LeafletTileLayerModel",
      "state": {
       "_model_module_version": "^0.17",
       "_view_module_version": "^0.17",
       "attribution": "(C) OpenStreetMap contributors (C) CARTO",
       "max_zoom": 20,
       "name": "CartoDB.DarkMatter",
       "options": [
        "attribution",
        "bounds",
        "detect_retina",
        "max_native_zoom",
        "max_zoom",
        "min_native_zoom",
        "min_zoom",
        "no_wrap",
        "tile_size",
        "tms",
        "zoom_offset"
       ],
       "url": "https://a.basemaps.cartocdn.com/dark_all/{z}/{x}/{y}.png"
      }
     },
     "c0d2b7f2bbac44d982c7238e9284a228": {
      "model_module": "jupyter-leaflet",
      "model_module_version": "^0.17",
      "model_name": "LeafletTileLayerModel",
      "state": {
       "_model_module_version": "^0.17",
       "_view_module_version": "^0.17",
       "attribution": "Geoportail France",
       "max_zoom": 16,
       "name": "GeoportailFrance.Insee_Filosofi_Niveau_De_Vie_Secret",
       "options": [
        "attribution",
        "bounds",
        "detect_retina",
        "max_native_zoom",
        "max_zoom",
        "min_native_zoom",
        "min_zoom",
        "no_wrap",
        "tile_size",
        "tms",
        "zoom_offset"
       ],
       "url": "https://wxs.ign.fr/economie/geoportail/wmts?REQUEST=GetTile&SERVICE=WMTS&VERSION=1.0.0&STYLE=INSEE&TILEMATRIXSET=PM&FORMAT=image/png&LAYER=INSEE.FILOSOFI.NIVEAU.DE.VIE.SECRET&TILEMATRIX={z}&TILEROW={y}&TILECOL={x}"
      }
     },
     "c0d8626818ad484aa72ee7ef99ba953f": {
      "model_module": "@jupyter-widgets/base",
      "model_module_version": "1.2.0",
      "model_name": "LayoutModel",
      "state": {}
     },
     "c1b870072c7f4a629664886f6f8b192f": {
      "model_module": "jupyter-leaflet",
      "model_module_version": "^0.17",
      "model_name": "LeafletTileLayerModel",
      "state": {
       "_model_module_version": "^0.17",
       "_view_module_version": "^0.17",
       "attribution": "Geoportail France",
       "max_zoom": 16,
       "name": "GeoportailFrance.Landcover_Clc12_dom",
       "options": [
        "attribution",
        "bounds",
        "detect_retina",
        "max_native_zoom",
        "max_zoom",
        "min_native_zoom",
        "min_zoom",
        "no_wrap",
        "tile_size",
        "tms",
        "zoom_offset"
       ],
       "url": "https://wxs.ign.fr/clc/geoportail/wmts?REQUEST=GetTile&SERVICE=WMTS&VERSION=1.0.0&STYLE=CORINE Land Cover - DOM&TILEMATRIXSET=PM&FORMAT=image/png&LAYER=LANDCOVER.CLC12_DOM&TILEMATRIX={z}&TILEROW={y}&TILECOL={x}"
      }
     },
     "c2a9a6c0dde24338b49dbb3e85fb0088": {
      "model_module": "@jupyter-widgets/base",
      "model_module_version": "1.2.0",
      "model_name": "LayoutModel",
      "state": {}
     },
     "c2bd683c0dcb465cac3d42dfc9b8407d": {
      "model_module": "jupyter-leaflet",
      "model_module_version": "^0.17",
      "model_name": "LeafletTileLayerModel",
      "state": {
       "_model_module_version": "^0.17",
       "_view_module_version": "^0.17",
       "attribution": "Geoportail France",
       "name": "GeoportailFrance.Elevation_Contour_Line",
       "options": [
        "attribution",
        "bounds",
        "detect_retina",
        "max_native_zoom",
        "max_zoom",
        "min_native_zoom",
        "min_zoom",
        "no_wrap",
        "tile_size",
        "tms",
        "zoom_offset"
       ],
       "url": "https://wxs.ign.fr/altimetrie/geoportail/wmts?REQUEST=GetTile&SERVICE=WMTS&VERSION=1.0.0&STYLE=normal&TILEMATRIXSET=PM&FORMAT=image/png&LAYER=ELEVATION.CONTOUR.LINE&TILEMATRIX={z}&TILEROW={y}&TILECOL={x}"
      }
     },
     "c2c3063d5292408d9e8cdbdf0774bb63": {
      "model_module": "jupyter-leaflet",
      "model_module_version": "^0.17",
      "model_name": "LeafletTileLayerModel",
      "state": {
       "_model_module_version": "^0.17",
       "_view_module_version": "^0.17",
       "attribution": "Map tiles by <a href=\"https://labs.strava.com/heatmap\">Strava 2021</a>",
       "max_zoom": 15,
       "name": "Strava.Ride",
       "options": [
        "attribution",
        "bounds",
        "detect_retina",
        "max_native_zoom",
        "max_zoom",
        "min_native_zoom",
        "min_zoom",
        "no_wrap",
        "tile_size",
        "tms",
        "zoom_offset"
       ],
       "url": "https://heatmap-external-a.strava.com/tiles/ride/hot/{z}/{x}/{y}.png"
      }
     },
     "c2c70cf615e74eb3a66dcb53309a1e8b": {
      "model_module": "@jupyter-widgets/controls",
      "model_module_version": "1.5.0",
      "model_name": "DescriptionStyleModel",
      "state": {
       "description_width": ""
      }
     },
     "c2f0a23ba8e84f4796fb5a44cd2c0cc8": {
      "model_module": "jupyter-leaflet",
      "model_module_version": "^0.17",
      "model_name": "LeafletTileLayerModel",
      "state": {
       "_model_module_version": "^0.17",
       "_view_module_version": "^0.17",
       "attribution": "Geoportail France",
       "name": "GeoportailFrance.Orthoimagery_Orthophotos2009",
       "options": [
        "attribution",
        "bounds",
        "detect_retina",
        "max_native_zoom",
        "max_zoom",
        "min_native_zoom",
        "min_zoom",
        "no_wrap",
        "tile_size",
        "tms",
        "zoom_offset"
       ],
       "url": "https://wxs.ign.fr/orthohisto/geoportail/wmts?REQUEST=GetTile&SERVICE=WMTS&VERSION=1.0.0&STYLE=normal&TILEMATRIXSET=PM&FORMAT=image/jpeg&LAYER=ORTHOIMAGERY.ORTHOPHOTOS2009&TILEMATRIX={z}&TILEROW={y}&TILECOL={x}"
      }
     },
     "c30788b2c0004d7b8380fd74f054d851": {
      "model_module": "@jupyter-widgets/controls",
      "model_module_version": "1.5.0",
      "model_name": "VBoxModel",
      "state": {
       "_view_count": 1,
       "children": [
        "IPY_MODEL_6220cd526ab14768b7c0186faf783892"
       ],
       "layout": "IPY_MODEL_be3f9ed585ed45b88de66db3cc55cdc4"
      }
     },
     "c405aed9e6004e29aaed9853075da823": {
      "model_module": "jupyter-leaflet",
      "model_module_version": "^0.17",
      "model_name": "LeafletWMSLayerModel",
      "state": {
       "_model_module_version": "^0.17",
       "_view_module_version": "^0.17",
       "attribution": "USGS",
       "crs": {
        "custom": false,
        "name": "EPSG3857"
       },
       "format": "image/png",
       "layers": "USGSNAIPImagery:NDVI_Color",
       "name": "USGS NAIP Imagery NDVI",
       "options": [
        "attribution",
        "bounds",
        "detect_retina",
        "format",
        "layers",
        "max_native_zoom",
        "max_zoom",
        "min_native_zoom",
        "min_zoom",
        "no_wrap",
        "styles",
        "tile_size",
        "tms",
        "transparent",
        "uppercase",
        "zoom_offset"
       ],
       "transparent": true,
       "url": "https://imagery.nationalmap.gov/arcgis/services/USGSNAIPImagery/ImageServer/WMSServer?"
      }
     },
     "c4a7535e3e344372afd3c02b3fe9b747": {
      "model_module": "@jupyter-widgets/controls",
      "model_module_version": "1.5.0",
      "model_name": "DescriptionStyleModel",
      "state": {
       "description_width": ""
      }
     },
     "c4d84e67063b43459b65f17bea4e0264": {
      "model_module": "jupyter-leaflet",
      "model_module_version": "^0.17",
      "model_name": "LeafletTileLayerModel",
      "state": {
       "_model_module_version": "^0.17",
       "_view_module_version": "^0.17",
       "attribution": "Tiles (C) Esri -- Source: USGS, Esri, TANA, DeLorme, and NPS",
       "max_zoom": 13,
       "name": "Esri.WorldTerrain",
       "options": [
        "attribution",
        "bounds",
        "detect_retina",
        "max_native_zoom",
        "max_zoom",
        "min_native_zoom",
        "min_zoom",
        "no_wrap",
        "tile_size",
        "tms",
        "zoom_offset"
       ],
       "url": "https://server.arcgisonline.com/ArcGIS/rest/services/World_Terrain_Base/MapServer/tile/{z}/{y}/{x}"
      }
     },
     "c5198ba0d1e74a2ebcee37c563889719": {
      "model_module": "jupyter-leaflet",
      "model_module_version": "^0.17",
      "model_name": "LeafletTileLayerModel",
      "state": {
       "_model_module_version": "^0.17",
       "_view_module_version": "^0.17",
       "attribution": "OpenStreetMap",
       "max_zoom": 22,
       "name": "OpenStreetMap",
       "options": [
        "attribution",
        "bounds",
        "detect_retina",
        "max_native_zoom",
        "max_zoom",
        "min_native_zoom",
        "min_zoom",
        "no_wrap",
        "tile_size",
        "tms",
        "zoom_offset"
       ]
      }
     },
     "c52eb63c6b6f430d86e630372433aead": {
      "model_module": "@jupyter-widgets/controls",
      "model_module_version": "1.5.0",
      "model_name": "ButtonStyleModel",
      "state": {
       "button_color": "#50bf8f"
      }
     },
     "c56348fd34ad47309c0e3560cdb262d8": {
      "model_module": "jupyter-leaflet",
      "model_module_version": "^0.17",
      "model_name": "LeafletTileLayerModel",
      "state": {
       "_model_module_version": "^0.17",
       "_view_module_version": "^0.17",
       "attribution": "&copy; <a href=\"http://www.gaode.com/\">Gaode.com</a>",
       "max_zoom": 19,
       "name": "Gaode.Satellite",
       "options": [
        "attribution",
        "bounds",
        "detect_retina",
        "max_native_zoom",
        "max_zoom",
        "min_native_zoom",
        "min_zoom",
        "no_wrap",
        "tile_size",
        "tms",
        "zoom_offset"
       ],
       "url": "http://webst01.is.autonavi.com/appmaptile?style=6&x={x}&y={y}&z={z}"
      }
     },
     "c5ca49bd0a534295833200111490e508": {
      "model_module": "jupyter-leaflet",
      "model_module_version": "^0.17",
      "model_name": "LeafletGeoJSONModel",
      "state": {
       "_model_module_version": "^0.17",
       "_view_module_version": "^0.17",
       "data": {
        "features": [
         {
          "geometry": {
           "coordinates": [
            [
             [
              -124.187964,
              40.842013
             ],
             [
              -124.187964,
              40.880183
             ],
             [
              -124.134928,
              40.880183
             ],
             [
              -124.134928,
              40.842013
             ],
             [
              -124.187964,
              40.842013
             ]
            ]
           ],
           "type": "Polygon"
          },
          "id": "0",
          "properties": {
           "id": "1",
           "style": {
            "color": "blue",
            "fillColor": "blue",
            "fillOpacity": 0.1,
            "weight": 2
           }
          },
          "type": "Feature"
         },
         {
          "geometry": {
           "coordinates": [
            [
             [
              -124.195516,
              40.819283
             ],
             [
              -124.195516,
              40.836429
             ],
             [
              -124.173375,
              40.836429
             ],
             [
              -124.173375,
              40.819283
             ],
             [
              -124.195516,
              40.819283
             ]
            ]
           ],
           "type": "Polygon"
          },
          "id": "1",
          "properties": {
           "id": "2",
           "style": {
            "color": "blue",
            "fillColor": "blue",
            "fillOpacity": 0.1,
            "weight": 2
           }
          },
          "type": "Feature"
         },
         {
          "geometry": {
           "coordinates": [
            [
             [
              -124.158794,
              40.91514
             ],
             [
              -124.158794,
              40.942117
             ],
             [
              -124.114854,
              40.942117
             ],
             [
              -124.114854,
              40.91514
             ],
             [
              -124.158794,
              40.91514
             ]
            ]
           ],
           "type": "Polygon"
          },
          "id": "2",
          "properties": {
           "id": "3",
           "style": {
            "color": "blue",
            "fillColor": "blue",
            "fillOpacity": 0.1,
            "weight": 2
           }
          },
          "type": "Feature"
         },
         {
          "geometry": {
           "coordinates": [
            [
             [
              -124.14163,
              40.960269
             ],
             [
              -124.14163,
              40.991374
             ],
             [
              -124.105242,
              40.991374
             ],
             [
              -124.105242,
              40.960269
             ],
             [
              -124.14163,
              40.960269
             ]
            ]
           ],
           "type": "Polygon"
          },
          "id": "3",
          "properties": {
           "id": "4",
           "style": {
            "color": "blue",
            "fillColor": "blue",
            "fillOpacity": 0.1,
            "weight": 2
           }
          },
          "type": "Feature"
         }
        ],
        "type": "FeatureCollection"
       },
       "hover_style": {
        "color": "aqua",
        "fillColor": "blue",
        "fillOpacity": 0.1
       },
       "name": "selected ROIs"
      }
     },
     "c5d6ced869c649759d40bc329b7ba64f": {
      "model_module": "jupyter-leaflet",
      "model_module_version": "^0.17",
      "model_name": "LeafletTileLayerModel",
      "state": {
       "_model_module_version": "^0.17",
       "_view_module_version": "^0.17",
       "attribution": "© swisstopo",
       "max_zoom": 19,
       "name": "SwissFederalGeoportal.SWISSIMAGE",
       "options": [
        "attribution",
        "bounds",
        "detect_retina",
        "max_native_zoom",
        "max_zoom",
        "min_native_zoom",
        "min_zoom",
        "no_wrap",
        "tile_size",
        "tms",
        "zoom_offset"
       ],
       "url": "https://wmts.geo.admin.ch/1.0.0/ch.swisstopo.swissimage/default/current/3857/{z}/{x}/{y}.jpeg"
      }
     },
     "c60b18afb2564252a24100d4b941db98": {
      "model_module": "jupyter-leaflet",
      "model_module_version": "^0.17",
      "model_name": "LeafletTileLayerModel",
      "state": {
       "_model_module_version": "^0.17",
       "_view_module_version": "^0.17",
       "attribution": "Geoportail France",
       "max_zoom": 19,
       "name": "GeoportailFrance.Orthoimagery_Orthophotos_Irc_2013",
       "options": [
        "attribution",
        "bounds",
        "detect_retina",
        "max_native_zoom",
        "max_zoom",
        "min_native_zoom",
        "min_zoom",
        "no_wrap",
        "tile_size",
        "tms",
        "zoom_offset"
       ],
       "url": "https://wxs.ign.fr/orthohisto/geoportail/wmts?REQUEST=GetTile&SERVICE=WMTS&VERSION=1.0.0&STYLE=normal&TILEMATRIXSET=PM&FORMAT=image/jpeg&LAYER=ORTHOIMAGERY.ORTHOPHOTOS.IRC.2013&TILEMATRIX={z}&TILEROW={y}&TILECOL={x}"
      }
     },
     "c61b9eecc7af4e67a8b91e3d0106c721": {
      "model_module": "jupyter-leaflet",
      "model_module_version": "^0.17",
      "model_name": "LeafletTileLayerModel",
      "state": {
       "_model_module_version": "^0.17",
       "_view_module_version": "^0.17",
       "attribution": "Map data: (C) OpenStreetMap contributors | Map style: (C) OpenRailwayMap (CC-BY-SA)",
       "max_zoom": 19,
       "name": "OpenRailwayMap",
       "options": [
        "attribution",
        "bounds",
        "detect_retina",
        "max_native_zoom",
        "max_zoom",
        "min_native_zoom",
        "min_zoom",
        "no_wrap",
        "tile_size",
        "tms",
        "zoom_offset"
       ],
       "url": "https://a.tiles.openrailwaymap.org/standard/{z}/{x}/{y}.png"
      }
     },
     "c6e608eedf244b19bb1c3fe36144bfbe": {
      "model_module": "jupyter-leaflet",
      "model_module_version": "^0.17",
      "model_name": "LeafletTileLayerModel",
      "state": {
       "_model_module_version": "^0.17",
       "_view_module_version": "^0.17",
       "attribution": "Geoportail France",
       "max_zoom": 19,
       "name": "GeoportailFrance.Orthoimagery_Orthophotos_Ortho_express_2020",
       "options": [
        "attribution",
        "bounds",
        "detect_retina",
        "max_native_zoom",
        "max_zoom",
        "min_native_zoom",
        "min_zoom",
        "no_wrap",
        "tile_size",
        "tms",
        "zoom_offset"
       ],
       "url": "https://wxs.ign.fr/orthohisto/geoportail/wmts?REQUEST=GetTile&SERVICE=WMTS&VERSION=1.0.0&STYLE=normal&TILEMATRIXSET=PM&FORMAT=image/jpeg&LAYER=ORTHOIMAGERY.ORTHOPHOTOS.ORTHO-EXPRESS.2020&TILEMATRIX={z}&TILEROW={y}&TILECOL={x}"
      }
     },
     "c70ffc01fe1e417083fcd81d11e1dda9": {
      "model_module": "jupyter-leaflet",
      "model_module_version": "^0.17",
      "model_name": "LeafletTileLayerModel",
      "state": {
       "_model_module_version": "^0.17",
       "_view_module_version": "^0.17",
       "attribution": "Geoportail France",
       "max_zoom": 16,
       "name": "GeoportailFrance.Protectedareas_Rn",
       "options": [
        "attribution",
        "bounds",
        "detect_retina",
        "max_native_zoom",
        "max_zoom",
        "min_native_zoom",
        "min_zoom",
        "no_wrap",
        "tile_size",
        "tms",
        "zoom_offset"
       ],
       "url": "https://wxs.ign.fr/environnement/geoportail/wmts?REQUEST=GetTile&SERVICE=WMTS&VERSION=1.0.0&STYLE=normal&TILEMATRIXSET=PM&FORMAT=image/png&LAYER=PROTECTEDAREAS.RN&TILEMATRIX={z}&TILEROW={y}&TILECOL={x}"
      }
     },
     "c73011081d244463921f8d8002f8e4fc": {
      "model_module": "@jupyter-widgets/base",
      "model_module_version": "1.2.0",
      "model_name": "LayoutModel",
      "state": {}
     },
     "c7345437110d4ea797dcb4c2561e470c": {
      "model_module": "jupyter-leaflet",
      "model_module_version": "^0.17",
      "model_name": "LeafletTileLayerModel",
      "state": {
       "_model_module_version": "^0.17",
       "_view_module_version": "^0.17",
       "attribution": "Geoportail France",
       "max_zoom": 16,
       "name": "GeoportailFrance.Landuse_Agriculture2017",
       "options": [
        "attribution",
        "bounds",
        "detect_retina",
        "max_native_zoom",
        "max_zoom",
        "min_native_zoom",
        "min_zoom",
        "no_wrap",
        "tile_size",
        "tms",
        "zoom_offset"
       ],
       "url": "https://wxs.ign.fr/agriculture/geoportail/wmts?REQUEST=GetTile&SERVICE=WMTS&VERSION=1.0.0&STYLE=normal&TILEMATRIXSET=PM&FORMAT=image/png&LAYER=LANDUSE.AGRICULTURE2017&TILEMATRIX={z}&TILEROW={y}&TILECOL={x}"
      }
     },
     "c741482513db4723b6fe9e42b48a0451": {
      "model_module": "jupyter-leaflet",
      "model_module_version": "^0.17",
      "model_name": "LeafletTileLayerModel",
      "state": {
       "_model_module_version": "^0.17",
       "_view_module_version": "^0.17",
       "attribution": "Geoportail France",
       "max_zoom": 16,
       "name": "GeoportailFrance.Ocsge_Couverture_2014",
       "options": [
        "attribution",
        "bounds",
        "detect_retina",
        "max_native_zoom",
        "max_zoom",
        "min_native_zoom",
        "min_zoom",
        "no_wrap",
        "tile_size",
        "tms",
        "zoom_offset"
       ],
       "url": "https://wxs.ign.fr/ocsge/geoportail/wmts?REQUEST=GetTile&SERVICE=WMTS&VERSION=1.0.0&STYLE=nolegend&TILEMATRIXSET=PM&FORMAT=image/png&LAYER=OCSGE.COUVERTURE.2014&TILEMATRIX={z}&TILEROW={y}&TILECOL={x}"
      }
     },
     "c7f05ede7910438ba8ef05ca4d8d2a22": {
      "model_module": "@jupyter-widgets/controls",
      "model_module_version": "1.5.0",
      "model_name": "DescriptionStyleModel",
      "state": {
       "description_width": ""
      }
     },
     "c7f7905d61584910ad91d31ad221e5da": {
      "model_module": "jupyter-leaflet",
      "model_module_version": "^0.17",
      "model_name": "LeafletTileLayerModel",
      "state": {
       "_model_module_version": "^0.17",
       "_view_module_version": "^0.17",
       "attribution": "Geoportail France",
       "name": "GeoportailFrance.Orthoimagery_Orthophotos_Bdortho",
       "options": [
        "attribution",
        "bounds",
        "detect_retina",
        "max_native_zoom",
        "max_zoom",
        "min_native_zoom",
        "min_zoom",
        "no_wrap",
        "tile_size",
        "tms",
        "zoom_offset"
       ],
       "url": "https://wxs.ign.fr/ortho/geoportail/wmts?REQUEST=GetTile&SERVICE=WMTS&VERSION=1.0.0&STYLE=normal&TILEMATRIXSET=PM&FORMAT=image/jpeg&LAYER=ORTHOIMAGERY.ORTHOPHOTOS.BDORTHO&TILEMATRIX={z}&TILEROW={y}&TILECOL={x}"
      }
     },
     "c99e1eec534f4ac48cdb9e88af40f1b2": {
      "model_module": "jupyter-leaflet",
      "model_module_version": "^0.17",
      "model_name": "LeafletWMSLayerModel",
      "state": {
       "_model_module_version": "^0.17",
       "_view_module_version": "^0.17",
       "attribution": "USGS",
       "crs": {
        "custom": false,
        "name": "EPSG3857"
       },
       "format": "image/png",
       "layers": "33DEPElevation:Hillshade Elevation Tinted",
       "name": "USGS 3DEP Elevation",
       "options": [
        "attribution",
        "bounds",
        "detect_retina",
        "format",
        "layers",
        "max_native_zoom",
        "max_zoom",
        "min_native_zoom",
        "min_zoom",
        "no_wrap",
        "styles",
        "tile_size",
        "tms",
        "transparent",
        "uppercase",
        "zoom_offset"
       ],
       "transparent": true,
       "url": "https://elevation.nationalmap.gov/arcgis/services/3DEPElevation/ImageServer/WMSServer?"
      }
     },
     "ca0357f47ff74cfda304744445ca3cb9": {
      "model_module": "@jupyter-widgets/controls",
      "model_module_version": "1.5.0",
      "model_name": "VBoxModel",
      "state": {
       "children": [
        "IPY_MODEL_d8270182271a451d92e8b7c8dcb9c595",
        "IPY_MODEL_79d109ff72474cc39a445135357e9098",
        "IPY_MODEL_eb845a6a7161411aa7cca650b271e4f8"
       ],
       "layout": "IPY_MODEL_cc9958bf52fe422a8ccdc605796c5907"
      }
     },
     "ca43be6ec2e84e62bbf8d3b4f0277ab4": {
      "model_module": "@jupyter-widgets/controls",
      "model_module_version": "1.5.0",
      "model_name": "ButtonStyleModel",
      "state": {
       "button_color": "#a3adac"
      }
     },
     "ca5f2a2693ca4b0a958ce55133a05359": {
      "model_module": "jupyter-leaflet",
      "model_module_version": "^0.17",
      "model_name": "LeafletTileLayerModel",
      "state": {
       "_model_module_version": "^0.17",
       "_view_module_version": "^0.17",
       "attribution": "Geoportail France",
       "name": "GeoportailFrance.Orthoimagery_Ortho_sat_Pleiades_2016",
       "options": [
        "attribution",
        "bounds",
        "detect_retina",
        "max_native_zoom",
        "max_zoom",
        "min_native_zoom",
        "min_zoom",
        "no_wrap",
        "tile_size",
        "tms",
        "zoom_offset"
       ],
       "url": "https://wxs.ign.fr/satellite/geoportail/wmts?REQUEST=GetTile&SERVICE=WMTS&VERSION=1.0.0&STYLE=normal&TILEMATRIXSET=PM&FORMAT=image/png&LAYER=ORTHOIMAGERY.ORTHO-SAT.PLEIADES.2016&TILEMATRIX={z}&TILEROW={y}&TILECOL={x}"
      }
     },
     "cb69fe85192c4a7fbf6dd5989bb54304": {
      "model_module": "@jupyter-widgets/base",
      "model_module_version": "1.2.0",
      "model_name": "LayoutModel",
      "state": {
       "height": "auto",
       "padding": "0px 0px 0px 4px",
       "width": "auto"
      }
     },
     "cc5ac6adb0644dff9cb54e9df6561eb5": {
      "model_module": "jupyter-leaflet",
      "model_module_version": "^0.17",
      "model_name": "LeafletTileLayerModel",
      "state": {
       "_model_module_version": "^0.17",
       "_view_module_version": "^0.17",
       "attribution": "Geoportail France",
       "name": "GeoportailFrance.Orthoimagery_Orthophotos_1950_1965",
       "options": [
        "attribution",
        "bounds",
        "detect_retina",
        "max_native_zoom",
        "max_zoom",
        "min_native_zoom",
        "min_zoom",
        "no_wrap",
        "tile_size",
        "tms",
        "zoom_offset"
       ],
       "url": "https://wxs.ign.fr/orthohisto/geoportail/wmts?REQUEST=GetTile&SERVICE=WMTS&VERSION=1.0.0&STYLE=normal&TILEMATRIXSET=PM&FORMAT=image/png&LAYER=ORTHOIMAGERY.ORTHOPHOTOS.1950-1965&TILEMATRIX={z}&TILEROW={y}&TILECOL={x}"
      }
     },
     "cc65ae8f8367458aab5d94f7f81c067c": {
      "model_module": "@jupyter-widgets/base",
      "model_module_version": "1.2.0",
      "model_name": "LayoutModel",
      "state": {
       "margin": "0px 0px 0px 5px"
      }
     },
     "cc6fb266b1cb40c79f1f04c4f12e796b": {
      "model_module": "@jupyter-widgets/controls",
      "model_module_version": "1.5.0",
      "model_name": "ToggleButtonModel",
      "state": {
       "button_style": "primary",
       "icon": "globe",
       "layout": "IPY_MODEL_8a264371dbe04982bf9ecfd2f0e4f0a9",
       "style": "IPY_MODEL_f6982e55438e4b56b3215c06c7eaac78",
       "tooltip": "Split-panel map"
      }
     },
     "cc9958bf52fe422a8ccdc605796c5907": {
      "model_module": "@jupyter-widgets/base",
      "model_module_version": "1.2.0",
      "model_name": "LayoutModel",
      "state": {}
     },
     "cd35918202a24a34a0144b284f3bb669": {
      "model_module": "jupyter-leaflet",
      "model_module_version": "^0.17",
      "model_name": "LeafletTileLayerModel",
      "state": {
       "_model_module_version": "^0.17",
       "_view_module_version": "^0.17",
       "attribution": "Map tiles by Stamen Design, CC BY 3.0 -- Map data (C) OpenStreetMap contributors",
       "max_zoom": 20,
       "name": "Stamen.TonerLabels",
       "options": [
        "attribution",
        "bounds",
        "detect_retina",
        "max_native_zoom",
        "max_zoom",
        "min_native_zoom",
        "min_zoom",
        "no_wrap",
        "tile_size",
        "tms",
        "zoom_offset"
       ],
       "url": "https://stamen-tiles-a.a.ssl.fastly.net/toner-labels/{z}/{x}/{y}.png"
      }
     },
     "cd664ca84c914a0f9c6f0c4329188e12": {
      "model_module": "jupyter-leaflet",
      "model_module_version": "^0.17",
      "model_name": "LeafletTileLayerModel",
      "state": {
       "_model_module_version": "^0.17",
       "_view_module_version": "^0.17",
       "attribution": "Geoportail France",
       "name": "GeoportailFrance.Orthoimagery_Orthophotos_Ortho_asp_pac2022",
       "options": [
        "attribution",
        "bounds",
        "detect_retina",
        "max_native_zoom",
        "max_zoom",
        "min_native_zoom",
        "min_zoom",
        "no_wrap",
        "tile_size",
        "tms",
        "zoom_offset"
       ],
       "url": "https://wxs.ign.fr/ortho/geoportail/wmts?REQUEST=GetTile&SERVICE=WMTS&VERSION=1.0.0&STYLE=normal&TILEMATRIXSET=PM&FORMAT=image/jpeg&LAYER=ORTHOIMAGERY.ORTHOPHOTOS.ORTHO-ASP_PAC2022&TILEMATRIX={z}&TILEROW={y}&TILECOL={x}"
      }
     },
     "cd842d6f23cc40f89b57c69f47132d91": {
      "model_module": "jupyter-leaflet",
      "model_module_version": "^0.17",
      "model_name": "LeafletTileLayerModel",
      "state": {
       "_model_module_version": "^0.17",
       "_view_module_version": "^0.17",
       "attribution": "Geoportail France",
       "name": "GeoportailFrance.Orthoimagery_Ortho_sat_Pleiades_2014",
       "options": [
        "attribution",
        "bounds",
        "detect_retina",
        "max_native_zoom",
        "max_zoom",
        "min_native_zoom",
        "min_zoom",
        "no_wrap",
        "tile_size",
        "tms",
        "zoom_offset"
       ],
       "url": "https://wxs.ign.fr/satellite/geoportail/wmts?REQUEST=GetTile&SERVICE=WMTS&VERSION=1.0.0&STYLE=normal&TILEMATRIXSET=PM&FORMAT=image/png&LAYER=ORTHOIMAGERY.ORTHO-SAT.PLEIADES.2014&TILEMATRIX={z}&TILEROW={y}&TILECOL={x}"
      }
     },
     "cda79808752c4b7085461abe0f7b0d11": {
      "model_module": "jupyter-leaflet",
      "model_module_version": "^0.17",
      "model_name": "LeafletTileLayerModel",
      "state": {
       "_model_module_version": "^0.17",
       "_view_module_version": "^0.17",
       "attribution": "Geoportail France",
       "max_zoom": 16,
       "name": "GeoportailFrance.Areamanagement_Zus",
       "options": [
        "attribution",
        "bounds",
        "detect_retina",
        "max_native_zoom",
        "max_zoom",
        "min_native_zoom",
        "min_zoom",
        "no_wrap",
        "tile_size",
        "tms",
        "zoom_offset"
       ],
       "url": "https://wxs.ign.fr/economie/geoportail/wmts?REQUEST=GetTile&SERVICE=WMTS&VERSION=1.0.0&STYLE=normal&TILEMATRIXSET=PM&FORMAT=image/png&LAYER=AREAMANAGEMENT.ZUS&TILEMATRIX={z}&TILEROW={y}&TILECOL={x}"
      }
     },
     "ce06f9f95bec43259daddddaa9f0e9f4": {
      "model_module": "@jupyter-widgets/controls",
      "model_module_version": "1.5.0",
      "model_name": "HTMLModel",
      "state": {
       "layout": "IPY_MODEL_cc65ae8f8367458aab5d94f7f81c067c",
       "style": "IPY_MODEL_c7f05ede7910438ba8ef05ca4d8d2a22",
       "value": "<h2><b>Download Imagery</b></h2>                 <li><b>You must click an ROI on the map before you can download ROIs</b>                 <li>Scroll past the map to see the download progress                 </br><h3><b><u>Where is my data?</u></b></br></h3>                 <li>The data you downloaded will be in the 'data' folder in the main CoastSeg directory</li>                Each ROI you downloaded will have its own folder with the ROI's ID and                </br>the time it was downloaded in the folder name                </br><b>Example</b>: 'ID_1_datetime11-03-22__02_33_22'</li>                "
      }
     },
     "ce7ccb09458f425fa07562e9c229a7d5": {
      "model_module": "jupyter-leaflet",
      "model_module_version": "^0.17",
      "model_name": "LeafletTileLayerModel",
      "state": {
       "_model_module_version": "^0.17",
       "_view_module_version": "^0.17",
       "attribution": "Geoportail France",
       "name": "GeoportailFrance.Elevation_Level0",
       "options": [
        "attribution",
        "bounds",
        "detect_retina",
        "max_native_zoom",
        "max_zoom",
        "min_native_zoom",
        "min_zoom",
        "no_wrap",
        "tile_size",
        "tms",
        "zoom_offset"
       ],
       "url": "https://wxs.ign.fr/altimetrie/geoportail/wmts?REQUEST=GetTile&SERVICE=WMTS&VERSION=1.0.0&STYLE=normal&TILEMATRIXSET=PM&FORMAT=image/png&LAYER=ELEVATION.LEVEL0&TILEMATRIX={z}&TILEROW={y}&TILECOL={x}"
      }
     },
     "cecdd4cd662a4ecd9450be8ad6dd2606": {
      "model_module": "jupyter-leaflet",
      "model_module_version": "^0.17",
      "model_name": "LeafletTileLayerModel",
      "state": {
       "_model_module_version": "^0.17",
       "_view_module_version": "^0.17",
       "attribution": "Geoportail France",
       "name": "GeoportailFrance.Orthoimagery_Orthophotos2008",
       "options": [
        "attribution",
        "bounds",
        "detect_retina",
        "max_native_zoom",
        "max_zoom",
        "min_native_zoom",
        "min_zoom",
        "no_wrap",
        "tile_size",
        "tms",
        "zoom_offset"
       ],
       "url": "https://wxs.ign.fr/orthohisto/geoportail/wmts?REQUEST=GetTile&SERVICE=WMTS&VERSION=1.0.0&STYLE=normal&TILEMATRIXSET=PM&FORMAT=image/jpeg&LAYER=ORTHOIMAGERY.ORTHOPHOTOS2008&TILEMATRIX={z}&TILEROW={y}&TILECOL={x}"
      }
     },
     "cf6631257c424a7f9cbc04b186823473": {
      "model_module": "jupyter-leaflet",
      "model_module_version": "^0.17",
      "model_name": "LeafletTileLayerModel",
      "state": {
       "_model_module_version": "^0.17",
       "_view_module_version": "^0.17",
       "attribution": "Geoportail France",
       "max_zoom": 15,
       "name": "GeoportailFrance.Ortho-sat-rapideye-2011_pyr-jpeg_wld_wm_2011",
       "options": [
        "attribution",
        "bounds",
        "detect_retina",
        "max_native_zoom",
        "max_zoom",
        "min_native_zoom",
        "min_zoom",
        "no_wrap",
        "tile_size",
        "tms",
        "zoom_offset"
       ],
       "url": "https://wxs.ign.fr/satellite/geoportail/wmts?REQUEST=GetTile&SERVICE=WMTS&VERSION=1.0.0&STYLE=normal&TILEMATRIXSET=PM&FORMAT=image/jpeg&LAYER=ORTHO-SAT-RAPIDEYE-2011_PYR-JPEG_WLD_WM_2011&TILEMATRIX={z}&TILEROW={y}&TILECOL={x}"
      }
     },
     "cfd06afd6a264cfd8b493b60bae2d27b": {
      "model_module": "jupyter-leaflet",
      "model_module_version": "^0.17",
      "model_name": "LeafletTileLayerModel",
      "state": {
       "_model_module_version": "^0.17",
       "_view_module_version": "^0.17",
       "attribution": "(C) OpenStreetMap contributors",
       "name": "OpenStreetMap.CH",
       "options": [
        "attribution",
        "bounds",
        "detect_retina",
        "max_native_zoom",
        "max_zoom",
        "min_native_zoom",
        "min_zoom",
        "no_wrap",
        "tile_size",
        "tms",
        "zoom_offset"
       ],
       "url": "https://tile.osm.ch/switzerland/{z}/{x}/{y}.png"
      }
     },
     "cfdc19804c2046a28961a00700b5a7c7": {
      "model_module": "@jupyter-widgets/controls",
      "model_module_version": "1.5.0",
      "model_name": "ToggleButtonModel",
      "state": {
       "button_style": "primary",
       "icon": "adjust",
       "layout": "IPY_MODEL_ef24f8e6aeaa44deaabcc053a912a4a8",
       "style": "IPY_MODEL_a8087a6fab8846c79fe584e6530e926a",
       "tooltip": "Planet imagery"
      }
     },
     "d0e90051890e422fb07b76f60b30bc31": {
      "model_module": "jupyter-leaflet",
      "model_module_version": "^0.17",
      "model_name": "LeafletWMSLayerModel",
      "state": {
       "_model_module_version": "^0.17",
       "_view_module_version": "^0.17",
       "attribution": "ESA",
       "crs": {
        "custom": false,
        "name": "EPSG3857"
       },
       "format": "image/png",
       "layers": "WORLDCOVER_2021_MAP",
       "name": "ESA Worldcover 2021",
       "options": [
        "attribution",
        "bounds",
        "detect_retina",
        "format",
        "layers",
        "max_native_zoom",
        "max_zoom",
        "min_native_zoom",
        "min_zoom",
        "no_wrap",
        "styles",
        "tile_size",
        "tms",
        "transparent",
        "uppercase",
        "zoom_offset"
       ],
       "transparent": true,
       "url": "https://services.terrascope.be/wms/v2"
      }
     },
     "d1a7da4a1ba44a169cd6fca0bd23220c": {
      "model_module": "jupyter-leaflet",
      "model_module_version": "^0.17",
      "model_name": "LeafletGeoJSONModel",
      "state": {
       "_model_module_version": "^0.17",
       "_view_module_version": "^0.17",
       "data": {
        "features": [
         {
          "geometry": {
           "coordinates": [
            [
             [
              -124.187964,
              40.842013
             ],
             [
              -124.187964,
              40.880183
             ],
             [
              -124.134928,
              40.880183
             ],
             [
              -124.134928,
              40.842013
             ],
             [
              -124.187964,
              40.842013
             ]
            ]
           ],
           "type": "Polygon"
          },
          "id": "0",
          "properties": {
           "id": "1",
           "style": {
            "color": "blue",
            "fillColor": "blue",
            "fillOpacity": 0.1,
            "weight": 2
           }
          },
          "type": "Feature"
         },
         {
          "geometry": {
           "coordinates": [
            [
             [
              -124.158794,
              40.91514
             ],
             [
              -124.158794,
              40.942117
             ],
             [
              -124.114854,
              40.942117
             ],
             [
              -124.114854,
              40.91514
             ],
             [
              -124.158794,
              40.91514
             ]
            ]
           ],
           "type": "Polygon"
          },
          "id": "2",
          "properties": {
           "id": "3",
           "style": {
            "color": "blue",
            "fillColor": "blue",
            "fillOpacity": 0.1,
            "weight": 2
           }
          },
          "type": "Feature"
         },
         {
          "geometry": {
           "coordinates": [
            [
             [
              -124.14163,
              40.960269
             ],
             [
              -124.14163,
              40.991374
             ],
             [
              -124.105242,
              40.991374
             ],
             [
              -124.105242,
              40.960269
             ],
             [
              -124.14163,
              40.960269
             ]
            ]
           ],
           "type": "Polygon"
          },
          "id": "3",
          "properties": {
           "id": "4",
           "style": {
            "color": "blue",
            "fillColor": "blue",
            "fillOpacity": 0.1,
            "weight": 2
           }
          },
          "type": "Feature"
         }
        ],
        "type": "FeatureCollection"
       },
       "hover_style": {
        "color": "aqua",
        "fillColor": "blue",
        "fillOpacity": 0.1
       },
       "name": "selected ROIs"
      }
     },
     "d204267deb254d8480c510d1dc57089a": {
      "model_module": "jupyter-leaflet",
      "model_module_version": "^0.17",
      "model_name": "LeafletTileLayerModel",
      "state": {
       "_model_module_version": "^0.17",
       "_view_module_version": "^0.17",
       "attribution": "Geoportail France",
       "max_zoom": 16,
       "name": "GeoportailFrance.Ocsge_Constructions_2002",
       "options": [
        "attribution",
        "bounds",
        "detect_retina",
        "max_native_zoom",
        "max_zoom",
        "min_native_zoom",
        "min_zoom",
        "no_wrap",
        "tile_size",
        "tms",
        "zoom_offset"
       ],
       "url": "https://wxs.ign.fr/ocsge/geoportail/wmts?REQUEST=GetTile&SERVICE=WMTS&VERSION=1.0.0&STYLE=nolegend&TILEMATRIXSET=PM&FORMAT=image/png&LAYER=OCSGE.CONSTRUCTIONS.2002&TILEMATRIX={z}&TILEROW={y}&TILECOL={x}"
      }
     },
     "d2b4b822cbda44c29fb6794b901eb7f1": {
      "model_module": "jupyter-leaflet",
      "model_module_version": "^0.17",
      "model_name": "LeafletTileLayerModel",
      "state": {
       "_model_module_version": "^0.17",
       "_view_module_version": "^0.17",
       "attribution": "Geoportail France",
       "max_zoom": 16,
       "name": "GeoportailFrance.Landcover_Clc00_fr",
       "options": [
        "attribution",
        "bounds",
        "detect_retina",
        "max_native_zoom",
        "max_zoom",
        "min_native_zoom",
        "min_zoom",
        "no_wrap",
        "tile_size",
        "tms",
        "zoom_offset"
       ],
       "url": "https://wxs.ign.fr/clc/geoportail/wmts?REQUEST=GetTile&SERVICE=WMTS&VERSION=1.0.0&STYLE=CORINE Land Cover - France métropolitaine&TILEMATRIXSET=PM&FORMAT=image/png&LAYER=LANDCOVER.CLC00_FR&TILEMATRIX={z}&TILEROW={y}&TILECOL={x}"
      }
     },
     "d318fdfbdef745a89ee26012a482dc86": {
      "model_module": "@jupyter-widgets/controls",
      "model_module_version": "1.5.0",
      "model_name": "HBoxModel",
      "state": {
       "children": [
        "IPY_MODEL_8da2249ba1f245a68370862852bac0a4",
        "IPY_MODEL_8605ac718049459585b44dc182c34063"
       ],
       "layout": "IPY_MODEL_82ae56bdb50b44129678d9c83db46227"
      }
     },
     "d3239e78e5f944efb3642450bfc42a46": {
      "model_module": "jupyter-leaflet",
      "model_module_version": "^0.17",
      "model_name": "LeafletTileLayerModel",
      "state": {
       "_model_module_version": "^0.17",
       "_view_module_version": "^0.17",
       "attribution": "Geoportail France",
       "max_zoom": 12,
       "name": "GeoportailFrance.Landcover_Grid_Clc06r_dom",
       "options": [
        "attribution",
        "bounds",
        "detect_retina",
        "max_native_zoom",
        "max_zoom",
        "min_native_zoom",
        "min_zoom",
        "no_wrap",
        "tile_size",
        "tms",
        "zoom_offset"
       ],
       "url": "https://wxs.ign.fr/clc/geoportail/wmts?REQUEST=GetTile&SERVICE=WMTS&VERSION=1.0.0&STYLE=CORINE Land Cover - DOM&TILEMATRIXSET=PM&FORMAT=image/png&LAYER=LANDCOVER.GRID.CLC06R_DOM&TILEMATRIX={z}&TILEROW={y}&TILECOL={x}"
      }
     },
     "d37c6ea8b3db4210bdb70f710fd43de7": {
      "model_module": "@jupyter-widgets/controls",
      "model_module_version": "1.5.0",
      "model_name": "DescriptionStyleModel",
      "state": {
       "description_width": ""
      }
     },
     "d441ffe391a54fd88b976bb5b6b4bda2": {
      "model_module": "jupyter-leaflet",
      "model_module_version": "^0.17",
      "model_name": "LeafletTileLayerModel",
      "state": {
       "_model_module_version": "^0.17",
       "_view_module_version": "^0.17",
       "attribution": "Geoportail France",
       "max_zoom": 16,
       "name": "GeoportailFrance.Landcover_Clc18",
       "options": [
        "attribution",
        "bounds",
        "detect_retina",
        "max_native_zoom",
        "max_zoom",
        "min_native_zoom",
        "min_zoom",
        "no_wrap",
        "tile_size",
        "tms",
        "zoom_offset"
       ],
       "url": "https://wxs.ign.fr/clc/geoportail/wmts?REQUEST=GetTile&SERVICE=WMTS&VERSION=1.0.0&STYLE=CORINE Land Cover&TILEMATRIXSET=PM&FORMAT=image/png&LAYER=LANDCOVER.CLC18&TILEMATRIX={z}&TILEROW={y}&TILECOL={x}"
      }
     },
     "d4fb3b2820464e4d877fa1348c12ae9d": {
      "model_module": "jupyter-leaflet",
      "model_module_version": "^0.17",
      "model_name": "LeafletTileLayerModel",
      "state": {
       "_model_module_version": "^0.17",
       "_view_module_version": "^0.17",
       "attribution": "Geoportail France",
       "max_zoom": 15,
       "name": "GeoportailFrance.Ortho-sat-rapideye-2010_pyr-jpeg_wld_wm_20160801",
       "options": [
        "attribution",
        "bounds",
        "detect_retina",
        "max_native_zoom",
        "max_zoom",
        "min_native_zoom",
        "min_zoom",
        "no_wrap",
        "tile_size",
        "tms",
        "zoom_offset"
       ],
       "url": "https://wxs.ign.fr/satellite/geoportail/wmts?REQUEST=GetTile&SERVICE=WMTS&VERSION=1.0.0&STYLE=normal&TILEMATRIXSET=PM&FORMAT=image/jpeg&LAYER=ORTHO-SAT-RAPIDEYE-2010_PYR-JPEG_WLD_WM_20160801&TILEMATRIX={z}&TILEROW={y}&TILECOL={x}"
      }
     },
     "d54c731cdcd14ed9ae43434c574f353b": {
      "model_module": "@jupyter-widgets/controls",
      "model_module_version": "1.5.0",
      "model_name": "HBoxModel",
      "state": {
       "children": [
        "IPY_MODEL_f359c9dcad77415c888d50dbe757848b",
        "IPY_MODEL_7ac6a64709064cf3944aaf00daa839fd"
       ],
       "layout": "IPY_MODEL_f7ba11c5d82e4de6901722dc2ef828c6"
      }
     },
     "d69d9fc02e0742b097282acb42569a05": {
      "model_module": "jupyter-leaflet",
      "model_module_version": "^0.17",
      "model_name": "LeafletWidgetControlModel",
      "state": {
       "_model_module": "jupyter-leaflet",
       "_model_module_version": "^0.17",
       "_view_count": null,
       "_view_module": "jupyter-leaflet",
       "_view_module_version": "^0.17",
       "options": [
        "position",
        "transparent_bg"
       ],
       "position": "topleft",
       "widget": "IPY_MODEL_1086dd0985f04836b04bc7fce06d025f"
      }
     },
     "d71cf29dc9e04ea19c6e0ff7128734b1": {
      "model_module": "jupyter-leaflet",
      "model_module_version": "^0.17",
      "model_name": "LeafletTileLayerModel",
      "state": {
       "_model_module_version": "^0.17",
       "_view_module_version": "^0.17",
       "attribution": "Geoportail France",
       "max_zoom": 17,
       "name": "GeoportailFrance.Orthoimagery_Ortho_sat_Spot_2021",
       "options": [
        "attribution",
        "bounds",
        "detect_retina",
        "max_native_zoom",
        "max_zoom",
        "min_native_zoom",
        "min_zoom",
        "no_wrap",
        "tile_size",
        "tms",
        "zoom_offset"
       ],
       "url": "https://wxs.ign.fr/satellite/geoportail/wmts?REQUEST=GetTile&SERVICE=WMTS&VERSION=1.0.0&STYLE=normal&TILEMATRIXSET=PM&FORMAT=image/jpeg&LAYER=ORTHOIMAGERY.ORTHO-SAT.SPOT.2021&TILEMATRIX={z}&TILEROW={y}&TILECOL={x}"
      }
     },
     "d77ad49c14ad443aa795289a021340b7": {
      "model_module": "jupyter-leaflet",
      "model_module_version": "^0.17",
      "model_name": "LeafletTileLayerModel",
      "state": {
       "_model_module_version": "^0.17",
       "_view_module_version": "^0.17",
       "attribution": "Imagery provided by services from the Global Imagery Browse Services (GIBS), operated by the NASA/GSFC/Earth Science Data and Information System (ESDIS) with funding provided by NASA/HQ.",
       "max_zoom": 5,
       "name": "NASAGIBS.BlueMarble3031",
       "options": [
        "attribution",
        "bounds",
        "detect_retina",
        "max_native_zoom",
        "max_zoom",
        "min_native_zoom",
        "min_zoom",
        "no_wrap",
        "tile_size",
        "tms",
        "zoom_offset"
       ],
       "url": "https://gibs.earthdata.nasa.gov/wmts/epsg3031/best/BlueMarble_NextGeneration/default/EPSG3031_500m/{z}/{y}/{x}.jpeg"
      }
     },
     "d7e0c66b28654d8d98e5554cd5d0f9c7": {
      "model_module": "jupyter-leaflet",
      "model_module_version": "^0.17",
      "model_name": "LeafletWMSLayerModel",
      "state": {
       "_model_module_version": "^0.17",
       "_view_module_version": "^0.17",
       "attribution": "ESA",
       "crs": {
        "custom": false,
        "name": "EPSG3857"
       },
       "format": "image/png",
       "layers": "WORLDCOVER_2021_S2_TCC",
       "name": "ESA Worldcover 2021 S2 TCC",
       "options": [
        "attribution",
        "bounds",
        "detect_retina",
        "format",
        "layers",
        "max_native_zoom",
        "max_zoom",
        "min_native_zoom",
        "min_zoom",
        "no_wrap",
        "styles",
        "tile_size",
        "tms",
        "transparent",
        "uppercase",
        "zoom_offset"
       ],
       "transparent": true,
       "url": "https://services.terrascope.be/wms/v2"
      }
     },
     "d8028e29efac46fd96b9e0d792aad19d": {
      "model_module": "jupyter-leaflet",
      "model_module_version": "^0.17",
      "model_name": "LeafletTileLayerModel",
      "state": {
       "_model_module_version": "^0.17",
       "_view_module_version": "^0.17",
       "attribution": "Geoportail France",
       "max_zoom": 16,
       "name": "GeoportailFrance.Landcover_Cha06_dom",
       "options": [
        "attribution",
        "bounds",
        "detect_retina",
        "max_native_zoom",
        "max_zoom",
        "min_native_zoom",
        "min_zoom",
        "no_wrap",
        "tile_size",
        "tms",
        "zoom_offset"
       ],
       "url": "https://wxs.ign.fr/clc/geoportail/wmts?REQUEST=GetTile&SERVICE=WMTS&VERSION=1.0.0&STYLE=CORINE Land Cover - DOM&TILEMATRIXSET=PM&FORMAT=image/png&LAYER=LANDCOVER.CHA06_DOM&TILEMATRIX={z}&TILEROW={y}&TILECOL={x}"
      }
     },
     "d8270182271a451d92e8b7c8dcb9c595": {
      "model_module": "@jupyter-widgets/controls",
      "model_module_version": "1.5.0",
      "model_name": "HTMLModel",
      "state": {
       "layout": "IPY_MODEL_705e6f205c854d25abfabc2e36b12ba9",
       "style": "IPY_MODEL_1adb7a203ecd411f963e563811c92d52",
       "value": "<h2>Remove Feature from Map</h2>"
      }
     },
     "d8ed07d27cd349ddb5f9e78f33b3f165": {
      "model_module": "jupyter-leaflet",
      "model_module_version": "^0.17",
      "model_name": "LeafletWMSLayerModel",
      "state": {
       "_model_module_version": "^0.17",
       "_view_module_version": "^0.17",
       "attribution": "MRLC",
       "crs": {
        "custom": false,
        "name": "EPSG3857"
       },
       "format": "image/png",
       "layers": "NLCD_2011_Land_Cover_L48",
       "name": "NLCD 2011 CONUS Land Cover",
       "options": [
        "attribution",
        "bounds",
        "detect_retina",
        "format",
        "layers",
        "max_native_zoom",
        "max_zoom",
        "min_native_zoom",
        "min_zoom",
        "no_wrap",
        "styles",
        "tile_size",
        "tms",
        "transparent",
        "uppercase",
        "zoom_offset"
       ],
       "transparent": true,
       "url": "https://www.mrlc.gov/geoserver/mrlc_display/NLCD_2011_Land_Cover_L48/wms?"
      }
     },
     "d92a5eedd0dc4b0299e14cf6b5e9163d": {
      "model_module": "jupyter-leaflet",
      "model_module_version": "^0.17",
      "model_name": "LeafletTileLayerModel",
      "state": {
       "_model_module_version": "^0.17",
       "_view_module_version": "^0.17",
       "attribution": "Geoportail France",
       "max_zoom": 20,
       "name": "GeoportailFrance.Orthoimagery_Orthophotos_Ortho_express_2021",
       "options": [
        "attribution",
        "bounds",
        "detect_retina",
        "max_native_zoom",
        "max_zoom",
        "min_native_zoom",
        "min_zoom",
        "no_wrap",
        "tile_size",
        "tms",
        "zoom_offset"
       ],
       "url": "https://wxs.ign.fr/ortho/geoportail/wmts?REQUEST=GetTile&SERVICE=WMTS&VERSION=1.0.0&STYLE=normal&TILEMATRIXSET=PM&FORMAT=image/jpeg&LAYER=ORTHOIMAGERY.ORTHOPHOTOS.ORTHO-EXPRESS.2021&TILEMATRIX={z}&TILEROW={y}&TILECOL={x}"
      }
     },
     "d9cfff7251634d5fb5925e70223c7515": {
      "model_module": "jupyter-leaflet",
      "model_module_version": "^0.17",
      "model_name": "LeafletTileLayerModel",
      "state": {
       "_model_module_version": "^0.17",
       "_view_module_version": "^0.17",
       "attribution": "Geoportail France",
       "name": "GeoportailFrance.Orthoimagery_Orthophotos2018",
       "options": [
        "attribution",
        "bounds",
        "detect_retina",
        "max_native_zoom",
        "max_zoom",
        "min_native_zoom",
        "min_zoom",
        "no_wrap",
        "tile_size",
        "tms",
        "zoom_offset"
       ],
       "url": "https://wxs.ign.fr/orthohisto/geoportail/wmts?REQUEST=GetTile&SERVICE=WMTS&VERSION=1.0.0&STYLE=normal&TILEMATRIXSET=PM&FORMAT=image/jpeg&LAYER=ORTHOIMAGERY.ORTHOPHOTOS2018&TILEMATRIX={z}&TILEROW={y}&TILECOL={x}"
      }
     },
     "dade1e913cbd455998d5f98058a30e4b": {
      "model_module": "@jupyter-widgets/controls",
      "model_module_version": "1.5.0",
      "model_name": "ButtonModel",
      "state": {
       "description": "Load Config",
       "layout": "IPY_MODEL_5c31ad54357744f6aaaffa7b574822c0",
       "style": "IPY_MODEL_798bd0ad63db4f8ea06685b32cf7cf7c"
      }
     },
     "db4873a44da44dc2a746264605d40c7e": {
      "model_module": "jupyter-leaflet",
      "model_module_version": "^0.17",
      "model_name": "LeafletTileLayerModel",
      "state": {
       "_model_module_version": "^0.17",
       "_view_module_version": "^0.17",
       "attribution": "Map tiles by Stamen Design, CC BY 3.0 -- Map data (C) OpenStreetMap contributors",
       "name": "Stamen.TerrainLabels",
       "options": [
        "attribution",
        "bounds",
        "detect_retina",
        "max_native_zoom",
        "max_zoom",
        "min_native_zoom",
        "min_zoom",
        "no_wrap",
        "tile_size",
        "tms",
        "zoom_offset"
       ],
       "url": "https://stamen-tiles-a.a.ssl.fastly.net/terrain-labels/{z}/{x}/{y}.png"
      }
     },
     "db78bdccc854470eb346a573d5e6e6e1": {
      "model_module": "jupyter-leaflet",
      "model_module_version": "^0.17",
      "model_name": "LeafletTileLayerModel",
      "state": {
       "_model_module_version": "^0.17",
       "_view_module_version": "^0.17",
       "attribution": "Geoportail France",
       "name": "GeoportailFrance.Transportnetworks_Railways",
       "options": [
        "attribution",
        "bounds",
        "detect_retina",
        "max_native_zoom",
        "max_zoom",
        "min_native_zoom",
        "min_zoom",
        "no_wrap",
        "tile_size",
        "tms",
        "zoom_offset"
       ],
       "url": "https://wxs.ign.fr/topographie/geoportail/wmts?REQUEST=GetTile&SERVICE=WMTS&VERSION=1.0.0&STYLE=normal&TILEMATRIXSET=PM&FORMAT=image/png&LAYER=TRANSPORTNETWORKS.RAILWAYS&TILEMATRIX={z}&TILEROW={y}&TILECOL={x}"
      }
     },
     "db7abecd6e354193a49a30e0f93971e2": {
      "model_module": "@jupyter-widgets/controls",
      "model_module_version": "1.5.0",
      "model_name": "HBoxModel",
      "state": {
       "layout": "IPY_MODEL_dda984f3731a4cbe9d1f87d47b7942dc"
      }
     },
     "dcf5def4c46a4797bf3293c490bc5692": {
      "model_module": "jupyter-leaflet",
      "model_module_version": "^0.17",
      "model_name": "LeafletTileLayerModel",
      "state": {
       "_model_module_version": "^0.17",
       "_view_module_version": "^0.17",
       "attribution": "(C) OpenStreetMap contributors (C) CARTO",
       "max_zoom": 20,
       "name": "CartoDB.Positron",
       "options": [
        "attribution",
        "bounds",
        "detect_retina",
        "max_native_zoom",
        "max_zoom",
        "min_native_zoom",
        "min_zoom",
        "no_wrap",
        "tile_size",
        "tms",
        "zoom_offset"
       ],
       "url": "https://a.basemaps.cartocdn.com/light_all/{z}/{x}/{y}.png"
      }
     },
     "dd4ea88f79f142a79162579c02b18f94": {
      "model_module": "@jupyter-widgets/base",
      "model_module_version": "1.2.0",
      "model_name": "LayoutModel",
      "state": {}
     },
     "dda984f3731a4cbe9d1f87d47b7942dc": {
      "model_module": "@jupyter-widgets/base",
      "model_module_version": "1.2.0",
      "model_name": "LayoutModel",
      "state": {}
     },
     "de18f3b34c174554a171fae1951cf423": {
      "model_module": "jupyter-leaflet",
      "model_module_version": "^0.17",
      "model_name": "LeafletTileLayerModel",
      "state": {
       "_model_module_version": "^0.17",
       "_view_module_version": "^0.17",
       "attribution": "Geoportail France",
       "max_zoom": 16,
       "name": "GeoportailFrance.Landuse_Agriculture2015",
       "options": [
        "attribution",
        "bounds",
        "detect_retina",
        "max_native_zoom",
        "max_zoom",
        "min_native_zoom",
        "min_zoom",
        "no_wrap",
        "tile_size",
        "tms",
        "zoom_offset"
       ],
       "url": "https://wxs.ign.fr/agriculture/geoportail/wmts?REQUEST=GetTile&SERVICE=WMTS&VERSION=1.0.0&STYLE=normal&TILEMATRIXSET=PM&FORMAT=image/png&LAYER=LANDUSE.AGRICULTURE2015&TILEMATRIX={z}&TILEROW={y}&TILECOL={x}"
      }
     },
     "df3304c973674117b75b4f46a33cd928": {
      "model_module": "jupyter-leaflet",
      "model_module_version": "^0.17",
      "model_name": "LeafletTileLayerModel",
      "state": {
       "_model_module_version": "^0.17",
       "_view_module_version": "^0.17",
       "attribution": "Imagery provided by services from the Global Imagery Browse Services (GIBS), operated by the NASA/GSFC/Earth Science Data and Information System (ESDIS) with funding provided by NASA/HQ.",
       "max_zoom": 9,
       "name": "NASAGIBS.ModisAquaBands721CR",
       "options": [
        "attribution",
        "bounds",
        "detect_retina",
        "max_native_zoom",
        "max_zoom",
        "min_native_zoom",
        "min_zoom",
        "no_wrap",
        "tile_size",
        "tms",
        "zoom_offset"
       ],
       "url": "https://gibs.earthdata.nasa.gov/wmts/epsg3857/best/MODIS_Aqua_CorrectedReflectance_Bands721/default//GoogleMapsCompatible_Level9/{z}/{y}/{x}.jpg"
      }
     },
     "e0659a4fc7ba46a2ba47067c8eb5c5d2": {
      "model_module": "jupyter-leaflet",
      "model_module_version": "^0.17",
      "model_name": "LeafletTileLayerModel",
      "state": {
       "_model_module_version": "^0.17",
       "_view_module_version": "^0.17",
       "attribution": "Geoportail France",
       "max_zoom": 16,
       "name": "GeoportailFrance.Ocsge_Usage_2014",
       "options": [
        "attribution",
        "bounds",
        "detect_retina",
        "max_native_zoom",
        "max_zoom",
        "min_native_zoom",
        "min_zoom",
        "no_wrap",
        "tile_size",
        "tms",
        "zoom_offset"
       ],
       "url": "https://wxs.ign.fr/ocsge/geoportail/wmts?REQUEST=GetTile&SERVICE=WMTS&VERSION=1.0.0&STYLE=normal&TILEMATRIXSET=PM&FORMAT=image/png&LAYER=OCSGE.USAGE.2014&TILEMATRIX={z}&TILEROW={y}&TILECOL={x}"
      }
     },
     "e06b5e4d1162424285e472758af3cd18": {
      "model_module": "jupyter-leaflet",
      "model_module_version": "^0.17",
      "model_name": "LeafletTileLayerModel",
      "state": {
       "_model_module_version": "^0.17",
       "_view_module_version": "^0.17",
       "attribution": "Geoportail France",
       "max_zoom": 16,
       "name": "GeoportailFrance.Ocsge_Usage_2019",
       "options": [
        "attribution",
        "bounds",
        "detect_retina",
        "max_native_zoom",
        "max_zoom",
        "min_native_zoom",
        "min_zoom",
        "no_wrap",
        "tile_size",
        "tms",
        "zoom_offset"
       ],
       "url": "https://wxs.ign.fr/ocsge/geoportail/wmts?REQUEST=GetTile&SERVICE=WMTS&VERSION=1.0.0&STYLE=nolegend&TILEMATRIXSET=PM&FORMAT=image/png&LAYER=OCSGE.USAGE.2019&TILEMATRIX={z}&TILEROW={y}&TILECOL={x}"
      }
     },
     "e10859c43de34517a2235619c7e8bd2e": {
      "model_module": "jupyter-leaflet",
      "model_module_version": "^0.17",
      "model_name": "LeafletTileLayerModel",
      "state": {
       "_model_module_version": "^0.17",
       "_view_module_version": "^0.17",
       "attribution": "Geoportail France",
       "max_zoom": 19,
       "name": "GeoportailFrance.Orthoimagery_Orthophotos_Irc_2017",
       "options": [
        "attribution",
        "bounds",
        "detect_retina",
        "max_native_zoom",
        "max_zoom",
        "min_native_zoom",
        "min_zoom",
        "no_wrap",
        "tile_size",
        "tms",
        "zoom_offset"
       ],
       "url": "https://wxs.ign.fr/orthohisto/geoportail/wmts?REQUEST=GetTile&SERVICE=WMTS&VERSION=1.0.0&STYLE=normal&TILEMATRIXSET=PM&FORMAT=image/jpeg&LAYER=ORTHOIMAGERY.ORTHOPHOTOS.IRC.2017&TILEMATRIX={z}&TILEROW={y}&TILECOL={x}"
      }
     },
     "e156f4e78b7e4f59a8ebe4dccbfb4041": {
      "model_module": "jupyter-leaflet",
      "model_module_version": "^0.17",
      "model_name": "LeafletTileLayerModel",
      "state": {
       "_model_module_version": "^0.17",
       "_view_module_version": "^0.17",
       "attribution": "Geoportail France",
       "name": "GeoportailFrance.Orthoimagery_Ortho_sat_Pleiades_2015",
       "options": [
        "attribution",
        "bounds",
        "detect_retina",
        "max_native_zoom",
        "max_zoom",
        "min_native_zoom",
        "min_zoom",
        "no_wrap",
        "tile_size",
        "tms",
        "zoom_offset"
       ],
       "url": "https://wxs.ign.fr/satellite/geoportail/wmts?REQUEST=GetTile&SERVICE=WMTS&VERSION=1.0.0&STYLE=normal&TILEMATRIXSET=PM&FORMAT=image/png&LAYER=ORTHOIMAGERY.ORTHO-SAT.PLEIADES.2015&TILEMATRIX={z}&TILEROW={y}&TILECOL={x}"
      }
     },
     "e1c3cd10ee524a6d8a9632643212d016": {
      "model_module": "jupyter-leaflet",
      "model_module_version": "^0.17",
      "model_name": "LeafletWMSLayerModel",
      "state": {
       "_model_module_version": "^0.17",
       "_view_module_version": "^0.17",
       "attribution": "MRLC",
       "crs": {
        "custom": false,
        "name": "EPSG3857"
       },
       "format": "image/png",
       "layers": "NLCD_2019_Land_Cover_L48",
       "name": "NLCD 2019 CONUS Land Cover",
       "options": [
        "attribution",
        "bounds",
        "detect_retina",
        "format",
        "layers",
        "max_native_zoom",
        "max_zoom",
        "min_native_zoom",
        "min_zoom",
        "no_wrap",
        "styles",
        "tile_size",
        "tms",
        "transparent",
        "uppercase",
        "zoom_offset"
       ],
       "transparent": true,
       "url": "https://www.mrlc.gov/geoserver/mrlc_display/NLCD_2019_Land_Cover_L48/wms?"
      }
     },
     "e1c77e1fee3d4b2c9e8f756c83b1a3fd": {
      "model_module": "jupyter-leaflet",
      "model_module_version": "^0.17",
      "model_name": "LeafletTileLayerModel",
      "state": {
       "_model_module_version": "^0.17",
       "_view_module_version": "^0.17",
       "attribution": "Geoportail France",
       "max_zoom": 15,
       "name": "GeoportailFrance.Transports_Drones_Restrictions",
       "options": [
        "attribution",
        "bounds",
        "detect_retina",
        "max_native_zoom",
        "max_zoom",
        "min_native_zoom",
        "min_zoom",
        "no_wrap",
        "tile_size",
        "tms",
        "zoom_offset"
       ],
       "url": "https://wxs.ign.fr/transports/geoportail/wmts?REQUEST=GetTile&SERVICE=WMTS&VERSION=1.0.0&STYLE=normal&TILEMATRIXSET=PM&FORMAT=image/png&LAYER=TRANSPORTS.DRONES.RESTRICTIONS&TILEMATRIX={z}&TILEROW={y}&TILECOL={x}"
      }
     },
     "e2149184de4c487090c0fcbc0fb1f3da": {
      "model_module": "jupyter-leaflet",
      "model_module_version": "^0.17",
      "model_name": "LeafletTileLayerModel",
      "state": {
       "_model_module_version": "^0.17",
       "_view_module_version": "^0.17",
       "attribution": "Geoportail France",
       "max_zoom": 16,
       "name": "GeoportailFrance.Landuse_Agriculture2011",
       "options": [
        "attribution",
        "bounds",
        "detect_retina",
        "max_native_zoom",
        "max_zoom",
        "min_native_zoom",
        "min_zoom",
        "no_wrap",
        "tile_size",
        "tms",
        "zoom_offset"
       ],
       "url": "https://wxs.ign.fr/agriculture/geoportail/wmts?REQUEST=GetTile&SERVICE=WMTS&VERSION=1.0.0&STYLE=normal&TILEMATRIXSET=PM&FORMAT=image/png&LAYER=LANDUSE.AGRICULTURE2011&TILEMATRIX={z}&TILEROW={y}&TILECOL={x}"
      }
     },
     "e223a4caccdb48f9853f8294eac06dfd": {
      "model_module": "@jupyter-widgets/controls",
      "model_module_version": "1.5.0",
      "model_name": "ButtonStyleModel",
      "state": {
       "button_color": "#ae3cf0"
      }
     },
     "e270122246594243ae762662481ab43e": {
      "model_module": "jupyter-leaflet",
      "model_module_version": "^0.17",
      "model_name": "LeafletTileLayerModel",
      "state": {
       "_model_module_version": "^0.17",
       "_view_module_version": "^0.17",
       "attribution": "Datenquelle: basemap.at",
       "max_zoom": 20,
       "name": "BasemapAT.basemap",
       "options": [
        "attribution",
        "bounds",
        "detect_retina",
        "max_native_zoom",
        "max_zoom",
        "min_native_zoom",
        "min_zoom",
        "no_wrap",
        "tile_size",
        "tms",
        "zoom_offset"
       ],
       "url": "https://maps.wien.gv.at/basemap/geolandbasemap/normal/google3857/{z}/{y}/{x}.png"
      }
     },
     "e2d99384d9bd4f11a0c3069bca346b17": {
      "model_module": "jupyter-leaflet",
      "model_module_version": "^0.17",
      "model_name": "LeafletTileLayerModel",
      "state": {
       "_model_module_version": "^0.17",
       "_view_module_version": "^0.17",
       "attribution": "Geoportail France",
       "max_zoom": 19,
       "name": "GeoportailFrance.Orthoimagery_Orthophotos_Irc_2018",
       "options": [
        "attribution",
        "bounds",
        "detect_retina",
        "max_native_zoom",
        "max_zoom",
        "min_native_zoom",
        "min_zoom",
        "no_wrap",
        "tile_size",
        "tms",
        "zoom_offset"
       ],
       "url": "https://wxs.ign.fr/orthohisto/geoportail/wmts?REQUEST=GetTile&SERVICE=WMTS&VERSION=1.0.0&STYLE=normal&TILEMATRIXSET=PM&FORMAT=image/jpeg&LAYER=ORTHOIMAGERY.ORTHOPHOTOS.IRC.2018&TILEMATRIX={z}&TILEROW={y}&TILECOL={x}"
      }
     },
     "e2e7577addf6422da83fd60a61b4357b": {
      "model_module": "jupyter-leaflet",
      "model_module_version": "^0.17",
      "model_name": "LeafletTileLayerModel",
      "state": {
       "_model_module_version": "^0.17",
       "_view_module_version": "^0.17",
       "attribution": "Geoportail France",
       "name": "GeoportailFrance.Orthoimagery_Orthophotos2002",
       "options": [
        "attribution",
        "bounds",
        "detect_retina",
        "max_native_zoom",
        "max_zoom",
        "min_native_zoom",
        "min_zoom",
        "no_wrap",
        "tile_size",
        "tms",
        "zoom_offset"
       ],
       "url": "https://wxs.ign.fr/orthohisto/geoportail/wmts?REQUEST=GetTile&SERVICE=WMTS&VERSION=1.0.0&STYLE=normal&TILEMATRIXSET=PM&FORMAT=image/jpeg&LAYER=ORTHOIMAGERY.ORTHOPHOTOS2002&TILEMATRIX={z}&TILEROW={y}&TILECOL={x}"
      }
     },
     "e32e4134d14c491f9c31bf58913f99d3": {
      "model_module": "jupyter-leaflet",
      "model_module_version": "^0.17",
      "model_name": "LeafletTileLayerModel",
      "state": {
       "_model_module_version": "^0.17",
       "_view_module_version": "^0.17",
       "attribution": "Google",
       "max_zoom": 22,
       "name": "Google Satellite",
       "options": [
        "attribution",
        "bounds",
        "detect_retina",
        "max_native_zoom",
        "max_zoom",
        "min_native_zoom",
        "min_zoom",
        "no_wrap",
        "tile_size",
        "tms",
        "zoom_offset"
       ],
       "url": "https://mt1.google.com/vt/lyrs=y&x={x}&y={y}&z={z}"
      }
     },
     "e3a88ebca7ac4234a048291a9599711c": {
      "model_module": "jupyter-leaflet",
      "model_module_version": "^0.17",
      "model_name": "LeafletTileLayerModel",
      "state": {
       "_model_module_version": "^0.17",
       "_view_module_version": "^0.17",
       "attribution": "Geoportail France",
       "max_zoom": 16,
       "name": "GeoportailFrance.Protectedareas_Gp",
       "options": [
        "attribution",
        "bounds",
        "detect_retina",
        "max_native_zoom",
        "max_zoom",
        "min_native_zoom",
        "min_zoom",
        "no_wrap",
        "tile_size",
        "tms",
        "zoom_offset"
       ],
       "url": "https://wxs.ign.fr/environnement/geoportail/wmts?REQUEST=GetTile&SERVICE=WMTS&VERSION=1.0.0&STYLE=normal&TILEMATRIXSET=PM&FORMAT=image/png&LAYER=PROTECTEDAREAS.GP&TILEMATRIX={z}&TILEROW={y}&TILECOL={x}"
      }
     },
     "e3c9e6675b7f4574b96dc3f466c18624": {
      "model_module": "@jupyter-widgets/controls",
      "model_module_version": "1.5.0",
      "model_name": "DescriptionStyleModel",
      "state": {
       "description_width": ""
      }
     },
     "e4e743feab074700983b430e09016888": {
      "model_module": "jupyter-leaflet",
      "model_module_version": "^0.17",
      "model_name": "LeafletTileLayerModel",
      "state": {
       "_model_module_version": "^0.17",
       "_view_module_version": "^0.17",
       "attribution": "Geoportail France",
       "name": "GeoportailFrance.Hedge_Hedge",
       "options": [
        "attribution",
        "bounds",
        "detect_retina",
        "max_native_zoom",
        "max_zoom",
        "min_native_zoom",
        "min_zoom",
        "no_wrap",
        "tile_size",
        "tms",
        "zoom_offset"
       ],
       "url": "https://wxs.ign.fr/topographie/geoportail/wmts?REQUEST=GetTile&SERVICE=WMTS&VERSION=1.0.0&STYLE=normal&TILEMATRIXSET=PM&FORMAT=image/png&LAYER=hedge.hedge&TILEMATRIX={z}&TILEROW={y}&TILECOL={x}"
      }
     },
     "e52b8304e12e4559a1aea67be47af8ac": {
      "model_module": "jupyter-leaflet",
      "model_module_version": "^0.17",
      "model_name": "LeafletWMSLayerModel",
      "state": {
       "_model_module_version": "^0.17",
       "_view_module_version": "^0.17",
       "attribution": "USGS",
       "crs": {
        "custom": false,
        "name": "EPSG3857"
       },
       "format": "image/png",
       "layers": "USGSNAIPImagery:FalseColorComposite",
       "name": "USGS NAIP Imagery False Color",
       "options": [
        "attribution",
        "bounds",
        "detect_retina",
        "format",
        "layers",
        "max_native_zoom",
        "max_zoom",
        "min_native_zoom",
        "min_zoom",
        "no_wrap",
        "styles",
        "tile_size",
        "tms",
        "transparent",
        "uppercase",
        "zoom_offset"
       ],
       "transparent": true,
       "url": "https://imagery.nationalmap.gov/arcgis/services/USGSNAIPImagery/ImageServer/WMSServer?"
      }
     },
     "e572f5213a7f4aec8eb7a3f8ef3886fc": {
      "model_module": "jupyter-leaflet",
      "model_module_version": "^0.17",
      "model_name": "LeafletTileLayerModel",
      "state": {
       "_model_module_version": "^0.17",
       "_view_module_version": "^0.17",
       "attribution": "Geoportail France",
       "max_zoom": 17,
       "name": "GeoportailFrance.Orthoimagery_Ortho_sat_Spot_2015",
       "options": [
        "attribution",
        "bounds",
        "detect_retina",
        "max_native_zoom",
        "max_zoom",
        "min_native_zoom",
        "min_zoom",
        "no_wrap",
        "tile_size",
        "tms",
        "zoom_offset"
       ],
       "url": "https://wxs.ign.fr/satellite/geoportail/wmts?REQUEST=GetTile&SERVICE=WMTS&VERSION=1.0.0&STYLE=normal&TILEMATRIXSET=PM&FORMAT=image/jpeg&LAYER=ORTHOIMAGERY.ORTHO-SAT.SPOT.2015&TILEMATRIX={z}&TILEROW={y}&TILECOL={x}"
      }
     },
     "e58776d5fcb54401b3a5580b065ba024": {
      "model_module": "jupyter-leaflet",
      "model_module_version": "^0.17",
      "model_name": "LeafletWMSLayerModel",
      "state": {
       "_model_module_version": "^0.17",
       "_view_module_version": "^0.17",
       "attribution": "MRLC",
       "crs": {
        "custom": false,
        "name": "EPSG3857"
       },
       "format": "image/png",
       "layers": "NLCD_2013_Land_Cover_L48",
       "name": "NLCD 2013 CONUS Land Cover",
       "options": [
        "attribution",
        "bounds",
        "detect_retina",
        "format",
        "layers",
        "max_native_zoom",
        "max_zoom",
        "min_native_zoom",
        "min_zoom",
        "no_wrap",
        "styles",
        "tile_size",
        "tms",
        "transparent",
        "uppercase",
        "zoom_offset"
       ],
       "transparent": true,
       "url": "https://www.mrlc.gov/geoserver/mrlc_display/NLCD_2013_Land_Cover_L48/wms?"
      }
     },
     "e5ad2da7af904923acacfc07120e268a": {
      "model_module": "jupyter-leaflet",
      "model_module_version": "^0.17",
      "model_name": "LeafletTileLayerModel",
      "state": {
       "_model_module_version": "^0.17",
       "_view_module_version": "^0.17",
       "attribution": "Geoportail France",
       "max_zoom": 16,
       "name": "GeoportailFrance.Landcover_Clc06r_dom",
       "options": [
        "attribution",
        "bounds",
        "detect_retina",
        "max_native_zoom",
        "max_zoom",
        "min_native_zoom",
        "min_zoom",
        "no_wrap",
        "tile_size",
        "tms",
        "zoom_offset"
       ],
       "url": "https://wxs.ign.fr/clc/geoportail/wmts?REQUEST=GetTile&SERVICE=WMTS&VERSION=1.0.0&STYLE=CORINE Land Cover - DOM&TILEMATRIXSET=PM&FORMAT=image/png&LAYER=LANDCOVER.CLC06R_DOM&TILEMATRIX={z}&TILEROW={y}&TILECOL={x}"
      }
     },
     "e5d593ce52c94a7cb8de0035c2d9d523": {
      "model_module": "jupyter-leaflet",
      "model_module_version": "^0.17",
      "model_name": "LeafletTileLayerModel",
      "state": {
       "_model_module_version": "^0.17",
       "_view_module_version": "^0.17",
       "attribution": "Geoportail France",
       "max_zoom": 16,
       "name": "GeoportailFrance.Protectedareas_Ramsar",
       "options": [
        "attribution",
        "bounds",
        "detect_retina",
        "max_native_zoom",
        "max_zoom",
        "min_native_zoom",
        "min_zoom",
        "no_wrap",
        "tile_size",
        "tms",
        "zoom_offset"
       ],
       "url": "https://wxs.ign.fr/environnement/geoportail/wmts?REQUEST=GetTile&SERVICE=WMTS&VERSION=1.0.0&STYLE=normal&TILEMATRIXSET=PM&FORMAT=image/png&LAYER=PROTECTEDAREAS.RAMSAR&TILEMATRIX={z}&TILEROW={y}&TILECOL={x}"
      }
     },
     "e61e10a18240450184f4f437e4c93a43": {
      "model_module": "@jupyter-widgets/controls",
      "model_module_version": "1.5.0",
      "model_name": "DatePickerModel",
      "state": {
       "description": "End Date",
       "disabled": false,
       "layout": "IPY_MODEL_16a5bd96bc164465b61440eed156fc3e",
       "style": "IPY_MODEL_fe9ac82b63874a7aa4f7c42769234b67",
       "value": {
        "date": 31,
        "month": 11,
        "year": 2010
       }
      }
     },
     "e627d0d5874249cfa56bc0c2ee64533e": {
      "model_module": "jupyter-leaflet",
      "model_module_version": "^0.17",
      "model_name": "LeafletTileLayerModel",
      "state": {
       "_model_module_version": "^0.17",
       "_view_module_version": "^0.17",
       "attribution": "Imagery provided by services from the Global Imagery Browse Services (GIBS), operated by the NASA/GSFC/Earth Science Data and Information System (ESDIS) with funding provided by NASA/HQ.",
       "max_zoom": 6,
       "name": "NASAGIBS.ModisTerraAOD",
       "options": [
        "attribution",
        "bounds",
        "detect_retina",
        "max_native_zoom",
        "max_zoom",
        "min_native_zoom",
        "min_zoom",
        "no_wrap",
        "tile_size",
        "tms",
        "zoom_offset"
       ],
       "url": "https://map1.vis.earthdata.nasa.gov/wmts-webmerc/MODIS_Terra_Aerosol/default//GoogleMapsCompatible_Level6/{z}/{y}/{x}.png"
      }
     },
     "e7288e30dac54b20960b071b8282e168": {
      "model_module": "jupyter-leaflet",
      "model_module_version": "^0.17",
      "model_name": "LeafletWidgetControlModel",
      "state": {
       "_model_module": "jupyter-leaflet",
       "_model_module_version": "^0.17",
       "_view_count": null,
       "_view_module": "jupyter-leaflet",
       "_view_module_version": "^0.17",
       "options": [
        "position",
        "transparent_bg"
       ],
       "position": "topleft",
       "widget": "IPY_MODEL_46b3c956b7c54defbabecb15a3414524"
      }
     },
     "e7748c22b1394e519c0e28bbd9ee5453": {
      "model_module": "jupyter-leaflet",
      "model_module_version": "^0.17",
      "model_name": "LeafletTileLayerModel",
      "state": {
       "_model_module_version": "^0.17",
       "_view_module_version": "^0.17",
       "attribution": "Geoportail France",
       "max_zoom": 16,
       "name": "GeoportailFrance.Elevationgridcoverage_Highres_Quality",
       "options": [
        "attribution",
        "bounds",
        "detect_retina",
        "max_native_zoom",
        "max_zoom",
        "min_native_zoom",
        "min_zoom",
        "no_wrap",
        "tile_size",
        "tms",
        "zoom_offset"
       ],
       "url": "https://wxs.ign.fr/altimetrie/geoportail/wmts?REQUEST=GetTile&SERVICE=WMTS&VERSION=1.0.0&STYLE=Graphe de source du RGE Alti&TILEMATRIXSET=PM&FORMAT=image/png&LAYER=ELEVATIONGRIDCOVERAGE.HIGHRES.QUALITY&TILEMATRIX={z}&TILEROW={y}&TILECOL={x}"
      }
     },
     "e7759447f3f042df8f94f6e136ba95a2": {
      "model_module": "@jupyter-widgets/controls",
      "model_module_version": "1.5.0",
      "model_name": "DescriptionStyleModel",
      "state": {
       "description_width": ""
      }
     },
     "e79e13759c5e4da381117d30ab0ff9e7": {
      "model_module": "jupyter-leaflet",
      "model_module_version": "^0.17",
      "model_name": "LeafletTileLayerModel",
      "state": {
       "_model_module_version": "^0.17",
       "_view_module_version": "^0.17",
       "attribution": "Geoportail France",
       "max_zoom": 19,
       "name": "GeoportailFrance.Hr_Orthoimagery_Orthophotos",
       "options": [
        "attribution",
        "bounds",
        "detect_retina",
        "max_native_zoom",
        "max_zoom",
        "min_native_zoom",
        "min_zoom",
        "no_wrap",
        "tile_size",
        "tms",
        "zoom_offset"
       ],
       "url": "https://wxs.ign.fr/ortho/geoportail/wmts?REQUEST=GetTile&SERVICE=WMTS&VERSION=1.0.0&STYLE=normal&TILEMATRIXSET=PM&FORMAT=image/jpeg&LAYER=HR.ORTHOIMAGERY.ORTHOPHOTOS&TILEMATRIX={z}&TILEROW={y}&TILECOL={x}"
      }
     },
     "e84230782cd14bf3a9751e43234adfe1": {
      "model_module": "jupyter-leaflet",
      "model_module_version": "^0.17",
      "model_name": "LeafletTileLayerModel",
      "state": {
       "_model_module_version": "^0.17",
       "_view_module_version": "^0.17",
       "attribution": "Geoportail France",
       "max_zoom": 16,
       "name": "GeoportailFrance.Protectedareas_Mnhn_Cdl_Parcels",
       "options": [
        "attribution",
        "bounds",
        "detect_retina",
        "max_native_zoom",
        "max_zoom",
        "min_native_zoom",
        "min_zoom",
        "no_wrap",
        "tile_size",
        "tms",
        "zoom_offset"
       ],
       "url": "https://wxs.ign.fr/environnement/geoportail/wmts?REQUEST=GetTile&SERVICE=WMTS&VERSION=1.0.0&STYLE=normal&TILEMATRIXSET=PM&FORMAT=image/png&LAYER=PROTECTEDAREAS.MNHN.CDL.PARCELS&TILEMATRIX={z}&TILEROW={y}&TILECOL={x}"
      }
     },
     "e888dd310cb94f4c94bf67350f27e0ad": {
      "model_module": "jupyter-leaflet",
      "model_module_version": "^0.17",
      "model_name": "LeafletTileLayerModel",
      "state": {
       "_model_module_version": "^0.17",
       "_view_module_version": "^0.17",
       "attribution": "Tiles (C) Esri -- Esri, DeLorme, NAVTEQ, TomTom, Intermap, iPC, USGS, FAO, NPS, NRCAN, GeoBase, Kadaster NL, Ordnance Survey, Esri Japan, METI, Esri China (Hong Kong), and the GIS User Community",
       "max_zoom": 22,
       "name": "Esri.WorldTopoMap",
       "options": [
        "attribution",
        "bounds",
        "detect_retina",
        "max_native_zoom",
        "max_zoom",
        "min_native_zoom",
        "min_zoom",
        "no_wrap",
        "tile_size",
        "tms",
        "zoom_offset"
       ],
       "url": "https://server.arcgisonline.com/ArcGIS/rest/services/World_Topo_Map/MapServer/tile/{z}/{y}/{x}"
      }
     },
     "e8b755d75beb4e5c936e3888cc51587d": {
      "model_module": "jupyter-leaflet",
      "model_module_version": "^0.17",
      "model_name": "LeafletTileLayerModel",
      "state": {
       "_model_module_version": "^0.17",
       "_view_module_version": "^0.17",
       "attribution": "Geoportail France",
       "max_zoom": 17,
       "name": "GeoportailFrance.Orthoimagery_Ortho_sat_Spot_2018",
       "options": [
        "attribution",
        "bounds",
        "detect_retina",
        "max_native_zoom",
        "max_zoom",
        "min_native_zoom",
        "min_zoom",
        "no_wrap",
        "tile_size",
        "tms",
        "zoom_offset"
       ],
       "url": "https://wxs.ign.fr/satellite/geoportail/wmts?REQUEST=GetTile&SERVICE=WMTS&VERSION=1.0.0&STYLE=normal&TILEMATRIXSET=PM&FORMAT=image/jpeg&LAYER=ORTHOIMAGERY.ORTHO-SAT.SPOT.2018&TILEMATRIX={z}&TILEROW={y}&TILECOL={x}"
      }
     },
     "e95d88fc4990408ba34d57a0997ffd62": {
      "model_module": "jupyter-leaflet",
      "model_module_version": "^0.17",
      "model_name": "LeafletTileLayerModel",
      "state": {
       "_model_module_version": "^0.17",
       "_view_module_version": "^0.17",
       "attribution": "Geoportail France",
       "name": "GeoportailFrance.Orthoimagery_Orthophotos2019",
       "options": [
        "attribution",
        "bounds",
        "detect_retina",
        "max_native_zoom",
        "max_zoom",
        "min_native_zoom",
        "min_zoom",
        "no_wrap",
        "tile_size",
        "tms",
        "zoom_offset"
       ],
       "url": "https://wxs.ign.fr/orthohisto/geoportail/wmts?REQUEST=GetTile&SERVICE=WMTS&VERSION=1.0.0&STYLE=normal&TILEMATRIXSET=PM&FORMAT=image/jpeg&LAYER=ORTHOIMAGERY.ORTHOPHOTOS2019&TILEMATRIX={z}&TILEROW={y}&TILECOL={x}"
      }
     },
     "e97f31b3e3bd42a387a6f7735ba4b2bc": {
      "model_module": "jupyter-leaflet",
      "model_module_version": "^0.17",
      "model_name": "LeafletTileLayerModel",
      "state": {
       "_model_module_version": "^0.17",
       "_view_module_version": "^0.17",
       "attribution": "Tiles (C) Esri -- Source: Esri, DeLorme, NAVTEQ, USGS, Intermap, iPC, NRCAN, Esri Japan, METI, Esri China (Hong Kong), Esri (Thailand), TomTom, 2012",
       "max_zoom": 22,
       "name": "Esri.WorldStreetMap",
       "options": [
        "attribution",
        "bounds",
        "detect_retina",
        "max_native_zoom",
        "max_zoom",
        "min_native_zoom",
        "min_zoom",
        "no_wrap",
        "tile_size",
        "tms",
        "zoom_offset"
       ],
       "url": "https://server.arcgisonline.com/ArcGIS/rest/services/World_Street_Map/MapServer/tile/{z}/{y}/{x}"
      }
     },
     "ea0b984fb3ac4e95ad67025be306349e": {
      "model_module": "@jupyter-widgets/controls",
      "model_module_version": "1.5.0",
      "model_name": "VBoxModel",
      "state": {
       "children": [
        "IPY_MODEL_91ed8ba8e911415d928e43275bea77c8",
        "IPY_MODEL_dade1e913cbd455998d5f98058a30e4b",
        "IPY_MODEL_792d6072b26340b88f6eb3d038b7eb06"
       ],
       "layout": "IPY_MODEL_1bc13a94da794c728501974837231480"
      }
     },
     "ea0c511ab0b64f4fb275343daa050cb6": {
      "model_module": "jupyter-leaflet",
      "model_module_version": "^0.17",
      "model_name": "LeafletTileLayerModel",
      "state": {
       "_model_module_version": "^0.17",
       "_view_module_version": "^0.17",
       "attribution": "Google",
       "max_zoom": 22,
       "name": "Google Terrain",
       "options": [
        "attribution",
        "bounds",
        "detect_retina",
        "max_native_zoom",
        "max_zoom",
        "min_native_zoom",
        "min_zoom",
        "no_wrap",
        "tile_size",
        "tms",
        "zoom_offset"
       ],
       "url": "https://mt1.google.com/vt/lyrs=p&x={x}&y={y}&z={z}"
      }
     },
     "ea3f1e04ef4944bcb9ba917970265bb7": {
      "model_module": "jupyter-leaflet",
      "model_module_version": "^0.17",
      "model_name": "LeafletTileLayerModel",
      "state": {
       "_model_module_version": "^0.17",
       "_view_module_version": "^0.17",
       "attribution": "Map data: (C) OpenStreetMap contributors | Map style: (C) waymarkedtrails.org (CC-BY-SA)",
       "name": "WaymarkedTrails.hiking",
       "options": [
        "attribution",
        "bounds",
        "detect_retina",
        "max_native_zoom",
        "max_zoom",
        "min_native_zoom",
        "min_zoom",
        "no_wrap",
        "tile_size",
        "tms",
        "zoom_offset"
       ],
       "url": "https://tile.waymarkedtrails.org/hiking/{z}/{x}/{y}.png"
      }
     },
     "eaadab23f2db435da3a6cff31c3f9a28": {
      "model_module": "jupyter-leaflet",
      "model_module_version": "^0.17",
      "model_name": "LeafletTileLayerModel",
      "state": {
       "_model_module_version": "^0.17",
       "_view_module_version": "^0.17",
       "attribution": "Tiles (C) Esri -- Source: Esri",
       "max_zoom": 13,
       "name": "Esri.WorldShadedRelief",
       "options": [
        "attribution",
        "bounds",
        "detect_retina",
        "max_native_zoom",
        "max_zoom",
        "min_native_zoom",
        "min_zoom",
        "no_wrap",
        "tile_size",
        "tms",
        "zoom_offset"
       ],
       "url": "https://server.arcgisonline.com/ArcGIS/rest/services/World_Shaded_Relief/MapServer/tile/{z}/{y}/{x}"
      }
     },
     "eadef395b25844cca379930ce3aafcb8": {
      "model_module": "@jupyter-widgets/base",
      "model_module_version": "1.2.0",
      "model_name": "LayoutModel",
      "state": {
       "grid_gap": "1px 1px",
       "grid_template_columns": "32px 32px 32px ",
       "grid_template_rows": "32px 32px 32px 32px 32px 32px ",
       "padding": "5px",
       "width": "109px"
      }
     },
     "eb620602021646509b13c619e685407a": {
      "model_module": "@jupyter-widgets/base",
      "model_module_version": "1.2.0",
      "model_name": "LayoutModel",
      "state": {}
     },
     "eb845a6a7161411aa7cca650b271e4f8": {
      "model_module": "@jupyter-widgets/controls",
      "model_module_version": "1.5.0",
      "model_name": "ButtonModel",
      "state": {
       "description": "Remove all",
       "layout": "IPY_MODEL_7b7d88520ebc4cf288d735ca14d5aa4b",
       "style": "IPY_MODEL_12b041197a3747d0849812f3fd6adf8d"
      }
     },
     "ebae50d45e264d00b728e63c649224c4": {
      "model_module": "jupyter-leaflet",
      "model_module_version": "^0.17",
      "model_name": "LeafletTileLayerModel",
      "state": {
       "_model_module_version": "^0.17",
       "_view_module_version": "^0.17",
       "attribution": "Geoportail France",
       "max_zoom": 16,
       "name": "GeoportailFrance.Landcover_Forestareas",
       "options": [
        "attribution",
        "bounds",
        "detect_retina",
        "max_native_zoom",
        "max_zoom",
        "min_native_zoom",
        "min_zoom",
        "no_wrap",
        "tile_size",
        "tms",
        "zoom_offset"
       ],
       "url": "https://wxs.ign.fr/environnement/geoportail/wmts?REQUEST=GetTile&SERVICE=WMTS&VERSION=1.0.0&STYLE=normal&TILEMATRIXSET=PM&FORMAT=image/png&LAYER=LANDCOVER.FORESTAREAS&TILEMATRIX={z}&TILEROW={y}&TILECOL={x}"
      }
     },
     "ec19799dc64945b789282a3ca6221446": {
      "model_module": "jupyter-leaflet",
      "model_module_version": "^0.17",
      "model_name": "LeafletTileLayerModel",
      "state": {
       "_model_module_version": "^0.17",
       "_view_module_version": "^0.17",
       "attribution": "Justice Map",
       "max_zoom": 22,
       "name": "JusticeMap.income",
       "options": [
        "attribution",
        "bounds",
        "detect_retina",
        "max_native_zoom",
        "max_zoom",
        "min_native_zoom",
        "min_zoom",
        "no_wrap",
        "tile_size",
        "tms",
        "zoom_offset"
       ],
       "url": "https://www.justicemap.org/tile/county/income/{z}/{x}/{y}.png"
      }
     },
     "ec9d01d67d794806add6e4e77126dbd1": {
      "model_module": "jupyter-leaflet",
      "model_module_version": "^0.17",
      "model_name": "LeafletTileLayerModel",
      "state": {
       "_model_module_version": "^0.17",
       "_view_module_version": "^0.17",
       "attribution": "Geoportail France",
       "max_zoom": 16,
       "name": "GeoportailFrance.Ocsge_Usage_2016",
       "options": [
        "attribution",
        "bounds",
        "detect_retina",
        "max_native_zoom",
        "max_zoom",
        "min_native_zoom",
        "min_zoom",
        "no_wrap",
        "tile_size",
        "tms",
        "zoom_offset"
       ],
       "url": "https://wxs.ign.fr/ocsge/geoportail/wmts?REQUEST=GetTile&SERVICE=WMTS&VERSION=1.0.0&STYLE=nolegend&TILEMATRIXSET=PM&FORMAT=image/png&LAYER=OCSGE.USAGE.2016&TILEMATRIX={z}&TILEROW={y}&TILECOL={x}"
      }
     },
     "ecfe6c60389c4489afaf6bebe8c7cc71": {
      "model_module": "jupyter-leaflet",
      "model_module_version": "^0.17",
      "model_name": "LeafletTileLayerModel",
      "state": {
       "_model_module_version": "^0.17",
       "_view_module_version": "^0.17",
       "attribution": "Geoportail France",
       "max_zoom": 16,
       "name": "GeoportailFrance.Landcover_Cha12_fr",
       "options": [
        "attribution",
        "bounds",
        "detect_retina",
        "max_native_zoom",
        "max_zoom",
        "min_native_zoom",
        "min_zoom",
        "no_wrap",
        "tile_size",
        "tms",
        "zoom_offset"
       ],
       "url": "https://wxs.ign.fr/clc/geoportail/wmts?REQUEST=GetTile&SERVICE=WMTS&VERSION=1.0.0&STYLE=CORINE Land Cover - France métropolitaine&TILEMATRIXSET=PM&FORMAT=image/png&LAYER=LANDCOVER.CHA12_FR&TILEMATRIX={z}&TILEROW={y}&TILECOL={x}"
      }
     },
     "edbdfcaf37cc48e48f372dc4954b3f3c": {
      "model_module": "jupyter-leaflet",
      "model_module_version": "^0.17",
      "model_name": "LeafletTileLayerModel",
      "state": {
       "_model_module_version": "^0.17",
       "_view_module_version": "^0.17",
       "attribution": "Geoportail France",
       "name": "GeoportailFrance.Ocsge_Visu_2019",
       "options": [
        "attribution",
        "bounds",
        "detect_retina",
        "max_native_zoom",
        "max_zoom",
        "min_native_zoom",
        "min_zoom",
        "no_wrap",
        "tile_size",
        "tms",
        "zoom_offset"
       ],
       "url": "https://wxs.ign.fr/ocsge/geoportail/wmts?REQUEST=GetTile&SERVICE=WMTS&VERSION=1.0.0&STYLE=nolegend&TILEMATRIXSET=PM&FORMAT=image/png&LAYER=OCSGE.VISU.2019&TILEMATRIX={z}&TILEROW={y}&TILECOL={x}"
      }
     },
     "edcca4bcc29c4238bb5ff91a06094753": {
      "model_module": "jupyter-leaflet",
      "model_module_version": "^0.17",
      "model_name": "LeafletTileLayerModel",
      "state": {
       "_model_module_version": "^0.17",
       "_view_module_version": "^0.17",
       "attribution": "Geoportail France",
       "max_zoom": 16,
       "name": "GeoportailFrance.Bdcarto_etat_major_Niveau3",
       "options": [
        "attribution",
        "bounds",
        "detect_retina",
        "max_native_zoom",
        "max_zoom",
        "min_native_zoom",
        "min_zoom",
        "no_wrap",
        "tile_size",
        "tms",
        "zoom_offset"
       ],
       "url": "https://wxs.ign.fr/sol/geoportail/wmts?REQUEST=GetTile&SERVICE=WMTS&VERSION=1.0.0&STYLE=normal&TILEMATRIXSET=PM&FORMAT=image/png&LAYER=BDCARTO_ETAT-MAJOR.NIVEAU3&TILEMATRIX={z}&TILEROW={y}&TILECOL={x}"
      }
     },
     "ee06903ab4e44a9684a5ece799a8b49b": {
      "model_module": "@jupyter-widgets/controls",
      "model_module_version": "1.5.0",
      "model_name": "GridBoxModel",
      "state": {
       "children": [
        "IPY_MODEL_3bae014e134841009e42a4a42a296b65",
        "IPY_MODEL_cc6fb266b1cb40c79f1f04c4f12e796b",
        "IPY_MODEL_cfdc19804c2046a28961a00700b5a7c7",
        "IPY_MODEL_570eef1e54d7417c8135b5052c680ffb",
        "IPY_MODEL_00e0a6e7ddff4be296f286fcea09f522",
        "IPY_MODEL_9c9e9b5b883e420ca50505dcd1e41644",
        "IPY_MODEL_870ff4b1e9064959b54057148ce60776",
        "IPY_MODEL_746f9827cff64501ac70f76a11e71ded",
        "IPY_MODEL_93ce0d80af474d378a1ef1cf0bca9413",
        "IPY_MODEL_f8ae2ee214ef412d80b1f28cf007ad49",
        "IPY_MODEL_4d7c44c06bd74e88a34cc8bed0e2d2a9",
        "IPY_MODEL_b7d7018d5c8b4604868eea4d30763e12",
        "IPY_MODEL_9d31c68c74814203a1edb78533e5cd2b",
        "IPY_MODEL_4ccc4c0cdbc249cda8202862cda10683",
        "IPY_MODEL_01bcdb63a9db4061b240e70eb341aea4",
        "IPY_MODEL_2b63fb9c6c144a2b8708c8ba1b7051b3",
        "IPY_MODEL_a94dcb7f2c734d1897d988cd08eb2cee",
        "IPY_MODEL_62c783501168412a9514446870c51ae0"
       ],
       "layout": "IPY_MODEL_eadef395b25844cca379930ce3aafcb8"
      }
     },
     "eeecb1be4f284fff882e4ed0f7d7bb08": {
      "model_module": "jupyter-leaflet",
      "model_module_version": "^0.17",
      "model_name": "LeafletTileLayerModel",
      "state": {
       "_model_module_version": "^0.17",
       "_view_module_version": "^0.17",
       "attribution": "Datenquelle: basemap.at",
       "max_zoom": 19,
       "name": "BasemapAT.surface",
       "options": [
        "attribution",
        "bounds",
        "detect_retina",
        "max_native_zoom",
        "max_zoom",
        "min_native_zoom",
        "min_zoom",
        "no_wrap",
        "tile_size",
        "tms",
        "zoom_offset"
       ],
       "url": "https://maps.wien.gv.at/basemap/bmapoberflaeche/grau/google3857/{z}/{y}/{x}.jpeg"
      }
     },
     "ef004589770b49ea8bd3d0a480b155b0": {
      "model_module": "jupyter-leaflet",
      "model_module_version": "^0.17",
      "model_name": "LeafletMapModel",
      "state": {
       "_model_module_version": "^0.17",
       "_view_module_version": "^0.17",
       "bottom": 98606.00002207486,
       "center": [
        40.97782451030264,
        -124.06107426296919
       ],
       "controls": [
        "IPY_MODEL_0d9bce34b4b94f0a93084b640aa55ab4",
        "IPY_MODEL_9acc49ddb0164b37aae791e5dc41f5aa",
        "IPY_MODEL_5127031f65634d31a447d47164287b77",
        "IPY_MODEL_9083f8cb861a4b8d8232bba14e5d3524",
        "IPY_MODEL_6889bdb809cb4fa995d3b6452d800441",
        "IPY_MODEL_af6a394b266a44e382a2e7a49b3e54da",
        "IPY_MODEL_1565504df5874eb7ab55740668188349",
        "IPY_MODEL_70ef3e105b9d4c7685c659b301236443",
        "IPY_MODEL_d69d9fc02e0742b097282acb42569a05",
        "IPY_MODEL_e7288e30dac54b20960b071b8282e168"
       ],
       "default_style": "IPY_MODEL_6abb5ab796fc4876810a02072ca4a3b9",
       "dragging_style": "IPY_MODEL_24454242d1be4688aa32f254b1d1c729",
       "east": -123.5618829787895,
       "fullscreen": false,
       "interpolation": "bilinear",
       "layers": [
        "IPY_MODEL_83f490fd8074498797a79fde300dabf7",
        "IPY_MODEL_c5ca49bd0a534295833200111490e508",
        "IPY_MODEL_bd0ec643b4d24503b086a03dd3e7fb0d"
       ],
       "layout": "IPY_MODEL_6726b79d475b4a73979e4602afd57bf6",
       "left": 40369.98263446725,
       "max_zoom": 24,
       "modisdate": "2023-01-09",
       "north": 41.288126181552826,
       "options": [
        "bounce_at_zoom_limits",
        "box_zoom",
        "center",
        "close_popup_on_click",
        "double_click_zoom",
        "dragging",
        "fullscreen",
        "inertia",
        "inertia_deceleration",
        "inertia_max_speed",
        "interpolation",
        "keyboard",
        "keyboard_pan_offset",
        "keyboard_zoom_offset",
        "max_zoom",
        "min_zoom",
        "prefer_canvas",
        "scroll_wheel_zoom",
        "tap",
        "tap_tolerance",
        "touch_zoom",
        "world_copy_jump",
        "zoom",
        "zoom_animation_threshold",
        "zoom_delta",
        "zoom_snap"
       ],
       "prefer_canvas": false,
       "right": 41096.98263446725,
       "scroll_wheel_zoom": true,
       "south": 40.66605622477867,
       "style": "IPY_MODEL_6abb5ab796fc4876810a02072ca4a3b9",
       "top": 98006.00002207486,
       "west": -124.56026554714887,
       "window_url": "http://localhost:8888/lab/workspaces/auto-q/tree/app.ipynb",
       "zoom": 10
      }
     },
     "ef24f8e6aeaa44deaabcc053a912a4a8": {
      "model_module": "@jupyter-widgets/base",
      "model_module_version": "1.2.0",
      "model_name": "LayoutModel",
      "state": {
       "height": "auto",
       "padding": "0px 0px 0px 4px",
       "width": "auto"
      }
     },
     "f012f21761474f39851903e5b077aec6": {
      "model_module": "jupyter-leaflet",
      "model_module_version": "^0.17",
      "model_name": "LeafletTileLayerModel",
      "state": {
       "_model_module_version": "^0.17",
       "_view_module_version": "^0.17",
       "attribution": "(C) Stadia Maps, (C) OpenMapTiles (C) OpenStreetMap contributors",
       "max_zoom": 20,
       "name": "Stadia.OSMBright",
       "options": [
        "attribution",
        "bounds",
        "detect_retina",
        "max_native_zoom",
        "max_zoom",
        "min_native_zoom",
        "min_zoom",
        "no_wrap",
        "tile_size",
        "tms",
        "zoom_offset"
       ],
       "url": "https://tiles.stadiamaps.com/tiles/osm_bright/{z}/{x}/{y}.png"
      }
     },
     "f098161dbb4f482888a6c566162f27b9": {
      "model_module": "jupyter-leaflet",
      "model_module_version": "^0.17",
      "model_name": "LeafletTileLayerModel",
      "state": {
       "_model_module_version": "^0.17",
       "_view_module_version": "^0.17",
       "attribution": "Geoportail France",
       "max_zoom": 16,
       "name": "GeoportailFrance.Landcover_Cha18",
       "options": [
        "attribution",
        "bounds",
        "detect_retina",
        "max_native_zoom",
        "max_zoom",
        "min_native_zoom",
        "min_zoom",
        "no_wrap",
        "tile_size",
        "tms",
        "zoom_offset"
       ],
       "url": "https://wxs.ign.fr/clc/geoportail/wmts?REQUEST=GetTile&SERVICE=WMTS&VERSION=1.0.0&STYLE=CORINE Land Cover&TILEMATRIXSET=PM&FORMAT=image/png&LAYER=LANDCOVER.CHA18&TILEMATRIX={z}&TILEROW={y}&TILECOL={x}"
      }
     },
     "f11767dd1d3741fe86deda8ddc7533dd": {
      "model_module": "jupyter-leaflet",
      "model_module_version": "^0.17",
      "model_name": "LeafletTileLayerModel",
      "state": {
       "_model_module_version": "^0.17",
       "_view_module_version": "^0.17",
       "attribution": "Map data: (C) OpenSeaMap contributors",
       "max_zoom": 22,
       "name": "OpenSeaMap",
       "options": [
        "attribution",
        "bounds",
        "detect_retina",
        "max_native_zoom",
        "max_zoom",
        "min_native_zoom",
        "min_zoom",
        "no_wrap",
        "tile_size",
        "tms",
        "zoom_offset"
       ],
       "url": "https://tiles.openseamap.org/seamark/{z}/{x}/{y}.png"
      }
     },
     "f17faba534f148288798d081532851af": {
      "model_module": "jupyter-leaflet",
      "model_module_version": "^0.17",
      "model_name": "LeafletTileLayerModel",
      "state": {
       "_model_module_version": "^0.17",
       "_view_module_version": "^0.17",
       "attribution": "Geoportail France",
       "max_zoom": 16,
       "name": "GeoportailFrance.Limites_administratives_express_Latest",
       "options": [
        "attribution",
        "bounds",
        "detect_retina",
        "max_native_zoom",
        "max_zoom",
        "min_native_zoom",
        "min_zoom",
        "no_wrap",
        "tile_size",
        "tms",
        "zoom_offset"
       ],
       "url": "https://wxs.ign.fr/administratif/geoportail/wmts?REQUEST=GetTile&SERVICE=WMTS&VERSION=1.0.0&STYLE=normal&TILEMATRIXSET=PM&FORMAT=image/png&LAYER=LIMITES_ADMINISTRATIVES_EXPRESS.LATEST&TILEMATRIX={z}&TILEROW={y}&TILECOL={x}"
      }
     },
     "f188b80b140a42bf9b54febe4e50a08b": {
      "model_module": "jupyter-leaflet",
      "model_module_version": "^0.17",
      "model_name": "LeafletTileLayerModel",
      "state": {
       "_model_module_version": "^0.17",
       "_view_module_version": "^0.17",
       "attribution": "Geoportail France",
       "max_zoom": 16,
       "name": "GeoportailFrance.Ocsge_Constructions",
       "options": [
        "attribution",
        "bounds",
        "detect_retina",
        "max_native_zoom",
        "max_zoom",
        "min_native_zoom",
        "min_zoom",
        "no_wrap",
        "tile_size",
        "tms",
        "zoom_offset"
       ],
       "url": "https://wxs.ign.fr/ocsge/geoportail/wmts?REQUEST=GetTile&SERVICE=WMTS&VERSION=1.0.0&STYLE=normal&TILEMATRIXSET=PM&FORMAT=image/png&LAYER=OCSGE.CONSTRUCTIONS&TILEMATRIX={z}&TILEROW={y}&TILECOL={x}"
      }
     },
     "f19d5bb5f3fe466a8267a8a29d2633d4": {
      "model_module": "@jupyter-widgets/controls",
      "model_module_version": "1.5.0",
      "model_name": "ButtonModel",
      "state": {
       "description": "Save ROI to file",
       "layout": "IPY_MODEL_5c5271aab294410ba7862a803eac2dec",
       "style": "IPY_MODEL_c52eb63c6b6f430d86e630372433aead"
      }
     },
     "f338d611fd724af79b963800dfaa1bcf": {
      "model_module": "jupyter-leaflet",
      "model_module_version": "^0.17",
      "model_name": "LeafletTileLayerModel",
      "state": {
       "_model_module_version": "^0.17",
       "_view_module_version": "^0.17",
       "attribution": "Map tiles by Stamen Design, CC BY 3.0 -- Map data (C) OpenStreetMap contributors",
       "max_zoom": 20,
       "name": "Stamen.TonerLite",
       "options": [
        "attribution",
        "bounds",
        "detect_retina",
        "max_native_zoom",
        "max_zoom",
        "min_native_zoom",
        "min_zoom",
        "no_wrap",
        "tile_size",
        "tms",
        "zoom_offset"
       ],
       "url": "https://stamen-tiles-a.a.ssl.fastly.net/toner-lite/{z}/{x}/{y}.png"
      }
     },
     "f359c9dcad77415c888d50dbe757848b": {
      "model_module": "@jupyter-widgets/controls",
      "model_module_version": "1.5.0",
      "model_name": "VBoxModel",
      "state": {
       "children": [
        "IPY_MODEL_84e97eb88ab94a28a98d65305e8249f5",
        "IPY_MODEL_ca0357f47ff74cfda304744445ca3cb9"
       ],
       "layout": "IPY_MODEL_c0d8626818ad484aa72ee7ef99ba953f"
      }
     },
     "f36171f2709f4d32a2ab27a879d28b44": {
      "model_module": "jupyter-leaflet",
      "model_module_version": "^0.17",
      "model_name": "LeafletTileLayerModel",
      "state": {
       "_model_module_version": "^0.17",
       "_view_module_version": "^0.17",
       "attribution": "Geoportail France",
       "max_zoom": 19,
       "name": "GeoportailFrance.Orthoimagery_Orthophotos_Irc_express_2018",
       "options": [
        "attribution",
        "bounds",
        "detect_retina",
        "max_native_zoom",
        "max_zoom",
        "min_native_zoom",
        "min_zoom",
        "no_wrap",
        "tile_size",
        "tms",
        "zoom_offset"
       ],
       "url": "https://wxs.ign.fr/orthohisto/geoportail/wmts?REQUEST=GetTile&SERVICE=WMTS&VERSION=1.0.0&STYLE=normal&TILEMATRIXSET=PM&FORMAT=image/png&LAYER=ORTHOIMAGERY.ORTHOPHOTOS.IRC-EXPRESS.2018&TILEMATRIX={z}&TILEROW={y}&TILECOL={x}"
      }
     },
     "f380b80025b743fcab3f83d7da6a5757": {
      "model_module": "jupyter-leaflet",
      "model_module_version": "^0.17",
      "model_name": "LeafletGeoJSONModel",
      "state": {
       "_model_module_version": "^0.17",
       "_view_module_version": "^0.17",
       "data": {
        "features": [
         {
          "geometry": {
           "coordinates": [
            [
             [
              -124.158794,
              40.91514
             ],
             [
              -124.158794,
              40.942117
             ],
             [
              -124.114854,
              40.942117
             ],
             [
              -124.114854,
              40.91514
             ],
             [
              -124.158794,
              40.91514
             ]
            ]
           ],
           "type": "Polygon"
          },
          "id": "2",
          "properties": {
           "id": "3",
           "style": {
            "color": "blue",
            "fillColor": "blue",
            "fillOpacity": 0.1,
            "weight": 2
           }
          },
          "type": "Feature"
         }
        ],
        "type": "FeatureCollection"
       },
       "hover_style": {
        "color": "aqua",
        "fillColor": "blue",
        "fillOpacity": 0.1
       },
       "name": "selected ROIs"
      }
     },
     "f53843cc7ad9469ea5b108b9158b9d10": {
      "model_module": "@jupyter-widgets/base",
      "model_module_version": "1.2.0",
      "model_name": "LayoutModel",
      "state": {}
     },
     "f5958f0c59464aefa4ff0220cf97b3ab": {
      "model_module": "jupyter-leaflet",
      "model_module_version": "^0.17",
      "model_name": "LeafletTileLayerModel",
      "state": {
       "_model_module_version": "^0.17",
       "_view_module_version": "^0.17",
       "attribution": "Geoportail France",
       "name": "GeoportailFrance.Orthoimagery_Orthophotos_Coast2000",
       "options": [
        "attribution",
        "bounds",
        "detect_retina",
        "max_native_zoom",
        "max_zoom",
        "min_native_zoom",
        "min_zoom",
        "no_wrap",
        "tile_size",
        "tms",
        "zoom_offset"
       ],
       "url": "https://wxs.ign.fr/ortho/geoportail/wmts?REQUEST=GetTile&SERVICE=WMTS&VERSION=1.0.0&STYLE=normal&TILEMATRIXSET=PM&FORMAT=image/png&LAYER=ORTHOIMAGERY.ORTHOPHOTOS.COAST2000&TILEMATRIX={z}&TILEROW={y}&TILECOL={x}"
      }
     },
     "f597159ca5f649eda9778177d1b9ce28": {
      "model_module": "jupyter-leaflet",
      "model_module_version": "^0.17",
      "model_name": "LeafletWMSLayerModel",
      "state": {
       "_model_module_version": "^0.17",
       "_view_module_version": "^0.17",
       "attribution": "ESA",
       "crs": {
        "custom": false,
        "name": "EPSG3857"
       },
       "format": "image/png",
       "layers": "WORLDCOVER_2021_S2_FCC",
       "name": "ESA Worldcover 2021 S2 FCC",
       "options": [
        "attribution",
        "bounds",
        "detect_retina",
        "format",
        "layers",
        "max_native_zoom",
        "max_zoom",
        "min_native_zoom",
        "min_zoom",
        "no_wrap",
        "styles",
        "tile_size",
        "tms",
        "transparent",
        "uppercase",
        "zoom_offset"
       ],
       "transparent": true,
       "url": "https://services.terrascope.be/wms/v2"
      }
     },
     "f63085b72d114dcea3759085fc99b8e0": {
      "model_module": "jupyter-leaflet",
      "model_module_version": "^0.17",
      "model_name": "LeafletTileLayerModel",
      "state": {
       "_model_module_version": "^0.17",
       "_view_module_version": "^0.17",
       "attribution": "(C) OpenStreetMap contributors (C) CARTO",
       "max_zoom": 20,
       "name": "CartoDB.PositronNoLabels",
       "options": [
        "attribution",
        "bounds",
        "detect_retina",
        "max_native_zoom",
        "max_zoom",
        "min_native_zoom",
        "min_zoom",
        "no_wrap",
        "tile_size",
        "tms",
        "zoom_offset"
       ],
       "url": "https://a.basemaps.cartocdn.com/light_nolabels/{z}/{x}/{y}.png"
      }
     },
     "f63df099ae0a467b97a5caad8e3e32ca": {
      "model_module": "jupyter-leaflet",
      "model_module_version": "^0.17",
      "model_name": "LeafletTileLayerModel",
      "state": {
       "_model_module_version": "^0.17",
       "_view_module_version": "^0.17",
       "attribution": "Earthstar Geographics",
       "max_zoom": 24,
       "name": "Esri.ArcticImagery",
       "options": [
        "attribution",
        "bounds",
        "detect_retina",
        "max_native_zoom",
        "max_zoom",
        "min_native_zoom",
        "min_zoom",
        "no_wrap",
        "tile_size",
        "tms",
        "zoom_offset"
       ],
       "url": "http://server.arcgisonline.com/ArcGIS/rest/services/Polar/Arctic_Imagery/MapServer/tile/{z}/{y}/{x}"
      }
     },
     "f66eea5ef59b4d7c898c23edbcbc8557": {
      "model_module": "@jupyter-widgets/controls",
      "model_module_version": "1.5.0",
      "model_name": "AccordionModel",
      "state": {
       "_titles": {
        "0": "Settings"
       },
       "children": [
        "IPY_MODEL_64f28d4ad975434ea1e4b0f9b35b0054"
       ],
       "layout": "IPY_MODEL_befc5557653347909d882992ca16a2ac"
      }
     },
     "f6982e55438e4b56b3215c06c7eaac78": {
      "model_module": "@jupyter-widgets/controls",
      "model_module_version": "1.5.0",
      "model_name": "DescriptionStyleModel",
      "state": {
       "description_width": ""
      }
     },
     "f6bfa38313fb4597a06baf1adc3ccd27": {
      "model_module": "jupyter-leaflet",
      "model_module_version": "^0.17",
      "model_name": "LeafletTileLayerModel",
      "state": {
       "_model_module_version": "^0.17",
       "_view_module_version": "^0.17",
       "attribution": "Geoportail France",
       "name": "GeoportailFrance.Dreal_Zonage_pinel",
       "options": [
        "attribution",
        "bounds",
        "detect_retina",
        "max_native_zoom",
        "max_zoom",
        "min_native_zoom",
        "min_zoom",
        "no_wrap",
        "tile_size",
        "tms",
        "zoom_offset"
       ],
       "url": "https://wxs.ign.fr/economie/geoportail/wmts?REQUEST=GetTile&SERVICE=WMTS&VERSION=1.0.0&STYLE=normal&TILEMATRIXSET=PM&FORMAT=image/png&LAYER=DREAL.ZONAGE_PINEL&TILEMATRIX={z}&TILEROW={y}&TILECOL={x}"
      }
     },
     "f7ba11c5d82e4de6901722dc2ef828c6": {
      "model_module": "@jupyter-widgets/base",
      "model_module_version": "1.2.0",
      "model_name": "LayoutModel",
      "state": {}
     },
     "f8a27f127a534330b5b9b1697f7518ea": {
      "model_module": "jupyter-leaflet",
      "model_module_version": "^0.17",
      "model_name": "LeafletTileLayerModel",
      "state": {
       "_model_module_version": "^0.17",
       "_view_module_version": "^0.17",
       "attribution": "Geoportail France",
       "max_zoom": 17,
       "name": "GeoportailFrance.Orthoimagery_Ortho_sat_Spot_2019",
       "options": [
        "attribution",
        "bounds",
        "detect_retina",
        "max_native_zoom",
        "max_zoom",
        "min_native_zoom",
        "min_zoom",
        "no_wrap",
        "tile_size",
        "tms",
        "zoom_offset"
       ],
       "url": "https://wxs.ign.fr/satellite/geoportail/wmts?REQUEST=GetTile&SERVICE=WMTS&VERSION=1.0.0&STYLE=normal&TILEMATRIXSET=PM&FORMAT=image/jpeg&LAYER=ORTHOIMAGERY.ORTHO-SAT.SPOT.2019&TILEMATRIX={z}&TILEROW={y}&TILECOL={x}"
      }
     },
     "f8ae2ee214ef412d80b1f28cf007ad49": {
      "model_module": "@jupyter-widgets/controls",
      "model_module_version": "1.5.0",
      "model_name": "ToggleButtonModel",
      "state": {
       "button_style": "primary",
       "icon": "info",
       "layout": "IPY_MODEL_0d1921b33904452f9b4a9a826a14232e",
       "style": "IPY_MODEL_474c30bb2b3740fca0e8600d63fd11b7",
       "tooltip": "Get COG/STAC pixel value"
      }
     },
     "f923d192bf6b495c952b3e6a970331eb": {
      "model_module": "jupyter-leaflet",
      "model_module_version": "^0.17",
      "model_name": "LeafletTileLayerModel",
      "state": {
       "_model_module_version": "^0.17",
       "_view_module_version": "^0.17",
       "attribution": "Geoportail France",
       "max_zoom": 15,
       "name": "GeoportailFrance.Orthoimagery_Ortho_sat_Rapideye_2011",
       "options": [
        "attribution",
        "bounds",
        "detect_retina",
        "max_native_zoom",
        "max_zoom",
        "min_native_zoom",
        "min_zoom",
        "no_wrap",
        "tile_size",
        "tms",
        "zoom_offset"
       ],
       "url": "https://wxs.ign.fr/satellite/geoportail/wmts?REQUEST=GetTile&SERVICE=WMTS&VERSION=1.0.0&STYLE=normal&TILEMATRIXSET=PM&FORMAT=image/jpeg&LAYER=ORTHOIMAGERY.ORTHO-SAT.RAPIDEYE.2011&TILEMATRIX={z}&TILEROW={y}&TILECOL={x}"
      }
     },
     "f9f8e8b2613943bbae5f0321d1dab351": {
      "model_module": "@jupyter-widgets/controls",
      "model_module_version": "1.5.0",
      "model_name": "DescriptionStyleModel",
      "state": {
       "description_width": ""
      }
     },
     "fad4260520ce46f98c321b8e103e9ac2": {
      "model_module": "jupyter-leaflet",
      "model_module_version": "^0.17",
      "model_name": "LeafletTileLayerModel",
      "state": {
       "_model_module_version": "^0.17",
       "_view_module_version": "^0.17",
       "attribution": "(C) OpenStreetMap contributors",
       "name": "OpenStreetMap.BlackAndWhite",
       "options": [
        "attribution",
        "bounds",
        "detect_retina",
        "max_native_zoom",
        "max_zoom",
        "min_native_zoom",
        "min_zoom",
        "no_wrap",
        "tile_size",
        "tms",
        "zoom_offset"
       ],
       "url": "http://a.tiles.wmflabs.org/bw-mapnik/{z}/{x}/{y}.png"
      }
     },
     "fb5aa9de30574c539985101a8cd3633c": {
      "model_module": "jupyter-leaflet",
      "model_module_version": "^0.17",
      "model_name": "LeafletTileLayerModel",
      "state": {
       "_model_module_version": "^0.17",
       "_view_module_version": "^0.17",
       "attribution": "Geoportail France",
       "max_zoom": 16,
       "name": "GeoportailFrance.Landcover_Clc06_dom",
       "options": [
        "attribution",
        "bounds",
        "detect_retina",
        "max_native_zoom",
        "max_zoom",
        "min_native_zoom",
        "min_zoom",
        "no_wrap",
        "tile_size",
        "tms",
        "zoom_offset"
       ],
       "url": "https://wxs.ign.fr/clc/geoportail/wmts?REQUEST=GetTile&SERVICE=WMTS&VERSION=1.0.0&STYLE=CORINE Land Cover - DOM&TILEMATRIXSET=PM&FORMAT=image/png&LAYER=LANDCOVER.CLC06_DOM&TILEMATRIX={z}&TILEROW={y}&TILECOL={x}"
      }
     },
     "fc5a6b3b8ad44689aa5b21be998b2623": {
      "model_module": "@jupyter-widgets/controls",
      "model_module_version": "1.5.0",
      "model_name": "HTMLModel",
      "state": {
       "layout": "IPY_MODEL_bf04b90821854bba9c3a500a0946bcb3",
       "style": "IPY_MODEL_e3c9e6675b7f4574b96dc3f466c18624",
       "value": " \n        <h2>ROI</h2>\n        <p>Id: 3</p>\n        <p>Area(km²): 11.098024186</p>\n        "
      }
     },
     "fc8621a62ed04e3eb420cb2c5343fc25": {
      "model_module": "jupyter-leaflet",
      "model_module_version": "^0.17",
      "model_name": "LeafletTileLayerModel",
      "state": {
       "_model_module_version": "^0.17",
       "_view_module_version": "^0.17",
       "attribution": "Geoportail France",
       "max_zoom": 12,
       "name": "GeoportailFrance.Landcover_Grid_Clc06_fr",
       "options": [
        "attribution",
        "bounds",
        "detect_retina",
        "max_native_zoom",
        "max_zoom",
        "min_native_zoom",
        "min_zoom",
        "no_wrap",
        "tile_size",
        "tms",
        "zoom_offset"
       ],
       "url": "https://wxs.ign.fr/clc/geoportail/wmts?REQUEST=GetTile&SERVICE=WMTS&VERSION=1.0.0&STYLE=CORINE Land Cover - France métropolitaine&TILEMATRIXSET=PM&FORMAT=image/png&LAYER=LANDCOVER.GRID.CLC06_FR&TILEMATRIX={z}&TILEROW={y}&TILECOL={x}"
      }
     },
     "fd7c10a78e1b420491ab0e40367e69c8": {
      "model_module": "jupyter-leaflet",
      "model_module_version": "^0.17",
      "model_name": "LeafletTileLayerModel",
      "state": {
       "_model_module_version": "^0.17",
       "_view_module_version": "^0.17",
       "attribution": "Geoportail France",
       "max_zoom": 12,
       "name": "GeoportailFrance.Landcover_Grid_Clc00_fr",
       "options": [
        "attribution",
        "bounds",
        "detect_retina",
        "max_native_zoom",
        "max_zoom",
        "min_native_zoom",
        "min_zoom",
        "no_wrap",
        "tile_size",
        "tms",
        "zoom_offset"
       ],
       "url": "https://wxs.ign.fr/clc/geoportail/wmts?REQUEST=GetTile&SERVICE=WMTS&VERSION=1.0.0&STYLE=CORINE Land Cover - France métropolitaine&TILEMATRIXSET=PM&FORMAT=image/png&LAYER=LANDCOVER.GRID.CLC00_FR&TILEMATRIX={z}&TILEROW={y}&TILECOL={x}"
      }
     },
     "fd928e8abb53430098f956fb80af5200": {
      "model_module": "jupyter-leaflet",
      "model_module_version": "^0.17",
      "model_name": "LeafletTileLayerModel",
      "state": {
       "_model_module_version": "^0.17",
       "_view_module_version": "^0.17",
       "attribution": "Imagery provided by services from the Global Imagery Browse Services (GIBS), operated by the NASA/GSFC/Earth Science Data and Information System (ESDIS) with funding provided by NASA/HQ.",
       "max_zoom": 8,
       "name": "NASAGIBS.BlueMarble",
       "options": [
        "attribution",
        "bounds",
        "detect_retina",
        "max_native_zoom",
        "max_zoom",
        "min_native_zoom",
        "min_zoom",
        "no_wrap",
        "tile_size",
        "tms",
        "zoom_offset"
       ],
       "url": "https://gibs.earthdata.nasa.gov/wmts/epsg3857/best/BlueMarble_NextGeneration/default/EPSG3857_500m/{z}/{y}/{x}.jpeg"
      }
     },
     "fe0e796c84f5400fb09418db304817cc": {
      "model_module": "jupyter-leaflet",
      "model_module_version": "^0.17",
      "model_name": "LeafletTileLayerModel",
      "state": {
       "_model_module_version": "^0.17",
       "_view_module_version": "^0.17",
       "attribution": "Geoportail France",
       "name": "GeoportailFrance.Orthoimagery_Orthophotos2013",
       "options": [
        "attribution",
        "bounds",
        "detect_retina",
        "max_native_zoom",
        "max_zoom",
        "min_native_zoom",
        "min_zoom",
        "no_wrap",
        "tile_size",
        "tms",
        "zoom_offset"
       ],
       "url": "https://wxs.ign.fr/orthohisto/geoportail/wmts?REQUEST=GetTile&SERVICE=WMTS&VERSION=1.0.0&STYLE=normal&TILEMATRIXSET=PM&FORMAT=image/jpeg&LAYER=ORTHOIMAGERY.ORTHOPHOTOS2013&TILEMATRIX={z}&TILEROW={y}&TILECOL={x}"
      }
     },
     "fe6aca37b4e147e1b2bc36462ec3213a": {
      "model_module": "@jupyter-widgets/controls",
      "model_module_version": "1.5.0",
      "model_name": "HTMLModel",
      "state": {
       "layout": "IPY_MODEL_57352a02c60a4b91ab9ce8d687c2a916",
       "style": "IPY_MODEL_2b708abc029340ee9fa40d2ddd0cb148",
       "value": "<b>Pick a date:</b>"
      }
     },
     "fe9ac82b63874a7aa4f7c42769234b67": {
      "model_module": "@jupyter-widgets/controls",
      "model_module_version": "1.5.0",
      "model_name": "DescriptionStyleModel",
      "state": {
       "description_width": ""
      }
     },
     "fed80a0f8cd1463f92286c9e3714ccbc": {
      "model_module": "jupyter-leaflet",
      "model_module_version": "^0.17",
      "model_name": "LeafletTileLayerModel",
      "state": {
       "_model_module_version": "^0.17",
       "_view_module_version": "^0.17",
       "attribution": "Imagery provided by services from the Global Imagery Browse Services (GIBS), operated by the NASA/GSFC/Earth Science Data and Information System (ESDIS) with funding provided by NASA/HQ.",
       "max_zoom": 9,
       "name": "NASAGIBS.ModisTerraTrueColorCR",
       "options": [
        "attribution",
        "bounds",
        "detect_retina",
        "max_native_zoom",
        "max_zoom",
        "min_native_zoom",
        "min_zoom",
        "no_wrap",
        "tile_size",
        "tms",
        "zoom_offset"
       ],
       "url": "https://map1.vis.earthdata.nasa.gov/wmts-webmerc/MODIS_Terra_CorrectedReflectance_TrueColor/default//GoogleMapsCompatible_Level9/{z}/{y}/{x}.jpg"
      }
     },
     "ff19c58c81b94c5ba3369c7815fec945": {
      "model_module": "@jupyter-widgets/controls",
      "model_module_version": "1.5.0",
      "model_name": "ButtonStyleModel",
      "state": {
       "button_color": "#50bf8f"
      }
     },
     "ff1a887d7d814515a66b8142f35077a5": {
      "model_module": "@jupyter-widgets/base",
      "model_module_version": "1.2.0",
      "model_name": "LayoutModel",
      "state": {}
     },
     "ff344124c9f948a08f8131d610b65ad0": {
      "model_module": "jupyter-leaflet",
      "model_module_version": "^0.17",
      "model_name": "LeafletTileLayerModel",
      "state": {
       "_model_module_version": "^0.17",
       "_view_module_version": "^0.17",
       "attribution": "Geoportail France",
       "name": "GeoportailFrance.Orthoimagery_Orthophotos2003",
       "options": [
        "attribution",
        "bounds",
        "detect_retina",
        "max_native_zoom",
        "max_zoom",
        "min_native_zoom",
        "min_zoom",
        "no_wrap",
        "tile_size",
        "tms",
        "zoom_offset"
       ],
       "url": "https://wxs.ign.fr/orthohisto/geoportail/wmts?REQUEST=GetTile&SERVICE=WMTS&VERSION=1.0.0&STYLE=normal&TILEMATRIXSET=PM&FORMAT=image/jpeg&LAYER=ORTHOIMAGERY.ORTHOPHOTOS2003&TILEMATRIX={z}&TILEROW={y}&TILECOL={x}"
      }
     },
     "ff63caf0a7c644f797fc00424697d0fc": {
      "model_module": "jupyter-leaflet",
      "model_module_version": "^0.17",
      "model_name": "LeafletTileLayerModel",
      "state": {
       "_model_module_version": "^0.17",
       "_view_module_version": "^0.17",
       "attribution": "(C) OpenStreetMap contributors (C) CARTO",
       "max_zoom": 20,
       "name": "CartoDB.VoyagerLabelsUnder",
       "options": [
        "attribution",
        "bounds",
        "detect_retina",
        "max_native_zoom",
        "max_zoom",
        "min_native_zoom",
        "min_zoom",
        "no_wrap",
        "tile_size",
        "tms",
        "zoom_offset"
       ],
       "url": "https://a.basemaps.cartocdn.com/rastertiles/voyager_labels_under/{z}/{x}/{y}.png"
      }
     },
     "ffe212c95cd54f01b2d93c1bc52604df": {
      "model_module": "jupyter-leaflet",
      "model_module_version": "^0.17",
      "model_name": "LeafletTileLayerModel",
      "state": {
       "_model_module_version": "^0.17",
       "_view_module_version": "^0.17",
       "attribution": "Justice Map",
       "max_zoom": 22,
       "name": "JusticeMap.americanIndian",
       "options": [
        "attribution",
        "bounds",
        "detect_retina",
        "max_native_zoom",
        "max_zoom",
        "min_native_zoom",
        "min_zoom",
        "no_wrap",
        "tile_size",
        "tms",
        "zoom_offset"
       ],
       "url": "https://www.justicemap.org/tile/county/indian/{z}/{x}/{y}.png"
      }
     }
    },
    "version_major": 2,
    "version_minor": 0
   }
  }
 },
 "nbformat": 4,
 "nbformat_minor": 4
}
