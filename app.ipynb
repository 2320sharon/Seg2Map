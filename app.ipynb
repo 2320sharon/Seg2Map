{
 "cells": [
  {
   "cell_type": "code",
   "execution_count": 3,
   "id": "7f327b92-3814-44ff-92b6-bd8488e6528f",
   "metadata": {},
   "outputs": [],
   "source": [
    "import os\n",
    "# Local Imports\n",
    "from src.seg2map import map_interface\n",
    "from src.seg2map import log_maker #must be the first module loaded to create logs folder\n",
    "\n",
    "# External Imports\n",
    "import ee\n",
    "from google.auth import exceptions as google_auth_exceptions\n",
    "\n",
    "# suppress tensorflow warnings\n",
    "os.environ['TF_CPP_MIN_LOG_LEVEL'] = '3'"
   ]
  },
  {
   "cell_type": "markdown",
   "id": "00a32ffb-a5ac-46c6-b728-4aa6fce87acf",
   "metadata": {},
   "source": [
    "## Authenticate and Initialize with Google Earth Engine (GEE)\n",
    "\n",
    "- Run this cell to initialize with GEE which will allow you to download remote sensing data from GEE.\n",
    "\n",
    "### First Time Users\n",
    "\n",
    "- In order to use Google Earth Engine (GEE) you will need to sign up to request access to use Google Earth Engine.https://signup.earthengine.google.com. You will only need to do this once and it takes only a day to get your account verified.\n",
    "\n",
    "### How `ee.Authenticate()` works\n",
    "\n",
    "- In order to initialize with GEE you will need an authorization token with is obtained by running `ee.Authenticate()`.This token lasts 7 days and during those 7 days you will not need to authenticate with google earth engine with an access code. Once the 7 days are up you will need to reauthenticate to use GEE again.\n"
   ]
  },
  {
   "cell_type": "code",
   "execution_count": 4,
   "id": "eefa9963-0fc1-43f2-bbfa-3b8665481712",
   "metadata": {},
   "outputs": [],
   "source": [
    "try:\n",
    "    ee.Initialize()\n",
    "except google_auth_exceptions.RefreshError as exception:\n",
    "    print(\"Please authenticate with Google:\\n\")\n",
    "    ee.Authenticate()\n",
    "    ee.Initialize()"
   ]
  },
  {
   "cell_type": "markdown",
   "id": "61da2172-9ac3-49ce-8d01-052f34ea711d",
   "metadata": {},
   "source": [
    "# How to Use The Map\n",
    "\n",
    "---\n",
    "1.  Click `Save Settings` Button\n",
    "2. Use the rectangle tool to draw a ROI along the coastline.\n",
    "3. Load transects into your bounding box with the `Load Transects` button. If any exist for the bounding box you selected they should appear.\n",
    "4. Click the ROIs you want to download.\n",
    "5. Once you've selected all the ROIs you want to download click `Downlod Imagery`\n",
    " - If any of the ROIs succesfully download they will have their own folder with all their data in the `data` directory in the `seg2map` directory"
   ]
  },
  {
   "cell_type": "code",
   "execution_count": 5,
   "id": "61c1cc88-c52a-4006-87dd-091774569cdb",
   "metadata": {},
   "outputs": [
    {
     "data": {
      "application/vnd.jupyter.widget-view+json": {
       "model_id": "166150e6afc2403c8d87cb0935ce4539",
       "version_major": 2,
       "version_minor": 0
      },
      "text/plain": [
       "HBox(children=(VBox(children=(VBox(children=(HTML(value='<b>Pick a date:</b>', layout=Layout(padding='10px')),…"
      ]
     },
     "metadata": {},
     "output_type": "display_data"
    },
    {
     "data": {
      "application/vnd.jupyter.widget-view+json": {
       "model_id": "b07f8e63e93149cb981df8de693dc359",
       "version_major": 2,
       "version_minor": 0
      },
      "text/plain": [
       "HBox(children=(VBox(children=(VBox(children=(HTML(value='<h2>Load & Save GeoJSON Files</h2>', layout=Layout(pa…"
      ]
     },
     "metadata": {},
     "output_type": "display_data"
    },
    {
     "data": {
      "application/vnd.jupyter.widget-view+json": {
       "model_id": "2da7c44ca9354525a10621b3769f3413",
       "version_major": 2,
       "version_minor": 0
      },
      "text/plain": [
       "HBox(children=(Button(description='Clear Messages', style=ButtonStyle(button_color='#a3adac')), Output(layout=…"
      ]
     },
     "metadata": {},
     "output_type": "display_data"
    },
    {
     "data": {
      "application/vnd.jupyter.widget-view+json": {
       "model_id": "f07817419c7b40dbb0f6f8e0ac94ed16",
       "version_major": 2,
       "version_minor": 0
      },
      "text/plain": [
       "HBox()"
      ]
     },
     "metadata": {},
     "output_type": "display_data"
    },
    {
     "data": {
      "application/vnd.jupyter.widget-view+json": {
       "model_id": "03bf66ddd93f483cbd200fe99fadf3a1",
       "version_major": 2,
       "version_minor": 0
      },
      "text/plain": [
       "HBox()"
      ]
     },
     "metadata": {},
     "output_type": "display_data"
    },
    {
     "data": {
      "application/vnd.jupyter.widget-view+json": {
       "model_id": "2db5ed0dd0c14c18b7f0eb96fb547c91",
       "version_major": 2,
       "version_minor": 0
      },
      "text/plain": [
       "HBox(children=(Map(center=[40.8630302395, -124.166267], controls=(AttributionControl(options=['position', 'pre…"
      ]
     },
     "metadata": {},
     "output_type": "display_data"
    },
    {
     "data": {
      "application/vnd.jupyter.widget-view+json": {
       "model_id": "04f80d675f434d74ab7ee2126226dabc",
       "version_major": 2,
       "version_minor": 0
      },
      "text/plain": [
       "HBox(children=(Button(description='Clear Downloads', style=ButtonStyle(button_color='#a3adac')), Output(layout…"
      ]
     },
     "metadata": {},
     "output_type": "display_data"
    }
   ],
   "source": [
    "# from coastseg.map_UI import UI\n",
    "from src.seg2map.map_UI import UI\n",
    "from src.seg2map.map_interface import Seg2Map\n",
    "\n",
    "seg2map=Seg2Map()\n",
    "seg2map_ui = UI(seg2map)\n",
    "seg2map_ui.create_dashboard()"
   ]
  },
  {
   "cell_type": "code",
   "execution_count": 1,
   "id": "eef6fb15-b65f-4e9b-815b-52af0dcd13d5",
   "metadata": {},
   "outputs": [
    {
     "name": "stdout",
     "output_type": "stream",
     "text": [
      "C:\\Users\\Sharon\\anaconda3\\envs\\seg2map\\python.exe\n"
     ]
    }
   ],
   "source": [
    "import sys\n",
    "print(sys.executable)"
   ]
  },
  {
   "cell_type": "code",
   "execution_count": 2,
   "id": "59abcf6c-a2a1-4b2e-9f99-6d32318c7c19",
   "metadata": {},
   "outputs": [
    {
     "name": "stdout",
     "output_type": "stream",
     "text": [
      "3.10.9 | packaged by conda-forge | (main, Jan 11 2023, 15:15:40) [MSC v.1916 64 bit (AMD64)]\n"
     ]
    }
   ],
   "source": [
    "import sys\n",
    "print(sys.version)"
   ]
  },
  {
   "cell_type": "code",
   "execution_count": 3,
   "id": "5b5db8a0-6f50-46aa-8c8c-cea240434296",
   "metadata": {},
   "outputs": [],
   "source": [
    "from osgeo import gdal"
   ]
  },
  {
   "cell_type": "code",
   "execution_count": null,
   "id": "8730cebd-9bac-4e11-b640-1b2f30aa7b31",
   "metadata": {},
   "outputs": [],
   "source": [
    "print(list(map(lambda x:x.name, seg2map.map.layers)))"
   ]
  },
  {
   "cell_type": "code",
   "execution_count": null,
   "id": "655b8ff2-c5c6-4b60-9063-bdbf5e98cbd7",
   "metadata": {},
   "outputs": [],
   "source": [
    "remove_layers = [layer for layer in seg2map.original_layers + seg2map.seg_layers if layer in seg2map.map.layers]\n",
    "print(list(map(lambda x:x.name,remove_layers)))"
   ]
  },
  {
   "cell_type": "code",
   "execution_count": null,
   "id": "f8040c64-867c-4a23-9e1b-d5cca6010057",
   "metadata": {},
   "outputs": [],
   "source": [
    "remove_layers = [layer for layer in seg2map.original_layers + seg2map.seg_layers if layer in seg2map.map.layers]\n",
    "print(list(map(lambda x:x.name,remove_layers)))"
   ]
  },
  {
   "cell_type": "code",
   "execution_count": null,
   "id": "fda45534-a112-4e72-a516-ad3538750dcd",
   "metadata": {},
   "outputs": [],
   "source": [
    "layers = [layer for layer in seg2map.original_layers + seg2map.seg_layers]\n",
    "print(list(map(lambda x:x.name,layers)))"
   ]
  },
  {
   "cell_type": "code",
   "execution_count": null,
   "id": "6b3ea1b4-081c-41c7-8f2b-fab74c24be33",
   "metadata": {},
   "outputs": [],
   "source": [
    "from src.seg2map import log_maker\n",
    "from src.seg2map.models_UI import UI_Models\n",
    "models_ui = UI_Models()\n",
    "models_ui.create_dashboard()"
   ]
  },
  {
   "cell_type": "code",
   "execution_count": null,
   "id": "3785545f-c2ce-425a-8f23-7dae6d669b70",
   "metadata": {},
   "outputs": [],
   "source": [
    "from PIL import Image, ImageSequence\n",
    "img_path = r'C:\\1_USGS\\4_seg2map\\seg2map\\sessions\\mode_experiment\\share\\multiband0_USDA_NAIP_DOQQ_m_4012415_ne_10_1_20100629.png'"
   ]
  },
  {
   "cell_type": "code",
   "execution_count": null,
   "id": "1c4c487c-1cfe-4188-92df-f7661e89009b",
   "metadata": {},
   "outputs": [],
   "source": [
    "from PIL import Image\n",
    "import numpy as np\n",
    "import os\n",
    "im = Image.open(img_path, formats=(\"PNG\",))\n",
    "array3 = np.array(im)\n",
    "reshaped_array3 =array3.reshape(-1, array3.shape[2])\n",
    "unqiue_colors = np.unique(reshaped_array3,axis=0)\n",
    "print(unqiue_colors)"
   ]
  },
  {
   "cell_type": "code",
   "execution_count": null,
   "id": "94777265-2be6-4fab-9e29-dc2a7a75ca14",
   "metadata": {},
   "outputs": [],
   "source": []
  },
  {
   "cell_type": "code",
   "execution_count": null,
   "id": "67aed1eb-0450-4027-8e1d-44cbd51465e7",
   "metadata": {},
   "outputs": [],
   "source": [
    "from PIL import Image, ImageSequence\n",
    "img_path = r'C:\\1_USGS\\4_seg2map\\seg2map\\sessions\\mode_experiment\\share\\multiband0_USDA_NAIP_DOQQ_m_4012415_ne_10_1_20100629.png'\n",
    "im = Image.open(img_path, formats=(\"PNG\",)).convert(\"RGB\")\n",
    "out_path = img_path.replace(\".png\", \"_RGB.png\")"
   ]
  },
  {
   "cell_type": "code",
   "execution_count": null,
   "id": "75a81f6e-3560-4448-9185-1fdc48999eef",
   "metadata": {},
   "outputs": [],
   "source": []
  },
  {
   "cell_type": "code",
   "execution_count": null,
   "id": "40d6f8f8-5d60-4d8e-943d-3a5c26eca6d0",
   "metadata": {},
   "outputs": [],
   "source": [
    "import numpy as np\n",
    "array3 = np.array(im)"
   ]
  },
  {
   "cell_type": "code",
   "execution_count": null,
   "id": "f25ab2ca-c65f-40e7-a240-3ba9633ebeb8",
   "metadata": {},
   "outputs": [],
   "source": [
    "reshaped_array3 =array3.reshape(-1, array3.shape[2])\n",
    "unqiue_colors = np.unique(reshaped_array3,axis=0)\n",
    "print(unqiue_colors)"
   ]
  },
  {
   "cell_type": "code",
   "execution_count": null,
   "id": "e9ba1b70-0979-4e2b-943a-c2207e43b4bd",
   "metadata": {},
   "outputs": [],
   "source": [
    "import os\n",
    "os.path.exists(out_path)"
   ]
  },
  {
   "cell_type": "code",
   "execution_count": null,
   "id": "b7f8183f-f9c0-4a1c-b0b9-b44b5bc160fc",
   "metadata": {},
   "outputs": [],
   "source": [
    "from osgeo import gdal\n",
    "gdal.UseExceptions() "
   ]
  },
  {
   "cell_type": "code",
   "execution_count": null,
   "id": "25b8b65a-9b99-4eda-b4ed-7573b93b4e0e",
   "metadata": {},
   "outputs": [],
   "source": [
    "import os\n",
    "from osgeo import gdal\n",
    "from typing import List\n",
    "\n",
    "\n",
    "def build_vrt(vrt: str, files: List[str], resample_name: str) -> None:\n",
    "    \"\"\"builds .vrt file which will hold information needed for overlay\n",
    "    Args:\n",
    "        vrt (:obj:`string`): name of vrt file, which will be created\n",
    "        files (:obj:`list`): list of file names for merging\n",
    "        resample_name (:obj:`string`): name of resampling method\n",
    "    \"\"\"\n",
    "\n",
    "    options = gdal.BuildVRTOptions(srcNodata=0)\n",
    "    virtual_dataset=gdal.BuildVRT(destName=vrt, srcDSOrSrcDSTab=files, options=options)\n",
    "    virtual_dataset.FlushCache()\n",
    "    virtual_dataset = None\n",
    "    print(os.path.exists(vrt))\n",
    "    add_pixel_fn(vrt, resample_name)\n",
    "\n",
    "\n",
    "\n",
    "def add_pixel_fn(filename: str, resample_name: str) -> None:\n",
    "    \"\"\"inserts pixel-function into vrt file named 'filename'\n",
    "    Args:\n",
    "        filename (:obj:`string`): name of file, into which the function will be inserted\n",
    "        resample_name (:obj:`string`): name of resampling method\n",
    "    \"\"\"\n",
    "\n",
    "    header = \"\"\"  <VRTRasterBand dataType=\"Byte\" band=\"1\" subClass=\"VRTDerivedRasterBand\">\"\"\"\n",
    "    contents = \"\"\"\n",
    "    <PixelFunctionType>{0}</PixelFunctionType>\n",
    "    <PixelFunctionLanguage>Python</PixelFunctionLanguage>\n",
    "    <PixelFunctionCode><![CDATA[{1}]]>\n",
    "    </PixelFunctionCode>\"\"\"\n",
    "\n",
    "    lines = open(filename, 'r').readlines()\n",
    "    lines[3] = header  # FIX ME: 3 is a hand constant\n",
    "    lines.insert(4, contents.format(resample_name,\n",
    "                                    get_resample(resample_name)))\n",
    "    open(filename, 'w').write(\"\".join(lines))\n",
    "\n",
    "\n",
    "def get_resample(name: str) -> str:\n",
    "    \"\"\"retrieves code for resampling method\n",
    "    Args:\n",
    "        name (:obj:`string`): name of resampling method\n",
    "    Returns:\n",
    "        method :obj:`string`: code of resample method\n",
    "    \"\"\"\n",
    "\n",
    "    methods = {\n",
    "        \"first\":\n",
    "        \"\"\"\n",
    "import numpy as np\n",
    "def first(in_ar, out_ar, xoff, yoff, xsize, ysize, raster_xsize,raster_ysize, buf_radius, gt, **kwargs):\n",
    "    y = np.ones(in_ar[0].shape)\n",
    "    for i in reversed(range(len(in_ar))):\n",
    "        mask = in_ar[i] == 0\n",
    "        y *= mask\n",
    "        y += in_ar[i]\n",
    "    np.clip(y,0,255, out=out_ar)\n",
    "\"\"\",\n",
    "        \"last\":\n",
    "        \"\"\"\n",
    "import numpy as np\n",
    "def last(in_ar, out_ar, xoff, yoff, xsize, ysize, raster_xsize,raster_ysize, buf_radius, gt, **kwargs):\n",
    "    y = np.ones(in_ar[0].shape)\n",
    "    for i in range(len(in_ar)):\n",
    "        mask = in_ar[i] == 0\n",
    "        y *= mask\n",
    "        y += in_ar[i]\n",
    "    np.clip(y,0,255, out=out_ar)\n",
    "\"\"\",\n",
    "        \"max\":\n",
    "        \"\"\"\n",
    "import numpy as np\n",
    "def max(in_ar, out_ar, xoff, yoff, xsize, ysize, raster_xsize,raster_ysize, buf_radius, gt, **kwargs):\n",
    "    y = np.max(in_ar, axis=0)\n",
    "    np.clip(y,0,255, out=out_ar)\n",
    "\"\"\",\n",
    "        \"average\":\n",
    "        \"\"\"\n",
    "import numpy as np\n",
    "def average(in_ar, out_ar, xoff, yoff, xsize, ysize, raster_xsize,raster_ysize, buf_radius, gt, **kwargs):\n",
    "    div = np.zeros(in_ar[0].shape)\n",
    "    for i in range(len(in_ar)):\n",
    "        div += (in_ar[i] != 0)\n",
    "    div[div == 0] = 1\n",
    "    \n",
    "    y = np.sum(in_ar, axis = 0, dtype = 'uint16')\n",
    "    y = y / div\n",
    "    \n",
    "    np.clip(y,0,255, out = out_ar)\n",
    "\"\"\"}\n",
    "\n",
    "    if name not in methods:\n",
    "        raise ValueError(\n",
    "            \"ERROR: Unrecognized resampling method (see documentation): '{}'.\".\n",
    "            format(name))\n",
    "\n",
    "    return methods[name]"
   ]
  },
  {
   "cell_type": "code",
   "execution_count": null,
   "id": "f59be26a-d58c-430d-a006-2ff34357b0e2",
   "metadata": {},
   "outputs": [],
   "source": [
    "def merge_files(src_files: str, dest_path: str, create_jpg: bool = True) -> str:\n",
    "    \"\"\"Merge a list of GeoTIFF files into a single JPEG file.\n",
    "\n",
    "    Args:\n",
    "    src_files (List[str]): A list of file paths to be merged.\n",
    "    dest_path (str): The path to the output JPEG file.\n",
    "\n",
    "    Returns:\n",
    "    str: The path to the output JPEG file.\n",
    "    \"\"\"\n",
    "    # Check if path to source exists\n",
    "    for file in src_files:\n",
    "        if not os.path.exists(file):\n",
    "            raise FileNotFoundError(f\"{file} not found.\")\n",
    "    try:\n",
    "        ## create vrt(virtual world format) file\n",
    "        # Create VRT file\n",
    "        vrt_options = gdal.BuildVRTOptions(\n",
    "            resampleAlg=\"mode\", srcNodata=0, VRTNodata=0\n",
    "        )\n",
    "\n",
    "        virtual_dataset = gdal.BuildVRT(dest_path, src_files, options=vrt_options)\n",
    "        # flushing the cache causes the vrt file to be created\n",
    "        virtual_dataset.FlushCache()\n",
    "        # reset the dataset object\n",
    "        virtual_dataset = None\n",
    "        # print(f\"dest_path: {dest_path}\")\n",
    "        # parent_dir = os.path.dirname(dest_path)\n",
    "        # tmp_path = os.path.join(parent_dir,'tmp.vrt')\n",
    "        # print(f\"tmp_path: {tmp_path}\")\n",
    "        \n",
    "        # build_vrt(tmp_path, src_files, 'max')\n",
    "        \n",
    "        # gdal.SetConfigOption('GDAL_VRT_ENABLE_PYTHON', 'YES')\n",
    "\n",
    "        # print(f\"dest_path: {dest_path}\")\n",
    "        # kwargs = {\n",
    "        #     'format': 'GTiff',\n",
    "        #     'outputType': gdal.GDT_Byte\n",
    "        # }\n",
    "        # virtual_dataset = gdal.Translate(destName=dest_path, srcDS=tmp_path,kwargs)\n",
    "        # virtual_dataset.FlushCache()\n",
    "        # virtual_dataset = None\n",
    "        # print(os.path.exists(dest_path))\n",
    "\n",
    "\n",
    "        # print(f\"after new  build_vrt dest_path: {dest_path}\")\n",
    "\n",
    "        # create geotiff (.tiff) from merged vrt file\n",
    "        tif_path = dest_path.replace(\".vrt\", \".tif\")\n",
    "        print(f\"tif_path: {tif_path}\")\n",
    "        virtual_dataset = gdal.Translate(\n",
    "            tif_path,\n",
    "            creationOptions=[\"COMPRESS=LZW\", \"TILED=YES\"],\n",
    "            srcDS=dest_path,\n",
    "        )\n",
    "        virtual_dataset.FlushCache()\n",
    "        virtual_dataset = None\n",
    "        print(f\"dest_path(tif_path): {tif_path}\")\n",
    "\n",
    "        if create_jpg:\n",
    "            # convert .vrt to .jpg file\n",
    "            virtual_dataset = gdal.Translate(\n",
    "                dest_path.replace(\".vrt\", \".jpg\"),\n",
    "                creationOptions=[\"WORLDFILE=YES\", \"QUALITY=100\"],\n",
    "                srcDS=dest_path.replace(\".vrt\", \".tif\"),\n",
    "            )\n",
    "            virtual_dataset.FlushCache()\n",
    "            virtual_dataset = None\n",
    "            print(f\"dest_path: {dest_path.replace('.vrt', '.jpg')}\")\n",
    "\n",
    "        return dest_path\n",
    "    except Exception as e:\n",
    "        print(e)\n",
    "        raise e"
   ]
  },
  {
   "cell_type": "code",
   "execution_count": null,
   "id": "1de508c5-c1cd-4ad5-8c93-3ced2c128860",
   "metadata": {},
   "outputs": [],
   "source": [
    "def merge_files(src_files: str, dest_path: str, create_jpg: bool = True) -> str:\n",
    "    \"\"\"Merge a list of GeoTIFF files into a single JPEG file.\n",
    "\n",
    "    Args:\n",
    "    src_files (List[str]): A list of file paths to be merged.\n",
    "    dest_path (str): The path to the output JPEG file.\n",
    "\n",
    "    Returns:\n",
    "    str: The path to the output JPEG file.\n",
    "    \"\"\"\n",
    "    # Check if path to source exists\n",
    "    for file in src_files:\n",
    "        if not os.path.exists(file):\n",
    "            raise FileNotFoundError(f\"{file} not found.\")\n",
    "    try:\n",
    "        ## create vrt(virtual world format) file\n",
    "        # Create VRT file\n",
    "        vrt_options = gdal.BuildVRTOptions(\n",
    "            resampleAlg=\"nearest\", srcNodata=0, VRTNodata=0\n",
    "        )\n",
    "\n",
    "        virtual_dataset = gdal.BuildVRT(dest_path, src_files, options=vrt_options)\n",
    "        # flushing the cache causes the vrt file to be created\n",
    "        virtual_dataset.FlushCache()\n",
    "        # reset the dataset object\n",
    "        virtual_dataset = None\n",
    "        # create geotiff (.tiff) from merged vrt file\n",
    "        tif_path = dest_path.replace(\".vrt\", \".tif\")\n",
    "        print(f\"tif_path: {tif_path}\")\n",
    "        virtual_dataset = gdal.Translate(\n",
    "            tif_path,\n",
    "            creationOptions=[\"COMPRESS=LZW\", \"TILED=YES\"],\n",
    "            srcDS=dest_path,\n",
    "        )\n",
    "        virtual_dataset.FlushCache()\n",
    "        virtual_dataset = None\n",
    "        print(f\"dest_path(tif_path): {tif_path}\")\n",
    "\n",
    "        if create_jpg:\n",
    "            # convert .vrt to .jpg file\n",
    "            virtual_dataset = gdal.Translate(\n",
    "                dest_path.replace(\".vrt\", \".jpg\"),\n",
    "                creationOptions=[\"WORLDFILE=YES\", \"QUALITY=100\"],\n",
    "                srcDS=dest_path.replace(\".vrt\", \".tif\"),\n",
    "            )\n",
    "            virtual_dataset.FlushCache()\n",
    "            virtual_dataset = None\n",
    "            print(f\"dest_path: {dest_path.replace('.vrt', '.jpg')}\")\n",
    "\n",
    "        return dest_path\n",
    "    except Exception as e:\n",
    "        print(e)\n",
    "        raise e"
   ]
  },
  {
   "cell_type": "code",
   "execution_count": null,
   "id": "50801375-3afb-45e6-b94a-d24052f6d5c5",
   "metadata": {},
   "outputs": [],
   "source": [
    "from glob import glob\n",
    "import os\n",
    "from osgeo import gdal\n",
    "\n",
    "src_path=r'C:\\1_USGS\\4_seg2map\\seg2map\\sessions\\mode_experiment\\2010'\n",
    "tif_files = glob(os.path.join(src_path, \"*.tif\"))\n",
    "tif_files = [file for file in tif_files if \"merged_multispectral\" not in file]\n",
    "\n",
    "tif_files[0]"
   ]
  },
  {
   "cell_type": "code",
   "execution_count": null,
   "id": "e5a0230d-3c9d-44cc-aaf2-d6bf821b719b",
   "metadata": {},
   "outputs": [],
   "source": [
    "dst_path = os.path.join(src_path, \"merged_multispectral_fruit_4.vrt\")\n",
    "merged_file = merge_files([tif_files[0],tif_files[0]], dst_path, create_jpg=True)"
   ]
  },
  {
   "cell_type": "code",
   "execution_count": null,
   "id": "250b54ff-eae4-414e-8f34-82c65885e4d6",
   "metadata": {},
   "outputs": [],
   "source": [
    "from PIL import Image\n",
    "import numpy as np\n",
    "\n",
    "# Example usage\n",
    "input_filename =r'C:\\1_USGS\\4_seg2map\\seg2map\\sessions\\mode_experiment\\2010\\merged_multispectral_fruit_4.jpg'\n",
    "\n",
    "# Load the input image\n",
    "with Image.open(input_filename) as image:\n",
    "    # Convert the image to a NumPy array\n",
    "    array3 = np.array(image)\n",
    "reshaped_array3 =array3.reshape(-1, array3.shape[2])\n",
    "unique_colors = np.unique(reshaped_array3,axis=0)\n",
    "print(len(unique_colors))"
   ]
  },
  {
   "cell_type": "code",
   "execution_count": 4,
   "id": "82d99c3b-917b-4931-83e3-e3ed9fc0e242",
   "metadata": {},
   "outputs": [
    {
     "name": "stdout",
     "output_type": "stream",
     "text": [
      "211343\n"
     ]
    }
   ],
   "source": [
    "# Mosaic.jpg\n",
    "from PIL import Image\n",
    "import numpy as np\n",
    "\n",
    "# Example usage\n",
    "input_filename =r'C:\\1_USGS\\4_seg2map\\seg2map\\image_mosaic-20230306T164950Z-001\\image_mosaic\\MosaicOEM.jpg'\n",
    "\n",
    "# Load the input image\n",
    "with Image.open(input_filename) as image:\n",
    "    # Convert the image to a NumPy array\n",
    "    array3 = np.array(image)\n",
    "reshaped_array3 =array3.reshape(-1, array3.shape[2])\n",
    "unique_colors = np.unique(reshaped_array3,axis=0)\n",
    "print(len(unique_colors))"
   ]
  },
  {
   "cell_type": "code",
   "execution_count": 3,
   "id": "cb1cee0f-e1b0-4147-9bbd-12d8ff0f54c6",
   "metadata": {},
   "outputs": [],
   "source": [
    "from osgeo import gdal\n",
    "\n",
    "kwargs = {\n",
    "        'format': 'JPEG',\n",
    "        'outputType': gdal.GDT_Byte\n",
    "}\n",
    "\n",
    "def gdal_translate_jpeg(f, kwargs):\n",
    "    ds = gdal.Translate(f.replace('.tif','.jpg'), f, **kwargs)\n",
    "    ds = None # close and save ds\n",
    "\n",
    "input_filename =r'C:\\1_USGS\\4_seg2map\\seg2map\\black_and_white.tif'\n",
    "gdal_translate_jpeg(input_filename,kwargs)\n"
   ]
  },
  {
   "cell_type": "code",
   "execution_count": 20,
   "id": "587cc3db-4b28-40bd-bafd-92ee175438cf",
   "metadata": {},
   "outputs": [
    {
     "data": {
      "text/plain": [
       "(1764, 3059)"
      ]
     },
     "execution_count": 20,
     "metadata": {},
     "output_type": "execute_result"
    }
   ],
   "source": [
    "# Mosaic.jpg\n",
    "from PIL import Image\n",
    "import numpy as np\n",
    "\n",
    "file =r'C:\\1_USGS\\4_seg2map\\seg2map\\data\\fresh_downloads\\ID_NVBbrh_dates_2010-01-01_to_2013-12-31\\multiband\\2010\\Mosaic.jpg'\n",
    "\n",
    "# Load the input image\n",
    "with Image.open(file) as image:\n",
    "    # Convert the image to a NumPy array\n",
    "    array3 = np.array(image)\n",
    "array3.shape\n",
    "# reshaped_array3 =array3.reshape(-1, array3.shape[1])\n",
    "# unique_colors = np.unique(reshaped_array3,axis=0)\n",
    "# print(len(unique_colors))"
   ]
  },
  {
   "cell_type": "code",
   "execution_count": 21,
   "id": "87a795fb-7b10-4565-b743-7ac745f9d34f",
   "metadata": {},
   "outputs": [
    {
     "data": {
      "text/plain": [
       "array([ 0,  1,  2,  3,  4,  5,  6,  7,  8,  9, 10], dtype=uint8)"
      ]
     },
     "execution_count": 21,
     "metadata": {},
     "output_type": "execute_result"
    }
   ],
   "source": [
    "np.unique(array3)"
   ]
  },
  {
   "cell_type": "code",
   "execution_count": 18,
   "id": "c15e1a67-8e79-42f3-87c1-00c395a3ca31",
   "metadata": {},
   "outputs": [
    {
     "data": {
      "text/plain": [
       "(1764, 3059)"
      ]
     },
     "execution_count": 18,
     "metadata": {},
     "output_type": "execute_result"
    }
   ],
   "source": [
    "# Mosaic.jpg\n",
    "from PIL import Image\n",
    "import numpy as np\n",
    "\n",
    "file =r'C:\\1_USGS\\4_seg2map\\seg2map\\data\\fresh_downloads_script_ran1\\ID_NVBbrh_dates_2010-01-01_to_2013-12-31\\multiband\\2010\\Mosaic.tif'\n",
    "\n",
    "# Load the input image\n",
    "with Image.open(file) as image:\n",
    "    # Convert the image to a NumPy array\n",
    "    array3 = np.array(image)\n",
    "array3.shape\n",
    "# reshaped_array3 =array3.reshape(-1, array3.shape[1])\n",
    "# unique_colors = np.unique(reshaped_array3,axis=0)\n",
    "# print(len(unique_colors))"
   ]
  },
  {
   "cell_type": "code",
   "execution_count": 19,
   "id": "cdaee06e-02f4-4615-9b24-2fa07b667f35",
   "metadata": {},
   "outputs": [
    {
     "data": {
      "text/plain": [
       "array([1, 2, 3, 4, 5, 6, 7, 8, 9], dtype=uint8)"
      ]
     },
     "execution_count": 19,
     "metadata": {},
     "output_type": "execute_result"
    }
   ],
   "source": [
    "np.unique(array3)"
   ]
  },
  {
   "cell_type": "code",
   "execution_count": 11,
   "id": "f893c9a4-70c1-447e-b326-1c7087c18c82",
   "metadata": {},
   "outputs": [
    {
     "data": {
      "text/plain": [
       "array([[3, 3, 3, ..., 3, 3, 3],\n",
       "       [3, 3, 4, ..., 7, 7, 7],\n",
       "       [7, 7, 7, ..., 2, 2, 2],\n",
       "       ...,\n",
       "       [7, 7, 7, ..., 6, 6, 6],\n",
       "       [6, 6, 3, ..., 4, 4, 4],\n",
       "       [4, 4, 4, ..., 3, 3, 3]], dtype=uint8)"
      ]
     },
     "execution_count": 11,
     "metadata": {},
     "output_type": "execute_result"
    }
   ],
   "source": [
    "reshaped_array3 =array3.reshape(-1, array3.shape[0])\n",
    "reshaped_array3"
   ]
  },
  {
   "cell_type": "code",
   "execution_count": 12,
   "id": "3fda5340-2893-4e6c-b38a-e3f07f95d38a",
   "metadata": {},
   "outputs": [
    {
     "data": {
      "text/plain": [
       "(3059, 1764)"
      ]
     },
     "execution_count": 12,
     "metadata": {},
     "output_type": "execute_result"
    }
   ],
   "source": [
    "reshaped_array3.shape"
   ]
  },
  {
   "cell_type": "code",
   "execution_count": 10,
   "id": "49fd836b-8775-4f84-bc8c-a19fc7505604",
   "metadata": {},
   "outputs": [
    {
     "name": "stdout",
     "output_type": "stream",
     "text": [
      "17\n"
     ]
    }
   ],
   "source": [
    "# Mosaic.jpg\n",
    "from PIL import Image\n",
    "import numpy as np\n",
    "\n",
    "# Example usage\n",
    "# input_filename =r'C:\\1_USGS\\4_seg2map\\seg2map\\image_mosaic-20230306T164950Z-001\\image_mosaic\\MosaicXBD.jpg'\n",
    "input_filename =r'C:\\1_USGS\\4_seg2map\\seg2map\\image_mosaic-20230306T164950Z-001\\image_mosaic\\MosaicCHESA.tif'\n",
    "# input_filename = r'C:\\1_USGS\\4_seg2map\\seg2map\\data\\fresh_downloads\\ID_NVBbrh_dates_2010-01-01_to_2013-12-31\\multiband\\2010\\merged_multispectral.tif'\n",
    "\n",
    "# Load the input image\n",
    "with Image.open(input_filename) as image:\n",
    "    # Convert the image to a NumPy array\n",
    "    array3 = np.array(image)\n",
    "reshaped_array3 =array3.reshape(-1, array3.shape[2])\n",
    "unique_colors = np.unique(reshaped_array3,axis=0)\n",
    "print(len(unique_colors))"
   ]
  },
  {
   "cell_type": "code",
   "execution_count": 6,
   "id": "d0ccdc01-85a9-40cc-bc21-95cf60c9ea56",
   "metadata": {},
   "outputs": [
    {
     "data": {
      "text/plain": [
       "array([[  0,   0,   0],\n",
       "       [  0,   0,   2],\n",
       "       [  0,   0,   4],\n",
       "       ...,\n",
       "       [252,  47,   0],\n",
       "       [252,  48,   0],\n",
       "       [254,  47,   0]], dtype=uint8)"
      ]
     },
     "execution_count": 6,
     "metadata": {},
     "output_type": "execute_result"
    }
   ],
   "source": [
    "unique_colors"
   ]
  },
  {
   "cell_type": "code",
   "execution_count": 7,
   "id": "b5bb2653-eb98-4ab1-af44-6943ea013186",
   "metadata": {},
   "outputs": [
    {
     "data": {
      "text/plain": [
       "array([[222,  56,  16],\n",
       "       [220,  56,  18],\n",
       "       [217,  58,  19],\n",
       "       ...,\n",
       "       [  0,   0,   0],\n",
       "       [  0,   0,   0],\n",
       "       [  0,   0,   0]], dtype=uint8)"
      ]
     },
     "execution_count": 7,
     "metadata": {},
     "output_type": "execute_result"
    }
   ],
   "source": [
    "reshaped_array3"
   ]
  },
  {
   "cell_type": "code",
   "execution_count": null,
   "id": "9a6f474f-8d73-4d7a-9172-5ac6b3a32a2e",
   "metadata": {},
   "outputs": [],
   "source": [
    "# with mode\n",
    "unique_colors"
   ]
  },
  {
   "cell_type": "code",
   "execution_count": null,
   "id": "4cf6007a-da11-4fac-9730-dc52a3e6f6d7",
   "metadata": {},
   "outputs": [],
   "source": [
    "# with nearest\n",
    "unique_colors"
   ]
  },
  {
   "cell_type": "code",
   "execution_count": null,
   "id": "7681941d-5109-4a38-bbdf-314f23c081ea",
   "metadata": {},
   "outputs": [],
   "source": [
    "# Get imgs\n",
    "imgsToMosaic=[]\n",
    "sorted_imgs = sorted(glob(os.path.join(inDir, '*.png')))\n",
    "for img in sorted_imgs:\n",
    "    if 'overlay' not in img:\n",
    "        print(img)\n",
    "        imgsToMosaic.append(img)\n",
    "imgsToMosaic"
   ]
  },
  {
   "cell_type": "code",
   "execution_count": null,
   "id": "f5cd860f-3797-4d81-a828-835d2546b43f",
   "metadata": {},
   "outputs": [],
   "source": [
    "import sys, os\n",
    "from osgeo import gdal\n",
    "from glob import glob\n",
    "\n",
    "# Params\n",
    "inDir = r'C:\\1_USGS\\4_seg2map\\seg2map\\sessions\\mode_experiment\\share'\n",
    "outVRT = os.path.join(inDir, 'Mosaic.vrt')\n",
    "outTIF = os.path.join(inDir, 'Mosaic.tif')\n",
    "outJPG = os.path.join(inDir, 'Mosaic.jpg')\n",
    "\n",
    "# Get imgs\n",
    "imgsToMosaic=[]\n",
    "sorted_imgs = sorted(glob(os.path.join(inDir, '*.png')))\n",
    "for img in sorted_imgs:\n",
    "    if 'overlay' not in img:\n",
    "        imgsToMosaic.append(img)\n",
    "        \n",
    "print(imgsToMosaic)\n",
    "# First build vrt\n",
    "vrt_options = gdal.BuildVRTOptions(resampleAlg='mode')\n",
    "gdal.BuildVRT(outVRT, imgsToMosaic, options=vrt_options)\n",
    "\n",
    "# Create GeoTiff from vrt\n",
    "ds = gdal.Open(outVRT)\n",
    "\n",
    "kwargs = {'format': 'GTiff', 'creationOptions': ['NUM_THREADS=ALL_CPUS', 'COMPRESS=LZW']}\n",
    "gdal.Translate(outTIF, ds, **kwargs)\n",
    "\n",
    "# Create jpg from vrt\n",
    "kwargs = {'format': 'GTiff', 'creationOptions': ['NUM_THREADS=ALL_CPUS', 'COMPRESS=LZW']}\n",
    "gdal.Translate(outJPG, ds, **kwargs)"
   ]
  },
  {
   "cell_type": "code",
   "execution_count": null,
   "id": "fe489001-a1ac-4a65-8c45-b4db0bf04380",
   "metadata": {},
   "outputs": [],
   "source": [
    "unique_colors"
   ]
  },
  {
   "cell_type": "code",
   "execution_count": null,
   "id": "bae63bab-6092-4eaa-bd08-4b8ed7e96f22",
   "metadata": {},
   "outputs": [],
   "source": [
    "reshaped_array3.shape"
   ]
  },
  {
   "cell_type": "code",
   "execution_count": null,
   "id": "d27b2784-e46f-410b-b5d0-4753eaf401eb",
   "metadata": {},
   "outputs": [],
   "source": [
    "[51, 102, 204] in "
   ]
  },
  {
   "cell_type": "code",
   "execution_count": null,
   "id": "a7a990cd-6fe2-4484-b722-22187afb5097",
   "metadata": {},
   "outputs": [],
   "source": [
    "colors = np.array([[0, 153, 198],\n",
    "                [16, 150, 24],\n",
    "                [51, 102, 204],\n",
    "                [102, 170, 0],\n",
    "                [153, 0, 153],\n",
    "                [184, 46, 46],\n",
    "                [220, 57, 18],\n",
    "                [221, 68, 119],\n",
    "                [255, 153, 0]])\n",
    "for color in colors:\n",
    "    print(color)"
   ]
  },
  {
   "cell_type": "code",
   "execution_count": null,
   "id": "e555d839-86a7-4c81-b7ce-f7c0feba05c3",
   "metadata": {},
   "outputs": [],
   "source": [
    "colors = np.array([[0, 153, 198],\n",
    "                [16, 150, 24],\n",
    "                [51, 102, 204],\n",
    "                [102, 170, 0],\n",
    "                [153, 0, 153],\n",
    "                [184, 46, 46],\n",
    "                [220, 57, 18],\n",
    "                [221, 68, 119],\n",
    "                [255, 153, 0]])\n",
    "for color in colors:\n",
    "\n",
    "    target = np.array(color)\n",
    "\n",
    "    # Check if target exists in the array\n",
    "    mask = np.all(unique_colors  == target, axis=1)\n",
    "\n",
    "    if np.any(mask):\n",
    "        # Get the index of the first matching element\n",
    "        index = np.where(mask)[0][0]\n",
    "        print(f\"Target:{target} found at index {index}.\")\n",
    "    else:\n",
    "        print(f\"Target:{target} not found in the array.\")"
   ]
  },
  {
   "cell_type": "code",
   "execution_count": null,
   "id": "62401e11-1a8f-4a51-864d-cd366f9c2355",
   "metadata": {},
   "outputs": [],
   "source": [
    "target = np.array([  0, 153, 198])\n",
    "\n",
    "# [[  0 153 198]\n",
    "#  [ 16 150  24]\n",
    "#  [ 51 102 204]\n",
    "#  [102 170   0]\n",
    "#  [153   0 153]\n",
    "#  [184  46  46]\n",
    "#  [220  57  18]\n",
    "#  [221  68 119]\n",
    "#  [255 153   0]]\n",
    "\n",
    "# Check if target exists in the array\n",
    "mask = np.all(unique_colors  == target, axis=1)\n",
    "\n",
    "if np.any(mask):\n",
    "    # Get the index of the first matching element\n",
    "    index = np.where(mask)[0][0]\n",
    "    print(f\"Target found at index {index}.\")\n",
    "else:\n",
    "    print(\"Target not found in the array.\")"
   ]
  },
  {
   "cell_type": "code",
   "execution_count": null,
   "id": "34f8e080-8c3e-41da-9fb3-3d48647b8969",
   "metadata": {},
   "outputs": [],
   "source": [
    "unique_colors"
   ]
  },
  {
   "cell_type": "code",
   "execution_count": null,
   "id": "b71b35d4-6e9e-4276-9013-04cd91ca8e08",
   "metadata": {},
   "outputs": [],
   "source": [
    "unique_colors[3262]"
   ]
  },
  {
   "cell_type": "code",
   "execution_count": null,
   "id": "48cee4c9-d298-414d-a773-421d737043a7",
   "metadata": {},
   "outputs": [],
   "source": [
    "unique_colors"
   ]
  },
  {
   "cell_type": "code",
   "execution_count": null,
   "id": "76359edf-7486-4dc1-a231-519be31d7930",
   "metadata": {},
   "outputs": [],
   "source": [
    "from glob import glob\n",
    "import os\n",
    "from osgeo import gdal\n",
    "\n",
    "src_path=r'C:\\1_USGS\\4_seg2map\\seg2map\\sessions\\mode_experiment\\2010'\n",
    "tif_files = glob(os.path.join(src_path, \"*.tif\"))\n",
    "tif_files = [file for file in tif_files if \"merged_multispectral\" not in file]\n",
    "\n",
    "tif_files[2:]"
   ]
  },
  {
   "cell_type": "code",
   "execution_count": null,
   "id": "960e6b13-c5e4-49b6-affa-fc2d751e688f",
   "metadata": {},
   "outputs": [],
   "source": [
    "dst_path = os.path.join(src_path, \"merged_multispectral_fruit_3.vrt\")\n",
    "merged_file = merge_files(tif_files[2:], dst_path, create_jpg=True)"
   ]
  },
  {
   "cell_type": "code",
   "execution_count": null,
   "id": "dd9ac6c5-0b2b-4ee9-bfe3-4a21ea0d8014",
   "metadata": {},
   "outputs": [],
   "source": [
    "from PIL import Image\n",
    "import numpy as np\n",
    "\n",
    "# Example usage\n",
    "input_filename =r'C:\\1_USGS\\4_seg2map\\seg2map\\sessions\\mode_experiment\\2010\\merged_multispectral_fruit_3.jpg'\n",
    "\n",
    "# Load the input image\n",
    "with Image.open(input_filename) as image:\n",
    "    # Convert the image to a NumPy array\n",
    "    array3 = np.array(image)\n",
    "reshaped_array3 =array3.reshape(-1, array3.shape[2])\n",
    "unique_colors = np.unique(reshaped_array3,axis=0)\n",
    "print(len(unique_colors))"
   ]
  },
  {
   "cell_type": "code",
   "execution_count": null,
   "id": "7ff8995b-f18a-47b9-bf80-8e3d0c595b1a",
   "metadata": {},
   "outputs": [],
   "source": [
    "from glob import glob\n",
    "import os\n",
    "from osgeo import gdal\n",
    "\n",
    "src_path=r'C:\\1_USGS\\4_seg2map\\seg2map\\sessions\\mode_experiment\\2010'\n",
    "tif_files = glob(os.path.join(src_path, \"*.tif\"))\n",
    "tif_files = [file for file in tif_files if \"merged_multispectral\" not in file]\n",
    "\n",
    "tif_files[:2]"
   ]
  },
  {
   "cell_type": "code",
   "execution_count": null,
   "id": "c26e4ac9-8b24-41d5-bd83-948864f8f164",
   "metadata": {},
   "outputs": [],
   "source": [
    "dst_path = os.path.join(src_path, \"merged_multispectral_fruit_2.vrt\")\n",
    "merged_file = merge_files(tif_files[:2], dst_path, create_jpg=True)"
   ]
  },
  {
   "cell_type": "code",
   "execution_count": null,
   "id": "bf054709-8a64-405d-903d-bc874ec0bab6",
   "metadata": {},
   "outputs": [],
   "source": [
    "from PIL import Image\n",
    "import numpy as np\n",
    "\n",
    "# Example usage\n",
    "input_filename =r'C:\\1_USGS\\4_seg2map\\seg2map\\sessions\\mode_experiment\\2010\\merged_multispectral_fruit_2.jpg'\n",
    "\n",
    "# Load the input image\n",
    "with Image.open(input_filename) as image:\n",
    "    # Convert the image to a NumPy array\n",
    "    array3 = np.array(image)\n",
    "reshaped_array3 =array3.reshape(-1, array3.shape[2])\n",
    "unique_colors = np.unique(reshaped_array3,axis=0)\n",
    "print(len(unique_colors))"
   ]
  },
  {
   "cell_type": "code",
   "execution_count": null,
   "id": "0150a8b4-a682-4436-a8ed-85692a35679c",
   "metadata": {},
   "outputs": [],
   "source": [
    "print(len(unique_colors))"
   ]
  },
  {
   "cell_type": "code",
   "execution_count": null,
   "id": "6fcbf5f8-f267-46f8-bbe3-57b7ec4623a3",
   "metadata": {},
   "outputs": [],
   "source": []
  },
  {
   "cell_type": "code",
   "execution_count": null,
   "id": "db379b92-3e76-43cc-b8c8-2ef7f2ad9764",
   "metadata": {},
   "outputs": [],
   "source": [
    "def merge_files(src_files: str, dest_path: str, create_jpg: bool = True) -> str:\n",
    "    \"\"\"Merge a list of GeoTIFF files into a single JPEG file.\n",
    "\n",
    "    Args:\n",
    "    src_files (List[str]): A list of file paths to be merged.\n",
    "    dest_path (str): The path to the output JPEG file.\n",
    "\n",
    "    Returns:\n",
    "    str: The path to the output JPEG file.\n",
    "    \"\"\"\n",
    "    # Check if path to source exists\n",
    "    for file in src_files:\n",
    "        if not os.path.exists(file):\n",
    "            raise FileNotFoundError(f\"{file} not found.\")\n",
    "    try:\n",
    "        ## create vrt(virtual world format) file\n",
    "        # Create VRT file\n",
    "        vrt_options = gdal.BuildVRTOptions(\n",
    "            resampleAlg=\"mode\", srcNodata=0, VRTNodata=0\n",
    "        )\n",
    "        print(f\"dest_path: {dest_path}\")\n",
    "        parent_dir = os.path.dirname(dest_path)\n",
    "        tmp_path = os.path.join(parent_dir,'tmp.vrt')\n",
    "        print(f\"tmp_path: {tmp_path}\")\n",
    "        \n",
    "        build_vrt(tmp_path, src_files, 'max')\n",
    "        \n",
    "        gdal.SetConfigOption('GDAL_VRT_ENABLE_PYTHON', 'YES')\n",
    "\n",
    "        # parent_dir = os.path.dirname(dest_path)\n",
    "        # dst_path = os.path.join(parent_dir,'final.vrt')\n",
    "        print(f\"dest_path: {dest_path}\")\n",
    "        virtual_dataset = gdal.Translate(destName=dest_path, srcDS=tmp_path)\n",
    "        virtual_dataset.FlushCache()\n",
    "        virtual_dataset = None\n",
    "        print(os.path.exists(dest_path))\n",
    "\n",
    "        # if os.path.isfile(constants.TEMP_VRT_FILE):\n",
    "        #     os.remove(constants.TEMP_VRT_FILE)\n",
    "        # creates a virtual world file using all the tifs and overwrites any pre-existing .vrt\n",
    "        # virtual_dataset = gdal.BuildVRT(dest_path, src_files, options=vrt_options)\n",
    "        # # flushing the cache causes the vrt file to be created\n",
    "        # virtual_dataset.FlushCache()\n",
    "        # # reset the dataset object\n",
    "        # virtual_dataset = None\n",
    "\n",
    "#         print(f\"dest_path: {dest_path}\")\n",
    "        # virtual_dataset = build_vrt(dest_path, src_files, 'max')\n",
    "        # virtual_dataset.FlushCache()\n",
    "        # virtual_dataset = None\n",
    "\n",
    "        print(f\"after new  build_vrt dest_path: {dest_path}\")\n",
    "\n",
    "        # create geotiff (.tiff) from merged vrt file\n",
    "        tif_path = dest_path.replace(\".vrt\", \".tif\")\n",
    "        print(f\"tif_path: {tif_path}\")\n",
    "        virtual_dataset = gdal.Translate(\n",
    "            tif_path,\n",
    "            creationOptions=[\"COMPRESS=LZW\", \"TILED=YES\"],\n",
    "            srcDS=dest_path,\n",
    "        )\n",
    "        virtual_dataset.FlushCache()\n",
    "        virtual_dataset = None\n",
    "        print(f\"dest_path(tif_path): {tif_path}\")\n",
    "\n",
    "        if create_jpg:\n",
    "            # convert .vrt to .jpg file\n",
    "            virtual_dataset = gdal.Translate(\n",
    "                dest_path.replace(\".vrt\", \".jpg\"),\n",
    "                creationOptions=[\"WORLDFILE=YES\", \"QUALITY=100\"],\n",
    "                srcDS=dest_path.replace(\".vrt\", \".tif\"),\n",
    "            )\n",
    "            virtual_dataset.FlushCache()\n",
    "            virtual_dataset = None\n",
    "            print(f\"dest_path: {dest_path.replace('.vrt', '.jpg')}\")\n",
    "\n",
    "        return dest_path\n",
    "    except Exception as e:\n",
    "        print(e)\n",
    "        raise e"
   ]
  },
  {
   "cell_type": "code",
   "execution_count": null,
   "id": "1010b9c2-dd5e-488b-9c96-bcaf1b4d2aa7",
   "metadata": {},
   "outputs": [],
   "source": []
  },
  {
   "cell_type": "code",
   "execution_count": null,
   "id": "a1fb722e-8349-4d62-ae15-f4f1837dd176",
   "metadata": {},
   "outputs": [],
   "source": [
    "# create geotiff (.tiff) from merged vrt file\n",
    "# dest_path = r'C:\\1_USGS\\4_seg2map\\seg2map\\sessions\\mode_experiment\\2010\\merged_multispectral_fruit.vrt'\n",
    "# tif_path = dest_path.replace(\".vrt\", \".tif\")\n",
    "# virtual_dataset = gdal.Translate(\n",
    "#     tif_path,\n",
    "#     creationOptions=[\"COMPRESS=LZW\", \"TILED=YES\"],\n",
    "#     srcDS=dest_path,\n",
    "# )\n",
    "# virtual_dataset.FlushCache()\n",
    "# virtual_dataset = None"
   ]
  },
  {
   "cell_type": "code",
   "execution_count": null,
   "id": "7fc6a679-8e8a-49ed-bf22-3f8e51c8ad80",
   "metadata": {},
   "outputs": [],
   "source": [
    "from glob import glob\n",
    "\n",
    "def merge_files(src_files: str, dest_path: str, create_jpg: bool = True) -> str:\n",
    "    \"\"\"Merge a list of GeoTIFF files into a single JPEG file.\n",
    "\n",
    "    Args:\n",
    "    src_files (List[str]): A list of file paths to be merged.\n",
    "    dest_path (str): The path to the output JPEG file.\n",
    "\n",
    "    Returns:\n",
    "    str: The path to the output JPEG file.\n",
    "    \"\"\"\n",
    "    # Check if path to source exists\n",
    "    for file in src_files:\n",
    "        if not os.path.exists(file):\n",
    "            raise FileNotFoundError(f\"{file} not found.\")\n",
    "    try:\n",
    "        ## create vrt(virtual world format) file\n",
    "        # Create VRT file\n",
    "        vrt_options = gdal.BuildVRTOptions(\n",
    "            resampleAlg=\"mode\", srcNodata=0, VRTNodata=0\n",
    "        )\n",
    "        print(f\"dest_path: {dest_path}\")\n",
    "        parent_dir = os.path.dirname(dest_path)\n",
    "        tmp_path = os.path.join(parent_dir,'tmp.vrt')\n",
    "        print(f\"tmp_path: {tmp_path}\")\n",
    "        \n",
    "        build_vrt(tmp_path, src_files, 'max')\n",
    "        \n",
    "        gdal.SetConfigOption('GDAL_VRT_ENABLE_PYTHON', 'YES')\n",
    "\n",
    "        print(f\"dest_path: {dest_path}\")\n",
    "        virtual_dataset = gdal.Translate(destName=dest_path, srcDS=tmp_path)\n",
    "        virtual_dataset.FlushCache()\n",
    "        virtual_dataset = None\n",
    "        print(os.path.exists(dest_path))\n",
    "\n",
    "\n",
    "        print(f\"after new  build_vrt dest_path: {dest_path}\")\n",
    "\n",
    "        # create geotiff (.tiff) from merged vrt file\n",
    "        tif_path = dest_path.replace(\".vrt\", \".tif\")\n",
    "        print(f\"tif_path: {tif_path}\")\n",
    "        virtual_dataset = gdal.Translate(\n",
    "            tif_path,\n",
    "            creationOptions=[\"COMPRESS=LZW\", \"TILED=YES\"],\n",
    "            srcDS=dest_path,\n",
    "        )\n",
    "        virtual_dataset.FlushCache()\n",
    "        virtual_dataset = None\n",
    "        print(f\"dest_path(tif_path): {tif_path}\")\n",
    "\n",
    "        if create_jpg:\n",
    "            # convert .vrt to .jpg file\n",
    "            virtual_dataset = gdal.Translate(\n",
    "                dest_path.replace(\".vrt\", \".jpg\"),\n",
    "                creationOptions=[\"WORLDFILE=YES\", \"QUALITY=100\"],\n",
    "                srcDS=dest_path.replace(\".vrt\", \".tif\"),\n",
    "            )\n",
    "            virtual_dataset.FlushCache()\n",
    "            virtual_dataset = None\n",
    "            print(f\"dest_path: {dest_path.replace('.vrt', '.jpg')}\")\n",
    "\n",
    "        return dest_path\n",
    "    except Exception as e:\n",
    "        print(e)\n",
    "        raise e\n",
    "\n",
    "src_path=r'C:\\1_USGS\\4_seg2map\\seg2map\\sessions\\mode_experiment\\2010'\n",
    "tif_files = glob(os.path.join(src_path, \"*.tif\"))\n",
    "tif_files = [file for file in tif_files if \"merged_multispectral\" not in file]\n",
    "\n",
    "dst_path = os.path.join(src_path, \"merged_multispectral_fruit_2.vrt\")\n",
    "merged_file = merge_files(tif_files, dst_path, create_jpg=True)"
   ]
  },
  {
   "cell_type": "code",
   "execution_count": null,
   "id": "14348905-ad6a-4c1f-aadf-193cb09f772c",
   "metadata": {},
   "outputs": [],
   "source": [
    "os.path.dirname(dst_path)"
   ]
  },
  {
   "cell_type": "code",
   "execution_count": null,
   "id": "f9c430b2-854b-4020-811c-ff03da0ab1f9",
   "metadata": {},
   "outputs": [],
   "source": [
    "tif_files"
   ]
  },
  {
   "cell_type": "code",
   "execution_count": null,
   "id": "b48b48f0-1b3b-4695-86b2-c5f2cb2339e8",
   "metadata": {},
   "outputs": [],
   "source": [
    "dst_path"
   ]
  },
  {
   "cell_type": "code",
   "execution_count": null,
   "id": "d8a45878-4023-43b7-99e8-a885d0d5eacc",
   "metadata": {},
   "outputs": [],
   "source": []
  },
  {
   "cell_type": "code",
   "execution_count": null,
   "id": "a9db6b9b-e92a-49e1-bb41-e2b2148fff9a",
   "metadata": {},
   "outputs": [],
   "source": [
    "from src.seg2map import common\n",
    "from glob import glob\n",
    "import os\n",
    "session_year_path =  r'C:\\1_USGS\\4_seg2map\\seg2map\\sessions\\new_official_test_site_aaai-buildings\\2010'\n",
    "png_files = glob(os.path.join(session_year_path, \"*.png\"))\n",
    "png_files = common.filter_files(png_files,[\".*overlay.*\"])"
   ]
  },
  {
   "cell_type": "code",
   "execution_count": null,
   "id": "af5867a7-e6e3-4ae6-93d7-6d798a959d52",
   "metadata": {},
   "outputs": [],
   "source": [
    "png_files"
   ]
  },
  {
   "cell_type": "code",
   "execution_count": null,
   "id": "be568da9-d3e3-43f0-b18f-44d1e12a36a6",
   "metadata": {},
   "outputs": [],
   "source": [
    "from PIL import Image\n",
    "import numpy as np\n",
    "\n",
    "def array_to_jpg(array, filename):\n",
    "    # Ensure that the array has 3 channels (i.e. is an RGB image)\n",
    "    if array.shape[2] != 3:\n",
    "        raise ValueError(\"Array must have 3 channels (i.e. be an RGB image)\")\n",
    "    \n",
    "    # Normalize the array values to the range [0, 255]\n",
    "    array = (array * 255).astype(np.uint8)\n",
    "    \n",
    "    # Create a Pillow image from the array\n",
    "    image = Image.fromarray(array)\n",
    "    \n",
    "    # Save the image as a JPEG file\n",
    "    image.save(filename, \"JPEG\")"
   ]
  },
  {
   "cell_type": "code",
   "execution_count": null,
   "id": "d2d3a0e4-4def-45b4-a37e-41fb638731bb",
   "metadata": {},
   "outputs": [],
   "source": [
    "# Example usage\n",
    "array = np.random.rand(100, 100, 3)  # Generate a random RGB image\n",
    "filename = \"example.jpg\"  # Filename to save the JPEG image to\n",
    "array_to_jpg(array, filename)  # Convert the array to a JPEG image and save it"
   ]
  },
  {
   "cell_type": "code",
   "execution_count": null,
   "id": "b19532ef-c65b-4c3f-becb-5ccd522de69d",
   "metadata": {},
   "outputs": [],
   "source": [
    "from PIL import Image\n",
    "import numpy as np\n",
    "\n",
    "def isolate_colors(input_filename, output_prefix):\n",
    "    # Open the input image and convert it to a NumPy array\n",
    "    with Image.open(input_filename) as image:\n",
    "        array = np.array(image)\n",
    "    \n",
    "    # Find the unique colors in the image\n",
    "    unique_colors = np.unique(array.reshape(-1, array.shape[2]), axis=0)\n",
    "    \n",
    "    # For each unique color, create a mask that isolates that color\n",
    "    for i, color in enumerate(unique_colors):\n",
    "        # Create a mask that isolates pixels of this color\n",
    "        mask = np.all(array == color, axis=2)\n",
    "        \n",
    "        # Convert the mask to a PIL image and save it\n",
    "        mask_image = Image.fromarray(mask.astype(np.uint8) * 255)\n",
    "        mask_image.save(f\"{output_prefix}_{i}.jpg\", \"JPEG\")"
   ]
  },
  {
   "cell_type": "code",
   "execution_count": null,
   "id": "31d0d3e5-2588-4440-a89b-9b2aa1c1193f",
   "metadata": {},
   "outputs": [],
   "source": [
    "from PIL import Image\n",
    "import numpy as np\n",
    "\n",
    "def isolate_colors(input_filename, output_prefix):\n",
    "    # Open the input image and convert it to a NumPy array\n",
    "    with Image.open(input_filename) as image:\n",
    "        array = np.array(image)\n",
    "    \n",
    "    # Find the unique colors in the image\n",
    "    unique_colors = np.unique(array.reshape(-1, array.shape[2]), axis=0)\n",
    "    \n",
    "    # Create a new array for the output image, initialized to transparent black\n",
    "    output_array = np.zeros_like(array, dtype=np.uint8)\n",
    "    output_array[..., 3] = 0\n",
    "    \n",
    "    # For each unique color, create a mask that isolates that color\n",
    "    for i, color in enumerate(unique_colors):\n",
    "        # Create a mask that isolates pixels of this color\n",
    "        mask = np.all(array == color, axis=2)\n",
    "        \n",
    "        # Apply the mask to the output array, setting pixels of this color to opaque\n",
    "        output_array[mask, :] = color\n",
    "        output_array[mask, 3] = 255\n",
    "    \n",
    "    # Convert the output array to a PIL image and save it\n",
    "    output_image = Image.fromarray(output_array)\n",
    "    output_image.save(f\"{output_prefix}.jpg\", \"JPEG\")"
   ]
  },
  {
   "cell_type": "code",
   "execution_count": null,
   "id": "f6fbd6ab-7ecf-4c39-b19c-ce3b08347d48",
   "metadata": {},
   "outputs": [],
   "source": [
    "from PIL import Image\n",
    "import numpy as np\n",
    "\n",
    "def isolate_colors(input_filename, output_prefix):\n",
    "    # Open the input image and convert it to a NumPy array\n",
    "    with Image.open(input_filename) as image:\n",
    "        array = np.array(image)\n",
    "    \n",
    "    # Find the unique colors in the image\n",
    "    unique_colors = np.unique(array.reshape(-1, array.shape[2]), axis=0)\n",
    "    \n",
    "    # For each unique color, create a mask that isolates that color\n",
    "    for i, color in enumerate(unique_colors):\n",
    "        # Create a mask that isolates pixels of this color\n",
    "        mask = np.all(array == color, axis=2)\n",
    "        \n",
    "        # Create a new output image with pixels of this color set to the original color and other pixels set to black\n",
    "        output_array = np.zeros_like(array, dtype=np.uint8)\n",
    "        output_array[mask] = color\n",
    "        output_image = Image.fromarray(output_array)\n",
    "        \n",
    "        # Save the output image\n",
    "        output_image.save(f\"{output_prefix}_{i}.jpg\", \"JPEG\")"
   ]
  },
  {
   "cell_type": "code",
   "execution_count": null,
   "id": "a8efd33b-a371-4aeb-9d57-084c46c951d0",
   "metadata": {},
   "outputs": [],
   "source": [
    "# Example usage\n",
    "input_filename = r'C:\\1_USGS\\4_seg2map\\seg2map\\sessions\\new_official_test_site\\2010\\multiband0_USDA_NAIP_DOQQ_m_4012415_ne_10_1_20100629.png'\n",
    "output_prefix = \"output_test_two\"  # Prefix to use for the output filenames\n",
    "isolate_colors(input_filename, output_prefix)  # Isolate each color in the input image and save the masks"
   ]
  },
  {
   "cell_type": "code",
   "execution_count": null,
   "id": "113c6185-08f5-4bf7-a765-9491bc651332",
   "metadata": {},
   "outputs": [],
   "source": [
    "'output_test_11.jpg'"
   ]
  },
  {
   "cell_type": "code",
   "execution_count": null,
   "id": "0809283e-924f-4856-a16f-b6f76f90fc4a",
   "metadata": {},
   "outputs": [],
   "source": [
    "\n",
    "from PIL import Image\n",
    "import numpy as np\n",
    "\n",
    "# Example usage\n",
    "input_filename =r'C:\\1_USGS\\4_seg2map\\seg2map\\sessions\\test_2_\\2010\\multiband0_USDA_NAIP_DOQQ_m_4012415_ne_10_1_20100629.png'\n",
    "# input_filename = r'C:\\1_USGS\\4_seg2map\\seg2map\\sessions\\mode_experiment\\2010\\merged_multispectral_fruit.jpg'\n",
    "output_prefix = \"output_test_two\"  # Prefix to use for the output filenames\n",
    "# isolate_colors(input_filename, output_prefix)  # Isolate each color in the input image and save the masks\n",
    "\n",
    "# Load the input image\n",
    "with Image.open(input_filename) as image:\n",
    "    # Convert the image to a NumPy array\n",
    "    array3 = np.array(image)"
   ]
  },
  {
   "cell_type": "code",
   "execution_count": null,
   "id": "062655e9-dddb-4e22-a8b7-3154a2ff2ddb",
   "metadata": {},
   "outputs": [],
   "source": [
    "from PIL import Image\n",
    "import numpy as np\n",
    "\n",
    "# Example usage\n",
    "input_filename =r'C:\\1_USGS\\4_seg2map\\seg2map\\sessions\\mode_experiment\\2010\\multiband0_USDA_NAIP_DOQQ_m_4012415_ne_10_1_20100629.png'\n",
    "\n",
    "# Load the input image\n",
    "with Image.open(input_filename) as image:\n",
    "    # Convert the image to a NumPy array\n",
    "    array3 = np.array(image)\n",
    "reshaped_array3 =array3.reshape(-1, array3.shape[2])\n",
    "unqiue_colors = np.unique(reshaped_array3,axis=0)\n",
    "print(unqiue_colors)"
   ]
  },
  {
   "cell_type": "code",
   "execution_count": null,
   "id": "80009740-48b2-4d0d-a042-bca090976b67",
   "metadata": {},
   "outputs": [],
   "source": [
    "reshaped_array3 =array3.reshape(-1, array3.shape[2])\n",
    "reshaped_array3"
   ]
  },
  {
   "cell_type": "code",
   "execution_count": null,
   "id": "2e873dfa-c9c8-4fee-8465-dde8e8ee0eb9",
   "metadata": {},
   "outputs": [],
   "source": [
    "unqiue_colors = np.unique(reshaped_array3,axis=0)\n",
    "unqiue_colors"
   ]
  },
  {
   "cell_type": "code",
   "execution_count": null,
   "id": "70a0117d-84d4-4135-a64d-97e900a84f94",
   "metadata": {},
   "outputs": [],
   "source": []
  },
  {
   "cell_type": "code",
   "execution_count": null,
   "id": "4dfcdd75-4c6e-4ed6-bb2e-853c27d389c0",
   "metadata": {},
   "outputs": [],
   "source": []
  },
  {
   "cell_type": "code",
   "execution_count": null,
   "id": "0b74cb4a-18f9-4f25-ba3a-7c44b6f074d2",
   "metadata": {},
   "outputs": [],
   "source": [
    "reshaped_array3 =array3.reshape(-1, array3.shape[2])\n",
    "reshaped_array3"
   ]
  },
  {
   "cell_type": "code",
   "execution_count": null,
   "id": "f1a0004d-8517-404d-8a7c-a65937c4238e",
   "metadata": {},
   "outputs": [],
   "source": [
    "reshaped_array3.size/3"
   ]
  },
  {
   "cell_type": "code",
   "execution_count": null,
   "id": "57fe9604-ba8b-4246-a985-05837d820d73",
   "metadata": {},
   "outputs": [],
   "source": [
    "unqiue_colors = np.unique(reshaped_array3,axis=0)\n",
    "unqiue_colors"
   ]
  },
  {
   "cell_type": "code",
   "execution_count": null,
   "id": "83f96c10-9954-48da-8072-b555edab7765",
   "metadata": {},
   "outputs": [],
   "source": [
    "len(unqiue_colors)"
   ]
  },
  {
   "cell_type": "code",
   "execution_count": null,
   "id": "e2da39e8-274b-4db6-92ed-287bc0868366",
   "metadata": {},
   "outputs": [],
   "source": [
    "from PIL import Image\n",
    "import numpy as np\n",
    "input_filename = r'C:\\1_USGS\\4_seg2map\\seg2map\\sessions\\new_official_test_site\\2010\\multiband1_USDA_NAIP_DOQQ_m_4012415_ne_10_1_20100629.png'\n",
    "# Load the input image\n",
    "with Image.open('multiband2_USDA_NAIP_DOQQ_m_4012415_ne_10_1_20100629.png') as image:\n",
    "    # Convert the image to a NumPy array\n",
    "    array2 = np.array(image)"
   ]
  },
  {
   "cell_type": "code",
   "execution_count": null,
   "id": "11d8cbae-d2e4-4e53-8c46-ad8f4b3ad044",
   "metadata": {},
   "outputs": [],
   "source": [
    "reshaped_array2 =array2.reshape(-1, array2.shape[2])\n",
    "reshaped_array2"
   ]
  },
  {
   "cell_type": "code",
   "execution_count": null,
   "id": "c1311f9c-fa57-4589-9f01-4c3f2bfcff3e",
   "metadata": {},
   "outputs": [],
   "source": [
    "reshaped_array2[1000:1010]"
   ]
  },
  {
   "cell_type": "code",
   "execution_count": null,
   "id": "05351a16-b27a-42c8-b0b9-c2b649fac12f",
   "metadata": {},
   "outputs": [],
   "source": [
    "np.unique(reshaped_array2,axis=0)"
   ]
  },
  {
   "cell_type": "code",
   "execution_count": null,
   "id": "e435e7a7-a2ba-407f-b9b9-78cb3008abad",
   "metadata": {},
   "outputs": [],
   "source": [
    "from PIL import Image\n",
    "import numpy as np\n",
    "\n",
    "path = r'C:\\1_USGS\\4_seg2map\\seg2map\\sessions\\mode_experiment\\2010\\merged_multispectral_fruit.jpg'\n",
    "# Load the input image\n",
    "with Image.open(path) as image:\n",
    "    # Convert the image to a NumPy array\n",
    "    array = np.array(image)"
   ]
  },
  {
   "cell_type": "code",
   "execution_count": null,
   "id": "9dea174f-f1a7-4241-8ead-ff57f792f83d",
   "metadata": {},
   "outputs": [],
   "source": [
    "arr[0][0]"
   ]
  },
  {
   "cell_type": "code",
   "execution_count": null,
   "id": "f5d30a36-3cf5-4b60-85b7-ad1334fccb95",
   "metadata": {},
   "outputs": [],
   "source": [
    "array[0][0:10]"
   ]
  },
  {
   "cell_type": "code",
   "execution_count": null,
   "id": "5d9ec84d-6e2f-4ad6-8bc3-8b06ce220f82",
   "metadata": {},
   "outputs": [],
   "source": [
    "reshaped_array =array.reshape(-1, array.shape[2])\n",
    "reshaped_array"
   ]
  },
  {
   "cell_type": "code",
   "execution_count": null,
   "id": "71c882b3-3547-4d83-9687-d6a42839fb68",
   "metadata": {},
   "outputs": [],
   "source": [
    "reshaped_array[0]"
   ]
  },
  {
   "cell_type": "code",
   "execution_count": null,
   "id": "029f8ed7-6709-4006-a2c4-1e7c4cb0e24c",
   "metadata": {},
   "outputs": [],
   "source": [
    "np.unique(reshaped_array[0:10],axis=0)"
   ]
  },
  {
   "cell_type": "code",
   "execution_count": null,
   "id": "051cb7d7-99b4-4439-9908-b65100c22724",
   "metadata": {},
   "outputs": [],
   "source": [
    "# np.unique(reshaped_array[0:5000],axis=0)"
   ]
  },
  {
   "cell_type": "code",
   "execution_count": null,
   "id": "f90f946f-9ab1-4e66-9ef0-c90172bf1f29",
   "metadata": {},
   "outputs": [],
   "source": [
    "np.unique(reshaped_array[0:5000])"
   ]
  },
  {
   "cell_type": "code",
   "execution_count": null,
   "id": "686d1536-0583-4ff4-839d-dcfc2d9c004b",
   "metadata": {},
   "outputs": [],
   "source": [
    "reshaped_array.shape"
   ]
  },
  {
   "cell_type": "code",
   "execution_count": null,
   "id": "19260b5b-b1ee-4eb6-a286-caf704d1a24f",
   "metadata": {},
   "outputs": [],
   "source": [
    "reshaped_array[0:10]"
   ]
  },
  {
   "cell_type": "code",
   "execution_count": null,
   "id": "30473cde-70a7-4c1d-808e-5094e2c17312",
   "metadata": {},
   "outputs": [],
   "source": []
  },
  {
   "cell_type": "code",
   "execution_count": null,
   "id": "1981edfb-2c20-41b5-8385-22e2fbbf6765",
   "metadata": {},
   "outputs": [],
   "source": [
    "np.max(array[0][0])"
   ]
  },
  {
   "cell_type": "code",
   "execution_count": null,
   "id": "a30b3a8d-2f61-44de-b382-25ee9da81bfa",
   "metadata": {},
   "outputs": [],
   "source": [
    "np.max(array[0][0])"
   ]
  },
  {
   "cell_type": "code",
   "execution_count": null,
   "id": "46e30df0-6219-4045-9c25-e1362dcd4d60",
   "metadata": {},
   "outputs": [],
   "source": [
    "array.shape"
   ]
  },
  {
   "cell_type": "code",
   "execution_count": null,
   "id": "28fb5e69-c568-4656-9d70-2d293b2f5ec4",
   "metadata": {},
   "outputs": [],
   "source": [
    "array[0][0]"
   ]
  },
  {
   "cell_type": "code",
   "execution_count": null,
   "id": "e47f24b1-da79-41a5-bf8d-dad6283ee923",
   "metadata": {},
   "outputs": [],
   "source": []
  }
 ],
 "metadata": {
  "kernelspec": {
   "display_name": "Python 3 (ipykernel)",
   "language": "python",
   "name": "python3"
  },
  "language_info": {
   "codemirror_mode": {
    "name": "ipython",
    "version": 3
   },
   "file_extension": ".py",
   "mimetype": "text/x-python",
   "name": "python",
   "nbconvert_exporter": "python",
   "pygments_lexer": "ipython3",
   "version": "3.10.9"
  }
 },
 "nbformat": 4,
 "nbformat_minor": 5
}
