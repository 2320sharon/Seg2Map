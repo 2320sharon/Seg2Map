{
 "cells": [
  {
   "cell_type": "markdown",
   "id": "0480ad42-c0a5-4144-b761-560be56f9d62",
   "metadata": {},
   "source": [
    "# CoastSeg Image Segmentation Models\n",
    "**Notebook**: SDS_unet_classifier\n",
    "\n",
    "**Purpose**: This notebook contains an interactive dashboard that can be used to load satellite imagery and use any of the available image segmentation models to segment the satellite imagery\n",
    "\n",
    "**How it  Works**: Select the model you want to use, then select settings that will be used to run your model and then click either **Select Data Directory** or **Select Images**  to load satellite imagery for the model to run on."
   ]
  },
  {
   "cell_type": "markdown",
   "id": "a4ddd387-8abf-4c90-8110-6892a314e080",
   "metadata": {
    "tags": []
   },
   "source": [
    "## Run Image Segmentation Models on the Downloaded Imagery\n",
    "---\n",
    "1. Select if you want to use a GPU or not. By default you won't your computer's GPU\n",
    " - Make sure no matte what model you select you always choose a directory with 'RGB' as the name.\n",
    "2. Select whether your imagery is type **RGB**,**NDWI**,**MNDWI** or **RGB+MNDWI+NDWI**(which is 5 band imagery).\n",
    " - If you choose a **NDWI**, **MNDWI** or **RGB+MNDWI+NDWI** the **RGB** will automatically be converted to these the selected type.\n",
    "3. Select the model you want to use.\n",
    "4. Select **Ensemble** or **Best** (Ensemble is recommended because it uses multiple models to create more accurate predictions).\n",
    "- **Best:** Uses only the best model available on the images.\n",
    " </br> - Using only the best model typically means each prediction takes less time because only a single model is used to make the prediction. However the resulting segmentation may not be as accurate as with the ensemble model.\n",
    "</br>\n",
    "</br>\n",
    "- **Ensemble:** Uses all the models available on the images.\n",
    " </br> - Ensemble modeling uses multiple models to create more accurate predictions, this means it takes longer to make a single predicition but the resulting segmentation will generally be more accurate.\n"
   ]
  },
  {
   "cell_type": "code",
   "execution_count": 1,
   "id": "896d6993-5e05-4d4c-bc30-cc318bd72c8b",
   "metadata": {},
   "outputs": [
    {
     "name": "stdout",
     "output_type": "stream",
     "text": [
      "Version:  2.11.0\n",
      "Eager mode:  True\n",
      "Version:  2.11.0\n",
      "Eager mode:  True\n",
      "GPU name:  []\n",
      "Num GPUs Available:  0\n"
     ]
    },
    {
     "data": {
      "application/vnd.jupyter.widget-view+json": {
       "model_id": "0b604bad8988415a9c69f581c059fb6a",
       "version_major": 2,
       "version_minor": 0
      },
      "text/plain": [
       "HBox(children=(Checkbox(value=False, description='Use GPU', indent=False), RadioButtons(description='Otsu Thre…"
      ]
     },
     "metadata": {},
     "output_type": "display_data"
    },
    {
     "data": {
      "application/vnd.jupyter.widget-view+json": {
       "model_id": "3999e675b4314dd7bceb8c4709070756",
       "version_major": 2,
       "version_minor": 0
      },
      "text/plain": [
       "HBox(children=(RadioButtons(description='Model Type:', options=('Generic Landcover', 'Coastal Landcover'), sty…"
      ]
     },
     "metadata": {},
     "output_type": "display_data"
    },
    {
     "data": {
      "application/vnd.jupyter.widget-view+json": {
       "model_id": "e44495141ea74899960986585505b276",
       "version_major": 2,
       "version_minor": 0
      },
      "text/plain": [
       "VBox(children=(HBox(children=(Text(value='', description='Session Name:', placeholder='Enter a session name', …"
      ]
     },
     "metadata": {},
     "output_type": "display_data"
    },
    {
     "data": {
      "application/vnd.jupyter.widget-view+json": {
       "model_id": "3e9e283eca654bf486c67b9acbfc24a4",
       "version_major": 2,
       "version_minor": 0
      },
      "text/plain": [
       "VBox(children=(HTML(value='<b>1. Select Images</b>                 <br> - Select an ROI directory', layout=Lay…"
      ]
     },
     "metadata": {},
     "output_type": "display_data"
    },
    {
     "data": {
      "application/vnd.jupyter.widget-view+json": {
       "model_id": "83780de8146c4007adbaf202e545dd24",
       "version_major": 2,
       "version_minor": 0
      },
      "text/plain": [
       "Button(description='Select Images', icon='file-image-o', style=ButtonStyle(button_color='#69add1'))"
      ]
     },
     "metadata": {},
     "output_type": "display_data"
    },
    {
     "data": {
      "application/vnd.jupyter.widget-view+json": {
       "model_id": "7f6f5971e7e34e769b20c80ca1d58219",
       "version_major": 2,
       "version_minor": 0
      },
      "text/plain": [
       "HBox()"
      ]
     },
     "metadata": {},
     "output_type": "display_data"
    },
    {
     "data": {
      "application/vnd.jupyter.widget-view+json": {
       "model_id": "45767d349b614d69a7003bdc6e4431a4",
       "version_major": 2,
       "version_minor": 0
      },
      "text/plain": [
       "HBox()"
      ]
     },
     "metadata": {},
     "output_type": "display_data"
    },
    {
     "data": {
      "application/vnd.jupyter.widget-view+json": {
       "model_id": "1a4b604519a14f1ba77e475835dcc009",
       "version_major": 2,
       "version_minor": 0
      },
      "text/plain": [
       "Output()"
      ]
     },
     "metadata": {},
     "output_type": "display_data"
    },
    {
     "data": {
      "application/vnd.jupyter.widget-view+json": {
       "model_id": "9d7945dea77a4e82bec609d13ed55721",
       "version_major": 2,
       "version_minor": 0
      },
      "text/plain": [
       "HBox(children=(Button(description='Run Model', icon='bolt', style=ButtonStyle(button_color='#ae3cf0')), Button…"
      ]
     },
     "metadata": {},
     "output_type": "display_data"
    },
    {
     "data": {
      "application/vnd.jupyter.widget-view+json": {
       "model_id": "19a1dd436b3d43abbe9f0ab2d943c866",
       "version_major": 2,
       "version_minor": 0
      },
      "text/plain": [
       "Output()"
      ]
     },
     "metadata": {},
     "output_type": "display_data"
    }
   ],
   "source": [
    "from src.seg2map import log_maker\n",
    "from src.seg2map.models_UI import UI_Models\n",
    "models_ui = UI_Models()\n",
    "models_ui.create_dashboard()"
   ]
  },
  {
   "cell_type": "code",
   "execution_count": null,
   "id": "c9a9e9b1-86c7-4dee-a727-8c1033d363c0",
   "metadata": {},
   "outputs": [],
   "source": [
    "from src.seg2map.zoo_model import *"
   ]
  },
  {
   "cell_type": "code",
   "execution_count": null,
   "id": "6a718ea3-f6a0-4f7c-989f-7ab389938a3b",
   "metadata": {},
   "outputs": [],
   "source": [
    "src_directory = r'C:\\1_USGS\\4_seg2map\\seg2map\\data\\sitename3\\ID_eT47bW_dates_2010-01-01_to_2010-12-31\\multiband'\n",
    "src_directory = r'C:\\1_USGS\\4_seg2map\\seg2map\\data\\sitename\\ID_1_dates_2010-01-01_to_2010-12-31\\multiband'\n",
    "year_dirs = common.get_matching_dirs(src_directory, pattern=r\"^\\d{4}$\")\n",
    "year_dirs "
   ]
  },
  {
   "cell_type": "code",
   "execution_count": null,
   "id": "139816dd-5ec0-4381-86dc-9d1d6e956680",
   "metadata": {},
   "outputs": [],
   "source": [
    "import tqdm\n",
    "for x in tqdm.auto.tqdm(year_dirs,desc=\"Convert .tif to .jpg\", leave=False,unit_scale=True):\n",
    "    print(x)"
   ]
  },
  {
   "cell_type": "code",
   "execution_count": null,
   "id": "e1edca6c-b99d-489a-baa3-7296586f2b99",
   "metadata": {},
   "outputs": [],
   "source": [
    "import time\n",
    "\n",
    "for j in trange(len(year_dirs),desc=\"coo\", leave=False, unit_scale=True):\n",
    "    time.sleep(1)"
   ]
  },
  {
   "cell_type": "code",
   "execution_count": null,
   "id": "5f7596dc-500e-4087-a018-a456e4849690",
   "metadata": {},
   "outputs": [],
   "source": [
    "# Nested bars\n",
    "from tqdm import trange\n",
    "for i in trange(10):\n",
    "    for j in trange(int(1e7), leave=False, unit_scale=True):\n",
    "        pass"
   ]
  },
  {
   "cell_type": "code",
   "execution_count": null,
   "id": "5e7dfdc9-632a-4f87-900b-c4ad904a7a69",
   "metadata": {},
   "outputs": [],
   "source": [
    "zoo_instance = Zoo_Model()"
   ]
  },
  {
   "cell_type": "code",
   "execution_count": null,
   "id": "8cd451f0-24ae-4f58-8247-6654e5ddf65e",
   "metadata": {},
   "outputs": [],
   "source": [
    "avoid_names = [\"merged_multispectral\"]\n",
    "for dir_path in year_dirs:\n",
    "    tif_files = zoo_instance.get_tifs_missing_jpgs(dir_path, avoid_names)\n",
    "    print(tif_files)"
   ]
  },
  {
   "cell_type": "code",
   "execution_count": null,
   "id": "366bdd25-bd15-44b6-aa27-6da2cae42340",
   "metadata": {},
   "outputs": [],
   "source": [
    "src_directory = r'C:\\1_USGS\\4_seg2map\\seg2map\\data\\sitename3\\ID_eT47bW_dates_2010-01-01_to_2010-12-31\\multiband'\n",
    "year_dirs = common.get_matching_dirs(src_directory, pattern=r\"^\\d{4}$\")\n",
    "\n",
    "# create jpgs for all tifs that don't have one\n",
    "zoo_instance.create_jpgs_for_tifs(year_dirs, avoid_names=\"merged_multispectral\")"
   ]
  },
  {
   "cell_type": "code",
   "execution_count": null,
   "id": "acd9f9aa-8573-4637-a16d-6230d28ff78a",
   "metadata": {},
   "outputs": [],
   "source": []
  }
 ],
 "metadata": {
  "kernelspec": {
   "display_name": "Python 3 (ipykernel)",
   "language": "python",
   "name": "python3"
  },
  "language_info": {
   "codemirror_mode": {
    "name": "ipython",
    "version": 3
   },
   "file_extension": ".py",
   "mimetype": "text/x-python",
   "name": "python",
   "nbconvert_exporter": "python",
   "pygments_lexer": "ipython3",
   "version": "3.10.9"
  },
  "vscode": {
   "interpreter": {
    "hash": "9d097efbdf24db87a2507c17c632c6d564e7aff5ba5cfc04e62a44a8b3d6a20a"
   }
  },
  "widgets": {
   "application/vnd.jupyter.widget-state+json": {
    "state": {
     "001cac089ff2448788df02890c3db5e7": {
      "model_module": "jupyter-leaflet",
      "model_module_version": "^0.17.0",
      "model_name": "LeafletTileLayerModel",
      "state": {
       "_model_module_version": "^0.17.0",
       "_view_module_version": "^0.17.0",
       "attribution": "Geoportail France",
       "max_zoom": 16,
       "name": "GeoportailFrance.Insee_Filosofi_Population",
       "options": [
        "attribution",
        "bounds",
        "detect_retina",
        "max_native_zoom",
        "max_zoom",
        "min_native_zoom",
        "min_zoom",
        "no_wrap",
        "tile_size",
        "tms"
       ],
       "url": "https://wxs.ign.fr/economie/geoportail/wmts?REQUEST=GetTile&SERVICE=WMTS&VERSION=1.0.0&STYLE=INSEE&TILEMATRIXSET=PM&FORMAT=image/png&LAYER=INSEE.FILOSOFI.POPULATION&TILEMATRIX={z}&TILEROW={y}&TILECOL={x}"
      }
     },
     "00369c09e3214b4caba5fd81679186ab": {
      "model_module": "jupyter-leaflet",
      "model_module_version": "^0.17.0",
      "model_name": "LeafletTileLayerModel",
      "state": {
       "_model_module_version": "^0.17.0",
       "_view_module_version": "^0.17.0",
       "attribution": "Geoportail France",
       "max_zoom": 17,
       "name": "GeoportailFrance.Hydrography_Bcae_2022",
       "options": [
        "attribution",
        "bounds",
        "detect_retina",
        "max_native_zoom",
        "max_zoom",
        "min_native_zoom",
        "min_zoom",
        "no_wrap",
        "tile_size",
        "tms"
       ],
       "url": "https://wxs.ign.fr/agriculture/geoportail/wmts?REQUEST=GetTile&SERVICE=WMTS&VERSION=1.0.0&STYLE=normal&TILEMATRIXSET=PM&FORMAT=image/png&LAYER=HYDROGRAPHY.BCAE.2022&TILEMATRIX={z}&TILEROW={y}&TILECOL={x}"
      }
     },
     "017448baff104bedad55b110124efa9c": {
      "model_module": "jupyter-leaflet",
      "model_module_version": "^0.17.0",
      "model_name": "LeafletTileLayerModel",
      "state": {
       "_model_module_version": "^0.17.0",
       "_view_module_version": "^0.17.0",
       "attribution": "Geoportail France",
       "max_zoom": 12,
       "name": "GeoportailFrance.Landcover_Grid_Clc06_fr",
       "options": [
        "attribution",
        "bounds",
        "detect_retina",
        "max_native_zoom",
        "max_zoom",
        "min_native_zoom",
        "min_zoom",
        "no_wrap",
        "tile_size",
        "tms"
       ],
       "url": "https://wxs.ign.fr/clc/geoportail/wmts?REQUEST=GetTile&SERVICE=WMTS&VERSION=1.0.0&STYLE=CORINE Land Cover - France métropolitaine&TILEMATRIXSET=PM&FORMAT=image/png&LAYER=LANDCOVER.GRID.CLC06_FR&TILEMATRIX={z}&TILEROW={y}&TILECOL={x}"
      }
     },
     "01b37d289da4459cb6d149bf18280be6": {
      "model_module": "jupyter-leaflet",
      "model_module_version": "^0.17.0",
      "model_name": "LeafletWMSLayerModel",
      "state": {
       "_model_module_version": "^0.17.0",
       "_view_module_version": "^0.17.0",
       "attribution": "ESA",
       "crs": {
        "custom": false,
        "name": "EPSG3857"
       },
       "format": "image/png",
       "layers": "WORLDCOVER_2020_MAP",
       "name": "ESA Worldcover 2020",
       "options": [
        "attribution",
        "bounds",
        "detect_retina",
        "format",
        "layers",
        "max_native_zoom",
        "max_zoom",
        "min_native_zoom",
        "min_zoom",
        "no_wrap",
        "styles",
        "tile_size",
        "tms",
        "transparent",
        "uppercase"
       ],
       "transparent": true,
       "url": "https://services.terrascope.be/wms/v2"
      }
     },
     "02c00fff343b42a3ba23e786b822b090": {
      "model_module": "@jupyter-widgets/base",
      "model_module_version": "1.2.0",
      "model_name": "LayoutModel",
      "state": {}
     },
     "0304333aae3f4332b8d192c69ad2e747": {
      "model_module": "jupyter-leaflet",
      "model_module_version": "^0.17.0",
      "model_name": "LeafletTileLayerModel",
      "state": {
       "_model_module_version": "^0.17.0",
       "_view_module_version": "^0.17.0",
       "attribution": "Geoportail France",
       "max_zoom": 16,
       "name": "GeoportailFrance.Geographicalgridsystems_Etatmajor10",
       "options": [
        "attribution",
        "bounds",
        "detect_retina",
        "max_native_zoom",
        "max_zoom",
        "min_native_zoom",
        "min_zoom",
        "no_wrap",
        "tile_size",
        "tms"
       ],
       "url": "https://wxs.ign.fr/cartes/geoportail/wmts?REQUEST=GetTile&SERVICE=WMTS&VERSION=1.0.0&STYLE=normal&TILEMATRIXSET=PM&FORMAT=image/jpeg&LAYER=GEOGRAPHICALGRIDSYSTEMS.ETATMAJOR10&TILEMATRIX={z}&TILEROW={y}&TILECOL={x}"
      }
     },
     "037acb9273664dae86fc9bbab38026f4": {
      "model_module": "jupyter-leaflet",
      "model_module_version": "^0.17.0",
      "model_name": "LeafletTileLayerModel",
      "state": {
       "_model_module_version": "^0.17.0",
       "_view_module_version": "^0.17.0",
       "attribution": "Geoportail France",
       "max_zoom": 16,
       "name": "GeoportailFrance.Bdcarto_etat_major_Niveau4",
       "options": [
        "attribution",
        "bounds",
        "detect_retina",
        "max_native_zoom",
        "max_zoom",
        "min_native_zoom",
        "min_zoom",
        "no_wrap",
        "tile_size",
        "tms"
       ],
       "url": "https://wxs.ign.fr/sol/geoportail/wmts?REQUEST=GetTile&SERVICE=WMTS&VERSION=1.0.0&STYLE=normal&TILEMATRIXSET=PM&FORMAT=image/png&LAYER=BDCARTO_ETAT-MAJOR.NIVEAU4&TILEMATRIX={z}&TILEROW={y}&TILECOL={x}"
      }
     },
     "03e41032637342379c9dafef7fa686d5": {
      "model_module": "jupyter-leaflet",
      "model_module_version": "^0.17.0",
      "model_name": "LeafletTileLayerModel",
      "state": {
       "_model_module_version": "^0.17.0",
       "_view_module_version": "^0.17.0",
       "attribution": "Geoportail France",
       "max_zoom": 16,
       "name": "GeoportailFrance.Ocsge_Couverture_2016",
       "options": [
        "attribution",
        "bounds",
        "detect_retina",
        "max_native_zoom",
        "max_zoom",
        "min_native_zoom",
        "min_zoom",
        "no_wrap",
        "tile_size",
        "tms"
       ],
       "url": "https://wxs.ign.fr/ocsge/geoportail/wmts?REQUEST=GetTile&SERVICE=WMTS&VERSION=1.0.0&STYLE=nolegend&TILEMATRIXSET=PM&FORMAT=image/png&LAYER=OCSGE.COUVERTURE.2016&TILEMATRIX={z}&TILEROW={y}&TILECOL={x}"
      }
     },
     "046a74abba7d42f1bea2f0fbf5a065b3": {
      "model_module": "jupyter-leaflet",
      "model_module_version": "^0.17.0",
      "model_name": "LeafletTileLayerModel",
      "state": {
       "_model_module_version": "^0.17.0",
       "_view_module_version": "^0.17.0",
       "attribution": "Imagery provided by services from the Global Imagery Browse Services (GIBS), operated by the NASA/GSFC/Earth Science Data and Information System (ESDIS) with funding provided by NASA/HQ.",
       "max_zoom": 5,
       "name": "NASAGIBS.BlueMarble3031",
       "options": [
        "attribution",
        "bounds",
        "detect_retina",
        "max_native_zoom",
        "max_zoom",
        "min_native_zoom",
        "min_zoom",
        "no_wrap",
        "tile_size",
        "tms"
       ],
       "url": "https://gibs.earthdata.nasa.gov/wmts/epsg3031/best/BlueMarble_NextGeneration/default/EPSG3031_500m/{z}/{y}/{x}.jpeg"
      }
     },
     "060d486a0100421594e0c23d39b875da": {
      "model_module": "jupyter-leaflet",
      "model_module_version": "^0.17.0",
      "model_name": "LeafletTileLayerModel",
      "state": {
       "_model_module_version": "^0.17.0",
       "_view_module_version": "^0.17.0",
       "attribution": "Geoportail France",
       "name": "GeoportailFrance.Orthoimagery_Ortho_sat_Pleiades_2018",
       "options": [
        "attribution",
        "bounds",
        "detect_retina",
        "max_native_zoom",
        "max_zoom",
        "min_native_zoom",
        "min_zoom",
        "no_wrap",
        "tile_size",
        "tms"
       ],
       "url": "https://wxs.ign.fr/satellite/geoportail/wmts?REQUEST=GetTile&SERVICE=WMTS&VERSION=1.0.0&STYLE=normal&TILEMATRIXSET=PM&FORMAT=image/png&LAYER=ORTHOIMAGERY.ORTHO-SAT.PLEIADES.2018&TILEMATRIX={z}&TILEROW={y}&TILECOL={x}"
      }
     },
     "0677a0faa5204296a823bb3880b6d08d": {
      "model_module": "jupyter-leaflet",
      "model_module_version": "^0.17.0",
      "model_name": "LeafletWMSLayerModel",
      "state": {
       "_model_module_version": "^0.17.0",
       "_view_module_version": "^0.17.0",
       "attribution": "FWS",
       "crs": {
        "custom": false,
        "name": "EPSG3857"
       },
       "format": "image/png",
       "layers": "1",
       "name": "FWS NWI Wetlands",
       "options": [
        "attribution",
        "bounds",
        "detect_retina",
        "format",
        "layers",
        "max_native_zoom",
        "max_zoom",
        "min_native_zoom",
        "min_zoom",
        "no_wrap",
        "styles",
        "tile_size",
        "tms",
        "transparent",
        "uppercase"
       ],
       "transparent": true,
       "url": "https://www.fws.gov/wetlands/arcgis/services/Wetlands/MapServer/WMSServer?"
      }
     },
     "06bf7b521dcc4160909af6ca5ba09280": {
      "model_module": "jupyter-leaflet",
      "model_module_version": "^0.17.0",
      "model_name": "LeafletTileLayerModel",
      "state": {
       "_model_module_version": "^0.17.0",
       "_view_module_version": "^0.17.0",
       "attribution": "Geoportail France",
       "name": "GeoportailFrance.Transportnetworks_Runways",
       "options": [
        "attribution",
        "bounds",
        "detect_retina",
        "max_native_zoom",
        "max_zoom",
        "min_native_zoom",
        "min_zoom",
        "no_wrap",
        "tile_size",
        "tms"
       ],
       "url": "https://wxs.ign.fr/topographie/geoportail/wmts?REQUEST=GetTile&SERVICE=WMTS&VERSION=1.0.0&STYLE=normal&TILEMATRIXSET=PM&FORMAT=image/png&LAYER=TRANSPORTNETWORKS.RUNWAYS&TILEMATRIX={z}&TILEROW={y}&TILECOL={x}"
      }
     },
     "0765e034ec6041aebaa2b6487309304e": {
      "model_module": "jupyter-leaflet",
      "model_module_version": "^0.17.0",
      "model_name": "LeafletTileLayerModel",
      "state": {
       "_model_module_version": "^0.17.0",
       "_view_module_version": "^0.17.0",
       "attribution": "Geoportail France",
       "max_zoom": 16,
       "name": "GeoportailFrance.Orthoimagery_Orthophos_Restrictedareas",
       "options": [
        "attribution",
        "bounds",
        "detect_retina",
        "max_native_zoom",
        "max_zoom",
        "min_native_zoom",
        "min_zoom",
        "no_wrap",
        "tile_size",
        "tms"
       ],
       "url": "https://wxs.ign.fr/ortho/geoportail/wmts?REQUEST=GetTile&SERVICE=WMTS&VERSION=1.0.0&STYLE=normal&TILEMATRIXSET=PM&FORMAT=image/png&LAYER=ORTHOIMAGERY.ORTHOPHOS.RESTRICTEDAREAS&TILEMATRIX={z}&TILEROW={y}&TILECOL={x}"
      }
     },
     "07dedad2a4cd49be8c152d7ed6af776c": {
      "model_module": "jupyter-leaflet",
      "model_module_version": "^0.17.0",
      "model_name": "LeafletTileLayerModel",
      "state": {
       "_model_module_version": "^0.17.0",
       "_view_module_version": "^0.17.0",
       "attribution": "Geoportail France",
       "max_zoom": 16,
       "name": "GeoportailFrance.Protectedareas_Zps",
       "options": [
        "attribution",
        "bounds",
        "detect_retina",
        "max_native_zoom",
        "max_zoom",
        "min_native_zoom",
        "min_zoom",
        "no_wrap",
        "tile_size",
        "tms"
       ],
       "url": "https://wxs.ign.fr/environnement/geoportail/wmts?REQUEST=GetTile&SERVICE=WMTS&VERSION=1.0.0&STYLE=normal&TILEMATRIXSET=PM&FORMAT=image/png&LAYER=PROTECTEDAREAS.ZPS&TILEMATRIX={z}&TILEROW={y}&TILECOL={x}"
      }
     },
     "0a66dd88508d4e01be3857f24e5c5dae": {
      "model_module": "jupyter-leaflet",
      "model_module_version": "^0.17.0",
      "model_name": "LeafletTileLayerModel",
      "state": {
       "_model_module_version": "^0.17.0",
       "_view_module_version": "^0.17.0",
       "attribution": "Geoportail France",
       "max_zoom": 19,
       "name": "GeoportailFrance.Orthoimagery_Orthophotos_Irc",
       "options": [
        "attribution",
        "bounds",
        "detect_retina",
        "max_native_zoom",
        "max_zoom",
        "min_native_zoom",
        "min_zoom",
        "no_wrap",
        "tile_size",
        "tms"
       ],
       "url": "https://wxs.ign.fr/ortho/geoportail/wmts?REQUEST=GetTile&SERVICE=WMTS&VERSION=1.0.0&STYLE=normal&TILEMATRIXSET=PM&FORMAT=image/jpeg&LAYER=ORTHOIMAGERY.ORTHOPHOTOS.IRC&TILEMATRIX={z}&TILEROW={y}&TILECOL={x}"
      }
     },
     "0b6e7da4a2b14664a0afbe35831d2302": {
      "model_module": "jupyter-leaflet",
      "model_module_version": "^0.17.0",
      "model_name": "LeafletTileLayerModel",
      "state": {
       "_model_module_version": "^0.17.0",
       "_view_module_version": "^0.17.0",
       "attribution": "Map data: (C) OpenSeaMap contributors",
       "max_zoom": 22,
       "name": "OpenSeaMap",
       "options": [
        "attribution",
        "bounds",
        "detect_retina",
        "max_native_zoom",
        "max_zoom",
        "min_native_zoom",
        "min_zoom",
        "no_wrap",
        "tile_size",
        "tms"
       ],
       "url": "https://tiles.openseamap.org/seamark/{z}/{x}/{y}.png"
      }
     },
     "0cddb56b3ab848e78037a4567f28a471": {
      "model_module": "jupyter-leaflet",
      "model_module_version": "^0.17.0",
      "model_name": "LeafletTileLayerModel",
      "state": {
       "_model_module_version": "^0.17.0",
       "_view_module_version": "^0.17.0",
       "attribution": "Geoportail France",
       "name": "GeoportailFrance.Orthoimagery_Orthophotos2002",
       "options": [
        "attribution",
        "bounds",
        "detect_retina",
        "max_native_zoom",
        "max_zoom",
        "min_native_zoom",
        "min_zoom",
        "no_wrap",
        "tile_size",
        "tms"
       ],
       "url": "https://wxs.ign.fr/orthohisto/geoportail/wmts?REQUEST=GetTile&SERVICE=WMTS&VERSION=1.0.0&STYLE=normal&TILEMATRIXSET=PM&FORMAT=image/jpeg&LAYER=ORTHOIMAGERY.ORTHOPHOTOS2002&TILEMATRIX={z}&TILEROW={y}&TILECOL={x}"
      }
     },
     "0d74b937b80f4a70992eb4445cf507ad": {
      "model_module": "jupyter-leaflet",
      "model_module_version": "^0.17.0",
      "model_name": "LeafletTileLayerModel",
      "state": {
       "_model_module_version": "^0.17.0",
       "_view_module_version": "^0.17.0",
       "attribution": "Justice Map",
       "max_zoom": 22,
       "name": "JusticeMap.nonWhite",
       "options": [
        "attribution",
        "bounds",
        "detect_retina",
        "max_native_zoom",
        "max_zoom",
        "min_native_zoom",
        "min_zoom",
        "no_wrap",
        "tile_size",
        "tms"
       ],
       "url": "https://www.justicemap.org/tile/county/nonwhite/{z}/{x}/{y}.png"
      }
     },
     "0dfc83834a6e4c33af48387c4cf6b3eb": {
      "model_module": "jupyter-leaflet",
      "model_module_version": "^0.17.0",
      "model_name": "LeafletTileLayerModel",
      "state": {
       "_model_module_version": "^0.17.0",
       "_view_module_version": "^0.17.0",
       "attribution": "Geoportail France",
       "max_zoom": 19,
       "name": "GeoportailFrance.Orthoimagery_Orthophotos_Irc_2020",
       "options": [
        "attribution",
        "bounds",
        "detect_retina",
        "max_native_zoom",
        "max_zoom",
        "min_native_zoom",
        "min_zoom",
        "no_wrap",
        "tile_size",
        "tms"
       ],
       "url": "https://wxs.ign.fr/ortho/geoportail/wmts?REQUEST=GetTile&SERVICE=WMTS&VERSION=1.0.0&STYLE=normal&TILEMATRIXSET=PM&FORMAT=image/jpeg&LAYER=ORTHOIMAGERY.ORTHOPHOTOS.IRC.2020&TILEMATRIX={z}&TILEROW={y}&TILECOL={x}"
      }
     },
     "0e177bb4b75f42fa981431775eb2ea2d": {
      "model_module": "@jupyter-widgets/controls",
      "model_module_version": "1.5.0",
      "model_name": "HBoxModel",
      "state": {
       "layout": "IPY_MODEL_83706d8dbc874dbdb28bcda831b980cf"
      }
     },
     "0f2b83aff77a477d9bc6863eb1b0e539": {
      "model_module": "jupyter-leaflet",
      "model_module_version": "^0.17.0",
      "model_name": "LeafletTileLayerModel",
      "state": {
       "_model_module_version": "^0.17.0",
       "_view_module_version": "^0.17.0",
       "attribution": "Geoportail France",
       "name": "GeoportailFrance.Orthoimagery_Orthophotos2001",
       "options": [
        "attribution",
        "bounds",
        "detect_retina",
        "max_native_zoom",
        "max_zoom",
        "min_native_zoom",
        "min_zoom",
        "no_wrap",
        "tile_size",
        "tms"
       ],
       "url": "https://wxs.ign.fr/orthohisto/geoportail/wmts?REQUEST=GetTile&SERVICE=WMTS&VERSION=1.0.0&STYLE=normal&TILEMATRIXSET=PM&FORMAT=image/jpeg&LAYER=ORTHOIMAGERY.ORTHOPHOTOS2001&TILEMATRIX={z}&TILEROW={y}&TILECOL={x}"
      }
     },
     "0f5d9dd672ab4f149f63605826165409": {
      "model_module": "jupyter-leaflet",
      "model_module_version": "^0.17.0",
      "model_name": "LeafletTileLayerModel",
      "state": {
       "_model_module_version": "^0.17.0",
       "_view_module_version": "^0.17.0",
       "attribution": "Geoportail France",
       "name": "GeoportailFrance.Orthoimagery_Ortho_sat_Pleiades_2015",
       "options": [
        "attribution",
        "bounds",
        "detect_retina",
        "max_native_zoom",
        "max_zoom",
        "min_native_zoom",
        "min_zoom",
        "no_wrap",
        "tile_size",
        "tms"
       ],
       "url": "https://wxs.ign.fr/satellite/geoportail/wmts?REQUEST=GetTile&SERVICE=WMTS&VERSION=1.0.0&STYLE=normal&TILEMATRIXSET=PM&FORMAT=image/png&LAYER=ORTHOIMAGERY.ORTHO-SAT.PLEIADES.2015&TILEMATRIX={z}&TILEROW={y}&TILECOL={x}"
      }
     },
     "0ffccbaaeccf4aa28643bdbb0ebfb7aa": {
      "model_module": "jupyter-leaflet",
      "model_module_version": "^0.17.0",
      "model_name": "LeafletTileLayerModel",
      "state": {
       "_model_module_version": "^0.17.0",
       "_view_module_version": "^0.17.0",
       "attribution": "Geoportail France",
       "name": "GeoportailFrance.Orthoimagery_Orthophotos2014",
       "options": [
        "attribution",
        "bounds",
        "detect_retina",
        "max_native_zoom",
        "max_zoom",
        "min_native_zoom",
        "min_zoom",
        "no_wrap",
        "tile_size",
        "tms"
       ],
       "url": "https://wxs.ign.fr/orthohisto/geoportail/wmts?REQUEST=GetTile&SERVICE=WMTS&VERSION=1.0.0&STYLE=normal&TILEMATRIXSET=PM&FORMAT=image/jpeg&LAYER=ORTHOIMAGERY.ORTHOPHOTOS2014&TILEMATRIX={z}&TILEROW={y}&TILECOL={x}"
      }
     },
     "10f17ed8be4d40d0b586534fe69665ab": {
      "model_module": "@jupyter-widgets/controls",
      "model_module_version": "1.5.0",
      "model_name": "HTMLModel",
      "state": {
       "layout": "IPY_MODEL_464d66d4bb694bd6ad9b39bfc5a0addd",
       "style": "IPY_MODEL_2b9781d1d2d845fcab9157729a659f35",
       "value": "<b>1. Select Data Folder Button</b>                 <br> - When CoastSat downloads imagery it created a folder called 'data'in the CoastSeg directory.                    The jpgs within the 'data' folder will be copied to another folder with a name such as                    <span style=\"background-color:LightGray;color: black;\">segmentation_data_2022-07-07__10_hr_04_min58 </span>                    (the date and time will be the current date and time) <br>                 The model will be applied to this folder and the model outputs will be generated within a subdirectory                     called 'out'"
      }
     },
     "10fe1ab600fd46ad9265a61c5b73c5a2": {
      "model_module": "jupyter-leaflet",
      "model_module_version": "^0.17.0",
      "model_name": "LeafletTileLayerModel",
      "state": {
       "_model_module_version": "^0.17.0",
       "_view_module_version": "^0.17.0",
       "attribution": "Geoportail France",
       "max_zoom": 15,
       "name": "GeoportailFrance.Geographicalgridsystems_Etatmajor40",
       "options": [
        "attribution",
        "bounds",
        "detect_retina",
        "max_native_zoom",
        "max_zoom",
        "min_native_zoom",
        "min_zoom",
        "no_wrap",
        "tile_size",
        "tms"
       ],
       "url": "https://wxs.ign.fr/cartes/geoportail/wmts?REQUEST=GetTile&SERVICE=WMTS&VERSION=1.0.0&STYLE=normal&TILEMATRIXSET=PM&FORMAT=image/jpeg&LAYER=GEOGRAPHICALGRIDSYSTEMS.ETATMAJOR40&TILEMATRIX={z}&TILEROW={y}&TILECOL={x}"
      }
     },
     "11251559fab2434da2c8c4a1f86f9ae5": {
      "model_module": "jupyter-leaflet",
      "model_module_version": "^0.17.0",
      "model_name": "LeafletTileLayerModel",
      "state": {
       "_model_module_version": "^0.17.0",
       "_view_module_version": "^0.17.0",
       "attribution": "Geoportail France",
       "max_zoom": 16,
       "name": "GeoportailFrance.Landcover_Cha12_dom",
       "options": [
        "attribution",
        "bounds",
        "detect_retina",
        "max_native_zoom",
        "max_zoom",
        "min_native_zoom",
        "min_zoom",
        "no_wrap",
        "tile_size",
        "tms"
       ],
       "url": "https://wxs.ign.fr/clc/geoportail/wmts?REQUEST=GetTile&SERVICE=WMTS&VERSION=1.0.0&STYLE=CORINE Land Cover - DOM&TILEMATRIXSET=PM&FORMAT=image/png&LAYER=LANDCOVER.CHA12_DOM&TILEMATRIX={z}&TILEROW={y}&TILECOL={x}"
      }
     },
     "12cb69803d1045d8bb07d6907e7467e0": {
      "model_module": "jupyter-leaflet",
      "model_module_version": "^0.17.0",
      "model_name": "LeafletTileLayerModel",
      "state": {
       "_model_module_version": "^0.17.0",
       "_view_module_version": "^0.17.0",
       "attribution": "© swisstopo",
       "name": "SwissFederalGeoportal.NationalMapGrey",
       "options": [
        "attribution",
        "bounds",
        "detect_retina",
        "max_native_zoom",
        "max_zoom",
        "min_native_zoom",
        "min_zoom",
        "no_wrap",
        "tile_size",
        "tms"
       ],
       "url": "https://wmts.geo.admin.ch/1.0.0/ch.swisstopo.pixelkarte-grau/default/current/3857/{z}/{x}/{y}.jpeg"
      }
     },
     "1300bfdbc14e436d90edec2941e66af5": {
      "model_module": "jupyter-leaflet",
      "model_module_version": "^0.17.0",
      "model_name": "LeafletTileLayerModel",
      "state": {
       "_model_module_version": "^0.17.0",
       "_view_module_version": "^0.17.0",
       "attribution": "Datenquelle: basemap.at",
       "max_zoom": 19,
       "name": "BasemapAT.terrain",
       "options": [
        "attribution",
        "bounds",
        "detect_retina",
        "max_native_zoom",
        "max_zoom",
        "min_native_zoom",
        "min_zoom",
        "no_wrap",
        "tile_size",
        "tms"
       ],
       "url": "https://maps.wien.gv.at/basemap/bmapgelaende/grau/google3857/{z}/{y}/{x}.jpeg"
      }
     },
     "14f4c07e8e314950b9a5ef6b3a578cd8": {
      "model_module": "jupyter-leaflet",
      "model_module_version": "^0.17.0",
      "model_name": "LeafletTileLayerModel",
      "state": {
       "_model_module_version": "^0.17.0",
       "_view_module_version": "^0.17.0",
       "attribution": "Geoportail France",
       "name": "GeoportailFrance.Orthoimagery_Ortho_sat_Pleiades_2012",
       "options": [
        "attribution",
        "bounds",
        "detect_retina",
        "max_native_zoom",
        "max_zoom",
        "min_native_zoom",
        "min_zoom",
        "no_wrap",
        "tile_size",
        "tms"
       ],
       "url": "https://wxs.ign.fr/satellite/geoportail/wmts?REQUEST=GetTile&SERVICE=WMTS&VERSION=1.0.0&STYLE=normal&TILEMATRIXSET=PM&FORMAT=image/png&LAYER=ORTHOIMAGERY.ORTHO-SAT.PLEIADES.2012&TILEMATRIX={z}&TILEROW={y}&TILECOL={x}"
      }
     },
     "1521e55ea702447b9deee753e82410c8": {
      "model_module": "jupyter-leaflet",
      "model_module_version": "^0.17.0",
      "model_name": "LeafletTileLayerModel",
      "state": {
       "_model_module_version": "^0.17.0",
       "_view_module_version": "^0.17.0",
       "attribution": "Geoportail France",
       "max_zoom": 17,
       "name": "GeoportailFrance.Elevation_Elevationgridcoverage_Threshold",
       "options": [
        "attribution",
        "bounds",
        "detect_retina",
        "max_native_zoom",
        "max_zoom",
        "min_native_zoom",
        "min_zoom",
        "no_wrap",
        "tile_size",
        "tms"
       ],
       "url": "https://wxs.ign.fr/altimetrie/geoportail/wmts?REQUEST=GetTile&SERVICE=WMTS&VERSION=1.0.0&STYLE=ELEVATION.ELEVATIONGRIDCOVERAGE.THRESHOLD&TILEMATRIXSET=PM&FORMAT=image/png&LAYER=ELEVATION.ELEVATIONGRIDCOVERAGE.THRESHOLD&TILEMATRIX={z}&TILEROW={y}&TILECOL={x}"
      }
     },
     "15ccf70d3b0b4a4d80d14bf012e16881": {
      "model_module": "jupyter-leaflet",
      "model_module_version": "^0.17.0",
      "model_name": "LeafletTileLayerModel",
      "state": {
       "_model_module_version": "^0.17.0",
       "_view_module_version": "^0.17.0",
       "attribution": "Geoportail France",
       "max_zoom": 17,
       "name": "GeoportailFrance.Securoute_Te_All",
       "options": [
        "attribution",
        "bounds",
        "detect_retina",
        "max_native_zoom",
        "max_zoom",
        "min_native_zoom",
        "min_zoom",
        "no_wrap",
        "tile_size",
        "tms"
       ],
       "url": "https://wxs.ign.fr/transports/geoportail/wmts?REQUEST=GetTile&SERVICE=WMTS&VERSION=1.0.0&STYLE=TOUS LES FRANCHISSEMENTS&TILEMATRIXSET=PM&FORMAT=image/png&LAYER=SECUROUTE.TE.ALL&TILEMATRIX={z}&TILEROW={y}&TILECOL={x}"
      }
     },
     "16481bfcd8a64bccab38a9f47de6f980": {
      "model_module": "jupyter-leaflet",
      "model_module_version": "^0.17.0",
      "model_name": "LeafletTileLayerModel",
      "state": {
       "_model_module_version": "^0.17.0",
       "_view_module_version": "^0.17.0",
       "attribution": "Geoportail France",
       "max_zoom": 13,
       "name": "GeoportailFrance.Landcover_Hr_Tcd_Clc12",
       "options": [
        "attribution",
        "bounds",
        "detect_retina",
        "max_native_zoom",
        "max_zoom",
        "min_native_zoom",
        "min_zoom",
        "no_wrap",
        "tile_size",
        "tms"
       ],
       "url": "https://wxs.ign.fr/clc/geoportail/wmts?REQUEST=GetTile&SERVICE=WMTS&VERSION=1.0.0&STYLE=CORINE Land Cover - HR - taux de couvert arboré&TILEMATRIXSET=PM&FORMAT=image/png&LAYER=LANDCOVER.HR.TCD.CLC12&TILEMATRIX={z}&TILEROW={y}&TILECOL={x}"
      }
     },
     "1850075a7c4b442da15e6adc1b655086": {
      "model_module": "jupyter-leaflet",
      "model_module_version": "^0.17.0",
      "model_name": "LeafletTileLayerModel",
      "state": {
       "_model_module_version": "^0.17.0",
       "_view_module_version": "^0.17.0",
       "attribution": "Geoportail France",
       "max_zoom": 16,
       "name": "GeoportailFrance.Protectedareas_Mnhn_Cdl_Parcels",
       "options": [
        "attribution",
        "bounds",
        "detect_retina",
        "max_native_zoom",
        "max_zoom",
        "min_native_zoom",
        "min_zoom",
        "no_wrap",
        "tile_size",
        "tms"
       ],
       "url": "https://wxs.ign.fr/environnement/geoportail/wmts?REQUEST=GetTile&SERVICE=WMTS&VERSION=1.0.0&STYLE=normal&TILEMATRIXSET=PM&FORMAT=image/png&LAYER=PROTECTEDAREAS.MNHN.CDL.PARCELS&TILEMATRIX={z}&TILEROW={y}&TILECOL={x}"
      }
     },
     "18bdb00670f6441695d02ca82221b5be": {
      "model_module": "jupyter-leaflet",
      "model_module_version": "^0.17.0",
      "model_name": "LeafletTileLayerModel",
      "state": {
       "_model_module_version": "^0.17.0",
       "_view_module_version": "^0.17.0",
       "attribution": "Geoportail France",
       "max_zoom": 16,
       "name": "GeoportailFrance.Landuse_Agriculture2012",
       "options": [
        "attribution",
        "bounds",
        "detect_retina",
        "max_native_zoom",
        "max_zoom",
        "min_native_zoom",
        "min_zoom",
        "no_wrap",
        "tile_size",
        "tms"
       ],
       "url": "https://wxs.ign.fr/agriculture/geoportail/wmts?REQUEST=GetTile&SERVICE=WMTS&VERSION=1.0.0&STYLE=normal&TILEMATRIXSET=PM&FORMAT=image/png&LAYER=LANDUSE.AGRICULTURE2012&TILEMATRIX={z}&TILEROW={y}&TILECOL={x}"
      }
     },
     "19d1ff7cf6a5413caed301b4c697c3ab": {
      "model_module": "jupyter-leaflet",
      "model_module_version": "^0.17.0",
      "model_name": "LeafletTileLayerModel",
      "state": {
       "_model_module_version": "^0.17.0",
       "_view_module_version": "^0.17.0",
       "attribution": "Geoportail France",
       "max_zoom": 16,
       "name": "GeoportailFrance.Forets_Publiques",
       "options": [
        "attribution",
        "bounds",
        "detect_retina",
        "max_native_zoom",
        "max_zoom",
        "min_native_zoom",
        "min_zoom",
        "no_wrap",
        "tile_size",
        "tms"
       ],
       "url": "https://wxs.ign.fr/environnement/geoportail/wmts?REQUEST=GetTile&SERVICE=WMTS&VERSION=1.0.0&STYLE=FORETS PUBLIQUES ONF&TILEMATRIXSET=PM&FORMAT=image/png&LAYER=FORETS.PUBLIQUES&TILEMATRIX={z}&TILEROW={y}&TILECOL={x}"
      }
     },
     "19d4ab932ebd456b92691dee79cd418f": {
      "model_module": "jupyter-leaflet",
      "model_module_version": "^0.17.0",
      "model_name": "LeafletTileLayerModel",
      "state": {
       "_model_module_version": "^0.17.0",
       "_view_module_version": "^0.17.0",
       "attribution": "Map data: (C) OpenStreetMap contributors | Map style: (C) waymarkedtrails.org (CC-BY-SA)",
       "name": "WaymarkedTrails.cycling",
       "options": [
        "attribution",
        "bounds",
        "detect_retina",
        "max_native_zoom",
        "max_zoom",
        "min_native_zoom",
        "min_zoom",
        "no_wrap",
        "tile_size",
        "tms"
       ],
       "url": "https://tile.waymarkedtrails.org/cycling/{z}/{x}/{y}.png"
      }
     },
     "19f4b5165d994964b4fcf1580d7f8431": {
      "model_module": "jupyter-leaflet",
      "model_module_version": "^0.17.0",
      "model_name": "LeafletTileLayerModel",
      "state": {
       "_model_module_version": "^0.17.0",
       "_view_module_version": "^0.17.0",
       "attribution": "![](https://docs.onemap.sg/maps/images/oneMap64-01.png) New OneMap | Map data (C) contributors, Singapore Land Authority",
       "name": "OneMapSG.LandLot",
       "options": [
        "attribution",
        "bounds",
        "detect_retina",
        "max_native_zoom",
        "max_zoom",
        "min_native_zoom",
        "min_zoom",
        "no_wrap",
        "tile_size",
        "tms"
       ],
       "url": "https://maps-a.onemap.sg/v3/LandLot/{z}/{x}/{y}.png"
      }
     },
     "1a063b8d479a42a3a610efd365248c99": {
      "model_module": "jupyter-leaflet",
      "model_module_version": "^0.17.0",
      "model_name": "LeafletTileLayerModel",
      "state": {
       "_model_module_version": "^0.17.0",
       "_view_module_version": "^0.17.0",
       "attribution": "Geoportail France",
       "max_zoom": 17,
       "name": "GeoportailFrance.Orthoimagery_Ortho_sat_Spot_2014",
       "options": [
        "attribution",
        "bounds",
        "detect_retina",
        "max_native_zoom",
        "max_zoom",
        "min_native_zoom",
        "min_zoom",
        "no_wrap",
        "tile_size",
        "tms"
       ],
       "url": "https://wxs.ign.fr/satellite/geoportail/wmts?REQUEST=GetTile&SERVICE=WMTS&VERSION=1.0.0&STYLE=normal&TILEMATRIXSET=PM&FORMAT=image/jpeg&LAYER=ORTHOIMAGERY.ORTHO-SAT.SPOT.2014&TILEMATRIX={z}&TILEROW={y}&TILECOL={x}"
      }
     },
     "1abd7362857f49abbdd7462b70394e72": {
      "model_module": "jupyter-leaflet",
      "model_module_version": "^0.17.0",
      "model_name": "LeafletTileLayerModel",
      "state": {
       "_model_module_version": "^0.17.0",
       "_view_module_version": "^0.17.0",
       "attribution": "Geoportail France",
       "name": "GeoportailFrance.Elevation_Contour_Line",
       "options": [
        "attribution",
        "bounds",
        "detect_retina",
        "max_native_zoom",
        "max_zoom",
        "min_native_zoom",
        "min_zoom",
        "no_wrap",
        "tile_size",
        "tms"
       ],
       "url": "https://wxs.ign.fr/altimetrie/geoportail/wmts?REQUEST=GetTile&SERVICE=WMTS&VERSION=1.0.0&STYLE=normal&TILEMATRIXSET=PM&FORMAT=image/png&LAYER=ELEVATION.CONTOUR.LINE&TILEMATRIX={z}&TILEROW={y}&TILECOL={x}"
      }
     },
     "1c9c0c93c4b643e8a76da601091204e6": {
      "model_module": "jupyter-leaflet",
      "model_module_version": "^0.17.0",
      "model_name": "LeafletTileLayerModel",
      "state": {
       "_model_module_version": "^0.17.0",
       "_view_module_version": "^0.17.0",
       "attribution": "Geoportail France",
       "max_zoom": 16,
       "name": "GeoportailFrance.Protectedareas_Rncf",
       "options": [
        "attribution",
        "bounds",
        "detect_retina",
        "max_native_zoom",
        "max_zoom",
        "min_native_zoom",
        "min_zoom",
        "no_wrap",
        "tile_size",
        "tms"
       ],
       "url": "https://wxs.ign.fr/environnement/geoportail/wmts?REQUEST=GetTile&SERVICE=WMTS&VERSION=1.0.0&STYLE=normal&TILEMATRIXSET=PM&FORMAT=image/png&LAYER=PROTECTEDAREAS.RNCF&TILEMATRIX={z}&TILEROW={y}&TILECOL={x}"
      }
     },
     "1d01bbaf5b084aacb6eb45093be7dc90": {
      "model_module": "jupyter-leaflet",
      "model_module_version": "^0.17.0",
      "model_name": "LeafletTileLayerModel",
      "state": {
       "_model_module_version": "^0.17.0",
       "_view_module_version": "^0.17.0",
       "attribution": "Geoportail France",
       "max_zoom": 13,
       "name": "GeoportailFrance.Landcover_Grid_Clc00",
       "options": [
        "attribution",
        "bounds",
        "detect_retina",
        "max_native_zoom",
        "max_zoom",
        "min_native_zoom",
        "min_zoom",
        "no_wrap",
        "tile_size",
        "tms"
       ],
       "url": "https://wxs.ign.fr/clc/geoportail/wmts?REQUEST=GetTile&SERVICE=WMTS&VERSION=1.0.0&STYLE=CORINE Land Cover&TILEMATRIXSET=PM&FORMAT=image/png&LAYER=LANDCOVER.GRID.CLC00&TILEMATRIX={z}&TILEROW={y}&TILECOL={x}"
      }
     },
     "1d97b861765440268b1657f4ac1c17ae": {
      "model_module": "jupyter-leaflet",
      "model_module_version": "^0.17.0",
      "model_name": "LeafletTileLayerModel",
      "state": {
       "_model_module_version": "^0.17.0",
       "_view_module_version": "^0.17.0",
       "attribution": "Geoportail France",
       "max_zoom": 13,
       "name": "GeoportailFrance.Landcover_Hr_Tcd_Clc15",
       "options": [
        "attribution",
        "bounds",
        "detect_retina",
        "max_native_zoom",
        "max_zoom",
        "min_native_zoom",
        "min_zoom",
        "no_wrap",
        "tile_size",
        "tms"
       ],
       "url": "https://wxs.ign.fr/clc/geoportail/wmts?REQUEST=GetTile&SERVICE=WMTS&VERSION=1.0.0&STYLE=CORINE Land Cover - HR - taux de couvert arboré&TILEMATRIXSET=PM&FORMAT=image/png&LAYER=LANDCOVER.HR.TCD.CLC15&TILEMATRIX={z}&TILEROW={y}&TILECOL={x}"
      }
     },
     "1dad4a1a81e84f2397c596806f9657ff": {
      "model_module": "jupyter-leaflet",
      "model_module_version": "^0.17.0",
      "model_name": "LeafletTileLayerModel",
      "state": {
       "_model_module_version": "^0.17.0",
       "_view_module_version": "^0.17.0",
       "attribution": "Tiles (C) Esri -- Esri, DeLorme, NAVTEQ, TomTom, Intermap, iPC, USGS, FAO, NPS, NRCAN, GeoBase, Kadaster NL, Ordnance Survey, Esri Japan, METI, Esri China (Hong Kong), and the GIS User Community",
       "max_zoom": 22,
       "name": "Esri.WorldTopoMap",
       "options": [
        "attribution",
        "bounds",
        "detect_retina",
        "max_native_zoom",
        "max_zoom",
        "min_native_zoom",
        "min_zoom",
        "no_wrap",
        "tile_size",
        "tms"
       ],
       "url": "https://server.arcgisonline.com/ArcGIS/rest/services/World_Topo_Map/MapServer/tile/{z}/{y}/{x}"
      }
     },
     "1e00cd56f96b47daa15a26fdb0246ad8": {
      "model_module": "jupyter-leaflet",
      "model_module_version": "^0.17.0",
      "model_name": "LeafletTileLayerModel",
      "state": {
       "_model_module_version": "^0.17.0",
       "_view_module_version": "^0.17.0",
       "attribution": "Geoportail France",
       "max_zoom": 16,
       "name": "GeoportailFrance.Ocsge_Constructions_2014",
       "options": [
        "attribution",
        "bounds",
        "detect_retina",
        "max_native_zoom",
        "max_zoom",
        "min_native_zoom",
        "min_zoom",
        "no_wrap",
        "tile_size",
        "tms"
       ],
       "url": "https://wxs.ign.fr/ocsge/geoportail/wmts?REQUEST=GetTile&SERVICE=WMTS&VERSION=1.0.0&STYLE=nolegend&TILEMATRIXSET=PM&FORMAT=image/png&LAYER=OCSGE.CONSTRUCTIONS.2014&TILEMATRIX={z}&TILEROW={y}&TILECOL={x}"
      }
     },
     "1e1a0a602f814d208b44ffb57b66c807": {
      "model_module": "jupyter-leaflet",
      "model_module_version": "^0.17.0",
      "model_name": "LeafletTileLayerModel",
      "state": {
       "_model_module_version": "^0.17.0",
       "_view_module_version": "^0.17.0",
       "attribution": "Geoportail France",
       "max_zoom": 16,
       "name": "GeoportailFrance.Adminexpress_cog_Latest",
       "options": [
        "attribution",
        "bounds",
        "detect_retina",
        "max_native_zoom",
        "max_zoom",
        "min_native_zoom",
        "min_zoom",
        "no_wrap",
        "tile_size",
        "tms"
       ],
       "url": "https://wxs.ign.fr/administratif/geoportail/wmts?REQUEST=GetTile&SERVICE=WMTS&VERSION=1.0.0&STYLE=normal&TILEMATRIXSET=PM&FORMAT=image/png&LAYER=ADMINEXPRESS-COG.LATEST&TILEMATRIX={z}&TILEROW={y}&TILECOL={x}"
      }
     },
     "1e490c497e1847629fff64c20462e0d9": {
      "model_module": "@jupyter-widgets/base",
      "model_module_version": "1.2.0",
      "model_name": "LayoutModel",
      "state": {}
     },
     "1ee3200e00974ac490d262a085b4f26d": {
      "model_module": "jupyter-leaflet",
      "model_module_version": "^0.17.0",
      "model_name": "LeafletTileLayerModel",
      "state": {
       "_model_module_version": "^0.17.0",
       "_view_module_version": "^0.17.0",
       "attribution": "Geoportail France",
       "max_zoom": 16,
       "name": "GeoportailFrance.Insee_Filosofi_Part_Menages_1_Personne_Secret",
       "options": [
        "attribution",
        "bounds",
        "detect_retina",
        "max_native_zoom",
        "max_zoom",
        "min_native_zoom",
        "min_zoom",
        "no_wrap",
        "tile_size",
        "tms"
       ],
       "url": "https://wxs.ign.fr/economie/geoportail/wmts?REQUEST=GetTile&SERVICE=WMTS&VERSION=1.0.0&STYLE=INSEE&TILEMATRIXSET=PM&FORMAT=image/png&LAYER=INSEE.FILOSOFI.PART.MENAGES.1.PERSONNE.SECRET&TILEMATRIX={z}&TILEROW={y}&TILECOL={x}"
      }
     },
     "1f308f9b57834c01911040c759d942fc": {
      "model_module": "jupyter-leaflet",
      "model_module_version": "^0.17.0",
      "model_name": "LeafletTileLayerModel",
      "state": {
       "_model_module_version": "^0.17.0",
       "_view_module_version": "^0.17.0",
       "attribution": "Geoportail France",
       "max_zoom": 17,
       "name": "GeoportailFrance.Securoute_Te_Pn",
       "options": [
        "attribution",
        "bounds",
        "detect_retina",
        "max_native_zoom",
        "max_zoom",
        "min_native_zoom",
        "min_zoom",
        "no_wrap",
        "tile_size",
        "tms"
       ],
       "url": "https://wxs.ign.fr/transports/geoportail/wmts?REQUEST=GetTile&SERVICE=WMTS&VERSION=1.0.0&STYLE=FRANCHISSEMENTS PASSAGE A NIVEAU&TILEMATRIXSET=PM&FORMAT=image/png&LAYER=SECUROUTE.TE.PN&TILEMATRIX={z}&TILEROW={y}&TILECOL={x}"
      }
     },
     "1fc59263e1174f6caebbb89998ce04af": {
      "model_module": "jupyter-leaflet",
      "model_module_version": "^0.17.0",
      "model_name": "LeafletTileLayerModel",
      "state": {
       "_model_module_version": "^0.17.0",
       "_view_module_version": "^0.17.0",
       "attribution": "Geoportail France",
       "max_zoom": 16,
       "name": "GeoportailFrance.Landuse_Agriculture2013",
       "options": [
        "attribution",
        "bounds",
        "detect_retina",
        "max_native_zoom",
        "max_zoom",
        "min_native_zoom",
        "min_zoom",
        "no_wrap",
        "tile_size",
        "tms"
       ],
       "url": "https://wxs.ign.fr/agriculture/geoportail/wmts?REQUEST=GetTile&SERVICE=WMTS&VERSION=1.0.0&STYLE=normal&TILEMATRIXSET=PM&FORMAT=image/png&LAYER=LANDUSE.AGRICULTURE2013&TILEMATRIX={z}&TILEROW={y}&TILECOL={x}"
      }
     },
     "2157455e88a84523bd765601389fa507": {
      "model_module": "jupyter-leaflet",
      "model_module_version": "^0.17.0",
      "model_name": "LeafletTileLayerModel",
      "state": {
       "_model_module_version": "^0.17.0",
       "_view_module_version": "^0.17.0",
       "attribution": "Map tiles by Stamen Design, CC BY 3.0 -- Map data (C) OpenStreetMap contributors",
       "max_zoom": 20,
       "name": "Stamen.TonerLite",
       "options": [
        "attribution",
        "bounds",
        "detect_retina",
        "max_native_zoom",
        "max_zoom",
        "min_native_zoom",
        "min_zoom",
        "no_wrap",
        "tile_size",
        "tms"
       ],
       "url": "https://stamen-tiles-a.a.ssl.fastly.net/toner-lite/{z}/{x}/{y}.png"
      }
     },
     "23489c5a86214cf7af40e42057a1a595": {
      "model_module": "jupyter-leaflet",
      "model_module_version": "^0.17.0",
      "model_name": "LeafletTileLayerModel",
      "state": {
       "_model_module_version": "^0.17.0",
       "_view_module_version": "^0.17.0",
       "attribution": "![](https://docs.onemap.sg/maps/images/oneMap64-01.png) New OneMap | Map data (C) contributors, Singapore Land Authority",
       "name": "OneMapSG.Grey",
       "options": [
        "attribution",
        "bounds",
        "detect_retina",
        "max_native_zoom",
        "max_zoom",
        "min_native_zoom",
        "min_zoom",
        "no_wrap",
        "tile_size",
        "tms"
       ],
       "url": "https://maps-a.onemap.sg/v3/Grey/{z}/{x}/{y}.png"
      }
     },
     "23c6af2de8a242ca90e20148f7093989": {
      "model_module": "jupyter-leaflet",
      "model_module_version": "^0.17.0",
      "model_name": "LeafletTileLayerModel",
      "state": {
       "_model_module_version": "^0.17.0",
       "_view_module_version": "^0.17.0",
       "attribution": "Geoportail France",
       "max_zoom": 16,
       "name": "GeoportailFrance.Landcover_Cha12_fr",
       "options": [
        "attribution",
        "bounds",
        "detect_retina",
        "max_native_zoom",
        "max_zoom",
        "min_native_zoom",
        "min_zoom",
        "no_wrap",
        "tile_size",
        "tms"
       ],
       "url": "https://wxs.ign.fr/clc/geoportail/wmts?REQUEST=GetTile&SERVICE=WMTS&VERSION=1.0.0&STYLE=CORINE Land Cover - France métropolitaine&TILEMATRIXSET=PM&FORMAT=image/png&LAYER=LANDCOVER.CHA12_FR&TILEMATRIX={z}&TILEROW={y}&TILECOL={x}"
      }
     },
     "243f91341d1d4dbc8c49b1636209366f": {
      "model_module": "jupyter-leaflet",
      "model_module_version": "^0.17.0",
      "model_name": "LeafletTileLayerModel",
      "state": {
       "_model_module_version": "^0.17.0",
       "_view_module_version": "^0.17.0",
       "attribution": "(C) OpenStreetMap contributors (C) CARTO",
       "max_zoom": 20,
       "name": "CartoDB.VoyagerOnlyLabels",
       "options": [
        "attribution",
        "bounds",
        "detect_retina",
        "max_native_zoom",
        "max_zoom",
        "min_native_zoom",
        "min_zoom",
        "no_wrap",
        "tile_size",
        "tms"
       ],
       "url": "https://a.basemaps.cartocdn.com/rastertiles/voyager_only_labels/{z}/{x}/{y}.png"
      }
     },
     "24e547d9a6a9492b831c97dd7d11e3e0": {
      "model_module": "jupyter-leaflet",
      "model_module_version": "^0.17.0",
      "model_name": "LeafletTileLayerModel",
      "state": {
       "_model_module_version": "^0.17.0",
       "_view_module_version": "^0.17.0",
       "attribution": "Geoportail France",
       "max_zoom": 19,
       "name": "GeoportailFrance.Orthoimagery_Orthophotos_Irc_express_2019",
       "options": [
        "attribution",
        "bounds",
        "detect_retina",
        "max_native_zoom",
        "max_zoom",
        "min_native_zoom",
        "min_zoom",
        "no_wrap",
        "tile_size",
        "tms"
       ],
       "url": "https://wxs.ign.fr/orthohisto/geoportail/wmts?REQUEST=GetTile&SERVICE=WMTS&VERSION=1.0.0&STYLE=normal&TILEMATRIXSET=PM&FORMAT=image/jpeg&LAYER=ORTHOIMAGERY.ORTHOPHOTOS.IRC-EXPRESS.2019&TILEMATRIX={z}&TILEROW={y}&TILECOL={x}"
      }
     },
     "252b732fdebf4ef7913a9078aefea1ad": {
      "model_module": "@jupyter-widgets/controls",
      "model_module_version": "1.5.0",
      "model_name": "DescriptionStyleModel",
      "state": {
       "description_width": ""
      }
     },
     "253963faea56496cb740824cce5914e1": {
      "model_module": "jupyter-leaflet",
      "model_module_version": "^0.17.0",
      "model_name": "LeafletTileLayerModel",
      "state": {
       "_model_module_version": "^0.17.0",
       "_view_module_version": "^0.17.0",
       "attribution": "Imagery provided by services from the Global Imagery Browse Services (GIBS), operated by the NASA/GSFC/Earth Science Data and Information System (ESDIS) with funding provided by NASA/HQ.",
       "max_zoom": 8,
       "name": "NASAGIBS.ModisTerraSnowCover",
       "options": [
        "attribution",
        "bounds",
        "detect_retina",
        "max_native_zoom",
        "max_zoom",
        "min_native_zoom",
        "min_zoom",
        "no_wrap",
        "tile_size",
        "tms"
       ],
       "url": "https://map1.vis.earthdata.nasa.gov/wmts-webmerc/MODIS_Terra_NDSI_Snow_Cover/default//GoogleMapsCompatible_Level8/{z}/{y}/{x}.png"
      }
     },
     "25ae7563030f4040b333c2b386263d81": {
      "model_module": "jupyter-leaflet",
      "model_module_version": "^0.17.0",
      "model_name": "LeafletTileLayerModel",
      "state": {
       "_model_module_version": "^0.17.0",
       "_view_module_version": "^0.17.0",
       "attribution": "Geoportail France",
       "max_zoom": 15,
       "name": "GeoportailFrance.Transports_Drones_Restrictions",
       "options": [
        "attribution",
        "bounds",
        "detect_retina",
        "max_native_zoom",
        "max_zoom",
        "min_native_zoom",
        "min_zoom",
        "no_wrap",
        "tile_size",
        "tms"
       ],
       "url": "https://wxs.ign.fr/transports/geoportail/wmts?REQUEST=GetTile&SERVICE=WMTS&VERSION=1.0.0&STYLE=normal&TILEMATRIXSET=PM&FORMAT=image/png&LAYER=TRANSPORTS.DRONES.RESTRICTIONS&TILEMATRIX={z}&TILEROW={y}&TILECOL={x}"
      }
     },
     "25c66e582240464296d934a068947e9e": {
      "model_module": "jupyter-leaflet",
      "model_module_version": "^0.17.0",
      "model_name": "LeafletTileLayerModel",
      "state": {
       "_model_module_version": "^0.17.0",
       "_view_module_version": "^0.17.0",
       "attribution": "Map data: (C) OpenStreetMap contributors & ODbL, (C) www.opensnowmap.org CC-BY-SA",
       "name": "OpenSnowMap.pistes",
       "options": [
        "attribution",
        "bounds",
        "detect_retina",
        "max_native_zoom",
        "max_zoom",
        "min_native_zoom",
        "min_zoom",
        "no_wrap",
        "tile_size",
        "tms"
       ],
       "url": "https://tiles.opensnowmap.org/pistes/{z}/{x}/{y}.png"
      }
     },
     "26298253ae7048fca3cde54f2b89715d": {
      "model_module": "jupyter-leaflet",
      "model_module_version": "^0.17.0",
      "model_name": "LeafletTileLayerModel",
      "state": {
       "_model_module_version": "^0.17.0",
       "_view_module_version": "^0.17.0",
       "attribution": "Geoportail France",
       "name": "GeoportailFrance.Orthoimagery_Orthophotos2015",
       "options": [
        "attribution",
        "bounds",
        "detect_retina",
        "max_native_zoom",
        "max_zoom",
        "min_native_zoom",
        "min_zoom",
        "no_wrap",
        "tile_size",
        "tms"
       ],
       "url": "https://wxs.ign.fr/orthohisto/geoportail/wmts?REQUEST=GetTile&SERVICE=WMTS&VERSION=1.0.0&STYLE=normal&TILEMATRIXSET=PM&FORMAT=image/jpeg&LAYER=ORTHOIMAGERY.ORTHOPHOTOS2015&TILEMATRIX={z}&TILEROW={y}&TILECOL={x}"
      }
     },
     "2678b62778b240ab88c43d87d3c901db": {
      "model_module": "@jupyter-widgets/base",
      "model_module_version": "1.2.0",
      "model_name": "LayoutModel",
      "state": {
       "margin": "0px 0px 0px 20px"
      }
     },
     "2846ba9ac6204964b601f4eb708d1ee4": {
      "model_module": "jupyter-leaflet",
      "model_module_version": "^0.17.0",
      "model_name": "LeafletTileLayerModel",
      "state": {
       "_model_module_version": "^0.17.0",
       "_view_module_version": "^0.17.0",
       "attribution": "Geoportail France",
       "max_zoom": 16,
       "name": "GeoportailFrance.Insee_Filosofi_Part_Logements_Collectifs_Secret",
       "options": [
        "attribution",
        "bounds",
        "detect_retina",
        "max_native_zoom",
        "max_zoom",
        "min_native_zoom",
        "min_zoom",
        "no_wrap",
        "tile_size",
        "tms"
       ],
       "url": "https://wxs.ign.fr/economie/geoportail/wmts?REQUEST=GetTile&SERVICE=WMTS&VERSION=1.0.0&STYLE=INSEE&TILEMATRIXSET=PM&FORMAT=image/png&LAYER=INSEE.FILOSOFI.PART.LOGEMENTS.COLLECTIFS.SECRET&TILEMATRIX={z}&TILEROW={y}&TILECOL={x}"
      }
     },
     "286c09cf74b547ddac5df7d82751ea27": {
      "model_module": "jupyter-leaflet",
      "model_module_version": "^0.17.0",
      "model_name": "LeafletTileLayerModel",
      "state": {
       "_model_module_version": "^0.17.0",
       "_view_module_version": "^0.17.0",
       "attribution": "Geoportail France",
       "max_zoom": 16,
       "name": "GeoportailFrance.Protectedareas_Pnm",
       "options": [
        "attribution",
        "bounds",
        "detect_retina",
        "max_native_zoom",
        "max_zoom",
        "min_native_zoom",
        "min_zoom",
        "no_wrap",
        "tile_size",
        "tms"
       ],
       "url": "https://wxs.ign.fr/environnement/geoportail/wmts?REQUEST=GetTile&SERVICE=WMTS&VERSION=1.0.0&STYLE=normal&TILEMATRIXSET=PM&FORMAT=image/png&LAYER=PROTECTEDAREAS.PNM&TILEMATRIX={z}&TILEROW={y}&TILECOL={x}"
      }
     },
     "28773131944a4ed2aeb50f9719b5fae1": {
      "model_module": "jupyter-leaflet",
      "model_module_version": "^0.17.0",
      "model_name": "LeafletTileLayerModel",
      "state": {
       "_model_module_version": "^0.17.0",
       "_view_module_version": "^0.17.0",
       "attribution": "Map data: (C) OpenStreetMap contributors | Map style: (C) waymarkedtrails.org (CC-BY-SA)",
       "name": "WaymarkedTrails.hiking",
       "options": [
        "attribution",
        "bounds",
        "detect_retina",
        "max_native_zoom",
        "max_zoom",
        "min_native_zoom",
        "min_zoom",
        "no_wrap",
        "tile_size",
        "tms"
       ],
       "url": "https://tile.waymarkedtrails.org/hiking/{z}/{x}/{y}.png"
      }
     },
     "287fb5be28f0444da8c8e8f66de0815b": {
      "model_module": "jupyter-leaflet",
      "model_module_version": "^0.17.0",
      "model_name": "LeafletTileLayerModel",
      "state": {
       "_model_module_version": "^0.17.0",
       "_view_module_version": "^0.17.0",
       "attribution": "Map tiles by Stamen Design, CC BY 3.0 -- Map data (C) OpenStreetMap contributors",
       "max_zoom": 16,
       "name": "Stamen.Watercolor",
       "options": [
        "attribution",
        "bounds",
        "detect_retina",
        "max_native_zoom",
        "max_zoom",
        "min_native_zoom",
        "min_zoom",
        "no_wrap",
        "tile_size",
        "tms"
       ],
       "url": "https://stamen-tiles-a.a.ssl.fastly.net/watercolor/{z}/{x}/{y}.jpg"
      }
     },
     "28b8539a00ff4f769382fdb2cf2718d5": {
      "model_module": "jupyter-leaflet",
      "model_module_version": "^0.17.0",
      "model_name": "LeafletTileLayerModel",
      "state": {
       "_model_module_version": "^0.17.0",
       "_view_module_version": "^0.17.0",
       "attribution": "Geoportail France",
       "max_zoom": 16,
       "name": "GeoportailFrance.Landcover_Clc00r_fr",
       "options": [
        "attribution",
        "bounds",
        "detect_retina",
        "max_native_zoom",
        "max_zoom",
        "min_native_zoom",
        "min_zoom",
        "no_wrap",
        "tile_size",
        "tms"
       ],
       "url": "https://wxs.ign.fr/clc/geoportail/wmts?REQUEST=GetTile&SERVICE=WMTS&VERSION=1.0.0&STYLE=CORINE Land Cover - France métropolitaine&TILEMATRIXSET=PM&FORMAT=image/png&LAYER=LANDCOVER.CLC00R_FR&TILEMATRIX={z}&TILEROW={y}&TILECOL={x}"
      }
     },
     "2920615e16e74bdaa1f1a8c3aca906f7": {
      "model_module": "jupyter-leaflet",
      "model_module_version": "^0.17.0",
      "model_name": "LeafletTileLayerModel",
      "state": {
       "_model_module_version": "^0.17.0",
       "_view_module_version": "^0.17.0",
       "attribution": "(C) OpenStreetMap contributors, Tiles courtesy of Breton OpenStreetMap Team",
       "max_zoom": 19,
       "name": "OpenStreetMap.BZH",
       "options": [
        "attribution",
        "bounds",
        "detect_retina",
        "max_native_zoom",
        "max_zoom",
        "min_native_zoom",
        "min_zoom",
        "no_wrap",
        "tile_size",
        "tms"
       ],
       "url": "https://tile.openstreetmap.bzh/br/{z}/{x}/{y}.png"
      }
     },
     "2971f3fc0e5f465085f52fe764c6d271": {
      "model_module": "jupyter-leaflet",
      "model_module_version": "^0.17.0",
      "model_name": "LeafletTileLayerModel",
      "state": {
       "_model_module_version": "^0.17.0",
       "_view_module_version": "^0.17.0",
       "attribution": "Tiles courtesy of the U.S. Geological Survey",
       "max_zoom": 20,
       "name": "USGS.USImageryTopo",
       "options": [
        "attribution",
        "bounds",
        "detect_retina",
        "max_native_zoom",
        "max_zoom",
        "min_native_zoom",
        "min_zoom",
        "no_wrap",
        "tile_size",
        "tms"
       ],
       "url": "https://basemap.nationalmap.gov/arcgis/rest/services/USGSImageryTopo/MapServer/tile/{z}/{y}/{x}"
      }
     },
     "29afae86ec524b329c0fbc73a7e218f9": {
      "model_module": "jupyter-leaflet",
      "model_module_version": "^0.17.0",
      "model_name": "LeafletTileLayerModel",
      "state": {
       "_model_module_version": "^0.17.0",
       "_view_module_version": "^0.17.0",
       "attribution": "Geoportail France",
       "max_zoom": 16,
       "name": "GeoportailFrance.Landuse_Agriculture2019",
       "options": [
        "attribution",
        "bounds",
        "detect_retina",
        "max_native_zoom",
        "max_zoom",
        "min_native_zoom",
        "min_zoom",
        "no_wrap",
        "tile_size",
        "tms"
       ],
       "url": "https://wxs.ign.fr/agriculture/geoportail/wmts?REQUEST=GetTile&SERVICE=WMTS&VERSION=1.0.0&STYLE=normal&TILEMATRIXSET=PM&FORMAT=image/png&LAYER=LANDUSE.AGRICULTURE2019&TILEMATRIX={z}&TILEROW={y}&TILECOL={x}"
      }
     },
     "29f2579273b243f38d75e6a2be331127": {
      "model_module": "jupyter-leaflet",
      "model_module_version": "^0.17.0",
      "model_name": "LeafletTileLayerModel",
      "state": {
       "_model_module_version": "^0.17.0",
       "_view_module_version": "^0.17.0",
       "attribution": "Imagery provided by services from the Global Imagery Browse Services (GIBS), operated by the NASA/GSFC/Earth Science Data and Information System (ESDIS) with funding provided by NASA/HQ.",
       "max_zoom": 9,
       "name": "NASAGIBS.ViirsTrueColorCR",
       "options": [
        "attribution",
        "bounds",
        "detect_retina",
        "max_native_zoom",
        "max_zoom",
        "min_native_zoom",
        "min_zoom",
        "no_wrap",
        "tile_size",
        "tms"
       ],
       "url": "https://gibs.earthdata.nasa.gov/wmts/epsg3857/best/VIIRS_SNPP_CorrectedReflectance_TrueColor/default//GoogleMapsCompatible_Level9/{z}/{y}/{x}.jpg"
      }
     },
     "2a6064d450ba4a52976ec10a17192205": {
      "model_module": "jupyter-leaflet",
      "model_module_version": "^0.17.0",
      "model_name": "LeafletTileLayerModel",
      "state": {
       "_model_module_version": "^0.17.0",
       "_view_module_version": "^0.17.0",
       "attribution": "Geoportail France",
       "name": "GeoportailFrance.Geographicalgridsystems_Terrier_v1",
       "options": [
        "attribution",
        "bounds",
        "detect_retina",
        "max_native_zoom",
        "max_zoom",
        "min_native_zoom",
        "min_zoom",
        "no_wrap",
        "tile_size",
        "tms"
       ],
       "url": "https://wxs.ign.fr/cartes/geoportail/wmts?REQUEST=GetTile&SERVICE=WMTS&VERSION=1.0.0&STYLE=nolegend&TILEMATRIXSET=PM&FORMAT=image/png&LAYER=GEOGRAPHICALGRIDSYSTEMS.TERRIER_V1&TILEMATRIX={z}&TILEROW={y}&TILECOL={x}"
      }
     },
     "2a6e0758a72a4297af78b3ad9a4f820e": {
      "model_module": "jupyter-leaflet",
      "model_module_version": "^0.17.0",
      "model_name": "LeafletTileLayerModel",
      "state": {
       "_model_module_version": "^0.17.0",
       "_view_module_version": "^0.17.0",
       "attribution": "Geoportail France",
       "max_zoom": 16,
       "name": "GeoportailFrance.Insee_Filosofi_Part_Logements_Apres_1990_Secret",
       "options": [
        "attribution",
        "bounds",
        "detect_retina",
        "max_native_zoom",
        "max_zoom",
        "min_native_zoom",
        "min_zoom",
        "no_wrap",
        "tile_size",
        "tms"
       ],
       "url": "https://wxs.ign.fr/economie/geoportail/wmts?REQUEST=GetTile&SERVICE=WMTS&VERSION=1.0.0&STYLE=INSEE&TILEMATRIXSET=PM&FORMAT=image/png&LAYER=INSEE.FILOSOFI.PART.LOGEMENTS.APRES.1990.SECRET&TILEMATRIX={z}&TILEROW={y}&TILECOL={x}"
      }
     },
     "2b5e8d2518a3464e9fb793c55e806f36": {
      "model_module": "jupyter-leaflet",
      "model_module_version": "^0.17.0",
      "model_name": "LeafletTileLayerModel",
      "state": {
       "_model_module_version": "^0.17.0",
       "_view_module_version": "^0.17.0",
       "attribution": "Google",
       "max_zoom": 22,
       "name": "Google Terrain",
       "options": [
        "attribution",
        "bounds",
        "detect_retina",
        "max_native_zoom",
        "max_zoom",
        "min_native_zoom",
        "min_zoom",
        "no_wrap",
        "tile_size",
        "tms"
       ],
       "url": "https://mt1.google.com/vt/lyrs=p&x={x}&y={y}&z={z}"
      }
     },
     "2b9781d1d2d845fcab9157729a659f35": {
      "model_module": "@jupyter-widgets/controls",
      "model_module_version": "1.5.0",
      "model_name": "DescriptionStyleModel",
      "state": {
       "description_width": ""
      }
     },
     "2e1685e2554b4447abc50b8d298c75e0": {
      "model_module": "jupyter-leaflet",
      "model_module_version": "^0.17.0",
      "model_name": "LeafletTileLayerModel",
      "state": {
       "_model_module_version": "^0.17.0",
       "_view_module_version": "^0.17.0",
       "attribution": "Geoportail France",
       "max_zoom": 19,
       "name": "GeoportailFrance.Orthoimagery_Orthophotos_Irc_express_2022",
       "options": [
        "attribution",
        "bounds",
        "detect_retina",
        "max_native_zoom",
        "max_zoom",
        "min_native_zoom",
        "min_zoom",
        "no_wrap",
        "tile_size",
        "tms"
       ],
       "url": "https://wxs.ign.fr/ortho/geoportail/wmts?REQUEST=GetTile&SERVICE=WMTS&VERSION=1.0.0&STYLE=normal&TILEMATRIXSET=PM&FORMAT=image/jpeg&LAYER=ORTHOIMAGERY.ORTHOPHOTOS.IRC-EXPRESS.2022&TILEMATRIX={z}&TILEROW={y}&TILECOL={x}"
      }
     },
     "2ebc37fdedbe48f485b2091b9bd8f01d": {
      "model_module": "jupyter-leaflet",
      "model_module_version": "^0.17.0",
      "model_name": "LeafletTileLayerModel",
      "state": {
       "_model_module_version": "^0.17.0",
       "_view_module_version": "^0.17.0",
       "attribution": "Geoportail France",
       "max_zoom": 20,
       "name": "GeoportailFrance.Orthoimagery_Orthophotos_Ortho_express_2021",
       "options": [
        "attribution",
        "bounds",
        "detect_retina",
        "max_native_zoom",
        "max_zoom",
        "min_native_zoom",
        "min_zoom",
        "no_wrap",
        "tile_size",
        "tms"
       ],
       "url": "https://wxs.ign.fr/ortho/geoportail/wmts?REQUEST=GetTile&SERVICE=WMTS&VERSION=1.0.0&STYLE=normal&TILEMATRIXSET=PM&FORMAT=image/jpeg&LAYER=ORTHOIMAGERY.ORTHOPHOTOS.ORTHO-EXPRESS.2021&TILEMATRIX={z}&TILEROW={y}&TILECOL={x}"
      }
     },
     "2ec533735b8b446e9ae5d2e2755bf003": {
      "model_module": "jupyter-leaflet",
      "model_module_version": "^0.17.0",
      "model_name": "LeafletTileLayerModel",
      "state": {
       "_model_module_version": "^0.17.0",
       "_view_module_version": "^0.17.0",
       "attribution": "Geoportail France",
       "max_zoom": 16,
       "name": "GeoportailFrance.Landuse_Agriculture2020",
       "options": [
        "attribution",
        "bounds",
        "detect_retina",
        "max_native_zoom",
        "max_zoom",
        "min_native_zoom",
        "min_zoom",
        "no_wrap",
        "tile_size",
        "tms"
       ],
       "url": "https://wxs.ign.fr/agriculture/geoportail/wmts?REQUEST=GetTile&SERVICE=WMTS&VERSION=1.0.0&STYLE=normal&TILEMATRIXSET=PM&FORMAT=image/png&LAYER=LANDUSE.AGRICULTURE2020&TILEMATRIX={z}&TILEROW={y}&TILECOL={x}"
      }
     },
     "2eff8ed7bc8c4a8292c863d086dd114e": {
      "model_module": "jupyter-leaflet",
      "model_module_version": "^0.17.0",
      "model_name": "LeafletTileLayerModel",
      "state": {
       "_model_module_version": "^0.17.0",
       "_view_module_version": "^0.17.0",
       "attribution": "Datenquelle: basemap.at",
       "max_zoom": 19,
       "name": "BasemapAT.surface",
       "options": [
        "attribution",
        "bounds",
        "detect_retina",
        "max_native_zoom",
        "max_zoom",
        "min_native_zoom",
        "min_zoom",
        "no_wrap",
        "tile_size",
        "tms"
       ],
       "url": "https://maps.wien.gv.at/basemap/bmapoberflaeche/grau/google3857/{z}/{y}/{x}.jpeg"
      }
     },
     "2f4e39190a274bec91008e6e42f51ba9": {
      "model_module": "jupyter-leaflet",
      "model_module_version": "^0.17.0",
      "model_name": "LeafletTileLayerModel",
      "state": {
       "_model_module_version": "^0.17.0",
       "_view_module_version": "^0.17.0",
       "attribution": "Geoportail France",
       "max_zoom": 13,
       "name": "GeoportailFrance.Landcover_Hr_Waw_Clc15",
       "options": [
        "attribution",
        "bounds",
        "detect_retina",
        "max_native_zoom",
        "max_zoom",
        "min_native_zoom",
        "min_zoom",
        "no_wrap",
        "tile_size",
        "tms"
       ],
       "url": "https://wxs.ign.fr/clc/geoportail/wmts?REQUEST=GetTile&SERVICE=WMTS&VERSION=1.0.0&STYLE=CORINE Land Cover - HR - zones humides et surfaces en eaux permanentes&TILEMATRIXSET=PM&FORMAT=image/png&LAYER=LANDCOVER.HR.WAW.CLC15&TILEMATRIX={z}&TILEROW={y}&TILECOL={x}"
      }
     },
     "2f78a6b2b51a44ea9d700282ff572855": {
      "model_module": "jupyter-leaflet",
      "model_module_version": "^0.17.0",
      "model_name": "LeafletTileLayerModel",
      "state": {
       "_model_module_version": "^0.17.0",
       "_view_module_version": "^0.17.0",
       "attribution": "Geoportail France",
       "max_zoom": 15,
       "name": "GeoportailFrance.Elevation_Elevationgridcoverage_Shadow",
       "options": [
        "attribution",
        "bounds",
        "detect_retina",
        "max_native_zoom",
        "max_zoom",
        "min_native_zoom",
        "min_zoom",
        "no_wrap",
        "tile_size",
        "tms"
       ],
       "url": "https://wxs.ign.fr/altimetrie/geoportail/wmts?REQUEST=GetTile&SERVICE=WMTS&VERSION=1.0.0&STYLE=estompage_grayscale&TILEMATRIXSET=PM&FORMAT=image/png&LAYER=ELEVATION.ELEVATIONGRIDCOVERAGE.SHADOW&TILEMATRIX={z}&TILEROW={y}&TILECOL={x}"
      }
     },
     "2fb489075970439bab4fadd10a9c0000": {
      "model_module": "@jupyter-widgets/controls",
      "model_module_version": "1.5.0",
      "model_name": "HBoxModel",
      "state": {
       "children": [
        "IPY_MODEL_a281f2540c9f4366a270753288907516",
        "IPY_MODEL_eff8781a3685464694aa37bad8d03aee",
        "IPY_MODEL_f411f0aeb8f942888b2baaeccd433d2d"
       ],
       "layout": "IPY_MODEL_e40e03a6d491420ba9903d230145659e"
      }
     },
     "306a3a26a2c74365b739b0f8b95c4e8c": {
      "model_module": "@jupyter-widgets/output",
      "model_module_version": "1.0.0",
      "model_name": "OutputModel",
      "state": {
       "layout": "IPY_MODEL_866e421a78c74a5fbc36b39885c68f2a"
      }
     },
     "312748fd353d466f9a2e79e87281cc62": {
      "model_module": "jupyter-leaflet",
      "model_module_version": "^0.17.0",
      "model_name": "LeafletTileLayerModel",
      "state": {
       "_model_module_version": "^0.17.0",
       "_view_module_version": "^0.17.0",
       "attribution": "Map tiles by Stamen Design, CC BY 3.0 -- Map data (C) OpenStreetMap contributors",
       "max_zoom": 20,
       "name": "Stamen.TopOSMRelief",
       "options": [
        "attribution",
        "bounds",
        "detect_retina",
        "max_native_zoom",
        "max_zoom",
        "min_native_zoom",
        "min_zoom",
        "no_wrap",
        "tile_size",
        "tms"
       ],
       "url": "https://stamen-tiles-a.a.ssl.fastly.net/toposm-color-relief/{z}/{x}/{y}.jpg"
      }
     },
     "31c3578e525643a1a6be471d2881a8ef": {
      "model_module": "jupyter-leaflet",
      "model_module_version": "^0.17.0",
      "model_name": "LeafletTileLayerModel",
      "state": {
       "_model_module_version": "^0.17.0",
       "_view_module_version": "^0.17.0",
       "attribution": "Geoportail France",
       "max_zoom": 15,
       "name": "GeoportailFrance.Orthoimagery_Ortho_sat_Rapideye_2011",
       "options": [
        "attribution",
        "bounds",
        "detect_retina",
        "max_native_zoom",
        "max_zoom",
        "min_native_zoom",
        "min_zoom",
        "no_wrap",
        "tile_size",
        "tms"
       ],
       "url": "https://wxs.ign.fr/satellite/geoportail/wmts?REQUEST=GetTile&SERVICE=WMTS&VERSION=1.0.0&STYLE=normal&TILEMATRIXSET=PM&FORMAT=image/jpeg&LAYER=ORTHOIMAGERY.ORTHO-SAT.RAPIDEYE.2011&TILEMATRIX={z}&TILEROW={y}&TILECOL={x}"
      }
     },
     "3243f1eddfa245bfb9f9cab535e5aa52": {
      "model_module": "jupyter-leaflet",
      "model_module_version": "^0.17.0",
      "model_name": "LeafletTileLayerModel",
      "state": {
       "_model_module_version": "^0.17.0",
       "_view_module_version": "^0.17.0",
       "attribution": "Geoportail France",
       "name": "GeoportailFrance.Hydrography_Hydrography",
       "options": [
        "attribution",
        "bounds",
        "detect_retina",
        "max_native_zoom",
        "max_zoom",
        "min_native_zoom",
        "min_zoom",
        "no_wrap",
        "tile_size",
        "tms"
       ],
       "url": "https://wxs.ign.fr/topographie/geoportail/wmts?REQUEST=GetTile&SERVICE=WMTS&VERSION=1.0.0&STYLE=normal&TILEMATRIXSET=PM&FORMAT=image/png&LAYER=HYDROGRAPHY.HYDROGRAPHY&TILEMATRIX={z}&TILEROW={y}&TILECOL={x}"
      }
     },
     "325c324d4e6744c481d0a810f0d64773": {
      "model_module": "jupyter-leaflet",
      "model_module_version": "^0.17.0",
      "model_name": "LeafletTileLayerModel",
      "state": {
       "_model_module_version": "^0.17.0",
       "_view_module_version": "^0.17.0",
       "attribution": "© swisstopo",
       "name": "SwissFederalGeoportal.NationalMapColor",
       "options": [
        "attribution",
        "bounds",
        "detect_retina",
        "max_native_zoom",
        "max_zoom",
        "min_native_zoom",
        "min_zoom",
        "no_wrap",
        "tile_size",
        "tms"
       ],
       "url": "https://wmts.geo.admin.ch/1.0.0/ch.swisstopo.pixelkarte-farbe/default/current/3857/{z}/{x}/{y}.jpeg"
      }
     },
     "331e00aa7e764600908333fb0dccef7e": {
      "model_module": "jupyter-leaflet",
      "model_module_version": "^0.17.0",
      "model_name": "LeafletTileLayerModel",
      "state": {
       "_model_module_version": "^0.17.0",
       "_view_module_version": "^0.17.0",
       "attribution": "Tiles (C) Esri -- Source: US National Park Service",
       "max_zoom": 8,
       "name": "Esri.WorldPhysical",
       "options": [
        "attribution",
        "bounds",
        "detect_retina",
        "max_native_zoom",
        "max_zoom",
        "min_native_zoom",
        "min_zoom",
        "no_wrap",
        "tile_size",
        "tms"
       ],
       "url": "https://server.arcgisonline.com/ArcGIS/rest/services/World_Physical_Map/MapServer/tile/{z}/{y}/{x}"
      }
     },
     "3377bd98e6ab48ff84efa0a825cdb22b": {
      "model_module": "jupyter-leaflet",
      "model_module_version": "^0.17.0",
      "model_name": "LeafletTileLayerModel",
      "state": {
       "_model_module_version": "^0.17.0",
       "_view_module_version": "^0.17.0",
       "attribution": "Geoportail France",
       "max_zoom": 10,
       "name": "GeoportailFrance.Geographicalgridsystems_Bonne",
       "options": [
        "attribution",
        "bounds",
        "detect_retina",
        "max_native_zoom",
        "max_zoom",
        "min_native_zoom",
        "min_zoom",
        "no_wrap",
        "tile_size",
        "tms"
       ],
       "url": "https://wxs.ign.fr/cartes/geoportail/wmts?REQUEST=GetTile&SERVICE=WMTS&VERSION=1.0.0&STYLE=normal&TILEMATRIXSET=PM&FORMAT=image/jpeg&LAYER=GEOGRAPHICALGRIDSYSTEMS.BONNE&TILEMATRIX={z}&TILEROW={y}&TILECOL={x}"
      }
     },
     "342b0da2feb04c7f855eb0d36144d43f": {
      "model_module": "jupyter-leaflet",
      "model_module_version": "^0.17.0",
      "model_name": "LeafletTileLayerModel",
      "state": {
       "_model_module_version": "^0.17.0",
       "_view_module_version": "^0.17.0",
       "attribution": "Geoportail France",
       "max_zoom": 19,
       "name": "GeoportailFrance.Orthoimagery_Orthophotos2020",
       "options": [
        "attribution",
        "bounds",
        "detect_retina",
        "max_native_zoom",
        "max_zoom",
        "min_native_zoom",
        "min_zoom",
        "no_wrap",
        "tile_size",
        "tms"
       ],
       "url": "https://wxs.ign.fr/ortho/geoportail/wmts?REQUEST=GetTile&SERVICE=WMTS&VERSION=1.0.0&STYLE=normal&TILEMATRIXSET=PM&FORMAT=image/jpeg&LAYER=ORTHOIMAGERY.ORTHOPHOTOS2020&TILEMATRIX={z}&TILEROW={y}&TILECOL={x}"
      }
     },
     "34b17c2b43254dc0a877050e62311370": {
      "model_module": "jupyter-leaflet",
      "model_module_version": "^0.17.0",
      "model_name": "LeafletTileLayerModel",
      "state": {
       "_model_module_version": "^0.17.0",
       "_view_module_version": "^0.17.0",
       "attribution": "Geoportail France",
       "max_zoom": 15,
       "name": "GeoportailFrance.Geographicalgridsystems_1900typemaps",
       "options": [
        "attribution",
        "bounds",
        "detect_retina",
        "max_native_zoom",
        "max_zoom",
        "min_native_zoom",
        "min_zoom",
        "no_wrap",
        "tile_size",
        "tms"
       ],
       "url": "https://wxs.ign.fr/cartes/geoportail/wmts?REQUEST=GetTile&SERVICE=WMTS&VERSION=1.0.0&STYLE=normal&TILEMATRIXSET=PM&FORMAT=image/jpeg&LAYER=GEOGRAPHICALGRIDSYSTEMS.1900TYPEMAPS&TILEMATRIX={z}&TILEROW={y}&TILECOL={x}"
      }
     },
     "354f155ddf594c12b47f9a38ff3d8173": {
      "model_module": "jupyter-leaflet",
      "model_module_version": "^0.17.0",
      "model_name": "LeafletTileLayerModel",
      "state": {
       "_model_module_version": "^0.17.0",
       "_view_module_version": "^0.17.0",
       "attribution": "Google",
       "max_zoom": 22,
       "name": "Google Satellite",
       "options": [
        "attribution",
        "bounds",
        "detect_retina",
        "max_native_zoom",
        "max_zoom",
        "min_native_zoom",
        "min_zoom",
        "no_wrap",
        "tile_size",
        "tms"
       ],
       "url": "https://mt1.google.com/vt/lyrs=y&x={x}&y={y}&z={z}"
      }
     },
     "3637d73c29864500966d7b2d04f1f77b": {
      "model_module": "@jupyter-widgets/controls",
      "model_module_version": "1.5.0",
      "model_name": "DescriptionStyleModel",
      "state": {
       "description_width": ""
      }
     },
     "365881dce87447a49a9f5e8b22de06e7": {
      "model_module": "jupyter-leaflet",
      "model_module_version": "^0.17.0",
      "model_name": "LeafletTileLayerModel",
      "state": {
       "_model_module_version": "^0.17.0",
       "_view_module_version": "^0.17.0",
       "attribution": "Geoportail France",
       "max_zoom": 20,
       "name": "GeoportailFrance.Orthoimagery_Orthophotos_Urgence_Alex",
       "options": [
        "attribution",
        "bounds",
        "detect_retina",
        "max_native_zoom",
        "max_zoom",
        "min_native_zoom",
        "min_zoom",
        "no_wrap",
        "tile_size",
        "tms"
       ],
       "url": "https://wxs.ign.fr/orthohisto/geoportail/wmts?REQUEST=GetTile&SERVICE=WMTS&VERSION=1.0.0&STYLE=normal&TILEMATRIXSET=PM&FORMAT=image/jpeg&LAYER=ORTHOIMAGERY.ORTHOPHOTOS.URGENCE.ALEX&TILEMATRIX={z}&TILEROW={y}&TILECOL={x}"
      }
     },
     "36a6665d42f847149276c64381636474": {
      "model_module": "@jupyter-widgets/base",
      "model_module_version": "1.2.0",
      "model_name": "LayoutModel",
      "state": {
       "width": "500px"
      }
     },
     "3812a3defcda4a54b5d5e89d13ad4d59": {
      "model_module": "jupyter-leaflet",
      "model_module_version": "^0.17.0",
      "model_name": "LeafletTileLayerModel",
      "state": {
       "_model_module_version": "^0.17.0",
       "_view_module_version": "^0.17.0",
       "attribution": "Geoportail France",
       "name": "GeoportailFrance.Utilityandgovernmentalservices_All",
       "options": [
        "attribution",
        "bounds",
        "detect_retina",
        "max_native_zoom",
        "max_zoom",
        "min_native_zoom",
        "min_zoom",
        "no_wrap",
        "tile_size",
        "tms"
       ],
       "url": "https://wxs.ign.fr/topographie/geoportail/wmts?REQUEST=GetTile&SERVICE=WMTS&VERSION=1.0.0&STYLE=normal&TILEMATRIXSET=PM&FORMAT=image/png&LAYER=UTILITYANDGOVERNMENTALSERVICES.ALL&TILEMATRIX={z}&TILEROW={y}&TILECOL={x}"
      }
     },
     "391dd214c4f649dda02ac568ff85522b": {
      "model_module": "jupyter-leaflet",
      "model_module_version": "^0.17.0",
      "model_name": "LeafletWMSLayerModel",
      "state": {
       "_model_module_version": "^0.17.0",
       "_view_module_version": "^0.17.0",
       "attribution": "MRLC",
       "crs": {
        "custom": false,
        "name": "EPSG3857"
       },
       "format": "image/png",
       "layers": "NLCD_2008_Land_Cover_L48",
       "name": "NLCD 2008 CONUS Land Cover",
       "options": [
        "attribution",
        "bounds",
        "detect_retina",
        "format",
        "layers",
        "max_native_zoom",
        "max_zoom",
        "min_native_zoom",
        "min_zoom",
        "no_wrap",
        "styles",
        "tile_size",
        "tms",
        "transparent",
        "uppercase"
       ],
       "transparent": true,
       "url": "https://www.mrlc.gov/geoserver/mrlc_display/NLCD_2008_Land_Cover_L48/wms?"
      }
     },
     "39e0e09ff43d4a31829e699638b9780f": {
      "model_module": "@jupyter-widgets/controls",
      "model_module_version": "1.5.0",
      "model_name": "HBoxModel",
      "state": {
       "layout": "IPY_MODEL_e53e9a23b5604e0cb57827c2e0c3c4aa"
      }
     },
     "3ac7d2dbdd2a418f9a2bd41def12cbef": {
      "model_module": "jupyter-leaflet",
      "model_module_version": "^0.17.0",
      "model_name": "LeafletTileLayerModel",
      "state": {
       "_model_module_version": "^0.17.0",
       "_view_module_version": "^0.17.0",
       "attribution": "Geoportail France",
       "max_zoom": 19,
       "name": "GeoportailFrance.Orthoimagery_Orthophotos_Irc_2017",
       "options": [
        "attribution",
        "bounds",
        "detect_retina",
        "max_native_zoom",
        "max_zoom",
        "min_native_zoom",
        "min_zoom",
        "no_wrap",
        "tile_size",
        "tms"
       ],
       "url": "https://wxs.ign.fr/orthohisto/geoportail/wmts?REQUEST=GetTile&SERVICE=WMTS&VERSION=1.0.0&STYLE=normal&TILEMATRIXSET=PM&FORMAT=image/jpeg&LAYER=ORTHOIMAGERY.ORTHOPHOTOS.IRC.2017&TILEMATRIX={z}&TILEROW={y}&TILECOL={x}"
      }
     },
     "3b3caa8e2e6040259233c6d7946233a5": {
      "model_module": "jupyter-leaflet",
      "model_module_version": "^0.17.0",
      "model_name": "LeafletTileLayerModel",
      "state": {
       "_model_module_version": "^0.17.0",
       "_view_module_version": "^0.17.0",
       "attribution": "Geoportail France",
       "max_zoom": 16,
       "name": "GeoportailFrance.Landcover_Sylvoecoregions_Alluvium",
       "options": [
        "attribution",
        "bounds",
        "detect_retina",
        "max_native_zoom",
        "max_zoom",
        "min_native_zoom",
        "min_zoom",
        "no_wrap",
        "tile_size",
        "tms"
       ],
       "url": "https://wxs.ign.fr/environnement/geoportail/wmts?REQUEST=GetTile&SERVICE=WMTS&VERSION=1.0.0&STYLE=normal&TILEMATRIXSET=PM&FORMAT=image/png&LAYER=LANDCOVER.SYLVOECOREGIONS.ALLUVIUM&TILEMATRIX={z}&TILEROW={y}&TILECOL={x}"
      }
     },
     "3c0659c44a6044d693ac9d3fe5d9a54c": {
      "model_module": "jupyter-leaflet",
      "model_module_version": "^0.17.0",
      "model_name": "LeafletTileLayerModel",
      "state": {
       "_model_module_version": "^0.17.0",
       "_view_module_version": "^0.17.0",
       "attribution": "Google",
       "max_zoom": 22,
       "name": "Google Maps",
       "options": [
        "attribution",
        "bounds",
        "detect_retina",
        "max_native_zoom",
        "max_zoom",
        "min_native_zoom",
        "min_zoom",
        "no_wrap",
        "tile_size",
        "tms"
       ],
       "url": "https://mt1.google.com/vt/lyrs=m&x={x}&y={y}&z={z}"
      }
     },
     "3c3fa7e146e7463daff8dfa6b706984d": {
      "model_module": "jupyter-leaflet",
      "model_module_version": "^0.17.0",
      "model_name": "LeafletTileLayerModel",
      "state": {
       "_model_module_version": "^0.17.0",
       "_view_module_version": "^0.17.0",
       "attribution": "Tiles (C) Esri -- Source: USGS, Esri, TANA, DeLorme, and NPS",
       "max_zoom": 13,
       "name": "Esri.WorldTerrain",
       "options": [
        "attribution",
        "bounds",
        "detect_retina",
        "max_native_zoom",
        "max_zoom",
        "min_native_zoom",
        "min_zoom",
        "no_wrap",
        "tile_size",
        "tms"
       ],
       "url": "https://server.arcgisonline.com/ArcGIS/rest/services/World_Terrain_Base/MapServer/tile/{z}/{y}/{x}"
      }
     },
     "3c4e0663816e4d4998ac597c7d9f1d4a": {
      "model_module": "jupyter-leaflet",
      "model_module_version": "^0.17.0",
      "model_name": "LeafletTileLayerModel",
      "state": {
       "_model_module_version": "^0.17.0",
       "_view_module_version": "^0.17.0",
       "attribution": "Geoportail France",
       "max_zoom": 16,
       "name": "GeoportailFrance.Landcover_Cha06_fr",
       "options": [
        "attribution",
        "bounds",
        "detect_retina",
        "max_native_zoom",
        "max_zoom",
        "min_native_zoom",
        "min_zoom",
        "no_wrap",
        "tile_size",
        "tms"
       ],
       "url": "https://wxs.ign.fr/clc/geoportail/wmts?REQUEST=GetTile&SERVICE=WMTS&VERSION=1.0.0&STYLE=CORINE Land Cover - France métropolitaine&TILEMATRIXSET=PM&FORMAT=image/png&LAYER=LANDCOVER.CHA06_FR&TILEMATRIX={z}&TILEROW={y}&TILECOL={x}"
      }
     },
     "3d7e73ef4d5045fc969e62e2d2e81d9c": {
      "model_module": "jupyter-leaflet",
      "model_module_version": "^0.17.0",
      "model_name": "LeafletTileLayerModel",
      "state": {
       "_model_module_version": "^0.17.0",
       "_view_module_version": "^0.17.0",
       "attribution": "Geoportail France",
       "max_zoom": 16,
       "name": "GeoportailFrance.Landcover_Forestinventory_V1",
       "options": [
        "attribution",
        "bounds",
        "detect_retina",
        "max_native_zoom",
        "max_zoom",
        "min_native_zoom",
        "min_zoom",
        "no_wrap",
        "tile_size",
        "tms"
       ],
       "url": "https://wxs.ign.fr/environnement/geoportail/wmts?REQUEST=GetTile&SERVICE=WMTS&VERSION=1.0.0&STYLE=normal&TILEMATRIXSET=PM&FORMAT=image/png&LAYER=LANDCOVER.FORESTINVENTORY.V1&TILEMATRIX={z}&TILEROW={y}&TILECOL={x}"
      }
     },
     "3e0dc4e4f3264edc831e693cd48ce475": {
      "model_module": "jupyter-leaflet",
      "model_module_version": "^0.17.0",
      "model_name": "LeafletTileLayerModel",
      "state": {
       "_model_module_version": "^0.17.0",
       "_view_module_version": "^0.17.0",
       "attribution": "Geoportail France",
       "max_zoom": 16,
       "name": "GeoportailFrance.Protectedareas_Bios",
       "options": [
        "attribution",
        "bounds",
        "detect_retina",
        "max_native_zoom",
        "max_zoom",
        "min_native_zoom",
        "min_zoom",
        "no_wrap",
        "tile_size",
        "tms"
       ],
       "url": "https://wxs.ign.fr/environnement/geoportail/wmts?REQUEST=GetTile&SERVICE=WMTS&VERSION=1.0.0&STYLE=normal&TILEMATRIXSET=PM&FORMAT=image/png&LAYER=PROTECTEDAREAS.BIOS&TILEMATRIX={z}&TILEROW={y}&TILECOL={x}"
      }
     },
     "3e1180e61ed24f8d80da664d73c16d57": {
      "model_module": "jupyter-leaflet",
      "model_module_version": "^0.17.0",
      "model_name": "LeafletTileLayerModel",
      "state": {
       "_model_module_version": "^0.17.0",
       "_view_module_version": "^0.17.0",
       "attribution": "Geoportail France",
       "max_zoom": 16,
       "name": "GeoportailFrance.Landuse_Agriculture2014",
       "options": [
        "attribution",
        "bounds",
        "detect_retina",
        "max_native_zoom",
        "max_zoom",
        "min_native_zoom",
        "min_zoom",
        "no_wrap",
        "tile_size",
        "tms"
       ],
       "url": "https://wxs.ign.fr/agriculture/geoportail/wmts?REQUEST=GetTile&SERVICE=WMTS&VERSION=1.0.0&STYLE=normal&TILEMATRIXSET=PM&FORMAT=image/png&LAYER=LANDUSE.AGRICULTURE2014&TILEMATRIX={z}&TILEROW={y}&TILECOL={x}"
      }
     },
     "3eea86a053ba4816994da32bd30aff80": {
      "model_module": "jupyter-leaflet",
      "model_module_version": "^0.17.0",
      "model_name": "LeafletTileLayerModel",
      "state": {
       "_model_module_version": "^0.17.0",
       "_view_module_version": "^0.17.0",
       "attribution": "Kaartgegevens (C) Kadaster",
       "max_zoom": 19,
       "name": "nlmaps.water",
       "options": [
        "attribution",
        "bounds",
        "detect_retina",
        "max_native_zoom",
        "max_zoom",
        "min_native_zoom",
        "min_zoom",
        "no_wrap",
        "tile_size",
        "tms"
       ],
       "url": "https://service.pdok.nl/brt/achtergrondkaart/wmts/v2_0/water/EPSG:3857/{z}/{x}/{y}.png"
      }
     },
     "412dd6b399af4fbda57212f68c133f04": {
      "model_module": "jupyter-leaflet",
      "model_module_version": "^0.17.0",
      "model_name": "LeafletTileLayerModel",
      "state": {
       "_model_module_version": "^0.17.0",
       "_view_module_version": "^0.17.0",
       "attribution": "![](https://docs.onemap.sg/maps/images/oneMap64-01.png) New OneMap | Map data (C) contributors, Singapore Land Authority",
       "name": "OneMapSG.Default",
       "options": [
        "attribution",
        "bounds",
        "detect_retina",
        "max_native_zoom",
        "max_zoom",
        "min_native_zoom",
        "min_zoom",
        "no_wrap",
        "tile_size",
        "tms"
       ],
       "url": "https://maps-a.onemap.sg/v3/Default/{z}/{x}/{y}.png"
      }
     },
     "415dfc3f9e7c44da9bf4ca3f41ddb73d": {
      "model_module": "jupyter-leaflet",
      "model_module_version": "^0.17.0",
      "model_name": "LeafletTileLayerModel",
      "state": {
       "_model_module_version": "^0.17.0",
       "_view_module_version": "^0.17.0",
       "attribution": "Imagery provided by services from the Global Imagery Browse Services (GIBS), operated by the NASA/GSFC/Earth Science Data and Information System (ESDIS) with funding provided by NASA/HQ.",
       "max_zoom": 7,
       "name": "NASAGIBS.ModisTerraChlorophyll",
       "options": [
        "attribution",
        "bounds",
        "detect_retina",
        "max_native_zoom",
        "max_zoom",
        "min_native_zoom",
        "min_zoom",
        "no_wrap",
        "tile_size",
        "tms"
       ],
       "url": "https://map1.vis.earthdata.nasa.gov/wmts-webmerc/MODIS_Terra_Chlorophyll_A/default//GoogleMapsCompatible_Level7/{z}/{y}/{x}.png"
      }
     },
     "41918117fba74bd6a6a9a866f40b25c3": {
      "model_module": "jupyter-leaflet",
      "model_module_version": "^0.17.0",
      "model_name": "LeafletTileLayerModel",
      "state": {
       "_model_module_version": "^0.17.0",
       "_view_module_version": "^0.17.0",
       "attribution": "Geoportail France",
       "max_zoom": 19,
       "name": "GeoportailFrance.Orthoimagery_Orthophotos_Ortho_express_2017",
       "options": [
        "attribution",
        "bounds",
        "detect_retina",
        "max_native_zoom",
        "max_zoom",
        "min_native_zoom",
        "min_zoom",
        "no_wrap",
        "tile_size",
        "tms"
       ],
       "url": "https://wxs.ign.fr/orthohisto/geoportail/wmts?REQUEST=GetTile&SERVICE=WMTS&VERSION=1.0.0&STYLE=normal&TILEMATRIXSET=PM&FORMAT=image/jpeg&LAYER=ORTHOIMAGERY.ORTHOPHOTOS.ORTHO-EXPRESS.2017&TILEMATRIX={z}&TILEROW={y}&TILECOL={x}"
      }
     },
     "4197453d6e184915b417f87777acfe63": {
      "model_module": "jupyter-leaflet",
      "model_module_version": "^0.17.0",
      "model_name": "LeafletTileLayerModel",
      "state": {
       "_model_module_version": "^0.17.0",
       "_view_module_version": "^0.17.0",
       "attribution": "Geoportail France",
       "max_zoom": 17,
       "name": "GeoportailFrance.Securoute_Te_Oa",
       "options": [
        "attribution",
        "bounds",
        "detect_retina",
        "max_native_zoom",
        "max_zoom",
        "min_native_zoom",
        "min_zoom",
        "no_wrap",
        "tile_size",
        "tms"
       ],
       "url": "https://wxs.ign.fr/transports/geoportail/wmts?REQUEST=GetTile&SERVICE=WMTS&VERSION=1.0.0&STYLE=AUTRES FRANCHISSEMENTS&TILEMATRIXSET=PM&FORMAT=image/png&LAYER=SECUROUTE.TE.OA&TILEMATRIX={z}&TILEROW={y}&TILECOL={x}"
      }
     },
     "426dc46a11a249fbae2afc0d89179cfa": {
      "model_module": "jupyter-leaflet",
      "model_module_version": "^0.17.0",
      "model_name": "LeafletTileLayerModel",
      "state": {
       "_model_module_version": "^0.17.0",
       "_view_module_version": "^0.17.0",
       "attribution": "Tiles (C) Esri -- Source: Esri, i-cubed, USDA, USGS, AEX, GeoEye, Getmapping, Aerogrid, IGN, IGP, UPR-EGP, and the GIS User Community",
       "max_zoom": 22,
       "name": "Esri.WorldImagery",
       "options": [
        "attribution",
        "bounds",
        "detect_retina",
        "max_native_zoom",
        "max_zoom",
        "min_native_zoom",
        "min_zoom",
        "no_wrap",
        "tile_size",
        "tms"
       ],
       "url": "https://server.arcgisonline.com/ArcGIS/rest/services/World_Imagery/MapServer/tile/{z}/{y}/{x}"
      }
     },
     "42d8e638735c469f97847f9ca785b907": {
      "model_module": "@jupyter-widgets/base",
      "model_module_version": "1.2.0",
      "model_name": "LayoutModel",
      "state": {}
     },
     "440cc1b54aa44d6498828e4e3451d40f": {
      "model_module": "jupyter-leaflet",
      "model_module_version": "^0.17.0",
      "model_name": "LeafletTileLayerModel",
      "state": {
       "_model_module_version": "^0.17.0",
       "_view_module_version": "^0.17.0",
       "attribution": "Imagery provided by services from the Global Imagery Browse Services (GIBS), operated by the NASA/GSFC/Earth Science Data and Information System (ESDIS) with funding provided by NASA/HQ.",
       "max_zoom": 9,
       "name": "NASAGIBS.ModisTerraTrueColorCR",
       "options": [
        "attribution",
        "bounds",
        "detect_retina",
        "max_native_zoom",
        "max_zoom",
        "min_native_zoom",
        "min_zoom",
        "no_wrap",
        "tile_size",
        "tms"
       ],
       "url": "https://map1.vis.earthdata.nasa.gov/wmts-webmerc/MODIS_Terra_CorrectedReflectance_TrueColor/default//GoogleMapsCompatible_Level9/{z}/{y}/{x}.jpg"
      }
     },
     "4471e7879250463fb60fc7e4a3df2764": {
      "model_module": "jupyter-leaflet",
      "model_module_version": "^0.17.0",
      "model_name": "LeafletTileLayerModel",
      "state": {
       "_model_module_version": "^0.17.0",
       "_view_module_version": "^0.17.0",
       "attribution": "Geoportail France",
       "max_zoom": 17,
       "name": "GeoportailFrance.Securoute_Te_Pnd",
       "options": [
        "attribution",
        "bounds",
        "detect_retina",
        "max_native_zoom",
        "max_zoom",
        "min_native_zoom",
        "min_zoom",
        "no_wrap",
        "tile_size",
        "tms"
       ],
       "url": "https://wxs.ign.fr/transports/geoportail/wmts?REQUEST=GetTile&SERVICE=WMTS&VERSION=1.0.0&STYLE=FRANCHISSEMENTS PASSAGE A NIVEAU DIFFICILE&TILEMATRIXSET=PM&FORMAT=image/png&LAYER=SECUROUTE.TE.PND&TILEMATRIX={z}&TILEROW={y}&TILECOL={x}"
      }
     },
     "447f90c4b45b4b9ab7820dce20f30930": {
      "model_module": "jupyter-leaflet",
      "model_module_version": "^0.17.0",
      "model_name": "LeafletTileLayerModel",
      "state": {
       "_model_module_version": "^0.17.0",
       "_view_module_version": "^0.17.0",
       "attribution": "Geoportail France",
       "max_zoom": 16,
       "name": "GeoportailFrance.Landcover_Sylvoecoregions",
       "options": [
        "attribution",
        "bounds",
        "detect_retina",
        "max_native_zoom",
        "max_zoom",
        "min_native_zoom",
        "min_zoom",
        "no_wrap",
        "tile_size",
        "tms"
       ],
       "url": "https://wxs.ign.fr/environnement/geoportail/wmts?REQUEST=GetTile&SERVICE=WMTS&VERSION=1.0.0&STYLE=normal&TILEMATRIXSET=PM&FORMAT=image/png&LAYER=LANDCOVER.SYLVOECOREGIONS&TILEMATRIX={z}&TILEROW={y}&TILECOL={x}"
      }
     },
     "44945bdce08549aebd037ee09a9905dd": {
      "model_module": "jupyter-leaflet",
      "model_module_version": "^0.17.0",
      "model_name": "LeafletTileLayerModel",
      "state": {
       "_model_module_version": "^0.17.0",
       "_view_module_version": "^0.17.0",
       "attribution": "Geoportail France",
       "max_zoom": 12,
       "name": "GeoportailFrance.Landcover_Grid_Clc00_fr",
       "options": [
        "attribution",
        "bounds",
        "detect_retina",
        "max_native_zoom",
        "max_zoom",
        "min_native_zoom",
        "min_zoom",
        "no_wrap",
        "tile_size",
        "tms"
       ],
       "url": "https://wxs.ign.fr/clc/geoportail/wmts?REQUEST=GetTile&SERVICE=WMTS&VERSION=1.0.0&STYLE=CORINE Land Cover - France métropolitaine&TILEMATRIXSET=PM&FORMAT=image/png&LAYER=LANDCOVER.GRID.CLC00_FR&TILEMATRIX={z}&TILEROW={y}&TILECOL={x}"
      }
     },
     "4505fedec73642d4a126393c61c08ca7": {
      "model_module": "jupyter-leaflet",
      "model_module_version": "^0.17.0",
      "model_name": "LeafletTileLayerModel",
      "state": {
       "_model_module_version": "^0.17.0",
       "_view_module_version": "^0.17.0",
       "attribution": "Geoportail France",
       "max_zoom": 19,
       "name": "GeoportailFrance.Orthoimagery_Orthophotos_Irc_2018",
       "options": [
        "attribution",
        "bounds",
        "detect_retina",
        "max_native_zoom",
        "max_zoom",
        "min_native_zoom",
        "min_zoom",
        "no_wrap",
        "tile_size",
        "tms"
       ],
       "url": "https://wxs.ign.fr/orthohisto/geoportail/wmts?REQUEST=GetTile&SERVICE=WMTS&VERSION=1.0.0&STYLE=normal&TILEMATRIXSET=PM&FORMAT=image/jpeg&LAYER=ORTHOIMAGERY.ORTHOPHOTOS.IRC.2018&TILEMATRIX={z}&TILEROW={y}&TILECOL={x}"
      }
     },
     "451d9aaaddc54d82956f63c92da74338": {
      "model_module": "jupyter-leaflet",
      "model_module_version": "^0.17.0",
      "model_name": "LeafletTileLayerModel",
      "state": {
       "_model_module_version": "^0.17.0",
       "_view_module_version": "^0.17.0",
       "attribution": "Geoportail France",
       "max_zoom": 19,
       "name": "GeoportailFrance.Orthoimagery_Orthophotos_Ilesdunord",
       "options": [
        "attribution",
        "bounds",
        "detect_retina",
        "max_native_zoom",
        "max_zoom",
        "min_native_zoom",
        "min_zoom",
        "no_wrap",
        "tile_size",
        "tms"
       ],
       "url": "https://wxs.ign.fr/ortho/geoportail/wmts?REQUEST=GetTile&SERVICE=WMTS&VERSION=1.0.0&STYLE=normal&TILEMATRIXSET=PM&FORMAT=image/png&LAYER=ORTHOIMAGERY.ORTHOPHOTOS.ILESDUNORD&TILEMATRIX={z}&TILEROW={y}&TILECOL={x}"
      }
     },
     "45be17261df64496943f9292c4161699": {
      "model_module": "@jupyter-widgets/controls",
      "model_module_version": "1.5.0",
      "model_name": "DescriptionStyleModel",
      "state": {
       "description_width": ""
      }
     },
     "464d66d4bb694bd6ad9b39bfc5a0addd": {
      "model_module": "@jupyter-widgets/base",
      "model_module_version": "1.2.0",
      "model_name": "LayoutModel",
      "state": {
       "margin": "0px 0px 0px 20px"
      }
     },
     "470d2cd288af423aa64ce5402bd1e9d2": {
      "model_module": "jupyter-leaflet",
      "model_module_version": "^0.17.0",
      "model_name": "LeafletTileLayerModel",
      "state": {
       "_model_module_version": "^0.17.0",
       "_view_module_version": "^0.17.0",
       "attribution": "Map data: (C) OpenStreetMap contributors, SRTM | Map style: (C) OpenTopoMap (CC-BY-SA)",
       "max_zoom": 17,
       "name": "OpenTopoMap",
       "options": [
        "attribution",
        "bounds",
        "detect_retina",
        "max_native_zoom",
        "max_zoom",
        "min_native_zoom",
        "min_zoom",
        "no_wrap",
        "tile_size",
        "tms"
       ],
       "url": "https://a.tile.opentopomap.org/{z}/{x}/{y}.png"
      }
     },
     "472ef5b9567642afa284e8a75482a00c": {
      "model_module": "jupyter-leaflet",
      "model_module_version": "^0.17.0",
      "model_name": "LeafletTileLayerModel",
      "state": {
       "_model_module_version": "^0.17.0",
       "_view_module_version": "^0.17.0",
       "attribution": "Geoportail France",
       "max_zoom": 16,
       "name": "GeoportailFrance.Landcover_Forestareas",
       "options": [
        "attribution",
        "bounds",
        "detect_retina",
        "max_native_zoom",
        "max_zoom",
        "min_native_zoom",
        "min_zoom",
        "no_wrap",
        "tile_size",
        "tms"
       ],
       "url": "https://wxs.ign.fr/environnement/geoportail/wmts?REQUEST=GetTile&SERVICE=WMTS&VERSION=1.0.0&STYLE=normal&TILEMATRIXSET=PM&FORMAT=image/png&LAYER=LANDCOVER.FORESTAREAS&TILEMATRIX={z}&TILEROW={y}&TILECOL={x}"
      }
     },
     "483b4db6ea274a31942878d47269647c": {
      "model_module": "jupyter-leaflet",
      "model_module_version": "^0.17.0",
      "model_name": "LeafletTileLayerModel",
      "state": {
       "_model_module_version": "^0.17.0",
       "_view_module_version": "^0.17.0",
       "attribution": "Geoportail France",
       "max_zoom": 16,
       "name": "GeoportailFrance.Landcover_Clc18_dom",
       "options": [
        "attribution",
        "bounds",
        "detect_retina",
        "max_native_zoom",
        "max_zoom",
        "min_native_zoom",
        "min_zoom",
        "no_wrap",
        "tile_size",
        "tms"
       ],
       "url": "https://wxs.ign.fr/clc/geoportail/wmts?REQUEST=GetTile&SERVICE=WMTS&VERSION=1.0.0&STYLE=CORINE Land Cover - DOM&TILEMATRIXSET=PM&FORMAT=image/png&LAYER=LANDCOVER.CLC18_DOM&TILEMATRIX={z}&TILEROW={y}&TILECOL={x}"
      }
     },
     "49a7424b386048c0bb744f691b1268c0": {
      "model_module": "jupyter-leaflet",
      "model_module_version": "^0.17.0",
      "model_name": "LeafletTileLayerModel",
      "state": {
       "_model_module_version": "^0.17.0",
       "_view_module_version": "^0.17.0",
       "attribution": "Geoportail France",
       "max_zoom": 16,
       "name": "GeoportailFrance.Insee_Filosofi_Part_Logements_Sociaux_Secret",
       "options": [
        "attribution",
        "bounds",
        "detect_retina",
        "max_native_zoom",
        "max_zoom",
        "min_native_zoom",
        "min_zoom",
        "no_wrap",
        "tile_size",
        "tms"
       ],
       "url": "https://wxs.ign.fr/economie/geoportail/wmts?REQUEST=GetTile&SERVICE=WMTS&VERSION=1.0.0&STYLE=INSEE&TILEMATRIXSET=PM&FORMAT=image/png&LAYER=INSEE.FILOSOFI.PART.LOGEMENTS.SOCIAUX.SECRET&TILEMATRIX={z}&TILEROW={y}&TILECOL={x}"
      }
     },
     "4a74c8acc71a4b5dbe2fa8cab0f11854": {
      "model_module": "jupyter-leaflet",
      "model_module_version": "^0.17.0",
      "model_name": "LeafletTileLayerModel",
      "state": {
       "_model_module_version": "^0.17.0",
       "_view_module_version": "^0.17.0",
       "attribution": "Geoportail France",
       "max_zoom": 16,
       "name": "GeoportailFrance.Insee_Filosofi_Part_Menages_5_Personnes_Ouplus_Secret",
       "options": [
        "attribution",
        "bounds",
        "detect_retina",
        "max_native_zoom",
        "max_zoom",
        "min_native_zoom",
        "min_zoom",
        "no_wrap",
        "tile_size",
        "tms"
       ],
       "url": "https://wxs.ign.fr/economie/geoportail/wmts?REQUEST=GetTile&SERVICE=WMTS&VERSION=1.0.0&STYLE=INSEE&TILEMATRIXSET=PM&FORMAT=image/png&LAYER=INSEE.FILOSOFI.PART.MENAGES.5.PERSONNES.OUPLUS.SECRET&TILEMATRIX={z}&TILEROW={y}&TILECOL={x}"
      }
     },
     "4ab61cfe39bf47eeb9dd47266ef47c0e": {
      "model_module": "jupyter-leaflet",
      "model_module_version": "^0.17.0",
      "model_name": "LeafletTileLayerModel",
      "state": {
       "_model_module_version": "^0.17.0",
       "_view_module_version": "^0.17.0",
       "attribution": "Geoportail France",
       "name": "GeoportailFrance.Orthoimagery_Orthophotos2013",
       "options": [
        "attribution",
        "bounds",
        "detect_retina",
        "max_native_zoom",
        "max_zoom",
        "min_native_zoom",
        "min_zoom",
        "no_wrap",
        "tile_size",
        "tms"
       ],
       "url": "https://wxs.ign.fr/orthohisto/geoportail/wmts?REQUEST=GetTile&SERVICE=WMTS&VERSION=1.0.0&STYLE=normal&TILEMATRIXSET=PM&FORMAT=image/jpeg&LAYER=ORTHOIMAGERY.ORTHOPHOTOS2013&TILEMATRIX={z}&TILEROW={y}&TILECOL={x}"
      }
     },
     "4aeaf9d322c140f98c57e421fe0c0862": {
      "model_module": "jupyter-leaflet",
      "model_module_version": "^0.17.0",
      "model_name": "LeafletTileLayerModel",
      "state": {
       "_model_module_version": "^0.17.0",
       "_view_module_version": "^0.17.0",
       "attribution": "Geoportail France",
       "name": "GeoportailFrance.Orthoimagery_Orthophotos2000_2005",
       "options": [
        "attribution",
        "bounds",
        "detect_retina",
        "max_native_zoom",
        "max_zoom",
        "min_native_zoom",
        "min_zoom",
        "no_wrap",
        "tile_size",
        "tms"
       ],
       "url": "https://wxs.ign.fr/orthohisto/geoportail/wmts?REQUEST=GetTile&SERVICE=WMTS&VERSION=1.0.0&STYLE=normal&TILEMATRIXSET=PM&FORMAT=image/jpeg&LAYER=ORTHOIMAGERY.ORTHOPHOTOS2000-2005&TILEMATRIX={z}&TILEROW={y}&TILECOL={x}"
      }
     },
     "4c1f05b8ea634d748dcbe8962aa0a836": {
      "model_module": "jupyter-leaflet",
      "model_module_version": "^0.17.0",
      "model_name": "LeafletTileLayerModel",
      "state": {
       "_model_module_version": "^0.17.0",
       "_view_module_version": "^0.17.0",
       "attribution": "Geoportail France",
       "max_zoom": 16,
       "name": "GeoportailFrance.Ocsge_Couverture_2014",
       "options": [
        "attribution",
        "bounds",
        "detect_retina",
        "max_native_zoom",
        "max_zoom",
        "min_native_zoom",
        "min_zoom",
        "no_wrap",
        "tile_size",
        "tms"
       ],
       "url": "https://wxs.ign.fr/ocsge/geoportail/wmts?REQUEST=GetTile&SERVICE=WMTS&VERSION=1.0.0&STYLE=nolegend&TILEMATRIXSET=PM&FORMAT=image/png&LAYER=OCSGE.COUVERTURE.2014&TILEMATRIX={z}&TILEROW={y}&TILECOL={x}"
      }
     },
     "4c46de1ef48945c19c59842aace782b7": {
      "model_module": "jupyter-leaflet",
      "model_module_version": "^0.17.0",
      "model_name": "LeafletTileLayerModel",
      "state": {
       "_model_module_version": "^0.17.0",
       "_view_module_version": "^0.17.0",
       "attribution": "Map tiles by Stamen Design, CC BY 3.0 -- Map data (C) OpenStreetMap contributors",
       "name": "Stamen.TerrainLabels",
       "options": [
        "attribution",
        "bounds",
        "detect_retina",
        "max_native_zoom",
        "max_zoom",
        "min_native_zoom",
        "min_zoom",
        "no_wrap",
        "tile_size",
        "tms"
       ],
       "url": "https://stamen-tiles-a.a.ssl.fastly.net/terrain-labels/{z}/{x}/{y}.png"
      }
     },
     "4c978128cf85484b82c3f747de3d0d3e": {
      "model_module": "jupyter-leaflet",
      "model_module_version": "^0.17.0",
      "model_name": "LeafletTileLayerModel",
      "state": {
       "_model_module_version": "^0.17.0",
       "_view_module_version": "^0.17.0",
       "attribution": "Geoportail France",
       "max_zoom": 16,
       "name": "GeoportailFrance.Landcover_Forestinventory_V2",
       "options": [
        "attribution",
        "bounds",
        "detect_retina",
        "max_native_zoom",
        "max_zoom",
        "min_native_zoom",
        "min_zoom",
        "no_wrap",
        "tile_size",
        "tms"
       ],
       "url": "https://wxs.ign.fr/environnement/geoportail/wmts?REQUEST=GetTile&SERVICE=WMTS&VERSION=1.0.0&STYLE=normal&TILEMATRIXSET=PM&FORMAT=image/png&LAYER=LANDCOVER.FORESTINVENTORY.V2&TILEMATRIX={z}&TILEROW={y}&TILECOL={x}"
      }
     },
     "4d38334037bb4b7eafd2a321934360c6": {
      "model_module": "@jupyter-widgets/controls",
      "model_module_version": "1.5.0",
      "model_name": "SliderStyleModel",
      "state": {
       "description_width": ""
      }
     },
     "4dc394a649674ebf9f644f61b32f473b": {
      "model_module": "jupyter-leaflet",
      "model_module_version": "^0.17.0",
      "model_name": "LeafletTileLayerModel",
      "state": {
       "_model_module_version": "^0.17.0",
       "_view_module_version": "^0.17.0",
       "attribution": "Geoportail France",
       "max_zoom": 16,
       "name": "GeoportailFrance.Protectedareas_Pnr",
       "options": [
        "attribution",
        "bounds",
        "detect_retina",
        "max_native_zoom",
        "max_zoom",
        "min_native_zoom",
        "min_zoom",
        "no_wrap",
        "tile_size",
        "tms"
       ],
       "url": "https://wxs.ign.fr/environnement/geoportail/wmts?REQUEST=GetTile&SERVICE=WMTS&VERSION=1.0.0&STYLE=normal&TILEMATRIXSET=PM&FORMAT=image/png&LAYER=PROTECTEDAREAS.PNR&TILEMATRIX={z}&TILEROW={y}&TILECOL={x}"
      }
     },
     "4f335c0a77fe4e9c8c9bf8e69dabb111": {
      "model_module": "@jupyter-widgets/base",
      "model_module_version": "1.2.0",
      "model_name": "LayoutModel",
      "state": {
       "border": "1px solid black"
      }
     },
     "50048ac5ea1641d8803f8da1579ee02a": {
      "model_module": "jupyter-leaflet",
      "model_module_version": "^0.17.0",
      "model_name": "LeafletTileLayerModel",
      "state": {
       "_model_module_version": "^0.17.0",
       "_view_module_version": "^0.17.0",
       "attribution": "Map tiles by Stamen Design, CC BY 3.0 -- Map data (C) OpenStreetMap contributors",
       "max_zoom": 20,
       "name": "Stamen.Toner",
       "options": [
        "attribution",
        "bounds",
        "detect_retina",
        "max_native_zoom",
        "max_zoom",
        "min_native_zoom",
        "min_zoom",
        "no_wrap",
        "tile_size",
        "tms"
       ],
       "url": "https://stamen-tiles-a.a.ssl.fastly.net/toner/{z}/{x}/{y}.png"
      }
     },
     "5025c3fa56844cd998ff2c2708083c13": {
      "model_module": "jupyter-leaflet",
      "model_module_version": "^0.17.0",
      "model_name": "LeafletTileLayerModel",
      "state": {
       "_model_module_version": "^0.17.0",
       "_view_module_version": "^0.17.0",
       "attribution": "Earthstar Geographics",
       "max_zoom": 24,
       "name": "Esri.ArcticImagery",
       "options": [
        "attribution",
        "bounds",
        "detect_retina",
        "max_native_zoom",
        "max_zoom",
        "min_native_zoom",
        "min_zoom",
        "no_wrap",
        "tile_size",
        "tms"
       ],
       "url": "http://server.arcgisonline.com/ArcGIS/rest/services/Polar/Arctic_Imagery/MapServer/tile/{z}/{y}/{x}"
      }
     },
     "503330f166d24d77bf2a9d935e2b0150": {
      "model_module": "jupyter-leaflet",
      "model_module_version": "^0.17.0",
      "model_name": "LeafletTileLayerModel",
      "state": {
       "_model_module_version": "^0.17.0",
       "_view_module_version": "^0.17.0",
       "attribution": "Geoportail France",
       "name": "GeoportailFrance.Buildings_Buildings",
       "options": [
        "attribution",
        "bounds",
        "detect_retina",
        "max_native_zoom",
        "max_zoom",
        "min_native_zoom",
        "min_zoom",
        "no_wrap",
        "tile_size",
        "tms"
       ],
       "url": "https://wxs.ign.fr/topographie/geoportail/wmts?REQUEST=GetTile&SERVICE=WMTS&VERSION=1.0.0&STYLE=normal&TILEMATRIXSET=PM&FORMAT=image/png&LAYER=BUILDINGS.BUILDINGS&TILEMATRIX={z}&TILEROW={y}&TILECOL={x}"
      }
     },
     "50692eca6a404e13b0e46b176ab54e56": {
      "model_module": "jupyter-leaflet",
      "model_module_version": "^0.17.0",
      "model_name": "LeafletTileLayerModel",
      "state": {
       "_model_module_version": "^0.17.0",
       "_view_module_version": "^0.17.0",
       "attribution": "Map tiles by <a href=\"https://labs.strava.com/heatmap\">Strava 2021</a>",
       "max_zoom": 15,
       "name": "Strava.All",
       "options": [
        "attribution",
        "bounds",
        "detect_retina",
        "max_native_zoom",
        "max_zoom",
        "min_native_zoom",
        "min_zoom",
        "no_wrap",
        "tile_size",
        "tms"
       ],
       "url": "https://heatmap-external-a.strava.com/tiles/all/hot/{z}/{x}/{y}.png"
      }
     },
     "5069b2dcb1aa473eb502e6af3482c0d2": {
      "model_module": "jupyter-leaflet",
      "model_module_version": "^0.17.0",
      "model_name": "LeafletTileLayerModel",
      "state": {
       "_model_module_version": "^0.17.0",
       "_view_module_version": "^0.17.0",
       "attribution": "(C) OpenStreetMap contributors, visualization CC-By-SA 2.0 Freemap.sk",
       "max_zoom": 16,
       "name": "FreeMapSK",
       "options": [
        "attribution",
        "bounds",
        "detect_retina",
        "max_native_zoom",
        "max_zoom",
        "min_native_zoom",
        "min_zoom",
        "no_wrap",
        "tile_size",
        "tms"
       ],
       "url": "https://a.freemap.sk/T/{z}/{x}/{y}.jpeg"
      }
     },
     "512ceb5d8ec947268409b38de7f7c3a1": {
      "model_module": "jupyter-leaflet",
      "model_module_version": "^0.17.0",
      "model_name": "LeafletTileLayerModel",
      "state": {
       "_model_module_version": "^0.17.0",
       "_view_module_version": "^0.17.0",
       "attribution": "Geoportail France",
       "max_zoom": 16,
       "name": "GeoportailFrance.Landcover_Clc06r_fr",
       "options": [
        "attribution",
        "bounds",
        "detect_retina",
        "max_native_zoom",
        "max_zoom",
        "min_native_zoom",
        "min_zoom",
        "no_wrap",
        "tile_size",
        "tms"
       ],
       "url": "https://wxs.ign.fr/clc/geoportail/wmts?REQUEST=GetTile&SERVICE=WMTS&VERSION=1.0.0&STYLE=CORINE Land Cover - France métropolitaine&TILEMATRIXSET=PM&FORMAT=image/png&LAYER=LANDCOVER.CLC06R_FR&TILEMATRIX={z}&TILEROW={y}&TILECOL={x}"
      }
     },
     "5220931dc6424d8b9ab19a009418cbd6": {
      "model_module": "jupyter-leaflet",
      "model_module_version": "^0.17.0",
      "model_name": "LeafletTileLayerModel",
      "state": {
       "_model_module_version": "^0.17.0",
       "_view_module_version": "^0.17.0",
       "attribution": "Justice Map",
       "max_zoom": 22,
       "name": "JusticeMap.black",
       "options": [
        "attribution",
        "bounds",
        "detect_retina",
        "max_native_zoom",
        "max_zoom",
        "min_native_zoom",
        "min_zoom",
        "no_wrap",
        "tile_size",
        "tms"
       ],
       "url": "https://www.justicemap.org/tile/county/black/{z}/{x}/{y}.png"
      }
     },
     "523bf4c9e8984bf9bbec58d5b96353e3": {
      "model_module": "jupyter-leaflet",
      "model_module_version": "^0.17.0",
      "model_name": "LeafletTileLayerModel",
      "state": {
       "_model_module_version": "^0.17.0",
       "_view_module_version": "^0.17.0",
       "attribution": "Geoportail France",
       "max_zoom": 13,
       "name": "GeoportailFrance.Landcover_Hr_Gra_Clc15",
       "options": [
        "attribution",
        "bounds",
        "detect_retina",
        "max_native_zoom",
        "max_zoom",
        "min_native_zoom",
        "min_zoom",
        "no_wrap",
        "tile_size",
        "tms"
       ],
       "url": "https://wxs.ign.fr/clc/geoportail/wmts?REQUEST=GetTile&SERVICE=WMTS&VERSION=1.0.0&STYLE=CORINE Land Cover - HR - prairies&TILEMATRIXSET=PM&FORMAT=image/png&LAYER=LANDCOVER.HR.GRA.CLC15&TILEMATRIX={z}&TILEROW={y}&TILECOL={x}"
      }
     },
     "52709dced9764ab7b5acc7c404bdad44": {
      "model_module": "jupyter-leaflet",
      "model_module_version": "^0.17.0",
      "model_name": "LeafletTileLayerModel",
      "state": {
       "_model_module_version": "^0.17.0",
       "_view_module_version": "^0.17.0",
       "attribution": "Map data: (C) OpenStreetMap contributors | Map style: (C) waymarkedtrails.org (CC-BY-SA)",
       "name": "WaymarkedTrails.slopes",
       "options": [
        "attribution",
        "bounds",
        "detect_retina",
        "max_native_zoom",
        "max_zoom",
        "min_native_zoom",
        "min_zoom",
        "no_wrap",
        "tile_size",
        "tms"
       ],
       "url": "https://tile.waymarkedtrails.org/slopes/{z}/{x}/{y}.png"
      }
     },
     "5327fc694b22401aa442b3b2b78d4303": {
      "model_module": "jupyter-leaflet",
      "model_module_version": "^0.17.0",
      "model_name": "LeafletTileLayerModel",
      "state": {
       "_model_module_version": "^0.17.0",
       "_view_module_version": "^0.17.0",
       "attribution": "Geoportail France",
       "max_zoom": 13,
       "name": "GeoportailFrance.Landcover_Grid_Clc06r",
       "options": [
        "attribution",
        "bounds",
        "detect_retina",
        "max_native_zoom",
        "max_zoom",
        "min_native_zoom",
        "min_zoom",
        "no_wrap",
        "tile_size",
        "tms"
       ],
       "url": "https://wxs.ign.fr/clc/geoportail/wmts?REQUEST=GetTile&SERVICE=WMTS&VERSION=1.0.0&STYLE=CORINE Land Cover&TILEMATRIXSET=PM&FORMAT=image/png&LAYER=LANDCOVER.GRID.CLC06R&TILEMATRIX={z}&TILEROW={y}&TILECOL={x}"
      }
     },
     "5382e39d911d4a1cad2a254ab5f94c66": {
      "model_module": "jupyter-leaflet",
      "model_module_version": "^0.17.0",
      "model_name": "LeafletTileLayerModel",
      "state": {
       "_model_module_version": "^0.17.0",
       "_view_module_version": "^0.17.0",
       "attribution": "Geoportail France",
       "max_zoom": 16,
       "name": "GeoportailFrance.Insee_Filosofi_Part_Logements_Avant_1945_Secret",
       "options": [
        "attribution",
        "bounds",
        "detect_retina",
        "max_native_zoom",
        "max_zoom",
        "min_native_zoom",
        "min_zoom",
        "no_wrap",
        "tile_size",
        "tms"
       ],
       "url": "https://wxs.ign.fr/economie/geoportail/wmts?REQUEST=GetTile&SERVICE=WMTS&VERSION=1.0.0&STYLE=INSEE&TILEMATRIXSET=PM&FORMAT=image/png&LAYER=INSEE.FILOSOFI.PART.LOGEMENTS.AVANT.1945.SECRET&TILEMATRIX={z}&TILEROW={y}&TILECOL={x}"
      }
     },
     "53e481cc87c34ae2817dc870a4a8ffef": {
      "model_module": "jupyter-leaflet",
      "model_module_version": "^0.17.0",
      "model_name": "LeafletTileLayerModel",
      "state": {
       "_model_module_version": "^0.17.0",
       "_view_module_version": "^0.17.0",
       "attribution": "Geoportail France",
       "max_zoom": 15,
       "name": "GeoportailFrance.Ortho-sat-rapideye-2010_pyr-jpeg_wld_wm_20160801",
       "options": [
        "attribution",
        "bounds",
        "detect_retina",
        "max_native_zoom",
        "max_zoom",
        "min_native_zoom",
        "min_zoom",
        "no_wrap",
        "tile_size",
        "tms"
       ],
       "url": "https://wxs.ign.fr/satellite/geoportail/wmts?REQUEST=GetTile&SERVICE=WMTS&VERSION=1.0.0&STYLE=normal&TILEMATRIXSET=PM&FORMAT=image/jpeg&LAYER=ORTHO-SAT-RAPIDEYE-2010_PYR-JPEG_WLD_WM_20160801&TILEMATRIX={z}&TILEROW={y}&TILECOL={x}"
      }
     },
     "54590fc17f7043469cdbfd1a7c60a048": {
      "model_module": "jupyter-leaflet",
      "model_module_version": "^0.17.0",
      "model_name": "LeafletWMSLayerModel",
      "state": {
       "_model_module_version": "^0.17.0",
       "_view_module_version": "^0.17.0",
       "attribution": "USGS",
       "crs": {
        "custom": false,
        "name": "EPSG3857"
       },
       "format": "image/png",
       "layers": "0",
       "name": "USGS Hydrography",
       "options": [
        "attribution",
        "bounds",
        "detect_retina",
        "format",
        "layers",
        "max_native_zoom",
        "max_zoom",
        "min_native_zoom",
        "min_zoom",
        "no_wrap",
        "styles",
        "tile_size",
        "tms",
        "transparent",
        "uppercase"
       ],
       "transparent": true,
       "url": "https://basemap.nationalmap.gov/arcgis/services/USGSHydroCached/MapServer/WMSServer?"
      }
     },
     "550fd1305c7c47df9c634940397ef11c": {
      "model_module": "jupyter-leaflet",
      "model_module_version": "^0.17.0",
      "model_name": "LeafletTileLayerModel",
      "state": {
       "_model_module_version": "^0.17.0",
       "_view_module_version": "^0.17.0",
       "attribution": "Justice Map",
       "max_zoom": 22,
       "name": "JusticeMap.plurality",
       "options": [
        "attribution",
        "bounds",
        "detect_retina",
        "max_native_zoom",
        "max_zoom",
        "min_native_zoom",
        "min_zoom",
        "no_wrap",
        "tile_size",
        "tms"
       ],
       "url": "https://www.justicemap.org/tile/county/plural/{z}/{x}/{y}.png"
      }
     },
     "552412ad5f924399b4017203c64e23f6": {
      "model_module": "jupyter-leaflet",
      "model_module_version": "^0.17.0",
      "model_name": "LeafletWMSLayerModel",
      "state": {
       "_model_module_version": "^0.17.0",
       "_view_module_version": "^0.17.0",
       "attribution": "ESA",
       "crs": {
        "custom": false,
        "name": "EPSG3857"
       },
       "format": "image/png",
       "layers": "WORLDCOVER_2020_S2_TCC",
       "name": "ESA Worldcover 2020 S2 TCC",
       "options": [
        "attribution",
        "bounds",
        "detect_retina",
        "format",
        "layers",
        "max_native_zoom",
        "max_zoom",
        "min_native_zoom",
        "min_zoom",
        "no_wrap",
        "styles",
        "tile_size",
        "tms",
        "transparent",
        "uppercase"
       ],
       "transparent": true,
       "url": "https://services.terrascope.be/wms/v2"
      }
     },
     "59411d9d666f4729ad3162d90e388149": {
      "model_module": "jupyter-leaflet",
      "model_module_version": "^0.17.0",
      "model_name": "LeafletTileLayerModel",
      "state": {
       "_model_module_version": "^0.17.0",
       "_view_module_version": "^0.17.0",
       "attribution": "Geoportail France",
       "max_zoom": 19,
       "name": "GeoportailFrance.Orthoimagery_Ortho_sat_Pleiades_2022",
       "options": [
        "attribution",
        "bounds",
        "detect_retina",
        "max_native_zoom",
        "max_zoom",
        "min_native_zoom",
        "min_zoom",
        "no_wrap",
        "tile_size",
        "tms"
       ],
       "url": "https://wxs.ign.fr/satellite/geoportail/wmts?REQUEST=GetTile&SERVICE=WMTS&VERSION=1.0.0&STYLE=normal&TILEMATRIXSET=PM&FORMAT=image/png&LAYER=ORTHOIMAGERY.ORTHO-SAT.PLEIADES.2022&TILEMATRIX={z}&TILEROW={y}&TILECOL={x}"
      }
     },
     "59e281f17e7c44adbf800d23a9e16631": {
      "model_module": "jupyter-leaflet",
      "model_module_version": "^0.17.0",
      "model_name": "LeafletTileLayerModel",
      "state": {
       "_model_module_version": "^0.17.0",
       "_view_module_version": "^0.17.0",
       "attribution": "Geoportail France",
       "max_zoom": 17,
       "name": "GeoportailFrance.Securoute_Te_1te",
       "options": [
        "attribution",
        "bounds",
        "detect_retina",
        "max_native_zoom",
        "max_zoom",
        "min_native_zoom",
        "min_zoom",
        "no_wrap",
        "tile_size",
        "tms"
       ],
       "url": "https://wxs.ign.fr/transports/geoportail/wmts?REQUEST=GetTile&SERVICE=WMTS&VERSION=1.0.0&STYLE=RESEAU ROUTIER 1TE&TILEMATRIXSET=PM&FORMAT=image/png&LAYER=SECUROUTE.TE.1TE&TILEMATRIX={z}&TILEROW={y}&TILECOL={x}"
      }
     },
     "5b6916e2104a4fddac9f9e397a5d02f8": {
      "model_module": "jupyter-leaflet",
      "model_module_version": "^0.17.0",
      "model_name": "LeafletTileLayerModel",
      "state": {
       "_model_module_version": "^0.17.0",
       "_view_module_version": "^0.17.0",
       "attribution": "Geoportail France",
       "name": "GeoportailFrance.Orthoimagery_Orthophotos2009",
       "options": [
        "attribution",
        "bounds",
        "detect_retina",
        "max_native_zoom",
        "max_zoom",
        "min_native_zoom",
        "min_zoom",
        "no_wrap",
        "tile_size",
        "tms"
       ],
       "url": "https://wxs.ign.fr/orthohisto/geoportail/wmts?REQUEST=GetTile&SERVICE=WMTS&VERSION=1.0.0&STYLE=normal&TILEMATRIXSET=PM&FORMAT=image/jpeg&LAYER=ORTHOIMAGERY.ORTHOPHOTOS2009&TILEMATRIX={z}&TILEROW={y}&TILECOL={x}"
      }
     },
     "5d40323988444e02b925a71b7f1896d5": {
      "model_module": "jupyter-leaflet",
      "model_module_version": "^0.17.0",
      "model_name": "LeafletTileLayerModel",
      "state": {
       "_model_module_version": "^0.17.0",
       "_view_module_version": "^0.17.0",
       "attribution": "Geoportail France",
       "max_zoom": 19,
       "name": "GeoportailFrance.Orthoimagery_Orthophotos_Socle_asp_2018",
       "options": [
        "attribution",
        "bounds",
        "detect_retina",
        "max_native_zoom",
        "max_zoom",
        "min_native_zoom",
        "min_zoom",
        "no_wrap",
        "tile_size",
        "tms"
       ],
       "url": "https://wxs.ign.fr/orthohisto/geoportail/wmts?REQUEST=GetTile&SERVICE=WMTS&VERSION=1.0.0&STYLE=normal&TILEMATRIXSET=PM&FORMAT=image/jpeg&LAYER=ORTHOIMAGERY.ORTHOPHOTOS.SOCLE-ASP.2018&TILEMATRIX={z}&TILEROW={y}&TILECOL={x}"
      }
     },
     "5d45837769a94c399deb91a2468d0d99": {
      "model_module": "jupyter-leaflet",
      "model_module_version": "^0.17.0",
      "model_name": "LeafletTileLayerModel",
      "state": {
       "_model_module_version": "^0.17.0",
       "_view_module_version": "^0.17.0",
       "attribution": "Geoportail France",
       "max_zoom": 17,
       "name": "GeoportailFrance.Geographicalgridsystems_Slopes_Mountain",
       "options": [
        "attribution",
        "bounds",
        "detect_retina",
        "max_native_zoom",
        "max_zoom",
        "min_native_zoom",
        "min_zoom",
        "no_wrap",
        "tile_size",
        "tms"
       ],
       "url": "https://wxs.ign.fr/altimetrie/geoportail/wmts?REQUEST=GetTile&SERVICE=WMTS&VERSION=1.0.0&STYLE=normal&TILEMATRIXSET=PM&FORMAT=image/png&LAYER=GEOGRAPHICALGRIDSYSTEMS.SLOPES.MOUNTAIN&TILEMATRIX={z}&TILEROW={y}&TILECOL={x}"
      }
     },
     "5d698c9317bd45c79e779dbc6011e678": {
      "model_module": "@jupyter-widgets/base",
      "model_module_version": "1.2.0",
      "model_name": "LayoutModel",
      "state": {}
     },
     "5e0fef330886421aae523a081ec35ce6": {
      "model_module": "jupyter-leaflet",
      "model_module_version": "^0.17.0",
      "model_name": "LeafletTileLayerModel",
      "state": {
       "_model_module_version": "^0.17.0",
       "_view_module_version": "^0.17.0",
       "attribution": "Geoportail France",
       "max_zoom": 19,
       "name": "GeoportailFrance.Orthoimagery_Orthophotos_Ortho_express_2020",
       "options": [
        "attribution",
        "bounds",
        "detect_retina",
        "max_native_zoom",
        "max_zoom",
        "min_native_zoom",
        "min_zoom",
        "no_wrap",
        "tile_size",
        "tms"
       ],
       "url": "https://wxs.ign.fr/orthohisto/geoportail/wmts?REQUEST=GetTile&SERVICE=WMTS&VERSION=1.0.0&STYLE=normal&TILEMATRIXSET=PM&FORMAT=image/jpeg&LAYER=ORTHOIMAGERY.ORTHOPHOTOS.ORTHO-EXPRESS.2020&TILEMATRIX={z}&TILEROW={y}&TILECOL={x}"
      }
     },
     "5e6776bc60a94432b103238abbb7b2dc": {
      "model_module": "jupyter-leaflet",
      "model_module_version": "^0.17.0",
      "model_name": "LeafletTileLayerModel",
      "state": {
       "_model_module_version": "^0.17.0",
       "_view_module_version": "^0.17.0",
       "attribution": "Geoportail France",
       "max_zoom": 16,
       "name": "GeoportailFrance.Areamanagement_Zus",
       "options": [
        "attribution",
        "bounds",
        "detect_retina",
        "max_native_zoom",
        "max_zoom",
        "min_native_zoom",
        "min_zoom",
        "no_wrap",
        "tile_size",
        "tms"
       ],
       "url": "https://wxs.ign.fr/economie/geoportail/wmts?REQUEST=GetTile&SERVICE=WMTS&VERSION=1.0.0&STYLE=normal&TILEMATRIXSET=PM&FORMAT=image/png&LAYER=AREAMANAGEMENT.ZUS&TILEMATRIX={z}&TILEROW={y}&TILECOL={x}"
      }
     },
     "5e9f5e2bc5a74a1fb433447b1b22d141": {
      "model_module": "jupyter-leaflet",
      "model_module_version": "^0.17.0",
      "model_name": "LeafletTileLayerModel",
      "state": {
       "_model_module_version": "^0.17.0",
       "_view_module_version": "^0.17.0",
       "attribution": "Geoportail France",
       "name": "GeoportailFrance.Orthoimagery_Orthophotos2016",
       "options": [
        "attribution",
        "bounds",
        "detect_retina",
        "max_native_zoom",
        "max_zoom",
        "min_native_zoom",
        "min_zoom",
        "no_wrap",
        "tile_size",
        "tms"
       ],
       "url": "https://wxs.ign.fr/orthohisto/geoportail/wmts?REQUEST=GetTile&SERVICE=WMTS&VERSION=1.0.0&STYLE=normal&TILEMATRIXSET=PM&FORMAT=image/jpeg&LAYER=ORTHOIMAGERY.ORTHOPHOTOS2016&TILEMATRIX={z}&TILEROW={y}&TILECOL={x}"
      }
     },
     "5eb21239eef34bc19f294c67c2942a34": {
      "model_module": "jupyter-leaflet",
      "model_module_version": "^0.17.0",
      "model_name": "LeafletTileLayerModel",
      "state": {
       "_model_module_version": "^0.17.0",
       "_view_module_version": "^0.17.0",
       "attribution": "Imagery provided by services from the Global Imagery Browse Services (GIBS), operated by the NASA/GSFC/Earth Science Data and Information System (ESDIS) with funding provided by NASA/HQ.",
       "max_zoom": 9,
       "name": "NASAGIBS.ModisAquaBands721CR",
       "options": [
        "attribution",
        "bounds",
        "detect_retina",
        "max_native_zoom",
        "max_zoom",
        "min_native_zoom",
        "min_zoom",
        "no_wrap",
        "tile_size",
        "tms"
       ],
       "url": "https://gibs.earthdata.nasa.gov/wmts/epsg3857/best/MODIS_Aqua_CorrectedReflectance_Bands721/default//GoogleMapsCompatible_Level9/{z}/{y}/{x}.jpg"
      }
     },
     "5f017a0cbb024491b22ce7cd8c39e0a9": {
      "model_module": "jupyter-leaflet",
      "model_module_version": "^0.17.0",
      "model_name": "LeafletTileLayerModel",
      "state": {
       "_model_module_version": "^0.17.0",
       "_view_module_version": "^0.17.0",
       "attribution": "(C) OpenStreetMap contributors (C) CARTO",
       "max_zoom": 20,
       "name": "CartoDB.DarkMatterOnlyLabels",
       "options": [
        "attribution",
        "bounds",
        "detect_retina",
        "max_native_zoom",
        "max_zoom",
        "min_native_zoom",
        "min_zoom",
        "no_wrap",
        "tile_size",
        "tms"
       ],
       "url": "https://a.basemaps.cartocdn.com/dark_only_labels/{z}/{x}/{y}.png"
      }
     },
     "5f3e8403339141d4baf34492003f3659": {
      "model_module": "jupyter-leaflet",
      "model_module_version": "^0.17.0",
      "model_name": "LeafletTileLayerModel",
      "state": {
       "_model_module_version": "^0.17.0",
       "_view_module_version": "^0.17.0",
       "attribution": "CyclOSM | Map data: (C) OpenStreetMap contributors",
       "max_zoom": 20,
       "name": "CyclOSM",
       "options": [
        "attribution",
        "bounds",
        "detect_retina",
        "max_native_zoom",
        "max_zoom",
        "min_native_zoom",
        "min_zoom",
        "no_wrap",
        "tile_size",
        "tms"
       ],
       "url": "https://a.tile-cyclosm.openstreetmap.fr/cyclosm/{z}/{x}/{y}.png"
      }
     },
     "5fec4a556fd845fdaccb321c5d66f5ef": {
      "model_module": "@jupyter-widgets/controls",
      "model_module_version": "1.5.0",
      "model_name": "RadioButtonsModel",
      "state": {
       "_options_labels": [
        "RGB",
        "MNDWI",
        "NDWI",
        "5 Bands"
       ],
       "description": "Model Input:",
       "index": 0,
       "layout": "IPY_MODEL_fbfcb577cac04434a7d227d179e25b1c",
       "style": "IPY_MODEL_45be17261df64496943f9292c4161699"
      }
     },
     "6066c8632e1d4380a8d935c0502e1358": {
      "model_module": "jupyter-leaflet",
      "model_module_version": "^0.17.0",
      "model_name": "LeafletTileLayerModel",
      "state": {
       "_model_module_version": "^0.17.0",
       "_view_module_version": "^0.17.0",
       "attribution": "Justice Map",
       "max_zoom": 22,
       "name": "JusticeMap.hispanic",
       "options": [
        "attribution",
        "bounds",
        "detect_retina",
        "max_native_zoom",
        "max_zoom",
        "min_native_zoom",
        "min_zoom",
        "no_wrap",
        "tile_size",
        "tms"
       ],
       "url": "https://www.justicemap.org/tile/county/hispanic/{z}/{x}/{y}.png"
      }
     },
     "60738031425e4c568971c76718a8132d": {
      "model_module": "jupyter-leaflet",
      "model_module_version": "^0.17.0",
      "model_name": "LeafletTileLayerModel",
      "state": {
       "_model_module_version": "^0.17.0",
       "_view_module_version": "^0.17.0",
       "attribution": "Geoportail France",
       "max_zoom": 16,
       "name": "GeoportailFrance.Landuse_Agriculture2017",
       "options": [
        "attribution",
        "bounds",
        "detect_retina",
        "max_native_zoom",
        "max_zoom",
        "min_native_zoom",
        "min_zoom",
        "no_wrap",
        "tile_size",
        "tms"
       ],
       "url": "https://wxs.ign.fr/agriculture/geoportail/wmts?REQUEST=GetTile&SERVICE=WMTS&VERSION=1.0.0&STYLE=normal&TILEMATRIXSET=PM&FORMAT=image/png&LAYER=LANDUSE.AGRICULTURE2017&TILEMATRIX={z}&TILEROW={y}&TILECOL={x}"
      }
     },
     "609acd73268e4e15858007e0e3bd3082": {
      "model_module": "jupyter-leaflet",
      "model_module_version": "^0.17.0",
      "model_name": "LeafletWMSLayerModel",
      "state": {
       "_model_module_version": "^0.17.0",
       "_view_module_version": "^0.17.0",
       "attribution": "USGS",
       "crs": {
        "custom": false,
        "name": "EPSG3857"
       },
       "format": "image/png",
       "layers": "USGSNAIPImagery:FalseColorComposite",
       "name": "USGS NAIP Imagery False Color",
       "options": [
        "attribution",
        "bounds",
        "detect_retina",
        "format",
        "layers",
        "max_native_zoom",
        "max_zoom",
        "min_native_zoom",
        "min_zoom",
        "no_wrap",
        "styles",
        "tile_size",
        "tms",
        "transparent",
        "uppercase"
       ],
       "transparent": true,
       "url": "https://imagery.nationalmap.gov/arcgis/services/USGSNAIPImagery/ImageServer/WMSServer?"
      }
     },
     "614673cedfc24ba3a2e0d54956cd3966": {
      "model_module": "jupyter-leaflet",
      "model_module_version": "^0.17.0",
      "model_name": "LeafletTileLayerModel",
      "state": {
       "_model_module_version": "^0.17.0",
       "_view_module_version": "^0.17.0",
       "attribution": "Imagery provided by services from the Global Imagery Browse Services (GIBS), operated by the NASA/GSFC/Earth Science Data and Information System (ESDIS) with funding provided by NASA/HQ.",
       "max_zoom": 12,
       "name": "NASAGIBS.ASTER_GDEM_Greyscale_Shaded_Relief",
       "options": [
        "attribution",
        "bounds",
        "detect_retina",
        "max_native_zoom",
        "max_zoom",
        "min_native_zoom",
        "min_zoom",
        "no_wrap",
        "tile_size",
        "tms"
       ],
       "url": "https://gibs.earthdata.nasa.gov/wmts/epsg3857/best/ASTER_GDEM_Greyscale_Shaded_Relief/default/GoogleMapsCompatible_Level12/{z}/{y}/{x}.jpg"
      }
     },
     "6152e538b85844fb8377c054ae80240b": {
      "model_module": "jupyter-leaflet",
      "model_module_version": "^0.17.0",
      "model_name": "LeafletTileLayerModel",
      "state": {
       "_model_module_version": "^0.17.0",
       "_view_module_version": "^0.17.0",
       "attribution": "Geoportail France",
       "max_zoom": 16,
       "name": "GeoportailFrance.Ocsge_Couverture_2002",
       "options": [
        "attribution",
        "bounds",
        "detect_retina",
        "max_native_zoom",
        "max_zoom",
        "min_native_zoom",
        "min_zoom",
        "no_wrap",
        "tile_size",
        "tms"
       ],
       "url": "https://wxs.ign.fr/ocsge/geoportail/wmts?REQUEST=GetTile&SERVICE=WMTS&VERSION=1.0.0&STYLE=normal&TILEMATRIXSET=PM&FORMAT=image/png&LAYER=OCSGE.COUVERTURE.2002&TILEMATRIX={z}&TILEROW={y}&TILECOL={x}"
      }
     },
     "617341aaea444864af21041bea1445b5": {
      "model_module": "jupyter-leaflet",
      "model_module_version": "^0.17.0",
      "model_name": "LeafletTileLayerModel",
      "state": {
       "_model_module_version": "^0.17.0",
       "_view_module_version": "^0.17.0",
       "attribution": "![](https://docs.onemap.sg/maps/images/oneMap64-01.png) New OneMap | Map data (C) contributors, Singapore Land Authority",
       "name": "OneMapSG.Original",
       "options": [
        "attribution",
        "bounds",
        "detect_retina",
        "max_native_zoom",
        "max_zoom",
        "min_native_zoom",
        "min_zoom",
        "no_wrap",
        "tile_size",
        "tms"
       ],
       "url": "https://maps-a.onemap.sg/v3/Original/{z}/{x}/{y}.png"
      }
     },
     "617fcac69f7e48cb9aded4a58fab7775": {
      "model_module": "jupyter-leaflet",
      "model_module_version": "^0.17.0",
      "model_name": "LeafletTileLayerModel",
      "state": {
       "_model_module_version": "^0.17.0",
       "_view_module_version": "^0.17.0",
       "attribution": "Geoportail France",
       "name": "GeoportailFrance.Orthoimagery_Orthophotos_Ortho_asp_pac2022",
       "options": [
        "attribution",
        "bounds",
        "detect_retina",
        "max_native_zoom",
        "max_zoom",
        "min_native_zoom",
        "min_zoom",
        "no_wrap",
        "tile_size",
        "tms"
       ],
       "url": "https://wxs.ign.fr/ortho/geoportail/wmts?REQUEST=GetTile&SERVICE=WMTS&VERSION=1.0.0&STYLE=normal&TILEMATRIXSET=PM&FORMAT=image/jpeg&LAYER=ORTHOIMAGERY.ORTHOPHOTOS.ORTHO-ASP_PAC2022&TILEMATRIX={z}&TILEROW={y}&TILECOL={x}"
      }
     },
     "62078521837041628a614a720fe63b1c": {
      "model_module": "jupyter-leaflet",
      "model_module_version": "^0.17.0",
      "model_name": "LeafletTileLayerModel",
      "state": {
       "_model_module_version": "^0.17.0",
       "_view_module_version": "^0.17.0",
       "attribution": "Geoportail France",
       "max_zoom": 16,
       "name": "GeoportailFrance.Insee_Filosofi_Enfants_0_17_Ans_Secret",
       "options": [
        "attribution",
        "bounds",
        "detect_retina",
        "max_native_zoom",
        "max_zoom",
        "min_native_zoom",
        "min_zoom",
        "no_wrap",
        "tile_size",
        "tms"
       ],
       "url": "https://wxs.ign.fr/economie/geoportail/wmts?REQUEST=GetTile&SERVICE=WMTS&VERSION=1.0.0&STYLE=INSEE&TILEMATRIXSET=PM&FORMAT=image/png&LAYER=INSEE.FILOSOFI.ENFANTS.0.17.ANS.SECRET&TILEMATRIX={z}&TILEROW={y}&TILECOL={x}"
      }
     },
     "621bb81ad924404d8ad243a5217a3e2e": {
      "model_module": "jupyter-leaflet",
      "model_module_version": "^0.17.0",
      "model_name": "LeafletTileLayerModel",
      "state": {
       "_model_module_version": "^0.17.0",
       "_view_module_version": "^0.17.0",
       "attribution": "![](https://docs.onemap.sg/maps/images/oneMap64-01.png) New OneMap | Map data (C) contributors, Singapore Land Authority",
       "name": "OneMapSG.Night",
       "options": [
        "attribution",
        "bounds",
        "detect_retina",
        "max_native_zoom",
        "max_zoom",
        "min_native_zoom",
        "min_zoom",
        "no_wrap",
        "tile_size",
        "tms"
       ],
       "url": "https://maps-a.onemap.sg/v3/Night/{z}/{x}/{y}.png"
      }
     },
     "62d4863e8b3849afa1e3e1dae652ffcd": {
      "model_module": "jupyter-leaflet",
      "model_module_version": "^0.17.0",
      "model_name": "LeafletTileLayerModel",
      "state": {
       "_model_module_version": "^0.17.0",
       "_view_module_version": "^0.17.0",
       "attribution": "&copy; <a href=\"http://www.gaode.com/\">Gaode.com</a>",
       "max_zoom": 19,
       "name": "Gaode.Normal",
       "options": [
        "attribution",
        "bounds",
        "detect_retina",
        "max_native_zoom",
        "max_zoom",
        "min_native_zoom",
        "min_zoom",
        "no_wrap",
        "tile_size",
        "tms"
       ],
       "url": "http://webrd01.is.autonavi.com/appmaptile?lang=zh_cn&size=1&scale=1&style=7&x={x}&y={y}&z={z}"
      }
     },
     "62ea7de688db4283bb690bfbf8d4152d": {
      "model_module": "jupyter-leaflet",
      "model_module_version": "^0.17.0",
      "model_name": "LeafletTileLayerModel",
      "state": {
       "_model_module_version": "^0.17.0",
       "_view_module_version": "^0.17.0",
       "attribution": "(C) Stadia Maps, (C) OpenMapTiles (C) OpenStreetMap contributors",
       "max_zoom": 20,
       "name": "Stadia.OSMBright",
       "options": [
        "attribution",
        "bounds",
        "detect_retina",
        "max_native_zoom",
        "max_zoom",
        "min_native_zoom",
        "min_zoom",
        "no_wrap",
        "tile_size",
        "tms"
       ],
       "url": "https://tiles.stadiamaps.com/tiles/osm_bright/{z}/{x}/{y}.png"
      }
     },
     "63048e69959942179cf197387d05f7d0": {
      "model_module": "jupyter-leaflet",
      "model_module_version": "^0.17.0",
      "model_name": "LeafletTileLayerModel",
      "state": {
       "_model_module_version": "^0.17.0",
       "_view_module_version": "^0.17.0",
       "attribution": "Geoportail France",
       "max_zoom": 16,
       "name": "GeoportailFrance.Protectedareas_Rn",
       "options": [
        "attribution",
        "bounds",
        "detect_retina",
        "max_native_zoom",
        "max_zoom",
        "min_native_zoom",
        "min_zoom",
        "no_wrap",
        "tile_size",
        "tms"
       ],
       "url": "https://wxs.ign.fr/environnement/geoportail/wmts?REQUEST=GetTile&SERVICE=WMTS&VERSION=1.0.0&STYLE=normal&TILEMATRIXSET=PM&FORMAT=image/png&LAYER=PROTECTEDAREAS.RN&TILEMATRIX={z}&TILEROW={y}&TILECOL={x}"
      }
     },
     "63df230648db4ee79ba550a9bfd90cf0": {
      "model_module": "jupyter-leaflet",
      "model_module_version": "^0.17.0",
      "model_name": "LeafletTileLayerModel",
      "state": {
       "_model_module_version": "^0.17.0",
       "_view_module_version": "^0.17.0",
       "attribution": "Geoportail France",
       "name": "GeoportailFrance.Orthoimagery_Orthophotos2011_2015",
       "options": [
        "attribution",
        "bounds",
        "detect_retina",
        "max_native_zoom",
        "max_zoom",
        "min_native_zoom",
        "min_zoom",
        "no_wrap",
        "tile_size",
        "tms"
       ],
       "url": "https://wxs.ign.fr/orthohisto/geoportail/wmts?REQUEST=GetTile&SERVICE=WMTS&VERSION=1.0.0&STYLE=normal&TILEMATRIXSET=PM&FORMAT=image/jpeg&LAYER=ORTHOIMAGERY.ORTHOPHOTOS2011-2015&TILEMATRIX={z}&TILEROW={y}&TILECOL={x}"
      }
     },
     "63f14b62b7d24a08b678b437fa94fcfd": {
      "model_module": "jupyter-leaflet",
      "model_module_version": "^0.17.0",
      "model_name": "LeafletTileLayerModel",
      "state": {
       "_model_module_version": "^0.17.0",
       "_view_module_version": "^0.17.0",
       "attribution": "Geoportail France",
       "max_zoom": 13,
       "name": "GeoportailFrance.Landcover_Hr_Dlt_Clc15",
       "options": [
        "attribution",
        "bounds",
        "detect_retina",
        "max_native_zoom",
        "max_zoom",
        "min_native_zoom",
        "min_zoom",
        "no_wrap",
        "tile_size",
        "tms"
       ],
       "url": "https://wxs.ign.fr/clc/geoportail/wmts?REQUEST=GetTile&SERVICE=WMTS&VERSION=1.0.0&STYLE=CORINE Land Cover - HR - type de forêts&TILEMATRIXSET=PM&FORMAT=image/png&LAYER=LANDCOVER.HR.DLT.CLC15&TILEMATRIX={z}&TILEROW={y}&TILECOL={x}"
      }
     },
     "6490b2e9586c41e59439d9f4eec05a88": {
      "model_module": "jupyter-leaflet",
      "model_module_version": "^0.17.0",
      "model_name": "LeafletTileLayerModel",
      "state": {
       "_model_module_version": "^0.17.0",
       "_view_module_version": "^0.17.0",
       "attribution": "Geoportail France",
       "name": "GeoportailFrance.Orthoimagery_Ortho_sat_Pleiades_2013",
       "options": [
        "attribution",
        "bounds",
        "detect_retina",
        "max_native_zoom",
        "max_zoom",
        "min_native_zoom",
        "min_zoom",
        "no_wrap",
        "tile_size",
        "tms"
       ],
       "url": "https://wxs.ign.fr/satellite/geoportail/wmts?REQUEST=GetTile&SERVICE=WMTS&VERSION=1.0.0&STYLE=normal&TILEMATRIXSET=PM&FORMAT=image/png&LAYER=ORTHOIMAGERY.ORTHO-SAT.PLEIADES.2013&TILEMATRIX={z}&TILEROW={y}&TILECOL={x}"
      }
     },
     "64fac2f0023243e48aa3202ae5c6c77d": {
      "model_module": "jupyter-leaflet",
      "model_module_version": "^0.17.0",
      "model_name": "LeafletTileLayerModel",
      "state": {
       "_model_module_version": "^0.17.0",
       "_view_module_version": "^0.17.0",
       "attribution": "(C) OpenStreetMap contributors, Tiles style by Humanitarian OpenStreetMap Team hosted by OpenStreetMap France",
       "max_zoom": 19,
       "name": "OpenStreetMap.HOT",
       "options": [
        "attribution",
        "bounds",
        "detect_retina",
        "max_native_zoom",
        "max_zoom",
        "min_native_zoom",
        "min_zoom",
        "no_wrap",
        "tile_size",
        "tms"
       ],
       "url": "https://a.tile.openstreetmap.fr/hot/{z}/{x}/{y}.png"
      }
     },
     "656950f20e5f480cbe7cd4a228555979": {
      "model_module": "@jupyter-widgets/controls",
      "model_module_version": "1.5.0",
      "model_name": "DescriptionStyleModel",
      "state": {
       "description_width": ""
      }
     },
     "65914bbfd49f42b4ae21e115cc25e552": {
      "model_module": "jupyter-leaflet",
      "model_module_version": "^0.17.0",
      "model_name": "LeafletTileLayerModel",
      "state": {
       "_model_module_version": "^0.17.0",
       "_view_module_version": "^0.17.0",
       "attribution": "(C) OpenStreetMap contributors (C) CARTO",
       "max_zoom": 20,
       "name": "CartoDB.PositronOnlyLabels",
       "options": [
        "attribution",
        "bounds",
        "detect_retina",
        "max_native_zoom",
        "max_zoom",
        "min_native_zoom",
        "min_zoom",
        "no_wrap",
        "tile_size",
        "tms"
       ],
       "url": "https://a.basemaps.cartocdn.com/light_only_labels/{z}/{x}/{y}.png"
      }
     },
     "65a15310831f4053afbf88ad6375b0db": {
      "model_module": "jupyter-leaflet",
      "model_module_version": "^0.17.0",
      "model_name": "LeafletTileLayerModel",
      "state": {
       "_model_module_version": "^0.17.0",
       "_view_module_version": "^0.17.0",
       "attribution": "Geoportail France",
       "max_zoom": 13,
       "name": "GeoportailFrance.Landcover_Hr_Imd_Clc15",
       "options": [
        "attribution",
        "bounds",
        "detect_retina",
        "max_native_zoom",
        "max_zoom",
        "min_native_zoom",
        "min_zoom",
        "no_wrap",
        "tile_size",
        "tms"
       ],
       "url": "https://wxs.ign.fr/clc/geoportail/wmts?REQUEST=GetTile&SERVICE=WMTS&VERSION=1.0.0&STYLE=CORINE Land Cover - HR - taux d'imperméabilisation des sols&TILEMATRIXSET=PM&FORMAT=image/png&LAYER=LANDCOVER.HR.IMD.CLC15&TILEMATRIX={z}&TILEROW={y}&TILECOL={x}"
      }
     },
     "6628ca7df49b4e969c7b9ccca5026652": {
      "model_module": "jupyter-leaflet",
      "model_module_version": "^0.17.0",
      "model_name": "LeafletTileLayerModel",
      "state": {
       "_model_module_version": "^0.17.0",
       "_view_module_version": "^0.17.0",
       "attribution": "Map data: (C) OpenStreetMap contributors | Map style: (C) waymarkedtrails.org (CC-BY-SA)",
       "name": "WaymarkedTrails.mtb",
       "options": [
        "attribution",
        "bounds",
        "detect_retina",
        "max_native_zoom",
        "max_zoom",
        "min_native_zoom",
        "min_zoom",
        "no_wrap",
        "tile_size",
        "tms"
       ],
       "url": "https://tile.waymarkedtrails.org/mtb/{z}/{x}/{y}.png"
      }
     },
     "68b02c10612e463bbb64f63bd8fefd29": {
      "model_module": "@jupyter-widgets/base",
      "model_module_version": "1.2.0",
      "model_name": "LayoutModel",
      "state": {}
     },
     "696a0644a9854da98a86e60f280a6a4e": {
      "model_module": "jupyter-leaflet",
      "model_module_version": "^0.17.0",
      "model_name": "LeafletTileLayerModel",
      "state": {
       "_model_module_version": "^0.17.0",
       "_view_module_version": "^0.17.0",
       "attribution": "Geoportail France",
       "max_zoom": 16,
       "name": "GeoportailFrance.Landcover_Clc12r_dom",
       "options": [
        "attribution",
        "bounds",
        "detect_retina",
        "max_native_zoom",
        "max_zoom",
        "min_native_zoom",
        "min_zoom",
        "no_wrap",
        "tile_size",
        "tms"
       ],
       "url": "https://wxs.ign.fr/clc/geoportail/wmts?REQUEST=GetTile&SERVICE=WMTS&VERSION=1.0.0&STYLE=CORINE Land Cover - DOM&TILEMATRIXSET=PM&FORMAT=image/png&LAYER=LANDCOVER.CLC12R_DOM&TILEMATRIX={z}&TILEROW={y}&TILECOL={x}"
      }
     },
     "699079c704c04357b14ef8dc6d4dd7d9": {
      "model_module": "jupyter-leaflet",
      "model_module_version": "^0.17.0",
      "model_name": "LeafletTileLayerModel",
      "state": {
       "_model_module_version": "^0.17.0",
       "_view_module_version": "^0.17.0",
       "attribution": "Geoportail France",
       "max_zoom": 16,
       "name": "GeoportailFrance.Landcover_Clc18",
       "options": [
        "attribution",
        "bounds",
        "detect_retina",
        "max_native_zoom",
        "max_zoom",
        "min_native_zoom",
        "min_zoom",
        "no_wrap",
        "tile_size",
        "tms"
       ],
       "url": "https://wxs.ign.fr/clc/geoportail/wmts?REQUEST=GetTile&SERVICE=WMTS&VERSION=1.0.0&STYLE=CORINE Land Cover&TILEMATRIXSET=PM&FORMAT=image/png&LAYER=LANDCOVER.CLC18&TILEMATRIX={z}&TILEROW={y}&TILECOL={x}"
      }
     },
     "69c3234e29ed4010844efa26d85e3335": {
      "model_module": "@jupyter-widgets/controls",
      "model_module_version": "1.5.0",
      "model_name": "DescriptionStyleModel",
      "state": {
       "description_width": "initial"
      }
     },
     "69c942b1b1ac423fbd71dc2e5136a95e": {
      "model_module": "jupyter-leaflet",
      "model_module_version": "^0.17.0",
      "model_name": "LeafletTileLayerModel",
      "state": {
       "_model_module_version": "^0.17.0",
       "_view_module_version": "^0.17.0",
       "attribution": "Imagery provided by NOAA National Centers for Environmental Information (NCEI); International Bathymetric Chart of the Southern Ocean (IBCSO); General Bathymetric Chart of the Oceans (GEBCO).",
       "max_zoom": 9,
       "name": "Esri.AntarcticBasemap",
       "options": [
        "attribution",
        "bounds",
        "detect_retina",
        "max_native_zoom",
        "max_zoom",
        "min_native_zoom",
        "min_zoom",
        "no_wrap",
        "tile_size",
        "tms"
       ],
       "url": "https://tiles.arcgis.com/tiles/C8EMgrsFcRFL6LrL/arcgis/rest/services/Antarctic_Basemap/MapServer/tile/{z}/{y}/{x}"
      }
     },
     "69cc684b85ee4c6fa38b75aa5f75fa4c": {
      "model_module": "jupyter-leaflet",
      "model_module_version": "^0.17.0",
      "model_name": "LeafletTileLayerModel",
      "state": {
       "_model_module_version": "^0.17.0",
       "_view_module_version": "^0.17.0",
       "attribution": "Map tiles by <a href=\"https://labs.strava.com/heatmap\">Strava 2021</a>",
       "max_zoom": 15,
       "name": "Strava.Water",
       "options": [
        "attribution",
        "bounds",
        "detect_retina",
        "max_native_zoom",
        "max_zoom",
        "min_native_zoom",
        "min_zoom",
        "no_wrap",
        "tile_size",
        "tms"
       ],
       "url": "https://heatmap-external-a.strava.com/tiles/water/blue/{z}/{x}/{y}.png"
      }
     },
     "6a453f6f16e64fcc8756c705d3529e1d": {
      "model_module": "jupyter-leaflet",
      "model_module_version": "^0.17.0",
      "model_name": "LeafletTileLayerModel",
      "state": {
       "_model_module_version": "^0.17.0",
       "_view_module_version": "^0.17.0",
       "attribution": "Geoportail France",
       "name": "GeoportailFrance.Dreal_Zonage_pinel",
       "options": [
        "attribution",
        "bounds",
        "detect_retina",
        "max_native_zoom",
        "max_zoom",
        "min_native_zoom",
        "min_zoom",
        "no_wrap",
        "tile_size",
        "tms"
       ],
       "url": "https://wxs.ign.fr/economie/geoportail/wmts?REQUEST=GetTile&SERVICE=WMTS&VERSION=1.0.0&STYLE=normal&TILEMATRIXSET=PM&FORMAT=image/png&LAYER=DREAL.ZONAGE_PINEL&TILEMATRIX={z}&TILEROW={y}&TILECOL={x}"
      }
     },
     "6a90e7e13a454ace955b283560f6e642": {
      "model_module": "jupyter-leaflet",
      "model_module_version": "^0.17.0",
      "model_name": "LeafletTileLayerModel",
      "state": {
       "_model_module_version": "^0.17.0",
       "_view_module_version": "^0.17.0",
       "attribution": "Tiles &copy; Esri &mdash; Esri, DeLorme, NAVTEQ, TomTom, Intermap, iPC, USGS, FAO, NPS, NRCAN, GeoBase, Kadaster NL, Ordnance Survey, Esri Japan, METI, Esri China (Hong Kong), and the GIS User Community",
       "max_zoom": 24,
       "name": "Esri.ArcticOceanBase",
       "options": [
        "attribution",
        "bounds",
        "detect_retina",
        "max_native_zoom",
        "max_zoom",
        "min_native_zoom",
        "min_zoom",
        "no_wrap",
        "tile_size",
        "tms"
       ],
       "url": "http://server.arcgisonline.com/ArcGIS/rest/services/Polar/Arctic_Ocean_Base/MapServer/tile/{z}/{y}/{x}"
      }
     },
     "6a9d031301f744ffa37c8bbcbadeded2": {
      "model_module": "jupyter-leaflet",
      "model_module_version": "^0.17.0",
      "model_name": "LeafletTileLayerModel",
      "state": {
       "_model_module_version": "^0.17.0",
       "_view_module_version": "^0.17.0",
       "attribution": "(C) OpenStreetMap contributors (C) CARTO",
       "max_zoom": 20,
       "name": "CartoDB.VoyagerLabelsUnder",
       "options": [
        "attribution",
        "bounds",
        "detect_retina",
        "max_native_zoom",
        "max_zoom",
        "min_native_zoom",
        "min_zoom",
        "no_wrap",
        "tile_size",
        "tms"
       ],
       "url": "https://a.basemaps.cartocdn.com/rastertiles/voyager_labels_under/{z}/{x}/{y}.png"
      }
     },
     "6ab8406c6ca545269f7e9b04438824ed": {
      "model_module": "jupyter-leaflet",
      "model_module_version": "^0.17.0",
      "model_name": "LeafletTileLayerModel",
      "state": {
       "_model_module_version": "^0.17.0",
       "_view_module_version": "^0.17.0",
       "attribution": "Datenquelle: basemap.at",
       "max_zoom": 19,
       "name": "BasemapAT.highdpi",
       "options": [
        "attribution",
        "bounds",
        "detect_retina",
        "max_native_zoom",
        "max_zoom",
        "min_native_zoom",
        "min_zoom",
        "no_wrap",
        "tile_size",
        "tms"
       ],
       "url": "https://maps.wien.gv.at/basemap/bmaphidpi/normal/google3857/{z}/{y}/{x}.jpeg"
      }
     },
     "6b3ac9041a824c5ebdd47e900fc4967f": {
      "model_module": "jupyter-leaflet",
      "model_module_version": "^0.17.0",
      "model_name": "LeafletTileLayerModel",
      "state": {
       "_model_module_version": "^0.17.0",
       "_view_module_version": "^0.17.0",
       "attribution": "Geoportail France",
       "name": "GeoportailFrance.Transportnetworks_Roads",
       "options": [
        "attribution",
        "bounds",
        "detect_retina",
        "max_native_zoom",
        "max_zoom",
        "min_native_zoom",
        "min_zoom",
        "no_wrap",
        "tile_size",
        "tms"
       ],
       "url": "https://wxs.ign.fr/topographie/geoportail/wmts?REQUEST=GetTile&SERVICE=WMTS&VERSION=1.0.0&STYLE=normal&TILEMATRIXSET=PM&FORMAT=image/png&LAYER=TRANSPORTNETWORKS.ROADS&TILEMATRIX={z}&TILEROW={y}&TILECOL={x}"
      }
     },
     "6b9939d93f1f4eb49d2597f6ae84a681": {
      "model_module": "jupyter-leaflet",
      "model_module_version": "^0.17.0",
      "model_name": "LeafletTileLayerModel",
      "state": {
       "_model_module_version": "^0.17.0",
       "_view_module_version": "^0.17.0",
       "attribution": "Geoportail France",
       "max_zoom": 12,
       "name": "GeoportailFrance.Landcover_Grid_Clc06_dom",
       "options": [
        "attribution",
        "bounds",
        "detect_retina",
        "max_native_zoom",
        "max_zoom",
        "min_native_zoom",
        "min_zoom",
        "no_wrap",
        "tile_size",
        "tms"
       ],
       "url": "https://wxs.ign.fr/clc/geoportail/wmts?REQUEST=GetTile&SERVICE=WMTS&VERSION=1.0.0&STYLE=CORINE Land Cover - DOM&TILEMATRIXSET=PM&FORMAT=image/png&LAYER=LANDCOVER.GRID.CLC06_DOM&TILEMATRIX={z}&TILEROW={y}&TILECOL={x}"
      }
     },
     "6bb90a131f614c2fb056dcf3ef086f20": {
      "model_module": "jupyter-leaflet",
      "model_module_version": "^0.17.0",
      "model_name": "LeafletTileLayerModel",
      "state": {
       "_model_module_version": "^0.17.0",
       "_view_module_version": "^0.17.0",
       "attribution": "Geoportail France",
       "max_zoom": 16,
       "name": "GeoportailFrance.Landcover_Clc06_dom",
       "options": [
        "attribution",
        "bounds",
        "detect_retina",
        "max_native_zoom",
        "max_zoom",
        "min_native_zoom",
        "min_zoom",
        "no_wrap",
        "tile_size",
        "tms"
       ],
       "url": "https://wxs.ign.fr/clc/geoportail/wmts?REQUEST=GetTile&SERVICE=WMTS&VERSION=1.0.0&STYLE=CORINE Land Cover - DOM&TILEMATRIXSET=PM&FORMAT=image/png&LAYER=LANDCOVER.CLC06_DOM&TILEMATRIX={z}&TILEROW={y}&TILECOL={x}"
      }
     },
     "6d14bac9eb37403a87822fa0e4c44c50": {
      "model_module": "jupyter-leaflet",
      "model_module_version": "^0.17.0",
      "model_name": "LeafletTileLayerModel",
      "state": {
       "_model_module_version": "^0.17.0",
       "_view_module_version": "^0.17.0",
       "attribution": "Map tiles by <a href=\"https://labs.strava.com/heatmap\">Strava 2021</a>",
       "max_zoom": 15,
       "name": "Strava.Winter",
       "options": [
        "attribution",
        "bounds",
        "detect_retina",
        "max_native_zoom",
        "max_zoom",
        "min_native_zoom",
        "min_zoom",
        "no_wrap",
        "tile_size",
        "tms"
       ],
       "url": "https://heatmap-external-a.strava.com/tiles/winter/hot/{z}/{x}/{y}.png"
      }
     },
     "6d6acec904b54c449fd63e86ddca7925": {
      "model_module": "jupyter-leaflet",
      "model_module_version": "^0.17.0",
      "model_name": "LeafletTileLayerModel",
      "state": {
       "_model_module_version": "^0.17.0",
       "_view_module_version": "^0.17.0",
       "attribution": "Geoportail France",
       "max_zoom": 16,
       "name": "GeoportailFrance.Landcover_Clc12",
       "options": [
        "attribution",
        "bounds",
        "detect_retina",
        "max_native_zoom",
        "max_zoom",
        "min_native_zoom",
        "min_zoom",
        "no_wrap",
        "tile_size",
        "tms"
       ],
       "url": "https://wxs.ign.fr/clc/geoportail/wmts?REQUEST=GetTile&SERVICE=WMTS&VERSION=1.0.0&STYLE=CORINE Land Cover - DOM&TILEMATRIXSET=PM&FORMAT=image/png&LAYER=LANDCOVER.CLC12&TILEMATRIX={z}&TILEROW={y}&TILECOL={x}"
      }
     },
     "6e43d5856e8b465c8caca943a0d2c623": {
      "model_module": "jupyter-leaflet",
      "model_module_version": "^0.17.0",
      "model_name": "LeafletTileLayerModel",
      "state": {
       "_model_module_version": "^0.17.0",
       "_view_module_version": "^0.17.0",
       "attribution": "Geoportail France",
       "max_zoom": 16,
       "name": "GeoportailFrance.Insee_Filosofi_Part_Menages_Pauvres_Secret",
       "options": [
        "attribution",
        "bounds",
        "detect_retina",
        "max_native_zoom",
        "max_zoom",
        "min_native_zoom",
        "min_zoom",
        "no_wrap",
        "tile_size",
        "tms"
       ],
       "url": "https://wxs.ign.fr/economie/geoportail/wmts?REQUEST=GetTile&SERVICE=WMTS&VERSION=1.0.0&STYLE=INSEE&TILEMATRIXSET=PM&FORMAT=image/png&LAYER=INSEE.FILOSOFI.PART.MENAGES.PAUVRES.SECRET&TILEMATRIX={z}&TILEROW={y}&TILECOL={x}"
      }
     },
     "6ee0f0f81688406d92eacd562843c4b2": {
      "model_module": "jupyter-leaflet",
      "model_module_version": "^0.17.0",
      "model_name": "LeafletTileLayerModel",
      "state": {
       "_model_module_version": "^0.17.0",
       "_view_module_version": "^0.17.0",
       "attribution": "Geoportail France",
       "max_zoom": 21,
       "name": "GeoportailFrance.Thr_Orthoimagery_Orthophotos",
       "options": [
        "attribution",
        "bounds",
        "detect_retina",
        "max_native_zoom",
        "max_zoom",
        "min_native_zoom",
        "min_zoom",
        "no_wrap",
        "tile_size",
        "tms"
       ],
       "url": "https://wxs.ign.fr/ortho/geoportail/wmts?REQUEST=GetTile&SERVICE=WMTS&VERSION=1.0.0&STYLE=normal&TILEMATRIXSET=PM&FORMAT=image/jpeg&LAYER=THR.ORTHOIMAGERY.ORTHOPHOTOS&TILEMATRIX={z}&TILEROW={y}&TILECOL={x}"
      }
     },
     "6f91045c653a4b50a8fbfc738f5b9095": {
      "model_module": "jupyter-leaflet",
      "model_module_version": "^0.17.0",
      "model_name": "LeafletTileLayerModel",
      "state": {
       "_model_module_version": "^0.17.0",
       "_view_module_version": "^0.17.0",
       "attribution": "Map data: (C) OpenStreetMap contributors | Map style: (C) OpenFireMap (CC-BY-SA)",
       "max_zoom": 19,
       "name": "OpenFireMap",
       "options": [
        "attribution",
        "bounds",
        "detect_retina",
        "max_native_zoom",
        "max_zoom",
        "min_native_zoom",
        "min_zoom",
        "no_wrap",
        "tile_size",
        "tms"
       ],
       "url": "http://openfiremap.org/hytiles/{z}/{x}/{y}.png"
      }
     },
     "704bfea4e7344b23be472e9f6a81d71d": {
      "model_module": "jupyter-leaflet",
      "model_module_version": "^0.17.0",
      "model_name": "LeafletWMSLayerModel",
      "state": {
       "_model_module_version": "^0.17.0",
       "_view_module_version": "^0.17.0",
       "attribution": "USGS",
       "crs": {
        "custom": false,
        "name": "EPSG3857"
       },
       "format": "image/png",
       "layers": "USGSNAIPImagery:NaturalColor",
       "name": "USGS NAIP Imagery",
       "options": [
        "attribution",
        "bounds",
        "detect_retina",
        "format",
        "layers",
        "max_native_zoom",
        "max_zoom",
        "min_native_zoom",
        "min_zoom",
        "no_wrap",
        "styles",
        "tile_size",
        "tms",
        "transparent",
        "uppercase"
       ],
       "transparent": true,
       "url": "https://imagery.nationalmap.gov/arcgis/services/USGSNAIPImagery/ImageServer/WMSServer?"
      }
     },
     "70518437936746529f56386887c40f5c": {
      "model_module": "jupyter-leaflet",
      "model_module_version": "^0.17.0",
      "model_name": "LeafletTileLayerModel",
      "state": {
       "_model_module_version": "^0.17.0",
       "_view_module_version": "^0.17.0",
       "attribution": "Geoportail France",
       "max_zoom": 16,
       "name": "GeoportailFrance.Landuse_Agriculture2007",
       "options": [
        "attribution",
        "bounds",
        "detect_retina",
        "max_native_zoom",
        "max_zoom",
        "min_native_zoom",
        "min_zoom",
        "no_wrap",
        "tile_size",
        "tms"
       ],
       "url": "https://wxs.ign.fr/agriculture/geoportail/wmts?REQUEST=GetTile&SERVICE=WMTS&VERSION=1.0.0&STYLE=normal&TILEMATRIXSET=PM&FORMAT=image/png&LAYER=LANDUSE.AGRICULTURE2007&TILEMATRIX={z}&TILEROW={y}&TILECOL={x}"
      }
     },
     "70cdda38f8dc4becb8b33a4dd9062cb1": {
      "model_module": "@jupyter-widgets/controls",
      "model_module_version": "1.5.0",
      "model_name": "ButtonStyleModel",
      "state": {
       "button_color": "#69add1"
      }
     },
     "716f651275a24a0e8e31a8e2a1d737d4": {
      "model_module": "jupyter-leaflet",
      "model_module_version": "^0.17.0",
      "model_name": "LeafletTileLayerModel",
      "state": {
       "_model_module_version": "^0.17.0",
       "_view_module_version": "^0.17.0",
       "attribution": "Geoportail France",
       "max_zoom": 15,
       "name": "GeoportailFrance.Geographicalgridsystems_Slopes_Pac",
       "options": [
        "attribution",
        "bounds",
        "detect_retina",
        "max_native_zoom",
        "max_zoom",
        "min_native_zoom",
        "min_zoom",
        "no_wrap",
        "tile_size",
        "tms"
       ],
       "url": "https://wxs.ign.fr/agriculture/geoportail/wmts?REQUEST=GetTile&SERVICE=WMTS&VERSION=1.0.0&STYLE=normal&TILEMATRIXSET=PM&FORMAT=image/png&LAYER=GEOGRAPHICALGRIDSYSTEMS.SLOPES.PAC&TILEMATRIX={z}&TILEROW={y}&TILECOL={x}"
      }
     },
     "71cd30e7d8bc4ed9a56c39983e424754": {
      "model_module": "jupyter-leaflet",
      "model_module_version": "^0.17.0",
      "model_name": "LeafletTileLayerModel",
      "state": {
       "_model_module_version": "^0.17.0",
       "_view_module_version": "^0.17.0",
       "attribution": "Map tiles by Stamen Design, CC BY 3.0 -- Map data (C) OpenStreetMap contributors",
       "max_zoom": 20,
       "name": "Stamen.TonerLabels",
       "options": [
        "attribution",
        "bounds",
        "detect_retina",
        "max_native_zoom",
        "max_zoom",
        "min_native_zoom",
        "min_zoom",
        "no_wrap",
        "tile_size",
        "tms"
       ],
       "url": "https://stamen-tiles-a.a.ssl.fastly.net/toner-labels/{z}/{x}/{y}.png"
      }
     },
     "72440219c3b2430eadfc96ad4edd5e62": {
      "model_module": "jupyter-leaflet",
      "model_module_version": "^0.17.0",
      "model_name": "LeafletTileLayerModel",
      "state": {
       "_model_module_version": "^0.17.0",
       "_view_module_version": "^0.17.0",
       "attribution": "Justice Map",
       "max_zoom": 22,
       "name": "JusticeMap.white",
       "options": [
        "attribution",
        "bounds",
        "detect_retina",
        "max_native_zoom",
        "max_zoom",
        "min_native_zoom",
        "min_zoom",
        "no_wrap",
        "tile_size",
        "tms"
       ],
       "url": "https://www.justicemap.org/tile/county/white/{z}/{x}/{y}.png"
      }
     },
     "72517f0c66ed4855b845ff3481190875": {
      "model_module": "jupyter-leaflet",
      "model_module_version": "^0.17.0",
      "model_name": "LeafletTileLayerModel",
      "state": {
       "_model_module_version": "^0.17.0",
       "_view_module_version": "^0.17.0",
       "attribution": "Imagery provided by services from the Global Imagery Browse Services (GIBS), operated by the NASA/GSFC/Earth Science Data and Information System (ESDIS) with funding provided by NASA/HQ.",
       "max_zoom": 9,
       "name": "NASAGIBS.ModisTerraBands721CR",
       "options": [
        "attribution",
        "bounds",
        "detect_retina",
        "max_native_zoom",
        "max_zoom",
        "min_native_zoom",
        "min_zoom",
        "no_wrap",
        "tile_size",
        "tms"
       ],
       "url": "https://gibs.earthdata.nasa.gov/wmts/epsg3857/best/MODIS_Terra_CorrectedReflectance_Bands721/default//GoogleMapsCompatible_Level9/{z}/{y}/{x}.jpg"
      }
     },
     "729175b98e1f4256b064b9447548a97a": {
      "model_module": "@jupyter-widgets/controls",
      "model_module_version": "1.5.0",
      "model_name": "DescriptionStyleModel",
      "state": {
       "description_width": "initial"
      }
     },
     "72ddb39f5ee14aa4b906349da681fe20": {
      "model_module": "jupyter-leaflet",
      "model_module_version": "^0.17.0",
      "model_name": "LeafletTileLayerModel",
      "state": {
       "_model_module_version": "^0.17.0",
       "_view_module_version": "^0.17.0",
       "attribution": "Geoportail France",
       "max_zoom": 16,
       "name": "GeoportailFrance.Protectedareas_Mnhn_Conservatoires",
       "options": [
        "attribution",
        "bounds",
        "detect_retina",
        "max_native_zoom",
        "max_zoom",
        "min_native_zoom",
        "min_zoom",
        "no_wrap",
        "tile_size",
        "tms"
       ],
       "url": "https://wxs.ign.fr/environnement/geoportail/wmts?REQUEST=GetTile&SERVICE=WMTS&VERSION=1.0.0&STYLE=normal&TILEMATRIXSET=PM&FORMAT=image/png&LAYER=PROTECTEDAREAS.MNHN.CONSERVATOIRES&TILEMATRIX={z}&TILEROW={y}&TILECOL={x}"
      }
     },
     "72fb176c89bd40acb5130aa1ea356e9c": {
      "model_module": "jupyter-leaflet",
      "model_module_version": "^0.17.0",
      "model_name": "LeafletTileLayerModel",
      "state": {
       "_model_module_version": "^0.17.0",
       "_view_module_version": "^0.17.0",
       "attribution": "Map tiles by Stamen Design, CC BY 3.0 -- Map data (C) OpenStreetMap contributors",
       "name": "Stamen.TerrainBackground",
       "options": [
        "attribution",
        "bounds",
        "detect_retina",
        "max_native_zoom",
        "max_zoom",
        "min_native_zoom",
        "min_zoom",
        "no_wrap",
        "tile_size",
        "tms"
       ],
       "url": "https://stamen-tiles-a.a.ssl.fastly.net/terrain-background/{z}/{x}/{y}.png"
      }
     },
     "731d4c844edb4b4598f13282c463543b": {
      "model_module": "jupyter-leaflet",
      "model_module_version": "^0.17.0",
      "model_name": "LeafletWMSLayerModel",
      "state": {
       "_model_module_version": "^0.17.0",
       "_view_module_version": "^0.17.0",
       "attribution": "USGS",
       "crs": {
        "custom": false,
        "name": "EPSG3857"
       },
       "format": "image/png",
       "layers": "USGSNAIPImagery:NDVI_Color",
       "name": "USGS NAIP Imagery NDVI",
       "options": [
        "attribution",
        "bounds",
        "detect_retina",
        "format",
        "layers",
        "max_native_zoom",
        "max_zoom",
        "min_native_zoom",
        "min_zoom",
        "no_wrap",
        "styles",
        "tile_size",
        "tms",
        "transparent",
        "uppercase"
       ],
       "transparent": true,
       "url": "https://imagery.nationalmap.gov/arcgis/services/USGSNAIPImagery/ImageServer/WMSServer?"
      }
     },
     "732fd024108049f598d53bb81ad116db": {
      "model_module": "jupyter-leaflet",
      "model_module_version": "^0.17.0",
      "model_name": "LeafletTileLayerModel",
      "state": {
       "_model_module_version": "^0.17.0",
       "_view_module_version": "^0.17.0",
       "attribution": "Datenquelle: basemap.at",
       "max_zoom": 20,
       "name": "BasemapAT.orthofoto",
       "options": [
        "attribution",
        "bounds",
        "detect_retina",
        "max_native_zoom",
        "max_zoom",
        "min_native_zoom",
        "min_zoom",
        "no_wrap",
        "tile_size",
        "tms"
       ],
       "url": "https://maps.wien.gv.at/basemap/bmaporthofoto30cm/normal/google3857/{z}/{y}/{x}.jpeg"
      }
     },
     "735d1d266bd44ae7ab91304b1a8e89e6": {
      "model_module": "jupyter-leaflet",
      "model_module_version": "^0.17.0",
      "model_name": "LeafletTileLayerModel",
      "state": {
       "_model_module_version": "^0.17.0",
       "_view_module_version": "^0.17.0",
       "attribution": "Geoportail France",
       "name": "GeoportailFrance.Orthoimagery_Ortho_sat_Pleiades_2020",
       "options": [
        "attribution",
        "bounds",
        "detect_retina",
        "max_native_zoom",
        "max_zoom",
        "min_native_zoom",
        "min_zoom",
        "no_wrap",
        "tile_size",
        "tms"
       ],
       "url": "https://wxs.ign.fr/satellite/geoportail/wmts?REQUEST=GetTile&SERVICE=WMTS&VERSION=1.0.0&STYLE=normal&TILEMATRIXSET=PM&FORMAT=image/png&LAYER=ORTHOIMAGERY.ORTHO-SAT.PLEIADES.2020&TILEMATRIX={z}&TILEROW={y}&TILECOL={x}"
      }
     },
     "7368d9f43330467a9ddb2ff2dffd18f8": {
      "model_module": "jupyter-leaflet",
      "model_module_version": "^0.17.0",
      "model_name": "LeafletTileLayerModel",
      "state": {
       "_model_module_version": "^0.17.0",
       "_view_module_version": "^0.17.0",
       "attribution": "Geoportail France",
       "name": "GeoportailFrance.Orthoimagery_Orthophotos2006_2010",
       "options": [
        "attribution",
        "bounds",
        "detect_retina",
        "max_native_zoom",
        "max_zoom",
        "min_native_zoom",
        "min_zoom",
        "no_wrap",
        "tile_size",
        "tms"
       ],
       "url": "https://wxs.ign.fr/orthohisto/geoportail/wmts?REQUEST=GetTile&SERVICE=WMTS&VERSION=1.0.0&STYLE=normal&TILEMATRIXSET=PM&FORMAT=image/jpeg&LAYER=ORTHOIMAGERY.ORTHOPHOTOS2006-2010&TILEMATRIX={z}&TILEROW={y}&TILECOL={x}"
      }
     },
     "7439faf6ae9d406483ead57cd85af442": {
      "model_module": "jupyter-leaflet",
      "model_module_version": "^0.17.0",
      "model_name": "LeafletTileLayerModel",
      "state": {
       "_model_module_version": "^0.17.0",
       "_view_module_version": "^0.17.0",
       "attribution": "Geoportail France",
       "name": "GeoportailFrance.Orthoimagery_Orthophotos_Ortho_asp_pac2020",
       "options": [
        "attribution",
        "bounds",
        "detect_retina",
        "max_native_zoom",
        "max_zoom",
        "min_native_zoom",
        "min_zoom",
        "no_wrap",
        "tile_size",
        "tms"
       ],
       "url": "https://wxs.ign.fr/orthohisto/geoportail/wmts?REQUEST=GetTile&SERVICE=WMTS&VERSION=1.0.0&STYLE=normal&TILEMATRIXSET=PM&FORMAT=image/jpeg&LAYER=ORTHOIMAGERY.ORTHOPHOTOS.ORTHO-ASP_PAC2020&TILEMATRIX={z}&TILEROW={y}&TILECOL={x}"
      }
     },
     "74b9511944864f31b2d557476b127aad": {
      "model_module": "jupyter-leaflet",
      "model_module_version": "^0.17.0",
      "model_name": "LeafletWMSLayerModel",
      "state": {
       "_model_module_version": "^0.17.0",
       "_view_module_version": "^0.17.0",
       "attribution": "USGS",
       "crs": {
        "custom": false,
        "name": "EPSG3857"
       },
       "format": "image/png",
       "layers": "33DEPElevation:Hillshade Elevation Tinted",
       "name": "USGS 3DEP Elevation",
       "options": [
        "attribution",
        "bounds",
        "detect_retina",
        "format",
        "layers",
        "max_native_zoom",
        "max_zoom",
        "min_native_zoom",
        "min_zoom",
        "no_wrap",
        "styles",
        "tile_size",
        "tms",
        "transparent",
        "uppercase"
       ],
       "transparent": true,
       "url": "https://elevation.nationalmap.gov/arcgis/services/3DEPElevation/ImageServer/WMSServer?"
      }
     },
     "74f516370c684550b09b076de8e8a316": {
      "model_module": "jupyter-leaflet",
      "model_module_version": "^0.17.0",
      "model_name": "LeafletTileLayerModel",
      "state": {
       "_model_module_version": "^0.17.0",
       "_view_module_version": "^0.17.0",
       "attribution": "Imagery provided by services from the Global Imagery Browse Services (GIBS), operated by the NASA/GSFC/Earth Science Data and Information System (ESDIS) with funding provided by NASA/HQ.",
       "max_zoom": 5,
       "name": "NASAGIBS.BlueMarble3413",
       "options": [
        "attribution",
        "bounds",
        "detect_retina",
        "max_native_zoom",
        "max_zoom",
        "min_native_zoom",
        "min_zoom",
        "no_wrap",
        "tile_size",
        "tms"
       ],
       "url": "https://gibs.earthdata.nasa.gov/wmts/epsg3413/best/BlueMarble_NextGeneration/default/EPSG3413_500m/{z}/{y}/{x}.jpeg"
      }
     },
     "75c7f7d73f594f9883eef71d973b5807": {
      "model_module": "jupyter-leaflet",
      "model_module_version": "^0.17.0",
      "model_name": "LeafletTileLayerModel",
      "state": {
       "_model_module_version": "^0.17.0",
       "_view_module_version": "^0.17.0",
       "attribution": "Geoportail France",
       "max_zoom": 16,
       "name": "GeoportailFrance.Protectedareas_Rb",
       "options": [
        "attribution",
        "bounds",
        "detect_retina",
        "max_native_zoom",
        "max_zoom",
        "min_native_zoom",
        "min_zoom",
        "no_wrap",
        "tile_size",
        "tms"
       ],
       "url": "https://wxs.ign.fr/environnement/geoportail/wmts?REQUEST=GetTile&SERVICE=WMTS&VERSION=1.0.0&STYLE=normal&TILEMATRIXSET=PM&FORMAT=image/png&LAYER=PROTECTEDAREAS.RB&TILEMATRIX={z}&TILEROW={y}&TILECOL={x}"
      }
     },
     "75daeb761db9471195139f98b0121f87": {
      "model_module": "@jupyter-widgets/controls",
      "model_module_version": "1.5.0",
      "model_name": "HTMLModel",
      "state": {
       "layout": "IPY_MODEL_2678b62778b240ab88c43d87d3c901db",
       "style": "IPY_MODEL_9dec61562f034ff39cafea5485e382b6",
       "value": "<b>3. Run Model Button</b>                 <br> - Make sure to click Select Images Button or Use Data Button.<br>                    - The model will be applied to the selected folder and the model outputs will be generated within a subdirectory                    called 'out'<br>            - <span style=\"background-color:yellow;color: black;\">WARNING :</span> You should not run multiple models on the same folder. Otherwise not all the model outputs            will be saved to the folder.<br>            "
      }
     },
     "76480990f83146e5b61a154b5de78dda": {
      "model_module": "jupyter-leaflet",
      "model_module_version": "^0.17.0",
      "model_name": "LeafletTileLayerModel",
      "state": {
       "_model_module_version": "^0.17.0",
       "_view_module_version": "^0.17.0",
       "attribution": "Geoportail France",
       "max_zoom": 16,
       "name": "GeoportailFrance.Landcover_Clc12_fr",
       "options": [
        "attribution",
        "bounds",
        "detect_retina",
        "max_native_zoom",
        "max_zoom",
        "min_native_zoom",
        "min_zoom",
        "no_wrap",
        "tile_size",
        "tms"
       ],
       "url": "https://wxs.ign.fr/clc/geoportail/wmts?REQUEST=GetTile&SERVICE=WMTS&VERSION=1.0.0&STYLE=CORINE Land Cover - France métropolitaine&TILEMATRIXSET=PM&FORMAT=image/png&LAYER=LANDCOVER.CLC12_FR&TILEMATRIX={z}&TILEROW={y}&TILECOL={x}"
      }
     },
     "7669af78f6e242c1886f298bda6190f3": {
      "model_module": "jupyter-leaflet",
      "model_module_version": "^0.17.0",
      "model_name": "LeafletTileLayerModel",
      "state": {
       "_model_module_version": "^0.17.0",
       "_view_module_version": "^0.17.0",
       "attribution": "(C) OpenStreetMap contributors (C) CARTO",
       "max_zoom": 20,
       "name": "CartoDB.DarkMatter",
       "options": [
        "attribution",
        "bounds",
        "detect_retina",
        "max_native_zoom",
        "max_zoom",
        "min_native_zoom",
        "min_zoom",
        "no_wrap",
        "tile_size",
        "tms"
       ],
       "url": "https://a.basemaps.cartocdn.com/dark_all/{z}/{x}/{y}.png"
      }
     },
     "76b1ff905e234046ba425be92a9f2395": {
      "model_module": "jupyter-leaflet",
      "model_module_version": "^0.17.0",
      "model_name": "LeafletTileLayerModel",
      "state": {
       "_model_module_version": "^0.17.0",
       "_view_module_version": "^0.17.0",
       "attribution": "(C) OpenStreetMap contributors",
       "name": "OpenStreetMap.BlackAndWhite",
       "options": [
        "attribution",
        "bounds",
        "detect_retina",
        "max_native_zoom",
        "max_zoom",
        "min_native_zoom",
        "min_zoom",
        "no_wrap",
        "tile_size",
        "tms"
       ],
       "url": "http://a.tiles.wmflabs.org/bw-mapnik/{z}/{x}/{y}.png"
      }
     },
     "7701db456b6b4823ac6ed629131f5873": {
      "model_module": "@jupyter-widgets/controls",
      "model_module_version": "1.5.0",
      "model_name": "ButtonModel",
      "state": {
       "description": "Select Data Folder",
       "icon": "file-image-o",
       "layout": "IPY_MODEL_da77b6394178442e97c91fada028a123",
       "style": "IPY_MODEL_70cdda38f8dc4becb8b33a4dd9062cb1"
      }
     },
     "779b30da9f9d408eb10c92e90b80da07": {
      "model_module": "@jupyter-widgets/controls",
      "model_module_version": "1.5.0",
      "model_name": "HBoxModel",
      "state": {
       "children": [
        "IPY_MODEL_5fec4a556fd845fdaccb321c5d66f5ef",
        "IPY_MODEL_f537300535d64fedbee34bc656507be1",
        "IPY_MODEL_d1efa301de67494ea987800adfe24c67"
       ],
       "layout": "IPY_MODEL_42d8e638735c469f97847f9ca785b907"
      }
     },
     "77f3a641cd614fc0a92e85c89ecf3788": {
      "model_module": "jupyter-leaflet",
      "model_module_version": "^0.17.0",
      "model_name": "LeafletTileLayerModel",
      "state": {
       "_model_module_version": "^0.17.0",
       "_view_module_version": "^0.17.0",
       "attribution": "Geoportail France",
       "max_zoom": 17,
       "name": "GeoportailFrance.Orthoimagery_Ortho_sat_Spot_2019",
       "options": [
        "attribution",
        "bounds",
        "detect_retina",
        "max_native_zoom",
        "max_zoom",
        "min_native_zoom",
        "min_zoom",
        "no_wrap",
        "tile_size",
        "tms"
       ],
       "url": "https://wxs.ign.fr/satellite/geoportail/wmts?REQUEST=GetTile&SERVICE=WMTS&VERSION=1.0.0&STYLE=normal&TILEMATRIXSET=PM&FORMAT=image/jpeg&LAYER=ORTHOIMAGERY.ORTHO-SAT.SPOT.2019&TILEMATRIX={z}&TILEROW={y}&TILECOL={x}"
      }
     },
     "77fb00ca625347f0b9ed0215de2b837e": {
      "model_module": "@jupyter-widgets/base",
      "model_module_version": "1.2.0",
      "model_name": "LayoutModel",
      "state": {}
     },
     "7816150f4b46472d8e86909c520ff8cd": {
      "model_module": "jupyter-leaflet",
      "model_module_version": "^0.17.0",
      "model_name": "LeafletTileLayerModel",
      "state": {
       "_model_module_version": "^0.17.0",
       "_view_module_version": "^0.17.0",
       "attribution": "Geoportail France",
       "max_zoom": 16,
       "name": "GeoportailFrance.Protectedareas_Apb",
       "options": [
        "attribution",
        "bounds",
        "detect_retina",
        "max_native_zoom",
        "max_zoom",
        "min_native_zoom",
        "min_zoom",
        "no_wrap",
        "tile_size",
        "tms"
       ],
       "url": "https://wxs.ign.fr/environnement/geoportail/wmts?REQUEST=GetTile&SERVICE=WMTS&VERSION=1.0.0&STYLE=normal&TILEMATRIXSET=PM&FORMAT=image/png&LAYER=PROTECTEDAREAS.APB&TILEMATRIX={z}&TILEROW={y}&TILECOL={x}"
      }
     },
     "78497281ecf54cb7989ac1af9c8466f9": {
      "model_module": "jupyter-leaflet",
      "model_module_version": "^0.17.0",
      "model_name": "LeafletTileLayerModel",
      "state": {
       "_model_module_version": "^0.17.0",
       "_view_module_version": "^0.17.0",
       "attribution": "(C) Stadia Maps, (C) OpenMapTiles (C) OpenStreetMap contributors",
       "max_zoom": 20,
       "name": "Stadia.AlidadeSmoothDark",
       "options": [
        "attribution",
        "bounds",
        "detect_retina",
        "max_native_zoom",
        "max_zoom",
        "min_native_zoom",
        "min_zoom",
        "no_wrap",
        "tile_size",
        "tms"
       ],
       "url": "https://tiles.stadiamaps.com/tiles/alidade_smooth_dark/{z}/{x}/{y}.png"
      }
     },
     "78d759c00b3e42f9a5f2768c1268d9e5": {
      "model_module": "jupyter-leaflet",
      "model_module_version": "^0.17.0",
      "model_name": "LeafletTileLayerModel",
      "state": {
       "_model_module_version": "^0.17.0",
       "_view_module_version": "^0.17.0",
       "attribution": "Geoportail France",
       "max_zoom": 16,
       "name": "GeoportailFrance.Landuse_Agriculture2011",
       "options": [
        "attribution",
        "bounds",
        "detect_retina",
        "max_native_zoom",
        "max_zoom",
        "min_native_zoom",
        "min_zoom",
        "no_wrap",
        "tile_size",
        "tms"
       ],
       "url": "https://wxs.ign.fr/agriculture/geoportail/wmts?REQUEST=GetTile&SERVICE=WMTS&VERSION=1.0.0&STYLE=normal&TILEMATRIXSET=PM&FORMAT=image/png&LAYER=LANDUSE.AGRICULTURE2011&TILEMATRIX={z}&TILEROW={y}&TILECOL={x}"
      }
     },
     "78dc266bf87b4db9ae0a5be8798ecaac": {
      "model_module": "jupyter-leaflet",
      "model_module_version": "^0.17.0",
      "model_name": "LeafletTileLayerModel",
      "state": {
       "_model_module_version": "^0.17.0",
       "_view_module_version": "^0.17.0",
       "attribution": "Geoportail France",
       "max_zoom": 16,
       "name": "GeoportailFrance.Protectedareas_Gp",
       "options": [
        "attribution",
        "bounds",
        "detect_retina",
        "max_native_zoom",
        "max_zoom",
        "min_native_zoom",
        "min_zoom",
        "no_wrap",
        "tile_size",
        "tms"
       ],
       "url": "https://wxs.ign.fr/environnement/geoportail/wmts?REQUEST=GetTile&SERVICE=WMTS&VERSION=1.0.0&STYLE=normal&TILEMATRIXSET=PM&FORMAT=image/png&LAYER=PROTECTEDAREAS.GP&TILEMATRIX={z}&TILEROW={y}&TILECOL={x}"
      }
     },
     "7b130151a37e40b2ac887f6c013907e4": {
      "model_module": "jupyter-leaflet",
      "model_module_version": "^0.17.0",
      "model_name": "LeafletTileLayerModel",
      "state": {
       "_model_module_version": "^0.17.0",
       "_view_module_version": "^0.17.0",
       "attribution": "Geoportail France",
       "max_zoom": 16,
       "name": "GeoportailFrance.Landcover_Clc00_fr",
       "options": [
        "attribution",
        "bounds",
        "detect_retina",
        "max_native_zoom",
        "max_zoom",
        "min_native_zoom",
        "min_zoom",
        "no_wrap",
        "tile_size",
        "tms"
       ],
       "url": "https://wxs.ign.fr/clc/geoportail/wmts?REQUEST=GetTile&SERVICE=WMTS&VERSION=1.0.0&STYLE=CORINE Land Cover - France métropolitaine&TILEMATRIXSET=PM&FORMAT=image/png&LAYER=LANDCOVER.CLC00_FR&TILEMATRIX={z}&TILEROW={y}&TILECOL={x}"
      }
     },
     "7bcd0fa76ab44c2dabe160b807db0e5d": {
      "model_module": "jupyter-leaflet",
      "model_module_version": "^0.17.0",
      "model_name": "LeafletTileLayerModel",
      "state": {
       "_model_module_version": "^0.17.0",
       "_view_module_version": "^0.17.0",
       "attribution": "Geoportail France",
       "max_zoom": 16,
       "name": "GeoportailFrance.Protectedareas_Apg",
       "options": [
        "attribution",
        "bounds",
        "detect_retina",
        "max_native_zoom",
        "max_zoom",
        "min_native_zoom",
        "min_zoom",
        "no_wrap",
        "tile_size",
        "tms"
       ],
       "url": "https://wxs.ign.fr/environnement/geoportail/wmts?REQUEST=GetTile&SERVICE=WMTS&VERSION=1.0.0&STYLE=normal&TILEMATRIXSET=PM&FORMAT=image/png&LAYER=PROTECTEDAREAS.APG&TILEMATRIX={z}&TILEROW={y}&TILECOL={x}"
      }
     },
     "7db4e57f1fab4206811d6cbb472d4679": {
      "model_module": "@jupyter-widgets/controls",
      "model_module_version": "1.5.0",
      "model_name": "ButtonModel",
      "state": {
       "description": "Open Results",
       "icon": "folder-open-o",
       "layout": "IPY_MODEL_1e490c497e1847629fff64c20462e0d9",
       "style": "IPY_MODEL_aa4cae6c7f8b4563a47d76e40586a30e"
      }
     },
     "7eaaaa89050e42bfbcb518ba83789601": {
      "model_module": "jupyter-leaflet",
      "model_module_version": "^0.17.0",
      "model_name": "LeafletTileLayerModel",
      "state": {
       "_model_module_version": "^0.17.0",
       "_view_module_version": "^0.17.0",
       "attribution": "Geoportail France",
       "max_zoom": 19,
       "name": "GeoportailFrance.Orthoimagery_Orthophotos_Irc_2016",
       "options": [
        "attribution",
        "bounds",
        "detect_retina",
        "max_native_zoom",
        "max_zoom",
        "min_native_zoom",
        "min_zoom",
        "no_wrap",
        "tile_size",
        "tms"
       ],
       "url": "https://wxs.ign.fr/orthohisto/geoportail/wmts?REQUEST=GetTile&SERVICE=WMTS&VERSION=1.0.0&STYLE=normal&TILEMATRIXSET=PM&FORMAT=image/jpeg&LAYER=ORTHOIMAGERY.ORTHOPHOTOS.IRC.2016&TILEMATRIX={z}&TILEROW={y}&TILECOL={x}"
      }
     },
     "7f3a3f9603f14edd9b53cc289fce9224": {
      "model_module": "jupyter-leaflet",
      "model_module_version": "^0.17.0",
      "model_name": "LeafletTileLayerModel",
      "state": {
       "_model_module_version": "^0.17.0",
       "_view_module_version": "^0.17.0",
       "attribution": "Geoportail France",
       "max_zoom": 16,
       "name": "GeoportailFrance.Ocsge_Usage",
       "options": [
        "attribution",
        "bounds",
        "detect_retina",
        "max_native_zoom",
        "max_zoom",
        "min_native_zoom",
        "min_zoom",
        "no_wrap",
        "tile_size",
        "tms"
       ],
       "url": "https://wxs.ign.fr/ocsge/geoportail/wmts?REQUEST=GetTile&SERVICE=WMTS&VERSION=1.0.0&STYLE=normal&TILEMATRIXSET=PM&FORMAT=image/png&LAYER=OCSGE.USAGE&TILEMATRIX={z}&TILEROW={y}&TILECOL={x}"
      }
     },
     "7f7c5ae420ae40da9001b049bf8108ad": {
      "model_module": "jupyter-leaflet",
      "model_module_version": "^0.17.0",
      "model_name": "LeafletTileLayerModel",
      "state": {
       "_model_module_version": "^0.17.0",
       "_view_module_version": "^0.17.0",
       "attribution": "Geoportail France",
       "max_zoom": 16,
       "name": "GeoportailFrance.Landcover_Clc06_fr",
       "options": [
        "attribution",
        "bounds",
        "detect_retina",
        "max_native_zoom",
        "max_zoom",
        "min_native_zoom",
        "min_zoom",
        "no_wrap",
        "tile_size",
        "tms"
       ],
       "url": "https://wxs.ign.fr/clc/geoportail/wmts?REQUEST=GetTile&SERVICE=WMTS&VERSION=1.0.0&STYLE=CORINE Land Cover - France métropolitaine&TILEMATRIXSET=PM&FORMAT=image/png&LAYER=LANDCOVER.CLC06_FR&TILEMATRIX={z}&TILEROW={y}&TILECOL={x}"
      }
     },
     "81484bd34cad4af5927bc6c7dfa7b6d3": {
      "model_module": "jupyter-leaflet",
      "model_module_version": "^0.17.0",
      "model_name": "LeafletWMSLayerModel",
      "state": {
       "_model_module_version": "^0.17.0",
       "_view_module_version": "^0.17.0",
       "attribution": "MRLC",
       "crs": {
        "custom": false,
        "name": "EPSG3857"
       },
       "format": "image/png",
       "layers": "NLCD_2016_Land_Cover_L48",
       "name": "NLCD 2016 CONUS Land Cover",
       "options": [
        "attribution",
        "bounds",
        "detect_retina",
        "format",
        "layers",
        "max_native_zoom",
        "max_zoom",
        "min_native_zoom",
        "min_zoom",
        "no_wrap",
        "styles",
        "tile_size",
        "tms",
        "transparent",
        "uppercase"
       ],
       "transparent": true,
       "url": "https://www.mrlc.gov/geoserver/mrlc_display/NLCD_2016_Land_Cover_L48/wms?"
      }
     },
     "81697a07f3f841b9a986fca7c52f5ef8": {
      "model_module": "jupyter-leaflet",
      "model_module_version": "^0.17.0",
      "model_name": "LeafletTileLayerModel",
      "state": {
       "_model_module_version": "^0.17.0",
       "_view_module_version": "^0.17.0",
       "attribution": "Datenquelle: basemap.at",
       "max_zoom": 19,
       "name": "BasemapAT.overlay",
       "options": [
        "attribution",
        "bounds",
        "detect_retina",
        "max_native_zoom",
        "max_zoom",
        "min_native_zoom",
        "min_zoom",
        "no_wrap",
        "tile_size",
        "tms"
       ],
       "url": "https://maps.wien.gv.at/basemap/bmapoverlay/normal/google3857/{z}/{y}/{x}.png"
      }
     },
     "81e6227e1862465e80e74ae37e585ab2": {
      "model_module": "jupyter-leaflet",
      "model_module_version": "^0.17.0",
      "model_name": "LeafletTileLayerModel",
      "state": {
       "_model_module_version": "^0.17.0",
       "_view_module_version": "^0.17.0",
       "attribution": "Justice Map",
       "max_zoom": 22,
       "name": "JusticeMap.americanIndian",
       "options": [
        "attribution",
        "bounds",
        "detect_retina",
        "max_native_zoom",
        "max_zoom",
        "min_native_zoom",
        "min_zoom",
        "no_wrap",
        "tile_size",
        "tms"
       ],
       "url": "https://www.justicemap.org/tile/county/indian/{z}/{x}/{y}.png"
      }
     },
     "828c414542d94fc8acae3e06d62a2340": {
      "model_module": "jupyter-leaflet",
      "model_module_version": "^0.17.0",
      "model_name": "LeafletWMSLayerModel",
      "state": {
       "_model_module_version": "^0.17.0",
       "_view_module_version": "^0.17.0",
       "attribution": "MRLC",
       "crs": {
        "custom": false,
        "name": "EPSG3857"
       },
       "format": "image/png",
       "layers": "NLCD_2006_Land_Cover_L48",
       "name": "NLCD 2006 CONUS Land Cover",
       "options": [
        "attribution",
        "bounds",
        "detect_retina",
        "format",
        "layers",
        "max_native_zoom",
        "max_zoom",
        "min_native_zoom",
        "min_zoom",
        "no_wrap",
        "styles",
        "tile_size",
        "tms",
        "transparent",
        "uppercase"
       ],
       "transparent": true,
       "url": "https://www.mrlc.gov/geoserver/mrlc_display/NLCD_2006_Land_Cover_L48/wms?"
      }
     },
     "82ba242d10e64e03a7d7efbf97b8f71a": {
      "model_module": "jupyter-leaflet",
      "model_module_version": "^0.17.0",
      "model_name": "LeafletTileLayerModel",
      "state": {
       "_model_module_version": "^0.17.0",
       "_view_module_version": "^0.17.0",
       "attribution": "Geoportail France",
       "name": "GeoportailFrance.Orthoimagery_Orthophotos2018",
       "options": [
        "attribution",
        "bounds",
        "detect_retina",
        "max_native_zoom",
        "max_zoom",
        "min_native_zoom",
        "min_zoom",
        "no_wrap",
        "tile_size",
        "tms"
       ],
       "url": "https://wxs.ign.fr/orthohisto/geoportail/wmts?REQUEST=GetTile&SERVICE=WMTS&VERSION=1.0.0&STYLE=normal&TILEMATRIXSET=PM&FORMAT=image/jpeg&LAYER=ORTHOIMAGERY.ORTHOPHOTOS2018&TILEMATRIX={z}&TILEROW={y}&TILECOL={x}"
      }
     },
     "83706d8dbc874dbdb28bcda831b980cf": {
      "model_module": "@jupyter-widgets/base",
      "model_module_version": "1.2.0",
      "model_name": "LayoutModel",
      "state": {}
     },
     "83831aef12274056ad3693d67fb1c056": {
      "model_module": "jupyter-leaflet",
      "model_module_version": "^0.17.0",
      "model_name": "LeafletTileLayerModel",
      "state": {
       "_model_module_version": "^0.17.0",
       "_view_module_version": "^0.17.0",
       "attribution": "Geoportail France",
       "name": "GeoportailFrance.Ocsge_Visu_2019",
       "options": [
        "attribution",
        "bounds",
        "detect_retina",
        "max_native_zoom",
        "max_zoom",
        "min_native_zoom",
        "min_zoom",
        "no_wrap",
        "tile_size",
        "tms"
       ],
       "url": "https://wxs.ign.fr/ocsge/geoportail/wmts?REQUEST=GetTile&SERVICE=WMTS&VERSION=1.0.0&STYLE=nolegend&TILEMATRIXSET=PM&FORMAT=image/png&LAYER=OCSGE.VISU.2019&TILEMATRIX={z}&TILEROW={y}&TILECOL={x}"
      }
     },
     "83be6af1a18f4f9095ac78b4c1bc4452": {
      "model_module": "jupyter-leaflet",
      "model_module_version": "^0.17.0",
      "model_name": "LeafletTileLayerModel",
      "state": {
       "_model_module_version": "^0.17.0",
       "_view_module_version": "^0.17.0",
       "attribution": "Geoportail France",
       "max_zoom": 16,
       "name": "GeoportailFrance.Landcover_Clc90_fr",
       "options": [
        "attribution",
        "bounds",
        "detect_retina",
        "max_native_zoom",
        "max_zoom",
        "min_native_zoom",
        "min_zoom",
        "no_wrap",
        "tile_size",
        "tms"
       ],
       "url": "https://wxs.ign.fr/clc/geoportail/wmts?REQUEST=GetTile&SERVICE=WMTS&VERSION=1.0.0&STYLE=CORINE Land Cover - France métropolitaine&TILEMATRIXSET=PM&FORMAT=image/png&LAYER=LANDCOVER.CLC90_FR&TILEMATRIX={z}&TILEROW={y}&TILECOL={x}"
      }
     },
     "843479ac2aff466c9caac425a06064a5": {
      "model_module": "jupyter-leaflet",
      "model_module_version": "^0.17.0",
      "model_name": "LeafletTileLayerModel",
      "state": {
       "_model_module_version": "^0.17.0",
       "_view_module_version": "^0.17.0",
       "attribution": "Geoportail France",
       "max_zoom": 16,
       "name": "GeoportailFrance.Limites_administratives_express_Latest",
       "options": [
        "attribution",
        "bounds",
        "detect_retina",
        "max_native_zoom",
        "max_zoom",
        "min_native_zoom",
        "min_zoom",
        "no_wrap",
        "tile_size",
        "tms"
       ],
       "url": "https://wxs.ign.fr/administratif/geoportail/wmts?REQUEST=GetTile&SERVICE=WMTS&VERSION=1.0.0&STYLE=normal&TILEMATRIXSET=PM&FORMAT=image/png&LAYER=LIMITES_ADMINISTRATIVES_EXPRESS.LATEST&TILEMATRIX={z}&TILEROW={y}&TILECOL={x}"
      }
     },
     "85d5a3ccbbfd45cb868167810c6cb683": {
      "model_module": "jupyter-leaflet",
      "model_module_version": "^0.17.0",
      "model_name": "LeafletTileLayerModel",
      "state": {
       "_model_module_version": "^0.17.0",
       "_view_module_version": "^0.17.0",
       "attribution": "Imagery provided by services from the Global Imagery Browse Services (GIBS), operated by the NASA/GSFC/Earth Science Data and Information System (ESDIS) with funding provided by NASA/HQ.",
       "max_zoom": 9,
       "name": "NASAGIBS.ModisAquaTrueColorCR",
       "options": [
        "attribution",
        "bounds",
        "detect_retina",
        "max_native_zoom",
        "max_zoom",
        "min_native_zoom",
        "min_zoom",
        "no_wrap",
        "tile_size",
        "tms"
       ],
       "url": "https://gibs.earthdata.nasa.gov/wmts/epsg3857/best/MODIS_Aqua_CorrectedReflectance_TrueColor/default//GoogleMapsCompatible_Level9/{z}/{y}/{x}.jpg"
      }
     },
     "866e421a78c74a5fbc36b39885c68f2a": {
      "model_module": "@jupyter-widgets/base",
      "model_module_version": "1.2.0",
      "model_name": "LayoutModel",
      "state": {
       "border": "1px solid black"
      }
     },
     "86f550a62f0046a091657502032027c4": {
      "model_module": "jupyter-leaflet",
      "model_module_version": "^0.17.0",
      "model_name": "LeafletTileLayerModel",
      "state": {
       "_model_module_version": "^0.17.0",
       "_view_module_version": "^0.17.0",
       "attribution": "Geoportail France",
       "max_zoom": 16,
       "name": "GeoportailFrance.Landuse_Agriculture2010",
       "options": [
        "attribution",
        "bounds",
        "detect_retina",
        "max_native_zoom",
        "max_zoom",
        "min_native_zoom",
        "min_zoom",
        "no_wrap",
        "tile_size",
        "tms"
       ],
       "url": "https://wxs.ign.fr/agriculture/geoportail/wmts?REQUEST=GetTile&SERVICE=WMTS&VERSION=1.0.0&STYLE=normal&TILEMATRIXSET=PM&FORMAT=image/png&LAYER=LANDUSE.AGRICULTURE2010&TILEMATRIX={z}&TILEROW={y}&TILECOL={x}"
      }
     },
     "87572e7fdcb742f3b06879cb3ec50e72": {
      "model_module": "jupyter-leaflet",
      "model_module_version": "^0.17.0",
      "model_name": "LeafletTileLayerModel",
      "state": {
       "_model_module_version": "^0.17.0",
       "_view_module_version": "^0.17.0",
       "attribution": "Geoportail France",
       "max_zoom": 19,
       "name": "GeoportailFrance.Orthoimagery_Ortho_sat_Pleiades_2021",
       "options": [
        "attribution",
        "bounds",
        "detect_retina",
        "max_native_zoom",
        "max_zoom",
        "min_native_zoom",
        "min_zoom",
        "no_wrap",
        "tile_size",
        "tms"
       ],
       "url": "https://wxs.ign.fr/satellite/geoportail/wmts?REQUEST=GetTile&SERVICE=WMTS&VERSION=1.0.0&STYLE=normal&TILEMATRIXSET=PM&FORMAT=image/png&LAYER=ORTHOIMAGERY.ORTHO-SAT.PLEIADES.2021&TILEMATRIX={z}&TILEROW={y}&TILECOL={x}"
      }
     },
     "8861dbfa196249ada3908115f308ddd2": {
      "model_module": "@jupyter-widgets/base",
      "model_module_version": "1.2.0",
      "model_name": "LayoutModel",
      "state": {}
     },
     "88ac43c5d8374e749ff5d8d883432068": {
      "model_module": "jupyter-leaflet",
      "model_module_version": "^0.17.0",
      "model_name": "LeafletTileLayerModel",
      "state": {
       "_model_module_version": "^0.17.0",
       "_view_module_version": "^0.17.0",
       "attribution": "Datenquelle: basemap.at",
       "max_zoom": 20,
       "name": "BasemapAT.basemap",
       "options": [
        "attribution",
        "bounds",
        "detect_retina",
        "max_native_zoom",
        "max_zoom",
        "min_native_zoom",
        "min_zoom",
        "no_wrap",
        "tile_size",
        "tms"
       ],
       "url": "https://maps.wien.gv.at/basemap/geolandbasemap/normal/google3857/{z}/{y}/{x}.png"
      }
     },
     "8a475bbffd684c86b9716393151de170": {
      "model_module": "@jupyter-widgets/controls",
      "model_module_version": "1.5.0",
      "model_name": "HTMLModel",
      "state": {
       "layout": "IPY_MODEL_919feb3911de4c3abe6145699444c8af",
       "style": "IPY_MODEL_252b732fdebf4ef7913a9078aefea1ad",
       "value": "<b>2. Select Images Button</b>                 <br> - This will open a pop up window where the RGB folder must be selected.<br>                    - The model will be applied to the 'model input' folder selected and the model outputs will be generated within a subdirectory                    called 'out'<br>            - <span style=\"background-color:yellow;color: black;\">WARNING :</span> You will not be able to see the files within the folder you select.<br>            "
      }
     },
     "8a566dad81d14d7f9408e12c80813e6c": {
      "model_module": "jupyter-leaflet",
      "model_module_version": "^0.17.0",
      "model_name": "LeafletTileLayerModel",
      "state": {
       "_model_module_version": "^0.17.0",
       "_view_module_version": "^0.17.0",
       "attribution": "Map tiles by Stamen Design, CC BY 3.0 -- Map data (C) OpenStreetMap contributors",
       "max_zoom": 20,
       "name": "Stamen.TonerHybrid",
       "options": [
        "attribution",
        "bounds",
        "detect_retina",
        "max_native_zoom",
        "max_zoom",
        "min_native_zoom",
        "min_zoom",
        "no_wrap",
        "tile_size",
        "tms"
       ],
       "url": "https://stamen-tiles-a.a.ssl.fastly.net/toner-hybrid/{z}/{x}/{y}.png"
      }
     },
     "8aaa50dd739b4e2e87f971b8e1f77309": {
      "model_module": "jupyter-leaflet",
      "model_module_version": "^0.17.0",
      "model_name": "LeafletTileLayerModel",
      "state": {
       "_model_module_version": "^0.17.0",
       "_view_module_version": "^0.17.0",
       "attribution": "(C) OpenStreetMap contributors (C) CARTO",
       "max_zoom": 20,
       "name": "CartoDB.DarkMatterNoLabels",
       "options": [
        "attribution",
        "bounds",
        "detect_retina",
        "max_native_zoom",
        "max_zoom",
        "min_native_zoom",
        "min_zoom",
        "no_wrap",
        "tile_size",
        "tms"
       ],
       "url": "https://a.basemaps.cartocdn.com/dark_nolabels/{z}/{x}/{y}.png"
      }
     },
     "8ac8503f4489474db81def5ca1dcaf06": {
      "model_module": "jupyter-leaflet",
      "model_module_version": "^0.17.0",
      "model_name": "LeafletTileLayerModel",
      "state": {
       "_model_module_version": "^0.17.0",
       "_view_module_version": "^0.17.0",
       "attribution": "Tiles (C) Esri -- Esri, DeLorme, NAVTEQ",
       "max_zoom": 16,
       "name": "Esri.WorldGrayCanvas",
       "options": [
        "attribution",
        "bounds",
        "detect_retina",
        "max_native_zoom",
        "max_zoom",
        "min_native_zoom",
        "min_zoom",
        "no_wrap",
        "tile_size",
        "tms"
       ],
       "url": "https://server.arcgisonline.com/ArcGIS/rest/services/Canvas/World_Light_Gray_Base/MapServer/tile/{z}/{y}/{x}"
      }
     },
     "8b8e2b85cbf5441dade893701665c211": {
      "model_module": "jupyter-leaflet",
      "model_module_version": "^0.17.0",
      "model_name": "LeafletTileLayerModel",
      "state": {
       "_model_module_version": "^0.17.0",
       "_view_module_version": "^0.17.0",
       "attribution": "Datenquelle: basemap.at",
       "max_zoom": 19,
       "name": "BasemapAT.grau",
       "options": [
        "attribution",
        "bounds",
        "detect_retina",
        "max_native_zoom",
        "max_zoom",
        "min_native_zoom",
        "min_zoom",
        "no_wrap",
        "tile_size",
        "tms"
       ],
       "url": "https://maps.wien.gv.at/basemap/bmapgrau/normal/google3857/{z}/{y}/{x}.png"
      }
     },
     "8bdd4478960249fe82ccdbba00f1650d": {
      "model_module": "jupyter-leaflet",
      "model_module_version": "^0.17.0",
      "model_name": "LeafletTileLayerModel",
      "state": {
       "_model_module_version": "^0.17.0",
       "_view_module_version": "^0.17.0",
       "attribution": "Geoportail France",
       "max_zoom": 16,
       "name": "GeoportailFrance.Areamanagement_Zfu",
       "options": [
        "attribution",
        "bounds",
        "detect_retina",
        "max_native_zoom",
        "max_zoom",
        "min_native_zoom",
        "min_zoom",
        "no_wrap",
        "tile_size",
        "tms"
       ],
       "url": "https://wxs.ign.fr/economie/geoportail/wmts?REQUEST=GetTile&SERVICE=WMTS&VERSION=1.0.0&STYLE=normal&TILEMATRIXSET=PM&FORMAT=image/png&LAYER=AREAMANAGEMENT.ZFU&TILEMATRIX={z}&TILEROW={y}&TILECOL={x}"
      }
     },
     "8cb4cb1cdbf54af7923f74e01d0a02f8": {
      "model_module": "jupyter-leaflet",
      "model_module_version": "^0.17.0",
      "model_name": "LeafletTileLayerModel",
      "state": {
       "_model_module_version": "^0.17.0",
       "_view_module_version": "^0.17.0",
       "attribution": "Geoportail France",
       "max_zoom": 16,
       "name": "GeoportailFrance.Landuse_Agriculture2009",
       "options": [
        "attribution",
        "bounds",
        "detect_retina",
        "max_native_zoom",
        "max_zoom",
        "min_native_zoom",
        "min_zoom",
        "no_wrap",
        "tile_size",
        "tms"
       ],
       "url": "https://wxs.ign.fr/agriculture/geoportail/wmts?REQUEST=GetTile&SERVICE=WMTS&VERSION=1.0.0&STYLE=normal&TILEMATRIXSET=PM&FORMAT=image/png&LAYER=LANDUSE.AGRICULTURE2009&TILEMATRIX={z}&TILEROW={y}&TILECOL={x}"
      }
     },
     "8ce585af1fd043ec884fd59c713ecdde": {
      "model_module": "jupyter-leaflet",
      "model_module_version": "^0.17.0",
      "model_name": "LeafletTileLayerModel",
      "state": {
       "_model_module_version": "^0.17.0",
       "_view_module_version": "^0.17.0",
       "attribution": "Geoportail France",
       "name": "GeoportailFrance.Orthoimagery_Ortho_sat_Pleiades_2017",
       "options": [
        "attribution",
        "bounds",
        "detect_retina",
        "max_native_zoom",
        "max_zoom",
        "min_native_zoom",
        "min_zoom",
        "no_wrap",
        "tile_size",
        "tms"
       ],
       "url": "https://wxs.ign.fr/satellite/geoportail/wmts?REQUEST=GetTile&SERVICE=WMTS&VERSION=1.0.0&STYLE=normal&TILEMATRIXSET=PM&FORMAT=image/png&LAYER=ORTHOIMAGERY.ORTHO-SAT.PLEIADES.2017&TILEMATRIX={z}&TILEROW={y}&TILECOL={x}"
      }
     },
     "8d1f21ec29c14e36ac6077da8155d16c": {
      "model_module": "jupyter-leaflet",
      "model_module_version": "^0.17.0",
      "model_name": "LeafletTileLayerModel",
      "state": {
       "_model_module_version": "^0.17.0",
       "_view_module_version": "^0.17.0",
       "attribution": "Kaartgegevens (C) Kadaster",
       "max_zoom": 19,
       "name": "nlmaps.pastel",
       "options": [
        "attribution",
        "bounds",
        "detect_retina",
        "max_native_zoom",
        "max_zoom",
        "min_native_zoom",
        "min_zoom",
        "no_wrap",
        "tile_size",
        "tms"
       ],
       "url": "https://service.pdok.nl/brt/achtergrondkaart/wmts/v2_0/pastel/EPSG:3857/{z}/{x}/{y}.png"
      }
     },
     "8e66222201ee4ac7a6a1ea237087eedb": {
      "model_module": "jupyter-leaflet",
      "model_module_version": "^0.17.0",
      "model_name": "LeafletTileLayerModel",
      "state": {
       "_model_module_version": "^0.17.0",
       "_view_module_version": "^0.17.0",
       "attribution": "Geoportail France",
       "name": "GeoportailFrance.Transportnetworks_Railways",
       "options": [
        "attribution",
        "bounds",
        "detect_retina",
        "max_native_zoom",
        "max_zoom",
        "min_native_zoom",
        "min_zoom",
        "no_wrap",
        "tile_size",
        "tms"
       ],
       "url": "https://wxs.ign.fr/topographie/geoportail/wmts?REQUEST=GetTile&SERVICE=WMTS&VERSION=1.0.0&STYLE=normal&TILEMATRIXSET=PM&FORMAT=image/png&LAYER=TRANSPORTNETWORKS.RAILWAYS&TILEMATRIX={z}&TILEROW={y}&TILECOL={x}"
      }
     },
     "8ea3d957539a4640ae465bc0bae03edd": {
      "model_module": "jupyter-leaflet",
      "model_module_version": "^0.17.0",
      "model_name": "LeafletTileLayerModel",
      "state": {
       "_model_module_version": "^0.17.0",
       "_view_module_version": "^0.17.0",
       "attribution": "Imagery provided by services from the Global Imagery Browse Services (GIBS), operated by the NASA/GSFC/Earth Science Data and Information System (ESDIS) with funding provided by NASA/HQ.",
       "max_zoom": 6,
       "name": "NASAGIBS.ModisTerraAOD",
       "options": [
        "attribution",
        "bounds",
        "detect_retina",
        "max_native_zoom",
        "max_zoom",
        "min_native_zoom",
        "min_zoom",
        "no_wrap",
        "tile_size",
        "tms"
       ],
       "url": "https://map1.vis.earthdata.nasa.gov/wmts-webmerc/MODIS_Terra_Aerosol/default//GoogleMapsCompatible_Level6/{z}/{y}/{x}.png"
      }
     },
     "8f96df748e9d4a069778a1fa9069683f": {
      "model_module": "jupyter-leaflet",
      "model_module_version": "^0.17.0",
      "model_name": "LeafletWMSLayerModel",
      "state": {
       "_model_module_version": "^0.17.0",
       "_view_module_version": "^0.17.0",
       "attribution": "MRLC",
       "crs": {
        "custom": false,
        "name": "EPSG3857"
       },
       "format": "image/png",
       "layers": "NLCD_2011_Land_Cover_L48",
       "name": "NLCD 2011 CONUS Land Cover",
       "options": [
        "attribution",
        "bounds",
        "detect_retina",
        "format",
        "layers",
        "max_native_zoom",
        "max_zoom",
        "min_native_zoom",
        "min_zoom",
        "no_wrap",
        "styles",
        "tile_size",
        "tms",
        "transparent",
        "uppercase"
       ],
       "transparent": true,
       "url": "https://www.mrlc.gov/geoserver/mrlc_display/NLCD_2011_Land_Cover_L48/wms?"
      }
     },
     "9067f15001874a71b7f8dd2b891545a2": {
      "model_module": "jupyter-leaflet",
      "model_module_version": "^0.17.0",
      "model_name": "LeafletWMSLayerModel",
      "state": {
       "_model_module_version": "^0.17.0",
       "_view_module_version": "^0.17.0",
       "attribution": "MRLC",
       "crs": {
        "custom": false,
        "name": "EPSG3857"
       },
       "format": "image/png",
       "layers": "NLCD_2004_Land_Cover_L48",
       "name": "NLCD 2004 CONUS Land Cover",
       "options": [
        "attribution",
        "bounds",
        "detect_retina",
        "format",
        "layers",
        "max_native_zoom",
        "max_zoom",
        "min_native_zoom",
        "min_zoom",
        "no_wrap",
        "styles",
        "tile_size",
        "tms",
        "transparent",
        "uppercase"
       ],
       "transparent": true,
       "url": "https://www.mrlc.gov/geoserver/mrlc_display/NLCD_2004_Land_Cover_L48/wms?"
      }
     },
     "90bd79168d534366bc96638375482864": {
      "model_module": "jupyter-leaflet",
      "model_module_version": "^0.17.0",
      "model_name": "LeafletTileLayerModel",
      "state": {
       "_model_module_version": "^0.17.0",
       "_view_module_version": "^0.17.0",
       "attribution": "Geoportail France",
       "max_zoom": 17,
       "name": "GeoportailFrance.Hydrography_Bcae_Latest",
       "options": [
        "attribution",
        "bounds",
        "detect_retina",
        "max_native_zoom",
        "max_zoom",
        "min_native_zoom",
        "min_zoom",
        "no_wrap",
        "tile_size",
        "tms"
       ],
       "url": "https://wxs.ign.fr/agriculture/geoportail/wmts?REQUEST=GetTile&SERVICE=WMTS&VERSION=1.0.0&STYLE=normal&TILEMATRIXSET=PM&FORMAT=image/png&LAYER=HYDROGRAPHY.BCAE.LATEST&TILEMATRIX={z}&TILEROW={y}&TILECOL={x}"
      }
     },
     "919feb3911de4c3abe6145699444c8af": {
      "model_module": "@jupyter-widgets/base",
      "model_module_version": "1.2.0",
      "model_name": "LayoutModel",
      "state": {
       "margin": "0px 0px 0px 20px"
      }
     },
     "92c1e0e554cd4b3a87a7f0621929e6f4": {
      "model_module": "jupyter-leaflet",
      "model_module_version": "^0.17.0",
      "model_name": "LeafletTileLayerModel",
      "state": {
       "_model_module_version": "^0.17.0",
       "_view_module_version": "^0.17.0",
       "attribution": "Geoportail France",
       "max_zoom": 17,
       "name": "GeoportailFrance.Securoute_Te_Te72",
       "options": [
        "attribution",
        "bounds",
        "detect_retina",
        "max_native_zoom",
        "max_zoom",
        "min_native_zoom",
        "min_zoom",
        "no_wrap",
        "tile_size",
        "tms"
       ],
       "url": "https://wxs.ign.fr/transports/geoportail/wmts?REQUEST=GetTile&SERVICE=WMTS&VERSION=1.0.0&STYLE=RESEAU ROUTIER TE72&TILEMATRIXSET=PM&FORMAT=image/png&LAYER=SECUROUTE.TE.TE72&TILEMATRIX={z}&TILEROW={y}&TILECOL={x}"
      }
     },
     "93517c41aa7b48d3a712d205dd3073a4": {
      "model_module": "jupyter-leaflet",
      "model_module_version": "^0.17.0",
      "model_name": "LeafletTileLayerModel",
      "state": {
       "_model_module_version": "^0.17.0",
       "_view_module_version": "^0.17.0",
       "attribution": "Geoportail France",
       "max_zoom": 16,
       "name": "GeoportailFrance.Ocsge_Usage_2019",
       "options": [
        "attribution",
        "bounds",
        "detect_retina",
        "max_native_zoom",
        "max_zoom",
        "min_native_zoom",
        "min_zoom",
        "no_wrap",
        "tile_size",
        "tms"
       ],
       "url": "https://wxs.ign.fr/ocsge/geoportail/wmts?REQUEST=GetTile&SERVICE=WMTS&VERSION=1.0.0&STYLE=nolegend&TILEMATRIXSET=PM&FORMAT=image/png&LAYER=OCSGE.USAGE.2019&TILEMATRIX={z}&TILEROW={y}&TILECOL={x}"
      }
     },
     "93925cc81d084c05a1899cd636f59eed": {
      "model_module": "jupyter-leaflet",
      "model_module_version": "^0.17.0",
      "model_name": "LeafletTileLayerModel",
      "state": {
       "_model_module_version": "^0.17.0",
       "_view_module_version": "^0.17.0",
       "attribution": "(C) OpenStreetMap contributors (C) CARTO",
       "max_zoom": 20,
       "name": "CartoDB.VoyagerNoLabels",
       "options": [
        "attribution",
        "bounds",
        "detect_retina",
        "max_native_zoom",
        "max_zoom",
        "min_native_zoom",
        "min_zoom",
        "no_wrap",
        "tile_size",
        "tms"
       ],
       "url": "https://a.basemaps.cartocdn.com/rastertiles/voyager_nolabels/{z}/{x}/{y}.png"
      }
     },
     "94a67cede36d4830959e4921e5dc9909": {
      "model_module": "jupyter-leaflet",
      "model_module_version": "^0.17.0",
      "model_name": "LeafletTileLayerModel",
      "state": {
       "_model_module_version": "^0.17.0",
       "_view_module_version": "^0.17.0",
       "attribution": "Geoportail France",
       "name": "GeoportailFrance.Elevation_Level0",
       "options": [
        "attribution",
        "bounds",
        "detect_retina",
        "max_native_zoom",
        "max_zoom",
        "min_native_zoom",
        "min_zoom",
        "no_wrap",
        "tile_size",
        "tms"
       ],
       "url": "https://wxs.ign.fr/altimetrie/geoportail/wmts?REQUEST=GetTile&SERVICE=WMTS&VERSION=1.0.0&STYLE=normal&TILEMATRIXSET=PM&FORMAT=image/png&LAYER=ELEVATION.LEVEL0&TILEMATRIX={z}&TILEROW={y}&TILECOL={x}"
      }
     },
     "94f47acd38af48169dcdd526167bf310": {
      "model_module": "jupyter-leaflet",
      "model_module_version": "^0.17.0",
      "model_name": "LeafletTileLayerModel",
      "state": {
       "_model_module_version": "^0.17.0",
       "_view_module_version": "^0.17.0",
       "attribution": "Justice Map",
       "max_zoom": 22,
       "name": "JusticeMap.asian",
       "options": [
        "attribution",
        "bounds",
        "detect_retina",
        "max_native_zoom",
        "max_zoom",
        "min_native_zoom",
        "min_zoom",
        "no_wrap",
        "tile_size",
        "tms"
       ],
       "url": "https://www.justicemap.org/tile/county/asian/{z}/{x}/{y}.png"
      }
     },
     "9573ac843aaf4803801dd11289773cfa": {
      "model_module": "jupyter-leaflet",
      "model_module_version": "^0.17.0",
      "model_name": "LeafletTileLayerModel",
      "state": {
       "_model_module_version": "^0.17.0",
       "_view_module_version": "^0.17.0",
       "attribution": "Geoportail France",
       "max_zoom": 16,
       "name": "GeoportailFrance.Landcover_Cha18_fr",
       "options": [
        "attribution",
        "bounds",
        "detect_retina",
        "max_native_zoom",
        "max_zoom",
        "min_native_zoom",
        "min_zoom",
        "no_wrap",
        "tile_size",
        "tms"
       ],
       "url": "https://wxs.ign.fr/clc/geoportail/wmts?REQUEST=GetTile&SERVICE=WMTS&VERSION=1.0.0&STYLE=CORINE Land Cover - France métropolitaine&TILEMATRIXSET=PM&FORMAT=image/png&LAYER=LANDCOVER.CHA18_FR&TILEMATRIX={z}&TILEROW={y}&TILECOL={x}"
      }
     },
     "95895a4d3075452dac9b13a6f5eaee28": {
      "model_module": "jupyter-leaflet",
      "model_module_version": "^0.17.0",
      "model_name": "LeafletTileLayerModel",
      "state": {
       "_model_module_version": "^0.17.0",
       "_view_module_version": "^0.17.0",
       "attribution": "Geoportail France",
       "max_zoom": 16,
       "name": "GeoportailFrance.Geographicalgridsystem_Dfci",
       "options": [
        "attribution",
        "bounds",
        "detect_retina",
        "max_native_zoom",
        "max_zoom",
        "min_native_zoom",
        "min_zoom",
        "no_wrap",
        "tile_size",
        "tms"
       ],
       "url": "https://wxs.ign.fr/environnement/geoportail/wmts?REQUEST=GetTile&SERVICE=WMTS&VERSION=1.0.0&STYLE=normal&TILEMATRIXSET=PM&FORMAT=image/png&LAYER=GEOGRAPHICALGRIDSYSTEM.DFCI&TILEMATRIX={z}&TILEROW={y}&TILECOL={x}"
      }
     },
     "9603db85c3f4493c848a6ccb15286b6f": {
      "model_module": "jupyter-leaflet",
      "model_module_version": "^0.17.0",
      "model_name": "LeafletTileLayerModel",
      "state": {
       "_model_module_version": "^0.17.0",
       "_view_module_version": "^0.17.0",
       "attribution": "Geoportail France",
       "max_zoom": 19,
       "name": "GeoportailFrance.Hr_Orthoimagery_Orthophotos",
       "options": [
        "attribution",
        "bounds",
        "detect_retina",
        "max_native_zoom",
        "max_zoom",
        "min_native_zoom",
        "min_zoom",
        "no_wrap",
        "tile_size",
        "tms"
       ],
       "url": "https://wxs.ign.fr/ortho/geoportail/wmts?REQUEST=GetTile&SERVICE=WMTS&VERSION=1.0.0&STYLE=normal&TILEMATRIXSET=PM&FORMAT=image/jpeg&LAYER=HR.ORTHOIMAGERY.ORTHOPHOTOS&TILEMATRIX={z}&TILEROW={y}&TILECOL={x}"
      }
     },
     "968b332b78f04317831f0ead0443e81e": {
      "model_module": "jupyter-leaflet",
      "model_module_version": "^0.17.0",
      "model_name": "LeafletTileLayerModel",
      "state": {
       "_model_module_version": "^0.17.0",
       "_view_module_version": "^0.17.0",
       "attribution": "Geoportail France",
       "max_zoom": 16,
       "name": "GeoportailFrance.Adminexpress_cog_carto_Latest",
       "options": [
        "attribution",
        "bounds",
        "detect_retina",
        "max_native_zoom",
        "max_zoom",
        "min_native_zoom",
        "min_zoom",
        "no_wrap",
        "tile_size",
        "tms"
       ],
       "url": "https://wxs.ign.fr/administratif/geoportail/wmts?REQUEST=GetTile&SERVICE=WMTS&VERSION=1.0.0&STYLE=normal&TILEMATRIXSET=PM&FORMAT=image/png&LAYER=ADMINEXPRESS-COG-CARTO.LATEST&TILEMATRIX={z}&TILEROW={y}&TILECOL={x}"
      }
     },
     "975c8e84eb044038b5473e1bba90ee9b": {
      "model_module": "jupyter-leaflet",
      "model_module_version": "^0.17.0",
      "model_name": "LeafletTileLayerModel",
      "state": {
       "_model_module_version": "^0.17.0",
       "_view_module_version": "^0.17.0",
       "attribution": "Kaartgegevens (C) Kadaster",
       "max_zoom": 19,
       "name": "nlmaps.luchtfoto",
       "options": [
        "attribution",
        "bounds",
        "detect_retina",
        "max_native_zoom",
        "max_zoom",
        "min_native_zoom",
        "min_zoom",
        "no_wrap",
        "tile_size",
        "tms"
       ],
       "url": "https://service.pdok.nl/hwh/luchtfotorgb/wmts/v1_0/Actueel_ortho25/EPSG:3857/{z}/{x}/{y}.jpeg"
      }
     },
     "982db057ef2a4b00ab121d914065b617": {
      "model_module": "jupyter-leaflet",
      "model_module_version": "^0.17.0",
      "model_name": "LeafletTileLayerModel",
      "state": {
       "_model_module_version": "^0.17.0",
       "_view_module_version": "^0.17.0",
       "attribution": "Geoportail France",
       "name": "GeoportailFrance.Orthoimagery_Orthophotos_1950_1965",
       "options": [
        "attribution",
        "bounds",
        "detect_retina",
        "max_native_zoom",
        "max_zoom",
        "min_native_zoom",
        "min_zoom",
        "no_wrap",
        "tile_size",
        "tms"
       ],
       "url": "https://wxs.ign.fr/orthohisto/geoportail/wmts?REQUEST=GetTile&SERVICE=WMTS&VERSION=1.0.0&STYLE=normal&TILEMATRIXSET=PM&FORMAT=image/png&LAYER=ORTHOIMAGERY.ORTHOPHOTOS.1950-1965&TILEMATRIX={z}&TILEROW={y}&TILECOL={x}"
      }
     },
     "994896afc9d74f6ab09c2640be3b98ba": {
      "model_module": "jupyter-leaflet",
      "model_module_version": "^0.17.0",
      "model_name": "LeafletTileLayerModel",
      "state": {
       "_model_module_version": "^0.17.0",
       "_view_module_version": "^0.17.0",
       "attribution": "Geoportail France",
       "max_zoom": 17,
       "name": "GeoportailFrance.Orthoimagery_Ortho_sat_Spot_2013",
       "options": [
        "attribution",
        "bounds",
        "detect_retina",
        "max_native_zoom",
        "max_zoom",
        "min_native_zoom",
        "min_zoom",
        "no_wrap",
        "tile_size",
        "tms"
       ],
       "url": "https://wxs.ign.fr/satellite/geoportail/wmts?REQUEST=GetTile&SERVICE=WMTS&VERSION=1.0.0&STYLE=normal&TILEMATRIXSET=PM&FORMAT=image/jpeg&LAYER=ORTHOIMAGERY.ORTHO-SAT.SPOT.2013&TILEMATRIX={z}&TILEROW={y}&TILECOL={x}"
      }
     },
     "995ef1d26a8b4265a4291d07962594cf": {
      "model_module": "jupyter-leaflet",
      "model_module_version": "^0.17.0",
      "model_name": "LeafletTileLayerModel",
      "state": {
       "_model_module_version": "^0.17.0",
       "_view_module_version": "^0.17.0",
       "attribution": "Map tiles by Stamen Design, CC BY 3.0 -- Map data (C) OpenStreetMap contributors",
       "max_zoom": 20,
       "name": "Stamen.TonerLines",
       "options": [
        "attribution",
        "bounds",
        "detect_retina",
        "max_native_zoom",
        "max_zoom",
        "min_native_zoom",
        "min_zoom",
        "no_wrap",
        "tile_size",
        "tms"
       ],
       "url": "https://stamen-tiles-a.a.ssl.fastly.net/toner-lines/{z}/{x}/{y}.png"
      }
     },
     "99800a0bd8ca4f818f66b84f5aa4e0a8": {
      "model_module": "jupyter-leaflet",
      "model_module_version": "^0.17.0",
      "model_name": "LeafletTileLayerModel",
      "state": {
       "_model_module_version": "^0.17.0",
       "_view_module_version": "^0.17.0",
       "attribution": "Geoportail France",
       "max_zoom": 16,
       "name": "GeoportailFrance.Protectedareas_Sic",
       "options": [
        "attribution",
        "bounds",
        "detect_retina",
        "max_native_zoom",
        "max_zoom",
        "min_native_zoom",
        "min_zoom",
        "no_wrap",
        "tile_size",
        "tms"
       ],
       "url": "https://wxs.ign.fr/environnement/geoportail/wmts?REQUEST=GetTile&SERVICE=WMTS&VERSION=1.0.0&STYLE=normal&TILEMATRIXSET=PM&FORMAT=image/png&LAYER=PROTECTEDAREAS.SIC&TILEMATRIX={z}&TILEROW={y}&TILECOL={x}"
      }
     },
     "99efc386cbd144c9a1ba898231390195": {
      "model_module": "jupyter-leaflet",
      "model_module_version": "^0.17.0",
      "model_name": "LeafletTileLayerModel",
      "state": {
       "_model_module_version": "^0.17.0",
       "_view_module_version": "^0.17.0",
       "attribution": "Geoportail France",
       "max_zoom": 16,
       "name": "GeoportailFrance.Protectedareas_Pn",
       "options": [
        "attribution",
        "bounds",
        "detect_retina",
        "max_native_zoom",
        "max_zoom",
        "min_native_zoom",
        "min_zoom",
        "no_wrap",
        "tile_size",
        "tms"
       ],
       "url": "https://wxs.ign.fr/environnement/geoportail/wmts?REQUEST=GetTile&SERVICE=WMTS&VERSION=1.0.0&STYLE=normal&TILEMATRIXSET=PM&FORMAT=image/png&LAYER=PROTECTEDAREAS.PN&TILEMATRIX={z}&TILEROW={y}&TILECOL={x}"
      }
     },
     "9ad2deb2cbfb43e89944e11f238b2af7": {
      "model_module": "@jupyter-widgets/controls",
      "model_module_version": "1.5.0",
      "model_name": "HTMLModel",
      "state": {
       "layout": "IPY_MODEL_c4e2b9abd0ff49bc804d0c13456ae8d9",
       "style": "IPY_MODEL_c1a7d95f444541a2be860ce4fb851fd1",
       "value": "<h4>Click ONE of the following buttons:</h4>"
      }
     },
     "9af5ca0744d44b6ea95db84ab745cd79": {
      "model_module": "jupyter-leaflet",
      "model_module_version": "^0.17.0",
      "model_name": "LeafletTileLayerModel",
      "state": {
       "_model_module_version": "^0.17.0",
       "_view_module_version": "^0.17.0",
       "attribution": "Geoportail France",
       "max_zoom": 16,
       "name": "GeoportailFrance.Ocsge_Constructions_2019",
       "options": [
        "attribution",
        "bounds",
        "detect_retina",
        "max_native_zoom",
        "max_zoom",
        "min_native_zoom",
        "min_zoom",
        "no_wrap",
        "tile_size",
        "tms"
       ],
       "url": "https://wxs.ign.fr/ocsge/geoportail/wmts?REQUEST=GetTile&SERVICE=WMTS&VERSION=1.0.0&STYLE=nolegend&TILEMATRIXSET=PM&FORMAT=image/png&LAYER=OCSGE.CONSTRUCTIONS.2019&TILEMATRIX={z}&TILEROW={y}&TILECOL={x}"
      }
     },
     "9b4370978117457f9e3f838df371e836": {
      "model_module": "jupyter-leaflet",
      "model_module_version": "^0.17.0",
      "model_name": "LeafletTileLayerModel",
      "state": {
       "_model_module_version": "^0.17.0",
       "_view_module_version": "^0.17.0",
       "attribution": "Map tiles by Stamen Design, CC BY 3.0 -- Map data (C) OpenStreetMap contributors",
       "max_zoom": 20,
       "name": "Stamen.TonerBackground",
       "options": [
        "attribution",
        "bounds",
        "detect_retina",
        "max_native_zoom",
        "max_zoom",
        "min_native_zoom",
        "min_zoom",
        "no_wrap",
        "tile_size",
        "tms"
       ],
       "url": "https://stamen-tiles-a.a.ssl.fastly.net/toner-background/{z}/{x}/{y}.png"
      }
     },
     "9bf7b9cc2a1a4cba81e2b2ebd668aadc": {
      "model_module": "jupyter-leaflet",
      "model_module_version": "^0.17.0",
      "model_name": "LeafletTileLayerModel",
      "state": {
       "_model_module_version": "^0.17.0",
       "_view_module_version": "^0.17.0",
       "attribution": "(C) OpenStreetMap contributors",
       "name": "OpenStreetMap.CH",
       "options": [
        "attribution",
        "bounds",
        "detect_retina",
        "max_native_zoom",
        "max_zoom",
        "min_native_zoom",
        "min_zoom",
        "no_wrap",
        "tile_size",
        "tms"
       ],
       "url": "https://tile.osm.ch/switzerland/{z}/{x}/{y}.png"
      }
     },
     "9c49baae8d4340cb93d0997dd572e898": {
      "model_module": "jupyter-leaflet",
      "model_module_version": "^0.17.0",
      "model_name": "LeafletTileLayerModel",
      "state": {
       "_model_module_version": "^0.17.0",
       "_view_module_version": "^0.17.0",
       "attribution": "Geoportail France",
       "max_zoom": 13,
       "name": "GeoportailFrance.Landcover_Grid_Clc12",
       "options": [
        "attribution",
        "bounds",
        "detect_retina",
        "max_native_zoom",
        "max_zoom",
        "min_native_zoom",
        "min_zoom",
        "no_wrap",
        "tile_size",
        "tms"
       ],
       "url": "https://wxs.ign.fr/clc/geoportail/wmts?REQUEST=GetTile&SERVICE=WMTS&VERSION=1.0.0&STYLE=CORINE Land Cover&TILEMATRIXSET=PM&FORMAT=image/png&LAYER=LANDCOVER.GRID.CLC12&TILEMATRIX={z}&TILEROW={y}&TILECOL={x}"
      }
     },
     "9d96db5b33d24bb4948a464d5531604d": {
      "model_module": "jupyter-leaflet",
      "model_module_version": "^0.17.0",
      "model_name": "LeafletTileLayerModel",
      "state": {
       "_model_module_version": "^0.17.0",
       "_view_module_version": "^0.17.0",
       "attribution": "Geoportail France",
       "max_zoom": 16,
       "name": "GeoportailFrance.Landuse_Agriculture2018",
       "options": [
        "attribution",
        "bounds",
        "detect_retina",
        "max_native_zoom",
        "max_zoom",
        "min_native_zoom",
        "min_zoom",
        "no_wrap",
        "tile_size",
        "tms"
       ],
       "url": "https://wxs.ign.fr/agriculture/geoportail/wmts?REQUEST=GetTile&SERVICE=WMTS&VERSION=1.0.0&STYLE=normal&TILEMATRIXSET=PM&FORMAT=image/png&LAYER=LANDUSE.AGRICULTURE2018&TILEMATRIX={z}&TILEROW={y}&TILECOL={x}"
      }
     },
     "9db9fa1f51f44e839615fb94ba8376d8": {
      "model_module": "@jupyter-widgets/output",
      "model_module_version": "1.0.0",
      "model_name": "OutputModel",
      "state": {
       "layout": "IPY_MODEL_4f335c0a77fe4e9c8c9bf8e69dabb111"
      }
     },
     "9dc7f97f86694cb89ac03b4ce5b4d66d": {
      "model_module": "jupyter-leaflet",
      "model_module_version": "^0.17.0",
      "model_name": "LeafletTileLayerModel",
      "state": {
       "_model_module_version": "^0.17.0",
       "_view_module_version": "^0.17.0",
       "attribution": "Geoportail France",
       "max_zoom": 16,
       "name": "GeoportailFrance.Insee_Filosofi_Part_Familles_Monoparentales_Secret",
       "options": [
        "attribution",
        "bounds",
        "detect_retina",
        "max_native_zoom",
        "max_zoom",
        "min_native_zoom",
        "min_zoom",
        "no_wrap",
        "tile_size",
        "tms"
       ],
       "url": "https://wxs.ign.fr/economie/geoportail/wmts?REQUEST=GetTile&SERVICE=WMTS&VERSION=1.0.0&STYLE=INSEE&TILEMATRIXSET=PM&FORMAT=image/png&LAYER=INSEE.FILOSOFI.PART.FAMILLES.MONOPARENTALES.SECRET&TILEMATRIX={z}&TILEROW={y}&TILECOL={x}"
      }
     },
     "9dec61562f034ff39cafea5485e382b6": {
      "model_module": "@jupyter-widgets/controls",
      "model_module_version": "1.5.0",
      "model_name": "DescriptionStyleModel",
      "state": {
       "description_width": ""
      }
     },
     "9e32ef6cc952408f9e31bb9ae3812c58": {
      "model_module": "jupyter-leaflet",
      "model_module_version": "^0.17.0",
      "model_name": "LeafletTileLayerModel",
      "state": {
       "_model_module_version": "^0.17.0",
       "_view_module_version": "^0.17.0",
       "attribution": "Geoportail France",
       "name": "GeoportailFrance.Transportnetworks_Roads_Direction",
       "options": [
        "attribution",
        "bounds",
        "detect_retina",
        "max_native_zoom",
        "max_zoom",
        "min_native_zoom",
        "min_zoom",
        "no_wrap",
        "tile_size",
        "tms"
       ],
       "url": "https://wxs.ign.fr/transports/geoportail/wmts?REQUEST=GetTile&SERVICE=WMTS&VERSION=1.0.0&STYLE=normal&TILEMATRIXSET=PM&FORMAT=image/png&LAYER=TRANSPORTNETWORKS.ROADS.DIRECTION&TILEMATRIX={z}&TILEROW={y}&TILECOL={x}"
      }
     },
     "9f21e5d7afb64b3bb4214e3de968a09c": {
      "model_module": "jupyter-leaflet",
      "model_module_version": "^0.17.0",
      "model_name": "LeafletTileLayerModel",
      "state": {
       "_model_module_version": "^0.17.0",
       "_view_module_version": "^0.17.0",
       "attribution": "Geoportail France",
       "name": "GeoportailFrance.Geographicalgridsystems_Maps_Bduni_J1",
       "options": [
        "attribution",
        "bounds",
        "detect_retina",
        "max_native_zoom",
        "max_zoom",
        "min_native_zoom",
        "min_zoom",
        "no_wrap",
        "tile_size",
        "tms"
       ],
       "url": "https://wxs.ign.fr/cartes/geoportail/wmts?REQUEST=GetTile&SERVICE=WMTS&VERSION=1.0.0&STYLE=normal&TILEMATRIXSET=PM&FORMAT=image/png&LAYER=GEOGRAPHICALGRIDSYSTEMS.MAPS.BDUNI.J1&TILEMATRIX={z}&TILEROW={y}&TILECOL={x}"
      }
     },
     "9f6827f30e7349fe8dc81163449472b5": {
      "model_module": "jupyter-leaflet",
      "model_module_version": "^0.17.0",
      "model_name": "LeafletTileLayerModel",
      "state": {
       "_model_module_version": "^0.17.0",
       "_view_module_version": "^0.17.0",
       "attribution": "Geoportail France",
       "name": "GeoportailFrance.Orthoimagery_Orthophotos_Ortho_asp_pac2021",
       "options": [
        "attribution",
        "bounds",
        "detect_retina",
        "max_native_zoom",
        "max_zoom",
        "min_native_zoom",
        "min_zoom",
        "no_wrap",
        "tile_size",
        "tms"
       ],
       "url": "https://wxs.ign.fr/orthohisto/geoportail/wmts?REQUEST=GetTile&SERVICE=WMTS&VERSION=1.0.0&STYLE=normal&TILEMATRIXSET=PM&FORMAT=image/jpeg&LAYER=ORTHOIMAGERY.ORTHOPHOTOS.ORTHO-ASP_PAC2021&TILEMATRIX={z}&TILEROW={y}&TILECOL={x}"
      }
     },
     "9f838ec3d18e43fbbc6c2327ac0519c5": {
      "model_module": "jupyter-leaflet",
      "model_module_version": "^0.17.0",
      "model_name": "LeafletTileLayerModel",
      "state": {
       "_model_module_version": "^0.17.0",
       "_view_module_version": "^0.17.0",
       "attribution": "(C) Stadia Maps, (C) OpenMapTiles (C) OpenStreetMap contributors",
       "max_zoom": 20,
       "name": "Stadia.AlidadeSmooth",
       "options": [
        "attribution",
        "bounds",
        "detect_retina",
        "max_native_zoom",
        "max_zoom",
        "min_native_zoom",
        "min_zoom",
        "no_wrap",
        "tile_size",
        "tms"
       ],
       "url": "https://tiles.stadiamaps.com/tiles/alidade_smooth/{z}/{x}/{y}.png"
      }
     },
     "9ff191ac9a1a4bc0bbfcd3091d8eb8f6": {
      "model_module": "@jupyter-widgets/controls",
      "model_module_version": "1.5.0",
      "model_name": "ButtonStyleModel",
      "state": {
       "button_color": "#ae3cf0"
      }
     },
     "a0de4eeedf3b4f23829744b98e26e30e": {
      "model_module": "@jupyter-widgets/controls",
      "model_module_version": "1.5.0",
      "model_name": "DescriptionStyleModel",
      "state": {
       "description_width": ""
      }
     },
     "a14a97ac67e940efa0e628f067a418f5": {
      "model_module": "jupyter-leaflet",
      "model_module_version": "^0.17.0",
      "model_name": "LeafletTileLayerModel",
      "state": {
       "_model_module_version": "^0.17.0",
       "_view_module_version": "^0.17.0",
       "attribution": "Geoportail France",
       "name": "GeoportailFrance.Orthoimagery_Orthophotos2007",
       "options": [
        "attribution",
        "bounds",
        "detect_retina",
        "max_native_zoom",
        "max_zoom",
        "min_native_zoom",
        "min_zoom",
        "no_wrap",
        "tile_size",
        "tms"
       ],
       "url": "https://wxs.ign.fr/orthohisto/geoportail/wmts?REQUEST=GetTile&SERVICE=WMTS&VERSION=1.0.0&STYLE=normal&TILEMATRIXSET=PM&FORMAT=image/jpeg&LAYER=ORTHOIMAGERY.ORTHOPHOTOS2007&TILEMATRIX={z}&TILEROW={y}&TILECOL={x}"
      }
     },
     "a27c75d994b04dbe9b4469ca873a3405": {
      "model_module": "jupyter-leaflet",
      "model_module_version": "^0.17.0",
      "model_name": "LeafletTileLayerModel",
      "state": {
       "_model_module_version": "^0.17.0",
       "_view_module_version": "^0.17.0",
       "attribution": "Geoportail France",
       "max_zoom": 16,
       "name": "GeoportailFrance.Landcover_Cha06_dom",
       "options": [
        "attribution",
        "bounds",
        "detect_retina",
        "max_native_zoom",
        "max_zoom",
        "min_native_zoom",
        "min_zoom",
        "no_wrap",
        "tile_size",
        "tms"
       ],
       "url": "https://wxs.ign.fr/clc/geoportail/wmts?REQUEST=GetTile&SERVICE=WMTS&VERSION=1.0.0&STYLE=CORINE Land Cover - DOM&TILEMATRIXSET=PM&FORMAT=image/png&LAYER=LANDCOVER.CHA06_DOM&TILEMATRIX={z}&TILEROW={y}&TILECOL={x}"
      }
     },
     "a281f2540c9f4366a270753288907516": {
      "model_module": "@jupyter-widgets/controls",
      "model_module_version": "1.5.0",
      "model_name": "IntSliderModel",
      "state": {
       "continuous_update": false,
       "description": "GPU(s):",
       "layout": "IPY_MODEL_eb7a1b67dc7c4031951555603f28a3c5",
       "max": 5,
       "style": "IPY_MODEL_4d38334037bb4b7eafd2a321934360c6"
      }
     },
     "a288be36e84b472bac7449e2336eb556": {
      "model_module": "jupyter-leaflet",
      "model_module_version": "^0.17.0",
      "model_name": "LeafletTileLayerModel",
      "state": {
       "_model_module_version": "^0.17.0",
       "_view_module_version": "^0.17.0",
       "attribution": "Geoportail France",
       "max_zoom": 16,
       "name": "GeoportailFrance.Protectedareas_Inpg",
       "options": [
        "attribution",
        "bounds",
        "detect_retina",
        "max_native_zoom",
        "max_zoom",
        "min_native_zoom",
        "min_zoom",
        "no_wrap",
        "tile_size",
        "tms"
       ],
       "url": "https://wxs.ign.fr/environnement/geoportail/wmts?REQUEST=GetTile&SERVICE=WMTS&VERSION=1.0.0&STYLE=normal&TILEMATRIXSET=PM&FORMAT=image/png&LAYER=PROTECTEDAREAS.INPG&TILEMATRIX={z}&TILEROW={y}&TILECOL={x}"
      }
     },
     "a2958cd18ee04aae8d87670d948cdc5d": {
      "model_module": "jupyter-leaflet",
      "model_module_version": "^0.17.0",
      "model_name": "LeafletTileLayerModel",
      "state": {
       "_model_module_version": "^0.17.0",
       "_view_module_version": "^0.17.0",
       "attribution": "Geoportail France",
       "max_zoom": 16,
       "name": "GeoportailFrance.Insee_Filosofi_Part_Logements_Construits_1945_1970_Secret",
       "options": [
        "attribution",
        "bounds",
        "detect_retina",
        "max_native_zoom",
        "max_zoom",
        "min_native_zoom",
        "min_zoom",
        "no_wrap",
        "tile_size",
        "tms"
       ],
       "url": "https://wxs.ign.fr/economie/geoportail/wmts?REQUEST=GetTile&SERVICE=WMTS&VERSION=1.0.0&STYLE=INSEE&TILEMATRIXSET=PM&FORMAT=image/png&LAYER=INSEE.FILOSOFI.PART.LOGEMENTS.CONSTRUITS.1945.1970.SECRET&TILEMATRIX={z}&TILEROW={y}&TILECOL={x}"
      }
     },
     "a3043a37335449dd854ee67d311eaf54": {
      "model_module": "jupyter-leaflet",
      "model_module_version": "^0.17.0",
      "model_name": "LeafletTileLayerModel",
      "state": {
       "_model_module_version": "^0.17.0",
       "_view_module_version": "^0.17.0",
       "attribution": "Geoportail France",
       "max_zoom": 19,
       "name": "GeoportailFrance.plan",
       "options": [
        "attribution",
        "bounds",
        "detect_retina",
        "max_native_zoom",
        "max_zoom",
        "min_native_zoom",
        "min_zoom",
        "no_wrap",
        "tile_size",
        "tms"
       ],
       "url": "https://wxs.ign.fr/essentiels/geoportail/wmts?REQUEST=GetTile&SERVICE=WMTS&VERSION=1.0.0&STYLE=normal&TILEMATRIXSET=PM&FORMAT=image/png&LAYER=GEOGRAPHICALGRIDSYSTEMS.PLANIGNV2&TILEMATRIX={z}&TILEROW={y}&TILECOL={x}"
      }
     },
     "a359d7a19b334a9489b3b0b4f572574d": {
      "model_module": "jupyter-leaflet",
      "model_module_version": "^0.17.0",
      "model_name": "LeafletTileLayerModel",
      "state": {
       "_model_module_version": "^0.17.0",
       "_view_module_version": "^0.17.0",
       "attribution": "Imagery provided by services from the Global Imagery Browse Services (GIBS), operated by the NASA/GSFC/Earth Science Data and Information System (ESDIS) with funding provided by NASA/HQ.",
       "max_zoom": 8,
       "name": "NASAGIBS.BlueMarble",
       "options": [
        "attribution",
        "bounds",
        "detect_retina",
        "max_native_zoom",
        "max_zoom",
        "min_native_zoom",
        "min_zoom",
        "no_wrap",
        "tile_size",
        "tms"
       ],
       "url": "https://gibs.earthdata.nasa.gov/wmts/epsg3857/best/BlueMarble_NextGeneration/default/EPSG3857_500m/{z}/{y}/{x}.jpeg"
      }
     },
     "a3ac761d343247dab8be80b615a0860c": {
      "model_module": "jupyter-leaflet",
      "model_module_version": "^0.17.0",
      "model_name": "LeafletTileLayerModel",
      "state": {
       "_model_module_version": "^0.17.0",
       "_view_module_version": "^0.17.0",
       "attribution": "Geoportail France",
       "max_zoom": 13,
       "name": "GeoportailFrance.Landcover_Grid_Clc00r_fr",
       "options": [
        "attribution",
        "bounds",
        "detect_retina",
        "max_native_zoom",
        "max_zoom",
        "min_native_zoom",
        "min_zoom",
        "no_wrap",
        "tile_size",
        "tms"
       ],
       "url": "https://wxs.ign.fr/clc/geoportail/wmts?REQUEST=GetTile&SERVICE=WMTS&VERSION=1.0.0&STYLE=CORINE Land Cover - France métropolitaine&TILEMATRIXSET=PM&FORMAT=image/png&LAYER=LANDCOVER.GRID.CLC00R_FR&TILEMATRIX={z}&TILEROW={y}&TILECOL={x}"
      }
     },
     "a4770b6ebea7492c83a436d906c37a34": {
      "model_module": "@jupyter-widgets/base",
      "model_module_version": "1.2.0",
      "model_name": "LayoutModel",
      "state": {}
     },
     "a4dfffe69f264fdea3bcbe43c49cc090": {
      "model_module": "jupyter-leaflet",
      "model_module_version": "^0.17.0",
      "model_name": "LeafletTileLayerModel",
      "state": {
       "_model_module_version": "^0.17.0",
       "_view_module_version": "^0.17.0",
       "attribution": "(C) Stadia Maps, (C) OpenMapTiles (C) OpenStreetMap contributors",
       "max_zoom": 20,
       "name": "Stadia.Outdoors",
       "options": [
        "attribution",
        "bounds",
        "detect_retina",
        "max_native_zoom",
        "max_zoom",
        "min_native_zoom",
        "min_zoom",
        "no_wrap",
        "tile_size",
        "tms"
       ],
       "url": "https://tiles.stadiamaps.com/tiles/outdoors/{z}/{x}/{y}.png"
      }
     },
     "a4e11a5477804d59851fab87fbd634e7": {
      "model_module": "jupyter-leaflet",
      "model_module_version": "^0.17.0",
      "model_name": "LeafletTileLayerModel",
      "state": {
       "_model_module_version": "^0.17.0",
       "_view_module_version": "^0.17.0",
       "attribution": "Geoportail France",
       "max_zoom": 16,
       "name": "GeoportailFrance.Elevationgridcoverage_Highres_Quality",
       "options": [
        "attribution",
        "bounds",
        "detect_retina",
        "max_native_zoom",
        "max_zoom",
        "min_native_zoom",
        "min_zoom",
        "no_wrap",
        "tile_size",
        "tms"
       ],
       "url": "https://wxs.ign.fr/altimetrie/geoportail/wmts?REQUEST=GetTile&SERVICE=WMTS&VERSION=1.0.0&STYLE=Graphe de source du RGE Alti&TILEMATRIXSET=PM&FORMAT=image/png&LAYER=ELEVATIONGRIDCOVERAGE.HIGHRES.QUALITY&TILEMATRIX={z}&TILEROW={y}&TILECOL={x}"
      }
     },
     "a5bd3e78c17c42e19ed8868c6d66f896": {
      "model_module": "jupyter-leaflet",
      "model_module_version": "^0.17.0",
      "model_name": "LeafletTileLayerModel",
      "state": {
       "_model_module_version": "^0.17.0",
       "_view_module_version": "^0.17.0",
       "attribution": "Geoportail France",
       "max_zoom": 16,
       "name": "GeoportailFrance.Landcover_Clc00_dom",
       "options": [
        "attribution",
        "bounds",
        "detect_retina",
        "max_native_zoom",
        "max_zoom",
        "min_native_zoom",
        "min_zoom",
        "no_wrap",
        "tile_size",
        "tms"
       ],
       "url": "https://wxs.ign.fr/clc/geoportail/wmts?REQUEST=GetTile&SERVICE=WMTS&VERSION=1.0.0&STYLE=CORINE Land Cover - DOM&TILEMATRIXSET=PM&FORMAT=image/png&LAYER=LANDCOVER.CLC00_DOM&TILEMATRIX={z}&TILEROW={y}&TILECOL={x}"
      }
     },
     "a6241bd36caa4183bd0ee2d344d9d2cb": {
      "model_module": "jupyter-leaflet",
      "model_module_version": "^0.17.0",
      "model_name": "LeafletTileLayerModel",
      "state": {
       "_model_module_version": "^0.17.0",
       "_view_module_version": "^0.17.0",
       "attribution": "Geoportail France",
       "max_zoom": 16,
       "name": "GeoportailFrance.Landcover_Clc12_dom",
       "options": [
        "attribution",
        "bounds",
        "detect_retina",
        "max_native_zoom",
        "max_zoom",
        "min_native_zoom",
        "min_zoom",
        "no_wrap",
        "tile_size",
        "tms"
       ],
       "url": "https://wxs.ign.fr/clc/geoportail/wmts?REQUEST=GetTile&SERVICE=WMTS&VERSION=1.0.0&STYLE=CORINE Land Cover - DOM&TILEMATRIXSET=PM&FORMAT=image/png&LAYER=LANDCOVER.CLC12_DOM&TILEMATRIX={z}&TILEROW={y}&TILECOL={x}"
      }
     },
     "a628083ce7e641d9b8ad1cbced996dfa": {
      "model_module": "jupyter-leaflet",
      "model_module_version": "^0.17.0",
      "model_name": "LeafletTileLayerModel",
      "state": {
       "_model_module_version": "^0.17.0",
       "_view_module_version": "^0.17.0",
       "attribution": "Geoportail France",
       "name": "GeoportailFrance.Orthoimagery_Orthophotos2019",
       "options": [
        "attribution",
        "bounds",
        "detect_retina",
        "max_native_zoom",
        "max_zoom",
        "min_native_zoom",
        "min_zoom",
        "no_wrap",
        "tile_size",
        "tms"
       ],
       "url": "https://wxs.ign.fr/orthohisto/geoportail/wmts?REQUEST=GetTile&SERVICE=WMTS&VERSION=1.0.0&STYLE=normal&TILEMATRIXSET=PM&FORMAT=image/jpeg&LAYER=ORTHOIMAGERY.ORTHOPHOTOS2019&TILEMATRIX={z}&TILEROW={y}&TILECOL={x}"
      }
     },
     "a6663f54373b4bf6b58dca2f75ac9d96": {
      "model_module": "jupyter-leaflet",
      "model_module_version": "^0.17.0",
      "model_name": "LeafletTileLayerModel",
      "state": {
       "_model_module_version": "^0.17.0",
       "_view_module_version": "^0.17.0",
       "attribution": "Geoportail France",
       "name": "GeoportailFrance.Orthoimagery_Orthophotos2005",
       "options": [
        "attribution",
        "bounds",
        "detect_retina",
        "max_native_zoom",
        "max_zoom",
        "min_native_zoom",
        "min_zoom",
        "no_wrap",
        "tile_size",
        "tms"
       ],
       "url": "https://wxs.ign.fr/orthohisto/geoportail/wmts?REQUEST=GetTile&SERVICE=WMTS&VERSION=1.0.0&STYLE=normal&TILEMATRIXSET=PM&FORMAT=image/jpeg&LAYER=ORTHOIMAGERY.ORTHOPHOTOS2005&TILEMATRIX={z}&TILEROW={y}&TILECOL={x}"
      }
     },
     "a6aef87484054e66a9055eb3ce8909b1": {
      "model_module": "jupyter-leaflet",
      "model_module_version": "^0.17.0",
      "model_name": "LeafletTileLayerModel",
      "state": {
       "_model_module_version": "^0.17.0",
       "_view_module_version": "^0.17.0",
       "attribution": "Geoportail France",
       "max_zoom": 16,
       "name": "GeoportailFrance.Landcover_Cha18_dom",
       "options": [
        "attribution",
        "bounds",
        "detect_retina",
        "max_native_zoom",
        "max_zoom",
        "min_native_zoom",
        "min_zoom",
        "no_wrap",
        "tile_size",
        "tms"
       ],
       "url": "https://wxs.ign.fr/clc/geoportail/wmts?REQUEST=GetTile&SERVICE=WMTS&VERSION=1.0.0&STYLE=CORINE Land Cover - DOM&TILEMATRIXSET=PM&FORMAT=image/png&LAYER=LANDCOVER.CHA18_DOM&TILEMATRIX={z}&TILEROW={y}&TILECOL={x}"
      }
     },
     "a8e82fb68e1f479bbeb11a2db02e44e7": {
      "model_module": "jupyter-leaflet",
      "model_module_version": "^0.17.0",
      "model_name": "LeafletTileLayerModel",
      "state": {
       "_model_module_version": "^0.17.0",
       "_view_module_version": "^0.17.0",
       "attribution": "Geoportail France",
       "max_zoom": 16,
       "name": "GeoportailFrance.Insee_Filosofi_Part_Menages_Proprietaires_Secret",
       "options": [
        "attribution",
        "bounds",
        "detect_retina",
        "max_native_zoom",
        "max_zoom",
        "min_native_zoom",
        "min_zoom",
        "no_wrap",
        "tile_size",
        "tms"
       ],
       "url": "https://wxs.ign.fr/economie/geoportail/wmts?REQUEST=GetTile&SERVICE=WMTS&VERSION=1.0.0&STYLE=INSEE&TILEMATRIXSET=PM&FORMAT=image/png&LAYER=INSEE.FILOSOFI.PART.MENAGES.PROPRIETAIRES.SECRET&TILEMATRIX={z}&TILEROW={y}&TILECOL={x}"
      }
     },
     "a9d403c2979f49bd84ce513de402a2de": {
      "model_module": "jupyter-leaflet",
      "model_module_version": "^0.17.0",
      "model_name": "LeafletTileLayerModel",
      "state": {
       "_model_module_version": "^0.17.0",
       "_view_module_version": "^0.17.0",
       "attribution": "Geoportail France",
       "name": "GeoportailFrance.Orthoimagery_Orthophotos_Coast2000",
       "options": [
        "attribution",
        "bounds",
        "detect_retina",
        "max_native_zoom",
        "max_zoom",
        "min_native_zoom",
        "min_zoom",
        "no_wrap",
        "tile_size",
        "tms"
       ],
       "url": "https://wxs.ign.fr/ortho/geoportail/wmts?REQUEST=GetTile&SERVICE=WMTS&VERSION=1.0.0&STYLE=normal&TILEMATRIXSET=PM&FORMAT=image/png&LAYER=ORTHOIMAGERY.ORTHOPHOTOS.COAST2000&TILEMATRIX={z}&TILEROW={y}&TILECOL={x}"
      }
     },
     "a9dcdf1e331341a89b75f954cbf5b817": {
      "model_module": "jupyter-leaflet",
      "model_module_version": "^0.17.0",
      "model_name": "LeafletTileLayerModel",
      "state": {
       "_model_module_version": "^0.17.0",
       "_view_module_version": "^0.17.0",
       "attribution": "Geoportail France",
       "max_zoom": 16,
       "name": "GeoportailFrance.Ocsge_Constructions",
       "options": [
        "attribution",
        "bounds",
        "detect_retina",
        "max_native_zoom",
        "max_zoom",
        "min_native_zoom",
        "min_zoom",
        "no_wrap",
        "tile_size",
        "tms"
       ],
       "url": "https://wxs.ign.fr/ocsge/geoportail/wmts?REQUEST=GetTile&SERVICE=WMTS&VERSION=1.0.0&STYLE=normal&TILEMATRIXSET=PM&FORMAT=image/png&LAYER=OCSGE.CONSTRUCTIONS&TILEMATRIX={z}&TILEROW={y}&TILECOL={x}"
      }
     },
     "aa4cae6c7f8b4563a47d76e40586a30e": {
      "model_module": "@jupyter-widgets/controls",
      "model_module_version": "1.5.0",
      "model_name": "ButtonStyleModel",
      "state": {
       "button_color": "#69add1"
      }
     },
     "aa8ca46205394567a4561eb6f94a11ed": {
      "model_module": "jupyter-leaflet",
      "model_module_version": "^0.17.0",
      "model_name": "LeafletTileLayerModel",
      "state": {
       "_model_module_version": "^0.17.0",
       "_view_module_version": "^0.17.0",
       "attribution": "Geoportail France",
       "max_zoom": 13,
       "name": "GeoportailFrance.Landcover_Hr_Dlt_Clc12",
       "options": [
        "attribution",
        "bounds",
        "detect_retina",
        "max_native_zoom",
        "max_zoom",
        "min_native_zoom",
        "min_zoom",
        "no_wrap",
        "tile_size",
        "tms"
       ],
       "url": "https://wxs.ign.fr/clc/geoportail/wmts?REQUEST=GetTile&SERVICE=WMTS&VERSION=1.0.0&STYLE=CORINE Land Cover - HR - type de forêts&TILEMATRIXSET=PM&FORMAT=image/png&LAYER=LANDCOVER.HR.DLT.CLC12&TILEMATRIX={z}&TILEROW={y}&TILECOL={x}"
      }
     },
     "aac94ba163d341ab99c0c99035d5e40d": {
      "model_module": "jupyter-leaflet",
      "model_module_version": "^0.17.0",
      "model_name": "LeafletTileLayerModel",
      "state": {
       "_model_module_version": "^0.17.0",
       "_view_module_version": "^0.17.0",
       "attribution": "Geoportail France",
       "max_zoom": 15,
       "name": "GeoportailFrance.Orthoimagery_Ortho_sat_Rapideye_2010",
       "options": [
        "attribution",
        "bounds",
        "detect_retina",
        "max_native_zoom",
        "max_zoom",
        "min_native_zoom",
        "min_zoom",
        "no_wrap",
        "tile_size",
        "tms"
       ],
       "url": "https://wxs.ign.fr/satellite/geoportail/wmts?REQUEST=GetTile&SERVICE=WMTS&VERSION=1.0.0&STYLE=normal&TILEMATRIXSET=PM&FORMAT=image/jpeg&LAYER=ORTHOIMAGERY.ORTHO-SAT.RAPIDEYE.2010&TILEMATRIX={z}&TILEROW={y}&TILECOL={x}"
      }
     },
     "aaf9bfce148a4d8bba0b6fb7bbc79eab": {
      "model_module": "jupyter-leaflet",
      "model_module_version": "^0.17.0",
      "model_name": "LeafletTileLayerModel",
      "state": {
       "_model_module_version": "^0.17.0",
       "_view_module_version": "^0.17.0",
       "attribution": "Geoportail France",
       "max_zoom": 19,
       "name": "GeoportailFrance.Orthoimagery_Orthophotos_Irc_express_2021",
       "options": [
        "attribution",
        "bounds",
        "detect_retina",
        "max_native_zoom",
        "max_zoom",
        "min_native_zoom",
        "min_zoom",
        "no_wrap",
        "tile_size",
        "tms"
       ],
       "url": "https://wxs.ign.fr/ortho/geoportail/wmts?REQUEST=GetTile&SERVICE=WMTS&VERSION=1.0.0&STYLE=normal&TILEMATRIXSET=PM&FORMAT=image/jpeg&LAYER=ORTHOIMAGERY.ORTHOPHOTOS.IRC-EXPRESS.2021&TILEMATRIX={z}&TILEROW={y}&TILECOL={x}"
      }
     },
     "ab7d772e7cc54593975c7e54de37abd9": {
      "model_module": "jupyter-leaflet",
      "model_module_version": "^0.17.0",
      "model_name": "LeafletTileLayerModel",
      "state": {
       "_model_module_version": "^0.17.0",
       "_view_module_version": "^0.17.0",
       "attribution": "Geoportail France",
       "max_zoom": 17,
       "name": "GeoportailFrance.Protectedareas_Prsf",
       "options": [
        "attribution",
        "bounds",
        "detect_retina",
        "max_native_zoom",
        "max_zoom",
        "min_native_zoom",
        "min_zoom",
        "no_wrap",
        "tile_size",
        "tms"
       ],
       "url": "https://wxs.ign.fr/environnement/geoportail/wmts?REQUEST=GetTile&SERVICE=WMTS&VERSION=1.0.0&STYLE=POINT RENCONTRE SECOURS FORET&TILEMATRIXSET=PM&FORMAT=image/png&LAYER=PROTECTEDAREAS.PRSF&TILEMATRIX={z}&TILEROW={y}&TILECOL={x}"
      }
     },
     "abf3c5e238b8470797e3f015172c2e09": {
      "model_module": "jupyter-leaflet",
      "model_module_version": "^0.17.0",
      "model_name": "LeafletTileLayerModel",
      "state": {
       "_model_module_version": "^0.17.0",
       "_view_module_version": "^0.17.0",
       "attribution": "Imagery provided by services from the Global Imagery Browse Services (GIBS), operated by the NASA/GSFC/Earth Science Data and Information System (ESDIS) with funding provided by NASA/HQ.",
       "max_zoom": 8,
       "name": "NASAGIBS.ViirsEarthAtNight2012",
       "options": [
        "attribution",
        "bounds",
        "detect_retina",
        "max_native_zoom",
        "max_zoom",
        "min_native_zoom",
        "min_zoom",
        "no_wrap",
        "tile_size",
        "tms"
       ],
       "url": "https://map1.vis.earthdata.nasa.gov/wmts-webmerc/VIIRS_CityLights_2012/default//GoogleMapsCompatible_Level8/{z}/{y}/{x}.jpg"
      }
     },
     "abfffdfeae6544bd88b460076d4353cb": {
      "model_module": "jupyter-leaflet",
      "model_module_version": "^0.17.0",
      "model_name": "LeafletTileLayerModel",
      "state": {
       "_model_module_version": "^0.17.0",
       "_view_module_version": "^0.17.0",
       "attribution": "(C) OpenStreetMap France | (C) OpenStreetMap contributors",
       "max_zoom": 20,
       "name": "OpenStreetMap.France",
       "options": [
        "attribution",
        "bounds",
        "detect_retina",
        "max_native_zoom",
        "max_zoom",
        "min_native_zoom",
        "min_zoom",
        "no_wrap",
        "tile_size",
        "tms"
       ],
       "url": "https://a.tile.openstreetmap.fr/osmfr/{z}/{x}/{y}.png"
      }
     },
     "ac6229fcfc8f4ceb8781a9e1b50a2cb3": {
      "model_module": "jupyter-leaflet",
      "model_module_version": "^0.17.0",
      "model_name": "LeafletTileLayerModel",
      "state": {
       "_model_module_version": "^0.17.0",
       "_view_module_version": "^0.17.0",
       "attribution": "Geoportail France",
       "max_zoom": 16,
       "name": "GeoportailFrance.Ocsge_Usage_2014",
       "options": [
        "attribution",
        "bounds",
        "detect_retina",
        "max_native_zoom",
        "max_zoom",
        "min_native_zoom",
        "min_zoom",
        "no_wrap",
        "tile_size",
        "tms"
       ],
       "url": "https://wxs.ign.fr/ocsge/geoportail/wmts?REQUEST=GetTile&SERVICE=WMTS&VERSION=1.0.0&STYLE=normal&TILEMATRIXSET=PM&FORMAT=image/png&LAYER=OCSGE.USAGE.2014&TILEMATRIX={z}&TILEROW={y}&TILECOL={x}"
      }
     },
     "acb9638337de47689bd58712982908ee": {
      "model_module": "jupyter-leaflet",
      "model_module_version": "^0.17.0",
      "model_name": "LeafletTileLayerModel",
      "state": {
       "_model_module_version": "^0.17.0",
       "_view_module_version": "^0.17.0",
       "attribution": "Geoportail France",
       "max_zoom": 16,
       "name": "GeoportailFrance.Landcover_Cha18",
       "options": [
        "attribution",
        "bounds",
        "detect_retina",
        "max_native_zoom",
        "max_zoom",
        "min_native_zoom",
        "min_zoom",
        "no_wrap",
        "tile_size",
        "tms"
       ],
       "url": "https://wxs.ign.fr/clc/geoportail/wmts?REQUEST=GetTile&SERVICE=WMTS&VERSION=1.0.0&STYLE=CORINE Land Cover&TILEMATRIXSET=PM&FORMAT=image/png&LAYER=LANDCOVER.CHA18&TILEMATRIX={z}&TILEROW={y}&TILECOL={x}"
      }
     },
     "ad35cf1fa7ad41d99fb13aa4b8d91eca": {
      "model_module": "jupyter-leaflet",
      "model_module_version": "^0.17.0",
      "model_name": "LeafletTileLayerModel",
      "state": {
       "_model_module_version": "^0.17.0",
       "_view_module_version": "^0.17.0",
       "attribution": "Geoportail France",
       "max_zoom": 19,
       "name": "GeoportailFrance.Orthoimagery_Orthophotos_Ortho_express_2019",
       "options": [
        "attribution",
        "bounds",
        "detect_retina",
        "max_native_zoom",
        "max_zoom",
        "min_native_zoom",
        "min_zoom",
        "no_wrap",
        "tile_size",
        "tms"
       ],
       "url": "https://wxs.ign.fr/orthohisto/geoportail/wmts?REQUEST=GetTile&SERVICE=WMTS&VERSION=1.0.0&STYLE=normal&TILEMATRIXSET=PM&FORMAT=image/jpeg&LAYER=ORTHOIMAGERY.ORTHOPHOTOS.ORTHO-EXPRESS.2019&TILEMATRIX={z}&TILEROW={y}&TILECOL={x}"
      }
     },
     "adc9556de0194d058773316bbd9815dd": {
      "model_module": "jupyter-leaflet",
      "model_module_version": "^0.17.0",
      "model_name": "LeafletTileLayerModel",
      "state": {
       "_model_module_version": "^0.17.0",
       "_view_module_version": "^0.17.0",
       "attribution": "Justice Map",
       "max_zoom": 22,
       "name": "JusticeMap.income",
       "options": [
        "attribution",
        "bounds",
        "detect_retina",
        "max_native_zoom",
        "max_zoom",
        "min_native_zoom",
        "min_zoom",
        "no_wrap",
        "tile_size",
        "tms"
       ],
       "url": "https://www.justicemap.org/tile/county/income/{z}/{x}/{y}.png"
      }
     },
     "adf6a1f7ad7c40d6b4c7155b4c58b86b": {
      "model_module": "jupyter-leaflet",
      "model_module_version": "^0.17.0",
      "model_name": "LeafletTileLayerModel",
      "state": {
       "_model_module_version": "^0.17.0",
       "_view_module_version": "^0.17.0",
       "attribution": "Geoportail France",
       "max_zoom": 16,
       "name": "GeoportailFrance.Protectedareas_Mnhn_Cdl_Perimeter",
       "options": [
        "attribution",
        "bounds",
        "detect_retina",
        "max_native_zoom",
        "max_zoom",
        "min_native_zoom",
        "min_zoom",
        "no_wrap",
        "tile_size",
        "tms"
       ],
       "url": "https://wxs.ign.fr/environnement/geoportail/wmts?REQUEST=GetTile&SERVICE=WMTS&VERSION=1.0.0&STYLE=normal&TILEMATRIXSET=PM&FORMAT=image/png&LAYER=PROTECTEDAREAS.MNHN.CDL.PERIMETER&TILEMATRIX={z}&TILEROW={y}&TILECOL={x}"
      }
     },
     "adf8c737459349aeb51a2fd3d8f1559f": {
      "model_module": "jupyter-leaflet",
      "model_module_version": "^0.17.0",
      "model_name": "LeafletTileLayerModel",
      "state": {
       "_model_module_version": "^0.17.0",
       "_view_module_version": "^0.17.0",
       "attribution": "Map data: (C) OpenStreetMap contributors | Map style: (C) waymarkedtrails.org (CC-BY-SA)",
       "name": "WaymarkedTrails.skating",
       "options": [
        "attribution",
        "bounds",
        "detect_retina",
        "max_native_zoom",
        "max_zoom",
        "min_native_zoom",
        "min_zoom",
        "no_wrap",
        "tile_size",
        "tms"
       ],
       "url": "https://tile.waymarkedtrails.org/skating/{z}/{x}/{y}.png"
      }
     },
     "ae874335104a4bea8a1e528ea76ec2f3": {
      "model_module": "jupyter-leaflet",
      "model_module_version": "^0.17.0",
      "model_name": "LeafletTileLayerModel",
      "state": {
       "_model_module_version": "^0.17.0",
       "_view_module_version": "^0.17.0",
       "attribution": "Geoportail France",
       "max_zoom": 12,
       "name": "GeoportailFrance.Landcover_Grid_Clc00_dom",
       "options": [
        "attribution",
        "bounds",
        "detect_retina",
        "max_native_zoom",
        "max_zoom",
        "min_native_zoom",
        "min_zoom",
        "no_wrap",
        "tile_size",
        "tms"
       ],
       "url": "https://wxs.ign.fr/clc/geoportail/wmts?REQUEST=GetTile&SERVICE=WMTS&VERSION=1.0.0&STYLE=CORINE Land Cover - DOM&TILEMATRIXSET=PM&FORMAT=image/png&LAYER=LANDCOVER.GRID.CLC00_DOM&TILEMATRIX={z}&TILEROW={y}&TILECOL={x}"
      }
     },
     "afaa1dbc0967479081b960ffec2764e3": {
      "model_module": "jupyter-leaflet",
      "model_module_version": "^0.17.0",
      "model_name": "LeafletTileLayerModel",
      "state": {
       "_model_module_version": "^0.17.0",
       "_view_module_version": "^0.17.0",
       "attribution": "Geoportail France",
       "name": "GeoportailFrance.Geographicalnames_Names",
       "options": [
        "attribution",
        "bounds",
        "detect_retina",
        "max_native_zoom",
        "max_zoom",
        "min_native_zoom",
        "min_zoom",
        "no_wrap",
        "tile_size",
        "tms"
       ],
       "url": "https://wxs.ign.fr/topographie/geoportail/wmts?REQUEST=GetTile&SERVICE=WMTS&VERSION=1.0.0&STYLE=normal&TILEMATRIXSET=PM&FORMAT=image/png&LAYER=GEOGRAPHICALNAMES.NAMES&TILEMATRIX={z}&TILEROW={y}&TILECOL={x}"
      }
     },
     "aff2127e3e4443788e0291419e7754f3": {
      "model_module": "jupyter-leaflet",
      "model_module_version": "^0.17.0",
      "model_name": "LeafletTileLayerModel",
      "state": {
       "_model_module_version": "^0.17.0",
       "_view_module_version": "^0.17.0",
       "attribution": "Geoportail France",
       "max_zoom": 19,
       "name": "GeoportailFrance.Orthoimagery_Orthophotos_Irc_2014",
       "options": [
        "attribution",
        "bounds",
        "detect_retina",
        "max_native_zoom",
        "max_zoom",
        "min_native_zoom",
        "min_zoom",
        "no_wrap",
        "tile_size",
        "tms"
       ],
       "url": "https://wxs.ign.fr/orthohisto/geoportail/wmts?REQUEST=GetTile&SERVICE=WMTS&VERSION=1.0.0&STYLE=normal&TILEMATRIXSET=PM&FORMAT=image/jpeg&LAYER=ORTHOIMAGERY.ORTHOPHOTOS.IRC.2014&TILEMATRIX={z}&TILEROW={y}&TILECOL={x}"
      }
     },
     "b040253806db4537a612025e7a1d61b0": {
      "model_module": "jupyter-leaflet",
      "model_module_version": "^0.17.0",
      "model_name": "LeafletTileLayerModel",
      "state": {
       "_model_module_version": "^0.17.0",
       "_view_module_version": "^0.17.0",
       "attribution": "(C) OpenStreetMap contributors (C) CARTO",
       "max_zoom": 20,
       "name": "CartoDB.Voyager",
       "options": [
        "attribution",
        "bounds",
        "detect_retina",
        "max_native_zoom",
        "max_zoom",
        "min_native_zoom",
        "min_zoom",
        "no_wrap",
        "tile_size",
        "tms"
       ],
       "url": "https://a.basemaps.cartocdn.com/rastertiles/voyager/{z}/{x}/{y}.png"
      }
     },
     "b1c4ddd9ef9a49699a0cb568afd53e41": {
      "model_module": "jupyter-leaflet",
      "model_module_version": "^0.17.0",
      "model_name": "LeafletWMSLayerModel",
      "state": {
       "_model_module_version": "^0.17.0",
       "_view_module_version": "^0.17.0",
       "attribution": "MRLC",
       "crs": {
        "custom": false,
        "name": "EPSG3857"
       },
       "format": "image/png",
       "layers": "NLCD_2001_Land_Cover_L48",
       "name": "NLCD 2001 CONUS Land Cover",
       "options": [
        "attribution",
        "bounds",
        "detect_retina",
        "format",
        "layers",
        "max_native_zoom",
        "max_zoom",
        "min_native_zoom",
        "min_zoom",
        "no_wrap",
        "styles",
        "tile_size",
        "tms",
        "transparent",
        "uppercase"
       ],
       "transparent": true,
       "url": "https://www.mrlc.gov/geoserver/mrlc_display/NLCD_2001_Land_Cover_L48/wms?"
      }
     },
     "b288d2dc48bd4ef086618cba6cd6fcf1": {
      "model_module": "jupyter-leaflet",
      "model_module_version": "^0.17.0",
      "model_name": "LeafletTileLayerModel",
      "state": {
       "_model_module_version": "^0.17.0",
       "_view_module_version": "^0.17.0",
       "attribution": "National Library of Scotland Historic Maps",
       "name": "NLS",
       "options": [
        "attribution",
        "bounds",
        "detect_retina",
        "max_native_zoom",
        "max_zoom",
        "min_native_zoom",
        "min_zoom",
        "no_wrap",
        "tile_size",
        "tms"
       ],
       "url": "https://nls-0.tileserver.com/nls/{z}/{x}/{y}.jpg"
      }
     },
     "b28e8561172443d89cde9250da5a275b": {
      "model_module": "jupyter-leaflet",
      "model_module_version": "^0.17.0",
      "model_name": "LeafletTileLayerModel",
      "state": {
       "_model_module_version": "^0.17.0",
       "_view_module_version": "^0.17.0",
       "attribution": "Imagery provided by services from the Global Imagery Browse Services (GIBS), operated by the NASA/GSFC/Earth Science Data and Information System (ESDIS) with funding provided by NASA/HQ.",
       "max_zoom": 9,
       "name": "NASAGIBS.ModisTerraBands367CR",
       "options": [
        "attribution",
        "bounds",
        "detect_retina",
        "max_native_zoom",
        "max_zoom",
        "min_native_zoom",
        "min_zoom",
        "no_wrap",
        "tile_size",
        "tms"
       ],
       "url": "https://map1.vis.earthdata.nasa.gov/wmts-webmerc/MODIS_Terra_CorrectedReflectance_Bands367/default//GoogleMapsCompatible_Level9/{z}/{y}/{x}.jpg"
      }
     },
     "b30e96e5593e4f7490d412a3db9a4866": {
      "model_module": "jupyter-leaflet",
      "model_module_version": "^0.17.0",
      "model_name": "LeafletTileLayerModel",
      "state": {
       "_model_module_version": "^0.17.0",
       "_view_module_version": "^0.17.0",
       "attribution": "Geoportail France",
       "max_zoom": 12,
       "name": "GeoportailFrance.Landcover_Grid_Clc06r_dom",
       "options": [
        "attribution",
        "bounds",
        "detect_retina",
        "max_native_zoom",
        "max_zoom",
        "min_native_zoom",
        "min_zoom",
        "no_wrap",
        "tile_size",
        "tms"
       ],
       "url": "https://wxs.ign.fr/clc/geoportail/wmts?REQUEST=GetTile&SERVICE=WMTS&VERSION=1.0.0&STYLE=CORINE Land Cover - DOM&TILEMATRIXSET=PM&FORMAT=image/png&LAYER=LANDCOVER.GRID.CLC06R_DOM&TILEMATRIX={z}&TILEROW={y}&TILECOL={x}"
      }
     },
     "b3ded6585cde47aaac4c6034446c3f7c": {
      "model_module": "jupyter-leaflet",
      "model_module_version": "^0.17.0",
      "model_name": "LeafletTileLayerModel",
      "state": {
       "_model_module_version": "^0.17.0",
       "_view_module_version": "^0.17.0",
       "attribution": "Geoportail France",
       "max_zoom": 16,
       "name": "GeoportailFrance.Protectedareas_Ripn",
       "options": [
        "attribution",
        "bounds",
        "detect_retina",
        "max_native_zoom",
        "max_zoom",
        "min_native_zoom",
        "min_zoom",
        "no_wrap",
        "tile_size",
        "tms"
       ],
       "url": "https://wxs.ign.fr/environnement/geoportail/wmts?REQUEST=GetTile&SERVICE=WMTS&VERSION=1.0.0&STYLE=normal&TILEMATRIXSET=PM&FORMAT=image/png&LAYER=PROTECTEDAREAS.RIPN&TILEMATRIX={z}&TILEROW={y}&TILECOL={x}"
      }
     },
     "b43138ab52274044a99a8ac8fdb58387": {
      "model_module": "jupyter-leaflet",
      "model_module_version": "^0.17.0",
      "model_name": "LeafletTileLayerModel",
      "state": {
       "_model_module_version": "^0.17.0",
       "_view_module_version": "^0.17.0",
       "attribution": "Map tiles by Stamen Design, CC BY 3.0 -- Map data (C) OpenStreetMap contributors",
       "name": "Stamen.Terrain",
       "options": [
        "attribution",
        "bounds",
        "detect_retina",
        "max_native_zoom",
        "max_zoom",
        "min_native_zoom",
        "min_zoom",
        "no_wrap",
        "tile_size",
        "tms"
       ],
       "url": "https://stamen-tiles-a.a.ssl.fastly.net/terrain/{z}/{x}/{y}.png"
      }
     },
     "b58ecf9ac8b94b23bb2acd4c6c7ec935": {
      "model_module": "jupyter-leaflet",
      "model_module_version": "^0.17.0",
      "model_name": "LeafletTileLayerModel",
      "state": {
       "_model_module_version": "^0.17.0",
       "_view_module_version": "^0.17.0",
       "attribution": "Tiles (C) Esri -- Source: Esri",
       "max_zoom": 13,
       "name": "Esri.WorldShadedRelief",
       "options": [
        "attribution",
        "bounds",
        "detect_retina",
        "max_native_zoom",
        "max_zoom",
        "min_native_zoom",
        "min_zoom",
        "no_wrap",
        "tile_size",
        "tms"
       ],
       "url": "https://server.arcgisonline.com/ArcGIS/rest/services/World_Shaded_Relief/MapServer/tile/{z}/{y}/{x}"
      }
     },
     "b59ff6eb205244efb453951a54d0f882": {
      "model_module": "jupyter-leaflet",
      "model_module_version": "^0.17.0",
      "model_name": "LeafletTileLayerModel",
      "state": {
       "_model_module_version": "^0.17.0",
       "_view_module_version": "^0.17.0",
       "attribution": "Geoportail France",
       "max_zoom": 16,
       "name": "GeoportailFrance.Insee_Filosofi_Part_Individus_55_64_Ans_Secret",
       "options": [
        "attribution",
        "bounds",
        "detect_retina",
        "max_native_zoom",
        "max_zoom",
        "min_native_zoom",
        "min_zoom",
        "no_wrap",
        "tile_size",
        "tms"
       ],
       "url": "https://wxs.ign.fr/economie/geoportail/wmts?REQUEST=GetTile&SERVICE=WMTS&VERSION=1.0.0&STYLE=INSEE&TILEMATRIXSET=PM&FORMAT=image/png&LAYER=INSEE.FILOSOFI.PART.INDIVIDUS.55.64.ANS.SECRET&TILEMATRIX={z}&TILEROW={y}&TILECOL={x}"
      }
     },
     "b672d481240249c9981c73c96589e11a": {
      "model_module": "jupyter-leaflet",
      "model_module_version": "^0.17.0",
      "model_name": "LeafletTileLayerModel",
      "state": {
       "_model_module_version": "^0.17.0",
       "_view_module_version": "^0.17.0",
       "attribution": "(C) OpenStreetMap contributors (C) CARTO",
       "max_zoom": 20,
       "name": "CartoDB.Positron",
       "options": [
        "attribution",
        "bounds",
        "detect_retina",
        "max_native_zoom",
        "max_zoom",
        "min_native_zoom",
        "min_zoom",
        "no_wrap",
        "tile_size",
        "tms"
       ],
       "url": "https://a.basemaps.cartocdn.com/light_all/{z}/{x}/{y}.png"
      }
     },
     "b76c947a3f7d411698e36c9f4feab00b": {
      "model_module": "jupyter-leaflet",
      "model_module_version": "^0.17.0",
      "model_name": "LeafletTileLayerModel",
      "state": {
       "_model_module_version": "^0.17.0",
       "_view_module_version": "^0.17.0",
       "attribution": "Geoportail France",
       "max_zoom": 16,
       "name": "GeoportailFrance.Ocsge_Constructions_2016",
       "options": [
        "attribution",
        "bounds",
        "detect_retina",
        "max_native_zoom",
        "max_zoom",
        "min_native_zoom",
        "min_zoom",
        "no_wrap",
        "tile_size",
        "tms"
       ],
       "url": "https://wxs.ign.fr/ocsge/geoportail/wmts?REQUEST=GetTile&SERVICE=WMTS&VERSION=1.0.0&STYLE=nolegend&TILEMATRIXSET=PM&FORMAT=image/png&LAYER=OCSGE.CONSTRUCTIONS.2016&TILEMATRIX={z}&TILEROW={y}&TILECOL={x}"
      }
     },
     "b77ecbdf591948b2943312b41ea60b14": {
      "model_module": "@jupyter-widgets/controls",
      "model_module_version": "1.5.0",
      "model_name": "VBoxModel",
      "state": {
       "children": [
        "IPY_MODEL_9ad2deb2cbfb43e89944e11f238b2af7",
        "IPY_MODEL_d71d5541069e4541ac0d268d0d43793b",
        "IPY_MODEL_10f17ed8be4d40d0b586534fe69665ab",
        "IPY_MODEL_8a475bbffd684c86b9716393151de170",
        "IPY_MODEL_75daeb761db9471195139f98b0121f87"
       ],
       "layout": "IPY_MODEL_77fb00ca625347f0b9ed0215de2b837e"
      }
     },
     "b835e975f48145a9a305fc99211f9167": {
      "model_module": "jupyter-leaflet",
      "model_module_version": "^0.17.0",
      "model_name": "LeafletTileLayerModel",
      "state": {
       "_model_module_version": "^0.17.0",
       "_view_module_version": "^0.17.0",
       "attribution": "Geoportail France",
       "name": "GeoportailFrance.Orthoimagery_Orthophotos_Bdortho",
       "options": [
        "attribution",
        "bounds",
        "detect_retina",
        "max_native_zoom",
        "max_zoom",
        "min_native_zoom",
        "min_zoom",
        "no_wrap",
        "tile_size",
        "tms"
       ],
       "url": "https://wxs.ign.fr/ortho/geoportail/wmts?REQUEST=GetTile&SERVICE=WMTS&VERSION=1.0.0&STYLE=normal&TILEMATRIXSET=PM&FORMAT=image/jpeg&LAYER=ORTHOIMAGERY.ORTHOPHOTOS.BDORTHO&TILEMATRIX={z}&TILEROW={y}&TILECOL={x}"
      }
     },
     "b9ee1cdef0e04c3b89589af4e1cfeefd": {
      "model_module": "jupyter-leaflet",
      "model_module_version": "^0.17.0",
      "model_name": "LeafletTileLayerModel",
      "state": {
       "_model_module_version": "^0.17.0",
       "_view_module_version": "^0.17.0",
       "attribution": "Tiles (C) Esri -- Sources: GEBCO, NOAA, CHS, OSU, UNH, CSUMB, National Geographic, DeLorme, NAVTEQ, and Esri",
       "max_zoom": 13,
       "name": "Esri.OceanBasemap",
       "options": [
        "attribution",
        "bounds",
        "detect_retina",
        "max_native_zoom",
        "max_zoom",
        "min_native_zoom",
        "min_zoom",
        "no_wrap",
        "tile_size",
        "tms"
       ],
       "url": "https://server.arcgisonline.com/ArcGIS/rest/services/Ocean_Basemap/MapServer/tile/{z}/{y}/{x}"
      }
     },
     "ba0c55e8499943f99baa605210b25202": {
      "model_module": "jupyter-leaflet",
      "model_module_version": "^0.17.0",
      "model_name": "LeafletTileLayerModel",
      "state": {
       "_model_module_version": "^0.17.0",
       "_view_module_version": "^0.17.0",
       "attribution": "Geoportail France",
       "max_zoom": 16,
       "name": "GeoportailFrance.Ocsge_Couverture_2019",
       "options": [
        "attribution",
        "bounds",
        "detect_retina",
        "max_native_zoom",
        "max_zoom",
        "min_native_zoom",
        "min_zoom",
        "no_wrap",
        "tile_size",
        "tms"
       ],
       "url": "https://wxs.ign.fr/ocsge/geoportail/wmts?REQUEST=GetTile&SERVICE=WMTS&VERSION=1.0.0&STYLE=nolegend&TILEMATRIXSET=PM&FORMAT=image/png&LAYER=OCSGE.COUVERTURE.2019&TILEMATRIX={z}&TILEROW={y}&TILECOL={x}"
      }
     },
     "ba4095560751408eac69f17d98b6e3e6": {
      "model_module": "jupyter-leaflet",
      "model_module_version": "^0.17.0",
      "model_name": "LeafletTileLayerModel",
      "state": {
       "_model_module_version": "^0.17.0",
       "_view_module_version": "^0.17.0",
       "attribution": "© swisstopo",
       "max_zoom": 19,
       "name": "SwissFederalGeoportal.SWISSIMAGE",
       "options": [
        "attribution",
        "bounds",
        "detect_retina",
        "max_native_zoom",
        "max_zoom",
        "min_native_zoom",
        "min_zoom",
        "no_wrap",
        "tile_size",
        "tms"
       ],
       "url": "https://wmts.geo.admin.ch/1.0.0/ch.swisstopo.swissimage/default/current/3857/{z}/{x}/{y}.jpeg"
      }
     },
     "bad19658ff8a4515a11e21f8f95cc05f": {
      "model_module": "jupyter-leaflet",
      "model_module_version": "^0.17.0",
      "model_name": "LeafletTileLayerModel",
      "state": {
       "_model_module_version": "^0.17.0",
       "_view_module_version": "^0.17.0",
       "attribution": "Geoportail France",
       "name": "GeoportailFrance.Orthoimagery_Orthophotos2008",
       "options": [
        "attribution",
        "bounds",
        "detect_retina",
        "max_native_zoom",
        "max_zoom",
        "min_native_zoom",
        "min_zoom",
        "no_wrap",
        "tile_size",
        "tms"
       ],
       "url": "https://wxs.ign.fr/orthohisto/geoportail/wmts?REQUEST=GetTile&SERVICE=WMTS&VERSION=1.0.0&STYLE=normal&TILEMATRIXSET=PM&FORMAT=image/jpeg&LAYER=ORTHOIMAGERY.ORTHOPHOTOS2008&TILEMATRIX={z}&TILEROW={y}&TILECOL={x}"
      }
     },
     "bb1c93d7761b43d0a2001269c583343a": {
      "model_module": "jupyter-leaflet",
      "model_module_version": "^0.17.0",
      "model_name": "LeafletTileLayerModel",
      "state": {
       "_model_module_version": "^0.17.0",
       "_view_module_version": "^0.17.0",
       "attribution": "Earthstar Geographics",
       "max_zoom": 24,
       "name": "Esri.AntarcticImagery",
       "options": [
        "attribution",
        "bounds",
        "detect_retina",
        "max_native_zoom",
        "max_zoom",
        "min_native_zoom",
        "min_zoom",
        "no_wrap",
        "tile_size",
        "tms"
       ],
       "url": "http://server.arcgisonline.com/ArcGIS/rest/services/Polar/Antarctic_Imagery/MapServer/tile/{z}/{y}/{x}"
      }
     },
     "bb203e337bc1438181827891210c3e88": {
      "model_module": "jupyter-leaflet",
      "model_module_version": "^0.17.0",
      "model_name": "LeafletTileLayerModel",
      "state": {
       "_model_module_version": "^0.17.0",
       "_view_module_version": "^0.17.0",
       "attribution": "Geoportail France",
       "max_zoom": 19,
       "name": "GeoportailFrance.Orthoimagery_Orthophotos_Irc_2013",
       "options": [
        "attribution",
        "bounds",
        "detect_retina",
        "max_native_zoom",
        "max_zoom",
        "min_native_zoom",
        "min_zoom",
        "no_wrap",
        "tile_size",
        "tms"
       ],
       "url": "https://wxs.ign.fr/orthohisto/geoportail/wmts?REQUEST=GetTile&SERVICE=WMTS&VERSION=1.0.0&STYLE=normal&TILEMATRIXSET=PM&FORMAT=image/jpeg&LAYER=ORTHOIMAGERY.ORTHOPHOTOS.IRC.2013&TILEMATRIX={z}&TILEROW={y}&TILECOL={x}"
      }
     },
     "bb296cb6896b493eafb60b9de0ad228c": {
      "model_module": "jupyter-leaflet",
      "model_module_version": "^0.17.0",
      "model_name": "LeafletTileLayerModel",
      "state": {
       "_model_module_version": "^0.17.0",
       "_view_module_version": "^0.17.0",
       "attribution": "Geoportail France",
       "max_zoom": 16,
       "name": "GeoportailFrance.Insee_Filosofi_Part_Individus_25_39_Ans_Secret",
       "options": [
        "attribution",
        "bounds",
        "detect_retina",
        "max_native_zoom",
        "max_zoom",
        "min_native_zoom",
        "min_zoom",
        "no_wrap",
        "tile_size",
        "tms"
       ],
       "url": "https://wxs.ign.fr/economie/geoportail/wmts?REQUEST=GetTile&SERVICE=WMTS&VERSION=1.0.0&STYLE=INSEE&TILEMATRIXSET=PM&FORMAT=image/png&LAYER=INSEE.FILOSOFI.PART.INDIVIDUS.25.39.ANS.SECRET&TILEMATRIX={z}&TILEROW={y}&TILECOL={x}"
      }
     },
     "bb8415b702d144a2b71b0daac782ac8a": {
      "model_module": "jupyter-leaflet",
      "model_module_version": "^0.17.0",
      "model_name": "LeafletTileLayerModel",
      "state": {
       "_model_module_version": "^0.17.0",
       "_view_module_version": "^0.17.0",
       "attribution": "Geoportail France",
       "max_zoom": 17,
       "name": "GeoportailFrance.Orthoimagery_Ortho_sat_Spot_2015",
       "options": [
        "attribution",
        "bounds",
        "detect_retina",
        "max_native_zoom",
        "max_zoom",
        "min_native_zoom",
        "min_zoom",
        "no_wrap",
        "tile_size",
        "tms"
       ],
       "url": "https://wxs.ign.fr/satellite/geoportail/wmts?REQUEST=GetTile&SERVICE=WMTS&VERSION=1.0.0&STYLE=normal&TILEMATRIXSET=PM&FORMAT=image/jpeg&LAYER=ORTHOIMAGERY.ORTHO-SAT.SPOT.2015&TILEMATRIX={z}&TILEROW={y}&TILECOL={x}"
      }
     },
     "bb9e2e5845f840b4a013d58d10800a2b": {
      "model_module": "jupyter-leaflet",
      "model_module_version": "^0.17.0",
      "model_name": "LeafletTileLayerModel",
      "state": {
       "_model_module_version": "^0.17.0",
       "_view_module_version": "^0.17.0",
       "attribution": "Geoportail France",
       "max_zoom": 16,
       "name": "GeoportailFrance.Insee_Filosofi_Part_Individus_40_54_Ans_Secret",
       "options": [
        "attribution",
        "bounds",
        "detect_retina",
        "max_native_zoom",
        "max_zoom",
        "min_native_zoom",
        "min_zoom",
        "no_wrap",
        "tile_size",
        "tms"
       ],
       "url": "https://wxs.ign.fr/economie/geoportail/wmts?REQUEST=GetTile&SERVICE=WMTS&VERSION=1.0.0&STYLE=INSEE&TILEMATRIXSET=PM&FORMAT=image/png&LAYER=INSEE.FILOSOFI.PART.INDIVIDUS.40.54.ANS.SECRET&TILEMATRIX={z}&TILEROW={y}&TILECOL={x}"
      }
     },
     "bd2d07c03d674996b052ab05e2c46d5e": {
      "model_module": "jupyter-leaflet",
      "model_module_version": "^0.17.0",
      "model_name": "LeafletTileLayerModel",
      "state": {
       "_model_module_version": "^0.17.0",
       "_view_module_version": "^0.17.0",
       "attribution": "Geoportail France",
       "max_zoom": 16,
       "name": "GeoportailFrance.Protectedareas_Ramsar",
       "options": [
        "attribution",
        "bounds",
        "detect_retina",
        "max_native_zoom",
        "max_zoom",
        "min_native_zoom",
        "min_zoom",
        "no_wrap",
        "tile_size",
        "tms"
       ],
       "url": "https://wxs.ign.fr/environnement/geoportail/wmts?REQUEST=GetTile&SERVICE=WMTS&VERSION=1.0.0&STYLE=normal&TILEMATRIXSET=PM&FORMAT=image/png&LAYER=PROTECTEDAREAS.RAMSAR&TILEMATRIX={z}&TILEROW={y}&TILECOL={x}"
      }
     },
     "be65e8350684496a841f2e946b212e2d": {
      "model_module": "jupyter-leaflet",
      "model_module_version": "^0.17.0",
      "model_name": "LeafletTileLayerModel",
      "state": {
       "_model_module_version": "^0.17.0",
       "_view_module_version": "^0.17.0",
       "attribution": "Geoportail France",
       "max_zoom": 17,
       "name": "GeoportailFrance.Orthoimagery_Ortho_sat_Spot_2017",
       "options": [
        "attribution",
        "bounds",
        "detect_retina",
        "max_native_zoom",
        "max_zoom",
        "min_native_zoom",
        "min_zoom",
        "no_wrap",
        "tile_size",
        "tms"
       ],
       "url": "https://wxs.ign.fr/satellite/geoportail/wmts?REQUEST=GetTile&SERVICE=WMTS&VERSION=1.0.0&STYLE=normal&TILEMATRIXSET=PM&FORMAT=image/jpeg&LAYER=ORTHOIMAGERY.ORTHO-SAT.SPOT.2017&TILEMATRIX={z}&TILEROW={y}&TILECOL={x}"
      }
     },
     "beb47aaa3a6940e8bad300b124db474d": {
      "model_module": "jupyter-leaflet",
      "model_module_version": "^0.17.0",
      "model_name": "LeafletTileLayerModel",
      "state": {
       "_model_module_version": "^0.17.0",
       "_view_module_version": "^0.17.0",
       "attribution": "Geoportail France",
       "max_zoom": 17,
       "name": "GeoportailFrance.Orthoimagery_Ortho_sat_Spot_2021",
       "options": [
        "attribution",
        "bounds",
        "detect_retina",
        "max_native_zoom",
        "max_zoom",
        "min_native_zoom",
        "min_zoom",
        "no_wrap",
        "tile_size",
        "tms"
       ],
       "url": "https://wxs.ign.fr/satellite/geoportail/wmts?REQUEST=GetTile&SERVICE=WMTS&VERSION=1.0.0&STYLE=normal&TILEMATRIXSET=PM&FORMAT=image/jpeg&LAYER=ORTHOIMAGERY.ORTHO-SAT.SPOT.2021&TILEMATRIX={z}&TILEROW={y}&TILECOL={x}"
      }
     },
     "bf01f19c2d1b46b3bcbd91b7136fdaa5": {
      "model_module": "jupyter-leaflet",
      "model_module_version": "^0.17.0",
      "model_name": "LeafletTileLayerModel",
      "state": {
       "_model_module_version": "^0.17.0",
       "_view_module_version": "^0.17.0",
       "attribution": "Geoportail France",
       "max_zoom": 16,
       "name": "GeoportailFrance.Protectedareas_Mnhn_Rn_Perimeter",
       "options": [
        "attribution",
        "bounds",
        "detect_retina",
        "max_native_zoom",
        "max_zoom",
        "min_native_zoom",
        "min_zoom",
        "no_wrap",
        "tile_size",
        "tms"
       ],
       "url": "https://wxs.ign.fr/environnement/geoportail/wmts?REQUEST=GetTile&SERVICE=WMTS&VERSION=1.0.0&STYLE=normal&TILEMATRIXSET=PM&FORMAT=image/png&LAYER=PROTECTEDAREAS.MNHN.RN.PERIMETER&TILEMATRIX={z}&TILEROW={y}&TILECOL={x}"
      }
     },
     "bfd549f8507d42c9bebfcf660738075a": {
      "model_module": "jupyter-leaflet",
      "model_module_version": "^0.17.0",
      "model_name": "LeafletTileLayerModel",
      "state": {
       "_model_module_version": "^0.17.0",
       "_view_module_version": "^0.17.0",
       "attribution": "Geoportail France",
       "name": "GeoportailFrance.Hedge_Hedge",
       "options": [
        "attribution",
        "bounds",
        "detect_retina",
        "max_native_zoom",
        "max_zoom",
        "min_native_zoom",
        "min_zoom",
        "no_wrap",
        "tile_size",
        "tms"
       ],
       "url": "https://wxs.ign.fr/topographie/geoportail/wmts?REQUEST=GetTile&SERVICE=WMTS&VERSION=1.0.0&STYLE=normal&TILEMATRIXSET=PM&FORMAT=image/png&LAYER=hedge.hedge&TILEMATRIX={z}&TILEROW={y}&TILECOL={x}"
      }
     },
     "c02ac4c227db4fb386f716b9859b9fb0": {
      "model_module": "jupyter-leaflet",
      "model_module_version": "^0.17.0",
      "model_name": "LeafletTileLayerModel",
      "state": {
       "_model_module_version": "^0.17.0",
       "_view_module_version": "^0.17.0",
       "attribution": "Kaartgegevens (C) Kadaster",
       "max_zoom": 19,
       "name": "nlmaps.grijs",
       "options": [
        "attribution",
        "bounds",
        "detect_retina",
        "max_native_zoom",
        "max_zoom",
        "min_native_zoom",
        "min_zoom",
        "no_wrap",
        "tile_size",
        "tms"
       ],
       "url": "https://service.pdok.nl/brt/achtergrondkaart/wmts/v2_0/grijs/EPSG:3857/{z}/{x}/{y}.png"
      }
     },
     "c0615ca79ead4c56af529c9ed290be46": {
      "model_module": "jupyter-leaflet",
      "model_module_version": "^0.17.0",
      "model_name": "LeafletTileLayerModel",
      "state": {
       "_model_module_version": "^0.17.0",
       "_view_module_version": "^0.17.0",
       "attribution": "Geoportail France",
       "max_zoom": 16,
       "name": "GeoportailFrance.Landcover_Clc18_fr",
       "options": [
        "attribution",
        "bounds",
        "detect_retina",
        "max_native_zoom",
        "max_zoom",
        "min_native_zoom",
        "min_zoom",
        "no_wrap",
        "tile_size",
        "tms"
       ],
       "url": "https://wxs.ign.fr/clc/geoportail/wmts?REQUEST=GetTile&SERVICE=WMTS&VERSION=1.0.0&STYLE=CORINE Land Cover - France métropolitaine&TILEMATRIXSET=PM&FORMAT=image/png&LAYER=LANDCOVER.CLC18_FR&TILEMATRIX={z}&TILEROW={y}&TILECOL={x}"
      }
     },
     "c17ab15ad9ce463a82507be7c0582614": {
      "model_module": "jupyter-leaflet",
      "model_module_version": "^0.17.0",
      "model_name": "LeafletTileLayerModel",
      "state": {
       "_model_module_version": "^0.17.0",
       "_view_module_version": "^0.17.0",
       "attribution": "© swisstopo",
       "name": "SwissFederalGeoportal.JourneyThroughTime",
       "options": [
        "attribution",
        "bounds",
        "detect_retina",
        "max_native_zoom",
        "max_zoom",
        "min_native_zoom",
        "min_zoom",
        "no_wrap",
        "tile_size",
        "tms"
       ],
       "url": "https://wmts.geo.admin.ch/1.0.0/ch.swisstopo.zeitreihen/default/18641231/3857/{z}/{x}/{y}.png"
      }
     },
     "c1a15bf2850f49f0862b3c173b3f9bad": {
      "model_module": "jupyter-leaflet",
      "model_module_version": "^0.17.0",
      "model_name": "LeafletTileLayerModel",
      "state": {
       "_model_module_version": "^0.17.0",
       "_view_module_version": "^0.17.0",
       "attribution": "Geoportail France",
       "max_zoom": 16,
       "name": "GeoportailFrance.Insee_Filosofi_Part_Logements_Construits_1970_1990_Secret",
       "options": [
        "attribution",
        "bounds",
        "detect_retina",
        "max_native_zoom",
        "max_zoom",
        "min_native_zoom",
        "min_zoom",
        "no_wrap",
        "tile_size",
        "tms"
       ],
       "url": "https://wxs.ign.fr/economie/geoportail/wmts?REQUEST=GetTile&SERVICE=WMTS&VERSION=1.0.0&STYLE=INSEE&TILEMATRIXSET=PM&FORMAT=image/png&LAYER=INSEE.FILOSOFI.PART.LOGEMENTS.CONSTRUITS.1970.1990.SECRET&TILEMATRIX={z}&TILEROW={y}&TILECOL={x}"
      }
     },
     "c1a7d95f444541a2be860ce4fb851fd1": {
      "model_module": "@jupyter-widgets/controls",
      "model_module_version": "1.5.0",
      "model_name": "DescriptionStyleModel",
      "state": {
       "description_width": ""
      }
     },
     "c1fcc6c927f24f1eb3e9c8f4c13e9a47": {
      "model_module": "@jupyter-widgets/base",
      "model_module_version": "1.2.0",
      "model_name": "LayoutModel",
      "state": {}
     },
     "c1ffa07b9f604df4b025dd7d128167e8": {
      "model_module": "jupyter-leaflet",
      "model_module_version": "^0.17.0",
      "model_name": "LeafletTileLayerModel",
      "state": {
       "_model_module_version": "^0.17.0",
       "_view_module_version": "^0.17.0",
       "attribution": "Tiles (C) Esri -- Source: Esri, DeLorme, NAVTEQ, USGS, Intermap, iPC, NRCAN, Esri Japan, METI, Esri China (Hong Kong), Esri (Thailand), TomTom, 2012",
       "max_zoom": 22,
       "name": "Esri.WorldStreetMap",
       "options": [
        "attribution",
        "bounds",
        "detect_retina",
        "max_native_zoom",
        "max_zoom",
        "min_native_zoom",
        "min_zoom",
        "no_wrap",
        "tile_size",
        "tms"
       ],
       "url": "https://server.arcgisonline.com/ArcGIS/rest/services/World_Street_Map/MapServer/tile/{z}/{y}/{x}"
      }
     },
     "c202bc7a83a54b8d999fab7ef76885eb": {
      "model_module": "jupyter-leaflet",
      "model_module_version": "^0.17.0",
      "model_name": "LeafletTileLayerModel",
      "state": {
       "_model_module_version": "^0.17.0",
       "_view_module_version": "^0.17.0",
       "attribution": "Geoportail France",
       "max_zoom": 17,
       "name": "GeoportailFrance.Securoute_Te_2te48",
       "options": [
        "attribution",
        "bounds",
        "detect_retina",
        "max_native_zoom",
        "max_zoom",
        "min_native_zoom",
        "min_zoom",
        "no_wrap",
        "tile_size",
        "tms"
       ],
       "url": "https://wxs.ign.fr/transports/geoportail/wmts?REQUEST=GetTile&SERVICE=WMTS&VERSION=1.0.0&STYLE=RESEAU ROUTIER 2TE48&TILEMATRIXSET=PM&FORMAT=image/png&LAYER=SECUROUTE.TE.2TE48&TILEMATRIX={z}&TILEROW={y}&TILECOL={x}"
      }
     },
     "c2390709a2944ee0abb479ea15f1119c": {
      "model_module": "jupyter-leaflet",
      "model_module_version": "^0.17.0",
      "model_name": "LeafletTileLayerModel",
      "state": {
       "_model_module_version": "^0.17.0",
       "_view_module_version": "^0.17.0",
       "attribution": "Geoportail France",
       "max_zoom": 16,
       "name": "GeoportailFrance.Protectedsites_Mnhn_Reserves_regionales",
       "options": [
        "attribution",
        "bounds",
        "detect_retina",
        "max_native_zoom",
        "max_zoom",
        "min_native_zoom",
        "min_zoom",
        "no_wrap",
        "tile_size",
        "tms"
       ],
       "url": "https://wxs.ign.fr/environnement/geoportail/wmts?REQUEST=GetTile&SERVICE=WMTS&VERSION=1.0.0&STYLE=normal&TILEMATRIXSET=PM&FORMAT=image/png&LAYER=PROTECTEDSITES.MNHN.RESERVES-REGIONALES&TILEMATRIX={z}&TILEROW={y}&TILECOL={x}"
      }
     },
     "c2622adfcbc2496d9f82d3657b0e12c2": {
      "model_module": "jupyter-leaflet",
      "model_module_version": "^0.17.0",
      "model_name": "LeafletTileLayerModel",
      "state": {
       "_model_module_version": "^0.17.0",
       "_view_module_version": "^0.17.0",
       "attribution": "(C) OpenStreetMap contributors",
       "max_zoom": 19,
       "name": "OpenStreetMap.Mapnik",
       "options": [
        "attribution",
        "bounds",
        "detect_retina",
        "max_native_zoom",
        "max_zoom",
        "min_native_zoom",
        "min_zoom",
        "no_wrap",
        "tile_size",
        "tms"
       ],
       "url": "https://tile.openstreetmap.org/{z}/{x}/{y}.png"
      }
     },
     "c293a5d0afb34295a0a3dcf5b4964c26": {
      "model_module": "jupyter-leaflet",
      "model_module_version": "^0.17.0",
      "model_name": "LeafletTileLayerModel",
      "state": {
       "_model_module_version": "^0.17.0",
       "_view_module_version": "^0.17.0",
       "attribution": "Geoportail France",
       "max_zoom": 13,
       "name": "GeoportailFrance.Landcover_Grid_Clc06",
       "options": [
        "attribution",
        "bounds",
        "detect_retina",
        "max_native_zoom",
        "max_zoom",
        "min_native_zoom",
        "min_zoom",
        "no_wrap",
        "tile_size",
        "tms"
       ],
       "url": "https://wxs.ign.fr/clc/geoportail/wmts?REQUEST=GetTile&SERVICE=WMTS&VERSION=1.0.0&STYLE=CORINE Land Cover&TILEMATRIXSET=PM&FORMAT=image/png&LAYER=LANDCOVER.GRID.CLC06&TILEMATRIX={z}&TILEROW={y}&TILECOL={x}"
      }
     },
     "c438e422784c480b9e8b545e8dba1489": {
      "model_module": "jupyter-leaflet",
      "model_module_version": "^0.17.0",
      "model_name": "LeafletTileLayerModel",
      "state": {
       "_model_module_version": "^0.17.0",
       "_view_module_version": "^0.17.0",
       "attribution": "Geoportail France",
       "max_zoom": 16,
       "name": "GeoportailFrance.Insee_Filosofi_Niveau_De_Vie_Secret",
       "options": [
        "attribution",
        "bounds",
        "detect_retina",
        "max_native_zoom",
        "max_zoom",
        "min_native_zoom",
        "min_zoom",
        "no_wrap",
        "tile_size",
        "tms"
       ],
       "url": "https://wxs.ign.fr/economie/geoportail/wmts?REQUEST=GetTile&SERVICE=WMTS&VERSION=1.0.0&STYLE=INSEE&TILEMATRIXSET=PM&FORMAT=image/png&LAYER=INSEE.FILOSOFI.NIVEAU.DE.VIE.SECRET&TILEMATRIX={z}&TILEROW={y}&TILECOL={x}"
      }
     },
     "c4413fda299e4204ba603334fd1ee369": {
      "model_module": "jupyter-leaflet",
      "model_module_version": "^0.17.0",
      "model_name": "LeafletWMSLayerModel",
      "state": {
       "_model_module_version": "^0.17.0",
       "_view_module_version": "^0.17.0",
       "attribution": "FWS",
       "crs": {
        "custom": false,
        "name": "EPSG3857"
       },
       "format": "image/png",
       "layers": "0",
       "name": "FWS NWI Wetlands Raster",
       "options": [
        "attribution",
        "bounds",
        "detect_retina",
        "format",
        "layers",
        "max_native_zoom",
        "max_zoom",
        "min_native_zoom",
        "min_zoom",
        "no_wrap",
        "styles",
        "tile_size",
        "tms",
        "transparent",
        "uppercase"
       ],
       "transparent": true,
       "url": "https://www.fws.gov/wetlands/arcgis/services/Wetlands_Raster/ImageServer/WMSServer?"
      }
     },
     "c4e2b9abd0ff49bc804d0c13456ae8d9": {
      "model_module": "@jupyter-widgets/base",
      "model_module_version": "1.2.0",
      "model_name": "LayoutModel",
      "state": {
       "margin": "0px 0px 0px 0px"
      }
     },
     "c55fa599742448aa89e683d6edcaf93e": {
      "model_module": "jupyter-leaflet",
      "model_module_version": "^0.17.0",
      "model_name": "LeafletTileLayerModel",
      "state": {
       "_model_module_version": "^0.17.0",
       "_view_module_version": "^0.17.0",
       "attribution": "Map tiles by <a href=\"https://labs.strava.com/heatmap\">Strava 2021</a>",
       "max_zoom": 15,
       "name": "Strava.Ride",
       "options": [
        "attribution",
        "bounds",
        "detect_retina",
        "max_native_zoom",
        "max_zoom",
        "min_native_zoom",
        "min_zoom",
        "no_wrap",
        "tile_size",
        "tms"
       ],
       "url": "https://heatmap-external-a.strava.com/tiles/ride/hot/{z}/{x}/{y}.png"
      }
     },
     "c8e1842d64ce4217a766771483a9d400": {
      "model_module": "jupyter-leaflet",
      "model_module_version": "^0.17.0",
      "model_name": "LeafletTileLayerModel",
      "state": {
       "_model_module_version": "^0.17.0",
       "_view_module_version": "^0.17.0",
       "attribution": "Geoportail France",
       "max_zoom": 17,
       "name": "GeoportailFrance.Orthoimagery_Ortho_sat_Spot_2020",
       "options": [
        "attribution",
        "bounds",
        "detect_retina",
        "max_native_zoom",
        "max_zoom",
        "min_native_zoom",
        "min_zoom",
        "no_wrap",
        "tile_size",
        "tms"
       ],
       "url": "https://wxs.ign.fr/satellite/geoportail/wmts?REQUEST=GetTile&SERVICE=WMTS&VERSION=1.0.0&STYLE=normal&TILEMATRIXSET=PM&FORMAT=image/jpeg&LAYER=ORTHOIMAGERY.ORTHO-SAT.SPOT.2020&TILEMATRIX={z}&TILEROW={y}&TILECOL={x}"
      }
     },
     "c9162bc0517648509e885fdd59027f23": {
      "model_module": "jupyter-leaflet",
      "model_module_version": "^0.17.0",
      "model_name": "LeafletTileLayerModel",
      "state": {
       "_model_module_version": "^0.17.0",
       "_view_module_version": "^0.17.0",
       "attribution": "Geoportail France",
       "max_zoom": 21,
       "name": "GeoportailFrance.Pcrs_Lamb93",
       "options": [
        "attribution",
        "bounds",
        "detect_retina",
        "max_native_zoom",
        "max_zoom",
        "min_native_zoom",
        "min_zoom",
        "no_wrap",
        "tile_size",
        "tms"
       ],
       "url": "https://wxs.ign.fr/ortho/geoportail/wmts?REQUEST=GetTile&SERVICE=WMTS&VERSION=1.0.0&STYLE=normal&TILEMATRIXSET=LAMB93_5cm&FORMAT=image/jpeg&LAYER=PCRS.LAMB93&TILEMATRIX={z}&TILEROW={y}&TILECOL={x}"
      }
     },
     "ca26d06df3c8486a95fc57ec1f017211": {
      "model_module": "jupyter-leaflet",
      "model_module_version": "^0.17.0",
      "model_name": "LeafletTileLayerModel",
      "state": {
       "_model_module_version": "^0.17.0",
       "_view_module_version": "^0.17.0",
       "attribution": "Map memomaps.de CC-BY-SA, map data (C) OpenStreetMap contributors",
       "name": "OPNVKarte",
       "options": [
        "attribution",
        "bounds",
        "detect_retina",
        "max_native_zoom",
        "max_zoom",
        "min_native_zoom",
        "min_zoom",
        "no_wrap",
        "tile_size",
        "tms"
       ],
       "url": "https://tileserver.memomaps.de/tilegen/{z}/{x}/{y}.png"
      }
     },
     "cb59190056ec4019b43a6d2bccce45ff": {
      "model_module": "@jupyter-widgets/controls",
      "model_module_version": "1.5.0",
      "model_name": "ButtonModel",
      "state": {
       "description": "Select Images",
       "icon": "file-image-o",
       "layout": "IPY_MODEL_a4770b6ebea7492c83a436d906c37a34",
       "style": "IPY_MODEL_d4b14fc2cd8e43d28d72a8d1d53cd496"
      }
     },
     "cbc108995a614b9ca0669724befff1f7": {
      "model_module": "jupyter-leaflet",
      "model_module_version": "^0.17.0",
      "model_name": "LeafletTileLayerModel",
      "state": {
       "_model_module_version": "^0.17.0",
       "_view_module_version": "^0.17.0",
       "attribution": "Geoportail France",
       "max_zoom": 16,
       "name": "GeoportailFrance.Insee_Filosofi_Part_Menages_Maison_Secret",
       "options": [
        "attribution",
        "bounds",
        "detect_retina",
        "max_native_zoom",
        "max_zoom",
        "min_native_zoom",
        "min_zoom",
        "no_wrap",
        "tile_size",
        "tms"
       ],
       "url": "https://wxs.ign.fr/economie/geoportail/wmts?REQUEST=GetTile&SERVICE=WMTS&VERSION=1.0.0&STYLE=INSEE&TILEMATRIXSET=PM&FORMAT=image/png&LAYER=INSEE.FILOSOFI.PART.MENAGES.MAISON.SECRET&TILEMATRIX={z}&TILEROW={y}&TILECOL={x}"
      }
     },
     "ccf4fe7e739a4c138fabcc6c635f20f5": {
      "model_module": "jupyter-leaflet",
      "model_module_version": "^0.17.0",
      "model_name": "LeafletTileLayerModel",
      "state": {
       "_model_module_version": "^0.17.0",
       "_view_module_version": "^0.17.0",
       "attribution": "Geoportail France",
       "max_zoom": 16,
       "name": "GeoportailFrance.Ocsge_Couverture",
       "options": [
        "attribution",
        "bounds",
        "detect_retina",
        "max_native_zoom",
        "max_zoom",
        "min_native_zoom",
        "min_zoom",
        "no_wrap",
        "tile_size",
        "tms"
       ],
       "url": "https://wxs.ign.fr/ocsge/geoportail/wmts?REQUEST=GetTile&SERVICE=WMTS&VERSION=1.0.0&STYLE=normal&TILEMATRIXSET=PM&FORMAT=image/png&LAYER=OCSGE.COUVERTURE&TILEMATRIX={z}&TILEROW={y}&TILECOL={x}"
      }
     },
     "cd2a98f9c036468b875ab0cafd1dc67e": {
      "model_module": "jupyter-leaflet",
      "model_module_version": "^0.17.0",
      "model_name": "LeafletTileLayerModel",
      "state": {
       "_model_module_version": "^0.17.0",
       "_view_module_version": "^0.17.0",
       "attribution": "Geoportail France",
       "max_zoom": 16,
       "name": "GeoportailFrance.Landcover_Cha00_fr",
       "options": [
        "attribution",
        "bounds",
        "detect_retina",
        "max_native_zoom",
        "max_zoom",
        "min_native_zoom",
        "min_zoom",
        "no_wrap",
        "tile_size",
        "tms"
       ],
       "url": "https://wxs.ign.fr/clc/geoportail/wmts?REQUEST=GetTile&SERVICE=WMTS&VERSION=1.0.0&STYLE=CORINE Land Cover - France métropolitaine&TILEMATRIXSET=PM&FORMAT=image/png&LAYER=LANDCOVER.CHA00_FR&TILEMATRIX={z}&TILEROW={y}&TILECOL={x}"
      }
     },
     "cd2c43d01b05466591c6ea801bfcacbd": {
      "model_module": "jupyter-leaflet",
      "model_module_version": "^0.17.0",
      "model_name": "LeafletTileLayerModel",
      "state": {
       "_model_module_version": "^0.17.0",
       "_view_module_version": "^0.17.0",
       "attribution": "Geoportail France",
       "max_zoom": 16,
       "name": "GeoportailFrance.Landcover_Clc06r_dom",
       "options": [
        "attribution",
        "bounds",
        "detect_retina",
        "max_native_zoom",
        "max_zoom",
        "min_native_zoom",
        "min_zoom",
        "no_wrap",
        "tile_size",
        "tms"
       ],
       "url": "https://wxs.ign.fr/clc/geoportail/wmts?REQUEST=GetTile&SERVICE=WMTS&VERSION=1.0.0&STYLE=CORINE Land Cover - DOM&TILEMATRIXSET=PM&FORMAT=image/png&LAYER=LANDCOVER.CLC06R_DOM&TILEMATRIX={z}&TILEROW={y}&TILECOL={x}"
      }
     },
     "cd32420225a84320803c669e7199dd8a": {
      "model_module": "jupyter-leaflet",
      "model_module_version": "^0.17.0",
      "model_name": "LeafletTileLayerModel",
      "state": {
       "_model_module_version": "^0.17.0",
       "_view_module_version": "^0.17.0",
       "attribution": "Geoportail France",
       "max_zoom": 16,
       "name": "GeoportailFrance.Protectedareas_Znieff1_Sea",
       "options": [
        "attribution",
        "bounds",
        "detect_retina",
        "max_native_zoom",
        "max_zoom",
        "min_native_zoom",
        "min_zoom",
        "no_wrap",
        "tile_size",
        "tms"
       ],
       "url": "https://wxs.ign.fr/environnement/geoportail/wmts?REQUEST=GetTile&SERVICE=WMTS&VERSION=1.0.0&STYLE=normal&TILEMATRIXSET=PM&FORMAT=image/png&LAYER=PROTECTEDAREAS.ZNIEFF1.SEA&TILEMATRIX={z}&TILEROW={y}&TILECOL={x}"
      }
     },
     "cf4eb2ed45624410b93cd82db7fa8315": {
      "model_module": "jupyter-leaflet",
      "model_module_version": "^0.17.0",
      "model_name": "LeafletTileLayerModel",
      "state": {
       "_model_module_version": "^0.17.0",
       "_view_module_version": "^0.17.0",
       "attribution": "Geoportail France",
       "name": "GeoportailFrance.Orthoimagery_Orthophotos2010",
       "options": [
        "attribution",
        "bounds",
        "detect_retina",
        "max_native_zoom",
        "max_zoom",
        "min_native_zoom",
        "min_zoom",
        "no_wrap",
        "tile_size",
        "tms"
       ],
       "url": "https://wxs.ign.fr/orthohisto/geoportail/wmts?REQUEST=GetTile&SERVICE=WMTS&VERSION=1.0.0&STYLE=normal&TILEMATRIXSET=PM&FORMAT=image/jpeg&LAYER=ORTHOIMAGERY.ORTHOPHOTOS2010&TILEMATRIX={z}&TILEROW={y}&TILECOL={x}"
      }
     },
     "cfbee2cc707a4010abdce814a7eafa58": {
      "model_module": "jupyter-leaflet",
      "model_module_version": "^0.17.0",
      "model_name": "LeafletTileLayerModel",
      "state": {
       "_model_module_version": "^0.17.0",
       "_view_module_version": "^0.17.0",
       "attribution": "openAIP Data (CC-BY-NC-SA)",
       "max_zoom": 14,
       "name": "OpenAIP",
       "options": [
        "attribution",
        "bounds",
        "detect_retina",
        "max_native_zoom",
        "max_zoom",
        "min_native_zoom",
        "min_zoom",
        "no_wrap",
        "tile_size",
        "tms"
       ],
       "url": "https://1.tile.maps.openaip.net/geowebcache/service/tms/1.0.0/openaip_basemap@EPSG%3A900913@png/{z}/{x}/{y}.png"
      }
     },
     "d0b3c76e7fc547aa800a871220d05896": {
      "model_module": "jupyter-leaflet",
      "model_module_version": "^0.17.0",
      "model_name": "LeafletTileLayerModel",
      "state": {
       "_model_module_version": "^0.17.0",
       "_view_module_version": "^0.17.0",
       "attribution": "Geoportail France",
       "name": "GeoportailFrance.Orthoimagery_Orthophotos_1980_1995",
       "options": [
        "attribution",
        "bounds",
        "detect_retina",
        "max_native_zoom",
        "max_zoom",
        "min_native_zoom",
        "min_zoom",
        "no_wrap",
        "tile_size",
        "tms"
       ],
       "url": "https://wxs.ign.fr/orthohisto/geoportail/wmts?REQUEST=GetTile&SERVICE=WMTS&VERSION=1.0.0&STYLE=normal&TILEMATRIXSET=PM&FORMAT=image/png&LAYER=ORTHOIMAGERY.ORTHOPHOTOS.1980-1995&TILEMATRIX={z}&TILEROW={y}&TILECOL={x}"
      }
     },
     "d1c38461606840ce976730db9ac64b62": {
      "model_module": "jupyter-leaflet",
      "model_module_version": "^0.17.0",
      "model_name": "LeafletTileLayerModel",
      "state": {
       "_model_module_version": "^0.17.0",
       "_view_module_version": "^0.17.0",
       "attribution": "Geoportail France",
       "max_zoom": 17,
       "name": "GeoportailFrance.Securoute_Te_Te120",
       "options": [
        "attribution",
        "bounds",
        "detect_retina",
        "max_native_zoom",
        "max_zoom",
        "min_native_zoom",
        "min_zoom",
        "no_wrap",
        "tile_size",
        "tms"
       ],
       "url": "https://wxs.ign.fr/transports/geoportail/wmts?REQUEST=GetTile&SERVICE=WMTS&VERSION=1.0.0&STYLE=RESEAU ROUTIER TE120&TILEMATRIXSET=PM&FORMAT=image/png&LAYER=SECUROUTE.TE.TE120&TILEMATRIX={z}&TILEROW={y}&TILECOL={x}"
      }
     },
     "d1dab61a8ece405f8b24faae9dd08ee3": {
      "model_module": "jupyter-leaflet",
      "model_module_version": "^0.17.0",
      "model_name": "LeafletTileLayerModel",
      "state": {
       "_model_module_version": "^0.17.0",
       "_view_module_version": "^0.17.0",
       "attribution": "Geoportail France",
       "max_zoom": 16,
       "name": "GeoportailFrance.Ocsge_Usage_2016",
       "options": [
        "attribution",
        "bounds",
        "detect_retina",
        "max_native_zoom",
        "max_zoom",
        "min_native_zoom",
        "min_zoom",
        "no_wrap",
        "tile_size",
        "tms"
       ],
       "url": "https://wxs.ign.fr/ocsge/geoportail/wmts?REQUEST=GetTile&SERVICE=WMTS&VERSION=1.0.0&STYLE=nolegend&TILEMATRIXSET=PM&FORMAT=image/png&LAYER=OCSGE.USAGE.2016&TILEMATRIX={z}&TILEROW={y}&TILECOL={x}"
      }
     },
     "d1efa301de67494ea987800adfe24c67": {
      "model_module": "@jupyter-widgets/controls",
      "model_module_version": "1.5.0",
      "model_name": "RadioButtonsModel",
      "state": {
       "_options_labels": [
        "ENSEMBLE",
        "BEST"
       ],
       "description": "Select:",
       "index": 0,
       "layout": "IPY_MODEL_02c00fff343b42a3ba23e786b822b090",
       "style": "IPY_MODEL_3637d73c29864500966d7b2d04f1f77b"
      }
     },
     "d288dbea649648cf92276a8380772d43": {
      "model_module": "jupyter-leaflet",
      "model_module_version": "^0.17.0",
      "model_name": "LeafletTileLayerModel",
      "state": {
       "_model_module_version": "^0.17.0",
       "_view_module_version": "^0.17.0",
       "attribution": "Geoportail France",
       "name": "GeoportailFrance.Orthoimagery_Orthophotos2012",
       "options": [
        "attribution",
        "bounds",
        "detect_retina",
        "max_native_zoom",
        "max_zoom",
        "min_native_zoom",
        "min_zoom",
        "no_wrap",
        "tile_size",
        "tms"
       ],
       "url": "https://wxs.ign.fr/orthohisto/geoportail/wmts?REQUEST=GetTile&SERVICE=WMTS&VERSION=1.0.0&STYLE=normal&TILEMATRIXSET=PM&FORMAT=image/jpeg&LAYER=ORTHOIMAGERY.ORTHOPHOTOS2012&TILEMATRIX={z}&TILEROW={y}&TILECOL={x}"
      }
     },
     "d37f94e6d92747a4a63554e47bbb306c": {
      "model_module": "jupyter-leaflet",
      "model_module_version": "^0.17.0",
      "model_name": "LeafletTileLayerModel",
      "state": {
       "_model_module_version": "^0.17.0",
       "_view_module_version": "^0.17.0",
       "attribution": "Geoportail France",
       "name": "GeoportailFrance.Orthoimagery_Orthophotos2017",
       "options": [
        "attribution",
        "bounds",
        "detect_retina",
        "max_native_zoom",
        "max_zoom",
        "min_native_zoom",
        "min_zoom",
        "no_wrap",
        "tile_size",
        "tms"
       ],
       "url": "https://wxs.ign.fr/orthohisto/geoportail/wmts?REQUEST=GetTile&SERVICE=WMTS&VERSION=1.0.0&STYLE=normal&TILEMATRIXSET=PM&FORMAT=image/jpeg&LAYER=ORTHOIMAGERY.ORTHOPHOTOS2017&TILEMATRIX={z}&TILEROW={y}&TILECOL={x}"
      }
     },
     "d3fab46825874b1090a4ecc8d0a8173a": {
      "model_module": "jupyter-leaflet",
      "model_module_version": "^0.17.0",
      "model_name": "LeafletTileLayerModel",
      "state": {
       "_model_module_version": "^0.17.0",
       "_view_module_version": "^0.17.0",
       "attribution": "Geoportail France",
       "max_zoom": 14,
       "name": "GeoportailFrance.Elevation_Slopes",
       "options": [
        "attribution",
        "bounds",
        "detect_retina",
        "max_native_zoom",
        "max_zoom",
        "min_native_zoom",
        "min_zoom",
        "no_wrap",
        "tile_size",
        "tms"
       ],
       "url": "https://wxs.ign.fr/altimetrie/geoportail/wmts?REQUEST=GetTile&SERVICE=WMTS&VERSION=1.0.0&STYLE=normal&TILEMATRIXSET=PM&FORMAT=image/jpeg&LAYER=ELEVATION.SLOPES&TILEMATRIX={z}&TILEROW={y}&TILECOL={x}"
      }
     },
     "d470f137331f408d94d9b99f84bc05d8": {
      "model_module": "jupyter-leaflet",
      "model_module_version": "^0.17.0",
      "model_name": "LeafletWMSLayerModel",
      "state": {
       "_model_module_version": "^0.17.0",
       "_view_module_version": "^0.17.0",
       "attribution": "MRLC",
       "crs": {
        "custom": false,
        "name": "EPSG3857"
       },
       "format": "image/png",
       "layers": "NLCD_2013_Land_Cover_L48",
       "name": "NLCD 2013 CONUS Land Cover",
       "options": [
        "attribution",
        "bounds",
        "detect_retina",
        "format",
        "layers",
        "max_native_zoom",
        "max_zoom",
        "min_native_zoom",
        "min_zoom",
        "no_wrap",
        "styles",
        "tile_size",
        "tms",
        "transparent",
        "uppercase"
       ],
       "transparent": true,
       "url": "https://www.mrlc.gov/geoserver/mrlc_display/NLCD_2013_Land_Cover_L48/wms?"
      }
     },
     "d47ff8e498b54d6a82dafa229d61432a": {
      "model_module": "jupyter-leaflet",
      "model_module_version": "^0.17.0",
      "model_name": "LeafletTileLayerModel",
      "state": {
       "_model_module_version": "^0.17.0",
       "_view_module_version": "^0.17.0",
       "attribution": "Kaartgegevens (C) Kadaster",
       "max_zoom": 19,
       "name": "nlmaps.standaard",
       "options": [
        "attribution",
        "bounds",
        "detect_retina",
        "max_native_zoom",
        "max_zoom",
        "min_native_zoom",
        "min_zoom",
        "no_wrap",
        "tile_size",
        "tms"
       ],
       "url": "https://service.pdok.nl/brt/achtergrondkaart/wmts/v2_0/standaard/EPSG:3857/{z}/{x}/{y}.png"
      }
     },
     "d495a1424ddb4bfb9979ca30661067f9": {
      "model_module": "@jupyter-widgets/controls",
      "model_module_version": "1.5.0",
      "model_name": "ButtonModel",
      "state": {
       "description": "Run Model",
       "icon": "bolt",
       "layout": "IPY_MODEL_f7d0bc4cfff3431cab85ad882ae4cbb4",
       "style": "IPY_MODEL_9ff191ac9a1a4bc0bbfcd3091d8eb8f6"
      }
     },
     "d4b14fc2cd8e43d28d72a8d1d53cd496": {
      "model_module": "@jupyter-widgets/controls",
      "model_module_version": "1.5.0",
      "model_name": "ButtonStyleModel",
      "state": {
       "button_color": "#69add1"
      }
     },
     "d6728400eae54fcdb6b5cad433eaada6": {
      "model_module": "jupyter-leaflet",
      "model_module_version": "^0.17.0",
      "model_name": "LeafletTileLayerModel",
      "state": {
       "_model_module_version": "^0.17.0",
       "_view_module_version": "^0.17.0",
       "attribution": "(C) OpenStreetMap contributors",
       "max_zoom": 15,
       "name": "HikeBike.HillShading",
       "options": [
        "attribution",
        "bounds",
        "detect_retina",
        "max_native_zoom",
        "max_zoom",
        "min_native_zoom",
        "min_zoom",
        "no_wrap",
        "tile_size",
        "tms"
       ],
       "url": "https://tiles.wmflabs.org/hillshading/{z}/{x}/{y}.png"
      }
     },
     "d6c3e1a96e994570b8c9e6e47418a51f": {
      "model_module": "jupyter-leaflet",
      "model_module_version": "^0.17.0",
      "model_name": "LeafletTileLayerModel",
      "state": {
       "_model_module_version": "^0.17.0",
       "_view_module_version": "^0.17.0",
       "attribution": "Geoportail France",
       "max_zoom": 16,
       "name": "GeoportailFrance.Protectedareas_Rnc",
       "options": [
        "attribution",
        "bounds",
        "detect_retina",
        "max_native_zoom",
        "max_zoom",
        "min_native_zoom",
        "min_zoom",
        "no_wrap",
        "tile_size",
        "tms"
       ],
       "url": "https://wxs.ign.fr/environnement/geoportail/wmts?REQUEST=GetTile&SERVICE=WMTS&VERSION=1.0.0&STYLE=normal&TILEMATRIXSET=PM&FORMAT=image/png&LAYER=PROTECTEDAREAS.RNC&TILEMATRIX={z}&TILEROW={y}&TILECOL={x}"
      }
     },
     "d71d5541069e4541ac0d268d0d43793b": {
      "model_module": "@jupyter-widgets/controls",
      "model_module_version": "1.5.0",
      "model_name": "HTMLModel",
      "state": {
       "layout": "IPY_MODEL_8861dbfa196249ada3908115f308ddd2",
       "style": "IPY_MODEL_656950f20e5f480cbe7cd4a228555979",
       "value": "____________________________________________________"
      }
     },
     "d73280f24ab341f18d192703e71c1c4e": {
      "model_module": "jupyter-leaflet",
      "model_module_version": "^0.17.0",
      "model_name": "LeafletTileLayerModel",
      "state": {
       "_model_module_version": "^0.17.0",
       "_view_module_version": "^0.17.0",
       "attribution": "Geoportail France",
       "max_zoom": 13,
       "name": "GeoportailFrance.Landcover_Hr_Imd_Clc12",
       "options": [
        "attribution",
        "bounds",
        "detect_retina",
        "max_native_zoom",
        "max_zoom",
        "min_native_zoom",
        "min_zoom",
        "no_wrap",
        "tile_size",
        "tms"
       ],
       "url": "https://wxs.ign.fr/clc/geoportail/wmts?REQUEST=GetTile&SERVICE=WMTS&VERSION=1.0.0&STYLE=CORINE Land Cover - HR - taux d'imperméabilisation des sols&TILEMATRIXSET=PM&FORMAT=image/png&LAYER=LANDCOVER.HR.IMD.CLC12&TILEMATRIX={z}&TILEROW={y}&TILECOL={x}"
      }
     },
     "d83d374ad38740d883b28632510a468a": {
      "model_module": "jupyter-leaflet",
      "model_module_version": "^0.17.0",
      "model_name": "LeafletTileLayerModel",
      "state": {
       "_model_module_version": "^0.17.0",
       "_view_module_version": "^0.17.0",
       "attribution": "Geoportail France",
       "max_zoom": 15,
       "name": "GeoportailFrance.Ortho-sat-rapideye-2011_pyr-jpeg_wld_wm_2011",
       "options": [
        "attribution",
        "bounds",
        "detect_retina",
        "max_native_zoom",
        "max_zoom",
        "min_native_zoom",
        "min_zoom",
        "no_wrap",
        "tile_size",
        "tms"
       ],
       "url": "https://wxs.ign.fr/satellite/geoportail/wmts?REQUEST=GetTile&SERVICE=WMTS&VERSION=1.0.0&STYLE=normal&TILEMATRIXSET=PM&FORMAT=image/jpeg&LAYER=ORTHO-SAT-RAPIDEYE-2011_PYR-JPEG_WLD_WM_2011&TILEMATRIX={z}&TILEROW={y}&TILECOL={x}"
      }
     },
     "da77b6394178442e97c91fada028a123": {
      "model_module": "@jupyter-widgets/base",
      "model_module_version": "1.2.0",
      "model_name": "LayoutModel",
      "state": {}
     },
     "da87b2ea23e4434aa074f9d7943fb774": {
      "model_module": "jupyter-leaflet",
      "model_module_version": "^0.17.0",
      "model_name": "LeafletTileLayerModel",
      "state": {
       "_model_module_version": "^0.17.0",
       "_view_module_version": "^0.17.0",
       "attribution": "Geoportail France",
       "max_zoom": 17,
       "name": "GeoportailFrance.Securoute_Te_Te94",
       "options": [
        "attribution",
        "bounds",
        "detect_retina",
        "max_native_zoom",
        "max_zoom",
        "min_native_zoom",
        "min_zoom",
        "no_wrap",
        "tile_size",
        "tms"
       ],
       "url": "https://wxs.ign.fr/transports/geoportail/wmts?REQUEST=GetTile&SERVICE=WMTS&VERSION=1.0.0&STYLE=RESEAU ROUTIER TE94&TILEMATRIXSET=PM&FORMAT=image/png&LAYER=SECUROUTE.TE.TE94&TILEMATRIX={z}&TILEROW={y}&TILECOL={x}"
      }
     },
     "da8fe1f5c16545108e793e12999f5287": {
      "model_module": "jupyter-leaflet",
      "model_module_version": "^0.17.0",
      "model_name": "LeafletWMSLayerModel",
      "state": {
       "_model_module_version": "^0.17.0",
       "_view_module_version": "^0.17.0",
       "attribution": "MRLC",
       "crs": {
        "custom": false,
        "name": "EPSG3857"
       },
       "format": "image/png",
       "layers": "NLCD_2019_Land_Cover_L48",
       "name": "NLCD 2019 CONUS Land Cover",
       "options": [
        "attribution",
        "bounds",
        "detect_retina",
        "format",
        "layers",
        "max_native_zoom",
        "max_zoom",
        "min_native_zoom",
        "min_zoom",
        "no_wrap",
        "styles",
        "tile_size",
        "tms",
        "transparent",
        "uppercase"
       ],
       "transparent": true,
       "url": "https://www.mrlc.gov/geoserver/mrlc_display/NLCD_2019_Land_Cover_L48/wms?"
      }
     },
     "dab76964ce2b4209bb6650078cb02804": {
      "model_module": "jupyter-leaflet",
      "model_module_version": "^0.17.0",
      "model_name": "LeafletTileLayerModel",
      "state": {
       "_model_module_version": "^0.17.0",
       "_view_module_version": "^0.17.0",
       "attribution": "Geoportail France",
       "max_zoom": 16,
       "name": "GeoportailFrance.Landuse_Agriculture2008",
       "options": [
        "attribution",
        "bounds",
        "detect_retina",
        "max_native_zoom",
        "max_zoom",
        "min_native_zoom",
        "min_zoom",
        "no_wrap",
        "tile_size",
        "tms"
       ],
       "url": "https://wxs.ign.fr/agriculture/geoportail/wmts?REQUEST=GetTile&SERVICE=WMTS&VERSION=1.0.0&STYLE=normal&TILEMATRIXSET=PM&FORMAT=image/png&LAYER=LANDUSE.AGRICULTURE2008&TILEMATRIX={z}&TILEROW={y}&TILECOL={x}"
      }
     },
     "db0e304394314d7bb7c49adfd7b7f79d": {
      "model_module": "jupyter-leaflet",
      "model_module_version": "^0.17.0",
      "model_name": "LeafletTileLayerModel",
      "state": {
       "_model_module_version": "^0.17.0",
       "_view_module_version": "^0.17.0",
       "attribution": "Geoportail France",
       "max_zoom": 17,
       "name": "GeoportailFrance.Orthoimagery_Ortho_sat_Spot_2016",
       "options": [
        "attribution",
        "bounds",
        "detect_retina",
        "max_native_zoom",
        "max_zoom",
        "min_native_zoom",
        "min_zoom",
        "no_wrap",
        "tile_size",
        "tms"
       ],
       "url": "https://wxs.ign.fr/satellite/geoportail/wmts?REQUEST=GetTile&SERVICE=WMTS&VERSION=1.0.0&STYLE=normal&TILEMATRIXSET=PM&FORMAT=image/jpeg&LAYER=ORTHOIMAGERY.ORTHO-SAT.SPOT.2016&TILEMATRIX={z}&TILEROW={y}&TILECOL={x}"
      }
     },
     "dbfea491f2934a1c8b57858742fc5d42": {
      "model_module": "jupyter-leaflet",
      "model_module_version": "^0.17.0",
      "model_name": "LeafletTileLayerModel",
      "state": {
       "_model_module_version": "^0.17.0",
       "_view_module_version": "^0.17.0",
       "attribution": "Geoportail France",
       "max_zoom": 13,
       "name": "GeoportailFrance.Landcover_Grid_Clc90_fr",
       "options": [
        "attribution",
        "bounds",
        "detect_retina",
        "max_native_zoom",
        "max_zoom",
        "min_native_zoom",
        "min_zoom",
        "no_wrap",
        "tile_size",
        "tms"
       ],
       "url": "https://wxs.ign.fr/clc/geoportail/wmts?REQUEST=GetTile&SERVICE=WMTS&VERSION=1.0.0&STYLE=CORINE Land Cover - France métropolitaine&TILEMATRIXSET=PM&FORMAT=image/png&LAYER=LANDCOVER.GRID.CLC90_FR&TILEMATRIX={z}&TILEROW={y}&TILECOL={x}"
      }
     },
     "dca31c8a32394422a48b680b3d7d913b": {
      "model_module": "jupyter-leaflet",
      "model_module_version": "^0.17.0",
      "model_name": "LeafletTileLayerModel",
      "state": {
       "_model_module_version": "^0.17.0",
       "_view_module_version": "^0.17.0",
       "attribution": "Justice Map",
       "max_zoom": 22,
       "name": "JusticeMap.multi",
       "options": [
        "attribution",
        "bounds",
        "detect_retina",
        "max_native_zoom",
        "max_zoom",
        "min_native_zoom",
        "min_zoom",
        "no_wrap",
        "tile_size",
        "tms"
       ],
       "url": "https://www.justicemap.org/tile/county/multi/{z}/{x}/{y}.png"
      }
     },
     "dd11c76c4f214450b0a3ad1607e4e9cf": {
      "model_module": "jupyter-leaflet",
      "model_module_version": "^0.17.0",
      "model_name": "LeafletTileLayerModel",
      "state": {
       "_model_module_version": "^0.17.0",
       "_view_module_version": "^0.17.0",
       "attribution": "Geoportail France",
       "name": "GeoportailFrance.Orthoimagery_Orthophotos2000",
       "options": [
        "attribution",
        "bounds",
        "detect_retina",
        "max_native_zoom",
        "max_zoom",
        "min_native_zoom",
        "min_zoom",
        "no_wrap",
        "tile_size",
        "tms"
       ],
       "url": "https://wxs.ign.fr/orthohisto/geoportail/wmts?REQUEST=GetTile&SERVICE=WMTS&VERSION=1.0.0&STYLE=normal&TILEMATRIXSET=PM&FORMAT=image/jpeg&LAYER=ORTHOIMAGERY.ORTHOPHOTOS2000&TILEMATRIX={z}&TILEROW={y}&TILECOL={x}"
      }
     },
     "dd423c2bbeb640d0887574747f8c3acc": {
      "model_module": "jupyter-leaflet",
      "model_module_version": "^0.17.0",
      "model_name": "LeafletTileLayerModel",
      "state": {
       "_model_module_version": "^0.17.0",
       "_view_module_version": "^0.17.0",
       "attribution": "&copy; <a href=\"http://www.gaode.com/\">Gaode.com</a>",
       "max_zoom": 19,
       "name": "Gaode.Satellite",
       "options": [
        "attribution",
        "bounds",
        "detect_retina",
        "max_native_zoom",
        "max_zoom",
        "min_native_zoom",
        "min_zoom",
        "no_wrap",
        "tile_size",
        "tms"
       ],
       "url": "http://webst01.is.autonavi.com/appmaptile?style=6&x={x}&y={y}&z={z}"
      }
     },
     "de064307165041e79bafedb3e4c9fa31": {
      "model_module": "jupyter-leaflet",
      "model_module_version": "^0.17.0",
      "model_name": "LeafletTileLayerModel",
      "state": {
       "_model_module_version": "^0.17.0",
       "_view_module_version": "^0.17.0",
       "attribution": "Imagery provided by services from the Global Imagery Browse Services (GIBS), operated by the NASA/GSFC/Earth Science Data and Information System (ESDIS) with funding provided by NASA/HQ.",
       "max_zoom": 7,
       "name": "NASAGIBS.ModisTerraLSTDay",
       "options": [
        "attribution",
        "bounds",
        "detect_retina",
        "max_native_zoom",
        "max_zoom",
        "min_native_zoom",
        "min_zoom",
        "no_wrap",
        "tile_size",
        "tms"
       ],
       "url": "https://map1.vis.earthdata.nasa.gov/wmts-webmerc/MODIS_Terra_Land_Surface_Temp_Day/default//GoogleMapsCompatible_Level7/{z}/{y}/{x}.png"
      }
     },
     "de133e8611a44a499dfefb9360b13d04": {
      "model_module": "jupyter-leaflet",
      "model_module_version": "^0.17.0",
      "model_name": "LeafletTileLayerModel",
      "state": {
       "_model_module_version": "^0.17.0",
       "_view_module_version": "^0.17.0",
       "attribution": "Geoportail France",
       "name": "GeoportailFrance.Orthoimagery_Orthophotos2004",
       "options": [
        "attribution",
        "bounds",
        "detect_retina",
        "max_native_zoom",
        "max_zoom",
        "min_native_zoom",
        "min_zoom",
        "no_wrap",
        "tile_size",
        "tms"
       ],
       "url": "https://wxs.ign.fr/orthohisto/geoportail/wmts?REQUEST=GetTile&SERVICE=WMTS&VERSION=1.0.0&STYLE=normal&TILEMATRIXSET=PM&FORMAT=image/jpeg&LAYER=ORTHOIMAGERY.ORTHOPHOTOS2004&TILEMATRIX={z}&TILEROW={y}&TILECOL={x}"
      }
     },
     "de9e74e8b52046839722abed60c43597": {
      "model_module": "jupyter-leaflet",
      "model_module_version": "^0.17.0",
      "model_name": "LeafletTileLayerModel",
      "state": {
       "_model_module_version": "^0.17.0",
       "_view_module_version": "^0.17.0",
       "attribution": "Geoportail France",
       "max_zoom": 8,
       "name": "GeoportailFrance.Geographicalgridsystems_Maps_Overview",
       "options": [
        "attribution",
        "bounds",
        "detect_retina",
        "max_native_zoom",
        "max_zoom",
        "min_native_zoom",
        "min_zoom",
        "no_wrap",
        "tile_size",
        "tms"
       ],
       "url": "https://wxs.ign.fr/cartes/geoportail/wmts?REQUEST=GetTile&SERVICE=WMTS&VERSION=1.0.0&STYLE=normal&TILEMATRIXSET=PM&FORMAT=image/jpeg&LAYER=GEOGRAPHICALGRIDSYSTEMS.MAPS.OVERVIEW&TILEMATRIX={z}&TILEROW={y}&TILECOL={x}"
      }
     },
     "dee9055d31a34fc6ad437c240628d72b": {
      "model_module": "jupyter-leaflet",
      "model_module_version": "^0.17.0",
      "model_name": "LeafletTileLayerModel",
      "state": {
       "_model_module_version": "^0.17.0",
       "_view_module_version": "^0.17.0",
       "attribution": "Geoportail France",
       "max_zoom": 21,
       "name": "GeoportailFrance.orthos",
       "options": [
        "attribution",
        "bounds",
        "detect_retina",
        "max_native_zoom",
        "max_zoom",
        "min_native_zoom",
        "min_zoom",
        "no_wrap",
        "tile_size",
        "tms"
       ],
       "url": "https://wxs.ign.fr/ortho/geoportail/wmts?REQUEST=GetTile&SERVICE=WMTS&VERSION=1.0.0&STYLE=normal&TILEMATRIXSET=PM&FORMAT=image/jpeg&LAYER=ORTHOIMAGERY.ORTHOPHOTOS&TILEMATRIX={z}&TILEROW={y}&TILECOL={x}"
      }
     },
     "e025e1e4e3c743f8841b84939ec7da19": {
      "model_module": "jupyter-leaflet",
      "model_module_version": "^0.17.0",
      "model_name": "LeafletTileLayerModel",
      "state": {
       "_model_module_version": "^0.17.0",
       "_view_module_version": "^0.17.0",
       "attribution": "Geoportail France",
       "max_zoom": 16,
       "name": "GeoportailFrance.Insee_Filosofi_Logements_Surface_Moyenne_Secret",
       "options": [
        "attribution",
        "bounds",
        "detect_retina",
        "max_native_zoom",
        "max_zoom",
        "min_native_zoom",
        "min_zoom",
        "no_wrap",
        "tile_size",
        "tms"
       ],
       "url": "https://wxs.ign.fr/economie/geoportail/wmts?REQUEST=GetTile&SERVICE=WMTS&VERSION=1.0.0&STYLE=INSEE&TILEMATRIXSET=PM&FORMAT=image/png&LAYER=INSEE.FILOSOFI.LOGEMENTS.SURFACE.MOYENNE.SECRET&TILEMATRIX={z}&TILEROW={y}&TILECOL={x}"
      }
     },
     "e0bfacb07e3f41da8a4f26ef63a19ae5": {
      "model_module": "jupyter-leaflet",
      "model_module_version": "^0.17.0",
      "model_name": "LeafletTileLayerModel",
      "state": {
       "_model_module_version": "^0.17.0",
       "_view_module_version": "^0.17.0",
       "attribution": "Geoportail France",
       "name": "GeoportailFrance.Orthoimagery_Ortho_sat_Pleiades_2019",
       "options": [
        "attribution",
        "bounds",
        "detect_retina",
        "max_native_zoom",
        "max_zoom",
        "min_native_zoom",
        "min_zoom",
        "no_wrap",
        "tile_size",
        "tms"
       ],
       "url": "https://wxs.ign.fr/satellite/geoportail/wmts?REQUEST=GetTile&SERVICE=WMTS&VERSION=1.0.0&STYLE=normal&TILEMATRIXSET=PM&FORMAT=image/png&LAYER=ORTHOIMAGERY.ORTHO-SAT.PLEIADES.2019&TILEMATRIX={z}&TILEROW={y}&TILECOL={x}"
      }
     },
     "e1651e98a86f4fafbd22ab8f2552545a": {
      "model_module": "jupyter-leaflet",
      "model_module_version": "^0.17.0",
      "model_name": "LeafletTileLayerModel",
      "state": {
       "_model_module_version": "^0.17.0",
       "_view_module_version": "^0.17.0",
       "attribution": "Geoportail France",
       "name": "GeoportailFrance.Orthoimagery_Orthophotos2003",
       "options": [
        "attribution",
        "bounds",
        "detect_retina",
        "max_native_zoom",
        "max_zoom",
        "min_native_zoom",
        "min_zoom",
        "no_wrap",
        "tile_size",
        "tms"
       ],
       "url": "https://wxs.ign.fr/orthohisto/geoportail/wmts?REQUEST=GetTile&SERVICE=WMTS&VERSION=1.0.0&STYLE=normal&TILEMATRIXSET=PM&FORMAT=image/jpeg&LAYER=ORTHOIMAGERY.ORTHOPHOTOS2003&TILEMATRIX={z}&TILEROW={y}&TILECOL={x}"
      }
     },
     "e1ba2dd705b147b3bd0703e105aab845": {
      "model_module": "jupyter-leaflet",
      "model_module_version": "^0.17.0",
      "model_name": "LeafletTileLayerModel",
      "state": {
       "_model_module_version": "^0.17.0",
       "_view_module_version": "^0.17.0",
       "attribution": "Geoportail France",
       "max_zoom": 16,
       "name": "GeoportailFrance.Protectedareas_Aphn",
       "options": [
        "attribution",
        "bounds",
        "detect_retina",
        "max_native_zoom",
        "max_zoom",
        "min_native_zoom",
        "min_zoom",
        "no_wrap",
        "tile_size",
        "tms"
       ],
       "url": "https://wxs.ign.fr/environnement/geoportail/wmts?REQUEST=GetTile&SERVICE=WMTS&VERSION=1.0.0&STYLE=normal&TILEMATRIXSET=PM&FORMAT=image/png&LAYER=PROTECTEDAREAS.APHN&TILEMATRIX={z}&TILEROW={y}&TILECOL={x}"
      }
     },
     "e20432f4a9b34ac0b072c2cfefcb47b0": {
      "model_module": "jupyter-leaflet",
      "model_module_version": "^0.17.0",
      "model_name": "LeafletTileLayerModel",
      "state": {
       "_model_module_version": "^0.17.0",
       "_view_module_version": "^0.17.0",
       "attribution": "Geoportail France",
       "name": "GeoportailFrance.Transportnetwork_Commontransportelements_Markerpost",
       "options": [
        "attribution",
        "bounds",
        "detect_retina",
        "max_native_zoom",
        "max_zoom",
        "min_native_zoom",
        "min_zoom",
        "no_wrap",
        "tile_size",
        "tms"
       ],
       "url": "https://wxs.ign.fr/topographie/geoportail/wmts?REQUEST=GetTile&SERVICE=WMTS&VERSION=1.0.0&STYLE=normal&TILEMATRIXSET=PM&FORMAT=image/png&LAYER=TRANSPORTNETWORK.COMMONTRANSPORTELEMENTS.MARKERPOST&TILEMATRIX={z}&TILEROW={y}&TILECOL={x}"
      }
     },
     "e25ac273f6464d56bb550025506b52fd": {
      "model_module": "jupyter-leaflet",
      "model_module_version": "^0.17.0",
      "model_name": "LeafletTileLayerModel",
      "state": {
       "_model_module_version": "^0.17.0",
       "_view_module_version": "^0.17.0",
       "attribution": "(C) OpenStreetMap contributors (C) CARTO",
       "max_zoom": 20,
       "name": "CartoDB.PositronNoLabels",
       "options": [
        "attribution",
        "bounds",
        "detect_retina",
        "max_native_zoom",
        "max_zoom",
        "min_native_zoom",
        "min_zoom",
        "no_wrap",
        "tile_size",
        "tms"
       ],
       "url": "https://a.basemaps.cartocdn.com/light_nolabels/{z}/{x}/{y}.png"
      }
     },
     "e2daf6d4af5a4568926ef5d7c00adbd1": {
      "model_module": "jupyter-leaflet",
      "model_module_version": "^0.17.0",
      "model_name": "LeafletTileLayerModel",
      "state": {
       "_model_module_version": "^0.17.0",
       "_view_module_version": "^0.17.0",
       "attribution": "Map data: (C) OpenStreetMap contributors | Map style: (C) SafeCast (CC-BY-SA)",
       "max_zoom": 16,
       "name": "SafeCast",
       "options": [
        "attribution",
        "bounds",
        "detect_retina",
        "max_native_zoom",
        "max_zoom",
        "min_native_zoom",
        "min_zoom",
        "no_wrap",
        "tile_size",
        "tms"
       ],
       "url": "https://s3.amazonaws.com/te512.safecast.org/{z}/{x}/{y}.png"
      }
     },
     "e30a4da495e74d43bd92ffeee59fd945": {
      "model_module": "jupyter-leaflet",
      "model_module_version": "^0.17.0",
      "model_name": "LeafletTileLayerModel",
      "state": {
       "_model_module_version": "^0.17.0",
       "_view_module_version": "^0.17.0",
       "attribution": "Geoportail France",
       "max_zoom": 16,
       "name": "GeoportailFrance.Landuse_Agriculture2016",
       "options": [
        "attribution",
        "bounds",
        "detect_retina",
        "max_native_zoom",
        "max_zoom",
        "min_native_zoom",
        "min_zoom",
        "no_wrap",
        "tile_size",
        "tms"
       ],
       "url": "https://wxs.ign.fr/agriculture/geoportail/wmts?REQUEST=GetTile&SERVICE=WMTS&VERSION=1.0.0&STYLE=normal&TILEMATRIXSET=PM&FORMAT=image/png&LAYER=LANDUSE.AGRICULTURE2016&TILEMATRIX={z}&TILEROW={y}&TILECOL={x}"
      }
     },
     "e3fb84e47c5c4effaa53d8fb6b8271b2": {
      "model_module": "jupyter-leaflet",
      "model_module_version": "^0.17.0",
      "model_name": "LeafletTileLayerModel",
      "state": {
       "_model_module_version": "^0.17.0",
       "_view_module_version": "^0.17.0",
       "attribution": "Geoportail France",
       "name": "GeoportailFrance.Orthoimagery_Ortho_sat_Pleiades_2016",
       "options": [
        "attribution",
        "bounds",
        "detect_retina",
        "max_native_zoom",
        "max_zoom",
        "min_native_zoom",
        "min_zoom",
        "no_wrap",
        "tile_size",
        "tms"
       ],
       "url": "https://wxs.ign.fr/satellite/geoportail/wmts?REQUEST=GetTile&SERVICE=WMTS&VERSION=1.0.0&STYLE=normal&TILEMATRIXSET=PM&FORMAT=image/png&LAYER=ORTHOIMAGERY.ORTHO-SAT.PLEIADES.2016&TILEMATRIX={z}&TILEROW={y}&TILECOL={x}"
      }
     },
     "e40e03a6d491420ba9903d230145659e": {
      "model_module": "@jupyter-widgets/base",
      "model_module_version": "1.2.0",
      "model_name": "LayoutModel",
      "state": {}
     },
     "e5087d84479e4ecab0a91ce74f89b8ff": {
      "model_module": "jupyter-leaflet",
      "model_module_version": "^0.17.0",
      "model_name": "LeafletTileLayerModel",
      "state": {
       "_model_module_version": "^0.17.0",
       "_view_module_version": "^0.17.0",
       "attribution": "Geoportail France",
       "max_zoom": 19,
       "name": "GeoportailFrance.Orthoimagery_Orthophotos_Irc_2015",
       "options": [
        "attribution",
        "bounds",
        "detect_retina",
        "max_native_zoom",
        "max_zoom",
        "min_native_zoom",
        "min_zoom",
        "no_wrap",
        "tile_size",
        "tms"
       ],
       "url": "https://wxs.ign.fr/orthohisto/geoportail/wmts?REQUEST=GetTile&SERVICE=WMTS&VERSION=1.0.0&STYLE=normal&TILEMATRIXSET=PM&FORMAT=image/jpeg&LAYER=ORTHOIMAGERY.ORTHOPHOTOS.IRC.2015&TILEMATRIX={z}&TILEROW={y}&TILECOL={x}"
      }
     },
     "e515422e08044a97a5e4934b4bcb6a3c": {
      "model_module": "jupyter-leaflet",
      "model_module_version": "^0.17.0",
      "model_name": "LeafletTileLayerModel",
      "state": {
       "_model_module_version": "^0.17.0",
       "_view_module_version": "^0.17.0",
       "attribution": "Geoportail France",
       "max_zoom": 19,
       "name": "GeoportailFrance.parcels",
       "options": [
        "attribution",
        "bounds",
        "detect_retina",
        "max_native_zoom",
        "max_zoom",
        "min_native_zoom",
        "min_zoom",
        "no_wrap",
        "tile_size",
        "tms"
       ],
       "url": "https://wxs.ign.fr/essentiels/geoportail/wmts?REQUEST=GetTile&SERVICE=WMTS&VERSION=1.0.0&STYLE=normal&TILEMATRIXSET=PM&FORMAT=image/png&LAYER=CADASTRALPARCELS.PARCELLAIRE_EXPRESS&TILEMATRIX={z}&TILEROW={y}&TILECOL={x}"
      }
     },
     "e53e9a23b5604e0cb57827c2e0c3c4aa": {
      "model_module": "@jupyter-widgets/base",
      "model_module_version": "1.2.0",
      "model_name": "LayoutModel",
      "state": {}
     },
     "e5784ddd99dc4d13ad9e48a9a98738a4": {
      "model_module": "jupyter-leaflet",
      "model_module_version": "^0.17.0",
      "model_name": "LeafletTileLayerModel",
      "state": {
       "_model_module_version": "^0.17.0",
       "_view_module_version": "^0.17.0",
       "attribution": "Geoportail France",
       "max_zoom": 19,
       "name": "GeoportailFrance.Orthoimagery_Orthophotos_Ortho_express_2022",
       "options": [
        "attribution",
        "bounds",
        "detect_retina",
        "max_native_zoom",
        "max_zoom",
        "min_native_zoom",
        "min_zoom",
        "no_wrap",
        "tile_size",
        "tms"
       ],
       "url": "https://wxs.ign.fr/ortho/geoportail/wmts?REQUEST=GetTile&SERVICE=WMTS&VERSION=1.0.0&STYLE=normal&TILEMATRIXSET=PM&FORMAT=image/jpeg&LAYER=ORTHOIMAGERY.ORTHOPHOTOS.ORTHO-EXPRESS.2022&TILEMATRIX={z}&TILEROW={y}&TILECOL={x}"
      }
     },
     "e5c0fddd2b0c4e6d8d952f710d6aa72a": {
      "model_module": "jupyter-leaflet",
      "model_module_version": "^0.17.0",
      "model_name": "LeafletTileLayerModel",
      "state": {
       "_model_module_version": "^0.17.0",
       "_view_module_version": "^0.17.0",
       "attribution": "OpenStreetMap",
       "max_zoom": 22,
       "name": "OpenStreetMap",
       "options": [
        "attribution",
        "bounds",
        "detect_retina",
        "max_native_zoom",
        "max_zoom",
        "min_native_zoom",
        "min_zoom",
        "no_wrap",
        "tile_size",
        "tms"
       ]
      }
     },
     "e8afab7895f84eb9a1b7dd5dd4abfd31": {
      "model_module": "jupyter-leaflet",
      "model_module_version": "^0.17.0",
      "model_name": "LeafletTileLayerModel",
      "state": {
       "_model_module_version": "^0.17.0",
       "_view_module_version": "^0.17.0",
       "attribution": "Geoportail France",
       "max_zoom": 19,
       "name": "GeoportailFrance.Orthoimagery_Orthophotos_Irc_express_2018",
       "options": [
        "attribution",
        "bounds",
        "detect_retina",
        "max_native_zoom",
        "max_zoom",
        "min_native_zoom",
        "min_zoom",
        "no_wrap",
        "tile_size",
        "tms"
       ],
       "url": "https://wxs.ign.fr/orthohisto/geoportail/wmts?REQUEST=GetTile&SERVICE=WMTS&VERSION=1.0.0&STYLE=normal&TILEMATRIXSET=PM&FORMAT=image/png&LAYER=ORTHOIMAGERY.ORTHOPHOTOS.IRC-EXPRESS.2018&TILEMATRIX={z}&TILEROW={y}&TILECOL={x}"
      }
     },
     "e9054dad2c7a472e9d5c115b4acfddf5": {
      "model_module": "jupyter-leaflet",
      "model_module_version": "^0.17.0",
      "model_name": "LeafletTileLayerModel",
      "state": {
       "_model_module_version": "^0.17.0",
       "_view_module_version": "^0.17.0",
       "attribution": "Map tiles by <a href=\"https://labs.strava.com/heatmap\">Strava 2021</a>",
       "max_zoom": 15,
       "name": "Strava.Run",
       "options": [
        "attribution",
        "bounds",
        "detect_retina",
        "max_native_zoom",
        "max_zoom",
        "min_native_zoom",
        "min_zoom",
        "no_wrap",
        "tile_size",
        "tms"
       ],
       "url": "https://heatmap-external-a.strava.com/tiles/run/bluered/{z}/{x}/{y}.png"
      }
     },
     "e9f3891ca47a4f92a36afa17cbe9bbd8": {
      "model_module": "jupyter-leaflet",
      "model_module_version": "^0.17.0",
      "model_name": "LeafletTileLayerModel",
      "state": {
       "_model_module_version": "^0.17.0",
       "_view_module_version": "^0.17.0",
       "attribution": "Geoportail France",
       "name": "GeoportailFrance.Orthoimagery_Ortho_sat_Pleiades_2014",
       "options": [
        "attribution",
        "bounds",
        "detect_retina",
        "max_native_zoom",
        "max_zoom",
        "min_native_zoom",
        "min_zoom",
        "no_wrap",
        "tile_size",
        "tms"
       ],
       "url": "https://wxs.ign.fr/satellite/geoportail/wmts?REQUEST=GetTile&SERVICE=WMTS&VERSION=1.0.0&STYLE=normal&TILEMATRIXSET=PM&FORMAT=image/png&LAYER=ORTHOIMAGERY.ORTHO-SAT.PLEIADES.2014&TILEMATRIX={z}&TILEROW={y}&TILECOL={x}"
      }
     },
     "ea25c898e6294db484c88c8fd55fd956": {
      "model_module": "jupyter-leaflet",
      "model_module_version": "^0.17.0",
      "model_name": "LeafletTileLayerModel",
      "state": {
       "_model_module_version": "^0.17.0",
       "_view_module_version": "^0.17.0",
       "attribution": "Geoportail France",
       "max_zoom": 15,
       "name": "GeoportailFrance.Geographicalgridsystems_Maps_Scan50_1950",
       "options": [
        "attribution",
        "bounds",
        "detect_retina",
        "max_native_zoom",
        "max_zoom",
        "min_native_zoom",
        "min_zoom",
        "no_wrap",
        "tile_size",
        "tms"
       ],
       "url": "https://wxs.ign.fr/cartes/geoportail/wmts?REQUEST=GetTile&SERVICE=WMTS&VERSION=1.0.0&STYLE=SCAN50_1950&TILEMATRIXSET=PM&FORMAT=image/jpeg&LAYER=GEOGRAPHICALGRIDSYSTEMS.MAPS.SCAN50.1950&TILEMATRIX={z}&TILEROW={y}&TILECOL={x}"
      }
     },
     "ea6ccc385c02445d8845268908fcc99d": {
      "model_module": "jupyter-leaflet",
      "model_module_version": "^0.17.0",
      "model_name": "LeafletTileLayerModel",
      "state": {
       "_model_module_version": "^0.17.0",
       "_view_module_version": "^0.17.0",
       "attribution": "Map tiles by Stamen Design, CC BY 3.0 -- Map data (C) OpenStreetMap contributors",
       "max_zoom": 20,
       "name": "Stamen.TopOSMFeatures",
       "options": [
        "attribution",
        "bounds",
        "detect_retina",
        "max_native_zoom",
        "max_zoom",
        "min_native_zoom",
        "min_zoom",
        "no_wrap",
        "tile_size",
        "tms"
       ],
       "url": "https://stamen-tiles-a.a.ssl.fastly.net/toposm-features/{z}/{x}/{y}.png"
      }
     },
     "eb7a1b67dc7c4031951555603f28a3c5": {
      "model_module": "@jupyter-widgets/base",
      "model_module_version": "1.2.0",
      "model_name": "LayoutModel",
      "state": {}
     },
     "eb7ee09557b940dd8f37b691afbabcea": {
      "model_module": "jupyter-leaflet",
      "model_module_version": "^0.17.0",
      "model_name": "LeafletTileLayerModel",
      "state": {
       "_model_module_version": "^0.17.0",
       "_view_module_version": "^0.17.0",
       "attribution": "Geoportail France",
       "max_zoom": 16,
       "name": "GeoportailFrance.Insee_Filosofi_Part_Plus_65_Ans_Secret",
       "options": [
        "attribution",
        "bounds",
        "detect_retina",
        "max_native_zoom",
        "max_zoom",
        "min_native_zoom",
        "min_zoom",
        "no_wrap",
        "tile_size",
        "tms"
       ],
       "url": "https://wxs.ign.fr/economie/geoportail/wmts?REQUEST=GetTile&SERVICE=WMTS&VERSION=1.0.0&STYLE=INSEE&TILEMATRIXSET=PM&FORMAT=image/png&LAYER=INSEE.FILOSOFI.PART.PLUS.65.ANS.SECRET&TILEMATRIX={z}&TILEROW={y}&TILECOL={x}"
      }
     },
     "ee85a1b5ca084da191df49f5d9778c3e": {
      "model_module": "jupyter-leaflet",
      "model_module_version": "^0.17.0",
      "model_name": "LeafletTileLayerModel",
      "state": {
       "_model_module_version": "^0.17.0",
       "_view_module_version": "^0.17.0",
       "attribution": "(C) OpenStreetMap contributors",
       "name": "OpenStreetMap.DE",
       "options": [
        "attribution",
        "bounds",
        "detect_retina",
        "max_native_zoom",
        "max_zoom",
        "min_native_zoom",
        "min_zoom",
        "no_wrap",
        "tile_size",
        "tms"
       ],
       "url": "https://a.tile.openstreetmap.de/{z}/{x}/{y}.png"
      }
     },
     "eef66e9b3cdc482eb351cf9b96b7bba3": {
      "model_module": "jupyter-leaflet",
      "model_module_version": "^0.17.0",
      "model_name": "LeafletTileLayerModel",
      "state": {
       "_model_module_version": "^0.17.0",
       "_view_module_version": "^0.17.0",
       "attribution": "Tiles (C) Esri -- National Geographic, Esri, DeLorme, NAVTEQ, UNEP-WCMC, USGS, NASA, ESA, METI, NRCAN, GEBCO, NOAA, iPC",
       "max_zoom": 16,
       "name": "Esri.NatGeoWorldMap",
       "options": [
        "attribution",
        "bounds",
        "detect_retina",
        "max_native_zoom",
        "max_zoom",
        "min_native_zoom",
        "min_zoom",
        "no_wrap",
        "tile_size",
        "tms"
       ],
       "url": "https://server.arcgisonline.com/ArcGIS/rest/services/NatGeo_World_Map/MapServer/tile/{z}/{y}/{x}"
      }
     },
     "ef72476bc2e745f3bde9144c27e5de18": {
      "model_module": "jupyter-leaflet",
      "model_module_version": "^0.17.0",
      "model_name": "LeafletTileLayerModel",
      "state": {
       "_model_module_version": "^0.17.0",
       "_view_module_version": "^0.17.0",
       "attribution": "Google",
       "max_zoom": 22,
       "name": "Google Satellite",
       "options": [
        "attribution",
        "bounds",
        "detect_retina",
        "max_native_zoom",
        "max_zoom",
        "min_native_zoom",
        "min_zoom",
        "no_wrap",
        "tile_size",
        "tms"
       ],
       "url": "https://mt1.google.com/vt/lyrs=s&x={x}&y={y}&z={z}"
      }
     },
     "ef8e2414eb694d388cac3e0534db9469": {
      "model_module": "jupyter-leaflet",
      "model_module_version": "^0.17.0",
      "model_name": "LeafletTileLayerModel",
      "state": {
       "_model_module_version": "^0.17.0",
       "_view_module_version": "^0.17.0",
       "attribution": "Geoportail France",
       "max_zoom": 17,
       "name": "GeoportailFrance.Communes_Prioritydisctrict",
       "options": [
        "attribution",
        "bounds",
        "detect_retina",
        "max_native_zoom",
        "max_zoom",
        "min_native_zoom",
        "min_zoom",
        "no_wrap",
        "tile_size",
        "tms"
       ],
       "url": "https://wxs.ign.fr/economie/geoportail/wmts?REQUEST=GetTile&SERVICE=WMTS&VERSION=1.0.0&STYLE=normal&TILEMATRIXSET=PM&FORMAT=image/png&LAYER=COMMUNES.PRIORITYDISCTRICT&TILEMATRIX={z}&TILEROW={y}&TILECOL={x}"
      }
     },
     "eff8781a3685464694aa37bad8d03aee": {
      "model_module": "@jupyter-widgets/controls",
      "model_module_version": "1.5.0",
      "model_name": "RadioButtonsModel",
      "state": {
       "_options_labels": [
        "Enabled",
        "Disabled"
       ],
       "description": "Otsu Threshold:",
       "index": 1,
       "layout": "IPY_MODEL_5d698c9317bd45c79e779dbc6011e678",
       "style": "IPY_MODEL_729175b98e1f4256b064b9447548a97a"
      }
     },
     "f0dbe133982d49c2853d49555f329b37": {
      "model_module": "jupyter-leaflet",
      "model_module_version": "^0.17.0",
      "model_name": "LeafletTileLayerModel",
      "state": {
       "_model_module_version": "^0.17.0",
       "_view_module_version": "^0.17.0",
       "attribution": "Geoportail France",
       "max_zoom": 19,
       "name": "GeoportailFrance.Orthoimagery_Orthophotos_Irc_2019",
       "options": [
        "attribution",
        "bounds",
        "detect_retina",
        "max_native_zoom",
        "max_zoom",
        "min_native_zoom",
        "min_zoom",
        "no_wrap",
        "tile_size",
        "tms"
       ],
       "url": "https://wxs.ign.fr/orthohisto/geoportail/wmts?REQUEST=GetTile&SERVICE=WMTS&VERSION=1.0.0&STYLE=normal&TILEMATRIXSET=PM&FORMAT=image/jpeg&LAYER=ORTHOIMAGERY.ORTHOPHOTOS.IRC.2019&TILEMATRIX={z}&TILEROW={y}&TILECOL={x}"
      }
     },
     "f0dff2f6b5634a5f8eed2ed7554c413a": {
      "model_module": "jupyter-leaflet",
      "model_module_version": "^0.17.0",
      "model_name": "LeafletTileLayerModel",
      "state": {
       "_model_module_version": "^0.17.0",
       "_view_module_version": "^0.17.0",
       "attribution": "Geoportail France",
       "max_zoom": 16,
       "name": "GeoportailFrance.Bdcarto_etat_major_Niveau3",
       "options": [
        "attribution",
        "bounds",
        "detect_retina",
        "max_native_zoom",
        "max_zoom",
        "min_native_zoom",
        "min_zoom",
        "no_wrap",
        "tile_size",
        "tms"
       ],
       "url": "https://wxs.ign.fr/sol/geoportail/wmts?REQUEST=GetTile&SERVICE=WMTS&VERSION=1.0.0&STYLE=normal&TILEMATRIXSET=PM&FORMAT=image/png&LAYER=BDCARTO_ETAT-MAJOR.NIVEAU3&TILEMATRIX={z}&TILEROW={y}&TILECOL={x}"
      }
     },
     "f0e3cc32aa7a4bbaa7c063670a9664d4": {
      "model_module": "jupyter-leaflet",
      "model_module_version": "^0.17.0",
      "model_name": "LeafletTileLayerModel",
      "state": {
       "_model_module_version": "^0.17.0",
       "_view_module_version": "^0.17.0",
       "attribution": "Map data: (C) OpenStreetMap contributors | Map style: (C) waymarkedtrails.org (CC-BY-SA)",
       "name": "WaymarkedTrails.riding",
       "options": [
        "attribution",
        "bounds",
        "detect_retina",
        "max_native_zoom",
        "max_zoom",
        "min_native_zoom",
        "min_zoom",
        "no_wrap",
        "tile_size",
        "tms"
       ],
       "url": "https://tile.waymarkedtrails.org/riding/{z}/{x}/{y}.png"
      }
     },
     "f0e94438d037433880003d3f436d795d": {
      "model_module": "jupyter-leaflet",
      "model_module_version": "^0.17.0",
      "model_name": "LeafletTileLayerModel",
      "state": {
       "_model_module_version": "^0.17.0",
       "_view_module_version": "^0.17.0",
       "attribution": "Geoportail France",
       "max_zoom": 17,
       "name": "GeoportailFrance.Orthoimagery_Ortho_sat_Spot_2018",
       "options": [
        "attribution",
        "bounds",
        "detect_retina",
        "max_native_zoom",
        "max_zoom",
        "min_native_zoom",
        "min_zoom",
        "no_wrap",
        "tile_size",
        "tms"
       ],
       "url": "https://wxs.ign.fr/satellite/geoportail/wmts?REQUEST=GetTile&SERVICE=WMTS&VERSION=1.0.0&STYLE=normal&TILEMATRIXSET=PM&FORMAT=image/jpeg&LAYER=ORTHOIMAGERY.ORTHO-SAT.SPOT.2018&TILEMATRIX={z}&TILEROW={y}&TILECOL={x}"
      }
     },
     "f108456aff394e519b515c4f061d8c2e": {
      "model_module": "jupyter-leaflet",
      "model_module_version": "^0.17.0",
      "model_name": "LeafletTileLayerModel",
      "state": {
       "_model_module_version": "^0.17.0",
       "_view_module_version": "^0.17.0",
       "attribution": "Geoportail France",
       "max_zoom": 12,
       "name": "GeoportailFrance.Landcover_Grid_Clc06r_fr",
       "options": [
        "attribution",
        "bounds",
        "detect_retina",
        "max_native_zoom",
        "max_zoom",
        "min_native_zoom",
        "min_zoom",
        "no_wrap",
        "tile_size",
        "tms"
       ],
       "url": "https://wxs.ign.fr/clc/geoportail/wmts?REQUEST=GetTile&SERVICE=WMTS&VERSION=1.0.0&STYLE=CORINE Land Cover - France métropolitaine&TILEMATRIXSET=PM&FORMAT=image/png&LAYER=LANDCOVER.GRID.CLC06R_FR&TILEMATRIX={z}&TILEROW={y}&TILECOL={x}"
      }
     },
     "f25f9f9517284f0f8525abf9b570f3d8": {
      "model_module": "jupyter-leaflet",
      "model_module_version": "^0.17.0",
      "model_name": "LeafletTileLayerModel",
      "state": {
       "_model_module_version": "^0.17.0",
       "_view_module_version": "^0.17.0",
       "attribution": "Geoportail France",
       "max_zoom": 16,
       "name": "GeoportailFrance.Protectedareas_Znieff2",
       "options": [
        "attribution",
        "bounds",
        "detect_retina",
        "max_native_zoom",
        "max_zoom",
        "min_native_zoom",
        "min_zoom",
        "no_wrap",
        "tile_size",
        "tms"
       ],
       "url": "https://wxs.ign.fr/environnement/geoportail/wmts?REQUEST=GetTile&SERVICE=WMTS&VERSION=1.0.0&STYLE=normal&TILEMATRIXSET=PM&FORMAT=image/png&LAYER=PROTECTEDAREAS.ZNIEFF2&TILEMATRIX={z}&TILEROW={y}&TILECOL={x}"
      }
     },
     "f28585f86f8f413cac642a3f8aaa2902": {
      "model_module": "jupyter-leaflet",
      "model_module_version": "^0.17.0",
      "model_name": "LeafletTileLayerModel",
      "state": {
       "_model_module_version": "^0.17.0",
       "_view_module_version": "^0.17.0",
       "attribution": "Geoportail France",
       "name": "GeoportailFrance.Geographicalgridsystems_Terrier_v2",
       "options": [
        "attribution",
        "bounds",
        "detect_retina",
        "max_native_zoom",
        "max_zoom",
        "min_native_zoom",
        "min_zoom",
        "no_wrap",
        "tile_size",
        "tms"
       ],
       "url": "https://wxs.ign.fr/cartes/geoportail/wmts?REQUEST=GetTile&SERVICE=WMTS&VERSION=1.0.0&STYLE=nolegend&TILEMATRIXSET=PM&FORMAT=image/png&LAYER=GEOGRAPHICALGRIDSYSTEMS.TERRIER_V2&TILEMATRIX={z}&TILEROW={y}&TILECOL={x}"
      }
     },
     "f2a11d130add42bd8f6165d7b4338533": {
      "model_module": "jupyter-leaflet",
      "model_module_version": "^0.17.0",
      "model_name": "LeafletTileLayerModel",
      "state": {
       "_model_module_version": "^0.17.0",
       "_view_module_version": "^0.17.0",
       "attribution": "Geoportail France",
       "max_zoom": 16,
       "name": "GeoportailFrance.Landcover_Clc12r",
       "options": [
        "attribution",
        "bounds",
        "detect_retina",
        "max_native_zoom",
        "max_zoom",
        "min_native_zoom",
        "min_zoom",
        "no_wrap",
        "tile_size",
        "tms"
       ],
       "url": "https://wxs.ign.fr/clc/geoportail/wmts?REQUEST=GetTile&SERVICE=WMTS&VERSION=1.0.0&STYLE=CORINE Land Cover&TILEMATRIXSET=PM&FORMAT=image/png&LAYER=LANDCOVER.CLC12R&TILEMATRIX={z}&TILEROW={y}&TILECOL={x}"
      }
     },
     "f2a91b846d42494d8b61ab851c6b28c4": {
      "model_module": "jupyter-leaflet",
      "model_module_version": "^0.17.0",
      "model_name": "LeafletTileLayerModel",
      "state": {
       "_model_module_version": "^0.17.0",
       "_view_module_version": "^0.17.0",
       "attribution": "Geoportail France",
       "name": "GeoportailFrance.Ocsge_Visu_2016",
       "options": [
        "attribution",
        "bounds",
        "detect_retina",
        "max_native_zoom",
        "max_zoom",
        "min_native_zoom",
        "min_zoom",
        "no_wrap",
        "tile_size",
        "tms"
       ],
       "url": "https://wxs.ign.fr/ocsge/geoportail/wmts?REQUEST=GetTile&SERVICE=WMTS&VERSION=1.0.0&STYLE=nolegend&TILEMATRIXSET=PM&FORMAT=image/png&LAYER=OCSGE.VISU.2016&TILEMATRIX={z}&TILEROW={y}&TILECOL={x}"
      }
     },
     "f307f24dea724a42a8e2abfe2e869643": {
      "model_module": "jupyter-leaflet",
      "model_module_version": "^0.17.0",
      "model_name": "LeafletTileLayerModel",
      "state": {
       "_model_module_version": "^0.17.0",
       "_view_module_version": "^0.17.0",
       "attribution": "Geoportail France",
       "name": "GeoportailFrance.Orthoimagery_Orthophotos2006",
       "options": [
        "attribution",
        "bounds",
        "detect_retina",
        "max_native_zoom",
        "max_zoom",
        "min_native_zoom",
        "min_zoom",
        "no_wrap",
        "tile_size",
        "tms"
       ],
       "url": "https://wxs.ign.fr/orthohisto/geoportail/wmts?REQUEST=GetTile&SERVICE=WMTS&VERSION=1.0.0&STYLE=normal&TILEMATRIXSET=PM&FORMAT=image/jpeg&LAYER=ORTHOIMAGERY.ORTHOPHOTOS2006&TILEMATRIX={z}&TILEROW={y}&TILECOL={x}"
      }
     },
     "f411f0aeb8f942888b2baaeccd433d2d": {
      "model_module": "@jupyter-widgets/controls",
      "model_module_version": "1.5.0",
      "model_name": "RadioButtonsModel",
      "state": {
       "_options_labels": [
        "Enabled",
        "Disabled"
       ],
       "description": "Test Time Augmentation:",
       "index": 1,
       "layout": "IPY_MODEL_c1fcc6c927f24f1eb3e9c8f4c13e9a47",
       "style": "IPY_MODEL_69c3234e29ed4010844efa26d85e3335"
      }
     },
     "f537300535d64fedbee34bc656507be1": {
      "model_module": "@jupyter-widgets/controls",
      "model_module_version": "1.5.0",
      "model_name": "RadioButtonsModel",
      "state": {
       "_options_labels": [
        "s2-landsat78-4class_6950472",
        "sat_RGB_2class_7384255",
        "sat_RGB_4class_6950472"
       ],
       "description": "Select Model:",
       "index": 0,
       "layout": "IPY_MODEL_68b02c10612e463bbb64f63bd8fefd29",
       "style": "IPY_MODEL_a0de4eeedf3b4f23829744b98e26e30e"
      }
     },
     "f5f3bd2cb63f422d94fed037a8c86a8e": {
      "model_module": "jupyter-leaflet",
      "model_module_version": "^0.17.0",
      "model_name": "LeafletTileLayerModel",
      "state": {
       "_model_module_version": "^0.17.0",
       "_view_module_version": "^0.17.0",
       "attribution": "Map data: (C) OpenStreetMap contributors | Map style: (C) OpenRailwayMap (CC-BY-SA)",
       "max_zoom": 19,
       "name": "OpenRailwayMap",
       "options": [
        "attribution",
        "bounds",
        "detect_retina",
        "max_native_zoom",
        "max_zoom",
        "min_native_zoom",
        "min_zoom",
        "no_wrap",
        "tile_size",
        "tms"
       ],
       "url": "https://a.tiles.openrailwaymap.org/standard/{z}/{x}/{y}.png"
      }
     },
     "f759350f14554f3ab1efffb46123663b": {
      "model_module": "jupyter-leaflet",
      "model_module_version": "^0.17.0",
      "model_name": "LeafletTileLayerModel",
      "state": {
       "_model_module_version": "^0.17.0",
       "_view_module_version": "^0.17.0",
       "attribution": "Geoportail France",
       "max_zoom": 19,
       "name": "GeoportailFrance.Orthoimagery_Orthophotos_Irc_express_2020",
       "options": [
        "attribution",
        "bounds",
        "detect_retina",
        "max_native_zoom",
        "max_zoom",
        "min_native_zoom",
        "min_zoom",
        "no_wrap",
        "tile_size",
        "tms"
       ],
       "url": "https://wxs.ign.fr/orthohisto/geoportail/wmts?REQUEST=GetTile&SERVICE=WMTS&VERSION=1.0.0&STYLE=normal&TILEMATRIXSET=PM&FORMAT=image/jpeg&LAYER=ORTHOIMAGERY.ORTHOPHOTOS.IRC-EXPRESS.2020&TILEMATRIX={z}&TILEROW={y}&TILECOL={x}"
      }
     },
     "f76793ee4cb043c98d96be007bfafef1": {
      "model_module": "jupyter-leaflet",
      "model_module_version": "^0.17.0",
      "model_name": "LeafletTileLayerModel",
      "state": {
       "_model_module_version": "^0.17.0",
       "_view_module_version": "^0.17.0",
       "attribution": "Geoportail France",
       "max_zoom": 16,
       "name": "GeoportailFrance.Protectedareas_Znieff2_Sea",
       "options": [
        "attribution",
        "bounds",
        "detect_retina",
        "max_native_zoom",
        "max_zoom",
        "min_native_zoom",
        "min_zoom",
        "no_wrap",
        "tile_size",
        "tms"
       ],
       "url": "https://wxs.ign.fr/environnement/geoportail/wmts?REQUEST=GetTile&SERVICE=WMTS&VERSION=1.0.0&STYLE=normal&TILEMATRIXSET=PM&FORMAT=image/png&LAYER=PROTECTEDAREAS.ZNIEFF2.SEA&TILEMATRIX={z}&TILEROW={y}&TILECOL={x}"
      }
     },
     "f76a848bbcd44c18b6cd6b86cac0261a": {
      "model_module": "jupyter-leaflet",
      "model_module_version": "^0.17.0",
      "model_name": "LeafletTileLayerModel",
      "state": {
       "_model_module_version": "^0.17.0",
       "_view_module_version": "^0.17.0",
       "attribution": "Geoportail France",
       "max_zoom": 16,
       "name": "GeoportailFrance.Landcover_Clc12r_fr",
       "options": [
        "attribution",
        "bounds",
        "detect_retina",
        "max_native_zoom",
        "max_zoom",
        "min_native_zoom",
        "min_zoom",
        "no_wrap",
        "tile_size",
        "tms"
       ],
       "url": "https://wxs.ign.fr/clc/geoportail/wmts?REQUEST=GetTile&SERVICE=WMTS&VERSION=1.0.0&STYLE=CORINE Land Cover - France métropolitaine&TILEMATRIXSET=PM&FORMAT=image/png&LAYER=LANDCOVER.CLC12R_FR&TILEMATRIX={z}&TILEROW={y}&TILECOL={x}"
      }
     },
     "f7d0bc4cfff3431cab85ad882ae4cbb4": {
      "model_module": "@jupyter-widgets/base",
      "model_module_version": "1.2.0",
      "model_name": "LayoutModel",
      "state": {}
     },
     "f8017d98068d415783e4fcb660af6432": {
      "model_module": "jupyter-leaflet",
      "model_module_version": "^0.17.0",
      "model_name": "LeafletTileLayerModel",
      "state": {
       "_model_module_version": "^0.17.0",
       "_view_module_version": "^0.17.0",
       "attribution": "Tiles courtesy of the U.S. Geological Survey",
       "max_zoom": 20,
       "name": "USGS.USTopo",
       "options": [
        "attribution",
        "bounds",
        "detect_retina",
        "max_native_zoom",
        "max_zoom",
        "min_native_zoom",
        "min_zoom",
        "no_wrap",
        "tile_size",
        "tms"
       ],
       "url": "https://basemap.nationalmap.gov/arcgis/rest/services/USGSTopo/MapServer/tile/{z}/{y}/{x}"
      }
     },
     "f833c8f92896420ca3fe4248e64126ff": {
      "model_module": "jupyter-leaflet",
      "model_module_version": "^0.17.0",
      "model_name": "LeafletWMSLayerModel",
      "state": {
       "_model_module_version": "^0.17.0",
       "_view_module_version": "^0.17.0",
       "attribution": "ESA",
       "crs": {
        "custom": false,
        "name": "EPSG3857"
       },
       "format": "image/png",
       "layers": "WORLDCOVER_2020_S2_FCC",
       "name": "ESA Worldcover 2020 S2 FCC",
       "options": [
        "attribution",
        "bounds",
        "detect_retina",
        "format",
        "layers",
        "max_native_zoom",
        "max_zoom",
        "min_native_zoom",
        "min_zoom",
        "no_wrap",
        "styles",
        "tile_size",
        "tms",
        "transparent",
        "uppercase"
       ],
       "transparent": true,
       "url": "https://services.terrascope.be/wms/v2"
      }
     },
     "f8e0b5bfcfac431baf92d201e378d8d3": {
      "model_module": "jupyter-leaflet",
      "model_module_version": "^0.17.0",
      "model_name": "LeafletTileLayerModel",
      "state": {
       "_model_module_version": "^0.17.0",
       "_view_module_version": "^0.17.0",
       "attribution": "Tiles (C) Esri -- Copyright: (C)2012 DeLorme",
       "max_zoom": 11,
       "name": "Esri.DeLorme",
       "options": [
        "attribution",
        "bounds",
        "detect_retina",
        "max_native_zoom",
        "max_zoom",
        "min_native_zoom",
        "min_zoom",
        "no_wrap",
        "tile_size",
        "tms"
       ],
       "url": "https://server.arcgisonline.com/ArcGIS/rest/services/Specialty/DeLorme_World_Base_Map/MapServer/tile/{z}/{y}/{x}"
      }
     },
     "fa5d94a7e3034d68a5556df6c6de7f7e": {
      "model_module": "jupyter-leaflet",
      "model_module_version": "^0.17.0",
      "model_name": "LeafletTileLayerModel",
      "state": {
       "_model_module_version": "^0.17.0",
       "_view_module_version": "^0.17.0",
       "attribution": "(C) OpenStreetMap contributors & USGS",
       "max_zoom": 22,
       "name": "MtbMap",
       "options": [
        "attribution",
        "bounds",
        "detect_retina",
        "max_native_zoom",
        "max_zoom",
        "min_native_zoom",
        "min_zoom",
        "no_wrap",
        "tile_size",
        "tms"
       ],
       "url": "http://tile.mtbmap.cz/mtbmap_tiles/{z}/{x}/{y}.png"
      }
     },
     "fa7b9e06a8ac4a5c97bbe9bd96931515": {
      "model_module": "jupyter-leaflet",
      "model_module_version": "^0.17.0",
      "model_name": "LeafletTileLayerModel",
      "state": {
       "_model_module_version": "^0.17.0",
       "_view_module_version": "^0.17.0",
       "attribution": "(C) OpenStreetMap contributors",
       "max_zoom": 19,
       "name": "HikeBike.HikeBike",
       "options": [
        "attribution",
        "bounds",
        "detect_retina",
        "max_native_zoom",
        "max_zoom",
        "min_native_zoom",
        "min_zoom",
        "no_wrap",
        "tile_size",
        "tms"
       ],
       "url": "https://tiles.wmflabs.org/hikebike/{z}/{x}/{y}.png"
      }
     },
     "fb65ea9b55fb46b79657c9b77ed743c8": {
      "model_module": "jupyter-leaflet",
      "model_module_version": "^0.17.0",
      "model_name": "LeafletTileLayerModel",
      "state": {
       "_model_module_version": "^0.17.0",
       "_view_module_version": "^0.17.0",
       "attribution": "Geoportail France",
       "max_zoom": 16,
       "name": "GeoportailFrance.Protectedareas_Znieff1",
       "options": [
        "attribution",
        "bounds",
        "detect_retina",
        "max_native_zoom",
        "max_zoom",
        "min_native_zoom",
        "min_zoom",
        "no_wrap",
        "tile_size",
        "tms"
       ],
       "url": "https://wxs.ign.fr/environnement/geoportail/wmts?REQUEST=GetTile&SERVICE=WMTS&VERSION=1.0.0&STYLE=normal&TILEMATRIXSET=PM&FORMAT=image/png&LAYER=PROTECTEDAREAS.ZNIEFF1&TILEMATRIX={z}&TILEROW={y}&TILECOL={x}"
      }
     },
     "fbfcb577cac04434a7d227d179e25b1c": {
      "model_module": "@jupyter-widgets/base",
      "model_module_version": "1.2.0",
      "model_name": "LayoutModel",
      "state": {}
     },
     "fc2c178483e34df080a39367af43ac1b": {
      "model_module": "jupyter-leaflet",
      "model_module_version": "^0.17.0",
      "model_name": "LeafletTileLayerModel",
      "state": {
       "_model_module_version": "^0.17.0",
       "_view_module_version": "^0.17.0",
       "attribution": "Geoportail France",
       "name": "GeoportailFrance.Orthoimagery_Orthophotos2011",
       "options": [
        "attribution",
        "bounds",
        "detect_retina",
        "max_native_zoom",
        "max_zoom",
        "min_native_zoom",
        "min_zoom",
        "no_wrap",
        "tile_size",
        "tms"
       ],
       "url": "https://wxs.ign.fr/orthohisto/geoportail/wmts?REQUEST=GetTile&SERVICE=WMTS&VERSION=1.0.0&STYLE=normal&TILEMATRIXSET=PM&FORMAT=image/jpeg&LAYER=ORTHOIMAGERY.ORTHOPHOTOS2011&TILEMATRIX={z}&TILEROW={y}&TILECOL={x}"
      }
     },
     "fd18385d44764b85b447d21ac624fe65": {
      "model_module": "jupyter-leaflet",
      "model_module_version": "^0.17.0",
      "model_name": "LeafletTileLayerModel",
      "state": {
       "_model_module_version": "^0.17.0",
       "_view_module_version": "^0.17.0",
       "attribution": "Tiles &copy; Esri &mdash; Esri, DeLorme, NAVTEQ, TomTom, Intermap, iPC, USGS, FAO, NPS, NRCAN, GeoBase, Kadaster NL, Ordnance Survey, Esri Japan, METI, Esri China (Hong Kong), and the GIS User Community",
       "max_zoom": 24,
       "name": "Esri.ArcticOceanReference",
       "options": [
        "attribution",
        "bounds",
        "detect_retina",
        "max_native_zoom",
        "max_zoom",
        "min_native_zoom",
        "min_zoom",
        "no_wrap",
        "tile_size",
        "tms"
       ],
       "url": "http://server.arcgisonline.com/ArcGIS/rest/services/Polar/Arctic_Ocean_Reference/MapServer/tile/{z}/{y}/{x}"
      }
     },
     "fd38214486d646d59fe7accbf366246f": {
      "model_module": "jupyter-leaflet",
      "model_module_version": "^0.17.0",
      "model_name": "LeafletTileLayerModel",
      "state": {
       "_model_module_version": "^0.17.0",
       "_view_module_version": "^0.17.0",
       "attribution": "Geoportail France",
       "max_zoom": 16,
       "name": "GeoportailFrance.Ocsge_Usage_2002",
       "options": [
        "attribution",
        "bounds",
        "detect_retina",
        "max_native_zoom",
        "max_zoom",
        "min_native_zoom",
        "min_zoom",
        "no_wrap",
        "tile_size",
        "tms"
       ],
       "url": "https://wxs.ign.fr/ocsge/geoportail/wmts?REQUEST=GetTile&SERVICE=WMTS&VERSION=1.0.0&STYLE=normal&TILEMATRIXSET=PM&FORMAT=image/png&LAYER=OCSGE.USAGE.2002&TILEMATRIX={z}&TILEROW={y}&TILECOL={x}"
      }
     },
     "fd784b1fdeb3418eb1d1e3baff13c22c": {
      "model_module": "jupyter-leaflet",
      "model_module_version": "^0.17.0",
      "model_name": "LeafletTileLayerModel",
      "state": {
       "_model_module_version": "^0.17.0",
       "_view_module_version": "^0.17.0",
       "attribution": "Tiles courtesy of the U.S. Geological Survey",
       "max_zoom": 20,
       "name": "USGS.USImagery",
       "options": [
        "attribution",
        "bounds",
        "detect_retina",
        "max_native_zoom",
        "max_zoom",
        "min_native_zoom",
        "min_zoom",
        "no_wrap",
        "tile_size",
        "tms"
       ],
       "url": "https://basemap.nationalmap.gov/arcgis/rest/services/USGSImageryOnly/MapServer/tile/{z}/{y}/{x}"
      }
     },
     "fdd0f303e5a64e63bde86f2e58dd7a44": {
      "model_module": "jupyter-leaflet",
      "model_module_version": "^0.17.0",
      "model_name": "LeafletTileLayerModel",
      "state": {
       "_model_module_version": "^0.17.0",
       "_view_module_version": "^0.17.0",
       "attribution": "Geoportail France",
       "max_zoom": 16,
       "name": "GeoportailFrance.Landuse_Agriculture2015",
       "options": [
        "attribution",
        "bounds",
        "detect_retina",
        "max_native_zoom",
        "max_zoom",
        "min_native_zoom",
        "min_zoom",
        "no_wrap",
        "tile_size",
        "tms"
       ],
       "url": "https://wxs.ign.fr/agriculture/geoportail/wmts?REQUEST=GetTile&SERVICE=WMTS&VERSION=1.0.0&STYLE=normal&TILEMATRIXSET=PM&FORMAT=image/png&LAYER=LANDUSE.AGRICULTURE2015&TILEMATRIX={z}&TILEROW={y}&TILECOL={x}"
      }
     },
     "ff0455f0a1664eccac7959a1285fbe3d": {
      "model_module": "jupyter-leaflet",
      "model_module_version": "^0.17.0",
      "model_name": "LeafletTileLayerModel",
      "state": {
       "_model_module_version": "^0.17.0",
       "_view_module_version": "^0.17.0",
       "attribution": "Geoportail France",
       "max_zoom": 16,
       "name": "GeoportailFrance.Ocsge_Constructions_2002",
       "options": [
        "attribution",
        "bounds",
        "detect_retina",
        "max_native_zoom",
        "max_zoom",
        "min_native_zoom",
        "min_zoom",
        "no_wrap",
        "tile_size",
        "tms"
       ],
       "url": "https://wxs.ign.fr/ocsge/geoportail/wmts?REQUEST=GetTile&SERVICE=WMTS&VERSION=1.0.0&STYLE=nolegend&TILEMATRIXSET=PM&FORMAT=image/png&LAYER=OCSGE.CONSTRUCTIONS.2002&TILEMATRIX={z}&TILEROW={y}&TILECOL={x}"
      }
     }
    },
    "version_major": 2,
    "version_minor": 0
   }
  }
 },
 "nbformat": 4,
 "nbformat_minor": 5
}
